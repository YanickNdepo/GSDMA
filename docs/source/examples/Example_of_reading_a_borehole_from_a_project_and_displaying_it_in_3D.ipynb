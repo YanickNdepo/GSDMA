{
 "cells": [
  {
   "cell_type": "markdown",
   "metadata": {},
   "source": [
    "# Example of using the Borehole3D class"
   ]
  },
  {
   "cell_type": "markdown",
   "metadata": {},
   "source": [
    "### Imports"
   ]
  },
  {
   "cell_type": "code",
   "execution_count": 11,
   "metadata": {},
   "outputs": [],
   "source": [
    "import matplotlib.pyplot as plt\n",
    "from striplog import Component, Decor, Legend, Interval, Position\n",
    "from core.omf import Borehole3D, striplog_legend_to_omf_legend \n",
    "from sqlalchemy import create_engine\n",
    "from sqlalchemy.orm import sessionmaker\n",
    "from core.core import Project\n",
    "from utils.orm import get_interval_list"
   ]
  },
  {
   "cell_type": "markdown",
   "metadata": {},
   "source": [
    "### Define the components and the way to display them"
   ]
  },
  {
   "cell_type": "code",
   "execution_count": 2,
   "metadata": {},
   "outputs": [],
   "source": [
    "components = [Component({'lithology': 'siltstone', 'colour': 'grey'}),\n",
    "              Component({'lithology': 'anhydrite'}),\n",
    "              Component({'lithology': 'sandstone', 'grainsize': 'vf-f', 'colour': 'grey'}),\n",
    "              Component({'lithology': 'dolomite'}),\n",
    "              Component({'lithology': 'siltstone', 'colour': 'red'}),\n",
    "              Component({'lithology': 'limestone'})]\n",
    "list_of_decors=[]\n",
    "hatches = ['=', 'x', '.', 's', '=', 'b']\n",
    "colours = ['#888888', '#882222', '#AAAAAA', '#CC22CC', '#CC2222', '#2222CC']\n",
    "for i in range(len(components)):\n",
    "    d = {'color': colours[i],\n",
    "         'hatch': hatches[i],\n",
    "         'component': components[i],\n",
    "         'width': 3}\n",
    "    decor = Decor(d)\n",
    "    list_of_decors.append(decor)\n",
    "legend = Legend(list_of_decors)"
   ]
  },
  {
   "cell_type": "markdown",
   "metadata": {},
   "source": [
    "## Get the interval list"
   ]
  },
  {
   "cell_type": "code",
   "execution_count": 3,
   "metadata": {},
   "outputs": [],
   "source": [
    "engine = create_engine('sqlite:///tmp/test_orm_db.db', echo=True)"
   ]
  },
  {
   "cell_type": "code",
   "execution_count": 4,
   "metadata": {},
   "outputs": [],
   "source": [
    "Session = sessionmaker(bind=engine)\n",
    "session = Session()"
   ]
  },
  {
   "cell_type": "markdown",
   "metadata": {},
   "source": [
    "### Create the Borehole 3D object using the legend"
   ]
  },
  {
   "cell_type": "code",
   "execution_count": 5,
   "metadata": {},
   "outputs": [
    {
     "name": "stdout",
     "output_type": "stream",
     "text": [
      "2020-12-22 15:44:14,258 INFO sqlalchemy.engine.base.Engine SELECT CAST('test plain returns' AS VARCHAR(60)) AS anon_1\n",
      "2020-12-22 15:44:14,259 INFO sqlalchemy.engine.base.Engine ()\n",
      "2020-12-22 15:44:14,264 INFO sqlalchemy.engine.base.Engine SELECT CAST('test unicode returns' AS VARCHAR(60)) AS anon_1\n",
      "2020-12-22 15:44:14,265 INFO sqlalchemy.engine.base.Engine ()\n",
      "2020-12-22 15:44:14,269 INFO sqlalchemy.engine.base.Engine BEGIN (implicit)\n",
      "2020-12-22 15:44:14,272 INFO sqlalchemy.engine.base.Engine SELECT \"Boreholes\".id AS \"Boreholes_id\" \n",
      "FROM \"Boreholes\"\n",
      "2020-12-22 15:44:14,274 INFO sqlalchemy.engine.base.Engine ()\n",
      "2020-12-22 15:44:14,284 INFO sqlalchemy.engine.base.Engine SELECT \"Intervals\".id AS \"Intervals_id\", \"Intervals\".borehole AS \"Intervals_borehole\", \"Intervals\".interval_number AS \"Intervals_interval_number\", \"Intervals\".description AS \"Intervals_description\", \"Intervals\".top_id AS \"Intervals_top_id\", \"Intervals\".base_id AS \"Intervals_base_id\" \n",
      "FROM \"Intervals\" \n",
      "WHERE ? = \"Intervals\".borehole\n",
      "2020-12-22 15:44:14,286 INFO sqlalchemy.engine.base.Engine ('F01',)\n",
      "2020-12-22 15:44:14,292 INFO sqlalchemy.engine.base.Engine SELECT \"Positions\".id AS \"Positions_id\", \"Positions\".upper AS \"Positions_upper\", \"Positions\".middle AS \"Positions_middle\", \"Positions\".lower AS \"Positions_lower\", \"Positions\".x AS \"Positions_x\", \"Positions\".y AS \"Positions_y\" \n",
      "FROM \"Positions\" \n",
      "WHERE \"Positions\".id = ?\n",
      "2020-12-22 15:44:14,298 INFO sqlalchemy.engine.base.Engine (0,)\n",
      "2020-12-22 15:44:14,302 INFO sqlalchemy.engine.base.Engine SELECT \"Positions\".id AS \"Positions_id\", \"Positions\".upper AS \"Positions_upper\", \"Positions\".middle AS \"Positions_middle\", \"Positions\".lower AS \"Positions_lower\", \"Positions\".x AS \"Positions_x\", \"Positions\".y AS \"Positions_y\" \n",
      "FROM \"Positions\" \n",
      "WHERE \"Positions\".id = ?\n",
      "2020-12-22 15:44:14,303 INFO sqlalchemy.engine.base.Engine (1,)\n",
      "2020-12-22 15:44:14,318 INFO sqlalchemy.engine.base.Engine SELECT \"Positions\".id AS \"Positions_id\", \"Positions\".upper AS \"Positions_upper\", \"Positions\".middle AS \"Positions_middle\", \"Positions\".lower AS \"Positions_lower\", \"Positions\".x AS \"Positions_x\", \"Positions\".y AS \"Positions_y\" \n",
      "FROM \"Positions\" \n",
      "WHERE \"Positions\".id = ?\n",
      "2020-12-22 15:44:14,320 INFO sqlalchemy.engine.base.Engine (2,)\n",
      "2020-12-22 15:44:14,322 INFO sqlalchemy.engine.base.Engine SELECT \"Positions\".id AS \"Positions_id\", \"Positions\".upper AS \"Positions_upper\", \"Positions\".middle AS \"Positions_middle\", \"Positions\".lower AS \"Positions_lower\", \"Positions\".x AS \"Positions_x\", \"Positions\".y AS \"Positions_y\" \n",
      "FROM \"Positions\" \n",
      "WHERE \"Positions\".id = ?\n",
      "2020-12-22 15:44:14,326 INFO sqlalchemy.engine.base.Engine (3,)\n",
      "2020-12-22 15:44:14,328 INFO sqlalchemy.engine.base.Engine SELECT \"Positions\".id AS \"Positions_id\", \"Positions\".upper AS \"Positions_upper\", \"Positions\".middle AS \"Positions_middle\", \"Positions\".lower AS \"Positions_lower\", \"Positions\".x AS \"Positions_x\", \"Positions\".y AS \"Positions_y\" \n",
      "FROM \"Positions\" \n",
      "WHERE \"Positions\".id = ?\n",
      "2020-12-22 15:44:14,329 INFO sqlalchemy.engine.base.Engine (4,)\n",
      "2020-12-22 15:44:14,331 INFO sqlalchemy.engine.base.Engine SELECT \"Positions\".id AS \"Positions_id\", \"Positions\".upper AS \"Positions_upper\", \"Positions\".middle AS \"Positions_middle\", \"Positions\".lower AS \"Positions_lower\", \"Positions\".x AS \"Positions_x\", \"Positions\".y AS \"Positions_y\" \n",
      "FROM \"Positions\" \n",
      "WHERE \"Positions\".id = ?\n",
      "2020-12-22 15:44:14,333 INFO sqlalchemy.engine.base.Engine (5,)\n",
      "2020-12-22 15:44:14,335 INFO sqlalchemy.engine.base.Engine SELECT \"Positions\".id AS \"Positions_id\", \"Positions\".upper AS \"Positions_upper\", \"Positions\".middle AS \"Positions_middle\", \"Positions\".lower AS \"Positions_lower\", \"Positions\".x AS \"Positions_x\", \"Positions\".y AS \"Positions_y\" \n",
      "FROM \"Positions\" \n",
      "WHERE \"Positions\".id = ?\n",
      "2020-12-22 15:44:14,336 INFO sqlalchemy.engine.base.Engine (6,)\n",
      "2020-12-22 15:44:14,338 INFO sqlalchemy.engine.base.Engine SELECT \"Positions\".id AS \"Positions_id\", \"Positions\".upper AS \"Positions_upper\", \"Positions\".middle AS \"Positions_middle\", \"Positions\".lower AS \"Positions_lower\", \"Positions\".x AS \"Positions_x\", \"Positions\".y AS \"Positions_y\" \n",
      "FROM \"Positions\" \n",
      "WHERE \"Positions\".id = ?\n",
      "2020-12-22 15:44:14,340 INFO sqlalchemy.engine.base.Engine (7,)\n",
      "2020-12-22 15:44:14,342 INFO sqlalchemy.engine.base.Engine SELECT \"Positions\".id AS \"Positions_id\", \"Positions\".upper AS \"Positions_upper\", \"Positions\".middle AS \"Positions_middle\", \"Positions\".lower AS \"Positions_lower\", \"Positions\".x AS \"Positions_x\", \"Positions\".y AS \"Positions_y\" \n",
      "FROM \"Positions\" \n",
      "WHERE \"Positions\".id = ?\n",
      "2020-12-22 15:44:14,344 INFO sqlalchemy.engine.base.Engine (8,)\n",
      "2020-12-22 15:44:14,346 INFO sqlalchemy.engine.base.Engine SELECT \"Positions\".id AS \"Positions_id\", \"Positions\".upper AS \"Positions_upper\", \"Positions\".middle AS \"Positions_middle\", \"Positions\".lower AS \"Positions_lower\", \"Positions\".x AS \"Positions_x\", \"Positions\".y AS \"Positions_y\" \n",
      "FROM \"Positions\" \n",
      "WHERE \"Positions\".id = ?\n",
      "2020-12-22 15:44:14,349 INFO sqlalchemy.engine.base.Engine (9,)\n",
      "2020-12-22 15:44:14,351 INFO sqlalchemy.engine.base.Engine SELECT \"Positions\".id AS \"Positions_id\", \"Positions\".upper AS \"Positions_upper\", \"Positions\".middle AS \"Positions_middle\", \"Positions\".lower AS \"Positions_lower\", \"Positions\".x AS \"Positions_x\", \"Positions\".y AS \"Positions_y\" \n",
      "FROM \"Positions\" \n",
      "WHERE \"Positions\".id = ?\n",
      "2020-12-22 15:44:14,352 INFO sqlalchemy.engine.base.Engine (10,)\n",
      "2020-12-22 15:44:14,354 INFO sqlalchemy.engine.base.Engine SELECT \"Positions\".id AS \"Positions_id\", \"Positions\".upper AS \"Positions_upper\", \"Positions\".middle AS \"Positions_middle\", \"Positions\".lower AS \"Positions_lower\", \"Positions\".x AS \"Positions_x\", \"Positions\".y AS \"Positions_y\" \n",
      "FROM \"Positions\" \n",
      "WHERE \"Positions\".id = ?\n",
      "2020-12-22 15:44:14,355 INFO sqlalchemy.engine.base.Engine (11,)\n",
      "2020-12-22 15:44:14,358 INFO sqlalchemy.engine.base.Engine SELECT \"Positions\".id AS \"Positions_id\", \"Positions\".upper AS \"Positions_upper\", \"Positions\".middle AS \"Positions_middle\", \"Positions\".lower AS \"Positions_lower\", \"Positions\".x AS \"Positions_x\", \"Positions\".y AS \"Positions_y\" \n",
      "FROM \"Positions\" \n",
      "WHERE \"Positions\".id = ?\n",
      "2020-12-22 15:44:14,360 INFO sqlalchemy.engine.base.Engine (12,)\n",
      "2020-12-22 15:44:14,362 INFO sqlalchemy.engine.base.Engine SELECT \"Positions\".id AS \"Positions_id\", \"Positions\".upper AS \"Positions_upper\", \"Positions\".middle AS \"Positions_middle\", \"Positions\".lower AS \"Positions_lower\", \"Positions\".x AS \"Positions_x\", \"Positions\".y AS \"Positions_y\" \n",
      "FROM \"Positions\" \n",
      "WHERE \"Positions\".id = ?\n",
      "2020-12-22 15:44:14,364 INFO sqlalchemy.engine.base.Engine (13,)\n",
      "2020-12-22 15:44:14,366 INFO sqlalchemy.engine.base.Engine SELECT \"Positions\".id AS \"Positions_id\", \"Positions\".upper AS \"Positions_upper\", \"Positions\".middle AS \"Positions_middle\", \"Positions\".lower AS \"Positions_lower\", \"Positions\".x AS \"Positions_x\", \"Positions\".y AS \"Positions_y\" \n",
      "FROM \"Positions\" \n",
      "WHERE \"Positions\".id = ?\n",
      "2020-12-22 15:44:14,367 INFO sqlalchemy.engine.base.Engine (14,)\n",
      "2020-12-22 15:44:14,369 INFO sqlalchemy.engine.base.Engine SELECT \"Positions\".id AS \"Positions_id\", \"Positions\".upper AS \"Positions_upper\", \"Positions\".middle AS \"Positions_middle\", \"Positions\".lower AS \"Positions_lower\", \"Positions\".x AS \"Positions_x\", \"Positions\".y AS \"Positions_y\" \n",
      "FROM \"Positions\" \n",
      "WHERE \"Positions\".id = ?\n",
      "2020-12-22 15:44:14,370 INFO sqlalchemy.engine.base.Engine (15,)\n",
      "2020-12-22 15:44:14,372 INFO sqlalchemy.engine.base.Engine SELECT \"Positions\".id AS \"Positions_id\", \"Positions\".upper AS \"Positions_upper\", \"Positions\".middle AS \"Positions_middle\", \"Positions\".lower AS \"Positions_lower\", \"Positions\".x AS \"Positions_x\", \"Positions\".y AS \"Positions_y\" \n",
      "FROM \"Positions\" \n",
      "WHERE \"Positions\".id = ?\n",
      "2020-12-22 15:44:14,373 INFO sqlalchemy.engine.base.Engine (16,)\n",
      "2020-12-22 15:44:14,375 INFO sqlalchemy.engine.base.Engine SELECT \"Positions\".id AS \"Positions_id\", \"Positions\".upper AS \"Positions_upper\", \"Positions\".middle AS \"Positions_middle\", \"Positions\".lower AS \"Positions_lower\", \"Positions\".x AS \"Positions_x\", \"Positions\".y AS \"Positions_y\" \n",
      "FROM \"Positions\" \n",
      "WHERE \"Positions\".id = ?\n",
      "2020-12-22 15:44:14,376 INFO sqlalchemy.engine.base.Engine (17,)\n",
      "2020-12-22 15:44:14,379 INFO sqlalchemy.engine.base.Engine SELECT \"Positions\".id AS \"Positions_id\", \"Positions\".upper AS \"Positions_upper\", \"Positions\".middle AS \"Positions_middle\", \"Positions\".lower AS \"Positions_lower\", \"Positions\".x AS \"Positions_x\", \"Positions\".y AS \"Positions_y\" \n",
      "FROM \"Positions\" \n",
      "WHERE \"Positions\".id = ?\n"
     ]
    },
    {
     "name": "stdout",
     "output_type": "stream",
     "text": [
      "2020-12-22 15:44:14,380 INFO sqlalchemy.engine.base.Engine (18,)\n",
      "2020-12-22 15:44:14,382 INFO sqlalchemy.engine.base.Engine SELECT \"Positions\".id AS \"Positions_id\", \"Positions\".upper AS \"Positions_upper\", \"Positions\".middle AS \"Positions_middle\", \"Positions\".lower AS \"Positions_lower\", \"Positions\".x AS \"Positions_x\", \"Positions\".y AS \"Positions_y\" \n",
      "FROM \"Positions\" \n",
      "WHERE \"Positions\".id = ?\n",
      "2020-12-22 15:44:14,384 INFO sqlalchemy.engine.base.Engine (19,)\n",
      "2020-12-22 15:44:14,386 INFO sqlalchemy.engine.base.Engine SELECT \"Positions\".id AS \"Positions_id\", \"Positions\".upper AS \"Positions_upper\", \"Positions\".middle AS \"Positions_middle\", \"Positions\".lower AS \"Positions_lower\", \"Positions\".x AS \"Positions_x\", \"Positions\".y AS \"Positions_y\" \n",
      "FROM \"Positions\" \n",
      "WHERE \"Positions\".id = ?\n",
      "2020-12-22 15:44:14,388 INFO sqlalchemy.engine.base.Engine (20,)\n",
      "2020-12-22 15:44:14,390 INFO sqlalchemy.engine.base.Engine SELECT \"Positions\".id AS \"Positions_id\", \"Positions\".upper AS \"Positions_upper\", \"Positions\".middle AS \"Positions_middle\", \"Positions\".lower AS \"Positions_lower\", \"Positions\".x AS \"Positions_x\", \"Positions\".y AS \"Positions_y\" \n",
      "FROM \"Positions\" \n",
      "WHERE \"Positions\".id = ?\n",
      "2020-12-22 15:44:14,394 INFO sqlalchemy.engine.base.Engine (21,)\n",
      "2020-12-22 15:44:14,396 INFO sqlalchemy.engine.base.Engine SELECT \"Positions\".id AS \"Positions_id\", \"Positions\".upper AS \"Positions_upper\", \"Positions\".middle AS \"Positions_middle\", \"Positions\".lower AS \"Positions_lower\", \"Positions\".x AS \"Positions_x\", \"Positions\".y AS \"Positions_y\" \n",
      "FROM \"Positions\" \n",
      "WHERE \"Positions\".id = ?\n",
      "2020-12-22 15:44:14,398 INFO sqlalchemy.engine.base.Engine (22,)\n",
      "2020-12-22 15:44:14,400 INFO sqlalchemy.engine.base.Engine SELECT \"Positions\".id AS \"Positions_id\", \"Positions\".upper AS \"Positions_upper\", \"Positions\".middle AS \"Positions_middle\", \"Positions\".lower AS \"Positions_lower\", \"Positions\".x AS \"Positions_x\", \"Positions\".y AS \"Positions_y\" \n",
      "FROM \"Positions\" \n",
      "WHERE \"Positions\".id = ?\n",
      "2020-12-22 15:44:14,401 INFO sqlalchemy.engine.base.Engine (23,)\n",
      "2020-12-22 15:44:14,403 INFO sqlalchemy.engine.base.Engine SELECT \"Positions\".id AS \"Positions_id\", \"Positions\".upper AS \"Positions_upper\", \"Positions\".middle AS \"Positions_middle\", \"Positions\".lower AS \"Positions_lower\", \"Positions\".x AS \"Positions_x\", \"Positions\".y AS \"Positions_y\" \n",
      "FROM \"Positions\" \n",
      "WHERE \"Positions\".id = ?\n",
      "2020-12-22 15:44:14,404 INFO sqlalchemy.engine.base.Engine (24,)\n",
      "2020-12-22 15:44:14,408 INFO sqlalchemy.engine.base.Engine SELECT \"Positions\".id AS \"Positions_id\", \"Positions\".upper AS \"Positions_upper\", \"Positions\".middle AS \"Positions_middle\", \"Positions\".lower AS \"Positions_lower\", \"Positions\".x AS \"Positions_x\", \"Positions\".y AS \"Positions_y\" \n",
      "FROM \"Positions\" \n",
      "WHERE \"Positions\".id = ?\n",
      "2020-12-22 15:44:14,409 INFO sqlalchemy.engine.base.Engine (25,)\n",
      "2020-12-22 15:44:14,410 INFO sqlalchemy.engine.base.Engine SELECT \"Positions\".id AS \"Positions_id\", \"Positions\".upper AS \"Positions_upper\", \"Positions\".middle AS \"Positions_middle\", \"Positions\".lower AS \"Positions_lower\", \"Positions\".x AS \"Positions_x\", \"Positions\".y AS \"Positions_y\" \n",
      "FROM \"Positions\" \n",
      "WHERE \"Positions\".id = ?\n",
      "2020-12-22 15:44:14,412 INFO sqlalchemy.engine.base.Engine (26,)\n",
      "2020-12-22 15:44:14,413 INFO sqlalchemy.engine.base.Engine SELECT \"Positions\".id AS \"Positions_id\", \"Positions\".upper AS \"Positions_upper\", \"Positions\".middle AS \"Positions_middle\", \"Positions\".lower AS \"Positions_lower\", \"Positions\".x AS \"Positions_x\", \"Positions\".y AS \"Positions_y\" \n",
      "FROM \"Positions\" \n",
      "WHERE \"Positions\".id = ?\n",
      "2020-12-22 15:44:14,414 INFO sqlalchemy.engine.base.Engine (27,)\n",
      "2020-12-22 15:44:14,416 INFO sqlalchemy.engine.base.Engine SELECT \"Positions\".id AS \"Positions_id\", \"Positions\".upper AS \"Positions_upper\", \"Positions\".middle AS \"Positions_middle\", \"Positions\".lower AS \"Positions_lower\", \"Positions\".x AS \"Positions_x\", \"Positions\".y AS \"Positions_y\" \n",
      "FROM \"Positions\" \n",
      "WHERE \"Positions\".id = ?\n",
      "2020-12-22 15:44:14,417 INFO sqlalchemy.engine.base.Engine (28,)\n",
      "2020-12-22 15:44:14,419 INFO sqlalchemy.engine.base.Engine SELECT \"Positions\".id AS \"Positions_id\", \"Positions\".upper AS \"Positions_upper\", \"Positions\".middle AS \"Positions_middle\", \"Positions\".lower AS \"Positions_lower\", \"Positions\".x AS \"Positions_x\", \"Positions\".y AS \"Positions_y\" \n",
      "FROM \"Positions\" \n",
      "WHERE \"Positions\".id = ?\n",
      "2020-12-22 15:44:14,422 INFO sqlalchemy.engine.base.Engine (29,)\n",
      "2020-12-22 15:44:14,424 INFO sqlalchemy.engine.base.Engine SELECT \"Positions\".id AS \"Positions_id\", \"Positions\".upper AS \"Positions_upper\", \"Positions\".middle AS \"Positions_middle\", \"Positions\".lower AS \"Positions_lower\", \"Positions\".x AS \"Positions_x\", \"Positions\".y AS \"Positions_y\" \n",
      "FROM \"Positions\" \n",
      "WHERE \"Positions\".id = ?\n",
      "2020-12-22 15:44:14,426 INFO sqlalchemy.engine.base.Engine (30,)\n",
      "2020-12-22 15:44:14,428 INFO sqlalchemy.engine.base.Engine SELECT \"Positions\".id AS \"Positions_id\", \"Positions\".upper AS \"Positions_upper\", \"Positions\".middle AS \"Positions_middle\", \"Positions\".lower AS \"Positions_lower\", \"Positions\".x AS \"Positions_x\", \"Positions\".y AS \"Positions_y\" \n",
      "FROM \"Positions\" \n",
      "WHERE \"Positions\".id = ?\n",
      "2020-12-22 15:44:14,429 INFO sqlalchemy.engine.base.Engine (31,)\n",
      "2020-12-22 15:44:14,431 INFO sqlalchemy.engine.base.Engine SELECT \"Positions\".id AS \"Positions_id\", \"Positions\".upper AS \"Positions_upper\", \"Positions\".middle AS \"Positions_middle\", \"Positions\".lower AS \"Positions_lower\", \"Positions\".x AS \"Positions_x\", \"Positions\".y AS \"Positions_y\" \n",
      "FROM \"Positions\" \n",
      "WHERE \"Positions\".id = ?\n",
      "2020-12-22 15:44:14,432 INFO sqlalchemy.engine.base.Engine (32,)\n",
      "2020-12-22 15:44:14,433 INFO sqlalchemy.engine.base.Engine SELECT \"Positions\".id AS \"Positions_id\", \"Positions\".upper AS \"Positions_upper\", \"Positions\".middle AS \"Positions_middle\", \"Positions\".lower AS \"Positions_lower\", \"Positions\".x AS \"Positions_x\", \"Positions\".y AS \"Positions_y\" \n",
      "FROM \"Positions\" \n",
      "WHERE \"Positions\".id = ?\n",
      "2020-12-22 15:44:14,436 INFO sqlalchemy.engine.base.Engine (33,)\n",
      "2020-12-22 15:44:14,437 INFO sqlalchemy.engine.base.Engine SELECT \"Positions\".id AS \"Positions_id\", \"Positions\".upper AS \"Positions_upper\", \"Positions\".middle AS \"Positions_middle\", \"Positions\".lower AS \"Positions_lower\", \"Positions\".x AS \"Positions_x\", \"Positions\".y AS \"Positions_y\" \n",
      "FROM \"Positions\" \n",
      "WHERE \"Positions\".id = ?\n",
      "2020-12-22 15:44:14,438 INFO sqlalchemy.engine.base.Engine (34,)\n",
      "2020-12-22 15:44:14,439 INFO sqlalchemy.engine.base.Engine SELECT \"Positions\".id AS \"Positions_id\", \"Positions\".upper AS \"Positions_upper\", \"Positions\".middle AS \"Positions_middle\", \"Positions\".lower AS \"Positions_lower\", \"Positions\".x AS \"Positions_x\", \"Positions\".y AS \"Positions_y\" \n",
      "FROM \"Positions\" \n",
      "WHERE \"Positions\".id = ?\n",
      "2020-12-22 15:44:14,441 INFO sqlalchemy.engine.base.Engine (35,)\n",
      "2020-12-22 15:44:14,443 INFO sqlalchemy.engine.base.Engine SELECT \"Positions\".id AS \"Positions_id\", \"Positions\".upper AS \"Positions_upper\", \"Positions\".middle AS \"Positions_middle\", \"Positions\".lower AS \"Positions_lower\", \"Positions\".x AS \"Positions_x\", \"Positions\".y AS \"Positions_y\" \n",
      "FROM \"Positions\" \n",
      "WHERE \"Positions\".id = ?\n",
      "2020-12-22 15:44:14,444 INFO sqlalchemy.engine.base.Engine (36,)\n",
      "2020-12-22 15:44:14,445 INFO sqlalchemy.engine.base.Engine SELECT \"Positions\".id AS \"Positions_id\", \"Positions\".upper AS \"Positions_upper\", \"Positions\".middle AS \"Positions_middle\", \"Positions\".lower AS \"Positions_lower\", \"Positions\".x AS \"Positions_x\", \"Positions\".y AS \"Positions_y\" \n",
      "FROM \"Positions\" \n",
      "WHERE \"Positions\".id = ?\n",
      "2020-12-22 15:44:14,446 INFO sqlalchemy.engine.base.Engine (37,)\n",
      "2020-12-22 15:44:14,447 INFO sqlalchemy.engine.base.Engine SELECT \"Positions\".id AS \"Positions_id\", \"Positions\".upper AS \"Positions_upper\", \"Positions\".middle AS \"Positions_middle\", \"Positions\".lower AS \"Positions_lower\", \"Positions\".x AS \"Positions_x\", \"Positions\".y AS \"Positions_y\" \n",
      "FROM \"Positions\" \n",
      "WHERE \"Positions\".id = ?\n",
      "2020-12-22 15:44:14,450 INFO sqlalchemy.engine.base.Engine (38,)\n",
      "2020-12-22 15:44:14,452 INFO sqlalchemy.engine.base.Engine SELECT \"Positions\".id AS \"Positions_id\", \"Positions\".upper AS \"Positions_upper\", \"Positions\".middle AS \"Positions_middle\", \"Positions\".lower AS \"Positions_lower\", \"Positions\".x AS \"Positions_x\", \"Positions\".y AS \"Positions_y\" \n",
      "FROM \"Positions\" \n",
      "WHERE \"Positions\".id = ?\n"
     ]
    },
    {
     "name": "stdout",
     "output_type": "stream",
     "text": [
      "2020-12-22 15:44:14,455 INFO sqlalchemy.engine.base.Engine (39,)\n",
      "2020-12-22 15:44:14,457 INFO sqlalchemy.engine.base.Engine SELECT \"Positions\".id AS \"Positions_id\", \"Positions\".upper AS \"Positions_upper\", \"Positions\".middle AS \"Positions_middle\", \"Positions\".lower AS \"Positions_lower\", \"Positions\".x AS \"Positions_x\", \"Positions\".y AS \"Positions_y\" \n",
      "FROM \"Positions\" \n",
      "WHERE \"Positions\".id = ?\n",
      "2020-12-22 15:44:14,458 INFO sqlalchemy.engine.base.Engine (40,)\n",
      "2020-12-22 15:44:14,459 INFO sqlalchemy.engine.base.Engine SELECT \"Positions\".id AS \"Positions_id\", \"Positions\".upper AS \"Positions_upper\", \"Positions\".middle AS \"Positions_middle\", \"Positions\".lower AS \"Positions_lower\", \"Positions\".x AS \"Positions_x\", \"Positions\".y AS \"Positions_y\" \n",
      "FROM \"Positions\" \n",
      "WHERE \"Positions\".id = ?\n",
      "2020-12-22 15:44:14,460 INFO sqlalchemy.engine.base.Engine (41,)\n",
      "2020-12-22 15:44:14,462 INFO sqlalchemy.engine.base.Engine SELECT \"Positions\".id AS \"Positions_id\", \"Positions\".upper AS \"Positions_upper\", \"Positions\".middle AS \"Positions_middle\", \"Positions\".lower AS \"Positions_lower\", \"Positions\".x AS \"Positions_x\", \"Positions\".y AS \"Positions_y\" \n",
      "FROM \"Positions\" \n",
      "WHERE \"Positions\".id = ?\n",
      "2020-12-22 15:44:14,462 INFO sqlalchemy.engine.base.Engine (42,)\n",
      "2020-12-22 15:44:14,464 INFO sqlalchemy.engine.base.Engine SELECT \"Positions\".id AS \"Positions_id\", \"Positions\".upper AS \"Positions_upper\", \"Positions\".middle AS \"Positions_middle\", \"Positions\".lower AS \"Positions_lower\", \"Positions\".x AS \"Positions_x\", \"Positions\".y AS \"Positions_y\" \n",
      "FROM \"Positions\" \n",
      "WHERE \"Positions\".id = ?\n",
      "2020-12-22 15:44:14,467 INFO sqlalchemy.engine.base.Engine (43,)\n",
      "2020-12-22 15:44:14,468 INFO sqlalchemy.engine.base.Engine SELECT \"Positions\".id AS \"Positions_id\", \"Positions\".upper AS \"Positions_upper\", \"Positions\".middle AS \"Positions_middle\", \"Positions\".lower AS \"Positions_lower\", \"Positions\".x AS \"Positions_x\", \"Positions\".y AS \"Positions_y\" \n",
      "FROM \"Positions\" \n",
      "WHERE \"Positions\".id = ?\n",
      "2020-12-22 15:44:14,469 INFO sqlalchemy.engine.base.Engine (44,)\n",
      "2020-12-22 15:44:14,471 INFO sqlalchemy.engine.base.Engine SELECT \"Positions\".id AS \"Positions_id\", \"Positions\".upper AS \"Positions_upper\", \"Positions\".middle AS \"Positions_middle\", \"Positions\".lower AS \"Positions_lower\", \"Positions\".x AS \"Positions_x\", \"Positions\".y AS \"Positions_y\" \n",
      "FROM \"Positions\" \n",
      "WHERE \"Positions\".id = ?\n",
      "2020-12-22 15:44:14,475 INFO sqlalchemy.engine.base.Engine (45,)\n",
      "2020-12-22 15:44:14,477 INFO sqlalchemy.engine.base.Engine SELECT \"Positions\".id AS \"Positions_id\", \"Positions\".upper AS \"Positions_upper\", \"Positions\".middle AS \"Positions_middle\", \"Positions\".lower AS \"Positions_lower\", \"Positions\".x AS \"Positions_x\", \"Positions\".y AS \"Positions_y\" \n",
      "FROM \"Positions\" \n",
      "WHERE \"Positions\".id = ?\n",
      "2020-12-22 15:44:14,478 INFO sqlalchemy.engine.base.Engine (46,)\n",
      "2020-12-22 15:44:14,479 INFO sqlalchemy.engine.base.Engine SELECT \"Positions\".id AS \"Positions_id\", \"Positions\".upper AS \"Positions_upper\", \"Positions\".middle AS \"Positions_middle\", \"Positions\".lower AS \"Positions_lower\", \"Positions\".x AS \"Positions_x\", \"Positions\".y AS \"Positions_y\" \n",
      "FROM \"Positions\" \n",
      "WHERE \"Positions\".id = ?\n",
      "2020-12-22 15:44:14,480 INFO sqlalchemy.engine.base.Engine (47,)\n",
      "2020-12-22 15:44:14,481 INFO sqlalchemy.engine.base.Engine SELECT \"Positions\".id AS \"Positions_id\", \"Positions\".upper AS \"Positions_upper\", \"Positions\".middle AS \"Positions_middle\", \"Positions\".lower AS \"Positions_lower\", \"Positions\".x AS \"Positions_x\", \"Positions\".y AS \"Positions_y\" \n",
      "FROM \"Positions\" \n",
      "WHERE \"Positions\".id = ?\n",
      "2020-12-22 15:44:14,482 INFO sqlalchemy.engine.base.Engine (48,)\n",
      "2020-12-22 15:44:14,484 INFO sqlalchemy.engine.base.Engine SELECT \"Positions\".id AS \"Positions_id\", \"Positions\".upper AS \"Positions_upper\", \"Positions\".middle AS \"Positions_middle\", \"Positions\".lower AS \"Positions_lower\", \"Positions\".x AS \"Positions_x\", \"Positions\".y AS \"Positions_y\" \n",
      "FROM \"Positions\" \n",
      "WHERE \"Positions\".id = ?\n",
      "2020-12-22 15:44:14,484 INFO sqlalchemy.engine.base.Engine (49,)\n",
      "[Interval({'top': Position({'middle': 14.3, 'x': 0.0, 'y': 0.0, 'units': 'm'}), 'base': Position({'middle': 51.24117647058824, 'x': 0.0, 'y': 0.0, 'units': 'm'}), 'description': 'Anhydrite', 'data': {}, 'components': [Component({'lithology': 'anhydrite'})]}), Interval({'top': Position({'middle': 51.24117647058824, 'x': 0.0, 'y': 0.0, 'units': 'm'}), 'base': Position({'middle': 54.81764705882354, 'x': 0.0, 'y': 0.0, 'units': 'm'}), 'description': 'Sandstone, grey, vf-f', 'data': {}, 'components': [Component({'lithology': 'sandstone', 'grainsize': 'vf-f', 'colour': 'grey'})]}), Interval({'top': Position({'middle': 54.81764705882354, 'x': 0.0, 'y': 0.0, 'units': 'm'}), 'base': Position({'middle': 56.55882352941177, 'x': 0.0, 'y': 0.0, 'units': 'm'}), 'description': 'Anhydrite', 'data': {}, 'components': [Component({'lithology': 'anhydrite'})]}), Interval({'top': Position({'middle': 56.55882352941177, 'x': 0.0, 'y': 0.0, 'units': 'm'}), 'base': Position({'middle': 58.86470588235295, 'x': 0.0, 'y': 0.0, 'units': 'm'}), 'description': 'Dolomite', 'data': {}, 'components': [Component({'lithology': 'dolomite'})]}), Interval({'top': Position({'middle': 60.464705882352945, 'x': 0.0, 'y': 0.0, 'units': 'm'}), 'base': Position({'middle': 61.45294117647059, 'x': 0.0, 'y': 0.0, 'units': 'm'}), 'description': 'Anhydrite', 'data': {}, 'components': [Component({'lithology': 'anhydrite'})]}), Interval({'top': Position({'middle': 61.45294117647059, 'x': 0.0, 'y': 0.0, 'units': 'm'}), 'base': Position({'middle': 62.77058823529413, 'x': 0.0, 'y': 0.0, 'units': 'm'}), 'description': 'Sandstone, grey, vf-f', 'data': {}, 'components': [Component({'lithology': 'sandstone', 'grainsize': 'vf-f', 'colour': 'grey'})]}), Interval({'top': Position({'middle': 62.77058823529413, 'x': 0.0, 'y': 0.0, 'units': 'm'}), 'base': Position({'middle': 63.94705882352942, 'x': 0.0, 'y': 0.0, 'units': 'm'}), 'description': 'Siltstone, red', 'data': {}, 'components': [Component({'lithology': 'siltstone', 'colour': 'red'})]}), Interval({'top': Position({'middle': 63.94705882352942, 'x': 0.0, 'y': 0.0, 'units': 'm'}), 'base': Position({'middle': 64.37058823529412, 'x': 0.0, 'y': 0.0, 'units': 'm'}), 'description': 'Dolomite', 'data': {}, 'components': [Component({'lithology': 'dolomite'})]}), Interval({'top': Position({'middle': 64.37058823529412, 'x': 0.0, 'y': 0.0, 'units': 'm'}), 'base': Position({'middle': 65.0764705882353, 'x': 0.0, 'y': 0.0, 'units': 'm'}), 'description': 'Siltstone, grey', 'data': {}, 'components': [Component({'lithology': 'siltstone', 'colour': 'grey'})]}), Interval({'top': Position({'middle': 65.0764705882353, 'x': 0.0, 'y': 0.0, 'units': 'm'}), 'base': Position({'middle': 66.77058823529413, 'x': 0.0, 'y': 0.0, 'units': 'm'}), 'description': 'Dolomite', 'data': {}, 'components': [Component({'lithology': 'dolomite'})]}), Interval({'top': Position({'middle': 66.77058823529413, 'x': 0.0, 'y': 0.0, 'units': 'm'}), 'base': Position({'middle': 71.10000000000001, 'x': 0.0, 'y': 0.0, 'units': 'm'}), 'description': 'Sandstone, grey, vf-f', 'data': {}, 'components': [Component({'lithology': 'sandstone', 'grainsize': 'vf-f', 'colour': 'grey'})]}), Interval({'top': Position({'middle': 71.10000000000001, 'x': 0.0, 'y': 0.0, 'units': 'm'}), 'base': Position({'middle': 71.80588235294118, 'x': 0.0, 'y': 0.0, 'units': 'm'}), 'description': 'Dolomite', 'data': {}, 'components': [Component({'lithology': 'dolomite'})]}), Interval({'top': Position({'middle': 71.80588235294118, 'x': 0.0, 'y': 0.0, 'units': 'm'}), 'base': Position({'middle': 81.78235294117647, 'x': 0.0, 'y': 0.0, 'units': 'm'}), 'description': 'Sandstone, grey, vf-f', 'data': {}, 'components': [Component({'lithology': 'sandstone', 'grainsize': 'vf-f', 'colour': 'grey'})]}), Interval({'top': Position({'middle': 81.78235294117647, 'x': 0.0, 'y': 0.0, 'units': 'm'}), 'base': Position({'middle': 85.78235294117647, 'x': 0.0, 'y': 0.0, 'units': 'm'}), 'description': 'Siltstone, grey', 'data': {}, 'components': [Component({'lithology': 'siltstone', 'colour': 'grey'})]}), Interval({'top': Position({'middle': 85.78235294117647, 'x': 0.0, 'y': 0.0, 'units': 'm'}), 'base': Position({'middle': 87.00588235294119, 'x': 0.0, 'y': 0.0, 'units': 'm'}), 'description': 'Dolomite', 'data': {}, 'components': [Component({'lithology': 'dolomite'})]}), Interval({'top': Position({'middle': 87.00588235294119, 'x': 0.0, 'y': 0.0, 'units': 'm'}), 'base': Position({'middle': 88.51176470588236, 'x': 0.0, 'y': 0.0, 'units': 'm'}), 'description': 'Siltstone, grey', 'data': {}, 'components': [Component({'lithology': 'siltstone', 'colour': 'grey'})]}), Interval({'top': Position({'middle': 88.51176470588236, 'x': 0.0, 'y': 0.0, 'units': 'm'}), 'base': Position({'middle': 88.98235294117647, 'x': 0.0, 'y': 0.0, 'units': 'm'}), 'description': 'Dolomite', 'data': {}, 'components': [Component({'lithology': 'dolomite'})]}), Interval({'top': Position({'middle': 88.98235294117647, 'x': 0.0, 'y': 0.0, 'units': 'm'}), 'base': Position({'middle': 95.9, 'x': 0.0, 'y': 0.0, 'units': 'm'}), 'description': 'Siltstone, grey', 'data': {}, 'components': [Component({'lithology': 'siltstone', 'colour': 'grey'})]}), Interval({'top': Position({'middle': 95.9, 'x': 0.0, 'y': 0.0, 'units': 'm'}), 'base': Position({'middle': 96.2764705882353, 'x': 0.0, 'y': 0.0, 'units': 'm'}), 'description': 'Dolomite', 'data': {}, 'components': [Component({'lithology': 'dolomite'})]}), Interval({'top': Position({'middle': 96.2764705882353, 'x': 0.0, 'y': 0.0, 'units': 'm'}), 'base': Position({'middle': 104.37058823529412, 'x': 0.0, 'y': 0.0, 'units': 'm'}), 'description': 'Siltstone, grey', 'data': {}, 'components': [Component({'lithology': 'siltstone', 'colour': 'grey'})]}), Interval({'top': Position({'middle': 104.37058823529412, 'x': 0.0, 'y': 0.0, 'units': 'm'}), 'base': Position({'middle': 104.74705882352941, 'x': 0.0, 'y': 0.0, 'units': 'm'}), 'description': 'Dolomite', 'data': {}, 'components': [Component({'lithology': 'dolomite'})]}), Interval({'top': Position({'middle': 104.74705882352941, 'x': 0.0, 'y': 0.0, 'units': 'm'}), 'base': Position({'middle': 129.68823529411765, 'x': 0.0, 'y': 0.0, 'units': 'm'}), 'description': 'Siltstone, grey', 'data': {}, 'components': [Component({'lithology': 'siltstone', 'colour': 'grey'})]}), Interval({'top': Position({'middle': 129.68823529411765, 'x': 0.0, 'y': 0.0, 'units': 'm'}), 'base': Position({'middle': 130.39411764705883, 'x': 0.0, 'y': 0.0, 'units': 'm'}), 'description': 'Dolomite', 'data': {}, 'components': [Component({'lithology': 'dolomite'})]}), Interval({'top': Position({'middle': 130.39411764705883, 'x': 0.0, 'y': 0.0, 'units': 'm'}), 'base': Position({'middle': 131.47647058823532, 'x': 0.0, 'y': 0.0, 'units': 'm'}), 'description': 'Limestone', 'data': {}, 'components': [Component({'lithology': 'limestone'})]}), Interval({'top': Position({'middle': 131.47647058823532, 'x': 0.0, 'y': 0.0, 'units': 'm'}), 'base': Position({'middle': 135.9, 'x': 0.0, 'y': 0.0, 'units': 'm'}), 'description': 'Volcanic', 'data': {}, 'components': [Component({})]})]\n"
     ]
    },
    {
     "name": "stdout",
     "output_type": "stream",
     "text": [
      "Borehole geometry created successfully !\n",
      "2020-12-22 15:44:14,646 INFO sqlalchemy.engine.base.Engine SELECT \"Intervals\".id AS \"Intervals_id\", \"Intervals\".borehole AS \"Intervals_borehole\", \"Intervals\".interval_number AS \"Intervals_interval_number\", \"Intervals\".description AS \"Intervals_description\", \"Intervals\".top_id AS \"Intervals_top_id\", \"Intervals\".base_id AS \"Intervals_base_id\" \n",
      "FROM \"Intervals\" \n",
      "WHERE ? = \"Intervals\".borehole\n",
      "2020-12-22 15:44:14,647 INFO sqlalchemy.engine.base.Engine ('F02',)\n",
      "2020-12-22 15:44:14,653 INFO sqlalchemy.engine.base.Engine SELECT \"Positions\".id AS \"Positions_id\", \"Positions\".upper AS \"Positions_upper\", \"Positions\".middle AS \"Positions_middle\", \"Positions\".lower AS \"Positions_lower\", \"Positions\".x AS \"Positions_x\", \"Positions\".y AS \"Positions_y\" \n",
      "FROM \"Positions\" \n",
      "WHERE \"Positions\".id = ?\n",
      "2020-12-22 15:44:14,655 INFO sqlalchemy.engine.base.Engine (50,)\n",
      "2020-12-22 15:44:14,658 INFO sqlalchemy.engine.base.Engine SELECT \"Positions\".id AS \"Positions_id\", \"Positions\".upper AS \"Positions_upper\", \"Positions\".middle AS \"Positions_middle\", \"Positions\".lower AS \"Positions_lower\", \"Positions\".x AS \"Positions_x\", \"Positions\".y AS \"Positions_y\" \n",
      "FROM \"Positions\" \n",
      "WHERE \"Positions\".id = ?\n",
      "2020-12-22 15:44:14,660 INFO sqlalchemy.engine.base.Engine (51,)\n",
      "2020-12-22 15:44:14,662 INFO sqlalchemy.engine.base.Engine SELECT \"Positions\".id AS \"Positions_id\", \"Positions\".upper AS \"Positions_upper\", \"Positions\".middle AS \"Positions_middle\", \"Positions\".lower AS \"Positions_lower\", \"Positions\".x AS \"Positions_x\", \"Positions\".y AS \"Positions_y\" \n",
      "FROM \"Positions\" \n",
      "WHERE \"Positions\".id = ?\n",
      "2020-12-22 15:44:14,663 INFO sqlalchemy.engine.base.Engine (52,)\n",
      "2020-12-22 15:44:14,666 INFO sqlalchemy.engine.base.Engine SELECT \"Positions\".id AS \"Positions_id\", \"Positions\".upper AS \"Positions_upper\", \"Positions\".middle AS \"Positions_middle\", \"Positions\".lower AS \"Positions_lower\", \"Positions\".x AS \"Positions_x\", \"Positions\".y AS \"Positions_y\" \n",
      "FROM \"Positions\" \n",
      "WHERE \"Positions\".id = ?\n",
      "2020-12-22 15:44:14,667 INFO sqlalchemy.engine.base.Engine (53,)\n",
      "2020-12-22 15:44:14,669 INFO sqlalchemy.engine.base.Engine SELECT \"Positions\".id AS \"Positions_id\", \"Positions\".upper AS \"Positions_upper\", \"Positions\".middle AS \"Positions_middle\", \"Positions\".lower AS \"Positions_lower\", \"Positions\".x AS \"Positions_x\", \"Positions\".y AS \"Positions_y\" \n",
      "FROM \"Positions\" \n",
      "WHERE \"Positions\".id = ?\n",
      "2020-12-22 15:44:14,670 INFO sqlalchemy.engine.base.Engine (54,)\n",
      "2020-12-22 15:44:14,672 INFO sqlalchemy.engine.base.Engine SELECT \"Positions\".id AS \"Positions_id\", \"Positions\".upper AS \"Positions_upper\", \"Positions\".middle AS \"Positions_middle\", \"Positions\".lower AS \"Positions_lower\", \"Positions\".x AS \"Positions_x\", \"Positions\".y AS \"Positions_y\" \n",
      "FROM \"Positions\" \n",
      "WHERE \"Positions\".id = ?\n",
      "2020-12-22 15:44:14,673 INFO sqlalchemy.engine.base.Engine (55,)\n",
      "2020-12-22 15:44:14,675 INFO sqlalchemy.engine.base.Engine SELECT \"Positions\".id AS \"Positions_id\", \"Positions\".upper AS \"Positions_upper\", \"Positions\".middle AS \"Positions_middle\", \"Positions\".lower AS \"Positions_lower\", \"Positions\".x AS \"Positions_x\", \"Positions\".y AS \"Positions_y\" \n",
      "FROM \"Positions\" \n",
      "WHERE \"Positions\".id = ?\n",
      "2020-12-22 15:44:14,676 INFO sqlalchemy.engine.base.Engine (56,)\n",
      "2020-12-22 15:44:14,678 INFO sqlalchemy.engine.base.Engine SELECT \"Positions\".id AS \"Positions_id\", \"Positions\".upper AS \"Positions_upper\", \"Positions\".middle AS \"Positions_middle\", \"Positions\".lower AS \"Positions_lower\", \"Positions\".x AS \"Positions_x\", \"Positions\".y AS \"Positions_y\" \n",
      "FROM \"Positions\" \n",
      "WHERE \"Positions\".id = ?\n",
      "2020-12-22 15:44:14,679 INFO sqlalchemy.engine.base.Engine (57,)\n",
      "2020-12-22 15:44:14,681 INFO sqlalchemy.engine.base.Engine SELECT \"Positions\".id AS \"Positions_id\", \"Positions\".upper AS \"Positions_upper\", \"Positions\".middle AS \"Positions_middle\", \"Positions\".lower AS \"Positions_lower\", \"Positions\".x AS \"Positions_x\", \"Positions\".y AS \"Positions_y\" \n",
      "FROM \"Positions\" \n",
      "WHERE \"Positions\".id = ?\n",
      "2020-12-22 15:44:14,685 INFO sqlalchemy.engine.base.Engine (58,)\n",
      "2020-12-22 15:44:14,687 INFO sqlalchemy.engine.base.Engine SELECT \"Positions\".id AS \"Positions_id\", \"Positions\".upper AS \"Positions_upper\", \"Positions\".middle AS \"Positions_middle\", \"Positions\".lower AS \"Positions_lower\", \"Positions\".x AS \"Positions_x\", \"Positions\".y AS \"Positions_y\" \n",
      "FROM \"Positions\" \n",
      "WHERE \"Positions\".id = ?\n",
      "2020-12-22 15:44:14,689 INFO sqlalchemy.engine.base.Engine (59,)\n",
      "2020-12-22 15:44:14,691 INFO sqlalchemy.engine.base.Engine SELECT \"Positions\".id AS \"Positions_id\", \"Positions\".upper AS \"Positions_upper\", \"Positions\".middle AS \"Positions_middle\", \"Positions\".lower AS \"Positions_lower\", \"Positions\".x AS \"Positions_x\", \"Positions\".y AS \"Positions_y\" \n",
      "FROM \"Positions\" \n",
      "WHERE \"Positions\".id = ?\n",
      "2020-12-22 15:44:14,692 INFO sqlalchemy.engine.base.Engine (60,)\n",
      "2020-12-22 15:44:14,694 INFO sqlalchemy.engine.base.Engine SELECT \"Positions\".id AS \"Positions_id\", \"Positions\".upper AS \"Positions_upper\", \"Positions\".middle AS \"Positions_middle\", \"Positions\".lower AS \"Positions_lower\", \"Positions\".x AS \"Positions_x\", \"Positions\".y AS \"Positions_y\" \n",
      "FROM \"Positions\" \n",
      "WHERE \"Positions\".id = ?\n",
      "2020-12-22 15:44:14,695 INFO sqlalchemy.engine.base.Engine (61,)\n",
      "2020-12-22 15:44:14,696 INFO sqlalchemy.engine.base.Engine SELECT \"Positions\".id AS \"Positions_id\", \"Positions\".upper AS \"Positions_upper\", \"Positions\".middle AS \"Positions_middle\", \"Positions\".lower AS \"Positions_lower\", \"Positions\".x AS \"Positions_x\", \"Positions\".y AS \"Positions_y\" \n",
      "FROM \"Positions\" \n",
      "WHERE \"Positions\".id = ?\n",
      "2020-12-22 15:44:14,698 INFO sqlalchemy.engine.base.Engine (62,)\n",
      "2020-12-22 15:44:14,699 INFO sqlalchemy.engine.base.Engine SELECT \"Positions\".id AS \"Positions_id\", \"Positions\".upper AS \"Positions_upper\", \"Positions\".middle AS \"Positions_middle\", \"Positions\".lower AS \"Positions_lower\", \"Positions\".x AS \"Positions_x\", \"Positions\".y AS \"Positions_y\" \n",
      "FROM \"Positions\" \n",
      "WHERE \"Positions\".id = ?\n",
      "2020-12-22 15:44:14,700 INFO sqlalchemy.engine.base.Engine (63,)\n",
      "2020-12-22 15:44:14,702 INFO sqlalchemy.engine.base.Engine SELECT \"Positions\".id AS \"Positions_id\", \"Positions\".upper AS \"Positions_upper\", \"Positions\".middle AS \"Positions_middle\", \"Positions\".lower AS \"Positions_lower\", \"Positions\".x AS \"Positions_x\", \"Positions\".y AS \"Positions_y\" \n",
      "FROM \"Positions\" \n",
      "WHERE \"Positions\".id = ?\n",
      "2020-12-22 15:44:14,703 INFO sqlalchemy.engine.base.Engine (64,)\n",
      "2020-12-22 15:44:14,705 INFO sqlalchemy.engine.base.Engine SELECT \"Positions\".id AS \"Positions_id\", \"Positions\".upper AS \"Positions_upper\", \"Positions\".middle AS \"Positions_middle\", \"Positions\".lower AS \"Positions_lower\", \"Positions\".x AS \"Positions_x\", \"Positions\".y AS \"Positions_y\" \n",
      "FROM \"Positions\" \n",
      "WHERE \"Positions\".id = ?\n",
      "2020-12-22 15:44:14,706 INFO sqlalchemy.engine.base.Engine (65,)\n",
      "2020-12-22 15:44:14,707 INFO sqlalchemy.engine.base.Engine SELECT \"Positions\".id AS \"Positions_id\", \"Positions\".upper AS \"Positions_upper\", \"Positions\".middle AS \"Positions_middle\", \"Positions\".lower AS \"Positions_lower\", \"Positions\".x AS \"Positions_x\", \"Positions\".y AS \"Positions_y\" \n",
      "FROM \"Positions\" \n",
      "WHERE \"Positions\".id = ?\n",
      "2020-12-22 15:44:14,709 INFO sqlalchemy.engine.base.Engine (66,)\n",
      "2020-12-22 15:44:14,711 INFO sqlalchemy.engine.base.Engine SELECT \"Positions\".id AS \"Positions_id\", \"Positions\".upper AS \"Positions_upper\", \"Positions\".middle AS \"Positions_middle\", \"Positions\".lower AS \"Positions_lower\", \"Positions\".x AS \"Positions_x\", \"Positions\".y AS \"Positions_y\" \n",
      "FROM \"Positions\" \n",
      "WHERE \"Positions\".id = ?\n",
      "2020-12-22 15:44:14,712 INFO sqlalchemy.engine.base.Engine (67,)\n",
      "2020-12-22 15:44:14,713 INFO sqlalchemy.engine.base.Engine SELECT \"Positions\".id AS \"Positions_id\", \"Positions\".upper AS \"Positions_upper\", \"Positions\".middle AS \"Positions_middle\", \"Positions\".lower AS \"Positions_lower\", \"Positions\".x AS \"Positions_x\", \"Positions\".y AS \"Positions_y\" \n",
      "FROM \"Positions\" \n",
      "WHERE \"Positions\".id = ?\n",
      "2020-12-22 15:44:14,715 INFO sqlalchemy.engine.base.Engine (68,)\n",
      "2020-12-22 15:44:14,717 INFO sqlalchemy.engine.base.Engine SELECT \"Positions\".id AS \"Positions_id\", \"Positions\".upper AS \"Positions_upper\", \"Positions\".middle AS \"Positions_middle\", \"Positions\".lower AS \"Positions_lower\", \"Positions\".x AS \"Positions_x\", \"Positions\".y AS \"Positions_y\" \n",
      "FROM \"Positions\" \n",
      "WHERE \"Positions\".id = ?\n"
     ]
    },
    {
     "name": "stdout",
     "output_type": "stream",
     "text": [
      "2020-12-22 15:44:14,718 INFO sqlalchemy.engine.base.Engine (69,)\n",
      "2020-12-22 15:44:14,720 INFO sqlalchemy.engine.base.Engine SELECT \"Positions\".id AS \"Positions_id\", \"Positions\".upper AS \"Positions_upper\", \"Positions\".middle AS \"Positions_middle\", \"Positions\".lower AS \"Positions_lower\", \"Positions\".x AS \"Positions_x\", \"Positions\".y AS \"Positions_y\" \n",
      "FROM \"Positions\" \n",
      "WHERE \"Positions\".id = ?\n",
      "2020-12-22 15:44:14,722 INFO sqlalchemy.engine.base.Engine (70,)\n",
      "2020-12-22 15:44:14,723 INFO sqlalchemy.engine.base.Engine SELECT \"Positions\".id AS \"Positions_id\", \"Positions\".upper AS \"Positions_upper\", \"Positions\".middle AS \"Positions_middle\", \"Positions\".lower AS \"Positions_lower\", \"Positions\".x AS \"Positions_x\", \"Positions\".y AS \"Positions_y\" \n",
      "FROM \"Positions\" \n",
      "WHERE \"Positions\".id = ?\n",
      "2020-12-22 15:44:14,724 INFO sqlalchemy.engine.base.Engine (71,)\n",
      "2020-12-22 15:44:14,726 INFO sqlalchemy.engine.base.Engine SELECT \"Positions\".id AS \"Positions_id\", \"Positions\".upper AS \"Positions_upper\", \"Positions\".middle AS \"Positions_middle\", \"Positions\".lower AS \"Positions_lower\", \"Positions\".x AS \"Positions_x\", \"Positions\".y AS \"Positions_y\" \n",
      "FROM \"Positions\" \n",
      "WHERE \"Positions\".id = ?\n",
      "2020-12-22 15:44:14,727 INFO sqlalchemy.engine.base.Engine (72,)\n",
      "2020-12-22 15:44:14,729 INFO sqlalchemy.engine.base.Engine SELECT \"Positions\".id AS \"Positions_id\", \"Positions\".upper AS \"Positions_upper\", \"Positions\".middle AS \"Positions_middle\", \"Positions\".lower AS \"Positions_lower\", \"Positions\".x AS \"Positions_x\", \"Positions\".y AS \"Positions_y\" \n",
      "FROM \"Positions\" \n",
      "WHERE \"Positions\".id = ?\n",
      "2020-12-22 15:44:14,729 INFO sqlalchemy.engine.base.Engine (73,)\n",
      "2020-12-22 15:44:14,731 INFO sqlalchemy.engine.base.Engine SELECT \"Positions\".id AS \"Positions_id\", \"Positions\".upper AS \"Positions_upper\", \"Positions\".middle AS \"Positions_middle\", \"Positions\".lower AS \"Positions_lower\", \"Positions\".x AS \"Positions_x\", \"Positions\".y AS \"Positions_y\" \n",
      "FROM \"Positions\" \n",
      "WHERE \"Positions\".id = ?\n",
      "2020-12-22 15:44:14,732 INFO sqlalchemy.engine.base.Engine (74,)\n",
      "2020-12-22 15:44:14,733 INFO sqlalchemy.engine.base.Engine SELECT \"Positions\".id AS \"Positions_id\", \"Positions\".upper AS \"Positions_upper\", \"Positions\".middle AS \"Positions_middle\", \"Positions\".lower AS \"Positions_lower\", \"Positions\".x AS \"Positions_x\", \"Positions\".y AS \"Positions_y\" \n",
      "FROM \"Positions\" \n",
      "WHERE \"Positions\".id = ?\n",
      "2020-12-22 15:44:14,736 INFO sqlalchemy.engine.base.Engine (75,)\n",
      "2020-12-22 15:44:14,738 INFO sqlalchemy.engine.base.Engine SELECT \"Positions\".id AS \"Positions_id\", \"Positions\".upper AS \"Positions_upper\", \"Positions\".middle AS \"Positions_middle\", \"Positions\".lower AS \"Positions_lower\", \"Positions\".x AS \"Positions_x\", \"Positions\".y AS \"Positions_y\" \n",
      "FROM \"Positions\" \n",
      "WHERE \"Positions\".id = ?\n",
      "2020-12-22 15:44:14,739 INFO sqlalchemy.engine.base.Engine (76,)\n",
      "2020-12-22 15:44:14,741 INFO sqlalchemy.engine.base.Engine SELECT \"Positions\".id AS \"Positions_id\", \"Positions\".upper AS \"Positions_upper\", \"Positions\".middle AS \"Positions_middle\", \"Positions\".lower AS \"Positions_lower\", \"Positions\".x AS \"Positions_x\", \"Positions\".y AS \"Positions_y\" \n",
      "FROM \"Positions\" \n",
      "WHERE \"Positions\".id = ?\n",
      "2020-12-22 15:44:14,743 INFO sqlalchemy.engine.base.Engine (77,)\n",
      "2020-12-22 15:44:14,745 INFO sqlalchemy.engine.base.Engine SELECT \"Positions\".id AS \"Positions_id\", \"Positions\".upper AS \"Positions_upper\", \"Positions\".middle AS \"Positions_middle\", \"Positions\".lower AS \"Positions_lower\", \"Positions\".x AS \"Positions_x\", \"Positions\".y AS \"Positions_y\" \n",
      "FROM \"Positions\" \n",
      "WHERE \"Positions\".id = ?\n",
      "2020-12-22 15:44:14,745 INFO sqlalchemy.engine.base.Engine (78,)\n",
      "2020-12-22 15:44:14,747 INFO sqlalchemy.engine.base.Engine SELECT \"Positions\".id AS \"Positions_id\", \"Positions\".upper AS \"Positions_upper\", \"Positions\".middle AS \"Positions_middle\", \"Positions\".lower AS \"Positions_lower\", \"Positions\".x AS \"Positions_x\", \"Positions\".y AS \"Positions_y\" \n",
      "FROM \"Positions\" \n",
      "WHERE \"Positions\".id = ?\n",
      "2020-12-22 15:44:14,747 INFO sqlalchemy.engine.base.Engine (79,)\n",
      "2020-12-22 15:44:14,753 INFO sqlalchemy.engine.base.Engine SELECT \"Positions\".id AS \"Positions_id\", \"Positions\".upper AS \"Positions_upper\", \"Positions\".middle AS \"Positions_middle\", \"Positions\".lower AS \"Positions_lower\", \"Positions\".x AS \"Positions_x\", \"Positions\".y AS \"Positions_y\" \n",
      "FROM \"Positions\" \n",
      "WHERE \"Positions\".id = ?\n",
      "2020-12-22 15:44:14,757 INFO sqlalchemy.engine.base.Engine (80,)\n",
      "2020-12-22 15:44:14,759 INFO sqlalchemy.engine.base.Engine SELECT \"Positions\".id AS \"Positions_id\", \"Positions\".upper AS \"Positions_upper\", \"Positions\".middle AS \"Positions_middle\", \"Positions\".lower AS \"Positions_lower\", \"Positions\".x AS \"Positions_x\", \"Positions\".y AS \"Positions_y\" \n",
      "FROM \"Positions\" \n",
      "WHERE \"Positions\".id = ?\n",
      "2020-12-22 15:44:14,760 INFO sqlalchemy.engine.base.Engine (81,)\n",
      "2020-12-22 15:44:14,761 INFO sqlalchemy.engine.base.Engine SELECT \"Positions\".id AS \"Positions_id\", \"Positions\".upper AS \"Positions_upper\", \"Positions\".middle AS \"Positions_middle\", \"Positions\".lower AS \"Positions_lower\", \"Positions\".x AS \"Positions_x\", \"Positions\".y AS \"Positions_y\" \n",
      "FROM \"Positions\" \n",
      "WHERE \"Positions\".id = ?\n",
      "2020-12-22 15:44:14,763 INFO sqlalchemy.engine.base.Engine (82,)\n",
      "2020-12-22 15:44:14,766 INFO sqlalchemy.engine.base.Engine SELECT \"Positions\".id AS \"Positions_id\", \"Positions\".upper AS \"Positions_upper\", \"Positions\".middle AS \"Positions_middle\", \"Positions\".lower AS \"Positions_lower\", \"Positions\".x AS \"Positions_x\", \"Positions\".y AS \"Positions_y\" \n",
      "FROM \"Positions\" \n",
      "WHERE \"Positions\".id = ?\n",
      "2020-12-22 15:44:14,767 INFO sqlalchemy.engine.base.Engine (83,)\n",
      "2020-12-22 15:44:14,768 INFO sqlalchemy.engine.base.Engine SELECT \"Positions\".id AS \"Positions_id\", \"Positions\".upper AS \"Positions_upper\", \"Positions\".middle AS \"Positions_middle\", \"Positions\".lower AS \"Positions_lower\", \"Positions\".x AS \"Positions_x\", \"Positions\".y AS \"Positions_y\" \n",
      "FROM \"Positions\" \n",
      "WHERE \"Positions\".id = ?\n",
      "2020-12-22 15:44:14,769 INFO sqlalchemy.engine.base.Engine (84,)\n",
      "2020-12-22 15:44:14,771 INFO sqlalchemy.engine.base.Engine SELECT \"Positions\".id AS \"Positions_id\", \"Positions\".upper AS \"Positions_upper\", \"Positions\".middle AS \"Positions_middle\", \"Positions\".lower AS \"Positions_lower\", \"Positions\".x AS \"Positions_x\", \"Positions\".y AS \"Positions_y\" \n",
      "FROM \"Positions\" \n",
      "WHERE \"Positions\".id = ?\n",
      "2020-12-22 15:44:14,772 INFO sqlalchemy.engine.base.Engine (85,)\n",
      "2020-12-22 15:44:14,773 INFO sqlalchemy.engine.base.Engine SELECT \"Positions\".id AS \"Positions_id\", \"Positions\".upper AS \"Positions_upper\", \"Positions\".middle AS \"Positions_middle\", \"Positions\".lower AS \"Positions_lower\", \"Positions\".x AS \"Positions_x\", \"Positions\".y AS \"Positions_y\" \n",
      "FROM \"Positions\" \n",
      "WHERE \"Positions\".id = ?\n",
      "2020-12-22 15:44:14,777 INFO sqlalchemy.engine.base.Engine (86,)\n",
      "2020-12-22 15:44:14,779 INFO sqlalchemy.engine.base.Engine SELECT \"Positions\".id AS \"Positions_id\", \"Positions\".upper AS \"Positions_upper\", \"Positions\".middle AS \"Positions_middle\", \"Positions\".lower AS \"Positions_lower\", \"Positions\".x AS \"Positions_x\", \"Positions\".y AS \"Positions_y\" \n",
      "FROM \"Positions\" \n",
      "WHERE \"Positions\".id = ?\n",
      "2020-12-22 15:44:14,780 INFO sqlalchemy.engine.base.Engine (87,)\n",
      "2020-12-22 15:44:14,781 INFO sqlalchemy.engine.base.Engine SELECT \"Positions\".id AS \"Positions_id\", \"Positions\".upper AS \"Positions_upper\", \"Positions\".middle AS \"Positions_middle\", \"Positions\".lower AS \"Positions_lower\", \"Positions\".x AS \"Positions_x\", \"Positions\".y AS \"Positions_y\" \n",
      "FROM \"Positions\" \n",
      "WHERE \"Positions\".id = ?\n",
      "2020-12-22 15:44:14,782 INFO sqlalchemy.engine.base.Engine (88,)\n",
      "2020-12-22 15:44:14,784 INFO sqlalchemy.engine.base.Engine SELECT \"Positions\".id AS \"Positions_id\", \"Positions\".upper AS \"Positions_upper\", \"Positions\".middle AS \"Positions_middle\", \"Positions\".lower AS \"Positions_lower\", \"Positions\".x AS \"Positions_x\", \"Positions\".y AS \"Positions_y\" \n",
      "FROM \"Positions\" \n",
      "WHERE \"Positions\".id = ?\n",
      "2020-12-22 15:44:14,789 INFO sqlalchemy.engine.base.Engine (89,)\n",
      "2020-12-22 15:44:14,791 INFO sqlalchemy.engine.base.Engine SELECT \"Positions\".id AS \"Positions_id\", \"Positions\".upper AS \"Positions_upper\", \"Positions\".middle AS \"Positions_middle\", \"Positions\".lower AS \"Positions_lower\", \"Positions\".x AS \"Positions_x\", \"Positions\".y AS \"Positions_y\" \n",
      "FROM \"Positions\" \n",
      "WHERE \"Positions\".id = ?\n"
     ]
    },
    {
     "name": "stdout",
     "output_type": "stream",
     "text": [
      "2020-12-22 15:44:14,794 INFO sqlalchemy.engine.base.Engine (90,)\n",
      "2020-12-22 15:44:14,796 INFO sqlalchemy.engine.base.Engine SELECT \"Positions\".id AS \"Positions_id\", \"Positions\".upper AS \"Positions_upper\", \"Positions\".middle AS \"Positions_middle\", \"Positions\".lower AS \"Positions_lower\", \"Positions\".x AS \"Positions_x\", \"Positions\".y AS \"Positions_y\" \n",
      "FROM \"Positions\" \n",
      "WHERE \"Positions\".id = ?\n",
      "2020-12-22 15:44:14,797 INFO sqlalchemy.engine.base.Engine (91,)\n",
      "2020-12-22 15:44:14,799 INFO sqlalchemy.engine.base.Engine SELECT \"Positions\".id AS \"Positions_id\", \"Positions\".upper AS \"Positions_upper\", \"Positions\".middle AS \"Positions_middle\", \"Positions\".lower AS \"Positions_lower\", \"Positions\".x AS \"Positions_x\", \"Positions\".y AS \"Positions_y\" \n",
      "FROM \"Positions\" \n",
      "WHERE \"Positions\".id = ?\n",
      "2020-12-22 15:44:14,800 INFO sqlalchemy.engine.base.Engine (92,)\n",
      "2020-12-22 15:44:14,801 INFO sqlalchemy.engine.base.Engine SELECT \"Positions\".id AS \"Positions_id\", \"Positions\".upper AS \"Positions_upper\", \"Positions\".middle AS \"Positions_middle\", \"Positions\".lower AS \"Positions_lower\", \"Positions\".x AS \"Positions_x\", \"Positions\".y AS \"Positions_y\" \n",
      "FROM \"Positions\" \n",
      "WHERE \"Positions\".id = ?\n",
      "2020-12-22 15:44:14,802 INFO sqlalchemy.engine.base.Engine (93,)\n",
      "2020-12-22 15:44:14,804 INFO sqlalchemy.engine.base.Engine SELECT \"Positions\".id AS \"Positions_id\", \"Positions\".upper AS \"Positions_upper\", \"Positions\".middle AS \"Positions_middle\", \"Positions\".lower AS \"Positions_lower\", \"Positions\".x AS \"Positions_x\", \"Positions\".y AS \"Positions_y\" \n",
      "FROM \"Positions\" \n",
      "WHERE \"Positions\".id = ?\n",
      "2020-12-22 15:44:14,804 INFO sqlalchemy.engine.base.Engine (94,)\n",
      "2020-12-22 15:44:14,809 INFO sqlalchemy.engine.base.Engine SELECT \"Positions\".id AS \"Positions_id\", \"Positions\".upper AS \"Positions_upper\", \"Positions\".middle AS \"Positions_middle\", \"Positions\".lower AS \"Positions_lower\", \"Positions\".x AS \"Positions_x\", \"Positions\".y AS \"Positions_y\" \n",
      "FROM \"Positions\" \n",
      "WHERE \"Positions\".id = ?\n",
      "2020-12-22 15:44:14,809 INFO sqlalchemy.engine.base.Engine (95,)\n",
      "2020-12-22 15:44:14,811 INFO sqlalchemy.engine.base.Engine SELECT \"Positions\".id AS \"Positions_id\", \"Positions\".upper AS \"Positions_upper\", \"Positions\".middle AS \"Positions_middle\", \"Positions\".lower AS \"Positions_lower\", \"Positions\".x AS \"Positions_x\", \"Positions\".y AS \"Positions_y\" \n",
      "FROM \"Positions\" \n",
      "WHERE \"Positions\".id = ?\n",
      "2020-12-22 15:44:14,812 INFO sqlalchemy.engine.base.Engine (96,)\n",
      "2020-12-22 15:44:14,813 INFO sqlalchemy.engine.base.Engine SELECT \"Positions\".id AS \"Positions_id\", \"Positions\".upper AS \"Positions_upper\", \"Positions\".middle AS \"Positions_middle\", \"Positions\".lower AS \"Positions_lower\", \"Positions\".x AS \"Positions_x\", \"Positions\".y AS \"Positions_y\" \n",
      "FROM \"Positions\" \n",
      "WHERE \"Positions\".id = ?\n",
      "2020-12-22 15:44:14,814 INFO sqlalchemy.engine.base.Engine (97,)\n",
      "2020-12-22 15:44:14,815 INFO sqlalchemy.engine.base.Engine SELECT \"Positions\".id AS \"Positions_id\", \"Positions\".upper AS \"Positions_upper\", \"Positions\".middle AS \"Positions_middle\", \"Positions\".lower AS \"Positions_lower\", \"Positions\".x AS \"Positions_x\", \"Positions\".y AS \"Positions_y\" \n",
      "FROM \"Positions\" \n",
      "WHERE \"Positions\".id = ?\n",
      "2020-12-22 15:44:14,818 INFO sqlalchemy.engine.base.Engine (98,)\n",
      "2020-12-22 15:44:14,819 INFO sqlalchemy.engine.base.Engine SELECT \"Positions\".id AS \"Positions_id\", \"Positions\".upper AS \"Positions_upper\", \"Positions\".middle AS \"Positions_middle\", \"Positions\".lower AS \"Positions_lower\", \"Positions\".x AS \"Positions_x\", \"Positions\".y AS \"Positions_y\" \n",
      "FROM \"Positions\" \n",
      "WHERE \"Positions\".id = ?\n",
      "2020-12-22 15:44:14,820 INFO sqlalchemy.engine.base.Engine (99,)\n",
      "[Interval({'top': Position({'middle': 14.3, 'x': 20.0, 'y': 20.0, 'units': 'm'}), 'base': Position({'middle': 51.24117647058824, 'x': 20.0, 'y': 20.0, 'units': 'm'}), 'description': 'Anhydrite', 'data': {}, 'components': [Component({'lithology': 'anhydrite'})]}), Interval({'top': Position({'middle': 51.24117647058824, 'x': 20.0, 'y': 20.0, 'units': 'm'}), 'base': Position({'middle': 54.81764705882354, 'x': 20.0, 'y': 20.0, 'units': 'm'}), 'description': 'Sandstone, grey, vf-f', 'data': {}, 'components': [Component({'lithology': 'sandstone', 'grainsize': 'vf-f', 'colour': 'grey'})]}), Interval({'top': Position({'middle': 54.81764705882354, 'x': 20.0, 'y': 20.0, 'units': 'm'}), 'base': Position({'middle': 56.55882352941177, 'x': 20.0, 'y': 20.0, 'units': 'm'}), 'description': 'Anhydrite', 'data': {}, 'components': [Component({'lithology': 'anhydrite'})]}), Interval({'top': Position({'middle': 56.55882352941177, 'x': 20.0, 'y': 20.0, 'units': 'm'}), 'base': Position({'middle': 58.86470588235295, 'x': 20.0, 'y': 20.0, 'units': 'm'}), 'description': 'Dolomite', 'data': {}, 'components': [Component({'lithology': 'dolomite'})]}), Interval({'top': Position({'middle': 60.464705882352945, 'x': 20.0, 'y': 20.0, 'units': 'm'}), 'base': Position({'middle': 61.45294117647059, 'x': 20.0, 'y': 20.0, 'units': 'm'}), 'description': 'Anhydrite', 'data': {}, 'components': [Component({'lithology': 'anhydrite'})]}), Interval({'top': Position({'middle': 61.45294117647059, 'x': 20.0, 'y': 20.0, 'units': 'm'}), 'base': Position({'middle': 62.77058823529413, 'x': 20.0, 'y': 20.0, 'units': 'm'}), 'description': 'Sandstone, grey, vf-f', 'data': {}, 'components': [Component({'lithology': 'sandstone', 'grainsize': 'vf-f', 'colour': 'grey'})]}), Interval({'top': Position({'middle': 62.77058823529413, 'x': 20.0, 'y': 20.0, 'units': 'm'}), 'base': Position({'middle': 63.94705882352942, 'x': 20.0, 'y': 20.0, 'units': 'm'}), 'description': 'Siltstone, red', 'data': {}, 'components': [Component({'lithology': 'siltstone', 'colour': 'red'})]}), Interval({'top': Position({'middle': 63.94705882352942, 'x': 20.0, 'y': 20.0, 'units': 'm'}), 'base': Position({'middle': 64.37058823529412, 'x': 20.0, 'y': 20.0, 'units': 'm'}), 'description': 'Dolomite', 'data': {}, 'components': [Component({'lithology': 'dolomite'})]}), Interval({'top': Position({'middle': 64.37058823529412, 'x': 20.0, 'y': 20.0, 'units': 'm'}), 'base': Position({'middle': 65.0764705882353, 'x': 20.0, 'y': 20.0, 'units': 'm'}), 'description': 'Siltstone, grey', 'data': {}, 'components': [Component({'lithology': 'siltstone', 'colour': 'grey'})]}), Interval({'top': Position({'middle': 65.0764705882353, 'x': 20.0, 'y': 20.0, 'units': 'm'}), 'base': Position({'middle': 66.77058823529413, 'x': 20.0, 'y': 20.0, 'units': 'm'}), 'description': 'Dolomite', 'data': {}, 'components': [Component({'lithology': 'dolomite'})]}), Interval({'top': Position({'middle': 66.77058823529413, 'x': 20.0, 'y': 20.0, 'units': 'm'}), 'base': Position({'middle': 71.10000000000001, 'x': 20.0, 'y': 20.0, 'units': 'm'}), 'description': 'Sandstone, grey, vf-f', 'data': {}, 'components': [Component({'lithology': 'sandstone', 'grainsize': 'vf-f', 'colour': 'grey'})]}), Interval({'top': Position({'middle': 71.10000000000001, 'x': 20.0, 'y': 20.0, 'units': 'm'}), 'base': Position({'middle': 71.80588235294118, 'x': 20.0, 'y': 20.0, 'units': 'm'}), 'description': 'Dolomite', 'data': {}, 'components': [Component({'lithology': 'dolomite'})]}), Interval({'top': Position({'middle': 71.80588235294118, 'x': 20.0, 'y': 20.0, 'units': 'm'}), 'base': Position({'middle': 81.78235294117647, 'x': 20.0, 'y': 20.0, 'units': 'm'}), 'description': 'Sandstone, grey, vf-f', 'data': {}, 'components': [Component({'lithology': 'sandstone', 'grainsize': 'vf-f', 'colour': 'grey'})]}), Interval({'top': Position({'middle': 81.78235294117647, 'x': 20.0, 'y': 20.0, 'units': 'm'}), 'base': Position({'middle': 85.78235294117647, 'x': 20.0, 'y': 20.0, 'units': 'm'}), 'description': 'Siltstone, grey', 'data': {}, 'components': [Component({'lithology': 'siltstone', 'colour': 'grey'})]}), Interval({'top': Position({'middle': 85.78235294117647, 'x': 20.0, 'y': 20.0, 'units': 'm'}), 'base': Position({'middle': 87.00588235294119, 'x': 20.0, 'y': 20.0, 'units': 'm'}), 'description': 'Dolomite', 'data': {}, 'components': [Component({'lithology': 'dolomite'})]}), Interval({'top': Position({'middle': 87.00588235294119, 'x': 20.0, 'y': 20.0, 'units': 'm'}), 'base': Position({'middle': 88.51176470588236, 'x': 20.0, 'y': 20.0, 'units': 'm'}), 'description': 'Siltstone, grey', 'data': {}, 'components': [Component({'lithology': 'siltstone', 'colour': 'grey'})]}), Interval({'top': Position({'middle': 88.51176470588236, 'x': 20.0, 'y': 20.0, 'units': 'm'}), 'base': Position({'middle': 88.98235294117647, 'x': 20.0, 'y': 20.0, 'units': 'm'}), 'description': 'Dolomite', 'data': {}, 'components': [Component({'lithology': 'dolomite'})]}), Interval({'top': Position({'middle': 88.98235294117647, 'x': 20.0, 'y': 20.0, 'units': 'm'}), 'base': Position({'middle': 95.9, 'x': 20.0, 'y': 20.0, 'units': 'm'}), 'description': 'Siltstone, grey', 'data': {}, 'components': [Component({'lithology': 'siltstone', 'colour': 'grey'})]}), Interval({'top': Position({'middle': 95.9, 'x': 20.0, 'y': 20.0, 'units': 'm'}), 'base': Position({'middle': 96.2764705882353, 'x': 20.0, 'y': 20.0, 'units': 'm'}), 'description': 'Dolomite', 'data': {}, 'components': [Component({'lithology': 'dolomite'})]}), Interval({'top': Position({'middle': 96.2764705882353, 'x': 20.0, 'y': 20.0, 'units': 'm'}), 'base': Position({'middle': 104.37058823529412, 'x': 20.0, 'y': 20.0, 'units': 'm'}), 'description': 'Siltstone, grey', 'data': {}, 'components': [Component({'lithology': 'siltstone', 'colour': 'grey'})]}), Interval({'top': Position({'middle': 104.37058823529412, 'x': 20.0, 'y': 20.0, 'units': 'm'}), 'base': Position({'middle': 104.74705882352941, 'x': 20.0, 'y': 20.0, 'units': 'm'}), 'description': 'Dolomite', 'data': {}, 'components': [Component({'lithology': 'dolomite'})]}), Interval({'top': Position({'middle': 104.74705882352941, 'x': 20.0, 'y': 20.0, 'units': 'm'}), 'base': Position({'middle': 129.68823529411765, 'x': 20.0, 'y': 20.0, 'units': 'm'}), 'description': 'Siltstone, grey', 'data': {}, 'components': [Component({'lithology': 'siltstone', 'colour': 'grey'})]}), Interval({'top': Position({'middle': 129.68823529411765, 'x': 20.0, 'y': 20.0, 'units': 'm'}), 'base': Position({'middle': 130.39411764705883, 'x': 20.0, 'y': 20.0, 'units': 'm'}), 'description': 'Dolomite', 'data': {}, 'components': [Component({'lithology': 'dolomite'})]}), Interval({'top': Position({'middle': 130.39411764705883, 'x': 20.0, 'y': 20.0, 'units': 'm'}), 'base': Position({'middle': 131.47647058823532, 'x': 20.0, 'y': 20.0, 'units': 'm'}), 'description': 'Limestone', 'data': {}, 'components': [Component({'lithology': 'limestone'})]}), Interval({'top': Position({'middle': 131.47647058823532, 'x': 20.0, 'y': 20.0, 'units': 'm'}), 'base': Position({'middle': 135.9, 'x': 20.0, 'y': 20.0, 'units': 'm'}), 'description': 'Volcanic', 'data': {}, 'components': [Component({})]})]\n"
     ]
    },
    {
     "name": "stdout",
     "output_type": "stream",
     "text": [
      "Borehole geometry created successfully !\n"
     ]
    }
   ],
   "source": [
    "p = Project(session)"
   ]
  },
  {
   "cell_type": "code",
   "execution_count": 6,
   "metadata": {},
   "outputs": [],
   "source": [
    "interval_list = get_interval_list(p.boreholes[0])"
   ]
  },
  {
   "cell_type": "code",
   "execution_count": 7,
   "metadata": {},
   "outputs": [
    {
     "name": "stdout",
     "output_type": "stream",
     "text": [
      "Borehole geometry created successfully !\n"
     ]
    }
   ],
   "source": [
    "bh3d = Borehole3D(interval_list, legend=legend)"
   ]
  },
  {
   "cell_type": "markdown",
   "metadata": {},
   "source": [
    "### Display the striplog"
   ]
  },
  {
   "cell_type": "code",
   "execution_count": 8,
   "metadata": {},
   "outputs": [
    {
     "data": {
      "text/plain": [
       "<AxesSubplot:>"
      ]
     },
     "execution_count": 8,
     "metadata": {},
     "output_type": "execute_result"
    },
    {
     "data": {
      "image/png": "[encoded data removed]",
      "text/plain": [
       "<Figure size 432x432 with 8 Axes>"
      ]
     },
     "metadata": {
      "needs_background": "light"
     },
     "output_type": "display_data"
    }
   ],
   "source": [
    "fix, ax = plt.subplots(ncols=2, figsize=(6,6))\n",
    "bh3d.plot(legend=legend, ax=ax[0])\n",
    "bh3d.legend.plot(ax=ax[1])"
   ]
  },
  {
   "cell_type": "markdown",
   "metadata": {},
   "source": [
    "### Display the borehole in 3D using the legend"
   ]
  },
  {
   "cell_type": "code",
   "execution_count": 9,
   "metadata": {
    "nbsphinx-thumbnail": {
     "tooltip": "Display onr borehole in 3D"
    }
   },
   "outputs": [
    {
     "data": {
      "image/png": "[encoded data removed]",
      "text/plain": [
       "<PIL.Image.Image image mode=RGB size=1024x768 at 0x7FA3C2B366A0>"
      ]
     },
     "metadata": {},
     "output_type": "display_data"
    }
   ],
   "source": [
    "bh3d.plot3d()"
   ]
  },
  {
   "cell_type": "markdown",
   "metadata": {},
   "source": [
    "### The Borehole in 3D using X3D for interaction within the notebook"
   ]
  },
  {
   "cell_type": "code",
   "execution_count": 10,
   "metadata": {},
   "outputs": [
    {
     "data": {
      "text/html": [
       "<html>\n",
       "<head>\n",
       "    <meta http-equiv=\"X-UA-Compatible\" content=\"IE=edge\"/>\n",
       "<title>X3D scene</title>\n",
       " <p><script type='text/javascript' src='http://www.x3dom.org/download/x3dom.js'> </script>\n",
       "<link rel='stylesheet' type='text/css' href='http://www.x3dom.org/download/x3dom.css'/>\n",
       "</head>\n",
       "<body>\n",
       "<p>\n",
       " For interaction, click in the view and press \"a\" to see the whole scene. For more info on interaction, please read  <a href=\"https://doc.x3dom.org/tutorials/animationInteraction/navigation/index.html\">the docs</a>  \n",
       "</p>\n",
       "<x3d width='968px' height='600px'>\n",
       " <scene>\n",
       "<viewpoint position=\"-1.94639 1.79771 -2.89271\" orientation=\"0.03886 0.99185 0.12133 3.75685\"></viewpoint>\n",
       " <Inline nameSpaceName=\"Borehole\" mapDEFToID=\"true\" url=\"BH_.x3d\" />\n",
       "</scene>\n",
       "</x3d>\n",
       "</body>\n",
       "</html>\n"
      ],
      "text/plain": [
       "<IPython.core.display.HTML object>"
      ]
     },
     "execution_count": 10,
     "metadata": {},
     "output_type": "execute_result"
    }
   ],
   "source": [
    "bh3d.plot3d(x3d=True)"
   ]
  },
  {
   "cell_type": "code",
   "execution_count": null,
   "metadata": {},
   "outputs": [],
   "source": []
  }
 ],
 "metadata": {
  "kernelspec": {
   "display_name": "Python 3",
   "language": "python",
   "name": "python3"
  },
  "language_info": {
   "codemirror_mode": {
    "name": "ipython",
    "version": 3
   },
   "file_extension": ".py",
   "mimetype": "text/x-python",
   "name": "python",
   "nbconvert_exporter": "python",
   "pygments_lexer": "ipython3",
   "version": "3.6.9"
  }
 },
 "nbformat": 4,
 "nbformat_minor": 4
}

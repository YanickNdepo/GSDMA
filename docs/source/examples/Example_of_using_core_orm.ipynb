{
 "cells": [
  {
   "cell_type": "markdown",
   "metadata": {},
   "source": [
    "# Example of using the orm classes"
   ]
  },
  {
   "cell_type": "markdown",
   "metadata": {},
   "source": [
    "Imports"
   ]
  },
  {
   "cell_type": "code",
   "execution_count": 1,
   "metadata": {},
   "outputs": [],
   "source": [
    "from os import remove\n",
    "from utils.io import striplog_from_text\n",
    "from core.core import Project\n",
    "from core.orm import BoreholeOrm, PositionOrm, Base\n",
    "from striplog import Lexicon, Striplog\n",
    "from sqlalchemy import create_engine\n",
    "from sqlalchemy.orm import sessionmaker\n",
    "from definitions import ROOT_DIR"
   ]
  },
  {
   "cell_type": "code",
   "execution_count": 2,
   "metadata": {},
   "outputs": [],
   "source": [
    "remove('./tmp/test_orm_db.db')"
   ]
  },
  {
   "cell_type": "markdown",
   "metadata": {},
   "source": [
    "Create the db engine and the database structure"
   ]
  },
  {
   "cell_type": "code",
   "execution_count": 3,
   "metadata": {},
   "outputs": [],
   "source": [
    "engine = create_engine('sqlite:///tmp/test_orm_db.db', echo=True)"
   ]
  },
  {
   "cell_type": "code",
   "execution_count": 4,
   "metadata": {
    "scrolled": true
   },
   "outputs": [
    {
     "name": "stdout",
     "output_type": "stream",
     "text": [
      "2021-02-01 07:26:38,054 INFO sqlalchemy.engine.base.Engine SELECT CAST('test plain returns' AS VARCHAR(60)) AS anon_1\n",
      "2021-02-01 07:26:38,056 INFO sqlalchemy.engine.base.Engine ()\n",
      "2021-02-01 07:26:38,061 INFO sqlalchemy.engine.base.Engine SELECT CAST('test unicode returns' AS VARCHAR(60)) AS anon_1\n",
      "2021-02-01 07:26:38,062 INFO sqlalchemy.engine.base.Engine ()\n",
      "2021-02-01 07:26:38,064 INFO sqlalchemy.engine.base.Engine PRAGMA main.table_info(\"Boreholes\")\n",
      "2021-02-01 07:26:38,066 INFO sqlalchemy.engine.base.Engine ()\n",
      "2021-02-01 07:26:38,070 INFO sqlalchemy.engine.base.Engine PRAGMA temp.table_info(\"Boreholes\")\n",
      "2021-02-01 07:26:38,071 INFO sqlalchemy.engine.base.Engine ()\n",
      "2021-02-01 07:26:38,072 INFO sqlalchemy.engine.base.Engine PRAGMA main.table_info(\"Positions\")\n",
      "2021-02-01 07:26:38,074 INFO sqlalchemy.engine.base.Engine ()\n",
      "2021-02-01 07:26:38,075 INFO sqlalchemy.engine.base.Engine PRAGMA temp.table_info(\"Positions\")\n",
      "2021-02-01 07:26:38,077 INFO sqlalchemy.engine.base.Engine ()\n",
      "2021-02-01 07:26:38,078 INFO sqlalchemy.engine.base.Engine PRAGMA main.table_info(\"Intervals\")\n",
      "2021-02-01 07:26:38,079 INFO sqlalchemy.engine.base.Engine ()\n",
      "2021-02-01 07:26:38,080 INFO sqlalchemy.engine.base.Engine PRAGMA temp.table_info(\"Intervals\")\n",
      "2021-02-01 07:26:38,082 INFO sqlalchemy.engine.base.Engine ()\n",
      "2021-02-01 07:26:38,083 INFO sqlalchemy.engine.base.Engine PRAGMA main.table_info(\"Components\")\n",
      "2021-02-01 07:26:38,084 INFO sqlalchemy.engine.base.Engine ()\n",
      "2021-02-01 07:26:38,086 INFO sqlalchemy.engine.base.Engine PRAGMA temp.table_info(\"Components\")\n",
      "2021-02-01 07:26:38,086 INFO sqlalchemy.engine.base.Engine ()\n",
      "2021-02-01 07:26:38,088 INFO sqlalchemy.engine.base.Engine PRAGMA main.table_info(\"Linkintervalcomponent\")\n",
      "2021-02-01 07:26:38,090 INFO sqlalchemy.engine.base.Engine ()\n",
      "2021-02-01 07:26:38,092 INFO sqlalchemy.engine.base.Engine PRAGMA temp.table_info(\"Linkintervalcomponent\")\n",
      "2021-02-01 07:26:38,094 INFO sqlalchemy.engine.base.Engine ()\n",
      "2021-02-01 07:26:38,096 INFO sqlalchemy.engine.base.Engine \n",
      "CREATE TABLE \"Boreholes\" (\n",
      "\tid VARCHAR(32) NOT NULL, \n",
      "\tPRIMARY KEY (id)\n",
      ")\n",
      "\n",
      "\n",
      "2021-02-01 07:26:38,097 INFO sqlalchemy.engine.base.Engine ()\n",
      "2021-02-01 07:26:38,205 INFO sqlalchemy.engine.base.Engine COMMIT\n",
      "2021-02-01 07:26:38,207 INFO sqlalchemy.engine.base.Engine \n",
      "CREATE TABLE \"Positions\" (\n",
      "\tid INTEGER NOT NULL, \n",
      "\tupper FLOAT, \n",
      "\tmiddle FLOAT, \n",
      "\tlower FLOAT, \n",
      "\tx FLOAT, \n",
      "\ty FLOAT, \n",
      "\tPRIMARY KEY (id)\n",
      ")\n",
      "\n",
      "\n",
      "2021-02-01 07:26:38,208 INFO sqlalchemy.engine.base.Engine ()\n",
      "2021-02-01 07:26:38,306 INFO sqlalchemy.engine.base.Engine COMMIT\n",
      "2021-02-01 07:26:38,308 INFO sqlalchemy.engine.base.Engine \n",
      "CREATE TABLE \"Components\" (\n",
      "\tid VARCHAR(32) NOT NULL, \n",
      "\tdescription VARCHAR(32), \n",
      "\tPRIMARY KEY (id)\n",
      ")\n",
      "\n",
      "\n",
      "2021-02-01 07:26:38,309 INFO sqlalchemy.engine.base.Engine ()\n",
      "2021-02-01 07:26:38,406 INFO sqlalchemy.engine.base.Engine COMMIT\n",
      "2021-02-01 07:26:38,408 INFO sqlalchemy.engine.base.Engine \n",
      "CREATE TABLE \"Intervals\" (\n",
      "\tid INTEGER NOT NULL, \n",
      "\tborehole VARCHAR(32), \n",
      "\tinterval_number INTEGER, \n",
      "\tdescription VARCHAR(32), \n",
      "\ttop_id INTEGER, \n",
      "\tbase_id INTEGER, \n",
      "\tPRIMARY KEY (id), \n",
      "\tFOREIGN KEY(borehole) REFERENCES \"Boreholes\" (id), \n",
      "\tFOREIGN KEY(top_id) REFERENCES \"Positions\" (id), \n",
      "\tFOREIGN KEY(base_id) REFERENCES \"Positions\" (id)\n",
      ")\n",
      "\n",
      "\n",
      "2021-02-01 07:26:38,410 INFO sqlalchemy.engine.base.Engine ()\n",
      "2021-02-01 07:26:38,490 INFO sqlalchemy.engine.base.Engine COMMIT\n",
      "2021-02-01 07:26:38,492 INFO sqlalchemy.engine.base.Engine \n",
      "CREATE TABLE \"Linkintervalcomponent\" (\n",
      "\tint_id INTEGER NOT NULL, \n",
      "\tcomp_id INTEGER NOT NULL, \n",
      "\tPRIMARY KEY (int_id, comp_id), \n",
      "\tFOREIGN KEY(int_id) REFERENCES \"Intervals\" (id), \n",
      "\tFOREIGN KEY(comp_id) REFERENCES \"Components\" (id)\n",
      ")\n",
      "\n",
      "\n",
      "2021-02-01 07:26:38,493 INFO sqlalchemy.engine.base.Engine ()\n",
      "2021-02-01 07:26:38,583 INFO sqlalchemy.engine.base.Engine COMMIT\n"
     ]
    }
   ],
   "source": [
    "Base.metadata.create_all(engine)"
   ]
  },
  {
   "cell_type": "markdown",
   "metadata": {},
   "source": [
    "### Create the objects from las files"
   ]
  },
  {
   "cell_type": "code",
   "execution_count": 5,
   "metadata": {},
   "outputs": [],
   "source": [
    "lexicon = Lexicon.default()"
   ]
  },
  {
   "cell_type": "code",
   "execution_count": 6,
   "metadata": {},
   "outputs": [],
   "source": [
    "borehole_dict = {'F01':ROOT_DIR+'/data/test.las', 'F02':ROOT_DIR+'/data/test.csv'} # boreholes to insert into the db"
   ]
  },
  {
   "cell_type": "code",
   "execution_count": 7,
   "metadata": {
    "scrolled": true
   },
   "outputs": [
    {
     "name": "stdout",
     "output_type": "stream",
     "text": [
      "File /home/yanathan/Projects/GSDMA/data/test.las OK! Creation of the striplog ...\n",
      "{0: {'description': 'Anhydrite', 'interval_number': 0, 'top': <core.orm.PositionOrm object at 0x7f8c1e34e358>, 'base': <core.orm.PositionOrm object at 0x7f8c1e34e320>}, 1: {'description': 'Sandstone, grey, vf-f', 'interval_number': 1, 'top': <core.orm.PositionOrm object at 0x7f8c1e2fc0f0>, 'base': <core.orm.PositionOrm object at 0x7f8c1e2fc208>}, 2: {'description': 'Anhydrite', 'interval_number': 2, 'top': <core.orm.PositionOrm object at 0x7f8c1e2fc2b0>, 'base': <core.orm.PositionOrm object at 0x7f8c1e2fc1d0>}, 3: {'description': 'Dolomite', 'interval_number': 3, 'top': <core.orm.PositionOrm object at 0x7f8c1e2fc358>, 'base': <core.orm.PositionOrm object at 0x7f8c1e2fc278>}, 4: {'description': 'Anhydrite', 'interval_number': 4, 'top': <core.orm.PositionOrm object at 0x7f8c1e2fc400>, 'base': <core.orm.PositionOrm object at 0x7f8c1e2fc3c8>}, 5: {'description': 'Sandstone, grey, vf-f', 'interval_number': 5, 'top': <core.orm.PositionOrm object at 0x7f8c1e2fc588>, 'base': <core.orm.PositionOrm object at 0x7f8c1e2fc240>}, 6: {'description': 'Siltstone, red', 'interval_number': 6, 'top': <core.orm.PositionOrm object at 0x7f8c1e2fc438>, 'base': <core.orm.PositionOrm object at 0x7f8c1e2fc668>}, 7: {'description': 'Dolomite', 'interval_number': 7, 'top': <core.orm.PositionOrm object at 0x7f8c1e2fc780>, 'base': <core.orm.PositionOrm object at 0x7f8c1e2fc630>}, 8: {'description': 'Siltstone, grey', 'interval_number': 8, 'top': <core.orm.PositionOrm object at 0x7f8c1e2fc748>, 'base': <core.orm.PositionOrm object at 0x7f8c1e2fca58>}, 9: {'description': 'Dolomite', 'interval_number': 9, 'top': <core.orm.PositionOrm object at 0x7f8c1e2fc978>, 'base': <core.orm.PositionOrm object at 0x7f8c1e2fc940>}, 10: {'description': 'Sandstone, grey, vf-f', 'interval_number': 10, 'top': <core.orm.PositionOrm object at 0x7f8c1e2fca90>, 'base': <core.orm.PositionOrm object at 0x7f8c1e2fcc88>}, 11: {'description': 'Dolomite', 'interval_number': 11, 'top': <core.orm.PositionOrm object at 0x7f8c1e2fcba8>, 'base': <core.orm.PositionOrm object at 0x7f8c1e2fcb70>}, 12: {'description': 'Sandstone, grey, vf-f', 'interval_number': 12, 'top': <core.orm.PositionOrm object at 0x7f8c1e2fccc0>, 'base': <core.orm.PositionOrm object at 0x7f8c1e2fc9e8>}, 13: {'description': 'Siltstone, grey', 'interval_number': 13, 'top': <core.orm.PositionOrm object at 0x7f8c1e2fcc18>, 'base': <core.orm.PositionOrm object at 0x7f8c1e2fceb8>}, 14: {'description': 'Dolomite', 'interval_number': 14, 'top': <core.orm.PositionOrm object at 0x7f8c1e2fcef0>, 'base': <core.orm.PositionOrm object at 0x7f8c1e2fcf98>}, 15: {'description': 'Siltstone, grey', 'interval_number': 15, 'top': <core.orm.PositionOrm object at 0x7f8c1e2fcd68>, 'base': <core.orm.PositionOrm object at 0x7f8c1e2fcb38>}, 16: {'description': 'Dolomite', 'interval_number': 16, 'top': <core.orm.PositionOrm object at 0x7f8c1e2e8ba8>, 'base': <core.orm.PositionOrm object at 0x7f8c1e2e8e10>}, 17: {'description': 'Siltstone, grey', 'interval_number': 17, 'top': <core.orm.PositionOrm object at 0x7f8c1e2e8fd0>, 'base': <core.orm.PositionOrm object at 0x7f8c1e2e8e80>}, 18: {'description': 'Dolomite', 'interval_number': 18, 'top': <core.orm.PositionOrm object at 0x7f8c1e2e8e48>, 'base': <core.orm.PositionOrm object at 0x7f8c1e2e8c88>}, 19: {'description': 'Siltstone, grey', 'interval_number': 19, 'top': <core.orm.PositionOrm object at 0x7f8c1e2e8da0>, 'base': <core.orm.PositionOrm object at 0x7f8c1e2e8c18>}, 20: {'description': 'Dolomite', 'interval_number': 20, 'top': <core.orm.PositionOrm object at 0x7f8c1e3005f8>, 'base': <core.orm.PositionOrm object at 0x7f8c1e300828>}, 21: {'description': 'Siltstone, grey', 'interval_number': 21, 'top': <core.orm.PositionOrm object at 0x7f8c1e3000b8>, 'base': <core.orm.PositionOrm object at 0x7f8c1e3000f0>}, 22: {'description': 'Dolomite', 'interval_number': 22, 'top': <core.orm.PositionOrm object at 0x7f8c1e300278>, 'base': <core.orm.PositionOrm object at 0x7f8c1e3001d0>}, 23: {'description': 'Limestone', 'interval_number': 23, 'top': <core.orm.PositionOrm object at 0x7f8c1e300358>, 'base': <core.orm.PositionOrm object at 0x7f8c1e300208>}, 24: {'description': 'Volcanic', 'interval_number': 24, 'top': <core.orm.PositionOrm object at 0x7f8c1e300470>, 'base': <core.orm.PositionOrm object at 0x7f8c1e3003c8>}}\n",
      "File /home/yanathan/Projects/GSDMA/data/test.csv OK! Creation of the striplog ...\n",
      "{25: {'description': 'Anhydrite', 'interval_number': 0, 'top': <core.orm.PositionOrm object at 0x7f8c1e306160>, 'base': <core.orm.PositionOrm object at 0x7f8c1e3061d0>}, 26: {'description': 'Grey vf-f sandstone', 'interval_number': 1, 'top': <core.orm.PositionOrm object at 0x7f8c1e306278>, 'base': <core.orm.PositionOrm object at 0x7f8c1e306390>}, 27: {'description': 'Red siltstone', 'interval_number': 2, 'top': <core.orm.PositionOrm object at 0x7f8c1e306470>, 'base': <core.orm.PositionOrm object at 0x7f8c1e306550>}}\n"
     ]
    }
   ],
   "source": [
    "int_id = 0\n",
    "bh_id = 0\n",
    "pos_id = 0\n",
    "boreholes = []\n",
    "components = []\n",
    "comp_id = 0\n",
    "component_dict={}\n",
    "pos_dict = {}\n",
    "x = [0., 20.]\n",
    "y = [0., 120.]\n",
    "\n",
    "for bh, filename in borehole_dict.items():\n",
    "    interval_number = 0\n",
    "    boreholes.append(BoreholeOrm(id=bh))\n",
    "    \n",
    "    strip=striplog_from_text(filename)\n",
    "    \n",
    "    for c in strip.components:\n",
    "        if c not in component_dict.keys():\n",
    "            component_dict.update({c:comp_id})\n",
    "            comp_id += 1\n",
    "    d ={}\n",
    "    for interval in strip:\n",
    "        top = PositionOrm(id=pos_id, upper=interval.top.upper, \n",
    "                          middle=interval.top.middle,  \n",
    "                          lower=interval.top.lower, \n",
    "                          x=x[bh_id], y=y[bh_id])\n",
    "        \n",
    "        base = PositionOrm(id=pos_id+1, upper=interval.base.upper, \n",
    "                           middle=interval.base.middle,  \n",
    "                           lower=interval.base.lower, \n",
    "                           x=x[bh_id], y=y[bh_id])\n",
    "        \n",
    "        d.update({int_id:{'description':interval.description, \n",
    "                          'interval_number' : interval_number, \n",
    "                          'top': top, 'base': base \n",
    "                         }})\n",
    "        \n",
    "        interval_number+=1\n",
    "        int_id += 1\n",
    "        pos_id += 2\n",
    "\n",
    " \n",
    "\n",
    "    print(d)\n",
    "    boreholes[bh_id].intervals_values = d\n",
    "    #boreholes[bh_id].components_values = c\n",
    "    bh_id += 1 \n",
    "components = {v:k for k,v in component_dict.items()}"
   ]
  },
  {
   "cell_type": "markdown",
   "metadata": {},
   "source": [
    "Create the session"
   ]
  },
  {
   "cell_type": "code",
   "execution_count": 8,
   "metadata": {},
   "outputs": [],
   "source": [
    "Session = sessionmaker(bind=engine)\n",
    "session = Session()"
   ]
  },
  {
   "cell_type": "markdown",
   "metadata": {},
   "source": [
    "Create the project"
   ]
  },
  {
   "cell_type": "code",
   "execution_count": 9,
   "metadata": {
    "scrolled": false
   },
   "outputs": [
    {
     "name": "stdout",
     "output_type": "stream",
     "text": [
      "2021-02-01 07:26:38,970 INFO sqlalchemy.engine.base.Engine BEGIN (implicit)\n",
      "2021-02-01 07:26:38,972 INFO sqlalchemy.engine.base.Engine SELECT \"Boreholes\".id AS \"Boreholes_id\" \n",
      "FROM \"Boreholes\"\n",
      "2021-02-01 07:26:38,973 INFO sqlalchemy.engine.base.Engine ()\n",
      "2021-02-01 07:26:38,979 INFO sqlalchemy.engine.base.Engine INSERT INTO \"Components\" (id, description) VALUES (?, ?)\n",
      "2021-02-01 07:26:38,980 INFO sqlalchemy.engine.base.Engine ((0, 'Siltstone, grey'), (1, 'Anhydrite'), (2, 'Sandstone, vf-f, grey'), (3, 'Dolomite'), (4, 'Siltstone, red'), (5, 'Limestone'))\n",
      "2021-02-01 07:26:38,983 INFO sqlalchemy.engine.base.Engine COMMIT\n",
      "2021-02-01 07:26:39,143 INFO sqlalchemy.engine.base.Engine BEGIN (implicit)\n",
      "2021-02-01 07:26:39,147 INFO sqlalchemy.engine.base.Engine SELECT \"Boreholes\".id AS \"Boreholes_id\" \n",
      "FROM \"Boreholes\"\n",
      "2021-02-01 07:26:39,149 INFO sqlalchemy.engine.base.Engine ()\n"
     ]
    }
   ],
   "source": [
    "p = Project(session)\n",
    "p.add_components(components)"
   ]
  },
  {
   "cell_type": "markdown",
   "metadata": {},
   "source": [
    "Add boreholes into the database"
   ]
  },
  {
   "cell_type": "code",
   "execution_count": 10,
   "metadata": {},
   "outputs": [
    {
     "name": "stdout",
     "output_type": "stream",
     "text": [
      "2021-02-01 07:26:39,160 INFO sqlalchemy.engine.base.Engine INSERT INTO \"Boreholes\" (id) VALUES (?)\n",
      "2021-02-01 07:26:39,162 INFO sqlalchemy.engine.base.Engine ('F01',)\n",
      "2021-02-01 07:26:39,171 INFO sqlalchemy.engine.base.Engine INSERT INTO \"Positions\" (id, upper, middle, lower, x, y) VALUES (?, ?, ?, ?, ?, ?)\n",
      "2021-02-01 07:26:39,173 INFO sqlalchemy.engine.base.Engine ((0, 14.3, 14.3, 14.3, 0.0, 0.0), (1, 51.24117647058824, 51.24117647058824, 51.24117647058824, 0.0, 0.0), (2, 51.24117647058824, 51.24117647058824, 51.24117647058824, 0.0, 0.0), (3, 54.81764705882354, 54.81764705882354, 54.81764705882354, 0.0, 0.0), (4, 54.81764705882354, 54.81764705882354, 54.81764705882354, 0.0, 0.0), (5, 56.55882352941177, 56.55882352941177, 56.55882352941177, 0.0, 0.0), (6, 56.55882352941177, 56.55882352941177, 56.55882352941177, 0.0, 0.0), (7, 58.86470588235295, 58.86470588235295, 58.86470588235295, 0.0, 0.0)  ... displaying 10 of 50 total bound parameter sets ...  (48, 131.47647058823532, 131.47647058823532, 131.47647058823532, 0.0, 0.0), (49, 135.9, 135.9, 135.9, 0.0, 0.0))\n",
      "2021-02-01 07:26:39,186 INFO sqlalchemy.engine.base.Engine INSERT INTO \"Intervals\" (id, borehole, interval_number, description, top_id, base_id) VALUES (?, ?, ?, ?, ?, ?)\n",
      "2021-02-01 07:26:39,187 INFO sqlalchemy.engine.base.Engine ((0, 'F01', 0, 'Anhydrite', 0, 1), (1, 'F01', 1, 'Sandstone, grey, vf-f', 2, 3), (2, 'F01', 2, 'Anhydrite', 4, 5), (3, 'F01', 3, 'Dolomite', 6, 7), (4, 'F01', 4, 'Anhydrite', 8, 9), (5, 'F01', 5, 'Sandstone, grey, vf-f', 10, 11), (6, 'F01', 6, 'Siltstone, red', 12, 13), (7, 'F01', 7, 'Dolomite', 14, 15)  ... displaying 10 of 25 total bound parameter sets ...  (23, 'F01', 23, 'Limestone', 46, 47), (24, 'F01', 24, 'Volcanic', 48, 49))\n",
      "2021-02-01 07:26:39,196 INFO sqlalchemy.engine.base.Engine COMMIT\n",
      "2021-02-01 07:26:39,356 INFO sqlalchemy.engine.base.Engine BEGIN (implicit)\n",
      "2021-02-01 07:26:39,357 INFO sqlalchemy.engine.base.Engine SELECT \"Boreholes\".id AS \"Boreholes_id\" \n",
      "FROM \"Boreholes\"\n",
      "2021-02-01 07:26:39,358 INFO sqlalchemy.engine.base.Engine ()\n",
      "2021-02-01 07:26:39,363 INFO sqlalchemy.engine.base.Engine SELECT \"Intervals\".id AS \"Intervals_id\", \"Intervals\".borehole AS \"Intervals_borehole\", \"Intervals\".interval_number AS \"Intervals_interval_number\", \"Intervals\".description AS \"Intervals_description\", \"Intervals\".top_id AS \"Intervals_top_id\", \"Intervals\".base_id AS \"Intervals_base_id\" \n",
      "FROM \"Intervals\" \n",
      "WHERE ? = \"Intervals\".borehole\n",
      "2021-02-01 07:26:39,364 INFO sqlalchemy.engine.base.Engine ('F01',)\n",
      "2021-02-01 07:26:39,369 INFO sqlalchemy.engine.base.Engine SELECT \"Positions\".id AS \"Positions_id\", \"Positions\".upper AS \"Positions_upper\", \"Positions\".middle AS \"Positions_middle\", \"Positions\".lower AS \"Positions_lower\", \"Positions\".x AS \"Positions_x\", \"Positions\".y AS \"Positions_y\" \n",
      "FROM \"Positions\" \n",
      "WHERE \"Positions\".id = ?\n",
      "2021-02-01 07:26:39,370 INFO sqlalchemy.engine.base.Engine (0,)\n",
      "2021-02-01 07:26:39,372 INFO sqlalchemy.engine.base.Engine SELECT \"Positions\".id AS \"Positions_id\", \"Positions\".upper AS \"Positions_upper\", \"Positions\".middle AS \"Positions_middle\", \"Positions\".lower AS \"Positions_lower\", \"Positions\".x AS \"Positions_x\", \"Positions\".y AS \"Positions_y\" \n",
      "FROM \"Positions\" \n",
      "WHERE \"Positions\".id = ?\n",
      "2021-02-01 07:26:39,373 INFO sqlalchemy.engine.base.Engine (1,)\n",
      "2021-02-01 07:26:39,375 INFO sqlalchemy.engine.base.Engine SELECT \"Positions\".id AS \"Positions_id\", \"Positions\".upper AS \"Positions_upper\", \"Positions\".middle AS \"Positions_middle\", \"Positions\".lower AS \"Positions_lower\", \"Positions\".x AS \"Positions_x\", \"Positions\".y AS \"Positions_y\" \n",
      "FROM \"Positions\" \n",
      "WHERE \"Positions\".id = ?\n",
      "2021-02-01 07:26:39,378 INFO sqlalchemy.engine.base.Engine (2,)\n",
      "2021-02-01 07:26:39,380 INFO sqlalchemy.engine.base.Engine SELECT \"Positions\".id AS \"Positions_id\", \"Positions\".upper AS \"Positions_upper\", \"Positions\".middle AS \"Positions_middle\", \"Positions\".lower AS \"Positions_lower\", \"Positions\".x AS \"Positions_x\", \"Positions\".y AS \"Positions_y\" \n",
      "FROM \"Positions\" \n",
      "WHERE \"Positions\".id = ?\n",
      "2021-02-01 07:26:39,382 INFO sqlalchemy.engine.base.Engine (3,)\n",
      "2021-02-01 07:26:39,384 INFO sqlalchemy.engine.base.Engine SELECT \"Positions\".id AS \"Positions_id\", \"Positions\".upper AS \"Positions_upper\", \"Positions\".middle AS \"Positions_middle\", \"Positions\".lower AS \"Positions_lower\", \"Positions\".x AS \"Positions_x\", \"Positions\".y AS \"Positions_y\" \n",
      "FROM \"Positions\" \n",
      "WHERE \"Positions\".id = ?\n",
      "2021-02-01 07:26:39,386 INFO sqlalchemy.engine.base.Engine (4,)\n",
      "2021-02-01 07:26:39,388 INFO sqlalchemy.engine.base.Engine SELECT \"Positions\".id AS \"Positions_id\", \"Positions\".upper AS \"Positions_upper\", \"Positions\".middle AS \"Positions_middle\", \"Positions\".lower AS \"Positions_lower\", \"Positions\".x AS \"Positions_x\", \"Positions\".y AS \"Positions_y\" \n",
      "FROM \"Positions\" \n",
      "WHERE \"Positions\".id = ?\n",
      "2021-02-01 07:26:39,389 INFO sqlalchemy.engine.base.Engine (5,)\n",
      "2021-02-01 07:26:39,393 INFO sqlalchemy.engine.base.Engine SELECT \"Positions\".id AS \"Positions_id\", \"Positions\".upper AS \"Positions_upper\", \"Positions\".middle AS \"Positions_middle\", \"Positions\".lower AS \"Positions_lower\", \"Positions\".x AS \"Positions_x\", \"Positions\".y AS \"Positions_y\" \n",
      "FROM \"Positions\" \n",
      "WHERE \"Positions\".id = ?\n",
      "2021-02-01 07:26:39,397 INFO sqlalchemy.engine.base.Engine (6,)\n",
      "2021-02-01 07:26:39,399 INFO sqlalchemy.engine.base.Engine SELECT \"Positions\".id AS \"Positions_id\", \"Positions\".upper AS \"Positions_upper\", \"Positions\".middle AS \"Positions_middle\", \"Positions\".lower AS \"Positions_lower\", \"Positions\".x AS \"Positions_x\", \"Positions\".y AS \"Positions_y\" \n",
      "FROM \"Positions\" \n",
      "WHERE \"Positions\".id = ?\n",
      "2021-02-01 07:26:39,401 INFO sqlalchemy.engine.base.Engine (7,)\n",
      "2021-02-01 07:26:39,403 INFO sqlalchemy.engine.base.Engine SELECT \"Positions\".id AS \"Positions_id\", \"Positions\".upper AS \"Positions_upper\", \"Positions\".middle AS \"Positions_middle\", \"Positions\".lower AS \"Positions_lower\", \"Positions\".x AS \"Positions_x\", \"Positions\".y AS \"Positions_y\" \n",
      "FROM \"Positions\" \n",
      "WHERE \"Positions\".id = ?\n",
      "2021-02-01 07:26:39,404 INFO sqlalchemy.engine.base.Engine (8,)\n",
      "2021-02-01 07:26:39,406 INFO sqlalchemy.engine.base.Engine SELECT \"Positions\".id AS \"Positions_id\", \"Positions\".upper AS \"Positions_upper\", \"Positions\".middle AS \"Positions_middle\", \"Positions\".lower AS \"Positions_lower\", \"Positions\".x AS \"Positions_x\", \"Positions\".y AS \"Positions_y\" \n",
      "FROM \"Positions\" \n",
      "WHERE \"Positions\".id = ?\n",
      "2021-02-01 07:26:39,408 INFO sqlalchemy.engine.base.Engine (9,)\n",
      "2021-02-01 07:26:39,410 INFO sqlalchemy.engine.base.Engine SELECT \"Positions\".id AS \"Positions_id\", \"Positions\".upper AS \"Positions_upper\", \"Positions\".middle AS \"Positions_middle\", \"Positions\".lower AS \"Positions_lower\", \"Positions\".x AS \"Positions_x\", \"Positions\".y AS \"Positions_y\" \n",
      "FROM \"Positions\" \n",
      "WHERE \"Positions\".id = ?\n",
      "2021-02-01 07:26:39,412 INFO sqlalchemy.engine.base.Engine (10,)\n",
      "2021-02-01 07:26:39,415 INFO sqlalchemy.engine.base.Engine SELECT \"Positions\".id AS \"Positions_id\", \"Positions\".upper AS \"Positions_upper\", \"Positions\".middle AS \"Positions_middle\", \"Positions\".lower AS \"Positions_lower\", \"Positions\".x AS \"Positions_x\", \"Positions\".y AS \"Positions_y\" \n",
      "FROM \"Positions\" \n",
      "WHERE \"Positions\".id = ?\n",
      "2021-02-01 07:26:39,418 INFO sqlalchemy.engine.base.Engine (11,)\n",
      "2021-02-01 07:26:39,420 INFO sqlalchemy.engine.base.Engine SELECT \"Positions\".id AS \"Positions_id\", \"Positions\".upper AS \"Positions_upper\", \"Positions\".middle AS \"Positions_middle\", \"Positions\".lower AS \"Positions_lower\", \"Positions\".x AS \"Positions_x\", \"Positions\".y AS \"Positions_y\" \n",
      "FROM \"Positions\" \n",
      "WHERE \"Positions\".id = ?\n",
      "2021-02-01 07:26:39,422 INFO sqlalchemy.engine.base.Engine (12,)\n",
      "2021-02-01 07:26:39,431 INFO sqlalchemy.engine.base.Engine SELECT \"Positions\".id AS \"Positions_id\", \"Positions\".upper AS \"Positions_upper\", \"Positions\".middle AS \"Positions_middle\", \"Positions\".lower AS \"Positions_lower\", \"Positions\".x AS \"Positions_x\", \"Positions\".y AS \"Positions_y\" \n",
      "FROM \"Positions\" \n",
      "WHERE \"Positions\".id = ?\n",
      "2021-02-01 07:26:39,433 INFO sqlalchemy.engine.base.Engine (13,)\n",
      "2021-02-01 07:26:39,435 INFO sqlalchemy.engine.base.Engine SELECT \"Positions\".id AS \"Positions_id\", \"Positions\".upper AS \"Positions_upper\", \"Positions\".middle AS \"Positions_middle\", \"Positions\".lower AS \"Positions_lower\", \"Positions\".x AS \"Positions_x\", \"Positions\".y AS \"Positions_y\" \n",
      "FROM \"Positions\" \n",
      "WHERE \"Positions\".id = ?\n"
     ]
    },
    {
     "name": "stdout",
     "output_type": "stream",
     "text": [
      "2021-02-01 07:26:39,436 INFO sqlalchemy.engine.base.Engine (14,)\n",
      "2021-02-01 07:26:39,438 INFO sqlalchemy.engine.base.Engine SELECT \"Positions\".id AS \"Positions_id\", \"Positions\".upper AS \"Positions_upper\", \"Positions\".middle AS \"Positions_middle\", \"Positions\".lower AS \"Positions_lower\", \"Positions\".x AS \"Positions_x\", \"Positions\".y AS \"Positions_y\" \n",
      "FROM \"Positions\" \n",
      "WHERE \"Positions\".id = ?\n",
      "2021-02-01 07:26:39,439 INFO sqlalchemy.engine.base.Engine (15,)\n",
      "2021-02-01 07:26:39,443 INFO sqlalchemy.engine.base.Engine SELECT \"Positions\".id AS \"Positions_id\", \"Positions\".upper AS \"Positions_upper\", \"Positions\".middle AS \"Positions_middle\", \"Positions\".lower AS \"Positions_lower\", \"Positions\".x AS \"Positions_x\", \"Positions\".y AS \"Positions_y\" \n",
      "FROM \"Positions\" \n",
      "WHERE \"Positions\".id = ?\n",
      "2021-02-01 07:26:39,445 INFO sqlalchemy.engine.base.Engine (16,)\n",
      "2021-02-01 07:26:39,447 INFO sqlalchemy.engine.base.Engine SELECT \"Positions\".id AS \"Positions_id\", \"Positions\".upper AS \"Positions_upper\", \"Positions\".middle AS \"Positions_middle\", \"Positions\".lower AS \"Positions_lower\", \"Positions\".x AS \"Positions_x\", \"Positions\".y AS \"Positions_y\" \n",
      "FROM \"Positions\" \n",
      "WHERE \"Positions\".id = ?\n",
      "2021-02-01 07:26:39,449 INFO sqlalchemy.engine.base.Engine (17,)\n",
      "2021-02-01 07:26:39,453 INFO sqlalchemy.engine.base.Engine SELECT \"Positions\".id AS \"Positions_id\", \"Positions\".upper AS \"Positions_upper\", \"Positions\".middle AS \"Positions_middle\", \"Positions\".lower AS \"Positions_lower\", \"Positions\".x AS \"Positions_x\", \"Positions\".y AS \"Positions_y\" \n",
      "FROM \"Positions\" \n",
      "WHERE \"Positions\".id = ?\n",
      "2021-02-01 07:26:39,456 INFO sqlalchemy.engine.base.Engine (18,)\n",
      "2021-02-01 07:26:39,458 INFO sqlalchemy.engine.base.Engine SELECT \"Positions\".id AS \"Positions_id\", \"Positions\".upper AS \"Positions_upper\", \"Positions\".middle AS \"Positions_middle\", \"Positions\".lower AS \"Positions_lower\", \"Positions\".x AS \"Positions_x\", \"Positions\".y AS \"Positions_y\" \n",
      "FROM \"Positions\" \n",
      "WHERE \"Positions\".id = ?\n",
      "2021-02-01 07:26:39,459 INFO sqlalchemy.engine.base.Engine (19,)\n",
      "2021-02-01 07:26:39,462 INFO sqlalchemy.engine.base.Engine SELECT \"Positions\".id AS \"Positions_id\", \"Positions\".upper AS \"Positions_upper\", \"Positions\".middle AS \"Positions_middle\", \"Positions\".lower AS \"Positions_lower\", \"Positions\".x AS \"Positions_x\", \"Positions\".y AS \"Positions_y\" \n",
      "FROM \"Positions\" \n",
      "WHERE \"Positions\".id = ?\n",
      "2021-02-01 07:26:39,464 INFO sqlalchemy.engine.base.Engine (20,)\n",
      "2021-02-01 07:26:39,468 INFO sqlalchemy.engine.base.Engine SELECT \"Positions\".id AS \"Positions_id\", \"Positions\".upper AS \"Positions_upper\", \"Positions\".middle AS \"Positions_middle\", \"Positions\".lower AS \"Positions_lower\", \"Positions\".x AS \"Positions_x\", \"Positions\".y AS \"Positions_y\" \n",
      "FROM \"Positions\" \n",
      "WHERE \"Positions\".id = ?\n",
      "2021-02-01 07:26:39,469 INFO sqlalchemy.engine.base.Engine (21,)\n",
      "2021-02-01 07:26:39,471 INFO sqlalchemy.engine.base.Engine SELECT \"Positions\".id AS \"Positions_id\", \"Positions\".upper AS \"Positions_upper\", \"Positions\".middle AS \"Positions_middle\", \"Positions\".lower AS \"Positions_lower\", \"Positions\".x AS \"Positions_x\", \"Positions\".y AS \"Positions_y\" \n",
      "FROM \"Positions\" \n",
      "WHERE \"Positions\".id = ?\n",
      "2021-02-01 07:26:39,475 INFO sqlalchemy.engine.base.Engine (22,)\n",
      "2021-02-01 07:26:39,477 INFO sqlalchemy.engine.base.Engine SELECT \"Positions\".id AS \"Positions_id\", \"Positions\".upper AS \"Positions_upper\", \"Positions\".middle AS \"Positions_middle\", \"Positions\".lower AS \"Positions_lower\", \"Positions\".x AS \"Positions_x\", \"Positions\".y AS \"Positions_y\" \n",
      "FROM \"Positions\" \n",
      "WHERE \"Positions\".id = ?\n",
      "2021-02-01 07:26:39,480 INFO sqlalchemy.engine.base.Engine (23,)\n",
      "2021-02-01 07:26:39,483 INFO sqlalchemy.engine.base.Engine SELECT \"Positions\".id AS \"Positions_id\", \"Positions\".upper AS \"Positions_upper\", \"Positions\".middle AS \"Positions_middle\", \"Positions\".lower AS \"Positions_lower\", \"Positions\".x AS \"Positions_x\", \"Positions\".y AS \"Positions_y\" \n",
      "FROM \"Positions\" \n",
      "WHERE \"Positions\".id = ?\n",
      "2021-02-01 07:26:39,484 INFO sqlalchemy.engine.base.Engine (24,)\n",
      "2021-02-01 07:26:39,486 INFO sqlalchemy.engine.base.Engine SELECT \"Positions\".id AS \"Positions_id\", \"Positions\".upper AS \"Positions_upper\", \"Positions\".middle AS \"Positions_middle\", \"Positions\".lower AS \"Positions_lower\", \"Positions\".x AS \"Positions_x\", \"Positions\".y AS \"Positions_y\" \n",
      "FROM \"Positions\" \n",
      "WHERE \"Positions\".id = ?\n",
      "2021-02-01 07:26:39,487 INFO sqlalchemy.engine.base.Engine (25,)\n",
      "2021-02-01 07:26:39,489 INFO sqlalchemy.engine.base.Engine SELECT \"Positions\".id AS \"Positions_id\", \"Positions\".upper AS \"Positions_upper\", \"Positions\".middle AS \"Positions_middle\", \"Positions\".lower AS \"Positions_lower\", \"Positions\".x AS \"Positions_x\", \"Positions\".y AS \"Positions_y\" \n",
      "FROM \"Positions\" \n",
      "WHERE \"Positions\".id = ?\n",
      "2021-02-01 07:26:39,492 INFO sqlalchemy.engine.base.Engine (26,)\n",
      "2021-02-01 07:26:39,495 INFO sqlalchemy.engine.base.Engine SELECT \"Positions\".id AS \"Positions_id\", \"Positions\".upper AS \"Positions_upper\", \"Positions\".middle AS \"Positions_middle\", \"Positions\".lower AS \"Positions_lower\", \"Positions\".x AS \"Positions_x\", \"Positions\".y AS \"Positions_y\" \n",
      "FROM \"Positions\" \n",
      "WHERE \"Positions\".id = ?\n",
      "2021-02-01 07:26:39,496 INFO sqlalchemy.engine.base.Engine (27,)\n",
      "2021-02-01 07:26:39,501 INFO sqlalchemy.engine.base.Engine SELECT \"Positions\".id AS \"Positions_id\", \"Positions\".upper AS \"Positions_upper\", \"Positions\".middle AS \"Positions_middle\", \"Positions\".lower AS \"Positions_lower\", \"Positions\".x AS \"Positions_x\", \"Positions\".y AS \"Positions_y\" \n",
      "FROM \"Positions\" \n",
      "WHERE \"Positions\".id = ?\n",
      "2021-02-01 07:26:39,503 INFO sqlalchemy.engine.base.Engine (28,)\n",
      "2021-02-01 07:26:39,505 INFO sqlalchemy.engine.base.Engine SELECT \"Positions\".id AS \"Positions_id\", \"Positions\".upper AS \"Positions_upper\", \"Positions\".middle AS \"Positions_middle\", \"Positions\".lower AS \"Positions_lower\", \"Positions\".x AS \"Positions_x\", \"Positions\".y AS \"Positions_y\" \n",
      "FROM \"Positions\" \n",
      "WHERE \"Positions\".id = ?\n",
      "2021-02-01 07:26:39,506 INFO sqlalchemy.engine.base.Engine (29,)\n",
      "2021-02-01 07:26:39,508 INFO sqlalchemy.engine.base.Engine SELECT \"Positions\".id AS \"Positions_id\", \"Positions\".upper AS \"Positions_upper\", \"Positions\".middle AS \"Positions_middle\", \"Positions\".lower AS \"Positions_lower\", \"Positions\".x AS \"Positions_x\", \"Positions\".y AS \"Positions_y\" \n",
      "FROM \"Positions\" \n",
      "WHERE \"Positions\".id = ?\n",
      "2021-02-01 07:26:39,512 INFO sqlalchemy.engine.base.Engine (30,)\n",
      "2021-02-01 07:26:39,514 INFO sqlalchemy.engine.base.Engine SELECT \"Positions\".id AS \"Positions_id\", \"Positions\".upper AS \"Positions_upper\", \"Positions\".middle AS \"Positions_middle\", \"Positions\".lower AS \"Positions_lower\", \"Positions\".x AS \"Positions_x\", \"Positions\".y AS \"Positions_y\" \n",
      "FROM \"Positions\" \n",
      "WHERE \"Positions\".id = ?\n",
      "2021-02-01 07:26:39,516 INFO sqlalchemy.engine.base.Engine (31,)\n",
      "2021-02-01 07:26:39,519 INFO sqlalchemy.engine.base.Engine SELECT \"Positions\".id AS \"Positions_id\", \"Positions\".upper AS \"Positions_upper\", \"Positions\".middle AS \"Positions_middle\", \"Positions\".lower AS \"Positions_lower\", \"Positions\".x AS \"Positions_x\", \"Positions\".y AS \"Positions_y\" \n",
      "FROM \"Positions\" \n",
      "WHERE \"Positions\".id = ?\n",
      "2021-02-01 07:26:39,520 INFO sqlalchemy.engine.base.Engine (32,)\n",
      "2021-02-01 07:26:39,523 INFO sqlalchemy.engine.base.Engine SELECT \"Positions\".id AS \"Positions_id\", \"Positions\".upper AS \"Positions_upper\", \"Positions\".middle AS \"Positions_middle\", \"Positions\".lower AS \"Positions_lower\", \"Positions\".x AS \"Positions_x\", \"Positions\".y AS \"Positions_y\" \n",
      "FROM \"Positions\" \n",
      "WHERE \"Positions\".id = ?\n",
      "2021-02-01 07:26:39,525 INFO sqlalchemy.engine.base.Engine (33,)\n",
      "2021-02-01 07:26:39,527 INFO sqlalchemy.engine.base.Engine SELECT \"Positions\".id AS \"Positions_id\", \"Positions\".upper AS \"Positions_upper\", \"Positions\".middle AS \"Positions_middle\", \"Positions\".lower AS \"Positions_lower\", \"Positions\".x AS \"Positions_x\", \"Positions\".y AS \"Positions_y\" \n",
      "FROM \"Positions\" \n",
      "WHERE \"Positions\".id = ?\n",
      "2021-02-01 07:26:39,529 INFO sqlalchemy.engine.base.Engine (34,)\n",
      "2021-02-01 07:26:39,531 INFO sqlalchemy.engine.base.Engine SELECT \"Positions\".id AS \"Positions_id\", \"Positions\".upper AS \"Positions_upper\", \"Positions\".middle AS \"Positions_middle\", \"Positions\".lower AS \"Positions_lower\", \"Positions\".x AS \"Positions_x\", \"Positions\".y AS \"Positions_y\" \n",
      "FROM \"Positions\" \n",
      "WHERE \"Positions\".id = ?\n"
     ]
    },
    {
     "name": "stdout",
     "output_type": "stream",
     "text": [
      "2021-02-01 07:26:39,532 INFO sqlalchemy.engine.base.Engine (35,)\n",
      "2021-02-01 07:26:39,537 INFO sqlalchemy.engine.base.Engine SELECT \"Positions\".id AS \"Positions_id\", \"Positions\".upper AS \"Positions_upper\", \"Positions\".middle AS \"Positions_middle\", \"Positions\".lower AS \"Positions_lower\", \"Positions\".x AS \"Positions_x\", \"Positions\".y AS \"Positions_y\" \n",
      "FROM \"Positions\" \n",
      "WHERE \"Positions\".id = ?\n",
      "2021-02-01 07:26:39,540 INFO sqlalchemy.engine.base.Engine (36,)\n",
      "2021-02-01 07:26:39,543 INFO sqlalchemy.engine.base.Engine SELECT \"Positions\".id AS \"Positions_id\", \"Positions\".upper AS \"Positions_upper\", \"Positions\".middle AS \"Positions_middle\", \"Positions\".lower AS \"Positions_lower\", \"Positions\".x AS \"Positions_x\", \"Positions\".y AS \"Positions_y\" \n",
      "FROM \"Positions\" \n",
      "WHERE \"Positions\".id = ?\n",
      "2021-02-01 07:26:39,544 INFO sqlalchemy.engine.base.Engine (37,)\n",
      "2021-02-01 07:26:39,548 INFO sqlalchemy.engine.base.Engine SELECT \"Positions\".id AS \"Positions_id\", \"Positions\".upper AS \"Positions_upper\", \"Positions\".middle AS \"Positions_middle\", \"Positions\".lower AS \"Positions_lower\", \"Positions\".x AS \"Positions_x\", \"Positions\".y AS \"Positions_y\" \n",
      "FROM \"Positions\" \n",
      "WHERE \"Positions\".id = ?\n",
      "2021-02-01 07:26:39,551 INFO sqlalchemy.engine.base.Engine (38,)\n",
      "2021-02-01 07:26:39,553 INFO sqlalchemy.engine.base.Engine SELECT \"Positions\".id AS \"Positions_id\", \"Positions\".upper AS \"Positions_upper\", \"Positions\".middle AS \"Positions_middle\", \"Positions\".lower AS \"Positions_lower\", \"Positions\".x AS \"Positions_x\", \"Positions\".y AS \"Positions_y\" \n",
      "FROM \"Positions\" \n",
      "WHERE \"Positions\".id = ?\n",
      "2021-02-01 07:26:39,555 INFO sqlalchemy.engine.base.Engine (39,)\n",
      "2021-02-01 07:26:39,558 INFO sqlalchemy.engine.base.Engine SELECT \"Positions\".id AS \"Positions_id\", \"Positions\".upper AS \"Positions_upper\", \"Positions\".middle AS \"Positions_middle\", \"Positions\".lower AS \"Positions_lower\", \"Positions\".x AS \"Positions_x\", \"Positions\".y AS \"Positions_y\" \n",
      "FROM \"Positions\" \n",
      "WHERE \"Positions\".id = ?\n",
      "2021-02-01 07:26:39,560 INFO sqlalchemy.engine.base.Engine (40,)\n",
      "2021-02-01 07:26:39,563 INFO sqlalchemy.engine.base.Engine SELECT \"Positions\".id AS \"Positions_id\", \"Positions\".upper AS \"Positions_upper\", \"Positions\".middle AS \"Positions_middle\", \"Positions\".lower AS \"Positions_lower\", \"Positions\".x AS \"Positions_x\", \"Positions\".y AS \"Positions_y\" \n",
      "FROM \"Positions\" \n",
      "WHERE \"Positions\".id = ?\n",
      "2021-02-01 07:26:39,564 INFO sqlalchemy.engine.base.Engine (41,)\n",
      "2021-02-01 07:26:39,568 INFO sqlalchemy.engine.base.Engine SELECT \"Positions\".id AS \"Positions_id\", \"Positions\".upper AS \"Positions_upper\", \"Positions\".middle AS \"Positions_middle\", \"Positions\".lower AS \"Positions_lower\", \"Positions\".x AS \"Positions_x\", \"Positions\".y AS \"Positions_y\" \n",
      "FROM \"Positions\" \n",
      "WHERE \"Positions\".id = ?\n",
      "2021-02-01 07:26:39,569 INFO sqlalchemy.engine.base.Engine (42,)\n",
      "2021-02-01 07:26:39,571 INFO sqlalchemy.engine.base.Engine SELECT \"Positions\".id AS \"Positions_id\", \"Positions\".upper AS \"Positions_upper\", \"Positions\".middle AS \"Positions_middle\", \"Positions\".lower AS \"Positions_lower\", \"Positions\".x AS \"Positions_x\", \"Positions\".y AS \"Positions_y\" \n",
      "FROM \"Positions\" \n",
      "WHERE \"Positions\".id = ?\n",
      "2021-02-01 07:26:39,572 INFO sqlalchemy.engine.base.Engine (43,)\n",
      "2021-02-01 07:26:39,575 INFO sqlalchemy.engine.base.Engine SELECT \"Positions\".id AS \"Positions_id\", \"Positions\".upper AS \"Positions_upper\", \"Positions\".middle AS \"Positions_middle\", \"Positions\".lower AS \"Positions_lower\", \"Positions\".x AS \"Positions_x\", \"Positions\".y AS \"Positions_y\" \n",
      "FROM \"Positions\" \n",
      "WHERE \"Positions\".id = ?\n",
      "2021-02-01 07:26:39,577 INFO sqlalchemy.engine.base.Engine (44,)\n",
      "2021-02-01 07:26:39,578 INFO sqlalchemy.engine.base.Engine SELECT \"Positions\".id AS \"Positions_id\", \"Positions\".upper AS \"Positions_upper\", \"Positions\".middle AS \"Positions_middle\", \"Positions\".lower AS \"Positions_lower\", \"Positions\".x AS \"Positions_x\", \"Positions\".y AS \"Positions_y\" \n",
      "FROM \"Positions\" \n",
      "WHERE \"Positions\".id = ?\n",
      "2021-02-01 07:26:39,580 INFO sqlalchemy.engine.base.Engine (45,)\n",
      "2021-02-01 07:26:39,582 INFO sqlalchemy.engine.base.Engine SELECT \"Positions\".id AS \"Positions_id\", \"Positions\".upper AS \"Positions_upper\", \"Positions\".middle AS \"Positions_middle\", \"Positions\".lower AS \"Positions_lower\", \"Positions\".x AS \"Positions_x\", \"Positions\".y AS \"Positions_y\" \n",
      "FROM \"Positions\" \n",
      "WHERE \"Positions\".id = ?\n",
      "2021-02-01 07:26:39,583 INFO sqlalchemy.engine.base.Engine (46,)\n",
      "2021-02-01 07:26:39,587 INFO sqlalchemy.engine.base.Engine SELECT \"Positions\".id AS \"Positions_id\", \"Positions\".upper AS \"Positions_upper\", \"Positions\".middle AS \"Positions_middle\", \"Positions\".lower AS \"Positions_lower\", \"Positions\".x AS \"Positions_x\", \"Positions\".y AS \"Positions_y\" \n",
      "FROM \"Positions\" \n",
      "WHERE \"Positions\".id = ?\n",
      "2021-02-01 07:26:39,591 INFO sqlalchemy.engine.base.Engine (47,)\n",
      "2021-02-01 07:26:39,593 INFO sqlalchemy.engine.base.Engine SELECT \"Positions\".id AS \"Positions_id\", \"Positions\".upper AS \"Positions_upper\", \"Positions\".middle AS \"Positions_middle\", \"Positions\".lower AS \"Positions_lower\", \"Positions\".x AS \"Positions_x\", \"Positions\".y AS \"Positions_y\" \n",
      "FROM \"Positions\" \n",
      "WHERE \"Positions\".id = ?\n",
      "2021-02-01 07:26:39,595 INFO sqlalchemy.engine.base.Engine (48,)\n",
      "2021-02-01 07:26:39,598 INFO sqlalchemy.engine.base.Engine SELECT \"Positions\".id AS \"Positions_id\", \"Positions\".upper AS \"Positions_upper\", \"Positions\".middle AS \"Positions_middle\", \"Positions\".lower AS \"Positions_lower\", \"Positions\".x AS \"Positions_x\", \"Positions\".y AS \"Positions_y\" \n",
      "FROM \"Positions\" \n",
      "WHERE \"Positions\".id = ?\n",
      "2021-02-01 07:26:39,599 INFO sqlalchemy.engine.base.Engine (49,)\n",
      "No legend given or incorrect format ! A default legend will be used\n",
      "Borehole geometry created successfully !\n",
      "2021-02-01 07:26:39,774 INFO sqlalchemy.engine.base.Engine INSERT INTO \"Positions\" (id, upper, middle, lower, x, y) VALUES (?, ?, ?, ?, ?, ?)\n",
      "2021-02-01 07:26:39,775 INFO sqlalchemy.engine.base.Engine ((50, 0.0, 0.0, 0.0, 20.0, 120.0), (51, 1.5, 1.5, 1.5, 20.0, 120.0), (52, 1.5, 1.5, 1.5, 20.0, 120.0), (53, 4.0, 4.0, 4.0, 20.0, 120.0), (54, 4.0, 4.0, 4.0, 20.0, 120.0), (55, 6.0, 6.0, 6.0, 20.0, 120.0))\n",
      "2021-02-01 07:26:39,777 INFO sqlalchemy.engine.base.Engine INSERT INTO \"Boreholes\" (id) VALUES (?)\n",
      "2021-02-01 07:26:39,778 INFO sqlalchemy.engine.base.Engine ('F02',)\n",
      "2021-02-01 07:26:39,779 INFO sqlalchemy.engine.base.Engine INSERT INTO \"Intervals\" (id, borehole, interval_number, description, top_id, base_id) VALUES (?, ?, ?, ?, ?, ?)\n",
      "2021-02-01 07:26:39,780 INFO sqlalchemy.engine.base.Engine ((25, 'F02', 0, 'Anhydrite', 50, 51), (26, 'F02', 1, 'Grey vf-f sandstone', 52, 53), (27, 'F02', 2, 'Red siltstone', 54, 55))\n",
      "2021-02-01 07:26:39,781 INFO sqlalchemy.engine.base.Engine COMMIT\n",
      "2021-02-01 07:26:39,848 INFO sqlalchemy.engine.base.Engine BEGIN (implicit)\n",
      "2021-02-01 07:26:39,849 INFO sqlalchemy.engine.base.Engine SELECT \"Boreholes\".id AS \"Boreholes_id\" \n",
      "FROM \"Boreholes\"\n",
      "2021-02-01 07:26:39,854 INFO sqlalchemy.engine.base.Engine ()\n",
      "2021-02-01 07:26:39,862 INFO sqlalchemy.engine.base.Engine SELECT \"Intervals\".id AS \"Intervals_id\", \"Intervals\".borehole AS \"Intervals_borehole\", \"Intervals\".interval_number AS \"Intervals_interval_number\", \"Intervals\".description AS \"Intervals_description\", \"Intervals\".top_id AS \"Intervals_top_id\", \"Intervals\".base_id AS \"Intervals_base_id\" \n",
      "FROM \"Intervals\" \n",
      "WHERE ? = \"Intervals\".borehole\n",
      "2021-02-01 07:26:39,865 INFO sqlalchemy.engine.base.Engine ('F02',)\n",
      "2021-02-01 07:26:39,868 INFO sqlalchemy.engine.base.Engine SELECT \"Positions\".id AS \"Positions_id\", \"Positions\".upper AS \"Positions_upper\", \"Positions\".middle AS \"Positions_middle\", \"Positions\".lower AS \"Positions_lower\", \"Positions\".x AS \"Positions_x\", \"Positions\".y AS \"Positions_y\" \n",
      "FROM \"Positions\" \n",
      "WHERE \"Positions\".id = ?\n",
      "2021-02-01 07:26:39,872 INFO sqlalchemy.engine.base.Engine (50,)\n",
      "2021-02-01 07:26:39,875 INFO sqlalchemy.engine.base.Engine SELECT \"Positions\".id AS \"Positions_id\", \"Positions\".upper AS \"Positions_upper\", \"Positions\".middle AS \"Positions_middle\", \"Positions\".lower AS \"Positions_lower\", \"Positions\".x AS \"Positions_x\", \"Positions\".y AS \"Positions_y\" \n",
      "FROM \"Positions\" \n",
      "WHERE \"Positions\".id = ?\n",
      "2021-02-01 07:26:39,882 INFO sqlalchemy.engine.base.Engine (51,)\n",
      "2021-02-01 07:26:39,886 INFO sqlalchemy.engine.base.Engine SELECT \"Positions\".id AS \"Positions_id\", \"Positions\".upper AS \"Positions_upper\", \"Positions\".middle AS \"Positions_middle\", \"Positions\".lower AS \"Positions_lower\", \"Positions\".x AS \"Positions_x\", \"Positions\".y AS \"Positions_y\" \n",
      "FROM \"Positions\" \n",
      "WHERE \"Positions\".id = ?\n"
     ]
    },
    {
     "name": "stdout",
     "output_type": "stream",
     "text": [
      "2021-02-01 07:26:39,887 INFO sqlalchemy.engine.base.Engine (52,)\n",
      "2021-02-01 07:26:39,890 INFO sqlalchemy.engine.base.Engine SELECT \"Positions\".id AS \"Positions_id\", \"Positions\".upper AS \"Positions_upper\", \"Positions\".middle AS \"Positions_middle\", \"Positions\".lower AS \"Positions_lower\", \"Positions\".x AS \"Positions_x\", \"Positions\".y AS \"Positions_y\" \n",
      "FROM \"Positions\" \n",
      "WHERE \"Positions\".id = ?\n",
      "2021-02-01 07:26:39,893 INFO sqlalchemy.engine.base.Engine (53,)\n",
      "2021-02-01 07:26:39,898 INFO sqlalchemy.engine.base.Engine SELECT \"Positions\".id AS \"Positions_id\", \"Positions\".upper AS \"Positions_upper\", \"Positions\".middle AS \"Positions_middle\", \"Positions\".lower AS \"Positions_lower\", \"Positions\".x AS \"Positions_x\", \"Positions\".y AS \"Positions_y\" \n",
      "FROM \"Positions\" \n",
      "WHERE \"Positions\".id = ?\n",
      "2021-02-01 07:26:39,899 INFO sqlalchemy.engine.base.Engine (54,)\n",
      "2021-02-01 07:26:39,901 INFO sqlalchemy.engine.base.Engine SELECT \"Positions\".id AS \"Positions_id\", \"Positions\".upper AS \"Positions_upper\", \"Positions\".middle AS \"Positions_middle\", \"Positions\".lower AS \"Positions_lower\", \"Positions\".x AS \"Positions_x\", \"Positions\".y AS \"Positions_y\" \n",
      "FROM \"Positions\" \n",
      "WHERE \"Positions\".id = ?\n",
      "2021-02-01 07:26:39,904 INFO sqlalchemy.engine.base.Engine (55,)\n",
      "No legend given or incorrect format ! A default legend will be used\n",
      "Borehole geometry created successfully !\n"
     ]
    }
   ],
   "source": [
    "for bh in boreholes:\n",
    "    p.add_borehole(bh)"
   ]
  },
  {
   "cell_type": "code",
   "execution_count": 11,
   "metadata": {},
   "outputs": [
    {
     "data": {
      "text/plain": [
       "'F01'"
      ]
     },
     "execution_count": 11,
     "metadata": {},
     "output_type": "execute_result"
    }
   ],
   "source": [
    "p.boreholes[0].id"
   ]
  },
  {
   "cell_type": "code",
   "execution_count": 12,
   "metadata": {},
   "outputs": [
    {
     "name": "stdout",
     "output_type": "stream",
     "text": [
      "2021-02-01 07:26:40,086 INFO sqlalchemy.engine.base.Engine COMMIT\n"
     ]
    }
   ],
   "source": [
    "p.commit()"
   ]
  },
  {
   "cell_type": "code",
   "execution_count": 13,
   "metadata": {
    "scrolled": true
   },
   "outputs": [
    {
     "name": "stdout",
     "output_type": "stream",
     "text": [
      "2021-02-01 07:26:40,170 INFO sqlalchemy.engine.base.Engine BEGIN (implicit)\n",
      "2021-02-01 07:26:40,173 INFO sqlalchemy.engine.base.Engine SELECT \"Boreholes\".id AS \"Boreholes_id\" \n",
      "FROM \"Boreholes\" \n",
      "WHERE \"Boreholes\".id = ?\n",
      "2021-02-01 07:26:40,175 INFO sqlalchemy.engine.base.Engine ('F01',)\n",
      "2021-02-01 07:26:40,180 INFO sqlalchemy.engine.base.Engine SELECT \"Intervals\".id AS \"Intervals_id\", \"Intervals\".borehole AS \"Intervals_borehole\", \"Intervals\".interval_number AS \"Intervals_interval_number\", \"Intervals\".description AS \"Intervals_description\", \"Intervals\".top_id AS \"Intervals_top_id\", \"Intervals\".base_id AS \"Intervals_base_id\" \n",
      "FROM \"Intervals\" \n",
      "WHERE ? = \"Intervals\".borehole\n",
      "2021-02-01 07:26:40,182 INFO sqlalchemy.engine.base.Engine ('F01',)\n"
     ]
    },
    {
     "data": {
      "text/plain": [
       "'Anhydrite'"
      ]
     },
     "execution_count": 13,
     "metadata": {},
     "output_type": "execute_result"
    }
   ],
   "source": [
    "p.boreholes[0].intervals[0].description"
   ]
  },
  {
   "cell_type": "code",
   "execution_count": 14,
   "metadata": {},
   "outputs": [
    {
     "name": "stdout",
     "output_type": "stream",
     "text": [
      "2021-02-01 07:26:40,253 INFO sqlalchemy.engine.base.Engine ROLLBACK\n"
     ]
    }
   ],
   "source": [
    "session.close()"
   ]
  },
  {
   "cell_type": "code",
   "execution_count": 15,
   "metadata": {},
   "outputs": [
    {
     "data": {
      "text/html": [
       "<html>\n",
       "<head>\n",
       "    <meta http-equiv=\"X-UA-Compatible\" content=\"IE=edge\"/>\n",
       "<title>X3D scene</title>\n",
       " <p><script type='text/javascript' src='http://www.x3dom.org/download/x3dom.js'> </script>\n",
       "<link rel='stylesheet' type='text/css' href='http://www.x3dom.org/download/x3dom.css'/>\n",
       "</head>\n",
       "<body>\n",
       "<p>\n",
       " For interaction, click in the view and press \"a\" to see the whole scene. For more info on interaction, please read  <a href=\"https://doc.x3dom.org/tutorials/animationInteraction/navigation/index.html\">the docs</a>  \n",
       "</p>\n",
       "<x3d width='968px' height='600px'>\n",
       " <scene>\n",
       "<viewpoint position=\"-1.94639 1.79771 -2.89271\" orientation=\"0.03886 0.99185 0.12133 3.75685\"></viewpoint>\n",
       " <Inline nameSpaceName=\"Borehole\" mapDEFToID=\"true\" url=\"project_new_project.x3d\" />\n",
       "</scene>\n",
       "</x3d>\n",
       "</body>\n",
       "</html>\n"
      ],
      "text/plain": [
       "<IPython.core.display.HTML object>"
      ]
     },
     "execution_count": 15,
     "metadata": {},
     "output_type": "execute_result"
    }
   ],
   "source": [
    "p.plot3d(x3d=True)"
   ]
  },
  {
   "cell_type": "code",
   "execution_count": null,
   "metadata": {},
   "outputs": [],
   "source": []
  }
 ],
 "metadata": {
  "kernelspec": {
   "display_name": "Python 3",
   "language": "python",
   "name": "python3"
  },
  "language_info": {
   "codemirror_mode": {
    "name": "ipython",
    "version": 3
   },
   "file_extension": ".py",
   "mimetype": "text/x-python",
   "name": "python",
   "nbconvert_exporter": "python",
   "pygments_lexer": "ipython3",
   "version": "3.6.9"
  }
 },
 "nbformat": 4,
 "nbformat_minor": 4
}

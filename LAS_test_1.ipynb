{
 "cells": [
  {
   "cell_type": "markdown",
   "metadata": {},
   "source": [
    "#Lasio is a Python 2 and 3 package to read and write Log ASCII Standard files used for borehole  data such asgeophysical,geological or petrophysical logs.It’s compatible with versions 1.2 and 2.0 of the LAS file specification."
   ]
  },
  {
   "cell_type": "code",
   "execution_count": 1,
   "metadata": {},
   "outputs": [],
   "source": [
    "import lasio"
   ]
  },
  {
   "cell_type": "code",
   "execution_count": 12,
   "metadata": {},
   "outputs": [],
   "source": [
    "las = lasio.read('./lasio/standards/examples/2.0/sample_2.0.las')"
   ]
  },
  {
   "cell_type": "code",
   "execution_count": 3,
   "metadata": {
    "scrolled": true
   },
   "outputs": [
    {
     "data": {
      "text/plain": [
       "{'Version': [HeaderItem(mnemonic=VERS, unit=, value=2.0, descr=CWLS LOG ASCII STANDARD -V...),\n",
       "  HeaderItem(mnemonic=WRAP, unit=, value=NO, descr=ONE LINE PER TIME STEP)],\n",
       " 'Well': [HeaderItem(mnemonic=STRT, unit=S, value=0.0, descr=START TIME),\n",
       "  HeaderItem(mnemonic=STOP, unit=S, value=39.9, descr=STOP TIME),\n",
       "  HeaderItem(mnemonic=STEP, unit=S, value=0.3, descr=STEP),\n",
       "  HeaderItem(mnemonic=NULL, unit=, value=-999.25, descr=NULL VALUE),\n",
       "  HeaderItem(mnemonic=COMP, unit=, value=ANY OIL COMPANY INC., descr=COMPANY),\n",
       "  HeaderItem(mnemonic=WELL, unit=, value=ANY ET 12-34-12-34, descr=WELL),\n",
       "  HeaderItem(mnemonic=FLD, unit=, value=WILDCAT, descr=FIELD),\n",
       "  HeaderItem(mnemonic=LOC, unit=, value=12-34-12-34W5, descr=LOCATION),\n",
       "  HeaderItem(mnemonic=PROV, unit=, value=ALBERTA, descr=PROVINCE),\n",
       "  HeaderItem(mnemonic=SRVC, unit=, value=ANY LOGGING COMPANY INC., descr=SERVI...),\n",
       "  HeaderItem(mnemonic=DATE, unit=, value=13-DEC-86, descr=LOG DATE),\n",
       "  HeaderItem(mnemonic=UWI, unit=, value=100123401234W500, descr=UNIQUE WELL ID)],\n",
       " 'Curves': [CurveItem(mnemonic=ETIM, unit=S, value=, descr=1  ELAPSED TIME, original_mnemonic=ETIM, data.shape=(6,)),\n",
       "  CurveItem(mnemonic=BFR1, unit=OHMM, value=, descr=2  SINGLE PROBE 1 RESISTIVITY, original_mnemonic=BFR1, data.shape=(6,)),\n",
       "  CurveItem(mnemonic=BSG1, unit=PSIG, value=, descr=3  SINGLE PROBE 1 STRAIN GAUGE PRESSURE, original_mnemonic=BSG1, data.shape=(6,))],\n",
       " 'Parameter': [HeaderItem(mnemonic=MRT, unit=DEGC, value=67.0, descr=BOTTOM HOLE TEMPERATURE),\n",
       "  HeaderItem(mnemonic=GDEPT, unit=M, value=3456.5, descr=GAUGE DEPTH),\n",
       "  HeaderItem(mnemonic=DFD, unit=KG/M3, value=1000.0, descr=MUD WEIGHT)],\n",
       " 'Other': ''}"
      ]
     },
     "execution_count": 3,
     "metadata": {},
     "output_type": "execute_result"
    }
   ],
   "source": [
    "las.header"
   ]
  },
  {
   "cell_type": "code",
   "execution_count": 4,
   "metadata": {},
   "outputs": [
    {
     "data": {
      "text/plain": [
       "numpy.ndarray"
      ]
     },
     "execution_count": 4,
     "metadata": {},
     "output_type": "execute_result"
    }
   ],
   "source": [
    "type (las.data)"
   ]
  },
  {
   "cell_type": "code",
   "execution_count": 5,
   "metadata": {},
   "outputs": [
    {
     "data": {
      "text/plain": [
       "(6, 3)"
      ]
     },
     "execution_count": 5,
     "metadata": {},
     "output_type": "execute_result"
    }
   ],
   "source": [
    "las.data.shape"
   ]
  },
  {
   "cell_type": "code",
   "execution_count": 6,
   "metadata": {},
   "outputs": [
    {
     "name": "stdout",
     "output_type": "stream",
     "text": [
      "ETIM\n",
      "S\n",
      "[0.  0.3 0.6 0.9 1.2 1.5]\n",
      "\n",
      "\n",
      "BFR1\n",
      "OHMM\n",
      "[0.2125 0.2125 0.2125 0.2125 0.2125 0.2125]\n",
      "\n",
      "\n",
      "BSG1\n",
      "PSIG\n",
      "[16564.1445 16564.1445 16564.2421 16564.0434 16564.043  16564.0435]\n",
      "\n",
      "\n"
     ]
    }
   ],
   "source": [
    "for curve in las.curves:\n",
    "    print(curve.mnemonic)\n",
    "    print(curve.unit)\n",
    "    print(curve.data)\n",
    "    print(\"\\n\")"
   ]
  },
  {
   "cell_type": "code",
   "execution_count": 7,
   "metadata": {},
   "outputs": [],
   "source": [
    "import matplotlib.pyplot as plt"
   ]
  },
  {
   "cell_type": "code",
   "execution_count": 8,
   "metadata": {},
   "outputs": [],
   "source": [
    "%matplotlib inline"
   ]
  },
  {
   "cell_type": "code",
   "execution_count": 9,
   "metadata": {},
   "outputs": [],
   "source": [
    "import matplotlib.pyplot as plt"
   ]
  },
  {
   "cell_type": "markdown",
   "metadata": {},
   "source": [
    "plt.plot([0,1,2,3,4], [8,5,3,9,1], 'or')"
   ]
  },
  {
   "cell_type": "code",
   "execution_count": 10,
   "metadata": {},
   "outputs": [
    {
     "data": {
      "text/plain": [
       "[<matplotlib.lines.Line2D at 0x7fa1d0863da0>]"
      ]
     },
     "execution_count": 10,
     "metadata": {},
     "output_type": "execute_result"
    },
    {
     "data": {
      "image/png": "[encoded data removed]",
      "text/plain": [
       "<Figure size 432x288 with 1 Axes>"
      ]
     },
     "metadata": {
      "needs_background": "light"
     },
     "output_type": "display_data"
    }
   ],
   "source": [
    "plt.plot(las[\"ETIM\"], las[\"BSG1\"])"
   ]
  }
 ],
 "metadata": {
  "kernelspec": {
   "display_name": "Python 3",
   "language": "python",
   "name": "python3"
  },
  "language_info": {
   "codemirror_mode": {
    "name": "ipython",
    "version": 3
   },
   "file_extension": ".py",
   "mimetype": "text/x-python",
   "name": "python",
   "nbconvert_exporter": "python",
   "pygments_lexer": "ipython3",
   "version": "3.6.8"
  }
 },
 "nbformat": 4,
 "nbformat_minor": 2
}

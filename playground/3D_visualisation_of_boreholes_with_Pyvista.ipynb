{
 "cells": [
  {
   "cell_type": "code",
   "execution_count": 1,
   "metadata": {},
   "outputs": [],
   "source": [
    "import pandas as pd\n",
    "import pyvista as pv\n",
    "import numpy as np\n",
    "import vtk\n",
    "import meshio\n",
    "from itkwidgets import view"
   ]
  },
  {
   "cell_type": "markdown",
   "metadata": {},
   "source": [
    "**Import well location**\n",
    "-----------------------------------\n",
    "import data from a .csv"
   ]
  },
  {
   "cell_type": "code",
   "execution_count": 2,
   "metadata": {},
   "outputs": [
    {
     "data": {
      "text/html": [
       "<div>\n",
       "<style scoped>\n",
       "    .dataframe tbody tr th:only-of-type {\n",
       "        vertical-align: middle;\n",
       "    }\n",
       "\n",
       "    .dataframe tbody tr th {\n",
       "        vertical-align: top;\n",
       "    }\n",
       "\n",
       "    .dataframe thead th {\n",
       "        text-align: right;\n",
       "    }\n",
       "</style>\n",
       "<table border=\"1\" class=\"dataframe\">\n",
       "  <thead>\n",
       "    <tr style=\"text-align: right;\">\n",
       "      <th></th>\n",
       "      <th>Easting</th>\n",
       "      <th>Northing</th>\n",
       "      <th>Altitude_ft</th>\n",
       "    </tr>\n",
       "    <tr>\n",
       "      <th>Bore</th>\n",
       "      <th></th>\n",
       "      <th></th>\n",
       "      <th></th>\n",
       "    </tr>\n",
       "  </thead>\n",
       "  <tbody>\n",
       "    <tr>\n",
       "      <th>A. Isaac</th>\n",
       "      <td>2333140.95</td>\n",
       "      <td>1372225.65</td>\n",
       "      <td>3204.0</td>\n",
       "    </tr>\n",
       "    <tr>\n",
       "      <th>A. Woodbridge</th>\n",
       "      <td>2321747.00</td>\n",
       "      <td>1360096.95</td>\n",
       "      <td>2967.2</td>\n",
       "    </tr>\n",
       "    <tr>\n",
       "      <th>A.D. Watkins</th>\n",
       "      <td>2315440.16</td>\n",
       "      <td>1342141.86</td>\n",
       "      <td>3168.3</td>\n",
       "    </tr>\n",
       "    <tr>\n",
       "      <th>A.L. Clark; 1</th>\n",
       "      <td>2276526.30</td>\n",
       "      <td>1364860.74</td>\n",
       "      <td>2279.1</td>\n",
       "    </tr>\n",
       "    <tr>\n",
       "      <th>A.L. Clark; 2</th>\n",
       "      <td>2342620.87</td>\n",
       "      <td>1362980.46</td>\n",
       "      <td>3848.6</td>\n",
       "    </tr>\n",
       "  </tbody>\n",
       "</table>\n",
       "</div>"
      ],
      "text/plain": [
       "                  Easting    Northing  Altitude_ft\n",
       "Bore                                              \n",
       "A. Isaac       2333140.95  1372225.65       3204.0\n",
       "A. Woodbridge  2321747.00  1360096.95       2967.2\n",
       "A.D. Watkins   2315440.16  1342141.86       3168.3\n",
       "A.L. Clark; 1  2276526.30  1364860.74       2279.1\n",
       "A.L. Clark; 2  2342620.87  1362980.46       3848.6"
      ]
     },
     "execution_count": 2,
     "metadata": {},
     "output_type": "execute_result"
    }
   ],
   "source": [
    "wellLoc = pd.read_csv('../data/TestData_3DvisPyvi/inputData//TV-HFM_Wells_1Location.csv',header=1,index_col=0,\n",
    "                      usecols=[0,2,3,6],skipfooter=1,engine='python')\n",
    "wellLoc.head()"
   ]
  },
  {
   "cell_type": "markdown",
   "metadata": {},
   "source": [
    "**Change coordinate system and elevation**\n",
    "-------------------------------"
   ]
  },
  {
   "cell_type": "code",
   "execution_count": 3,
   "metadata": {},
   "outputs": [
    {
     "data": {
      "text/html": [
       "<div>\n",
       "<style scoped>\n",
       "    .dataframe tbody tr th:only-of-type {\n",
       "        vertical-align: middle;\n",
       "    }\n",
       "\n",
       "    .dataframe tbody tr th {\n",
       "        vertical-align: top;\n",
       "    }\n",
       "\n",
       "    .dataframe thead th {\n",
       "        text-align: right;\n",
       "    }\n",
       "</style>\n",
       "<table border=\"1\" class=\"dataframe\">\n",
       "  <thead>\n",
       "    <tr style=\"text-align: right;\">\n",
       "      <th></th>\n",
       "      <th>Easting</th>\n",
       "      <th>Northing</th>\n",
       "      <th>Altitude_ft</th>\n",
       "      <th>EastingUTM</th>\n",
       "      <th>NorthingUTM</th>\n",
       "      <th>Elevation_m</th>\n",
       "    </tr>\n",
       "    <tr>\n",
       "      <th>Bore</th>\n",
       "      <th></th>\n",
       "      <th></th>\n",
       "      <th></th>\n",
       "      <th></th>\n",
       "      <th></th>\n",
       "      <th></th>\n",
       "    </tr>\n",
       "  </thead>\n",
       "  <tbody>\n",
       "    <tr>\n",
       "      <th>A. Isaac</th>\n",
       "      <td>2333140.95</td>\n",
       "      <td>1372225.65</td>\n",
       "      <td>3204.0</td>\n",
       "      <td>575546.628834</td>\n",
       "      <td>4.820355e+06</td>\n",
       "      <td>9612.0</td>\n",
       "    </tr>\n",
       "    <tr>\n",
       "      <th>A. Woodbridge</th>\n",
       "      <td>2321747.00</td>\n",
       "      <td>1360096.95</td>\n",
       "      <td>2967.2</td>\n",
       "      <td>564600.366582</td>\n",
       "      <td>4.807827e+06</td>\n",
       "      <td>8901.6</td>\n",
       "    </tr>\n",
       "    <tr>\n",
       "      <th>A.D. Watkins</th>\n",
       "      <td>2315440.16</td>\n",
       "      <td>1342141.86</td>\n",
       "      <td>3168.3</td>\n",
       "      <td>558944.843404</td>\n",
       "      <td>4.789664e+06</td>\n",
       "      <td>9504.9</td>\n",
       "    </tr>\n",
       "    <tr>\n",
       "      <th>A.L. Clark; 1</th>\n",
       "      <td>2276526.30</td>\n",
       "      <td>1364860.74</td>\n",
       "      <td>2279.1</td>\n",
       "      <td>519259.006159</td>\n",
       "      <td>4.810959e+06</td>\n",
       "      <td>6837.3</td>\n",
       "    </tr>\n",
       "    <tr>\n",
       "      <th>A.L. Clark; 2</th>\n",
       "      <td>2342620.87</td>\n",
       "      <td>1362980.46</td>\n",
       "      <td>3848.6</td>\n",
       "      <td>585351.150270</td>\n",
       "      <td>4.811460e+06</td>\n",
       "      <td>11545.8</td>\n",
       "    </tr>\n",
       "  </tbody>\n",
       "</table>\n",
       "</div>"
      ],
      "text/plain": [
       "                  Easting    Northing  Altitude_ft     EastingUTM  \\\n",
       "Bore                                                                \n",
       "A. Isaac       2333140.95  1372225.65       3204.0  575546.628834   \n",
       "A. Woodbridge  2321747.00  1360096.95       2967.2  564600.366582   \n",
       "A.D. Watkins   2315440.16  1342141.86       3168.3  558944.843404   \n",
       "A.L. Clark; 1  2276526.30  1364860.74       2279.1  519259.006159   \n",
       "A.L. Clark; 2  2342620.87  1362980.46       3848.6  585351.150270   \n",
       "\n",
       "                NorthingUTM  Elevation_m  \n",
       "Bore                                      \n",
       "A. Isaac       4.820355e+06       9612.0  \n",
       "A. Woodbridge  4.807827e+06       8901.6  \n",
       "A.D. Watkins   4.789664e+06       9504.9  \n",
       "A.L. Clark; 1  4.810959e+06       6837.3  \n",
       "A.L. Clark; 2  4.811460e+06      11545.8  "
      ]
     },
     "execution_count": 3,
     "metadata": {},
     "output_type": "execute_result"
    }
   ],
   "source": [
    "from pyproj import Transformer\n",
    "transformer = Transformer.from_crs('esri:102605','epsg:32611',always_xy=True)\n",
    "points = list(zip(wellLoc.Easting,wellLoc.Northing))\n",
    "coordsWgsUTM = np.array(list(transformer.itransform(points)))\n",
    "wellLoc['EastingUTM']=coordsWgsUTM[:,0]\n",
    "wellLoc['NorthingUTM']=coordsWgsUTM[:,1]\n",
    "wellLoc['Elevation_m']=wellLoc['Altitude_ft']*3\n",
    "wellLoc.head()"
   ]
  },
  {
   "cell_type": "markdown",
   "metadata": {},
   "source": [
    "**Generation of surface as delanuay tringulation**\n",
    "--------"
   ]
  },
  {
   "cell_type": "code",
   "execution_count": 4,
   "metadata": {},
   "outputs": [],
   "source": [
    "elevArray = wellLoc.loc[:,['EastingUTM','NorthingUTM','Elevation_m']].to_numpy()\n",
    "elevCloud = pv.PolyData(elevArray)\n",
    "surf = elevCloud.delaunay_2d()\n",
    "surf.save('../data/TestData_3DvisPyvi/outputData/elevSurf.vtk',binary=False)\n",
    "\n"
   ]
  },
  {
   "cell_type": "markdown",
   "metadata": {},
   "source": [
    "**Plot the toporaphic surface**"
   ]
  },
  {
   "cell_type": "code",
   "execution_count": 5,
   "metadata": {},
   "outputs": [],
   "source": [
    "grid = pv.read('../data/TestData_3DvisPyvi/outputData/elevSurf.vtk')"
   ]
  },
  {
   "cell_type": "code",
   "execution_count": 6,
   "metadata": {},
   "outputs": [
    {
     "data": {
      "image/png": "[encoded data removed]",
      "text/plain": [
       "<PIL.Image.Image image mode=RGB size=1024x768 at 0x7F6EF0232E80>"
      ]
     },
     "metadata": {},
     "output_type": "display_data"
    },
    {
     "data": {
      "text/plain": [
       "[(699307.3311905997, 4987523.2367306, 166548.30478059978),\n",
       " (543042.2764099999, 4831258.18195, 10283.25),\n",
       " (0.0, 0.0, 1.0)]"
      ]
     },
     "execution_count": 6,
     "metadata": {},
     "output_type": "execute_result"
    }
   ],
   "source": [
    "grid.plot(show_scalar_bar=False, show_axes=True)"
   ]
  },
  {
   "cell_type": "code",
   "execution_count": 7,
   "metadata": {},
   "outputs": [],
   "source": [
    "#pl = pv.PlotterITK()\n",
    "#pl.add_mesh(grid)\n",
    "#pl.show()"
   ]
  },
  {
   "cell_type": "code",
   "execution_count": null,
   "metadata": {},
   "outputs": [],
   "source": []
  },
  {
   "cell_type": "markdown",
   "metadata": {},
   "source": [
    "**Import well lithology**\n",
    "-----\n",
    "Import data from a .csv"
   ]
  },
  {
   "cell_type": "code",
   "execution_count": 8,
   "metadata": {},
   "outputs": [
    {
     "data": {
      "text/html": [
       "<div>\n",
       "<style scoped>\n",
       "    .dataframe tbody tr th:only-of-type {\n",
       "        vertical-align: middle;\n",
       "    }\n",
       "\n",
       "    .dataframe tbody tr th {\n",
       "        vertical-align: top;\n",
       "    }\n",
       "\n",
       "    .dataframe thead th {\n",
       "        text-align: right;\n",
       "    }\n",
       "</style>\n",
       "<table border=\"1\" class=\"dataframe\">\n",
       "  <thead>\n",
       "    <tr style=\"text-align: right;\">\n",
       "      <th></th>\n",
       "      <th>Depth_top_L</th>\n",
       "      <th>Depth_bot_L</th>\n",
       "      <th>PrimaryLith</th>\n",
       "    </tr>\n",
       "    <tr>\n",
       "      <th>Bore</th>\n",
       "      <th></th>\n",
       "      <th></th>\n",
       "      <th></th>\n",
       "    </tr>\n",
       "  </thead>\n",
       "  <tbody>\n",
       "    <tr>\n",
       "      <th>A. Isaac</th>\n",
       "      <td>0.0</td>\n",
       "      <td>1.0</td>\n",
       "      <td>Soil</td>\n",
       "    </tr>\n",
       "    <tr>\n",
       "      <th>A. Isaac</th>\n",
       "      <td>1.0</td>\n",
       "      <td>53.0</td>\n",
       "      <td>Sand</td>\n",
       "    </tr>\n",
       "    <tr>\n",
       "      <th>A. Isaac</th>\n",
       "      <td>53.0</td>\n",
       "      <td>248.0</td>\n",
       "      <td>Basalt</td>\n",
       "    </tr>\n",
       "    <tr>\n",
       "      <th>A. Isaac</th>\n",
       "      <td>248.0</td>\n",
       "      <td>265.0</td>\n",
       "      <td>Sand</td>\n",
       "    </tr>\n",
       "    <tr>\n",
       "      <th>A. Isaac</th>\n",
       "      <td>265.0</td>\n",
       "      <td>323.0</td>\n",
       "      <td>Basalt</td>\n",
       "    </tr>\n",
       "  </tbody>\n",
       "</table>\n",
       "</div>"
      ],
      "text/plain": [
       "          Depth_top_L  Depth_bot_L PrimaryLith\n",
       "Bore                                          \n",
       "A. Isaac          0.0          1.0        Soil\n",
       "A. Isaac          1.0         53.0        Sand\n",
       "A. Isaac         53.0        248.0      Basalt\n",
       "A. Isaac        248.0        265.0        Sand\n",
       "A. Isaac        265.0        323.0      Basalt"
      ]
     },
     "execution_count": 8,
     "metadata": {},
     "output_type": "execute_result"
    }
   ],
   "source": [
    "wellLito = pd.read_csv('../data/TestData_3DvisPyvi/inputData/TV-HFM_Wells_2Lithology.csv',skipfooter=1,\n",
    "                       header=1,index_col=0, usecols=[0,1,2,3],engine='python')\n",
    "wellLito.head()"
   ]
  },
  {
   "cell_type": "markdown",
   "metadata": {},
   "source": [
    "**Create a dictionary for the lito code**\n",
    "------\n"
   ]
  },
  {
   "cell_type": "code",
   "execution_count": 9,
   "metadata": {},
   "outputs": [
    {
     "data": {
      "text/plain": [
       "{'Soil': 0,\n",
       " 'Sand': 1,\n",
       " 'Basalt': 2,\n",
       " 'Granite': 3,\n",
       " 'Hardpan/Caliche': 4,\n",
       " 'Cinders/Scoria': 5,\n",
       " 'Gravel': 6,\n",
       " 'Clay': 7,\n",
       " 'Talc/Soapstone': 8,\n",
       " 'Shale': 9,\n",
       " 'Lignite/Coal/Peat': 10,\n",
       " 'Sandstone': 11,\n",
       " 'Lime': 12,\n",
       " 'Claystone': 13,\n",
       " 'Mud': 14,\n",
       " 'Ash/Tuff': 15,\n",
       " 'Mudstone': 16,\n",
       " 'Rhyolite': 17,\n",
       " 'Siltstone': 18,\n",
       " 'Silt': 19,\n",
       " 'Shell': 20,\n",
       " 'Conglomerate': 21,\n",
       " 'Volcanics': 22,\n",
       " 'Chert': 23,\n",
       " 'Pyrite': 24,\n",
       " 'Limestone/marl': 25,\n",
       " 'Wood': 26,\n",
       " 'Andesite': 27}"
      ]
     },
     "execution_count": 9,
     "metadata": {},
     "output_type": "execute_result"
    }
   ],
   "source": [
    "litoDict = {}\n",
    "i=0\n",
    "for lito in wellLito.PrimaryLith.unique():\n",
    "    litoDict[lito]=i\n",
    "    i+=1\n",
    "litoDict"
   ]
  },
  {
   "cell_type": "markdown",
   "metadata": {},
   "source": [
    "**Identify lito by the code on the dataframe**\n",
    "----"
   ]
  },
  {
   "cell_type": "code",
   "execution_count": 10,
   "metadata": {},
   "outputs": [
    {
     "data": {
      "text/html": [
       "<div>\n",
       "<style scoped>\n",
       "    .dataframe tbody tr th:only-of-type {\n",
       "        vertical-align: middle;\n",
       "    }\n",
       "\n",
       "    .dataframe tbody tr th {\n",
       "        vertical-align: top;\n",
       "    }\n",
       "\n",
       "    .dataframe thead th {\n",
       "        text-align: right;\n",
       "    }\n",
       "</style>\n",
       "<table border=\"1\" class=\"dataframe\">\n",
       "  <thead>\n",
       "    <tr style=\"text-align: right;\">\n",
       "      <th></th>\n",
       "      <th>Depth_top_L</th>\n",
       "      <th>Depth_bot_L</th>\n",
       "      <th>PrimaryLith</th>\n",
       "      <th>litoCode</th>\n",
       "    </tr>\n",
       "    <tr>\n",
       "      <th>Bore</th>\n",
       "      <th></th>\n",
       "      <th></th>\n",
       "      <th></th>\n",
       "      <th></th>\n",
       "    </tr>\n",
       "  </thead>\n",
       "  <tbody>\n",
       "    <tr>\n",
       "      <th>A. Isaac</th>\n",
       "      <td>0.0</td>\n",
       "      <td>1.0</td>\n",
       "      <td>Soil</td>\n",
       "      <td>0</td>\n",
       "    </tr>\n",
       "    <tr>\n",
       "      <th>A. Isaac</th>\n",
       "      <td>1.0</td>\n",
       "      <td>53.0</td>\n",
       "      <td>Sand</td>\n",
       "      <td>1</td>\n",
       "    </tr>\n",
       "    <tr>\n",
       "      <th>A. Isaac</th>\n",
       "      <td>53.0</td>\n",
       "      <td>248.0</td>\n",
       "      <td>Basalt</td>\n",
       "      <td>2</td>\n",
       "    </tr>\n",
       "    <tr>\n",
       "      <th>A. Isaac</th>\n",
       "      <td>248.0</td>\n",
       "      <td>265.0</td>\n",
       "      <td>Sand</td>\n",
       "      <td>1</td>\n",
       "    </tr>\n",
       "    <tr>\n",
       "      <th>A. Isaac</th>\n",
       "      <td>265.0</td>\n",
       "      <td>323.0</td>\n",
       "      <td>Basalt</td>\n",
       "      <td>2</td>\n",
       "    </tr>\n",
       "  </tbody>\n",
       "</table>\n",
       "</div>"
      ],
      "text/plain": [
       "          Depth_top_L  Depth_bot_L PrimaryLith  litoCode\n",
       "Bore                                                    \n",
       "A. Isaac          0.0          1.0        Soil         0\n",
       "A. Isaac          1.0         53.0        Sand         1\n",
       "A. Isaac         53.0        248.0      Basalt         2\n",
       "A. Isaac        248.0        265.0        Sand         1\n",
       "A. Isaac        265.0        323.0      Basalt         2"
      ]
     },
     "execution_count": 10,
     "metadata": {},
     "output_type": "execute_result"
    }
   ],
   "source": [
    "wellLito['litoCode']=wellLito.PrimaryLith\n",
    "wellLito = wellLito.replace({\"litoCode\": litoDict})\n",
    "wellLito.head()"
   ]
  },
  {
   "cell_type": "markdown",
   "metadata": {},
   "source": [
    "**Generation of list arrays for the vtk**\n",
    "-----"
   ]
  },
  {
   "cell_type": "code",
   "execution_count": 11,
   "metadata": {},
   "outputs": [],
   "source": [
    "offsetList = []\n",
    "linSec = []\n",
    "linVerts = []\n",
    "\n",
    "i=0\n",
    "for index, values in wellLito.iterrows():\n",
    "    x, y, z =wellLoc.loc[index][['EastingUTM','NorthingUTM','Elevation_m']]\n",
    "    topLito = z - (values.Depth_top_L)*5 #*x to fix the size of the object\n",
    "    botLito = z- (values.Depth_bot_L)*5 #*x to fix the size of the object\n",
    "    cellVerts = [[x,y,topLito],[x,y,botLito]]\n",
    "    offsetList.append(i*3)         \n",
    "    linSec = linSec + [2,2*i,2*i+1]\n",
    "    linVerts = linVerts + cellVerts\n",
    "    i +=1\n",
    "\n",
    "offsetArray = np.array(offsetList)\n",
    "linArray = np.array(linSec)\n",
    "cellType = np.ones([i])*3\n",
    "vertArray = np.array(linVerts)"
   ]
  },
  {
   "cell_type": "markdown",
   "metadata": {},
   "source": [
    "**create the unstructured grid and assign lito code**"
   ]
  },
  {
   "cell_type": "code",
   "execution_count": 12,
   "metadata": {},
   "outputs": [],
   "source": [
    "grid2 = pv.UnstructuredGrid(linArray, cellType, vertArray)\n",
    "grid2.cell_arrays[\"values\"] = wellLito.litoCode.values\n",
    "grid2.save('../data/TestData_3DvisPyvi/outputData/wellLito.vtu',binary=False)"
   ]
  },
  {
   "cell_type": "markdown",
   "metadata": {},
   "source": [
    "**Plot the wells**\n",
    "-----"
   ]
  },
  {
   "cell_type": "code",
   "execution_count": 13,
   "metadata": {},
   "outputs": [],
   "source": [
    "mesh = meshio.read('../data/TestData_3DvisPyvi/outputData/wellLito.vtu') #to creat a mesh from a .vtu"
   ]
  },
  {
   "cell_type": "code",
   "execution_count": 14,
   "metadata": {},
   "outputs": [
    {
     "data": {
      "text/plain": [
       "<meshio mesh object>\n",
       "  Number of points: 11456\n",
       "  Number of cells:\n",
       "    line: 5728\n",
       "  Cell data: values"
      ]
     },
     "execution_count": 14,
     "metadata": {},
     "output_type": "execute_result"
    }
   ],
   "source": [
    "mesh"
   ]
  },
  {
   "cell_type": "markdown",
   "metadata": {},
   "source": [
    "**First way to display the objects**\n"
   ]
  },
  {
   "cell_type": "code",
   "execution_count": 15,
   "metadata": {},
   "outputs": [
    {
     "data": {
      "image/png": "[encoded data removed]",
      "text/plain": [
       "<PIL.Image.Image image mode=RGB size=1024x768 at 0x7F6EE6E89C18>"
      ]
     },
     "metadata": {},
     "output_type": "display_data"
    },
    {
     "data": {
      "text/plain": [
       "[(702110.7197645528, 4990326.625301885, 159345.14335565805),\n",
       " (543042.2764088948, 4831258.181946227, 276.6999999999998),\n",
       " (0.0, 0.0, 1.0)]"
      ]
     },
     "execution_count": 15,
     "metadata": {},
     "output_type": "execute_result"
    }
   ],
   "source": [
    "grid2.plot()\n"
   ]
  },
  {
   "cell_type": "markdown",
   "metadata": {},
   "source": [
    "**Second way to display the wells and to interact with the view using ITK**"
   ]
  },
  {
   "cell_type": "code",
   "execution_count": 16,
   "metadata": {},
   "outputs": [
    {
     "data": {
      "application/vnd.jupyter.widget-view+json": {
       "model_id": "0204184f5d3240d48bc62d8074bb15ae",
       "version_major": 2,
       "version_minor": 0
      },
      "text/plain": [
       "Viewer(geometries=[{'vtkClass': 'vtkPolyData', 'points': {'vtkClass': 'vtkPoints', 'name': '_points', 'numberO…"
      ]
     },
     "metadata": {},
     "output_type": "display_data"
    },
    {
     "data": {
      "application/vnd.jupyter.widget-view+json": {
       "model_id": "0204184f5d3240d48bc62d8074bb15ae",
       "version_major": 2,
       "version_minor": 0
      },
      "text/plain": [
       "Viewer(geometries=[{'vtkClass': 'vtkPolyData', 'points': {'vtkClass': 'vtkPoints', 'name': '_points', 'numberO…"
      ]
     },
     "metadata": {},
     "output_type": "display_data"
    }
   ],
   "source": [
    "pl = pv.PlotterITK()\n",
    "pl.add_mesh(mesh)\n",
    "pl.show()"
   ]
  },
  {
   "cell_type": "code",
   "execution_count": null,
   "metadata": {},
   "outputs": [],
   "source": []
  }
 ],
 "metadata": {
  "kernelspec": {
   "display_name": "Python 3",
   "language": "python",
   "name": "python3"
  },
  "language_info": {
   "codemirror_mode": {
    "name": "ipython",
    "version": 3
   },
   "file_extension": ".py",
   "mimetype": "text/x-python",
   "name": "python",
   "nbconvert_exporter": "python",
   "pygments_lexer": "ipython3",
   "version": "3.6.9"
  }
 },
 "nbformat": 4,
 "nbformat_minor": 4
}

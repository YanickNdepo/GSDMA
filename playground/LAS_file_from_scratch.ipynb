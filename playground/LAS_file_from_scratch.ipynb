{
 "cells": [
  {
   "cell_type": "markdown",
   "metadata": {},
   "source": [
    "## Building a LAS file from scratch\n"
   ]
  },
  {
   "cell_type": "code",
   "execution_count": null,
   "metadata": {},
   "outputs": [],
   "source": [
    "import sphinx"
   ]
  },
  {
   "cell_type": "code",
   "execution_count": 1,
   "metadata": {},
   "outputs": [],
   "source": [
    "import numpy as np\n",
    "import lasio\n",
    "import numpy as np"
   ]
  },
  {
   "cell_type": "code",
   "execution_count": 2,
   "metadata": {},
   "outputs": [],
   "source": [
    "lasbuilt = lasio.LASFile()"
   ]
  },
  {
   "cell_type": "code",
   "execution_count": 3,
   "metadata": {},
   "outputs": [
    {
     "data": {
      "text/plain": [
       "{'Version': [HeaderItem(mnemonic=VERS, unit=, value=2.0, descr=CWLS log ASCII Standard -V...),\n",
       "  HeaderItem(mnemonic=WRAP, unit=, value=NO, descr=One line per depth step),\n",
       "  HeaderItem(mnemonic=DLM, unit=, value=SPACE, descr=Column Data Section Delim...)],\n",
       " 'Well': [HeaderItem(mnemonic=STRT, unit=m, value=nan, descr=START DEPTH),\n",
       "  HeaderItem(mnemonic=STOP, unit=m, value=nan, descr=STOP DEPTH),\n",
       "  HeaderItem(mnemonic=STEP, unit=m, value=nan, descr=STEP),\n",
       "  HeaderItem(mnemonic=NULL, unit=, value=-9999.25, descr=NULL VALUE),\n",
       "  HeaderItem(mnemonic=COMP, unit=, value=, descr=COMPANY),\n",
       "  HeaderItem(mnemonic=WELL, unit=, value=, descr=WELL),\n",
       "  HeaderItem(mnemonic=FLD, unit=, value=, descr=FIELD),\n",
       "  HeaderItem(mnemonic=LOC, unit=, value=, descr=LOCATION),\n",
       "  HeaderItem(mnemonic=PROV, unit=, value=, descr=PROVINCE),\n",
       "  HeaderItem(mnemonic=CNTY, unit=, value=, descr=COUNTY),\n",
       "  HeaderItem(mnemonic=STAT, unit=, value=, descr=STATE),\n",
       "  HeaderItem(mnemonic=CTRY, unit=, value=, descr=COUNTRY),\n",
       "  HeaderItem(mnemonic=SRVC, unit=, value=, descr=SERVICE COMPANY),\n",
       "  HeaderItem(mnemonic=DATE, unit=, value=, descr=DATE),\n",
       "  HeaderItem(mnemonic=UWI, unit=, value=, descr=UNIQUE WELL ID),\n",
       "  HeaderItem(mnemonic=API, unit=, value=, descr=API NUMBER)],\n",
       " 'Curves': [],\n",
       " 'Parameter': [],\n",
       " 'Other': ''}"
      ]
     },
     "execution_count": 3,
     "metadata": {},
     "output_type": "execute_result"
    }
   ],
   "source": [
    "lasbuilt.header"
   ]
  },
  {
   "cell_type": "code",
   "execution_count": 4,
   "metadata": {},
   "outputs": [],
   "source": [
    "from datetime import datetime"
   ]
  },
  {
   "cell_type": "code",
   "execution_count": 5,
   "metadata": {},
   "outputs": [],
   "source": [
    "lasbuilt.well.DATE = str(datetime.today())"
   ]
  },
  {
   "cell_type": "code",
   "execution_count": 6,
   "metadata": {},
   "outputs": [],
   "source": [
    "lasbuilt.other = 'Example of how to create a LAS file from scratch using lasio'"
   ]
  },
  {
   "cell_type": "code",
   "execution_count": 7,
   "metadata": {},
   "outputs": [],
   "source": [
    "depths = np.arange(10, 50, 0.5)"
   ]
  },
  {
   "cell_type": "code",
   "execution_count": 8,
   "metadata": {},
   "outputs": [],
   "source": [
    "synth = np.log10(depths)*5+np.random.random(len(depths))"
   ]
  },
  {
   "cell_type": "code",
   "execution_count": 9,
   "metadata": {},
   "outputs": [],
   "source": [
    "synth[:8] = np.nan"
   ]
  },
  {
   "cell_type": "code",
   "execution_count": 10,
   "metadata": {},
   "outputs": [],
   "source": [
    "lasbuilt.add_curve('DEPT', depths, unit='m')\n",
    "lasbuilt.add_curve('SYNTH', synth, descr='fake data')"
   ]
  },
  {
   "cell_type": "code",
   "execution_count": 11,
   "metadata": {},
   "outputs": [],
   "source": [
    "las12 = lasbuilt.write('scratch_v1.2.las', version=1.2)\n",
    "\n",
    "lasbuilt.write('scratch_v2.las', version=2)"
   ]
  },
  {
   "cell_type": "markdown",
   "metadata": {},
   "source": [
    "## Integration with pandas.DataFrame\n"
   ]
  },
  {
   "cell_type": "markdown",
   "metadata": {},
   "source": [
    "### Structure of a as file"
   ]
  },
  {
   "cell_type": "markdown",
   "metadata": {},
   "source": [
    "1. VERSION INFORMATION\n",
    "2. WELL INFORMATION\n",
    "  * \n",
    "3. CURVE INFORMATION\n",
    "  * DEPT[M]\n",
    "  * CALI[MM]\n",
    "  * DFAR.G/CM3\n",
    "  * DNEAR.G/CM3\n",
    "  * GAMN.GAPI                \n",
    "  * NEUT.CPS                 \n",
    "  * PR.OHM/M\n",
    "  * SP.MV\n",
    "  * COND.MS/M                \n",
    "4. PARAMETER INFORMATION\n",
    "5. OTHER"
   ]
  },
  {
   "cell_type": "code",
   "execution_count": 12,
   "metadata": {},
   "outputs": [],
   "source": [
    "las = lasio.read(\"6038187_v1.2.las\")"
   ]
  },
  {
   "cell_type": "code",
   "execution_count": 13,
   "metadata": {},
   "outputs": [],
   "source": [
    "df = las.df()"
   ]
  },
  {
   "cell_type": "code",
   "execution_count": 14,
   "metadata": {},
   "outputs": [
    {
     "data": {
      "text/plain": [
       "<bound method NDFrame.head of           CALI   DFAR  DNEAR     GAMN  NEUT       PR     SP     COND\n",
       "DEPT                                                                \n",
       "0.05    49.765  4.587  3.382      NaN   NaN      NaN    NaN      NaN\n",
       "0.10    49.765  4.587  3.382 -2324.28   NaN  115.508 -3.049 -116.998\n",
       "0.15    49.765  4.587  3.382 -2324.28   NaN  115.508 -3.049 -116.998\n",
       "0.20    49.765  4.587  3.382 -2324.28   NaN  115.508 -3.049 -116.998\n",
       "0.25    49.765  4.587  3.382 -2324.28   NaN  115.508 -3.049 -116.998\n",
       "...        ...    ...    ...      ...   ...      ...    ...      ...\n",
       "136.40  48.604    NaN    NaN      NaN   NaN      NaN    NaN      NaN\n",
       "136.45  48.555    NaN    NaN      NaN   NaN      NaN    NaN      NaN\n",
       "136.50  48.555    NaN    NaN      NaN   NaN      NaN    NaN      NaN\n",
       "136.55  48.438    NaN    NaN      NaN   NaN      NaN    NaN      NaN\n",
       "136.60 -56.275    NaN    NaN      NaN   NaN      NaN    NaN      NaN\n",
       "\n",
       "[2732 rows x 8 columns]>"
      ]
     },
     "execution_count": 14,
     "metadata": {},
     "output_type": "execute_result"
    }
   ],
   "source": [
    "df.head"
   ]
  },
  {
   "cell_type": "code",
   "execution_count": 15,
   "metadata": {},
   "outputs": [
    {
     "data": {
      "text/html": [
       "<div>\n",
       "<style scoped>\n",
       "    .dataframe tbody tr th:only-of-type {\n",
       "        vertical-align: middle;\n",
       "    }\n",
       "\n",
       "    .dataframe tbody tr th {\n",
       "        vertical-align: top;\n",
       "    }\n",
       "\n",
       "    .dataframe thead th {\n",
       "        text-align: right;\n",
       "    }\n",
       "</style>\n",
       "<table border=\"1\" class=\"dataframe\">\n",
       "  <thead>\n",
       "    <tr style=\"text-align: right;\">\n",
       "      <th></th>\n",
       "      <th>CALI</th>\n",
       "      <th>DFAR</th>\n",
       "      <th>DNEAR</th>\n",
       "      <th>GAMN</th>\n",
       "      <th>NEUT</th>\n",
       "      <th>PR</th>\n",
       "      <th>SP</th>\n",
       "      <th>COND</th>\n",
       "    </tr>\n",
       "  </thead>\n",
       "  <tbody>\n",
       "    <tr>\n",
       "      <th>count</th>\n",
       "      <td>2732.000000</td>\n",
       "      <td>2701.000000</td>\n",
       "      <td>2701.000000</td>\n",
       "      <td>2691.000000</td>\n",
       "      <td>2492.000000</td>\n",
       "      <td>2692.000000</td>\n",
       "      <td>2692.000000</td>\n",
       "      <td>2697.000000</td>\n",
       "    </tr>\n",
       "    <tr>\n",
       "      <th>mean</th>\n",
       "      <td>97.432002</td>\n",
       "      <td>1.767922</td>\n",
       "      <td>1.729209</td>\n",
       "      <td>-102.330033</td>\n",
       "      <td>441.600013</td>\n",
       "      <td>17940.522307</td>\n",
       "      <td>90.393464</td>\n",
       "      <td>478.670791</td>\n",
       "    </tr>\n",
       "    <tr>\n",
       "      <th>std</th>\n",
       "      <td>13.939547</td>\n",
       "      <td>0.480333</td>\n",
       "      <td>0.372412</td>\n",
       "      <td>630.106420</td>\n",
       "      <td>370.138208</td>\n",
       "      <td>22089.297212</td>\n",
       "      <td>26.725547</td>\n",
       "      <td>753.869866</td>\n",
       "    </tr>\n",
       "    <tr>\n",
       "      <th>min</th>\n",
       "      <td>-56.275000</td>\n",
       "      <td>0.725000</td>\n",
       "      <td>0.657001</td>\n",
       "      <td>-2324.280000</td>\n",
       "      <td>81.001800</td>\n",
       "      <td>115.508000</td>\n",
       "      <td>-3.049000</td>\n",
       "      <td>-116.998000</td>\n",
       "    </tr>\n",
       "    <tr>\n",
       "      <th>25%</th>\n",
       "      <td>101.077500</td>\n",
       "      <td>1.526000</td>\n",
       "      <td>1.535000</td>\n",
       "      <td>55.783000</td>\n",
       "      <td>158.002000</td>\n",
       "      <td>2652.470000</td>\n",
       "      <td>93.495500</td>\n",
       "      <td>200.981000</td>\n",
       "    </tr>\n",
       "    <tr>\n",
       "      <th>50%</th>\n",
       "      <td>101.426000</td>\n",
       "      <td>1.758000</td>\n",
       "      <td>1.785000</td>\n",
       "      <td>74.376900</td>\n",
       "      <td>256.501500</td>\n",
       "      <td>2709.345000</td>\n",
       "      <td>99.994000</td>\n",
       "      <td>266.435000</td>\n",
       "    </tr>\n",
       "    <tr>\n",
       "      <th>75%</th>\n",
       "      <td>101.582000</td>\n",
       "      <td>1.993000</td>\n",
       "      <td>1.948000</td>\n",
       "      <td>88.326900</td>\n",
       "      <td>680.500250</td>\n",
       "      <td>50499.900000</td>\n",
       "      <td>100.623000</td>\n",
       "      <td>505.530000</td>\n",
       "    </tr>\n",
       "    <tr>\n",
       "      <th>max</th>\n",
       "      <td>103.380000</td>\n",
       "      <td>5.989000</td>\n",
       "      <td>3.382000</td>\n",
       "      <td>169.672000</td>\n",
       "      <td>1665.990000</td>\n",
       "      <td>50499.900000</td>\n",
       "      <td>102.902000</td>\n",
       "      <td>4978.160000</td>\n",
       "    </tr>\n",
       "  </tbody>\n",
       "</table>\n",
       "</div>"
      ],
      "text/plain": [
       "              CALI         DFAR        DNEAR         GAMN         NEUT  \\\n",
       "count  2732.000000  2701.000000  2701.000000  2691.000000  2492.000000   \n",
       "mean     97.432002     1.767922     1.729209  -102.330033   441.600013   \n",
       "std      13.939547     0.480333     0.372412   630.106420   370.138208   \n",
       "min     -56.275000     0.725000     0.657001 -2324.280000    81.001800   \n",
       "25%     101.077500     1.526000     1.535000    55.783000   158.002000   \n",
       "50%     101.426000     1.758000     1.785000    74.376900   256.501500   \n",
       "75%     101.582000     1.993000     1.948000    88.326900   680.500250   \n",
       "max     103.380000     5.989000     3.382000   169.672000  1665.990000   \n",
       "\n",
       "                 PR           SP         COND  \n",
       "count   2692.000000  2692.000000  2697.000000  \n",
       "mean   17940.522307    90.393464   478.670791  \n",
       "std    22089.297212    26.725547   753.869866  \n",
       "min      115.508000    -3.049000  -116.998000  \n",
       "25%     2652.470000    93.495500   200.981000  \n",
       "50%     2709.345000    99.994000   266.435000  \n",
       "75%    50499.900000   100.623000   505.530000  \n",
       "max    50499.900000   102.902000  4978.160000  "
      ]
     },
     "execution_count": 15,
     "metadata": {},
     "output_type": "execute_result"
    }
   ],
   "source": [
    "df.describe()"
   ]
  },
  {
   "cell_type": "markdown",
   "metadata": {},
   "source": [
    "*There’s obviously a problem with the GAMN log: -2324.28 is not a valid value. Let’s fix that.*\n",
    "\n"
   ]
  },
  {
   "cell_type": "code",
   "execution_count": 16,
   "metadata": {},
   "outputs": [],
   "source": [
    "df['GAMN'][df['GAMN'] == -2324.28] = np.nan"
   ]
  },
  {
   "cell_type": "code",
   "execution_count": 17,
   "metadata": {},
   "outputs": [
    {
     "data": {
      "text/plain": [
       "count    2491.000000\n",
       "mean       76.068198\n",
       "std        23.120160\n",
       "min        13.946000\n",
       "25%        60.434100\n",
       "50%        76.700700\n",
       "75%        90.647500\n",
       "max       169.672000\n",
       "Name: GAMN, dtype: float64"
      ]
     },
     "execution_count": 17,
     "metadata": {},
     "output_type": "execute_result"
    }
   ],
   "source": [
    "df.describe()['GAMN']"
   ]
  },
  {
   "cell_type": "markdown",
   "metadata": {},
   "source": [
    "*Let us create a new field*"
   ]
  },
  {
   "cell_type": "code",
   "execution_count": 18,
   "metadata": {},
   "outputs": [],
   "source": [
    "df['GAMN_avg'] = df['GAMN'].rolling(int(1 / las.well.STEP.value), center=True).mean()"
   ]
  },
  {
   "cell_type": "code",
   "execution_count": 19,
   "metadata": {},
   "outputs": [
    {
     "data": {
      "text/plain": [
       "[CurveItem(mnemonic=DEPT, unit=M, value=, descr=DEPTH, original_mnemonic=DEPT, data.shape=(2732,)),\n",
       " CurveItem(mnemonic=CALI, unit=MM, value=, descr=CALI, original_mnemonic=CALI, data.shape=(2732,)),\n",
       " CurveItem(mnemonic=DFAR, unit=G/CM3, value=, descr=DFAR, original_mnemonic=DFAR, data.shape=(2732,)),\n",
       " CurveItem(mnemonic=DNEAR, unit=G/CM3, value=, descr=DNEAR, original_mnemonic=DNEAR, data.shape=(2732,)),\n",
       " CurveItem(mnemonic=GAMN, unit=GAPI, value=, descr=GAMN, original_mnemonic=GAMN, data.shape=(2732,)),\n",
       " CurveItem(mnemonic=NEUT, unit=CPS, value=, descr=NEUT, original_mnemonic=NEUT, data.shape=(2732,)),\n",
       " CurveItem(mnemonic=PR, unit=OHM/M, value=, descr=PR, original_mnemonic=PR, data.shape=(2732,)),\n",
       " CurveItem(mnemonic=SP, unit=MV, value=, descr=SP, original_mnemonic=SP, data.shape=(2732,)),\n",
       " CurveItem(mnemonic=COND, unit=MS/M, value=, descr=COND, original_mnemonic=COND, data.shape=(2732,))]"
      ]
     },
     "execution_count": 19,
     "metadata": {},
     "output_type": "execute_result"
    }
   ],
   "source": [
    "las.curves"
   ]
  },
  {
   "cell_type": "markdown",
   "metadata": {},
   "source": [
    "## Header section metadata"
   ]
  },
  {
   "cell_type": "markdown",
   "metadata": {},
   "source": [
    "#### lasio is able to reliably parse LAS header sections"
   ]
  },
  {
   "cell_type": "markdown",
   "metadata": {},
   "source": [
    "The header sections are stored in the dictionary las.sections:"
   ]
  },
  {
   "cell_type": "code",
   "execution_count": 20,
   "metadata": {},
   "outputs": [
    {
     "data": {
      "text/plain": [
       "dict_keys(['Version', 'Well', 'Curves', 'Parameter', 'Other'])"
      ]
     },
     "execution_count": 20,
     "metadata": {},
     "output_type": "execute_result"
    }
   ],
   "source": [
    "type(las.sections)\n",
    "\n",
    "las.sections.keys()\n"
   ]
  },
  {
   "cell_type": "code",
   "execution_count": 21,
   "metadata": {},
   "outputs": [
    {
     "data": {
      "text/plain": [
       "[HeaderItem(mnemonic=VERS, unit=, value=2.0, descr=CWLS LOG ASCII STANDARD - ...),\n",
       " HeaderItem(mnemonic=WRAP, unit=, value=NO, descr=ONE LINE PER DEPTH STEP)]"
      ]
     },
     "execution_count": 21,
     "metadata": {},
     "output_type": "execute_result"
    }
   ],
   "source": [
    "las.sections['Version']"
   ]
  },
  {
   "cell_type": "code",
   "execution_count": 22,
   "metadata": {},
   "outputs": [
    {
     "data": {
      "text/plain": [
       "[HeaderItem(mnemonic=VERS, unit=, value=2.0, descr=CWLS LOG ASCII STANDARD - ...),\n",
       " HeaderItem(mnemonic=WRAP, unit=, value=NO, descr=ONE LINE PER DEPTH STEP)]"
      ]
     },
     "execution_count": 22,
     "metadata": {},
     "output_type": "execute_result"
    }
   ],
   "source": [
    "las.version"
   ]
  },
  {
   "cell_type": "markdown",
   "metadata": {},
   "source": [
    " same for \n",
    "  * LASFile.version and LASFile.sections['Version']\n",
    "  * LASFile.well and LASFile.sections['Well']\n",
    "  * LASFile.curves and LASFile.sections['Curves']\n",
    "  * LASFile.params and LASFile.sections['Parameter']\n",
    "  * LASFile.other and LASFile.sections['Other']\n",
    "  * LASFile.sections['extra section']\n",
    "  * LASFile.data or each column is in LASFile.curves[...].data"
   ]
  },
  {
   "cell_type": "code",
   "execution_count": 23,
   "metadata": {},
   "outputs": [
    {
     "data": {
      "text/plain": [
       "array([[ 5.00000e-02,  4.97650e+01,  4.58700e+00, ...,          nan,\n",
       "                 nan,          nan],\n",
       "       [ 1.00000e-01,  4.97650e+01,  4.58700e+00, ...,  1.15508e+02,\n",
       "        -3.04900e+00, -1.16998e+02],\n",
       "       [ 1.50000e-01,  4.97650e+01,  4.58700e+00, ...,  1.15508e+02,\n",
       "        -3.04900e+00, -1.16998e+02],\n",
       "       ...,\n",
       "       [ 1.36500e+02,  4.85550e+01,          nan, ...,          nan,\n",
       "                 nan,          nan],\n",
       "       [ 1.36550e+02,  4.84380e+01,          nan, ...,          nan,\n",
       "                 nan,          nan],\n",
       "       [ 1.36600e+02, -5.62750e+01,          nan, ...,          nan,\n",
       "                 nan,          nan]])"
      ]
     },
     "execution_count": 23,
     "metadata": {},
     "output_type": "execute_result"
    }
   ],
   "source": [
    "las.data"
   ]
  },
  {
   "cell_type": "code",
   "execution_count": 24,
   "metadata": {},
   "outputs": [
    {
     "data": {
      "text/plain": [
       "[CurveItem(mnemonic=DEPT, unit=M, value=, descr=DEPTH, original_mnemonic=DEPT, data.shape=(2732,)),\n",
       " CurveItem(mnemonic=CALI, unit=MM, value=, descr=CALI, original_mnemonic=CALI, data.shape=(2732,)),\n",
       " CurveItem(mnemonic=DFAR, unit=G/CM3, value=, descr=DFAR, original_mnemonic=DFAR, data.shape=(2732,)),\n",
       " CurveItem(mnemonic=DNEAR, unit=G/CM3, value=, descr=DNEAR, original_mnemonic=DNEAR, data.shape=(2732,)),\n",
       " CurveItem(mnemonic=GAMN, unit=GAPI, value=, descr=GAMN, original_mnemonic=GAMN, data.shape=(2732,)),\n",
       " CurveItem(mnemonic=NEUT, unit=CPS, value=, descr=NEUT, original_mnemonic=NEUT, data.shape=(2732,)),\n",
       " CurveItem(mnemonic=PR, unit=OHM/M, value=, descr=PR, original_mnemonic=PR, data.shape=(2732,)),\n",
       " CurveItem(mnemonic=SP, unit=MV, value=, descr=SP, original_mnemonic=SP, data.shape=(2732,)),\n",
       " CurveItem(mnemonic=COND, unit=MS/M, value=, descr=COND, original_mnemonic=COND, data.shape=(2732,))]"
      ]
     },
     "execution_count": 24,
     "metadata": {},
     "output_type": "execute_result"
    }
   ],
   "source": [
    "las.curves"
   ]
  },
  {
   "cell_type": "code",
   "execution_count": 25,
   "metadata": {},
   "outputs": [
    {
     "ename": "NameError",
     "evalue": "name 'CALI' is not defined",
     "output_type": "error",
     "traceback": [
      "\u001b[0;31m---------------------------------------------------------------------------\u001b[0m",
      "\u001b[0;31mNameError\u001b[0m                                 Traceback (most recent call last)",
      "\u001b[0;32m<ipython-input-25-5393749e96e9>\u001b[0m in \u001b[0;36m<module>\u001b[0;34m\u001b[0m\n\u001b[0;32m----> 1\u001b[0;31m \u001b[0mlas\u001b[0m\u001b[0;34m.\u001b[0m\u001b[0mcurves\u001b[0m\u001b[0;34m[\u001b[0m\u001b[0mCALI\u001b[0m\u001b[0;34m]\u001b[0m\u001b[0;34m.\u001b[0m\u001b[0mdata\u001b[0m\u001b[0;34m\u001b[0m\u001b[0;34m\u001b[0m\u001b[0m\n\u001b[0m",
      "\u001b[0;31mNameError\u001b[0m: name 'CALI' is not defined"
     ]
    }
   ],
   "source": [
    "las.curves[CALI].data"
   ]
  },
  {
   "cell_type": "markdown",
   "metadata": {},
   "source": [
    "Sections themselves are represented by lasio.las_items.SectionItems objects. This is a list which has been extended to allow you to access the items within by their mnemonic:"
   ]
  },
  {
   "cell_type": "markdown",
   "metadata": {},
   "source": [
    "The 3 are equivalent\n",
    "  * las.version.VERS\n",
    "  * las.version['VERS']\n",
    "  * las.version[0]"
   ]
  },
  {
   "cell_type": "code",
   "execution_count": 26,
   "metadata": {},
   "outputs": [
    {
     "data": {
      "text/plain": [
       "HeaderItem(mnemonic=VERS, unit=, value=2.0, descr=CWLS LOG ASCII STANDARD - ...)"
      ]
     },
     "execution_count": 26,
     "metadata": {},
     "output_type": "execute_result"
    }
   ],
   "source": [
    "las.version.VERS"
   ]
  },
  {
   "cell_type": "markdown",
   "metadata": {},
   "source": [
    "#### las.well"
   ]
  },
  {
   "cell_type": "code",
   "execution_count": 27,
   "metadata": {},
   "outputs": [
    {
     "data": {
      "text/plain": [
       "[HeaderItem(mnemonic=STRT, unit=M, value=0.05, descr=FIRST INDEX VALUE),\n",
       " HeaderItem(mnemonic=STOP, unit=M, value=136.6, descr=LAST INDEX VALUE),\n",
       " HeaderItem(mnemonic=STEP, unit=M, value=0.05, descr=STEP),\n",
       " HeaderItem(mnemonic=NULL, unit=, value=-99999, descr=NULL VALUE),\n",
       " HeaderItem(mnemonic=COMP, unit=, value=, descr=COMP),\n",
       " HeaderItem(mnemonic=WELL, unit=, value=Scorpio E1, descr=WELL),\n",
       " HeaderItem(mnemonic=FLD, unit=, value=, descr=),\n",
       " HeaderItem(mnemonic=LOC, unit=, value=Mt Eba, descr=LOC),\n",
       " HeaderItem(mnemonic=SRVC, unit=, value=, descr=),\n",
       " HeaderItem(mnemonic=CTRY, unit=, value=, descr=),\n",
       " HeaderItem(mnemonic=STAT, unit=, value=SA, descr=STAT),\n",
       " HeaderItem(mnemonic=CNTY, unit=, value=, descr=),\n",
       " HeaderItem(mnemonic=DATE, unit=, value=15/03/2015, descr=DATE),\n",
       " HeaderItem(mnemonic=UWI, unit=, value=6038-187, descr=WUNT)]"
      ]
     },
     "execution_count": 27,
     "metadata": {},
     "output_type": "execute_result"
    }
   ],
   "source": [
    "las.well"
   ]
  },
  {
   "cell_type": "code",
   "execution_count": 28,
   "metadata": {},
   "outputs": [],
   "source": [
    "las.well.CTRY = 'Australia'"
   ]
  },
  {
   "cell_type": "code",
   "execution_count": 29,
   "metadata": {},
   "outputs": [
    {
     "data": {
      "text/plain": [
       "HeaderItem(mnemonic=CTRY, unit=, value=Australia, descr=)"
      ]
     },
     "execution_count": 29,
     "metadata": {},
     "output_type": "execute_result"
    }
   ],
   "source": [
    "las.well.CTRY"
   ]
  },
  {
   "cell_type": "markdown",
   "metadata": {},
   "source": [
    "#### set any of the attributes directly. "
   ]
  },
  {
   "cell_type": "code",
   "execution_count": 30,
   "metadata": {},
   "outputs": [],
   "source": [
    "las.curves.PR.unit = 'ohmm'"
   ]
  },
  {
   "cell_type": "code",
   "execution_count": 31,
   "metadata": {},
   "outputs": [
    {
     "data": {
      "text/plain": [
       "CurveItem(mnemonic=PR, unit=ohmm, value=, descr=PR, original_mnemonic=PR, data.shape=(2732,))"
      ]
     },
     "execution_count": 31,
     "metadata": {},
     "output_type": "execute_result"
    }
   ],
   "source": [
    "las.curves.PR"
   ]
  },
  {
   "cell_type": "markdown",
   "metadata": {},
   "source": [
    "### Now let’s look more closely at how to manipulate and add or remove items from a section.\n",
    "\n"
   ]
  },
  {
   "cell_type": "code",
   "execution_count": 32,
   "metadata": {},
   "outputs": [
    {
     "data": {
      "text/plain": [
       "[HeaderItem(mnemonic=BS, unit=, value=216 mm, descr=BS),\n",
       " HeaderItem(mnemonic=JOBN, unit=, value=, descr=JOBN),\n",
       " HeaderItem(mnemonic=WPMT, unit=, value=, descr=WPMT),\n",
       " HeaderItem(mnemonic=AGL, unit=, value=, descr=AGL),\n",
       " HeaderItem(mnemonic=PURP, unit=, value=Cased hole stratigraphy, descr=PURP),\n",
       " HeaderItem(mnemonic=X, unit=, value=560160, descr=X),\n",
       " HeaderItem(mnemonic=CSGL, unit=, value=0 m - 135 m, descr=CSGL),\n",
       " HeaderItem(mnemonic=UNIT, unit=, value=, descr=UNIT),\n",
       " HeaderItem(mnemonic=Y, unit=, value=6686430, descr=Y),\n",
       " HeaderItem(mnemonic=TDL, unit=, value=135.2 m, descr=TDL),\n",
       " HeaderItem(mnemonic=PROD, unit=, value=, descr=PROD),\n",
       " HeaderItem(mnemonic=MUD, unit=, value=Water, descr=MUD),\n",
       " HeaderItem(mnemonic=CSGS, unit=, value=100 mm, descr=CSGS),\n",
       " HeaderItem(mnemonic=ENG, unit=, value=, descr=ENG),\n",
       " HeaderItem(mnemonic=STEP, unit=, value=5 cm, descr=STEP),\n",
       " HeaderItem(mnemonic=FLUIDLEVEL, unit=, value=54 m, descr=FluidLevel),\n",
       " HeaderItem(mnemonic=CSGT, unit=, value=PVC, descr=CSGT),\n",
       " HeaderItem(mnemonic=WIT, unit=, value=, descr=WIT),\n",
       " HeaderItem(mnemonic=EREF, unit=, value=, descr=EREF),\n",
       " HeaderItem(mnemonic=PROJ, unit=, value=, descr=PROJ),\n",
       " HeaderItem(mnemonic=ZONE, unit=, value=53J, descr=ZONE),\n",
       " HeaderItem(mnemonic=DREF, unit=, value=GL, descr=DREF),\n",
       " HeaderItem(mnemonic=TDD, unit=, value=136 m, descr=TDD)]"
      ]
     },
     "execution_count": 32,
     "metadata": {},
     "output_type": "execute_result"
    }
   ],
   "source": [
    "las.params"
   ]
  },
  {
   "cell_type": "markdown",
   "metadata": {},
   "source": [
    "*We want to rename the DREF mnemonic as LMF. We can do so by changing the header_item.mnemonic attribute*"
   ]
  },
  {
   "cell_type": "code",
   "execution_count": 33,
   "metadata": {},
   "outputs": [],
   "source": [
    "las.params.DREF.mnemonic = 'LMF'"
   ]
  },
  {
   "cell_type": "markdown",
   "metadata": {},
   "source": [
    "*And now we need to add a new mnemonic. Adding via an attribute will not work. You need to use the item-style access.*"
   ]
  },
  {
   "cell_type": "code",
   "execution_count": null,
   "metadata": {},
   "outputs": [],
   "source": [
    "las.params['DRILL'] = lasio.HeaderItem(mnemonic='DRILL', value='John Smith', descr='Driller on site')"
   ]
  },
  {
   "cell_type": "code",
   "execution_count": null,
   "metadata": {},
   "outputs": [],
   "source": []
  }
 ],
 "metadata": {
  "kernelspec": {
   "display_name": "Python 3",
   "language": "python",
   "name": "python3"
  },
  "language_info": {
   "codemirror_mode": {
    "name": "ipython",
    "version": 3
   },
   "file_extension": ".py",
   "mimetype": "text/x-python",
   "name": "python",
   "nbconvert_exporter": "python",
   "pygments_lexer": "ipython3",
   "version": "3.6.8"
  }
 },
 "nbformat": 4,
 "nbformat_minor": 2
}

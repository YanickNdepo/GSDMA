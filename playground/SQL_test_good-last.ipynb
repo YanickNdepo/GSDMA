{
 "cells": [
  {
   "cell_type": "code",
   "execution_count": 1,
   "metadata": {},
   "outputs": [
    {
     "data": {
      "text/plain": [
       "'/home/dell/GSDMA2019'"
      ]
     },
     "execution_count": 1,
     "metadata": {},
     "output_type": "execute_result"
    }
   ],
   "source": [
    "pwd"
   ]
  },
  {
   "cell_type": "code",
   "execution_count": 2,
   "metadata": {},
   "outputs": [],
   "source": [
    "from utils import read_flat_files"
   ]
  },
  {
   "cell_type": "code",
   "execution_count": 3,
   "metadata": {},
   "outputs": [],
   "source": [
    "work_dir = './data/boreholes/'"
   ]
  },
  {
   "cell_type": "code",
   "execution_count": 4,
   "metadata": {},
   "outputs": [],
   "source": [
    "boreholes_list =['F10', 'F11', 'F12', 'F13', 'F14', 'F15', 'F16', 'F20', 'F21', 'F22', 'F23', 'F24', 'F25']"
   ]
  },
  {
   "cell_type": "code",
   "execution_count": 5,
   "metadata": {},
   "outputs": [],
   "source": [
    "boreholes = {}"
   ]
  },
  {
   "cell_type": "code",
   "execution_count": 1,
   "metadata": {},
   "outputs": [
    {
     "name": "stdout",
     "output_type": "stream",
     "text": [
      "/home/gfa\n"
     ]
    }
   ],
   "source": [
    "cd"
   ]
  },
  {
   "cell_type": "code",
   "execution_count": 6,
   "metadata": {},
   "outputs": [],
   "source": [
    "for i in boreholes_list:\n",
    "    d = read_flat_files.read_boreholes_description(filename='{dir}Log_{borehole_name:s}.txt'.format(\n",
    "        dir= work_dir, borehole_name=i))\n",
    "    boreholes.update(d)       "
   ]
  },
  {
   "cell_type": "code",
   "execution_count": 7,
   "metadata": {},
   "outputs": [
    {
     "data": {
      "text/plain": [
       "{'F10': {(0.0, 1.5): {'description': 'remblais non-saturés',\n",
       "   'lithology': 'remblais',\n",
       "   'color': 'brun'},\n",
       "  (1.5, 4.0): {'description': 'remblais saturés',\n",
       "   'lithology': 'remblais',\n",
       "   'color': 'ocre'},\n",
       "  (4.0, 6.0): {'description': 'alluvions',\n",
       "   'lithology': 'silt',\n",
       "   'color': 'gris'},\n",
       "  'markers': {'toit nappe': 1.5, 'mur remblais': 4.0}},\n",
       " 'F11': {(0.0, 1.5): {'description': 'remblais non-saturés',\n",
       "   'lithology': 'remblais',\n",
       "   'color': 'brun'},\n",
       "  (1.5, 4.0): {'description': 'remblais saturés',\n",
       "   'lithology': 'remblais',\n",
       "   'color': 'ocre'},\n",
       "  (4.0, 6.0): {'description': 'alluvions',\n",
       "   'lithology': 'silt',\n",
       "   'color': 'gris'},\n",
       "  'markers': {'toit nappe': 1.5, 'mur remblais': 4.0}},\n",
       " 'F12': {(0.0, 1.5): {'description': 'remblais non-saturés',\n",
       "   'lithology': 'remblais',\n",
       "   'color': 'brun'},\n",
       "  (1.5, 4.0): {'description': 'remblais saturés',\n",
       "   'lithology': 'remblais',\n",
       "   'color': 'ocre'},\n",
       "  (4.0, 6.0): {'description': 'alluvions',\n",
       "   'lithology': 'silt',\n",
       "   'color': 'gris'},\n",
       "  'markers': {'toit nappe': 1.5, 'mur remblais': 4.0}},\n",
       " 'F13': {(0.0, 1.5): {'description': 'remblais non-saturés',\n",
       "   'lithology': 'remblais',\n",
       "   'color': 'brun'},\n",
       "  (1.5, 4.0): {'description': 'remblais saturés',\n",
       "   'lithology': 'remblais',\n",
       "   'color': 'ocre'},\n",
       "  (4.0, 6.0): {'description': 'alluvions',\n",
       "   'lithology': 'silt',\n",
       "   'color': 'gris'},\n",
       "  'markers': {'toit nappe': 1.5, 'mur remblais': 4.0}},\n",
       " 'F14': {(0.0, 1.5): {'description': 'remblais non-saturés',\n",
       "   'lithology': 'remblais',\n",
       "   'color': 'brun'},\n",
       "  (1.5, 4.0): {'description': 'remblais saturés',\n",
       "   'lithology': 'remblais',\n",
       "   'color': 'ocre'},\n",
       "  (4.0, 6.0): {'description': 'alluvions',\n",
       "   'lithology': 'silt',\n",
       "   'color': 'gris'},\n",
       "  'markers': {'toit nappe': 1.5, 'mur remblais': 4.0}},\n",
       " 'F15': {(0.0, 1.5): {'description': 'remblais non-saturés',\n",
       "   'lithology': 'remblais',\n",
       "   'color': 'brun'},\n",
       "  (1.5, 4.0): {'description': 'remblais saturés',\n",
       "   'lithology': 'remblais',\n",
       "   'color': 'ocre'},\n",
       "  (4.0, 6.0): {'description': 'alluvions',\n",
       "   'lithology': 'silt',\n",
       "   'color': 'gris'},\n",
       "  'markers': {'toit nappe': 1.5, 'mur remblais': 4.0}},\n",
       " 'F16': {(0.0, 1.5): {'description': 'remblais non-saturés',\n",
       "   'lithology': 'remblais',\n",
       "   'color': 'brun'},\n",
       "  (1.5, 4.0): {'description': 'remblais saturés',\n",
       "   'lithology': 'remblais',\n",
       "   'color': 'ocre'},\n",
       "  (4.0, 6.0): {'description': 'alluvions',\n",
       "   'lithology': 'silt',\n",
       "   'color': 'gris'},\n",
       "  'markers': {'toit nappe': 1.5, 'mur remblais': 4.0}},\n",
       " 'F20': {(0.0, 1.5): {'description': 'remblais non-saturés',\n",
       "   'lithology': 'remblais',\n",
       "   'color': 'brun'},\n",
       "  (1.5, 4.0): {'description': 'remblais saturés',\n",
       "   'lithology': 'remblais',\n",
       "   'color': 'ocre'},\n",
       "  (4.0, 6.0): {'description': 'alluvions',\n",
       "   'lithology': 'silt',\n",
       "   'color': 'gris'},\n",
       "  'markers': {'toit nappe': 1.5, 'mur remblais': 4.0}},\n",
       " 'F21': {(0.0, 1.5): {'description': 'remblais non-saturés',\n",
       "   'lithology': 'remblais',\n",
       "   'color': 'brun'},\n",
       "  (1.5, 4.0): {'description': 'remblais saturés',\n",
       "   'lithology': 'remblais',\n",
       "   'color': 'ocre'},\n",
       "  (4.0, 6.0): {'description': 'alluvions',\n",
       "   'lithology': 'silt',\n",
       "   'color': 'gris'},\n",
       "  'markers': {'toit nappe': 1.5, 'mur remblais': 4.0}},\n",
       " 'F22': {(0.0, 1.5): {'description': 'remblais non-saturés',\n",
       "   'lithology': 'remblais',\n",
       "   'color': 'brun'},\n",
       "  (1.5, 4.0): {'description': 'remblais saturés',\n",
       "   'lithology': 'remblais',\n",
       "   'color': 'ocre'},\n",
       "  (4.0, 6.0): {'description': 'alluvions',\n",
       "   'lithology': 'silt',\n",
       "   'color': 'gris'},\n",
       "  'markers': {'toit nappe': 1.5, 'mur remblais': 4.0}},\n",
       " 'F23': {(0.0, 1.5): {'description': 'remblais non-saturés',\n",
       "   'lithology': 'remblais',\n",
       "   'color': 'brun'},\n",
       "  (1.5, 4.0): {'description': 'remblais saturés',\n",
       "   'lithology': 'remblais',\n",
       "   'color': 'ocre'},\n",
       "  (4.0, 6.0): {'description': 'alluvions',\n",
       "   'lithology': 'silt',\n",
       "   'color': 'gris'},\n",
       "  'markers': {'toit nappe': 1.5, 'mur remblais': 4.0}},\n",
       " 'F24': {(0.0, 1.5): {'description': 'remblais non-saturés',\n",
       "   'lithology': 'remblais',\n",
       "   'color': 'brun'},\n",
       "  (1.5, 4.0): {'description': 'remblais saturés',\n",
       "   'lithology': 'remblais',\n",
       "   'color': 'ocre'},\n",
       "  (4.0, 6.0): {'description': 'alluvions',\n",
       "   'lithology': 'silt',\n",
       "   'color': 'gris'},\n",
       "  'markers': {'toit nappe': 1.5, 'mur remblais': 4.0}},\n",
       " 'F25': {(0.0, 1.5): {'description': 'remblais non-saturés',\n",
       "   'lithology': 'remblais',\n",
       "   'color': 'brun'},\n",
       "  (1.5, 4.0): {'description': 'remblais saturés',\n",
       "   'lithology': 'remblais',\n",
       "   'color': 'ocre'},\n",
       "  (4.0, 6.0): {'description': 'alluvions',\n",
       "   'lithology': 'silt',\n",
       "   'color': 'gris'},\n",
       "  'markers': {'toit nappe': 1.5, 'mur remblais': 4.0}}}"
      ]
     },
     "execution_count": 7,
     "metadata": {},
     "output_type": "execute_result"
    }
   ],
   "source": [
    "boreholes"
   ]
  },
  {
   "cell_type": "code",
   "execution_count": 8,
   "metadata": {},
   "outputs": [
    {
     "data": {
      "text/plain": [
       "dict"
      ]
     },
     "execution_count": 8,
     "metadata": {},
     "output_type": "execute_result"
    }
   ],
   "source": [
    "type(boreholes)"
   ]
  },
  {
   "cell_type": "code",
   "execution_count": 9,
   "metadata": {},
   "outputs": [],
   "source": [
    "import sqlite3"
   ]
  },
  {
   "cell_type": "code",
   "execution_count": 10,
   "metadata": {},
   "outputs": [],
   "source": [
    "conn = sqlite3.connect('final.db')"
   ]
  },
  {
   "cell_type": "code",
   "execution_count": 11,
   "metadata": {},
   "outputs": [],
   "source": [
    "c = conn.cursor()"
   ]
  },
  {
   "cell_type": "code",
   "execution_count": 12,
   "metadata": {},
   "outputs": [],
   "source": [
    "def create_table(cursor, name, fields):\n",
    "    cmd = \"CREATE TABLE IF NOT EXISTS {table_name}(\".format(table_name=name)\n",
    "    for k, v in fields.items():\n",
    "        cmd = cmd + '{field} {field_type}, '.format(field=k, field_type=v)\n",
    "    cmd = cmd[:-2]+')'\n",
    "    print(cmd)\n",
    "    cursor.execute(cmd)"
   ]
  },
  {
   "cell_type": "code",
   "execution_count": 13,
   "metadata": {},
   "outputs": [
    {
     "name": "stdout",
     "output_type": "stream",
     "text": [
      "CREATE TABLE IF NOT EXISTS Boreholes(id TEXT)\n",
      "CREATE TABLE IF NOT EXISTS Intervals(borehole TEXT, Top REAL, Base REAL, description TEXT)\n",
      "CREATE TABLE IF NOT EXISTS Component(Borehole TEXT, Top REAL, Base REAL, Key TEXT, Value TEXT)\n",
      "CREATE TABLE IF NOT EXISTS lexicon(Key TEXT, Value TEXT)\n"
     ]
    }
   ],
   "source": [
    "table_names = ['Boreholes', 'Intervals','Component','lexicon']\n",
    "fields = [{'id': 'TEXT'},{'borehole': 'TEXT', 'Top': 'REAL', 'Base': 'REAL', 'description': 'TEXT'},{'Borehole':'TEXT','Top': 'REAL', 'Base': 'REAL', 'Key':'TEXT','Value':'TEXT'},{'Key':'TEXT', 'Value':'TEXT'}]\n",
    "for i in range(len(table_names)):\n",
    "    create_table(c, table_names[i], fields[i])"
   ]
  },
  {
   "cell_type": "code",
   "execution_count": 14,
   "metadata": {},
   "outputs": [
    {
     "name": "stdout",
     "output_type": "stream",
     "text": [
      "INSERT INTO Intervals VALUES ('F10', 0.00, 1.50, 'remblais non-saturés')\n",
      "INSERT INTO Intervals VALUES ('F10', 1.50, 4.00, 'remblais saturés')\n",
      "INSERT INTO Intervals VALUES ('F10', 4.00, 6.00, 'alluvions')\n",
      "INSERT INTO Intervals VALUES ('F11', 0.00, 1.50, 'remblais non-saturés')\n",
      "INSERT INTO Intervals VALUES ('F11', 1.50, 4.00, 'remblais saturés')\n",
      "INSERT INTO Intervals VALUES ('F11', 4.00, 6.00, 'alluvions')\n",
      "INSERT INTO Intervals VALUES ('F12', 0.00, 1.50, 'remblais non-saturés')\n",
      "INSERT INTO Intervals VALUES ('F12', 1.50, 4.00, 'remblais saturés')\n",
      "INSERT INTO Intervals VALUES ('F12', 4.00, 6.00, 'alluvions')\n",
      "INSERT INTO Intervals VALUES ('F13', 0.00, 1.50, 'remblais non-saturés')\n",
      "INSERT INTO Intervals VALUES ('F13', 1.50, 4.00, 'remblais saturés')\n",
      "INSERT INTO Intervals VALUES ('F13', 4.00, 6.00, 'alluvions')\n",
      "INSERT INTO Intervals VALUES ('F14', 0.00, 1.50, 'remblais non-saturés')\n",
      "INSERT INTO Intervals VALUES ('F14', 1.50, 4.00, 'remblais saturés')\n",
      "INSERT INTO Intervals VALUES ('F14', 4.00, 6.00, 'alluvions')\n",
      "INSERT INTO Intervals VALUES ('F15', 0.00, 1.50, 'remblais non-saturés')\n",
      "INSERT INTO Intervals VALUES ('F15', 1.50, 4.00, 'remblais saturés')\n",
      "INSERT INTO Intervals VALUES ('F15', 4.00, 6.00, 'alluvions')\n",
      "INSERT INTO Intervals VALUES ('F16', 0.00, 1.50, 'remblais non-saturés')\n",
      "INSERT INTO Intervals VALUES ('F16', 1.50, 4.00, 'remblais saturés')\n",
      "INSERT INTO Intervals VALUES ('F16', 4.00, 6.00, 'alluvions')\n",
      "INSERT INTO Intervals VALUES ('F20', 0.00, 1.50, 'remblais non-saturés')\n",
      "INSERT INTO Intervals VALUES ('F20', 1.50, 4.00, 'remblais saturés')\n",
      "INSERT INTO Intervals VALUES ('F20', 4.00, 6.00, 'alluvions')\n",
      "INSERT INTO Intervals VALUES ('F21', 0.00, 1.50, 'remblais non-saturés')\n",
      "INSERT INTO Intervals VALUES ('F21', 1.50, 4.00, 'remblais saturés')\n",
      "INSERT INTO Intervals VALUES ('F21', 4.00, 6.00, 'alluvions')\n",
      "INSERT INTO Intervals VALUES ('F22', 0.00, 1.50, 'remblais non-saturés')\n",
      "INSERT INTO Intervals VALUES ('F22', 1.50, 4.00, 'remblais saturés')\n",
      "INSERT INTO Intervals VALUES ('F22', 4.00, 6.00, 'alluvions')\n",
      "INSERT INTO Intervals VALUES ('F23', 0.00, 1.50, 'remblais non-saturés')\n",
      "INSERT INTO Intervals VALUES ('F23', 1.50, 4.00, 'remblais saturés')\n",
      "INSERT INTO Intervals VALUES ('F23', 4.00, 6.00, 'alluvions')\n",
      "INSERT INTO Intervals VALUES ('F24', 0.00, 1.50, 'remblais non-saturés')\n",
      "INSERT INTO Intervals VALUES ('F24', 1.50, 4.00, 'remblais saturés')\n",
      "INSERT INTO Intervals VALUES ('F24', 4.00, 6.00, 'alluvions')\n",
      "INSERT INTO Intervals VALUES ('F25', 0.00, 1.50, 'remblais non-saturés')\n",
      "INSERT INTO Intervals VALUES ('F25', 1.50, 4.00, 'remblais saturés')\n",
      "INSERT INTO Intervals VALUES ('F25', 4.00, 6.00, 'alluvions')\n"
     ]
    }
   ],
   "source": [
    "for k, v in boreholes.items():\n",
    "    sql_command = \"INSERT INTO Boreholes (id) VALUES ('{id}')\".format(id=k)\n",
    "    c.execute(sql_command)\n",
    "    for k2,v2 in v.items():\n",
    "        if k2 not in ('markers',):\n",
    "            sql_command = \"INSERT INTO Intervals VALUES ('{id}', {Top:.2f}, {Base:.2f}, '{description:s}')\".format(id=k, Top=k2[0], Base=k2[1], description=v2['description'])\n",
    "            print(sql_command)\n",
    "            c.execute(sql_command)"
   ]
  },
  {
   "cell_type": "code",
   "execution_count": 15,
   "metadata": {},
   "outputs": [
    {
     "name": "stdout",
     "output_type": "stream",
     "text": [
      "INSERT INTO Component VALUES ('F25', 0.00, 1.50, 'lithology', 'remblais')\n",
      "INSERT INTO Component VALUES ('F25', 0.00, 1.50, 'color', 'brun')\n",
      "INSERT INTO Component VALUES ('F25', 1.50, 4.00, 'lithology', 'remblais')\n",
      "INSERT INTO Component VALUES ('F25', 1.50, 4.00, 'color', 'ocre')\n",
      "INSERT INTO Component VALUES ('F25', 4.00, 6.00, 'lithology', 'silt')\n",
      "INSERT INTO Component VALUES ('F25', 4.00, 6.00, 'color', 'gris')\n",
      "INSERT INTO Component VALUES ('F25', 0.00, 1.50, 'lithology', 'remblais')\n",
      "INSERT INTO Component VALUES ('F25', 0.00, 1.50, 'color', 'brun')\n",
      "INSERT INTO Component VALUES ('F25', 1.50, 4.00, 'lithology', 'remblais')\n",
      "INSERT INTO Component VALUES ('F25', 1.50, 4.00, 'color', 'ocre')\n",
      "INSERT INTO Component VALUES ('F25', 4.00, 6.00, 'lithology', 'silt')\n",
      "INSERT INTO Component VALUES ('F25', 4.00, 6.00, 'color', 'gris')\n",
      "INSERT INTO Component VALUES ('F25', 0.00, 1.50, 'lithology', 'remblais')\n",
      "INSERT INTO Component VALUES ('F25', 0.00, 1.50, 'color', 'brun')\n",
      "INSERT INTO Component VALUES ('F25', 1.50, 4.00, 'lithology', 'remblais')\n",
      "INSERT INTO Component VALUES ('F25', 1.50, 4.00, 'color', 'ocre')\n",
      "INSERT INTO Component VALUES ('F25', 4.00, 6.00, 'lithology', 'silt')\n",
      "INSERT INTO Component VALUES ('F25', 4.00, 6.00, 'color', 'gris')\n",
      "INSERT INTO Component VALUES ('F25', 0.00, 1.50, 'lithology', 'remblais')\n",
      "INSERT INTO Component VALUES ('F25', 0.00, 1.50, 'color', 'brun')\n",
      "INSERT INTO Component VALUES ('F25', 1.50, 4.00, 'lithology', 'remblais')\n",
      "INSERT INTO Component VALUES ('F25', 1.50, 4.00, 'color', 'ocre')\n",
      "INSERT INTO Component VALUES ('F25', 4.00, 6.00, 'lithology', 'silt')\n",
      "INSERT INTO Component VALUES ('F25', 4.00, 6.00, 'color', 'gris')\n",
      "INSERT INTO Component VALUES ('F25', 0.00, 1.50, 'lithology', 'remblais')\n",
      "INSERT INTO Component VALUES ('F25', 0.00, 1.50, 'color', 'brun')\n",
      "INSERT INTO Component VALUES ('F25', 1.50, 4.00, 'lithology', 'remblais')\n",
      "INSERT INTO Component VALUES ('F25', 1.50, 4.00, 'color', 'ocre')\n",
      "INSERT INTO Component VALUES ('F25', 4.00, 6.00, 'lithology', 'silt')\n",
      "INSERT INTO Component VALUES ('F25', 4.00, 6.00, 'color', 'gris')\n",
      "INSERT INTO Component VALUES ('F25', 0.00, 1.50, 'lithology', 'remblais')\n",
      "INSERT INTO Component VALUES ('F25', 0.00, 1.50, 'color', 'brun')\n",
      "INSERT INTO Component VALUES ('F25', 1.50, 4.00, 'lithology', 'remblais')\n",
      "INSERT INTO Component VALUES ('F25', 1.50, 4.00, 'color', 'ocre')\n",
      "INSERT INTO Component VALUES ('F25', 4.00, 6.00, 'lithology', 'silt')\n",
      "INSERT INTO Component VALUES ('F25', 4.00, 6.00, 'color', 'gris')\n",
      "INSERT INTO Component VALUES ('F25', 0.00, 1.50, 'lithology', 'remblais')\n",
      "INSERT INTO Component VALUES ('F25', 0.00, 1.50, 'color', 'brun')\n",
      "INSERT INTO Component VALUES ('F25', 1.50, 4.00, 'lithology', 'remblais')\n",
      "INSERT INTO Component VALUES ('F25', 1.50, 4.00, 'color', 'ocre')\n",
      "INSERT INTO Component VALUES ('F25', 4.00, 6.00, 'lithology', 'silt')\n",
      "INSERT INTO Component VALUES ('F25', 4.00, 6.00, 'color', 'gris')\n",
      "INSERT INTO Component VALUES ('F25', 0.00, 1.50, 'lithology', 'remblais')\n",
      "INSERT INTO Component VALUES ('F25', 0.00, 1.50, 'color', 'brun')\n",
      "INSERT INTO Component VALUES ('F25', 1.50, 4.00, 'lithology', 'remblais')\n",
      "INSERT INTO Component VALUES ('F25', 1.50, 4.00, 'color', 'ocre')\n",
      "INSERT INTO Component VALUES ('F25', 4.00, 6.00, 'lithology', 'silt')\n",
      "INSERT INTO Component VALUES ('F25', 4.00, 6.00, 'color', 'gris')\n",
      "INSERT INTO Component VALUES ('F25', 0.00, 1.50, 'lithology', 'remblais')\n",
      "INSERT INTO Component VALUES ('F25', 0.00, 1.50, 'color', 'brun')\n",
      "INSERT INTO Component VALUES ('F25', 1.50, 4.00, 'lithology', 'remblais')\n",
      "INSERT INTO Component VALUES ('F25', 1.50, 4.00, 'color', 'ocre')\n",
      "INSERT INTO Component VALUES ('F25', 4.00, 6.00, 'lithology', 'silt')\n",
      "INSERT INTO Component VALUES ('F25', 4.00, 6.00, 'color', 'gris')\n",
      "INSERT INTO Component VALUES ('F25', 0.00, 1.50, 'lithology', 'remblais')\n",
      "INSERT INTO Component VALUES ('F25', 0.00, 1.50, 'color', 'brun')\n",
      "INSERT INTO Component VALUES ('F25', 1.50, 4.00, 'lithology', 'remblais')\n",
      "INSERT INTO Component VALUES ('F25', 1.50, 4.00, 'color', 'ocre')\n",
      "INSERT INTO Component VALUES ('F25', 4.00, 6.00, 'lithology', 'silt')\n",
      "INSERT INTO Component VALUES ('F25', 4.00, 6.00, 'color', 'gris')\n",
      "INSERT INTO Component VALUES ('F25', 0.00, 1.50, 'lithology', 'remblais')\n",
      "INSERT INTO Component VALUES ('F25', 0.00, 1.50, 'color', 'brun')\n",
      "INSERT INTO Component VALUES ('F25', 1.50, 4.00, 'lithology', 'remblais')\n",
      "INSERT INTO Component VALUES ('F25', 1.50, 4.00, 'color', 'ocre')\n",
      "INSERT INTO Component VALUES ('F25', 4.00, 6.00, 'lithology', 'silt')\n",
      "INSERT INTO Component VALUES ('F25', 4.00, 6.00, 'color', 'gris')\n",
      "INSERT INTO Component VALUES ('F25', 0.00, 1.50, 'lithology', 'remblais')\n",
      "INSERT INTO Component VALUES ('F25', 0.00, 1.50, 'color', 'brun')\n",
      "INSERT INTO Component VALUES ('F25', 1.50, 4.00, 'lithology', 'remblais')\n",
      "INSERT INTO Component VALUES ('F25', 1.50, 4.00, 'color', 'ocre')\n",
      "INSERT INTO Component VALUES ('F25', 4.00, 6.00, 'lithology', 'silt')\n",
      "INSERT INTO Component VALUES ('F25', 4.00, 6.00, 'color', 'gris')\n",
      "INSERT INTO Component VALUES ('F25', 0.00, 1.50, 'lithology', 'remblais')\n",
      "INSERT INTO Component VALUES ('F25', 0.00, 1.50, 'color', 'brun')\n",
      "INSERT INTO Component VALUES ('F25', 1.50, 4.00, 'lithology', 'remblais')\n",
      "INSERT INTO Component VALUES ('F25', 1.50, 4.00, 'color', 'ocre')\n",
      "INSERT INTO Component VALUES ('F25', 4.00, 6.00, 'lithology', 'silt')\n",
      "INSERT INTO Component VALUES ('F25', 4.00, 6.00, 'color', 'gris')\n"
     ]
    }
   ],
   "source": [
    "for bh_name, bh_ in boreholes.items():\n",
    "    for k2,v2 in v.items():\n",
    "        if k2 not in ('markers',):\n",
    "            for k3, v3 in v2.items():\n",
    "                if k3 not in ('description',):\n",
    "                    sql_command = \"INSERT INTO Component VALUES ('{id}', {Top:.2f}, {Base:.2f}, '{Key:s}', '{Value:s}')\".format(id=k, Top=k2[0], Base=k2[1], Key=k3, Value=v3)\n",
    "                    print(sql_command)\n",
    "                    c.execute(sql_command)"
   ]
  },
  {
   "cell_type": "code",
   "execution_count": 16,
   "metadata": {},
   "outputs": [
    {
     "data": {
      "text/plain": [
       "{'color': ['brun', 'gris', 'ocre'], 'lithology': ['remblais', 'silt']}"
      ]
     },
     "execution_count": 16,
     "metadata": {},
     "output_type": "execute_result"
    }
   ],
   "source": [
    "temp = {'color':  [], 'lithology': []}\n",
    "for bh_name, bh_ in boreholes.items():\n",
    "    for k2,v2 in v.items():\n",
    "        if k2 not in ('markers',):\n",
    "            for k3, v3 in v2.items():\n",
    "                if k3 in ('lithology','color'):\n",
    "                    temp[k3].append(v3)\n",
    "\n",
    "lexicon={}\n",
    "lexicon['color']= list(set(temp['color']))\n",
    "lexicon['lithology']= list(set(temp['lithology']))\n",
    "lexicon"
   ]
  },
  {
   "cell_type": "code",
   "execution_count": 17,
   "metadata": {},
   "outputs": [
    {
     "data": {
      "text/plain": [
       "dict_items([('color', ['brun', 'gris', 'ocre']), ('lithology', ['remblais', 'silt'])])"
      ]
     },
     "execution_count": 17,
     "metadata": {},
     "output_type": "execute_result"
    }
   ],
   "source": [
    "lexicon.items()"
   ]
  },
  {
   "cell_type": "code",
   "execution_count": 18,
   "metadata": {},
   "outputs": [
    {
     "name": "stdout",
     "output_type": "stream",
     "text": [
      "color ['brun', 'gris', 'ocre']\n",
      "lithology ['remblais', 'silt']\n"
     ]
    }
   ],
   "source": [
    "for k,v in lexicon.items():\n",
    "    print(k,v)\n",
    "    for i in v:\n",
    "        sql_command = \"INSERT INTO lexicon VALUES ('{Key:s}', '{Value:s}')\".format(Key=k, Value=i)\n",
    "        c.execute(sql_command)"
   ]
  },
  {
   "cell_type": "code",
   "execution_count": 19,
   "metadata": {},
   "outputs": [],
   "source": [
    "conn.commit()"
   ]
  },
  {
   "cell_type": "code",
   "execution_count": 20,
   "metadata": {},
   "outputs": [],
   "source": [
    "c.close ()"
   ]
  },
  {
   "cell_type": "code",
   "execution_count": 21,
   "metadata": {},
   "outputs": [],
   "source": [
    "conn.close()\n"
   ]
  }
 ],
 "metadata": {
  "kernelspec": {
   "display_name": "Python 3",
   "language": "python",
   "name": "python3"
  },
  "language_info": {
   "codemirror_mode": {
    "name": "ipython",
    "version": 3
   },
   "file_extension": ".py",
   "mimetype": "text/x-python",
   "name": "python",
   "nbconvert_exporter": "python",
   "pygments_lexer": "ipython3",
   "version": "3.6.8"
  }
 },
 "nbformat": 4,
 "nbformat_minor": 2
}

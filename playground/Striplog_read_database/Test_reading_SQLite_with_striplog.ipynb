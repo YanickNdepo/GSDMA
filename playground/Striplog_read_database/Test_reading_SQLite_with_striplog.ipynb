{
 "cells": [
  {
   "cell_type": "markdown",
   "metadata": {},
   "source": [
    "# Data reading of the database"
   ]
  },
  {
   "cell_type": "code",
   "execution_count": 28,
   "metadata": {},
   "outputs": [],
   "source": [
    "%matplotlib inline\n",
    "import matplotlib.pyplot as plt\n",
    "import numpy as np\n",
    "\n",
    "import sqlite3\n",
    "from sqlite3 import Error"
   ]
  },
  {
   "cell_type": "code",
   "execution_count": 29,
   "metadata": {},
   "outputs": [],
   "source": [
    "from striplog import Striplog\n"
   ]
  },
  {
   "cell_type": "code",
   "execution_count": 30,
   "metadata": {},
   "outputs": [],
   "source": [
    "def create_connection(db_file):\n",
    "    \"\"\" create a database connection to the SQLite database\n",
    "        specified by the db_file\n",
    "    :param db_file: database file\n",
    "    :return: Connection object or None\n",
    "    \"\"\"\n",
    "    conn = None\n",
    "    try:\n",
    "        conn = sqlite3.connect(db_file)\n",
    "    except Error as e:\n",
    "        print(e)\n",
    " \n",
    "    return conn\n",
    " "
   ]
  },
  {
   "cell_type": "code",
   "execution_count": 31,
   "metadata": {},
   "outputs": [],
   "source": [
    "def select_datat_of_db(conn,table):\n",
    "    \"\"\"\n",
    "    Query all rows in the tasks table\n",
    "    :param conn: the Connection object\n",
    "    :return:\n",
    "    \"\"\"\n",
    "    cur = conn.cursor()\n",
    "    cur.execute(table)\n",
    " \n",
    "    rows = cur.fetchall()\n",
    " \n",
    "    for row in rows:\n",
    "        print(row)\n",
    "    \n",
    "    return(rows)"
   ]
  },
  {
   "cell_type": "code",
   "execution_count": 32,
   "metadata": {},
   "outputs": [],
   "source": [
    "def select_task_by_priority(conn, priority):\n",
    "    \"\"\"\n",
    "    Query tasks by priority\n",
    "    :param conn: the Connection object\n",
    "    :param priority:\n",
    "    :return:\n",
    "    \"\"\"\n",
    "    cur = conn.cursor()\n",
    "    cur.execute(\"SELECT * FROM tasks WHERE priority=?\", (priority,))\n",
    " \n",
    "    rows = cur.fetchall()\n",
    " \n",
    "    for row in rows:\n",
    "        print(row)"
   ]
  },
  {
   "cell_type": "code",
   "execution_count": 33,
   "metadata": {},
   "outputs": [],
   "source": [
    "database = r\"database.db\""
   ]
  },
  {
   "cell_type": "markdown",
   "metadata": {},
   "source": [
    "### Create a database connection & import the data from the database"
   ]
  },
  {
   "cell_type": "code",
   "execution_count": 34,
   "metadata": {},
   "outputs": [
    {
     "name": "stdout",
     "output_type": "stream",
     "text": [
      "---BOREHOLES data--- \n",
      "('F10',)\n",
      "('F11',)\n",
      "('F12',)\n",
      "('F13',)\n",
      "('F14',)\n",
      "('F15',)\n",
      "('F16',)\n",
      "('F20',)\n",
      "('F21',)\n",
      "('F22',)\n",
      "('F23',)\n",
      "('F24',)\n",
      "('F25',)\n",
      "---COMPONENTS data--- \n",
      "('F25', 0.0, 1.5, 'lithology', 'remblais')\n",
      "('F25', 0.0, 1.5, 'color', 'brun')\n",
      "('F25', 1.5, 4.0, 'lithology', 'remblais')\n",
      "('F25', 1.5, 4.0, 'color', 'ocre')\n",
      "('F25', 4.0, 6.0, 'lithology', 'silt')\n",
      "('F25', 4.0, 6.0, 'color', 'gris')\n",
      "('F25', 0.0, 1.5, 'lithology', 'remblais')\n",
      "('F25', 0.0, 1.5, 'color', 'brun')\n",
      "('F25', 1.5, 4.0, 'lithology', 'remblais')\n",
      "('F25', 1.5, 4.0, 'color', 'ocre')\n",
      "('F25', 4.0, 6.0, 'lithology', 'silt')\n",
      "('F25', 4.0, 6.0, 'color', 'gris')\n",
      "('F25', 0.0, 1.5, 'lithology', 'remblais')\n",
      "('F25', 0.0, 1.5, 'color', 'brun')\n",
      "('F25', 1.5, 4.0, 'lithology', 'remblais')\n",
      "('F25', 1.5, 4.0, 'color', 'ocre')\n",
      "('F25', 4.0, 6.0, 'lithology', 'silt')\n",
      "('F25', 4.0, 6.0, 'color', 'gris')\n",
      "('F25', 0.0, 1.5, 'lithology', 'remblais')\n",
      "('F25', 0.0, 1.5, 'color', 'brun')\n",
      "('F25', 1.5, 4.0, 'lithology', 'remblais')\n",
      "('F25', 1.5, 4.0, 'color', 'ocre')\n",
      "('F25', 4.0, 6.0, 'lithology', 'silt')\n",
      "('F25', 4.0, 6.0, 'color', 'gris')\n",
      "('F25', 0.0, 1.5, 'lithology', 'remblais')\n",
      "('F25', 0.0, 1.5, 'color', 'brun')\n",
      "('F25', 1.5, 4.0, 'lithology', 'remblais')\n",
      "('F25', 1.5, 4.0, 'color', 'ocre')\n",
      "('F25', 4.0, 6.0, 'lithology', 'silt')\n",
      "('F25', 4.0, 6.0, 'color', 'gris')\n",
      "('F25', 0.0, 1.5, 'lithology', 'remblais')\n",
      "('F25', 0.0, 1.5, 'color', 'brun')\n",
      "('F25', 1.5, 4.0, 'lithology', 'remblais')\n",
      "('F25', 1.5, 4.0, 'color', 'ocre')\n",
      "('F25', 4.0, 6.0, 'lithology', 'silt')\n",
      "('F25', 4.0, 6.0, 'color', 'gris')\n",
      "('F25', 0.0, 1.5, 'lithology', 'remblais')\n",
      "('F25', 0.0, 1.5, 'color', 'brun')\n",
      "('F25', 1.5, 4.0, 'lithology', 'remblais')\n",
      "('F25', 1.5, 4.0, 'color', 'ocre')\n",
      "('F25', 4.0, 6.0, 'lithology', 'silt')\n",
      "('F25', 4.0, 6.0, 'color', 'gris')\n",
      "('F25', 0.0, 1.5, 'lithology', 'remblais')\n",
      "('F25', 0.0, 1.5, 'color', 'brun')\n",
      "('F25', 1.5, 4.0, 'lithology', 'remblais')\n",
      "('F25', 1.5, 4.0, 'color', 'ocre')\n",
      "('F25', 4.0, 6.0, 'lithology', 'silt')\n",
      "('F25', 4.0, 6.0, 'color', 'gris')\n",
      "('F25', 0.0, 1.5, 'lithology', 'remblais')\n",
      "('F25', 0.0, 1.5, 'color', 'brun')\n",
      "('F25', 1.5, 4.0, 'lithology', 'remblais')\n",
      "('F25', 1.5, 4.0, 'color', 'ocre')\n",
      "('F25', 4.0, 6.0, 'lithology', 'silt')\n",
      "('F25', 4.0, 6.0, 'color', 'gris')\n",
      "('F25', 0.0, 1.5, 'lithology', 'remblais')\n",
      "('F25', 0.0, 1.5, 'color', 'brun')\n",
      "('F25', 1.5, 4.0, 'lithology', 'remblais')\n",
      "('F25', 1.5, 4.0, 'color', 'ocre')\n",
      "('F25', 4.0, 6.0, 'lithology', 'silt')\n",
      "('F25', 4.0, 6.0, 'color', 'gris')\n",
      "('F25', 0.0, 1.5, 'lithology', 'remblais')\n",
      "('F25', 0.0, 1.5, 'color', 'brun')\n",
      "('F25', 1.5, 4.0, 'lithology', 'remblais')\n",
      "('F25', 1.5, 4.0, 'color', 'ocre')\n",
      "('F25', 4.0, 6.0, 'lithology', 'silt')\n",
      "('F25', 4.0, 6.0, 'color', 'gris')\n",
      "('F25', 0.0, 1.5, 'lithology', 'remblais')\n",
      "('F25', 0.0, 1.5, 'color', 'brun')\n",
      "('F25', 1.5, 4.0, 'lithology', 'remblais')\n",
      "('F25', 1.5, 4.0, 'color', 'ocre')\n",
      "('F25', 4.0, 6.0, 'lithology', 'silt')\n",
      "('F25', 4.0, 6.0, 'color', 'gris')\n",
      "('F25', 0.0, 1.5, 'lithology', 'remblais')\n",
      "('F25', 0.0, 1.5, 'color', 'brun')\n",
      "('F25', 1.5, 4.0, 'lithology', 'remblais')\n",
      "('F25', 1.5, 4.0, 'color', 'ocre')\n",
      "('F25', 4.0, 6.0, 'lithology', 'silt')\n",
      "('F25', 4.0, 6.0, 'color', 'gris')\n",
      "---INTERVAL data--- \n",
      "('F10', 0.0, 1.5, 'remblais non-saturés')\n",
      "('F10', 1.5, 4.0, 'remblais saturés')\n",
      "('F10', 4.0, 6.0, 'alluvions')\n",
      "('F11', 0.0, 1.5, 'remblais non-saturés')\n",
      "('F11', 1.5, 4.0, 'remblais saturés')\n",
      "('F11', 4.0, 6.0, 'alluvions')\n",
      "('F12', 0.0, 1.5, 'remblais non-saturés')\n",
      "('F12', 1.5, 4.0, 'remblais saturés')\n",
      "('F12', 4.0, 6.0, 'alluvions')\n",
      "('F13', 0.0, 1.5, 'remblais non-saturés')\n",
      "('F13', 1.5, 4.0, 'remblais saturés')\n",
      "('F13', 4.0, 6.0, 'alluvions')\n",
      "('F14', 0.0, 1.5, 'remblais non-saturés')\n",
      "('F14', 1.5, 4.0, 'remblais saturés')\n",
      "('F14', 4.0, 6.0, 'alluvions')\n",
      "('F15', 0.0, 1.5, 'remblais non-saturés')\n",
      "('F15', 1.5, 4.0, 'remblais saturés')\n",
      "('F15', 4.0, 6.0, 'alluvions')\n",
      "('F16', 0.0, 1.5, 'remblais non-saturés')\n",
      "('F16', 1.5, 4.0, 'remblais saturés')\n",
      "('F16', 4.0, 6.0, 'alluvions')\n",
      "('F20', 0.0, 1.5, 'remblais non-saturés')\n",
      "('F20', 1.5, 4.0, 'remblais saturés')\n",
      "('F20', 4.0, 6.0, 'alluvions')\n",
      "('F21', 0.0, 1.5, 'remblais non-saturés')\n",
      "('F21', 1.5, 4.0, 'remblais saturés')\n",
      "('F21', 4.0, 6.0, 'alluvions')\n",
      "('F22', 0.0, 1.5, 'remblais non-saturés')\n",
      "('F22', 1.5, 4.0, 'remblais saturés')\n",
      "('F22', 4.0, 6.0, 'alluvions')\n",
      "('F23', 0.0, 1.5, 'remblais non-saturés')\n",
      "('F23', 1.5, 4.0, 'remblais saturés')\n",
      "('F23', 4.0, 6.0, 'alluvions')\n",
      "('F24', 0.0, 1.5, 'remblais non-saturés')\n",
      "('F24', 1.5, 4.0, 'remblais saturés')\n",
      "('F24', 4.0, 6.0, 'alluvions')\n",
      "('F25', 0.0, 1.5, 'remblais non-saturés')\n",
      "('F25', 1.5, 4.0, 'remblais saturés')\n",
      "('F25', 4.0, 6.0, 'alluvions')\n",
      "---LEXICON--- \n",
      "('color', 'brun')\n",
      "('color', 'gris')\n",
      "('color', 'ocre')\n",
      "('lithology', 'remblais')\n",
      "('lithology', 'silt')\n"
     ]
    }
   ],
   "source": [
    "conn = create_connection(database)\n",
    "with conn:    \n",
    "        \n",
    "    print(\"---BOREHOLES data--- \")\n",
    "    table_bh=\"SELECT * FROM Boreholes\" # to select the data of the table Boreholes\n",
    "    bh=select_datat_of_db(conn,table_bh)\n",
    "    \n",
    "    print(\"---COMPONENTS data--- \")\n",
    "    table_comp=\"SELECT * FROM Component\" # to select the data of the table component\n",
    "    comp=select_datat_of_db(conn,table_comp)\n",
    "    \n",
    "    print(\"---INTERVAL data--- \")\n",
    "    table_int=\"SELECT * FROM Intervals\" # to select the data of the table Intervals\n",
    "    intvl=select_datat_of_db(conn,table_int)\n",
    "    \n",
    "    print(\"---LEXICON--- \")\n",
    "    table_lex=\"SELECT * FROM lexicon\" # to select the data of the table Intervals\n",
    "    lex=select_datat_of_db(conn,table_lex)\n",
    "    \n",
    "    \n",
    " "
   ]
  },
  {
   "cell_type": "code",
   "execution_count": 35,
   "metadata": {},
   "outputs": [
    {
     "data": {
      "text/plain": [
       "[('F10',),\n",
       " ('F11',),\n",
       " ('F12',),\n",
       " ('F13',),\n",
       " ('F14',),\n",
       " ('F15',),\n",
       " ('F16',),\n",
       " ('F20',),\n",
       " ('F21',),\n",
       " ('F22',),\n",
       " ('F23',),\n",
       " ('F24',),\n",
       " ('F25',)]"
      ]
     },
     "execution_count": 35,
     "metadata": {},
     "output_type": "execute_result"
    }
   ],
   "source": [
    "bh # is a list, cause it has brackets"
   ]
  },
  {
   "cell_type": "code",
   "execution_count": 36,
   "metadata": {},
   "outputs": [
    {
     "data": {
      "text/plain": [
       "('F11',)"
      ]
     },
     "execution_count": 36,
     "metadata": {},
     "output_type": "execute_result"
    }
   ],
   "source": [
    "bh[1]"
   ]
  },
  {
   "cell_type": "code",
   "execution_count": 37,
   "metadata": {},
   "outputs": [
    {
     "data": {
      "text/plain": [
       "[('color', 'brun'),\n",
       " ('color', 'gris'),\n",
       " ('color', 'ocre'),\n",
       " ('lithology', 'remblais'),\n",
       " ('lithology', 'silt')]"
      ]
     },
     "execution_count": 37,
     "metadata": {},
     "output_type": "execute_result"
    }
   ],
   "source": [
    "lex"
   ]
  },
  {
   "cell_type": "markdown",
   "metadata": {},
   "source": [
    "### Creating the striplog object"
   ]
  },
  {
   "cell_type": "code",
   "execution_count": 38,
   "metadata": {},
   "outputs": [],
   "source": [
    "lexicon=lex"
   ]
  },
  {
   "cell_type": "code",
   "execution_count": 39,
   "metadata": {},
   "outputs": [
    {
     "data": {
      "text/plain": [
       "list"
      ]
     },
     "execution_count": 39,
     "metadata": {},
     "output_type": "execute_result"
    }
   ],
   "source": [
    "type(intvl)"
   ]
  },
  {
   "cell_type": "code",
   "execution_count": 40,
   "metadata": {},
   "outputs": [
    {
     "data": {
      "text/plain": [
       "[('F10', 0.0, 1.5, 'remblais non-saturés'),\n",
       " ('F10', 1.5, 4.0, 'remblais saturés'),\n",
       " ('F10', 4.0, 6.0, 'alluvions'),\n",
       " ('F11', 0.0, 1.5, 'remblais non-saturés'),\n",
       " ('F11', 1.5, 4.0, 'remblais saturés'),\n",
       " ('F11', 4.0, 6.0, 'alluvions'),\n",
       " ('F12', 0.0, 1.5, 'remblais non-saturés'),\n",
       " ('F12', 1.5, 4.0, 'remblais saturés'),\n",
       " ('F12', 4.0, 6.0, 'alluvions'),\n",
       " ('F13', 0.0, 1.5, 'remblais non-saturés'),\n",
       " ('F13', 1.5, 4.0, 'remblais saturés'),\n",
       " ('F13', 4.0, 6.0, 'alluvions'),\n",
       " ('F14', 0.0, 1.5, 'remblais non-saturés'),\n",
       " ('F14', 1.5, 4.0, 'remblais saturés'),\n",
       " ('F14', 4.0, 6.0, 'alluvions'),\n",
       " ('F15', 0.0, 1.5, 'remblais non-saturés'),\n",
       " ('F15', 1.5, 4.0, 'remblais saturés'),\n",
       " ('F15', 4.0, 6.0, 'alluvions'),\n",
       " ('F16', 0.0, 1.5, 'remblais non-saturés'),\n",
       " ('F16', 1.5, 4.0, 'remblais saturés'),\n",
       " ('F16', 4.0, 6.0, 'alluvions'),\n",
       " ('F20', 0.0, 1.5, 'remblais non-saturés'),\n",
       " ('F20', 1.5, 4.0, 'remblais saturés'),\n",
       " ('F20', 4.0, 6.0, 'alluvions'),\n",
       " ('F21', 0.0, 1.5, 'remblais non-saturés'),\n",
       " ('F21', 1.5, 4.0, 'remblais saturés'),\n",
       " ('F21', 4.0, 6.0, 'alluvions'),\n",
       " ('F22', 0.0, 1.5, 'remblais non-saturés'),\n",
       " ('F22', 1.5, 4.0, 'remblais saturés'),\n",
       " ('F22', 4.0, 6.0, 'alluvions'),\n",
       " ('F23', 0.0, 1.5, 'remblais non-saturés'),\n",
       " ('F23', 1.5, 4.0, 'remblais saturés'),\n",
       " ('F23', 4.0, 6.0, 'alluvions'),\n",
       " ('F24', 0.0, 1.5, 'remblais non-saturés'),\n",
       " ('F24', 1.5, 4.0, 'remblais saturés'),\n",
       " ('F24', 4.0, 6.0, 'alluvions'),\n",
       " ('F25', 0.0, 1.5, 'remblais non-saturés'),\n",
       " ('F25', 1.5, 4.0, 'remblais saturés'),\n",
       " ('F25', 4.0, 6.0, 'alluvions')]"
      ]
     },
     "execution_count": 40,
     "metadata": {},
     "output_type": "execute_result"
    }
   ],
   "source": [
    "intvl\n"
   ]
  },
  {
   "cell_type": "code",
   "execution_count": null,
   "metadata": {},
   "outputs": [],
   "source": []
  }
 ],
 "metadata": {
  "kernelspec": {
   "display_name": "Python 3",
   "language": "python",
   "name": "python3"
  },
  "language_info": {
   "codemirror_mode": {
    "name": "ipython",
    "version": 3
   },
   "file_extension": ".py",
   "mimetype": "text/x-python",
   "name": "python",
   "nbconvert_exporter": "python",
   "pygments_lexer": "ipython3",
   "version": "3.6.8"
  }
 },
 "nbformat": 4,
 "nbformat_minor": 2
}

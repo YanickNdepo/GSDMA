{
 "cells": [
  {
   "cell_type": "markdown",
   "metadata": {},
   "source": [
    "# Data reading of the database\n",
    "A.Iragena supervised by Mr Kaufmann"
   ]
  },
  {
   "cell_type": "code",
   "execution_count": 579,
   "metadata": {},
   "outputs": [],
   "source": [
    "%matplotlib inline\n",
    "import matplotlib.pyplot as plt\n",
    "import numpy as np\n",
    "\n",
    "import sqlite3 \n",
    "from sqlite3 import Error\n"
   ]
  },
  {
   "cell_type": "code",
   "execution_count": 580,
   "metadata": {},
   "outputs": [],
   "source": [
    "from striplog.striplog import Striplog\n",
    "from striplog import Legend, Lexicon, Interval, Component, Position\n"
   ]
  },
  {
   "cell_type": "code",
   "execution_count": 581,
   "metadata": {},
   "outputs": [],
   "source": [
    "def create_connection(db_file):\n",
    "    \"\"\" create a database connection to the SQLite database\n",
    "        specified by the db_file\n",
    "    :param db_file: database file\n",
    "    :return: Connection object or None\n",
    "    \"\"\"\n",
    "    conn = None\n",
    "    try:\n",
    "        conn = sqlite3.connect(db_file)\n",
    "    except Error as e:\n",
    "        print(e)\n",
    " \n",
    "    return conn\n",
    " "
   ]
  },
  {
   "cell_type": "code",
   "execution_count": 582,
   "metadata": {},
   "outputs": [],
   "source": [
    "def select_datat_of_db(conn,table):\n",
    "    \"\"\"\n",
    "    Query all rows in the tasks table\n",
    "    :param conn: the Connection object\n",
    "    :return:\n",
    "    \"\"\"\n",
    "    cur = conn.cursor()\n",
    "    cur.execute(table)\n",
    " \n",
    "    rows = cur.fetchall()\n",
    "    #result = [dict(row) for row in cur.fetchall()]\n",
    "    for row in rows:\n",
    "        print(row)\n",
    "    return(rows)\n",
    "    #return(result)"
   ]
  },
  {
   "cell_type": "code",
   "execution_count": null,
   "metadata": {},
   "outputs": [],
   "source": []
  },
  {
   "cell_type": "code",
   "execution_count": 583,
   "metadata": {},
   "outputs": [],
   "source": [
    "database = r\"project_database.db\""
   ]
  },
  {
   "cell_type": "markdown",
   "metadata": {},
   "source": [
    "### Create a database connection & import the data from the database"
   ]
  },
  {
   "cell_type": "code",
   "execution_count": 584,
   "metadata": {},
   "outputs": [],
   "source": [
    "import pandas as pd"
   ]
  },
  {
   "cell_type": "code",
   "execution_count": 585,
   "metadata": {},
   "outputs": [],
   "source": [
    "#conn = create_connection(database)\n",
    "#bhs=pd.read_sql(\"SELECT * FROM Boreholes\", conn)"
   ]
  },
  {
   "cell_type": "code",
   "execution_count": 586,
   "metadata": {},
   "outputs": [],
   "source": [
    "#bhs"
   ]
  },
  {
   "cell_type": "markdown",
   "metadata": {},
   "source": [
    "The code below read the database and put the data in the dataframe dfs"
   ]
  },
  {
   "cell_type": "code",
   "execution_count": 587,
   "metadata": {},
   "outputs": [],
   "source": [
    "# tables = ['Boreholes', 'Component', 'Intervals', 'lexicon']\n",
    "# for i in tables:    \n",
    "#     print(\"---{table:s} data--- \".format(table=i))"
   ]
  },
  {
   "cell_type": "code",
   "execution_count": 588,
   "metadata": {},
   "outputs": [
    {
     "name": "stdout",
     "output_type": "stream",
     "text": [
      "---Boreholes data--- \n",
      "---Components data--- \n",
      "---Intervals data--- \n",
      "---Lexicon data--- \n"
     ]
    }
   ],
   "source": [
    "conn = create_connection(database)\n",
    "tables = ['Boreholes', 'Components', 'Intervals', 'Lexicon'] # table names in the database\n",
    "dfs = {}\n",
    "with conn:    \n",
    "    for i in tables:    \n",
    "        print(\"---{table:s} data--- \".format(table=i))\n",
    "        sql_cmd = \"SELECT * FROM {table:s}\".format(table=i) # to select the data of the table Boreholes\n",
    "        dfs.update({i:  pd.read_sql(sql_cmd, conn)})"
   ]
  },
  {
   "cell_type": "markdown",
   "metadata": {},
   "source": [
    "### Manipulation of the dataframe "
   ]
  },
  {
   "cell_type": "code",
   "execution_count": 589,
   "metadata": {
    "scrolled": true
   },
   "outputs": [
    {
     "data": {
      "text/html": [
       "<div>\n",
       "<style scoped>\n",
       "    .dataframe tbody tr th:only-of-type {\n",
       "        vertical-align: middle;\n",
       "    }\n",
       "\n",
       "    .dataframe tbody tr th {\n",
       "        vertical-align: top;\n",
       "    }\n",
       "\n",
       "    .dataframe thead th {\n",
       "        text-align: right;\n",
       "    }\n",
       "</style>\n",
       "<table border=\"1\" class=\"dataframe\">\n",
       "  <thead>\n",
       "    <tr style=\"text-align: right;\">\n",
       "      <th></th>\n",
       "      <th>borehole</th>\n",
       "      <th>top</th>\n",
       "      <th>base</th>\n",
       "      <th>description</th>\n",
       "    </tr>\n",
       "  </thead>\n",
       "  <tbody>\n",
       "    <tr>\n",
       "      <th>0</th>\n",
       "      <td>F10</td>\n",
       "      <td>0.0</td>\n",
       "      <td>1.5</td>\n",
       "      <td>remblais non-saturés</td>\n",
       "    </tr>\n",
       "    <tr>\n",
       "      <th>1</th>\n",
       "      <td>F10</td>\n",
       "      <td>1.5</td>\n",
       "      <td>4.0</td>\n",
       "      <td>remblais saturés</td>\n",
       "    </tr>\n",
       "    <tr>\n",
       "      <th>2</th>\n",
       "      <td>F10</td>\n",
       "      <td>4.0</td>\n",
       "      <td>6.0</td>\n",
       "      <td>alluvions</td>\n",
       "    </tr>\n",
       "    <tr>\n",
       "      <th>3</th>\n",
       "      <td>F11</td>\n",
       "      <td>0.0</td>\n",
       "      <td>1.5</td>\n",
       "      <td>remblais non-saturés</td>\n",
       "    </tr>\n",
       "    <tr>\n",
       "      <th>4</th>\n",
       "      <td>F11</td>\n",
       "      <td>1.5</td>\n",
       "      <td>4.0</td>\n",
       "      <td>remblais saturés</td>\n",
       "    </tr>\n",
       "    <tr>\n",
       "      <th>5</th>\n",
       "      <td>F11</td>\n",
       "      <td>4.0</td>\n",
       "      <td>6.0</td>\n",
       "      <td>alluvions</td>\n",
       "    </tr>\n",
       "    <tr>\n",
       "      <th>6</th>\n",
       "      <td>F12</td>\n",
       "      <td>0.0</td>\n",
       "      <td>1.5</td>\n",
       "      <td>remblais non-saturés</td>\n",
       "    </tr>\n",
       "    <tr>\n",
       "      <th>7</th>\n",
       "      <td>F12</td>\n",
       "      <td>1.5</td>\n",
       "      <td>4.0</td>\n",
       "      <td>remblais saturés</td>\n",
       "    </tr>\n",
       "    <tr>\n",
       "      <th>8</th>\n",
       "      <td>F12</td>\n",
       "      <td>4.0</td>\n",
       "      <td>6.0</td>\n",
       "      <td>alluvions</td>\n",
       "    </tr>\n",
       "    <tr>\n",
       "      <th>9</th>\n",
       "      <td>F13</td>\n",
       "      <td>0.0</td>\n",
       "      <td>1.5</td>\n",
       "      <td>remblais non-saturés</td>\n",
       "    </tr>\n",
       "    <tr>\n",
       "      <th>10</th>\n",
       "      <td>F13</td>\n",
       "      <td>1.5</td>\n",
       "      <td>4.0</td>\n",
       "      <td>remblais saturés</td>\n",
       "    </tr>\n",
       "    <tr>\n",
       "      <th>11</th>\n",
       "      <td>F13</td>\n",
       "      <td>4.0</td>\n",
       "      <td>6.0</td>\n",
       "      <td>alluvions</td>\n",
       "    </tr>\n",
       "    <tr>\n",
       "      <th>12</th>\n",
       "      <td>F14</td>\n",
       "      <td>0.0</td>\n",
       "      <td>1.5</td>\n",
       "      <td>remblais non-saturés</td>\n",
       "    </tr>\n",
       "    <tr>\n",
       "      <th>13</th>\n",
       "      <td>F14</td>\n",
       "      <td>1.5</td>\n",
       "      <td>4.0</td>\n",
       "      <td>remblais saturés</td>\n",
       "    </tr>\n",
       "    <tr>\n",
       "      <th>14</th>\n",
       "      <td>F14</td>\n",
       "      <td>4.0</td>\n",
       "      <td>6.0</td>\n",
       "      <td>alluvions</td>\n",
       "    </tr>\n",
       "    <tr>\n",
       "      <th>15</th>\n",
       "      <td>F15</td>\n",
       "      <td>0.0</td>\n",
       "      <td>1.5</td>\n",
       "      <td>remblais non-saturés</td>\n",
       "    </tr>\n",
       "    <tr>\n",
       "      <th>16</th>\n",
       "      <td>F15</td>\n",
       "      <td>1.5</td>\n",
       "      <td>4.0</td>\n",
       "      <td>remblais saturés</td>\n",
       "    </tr>\n",
       "    <tr>\n",
       "      <th>17</th>\n",
       "      <td>F15</td>\n",
       "      <td>4.0</td>\n",
       "      <td>6.0</td>\n",
       "      <td>alluvions</td>\n",
       "    </tr>\n",
       "    <tr>\n",
       "      <th>18</th>\n",
       "      <td>F16</td>\n",
       "      <td>0.0</td>\n",
       "      <td>1.5</td>\n",
       "      <td>remblais non-saturés</td>\n",
       "    </tr>\n",
       "    <tr>\n",
       "      <th>19</th>\n",
       "      <td>F16</td>\n",
       "      <td>1.5</td>\n",
       "      <td>4.0</td>\n",
       "      <td>remblais saturés</td>\n",
       "    </tr>\n",
       "    <tr>\n",
       "      <th>20</th>\n",
       "      <td>F16</td>\n",
       "      <td>4.0</td>\n",
       "      <td>6.0</td>\n",
       "      <td>alluvions</td>\n",
       "    </tr>\n",
       "    <tr>\n",
       "      <th>21</th>\n",
       "      <td>F20</td>\n",
       "      <td>0.0</td>\n",
       "      <td>1.5</td>\n",
       "      <td>remblais non-saturés</td>\n",
       "    </tr>\n",
       "    <tr>\n",
       "      <th>22</th>\n",
       "      <td>F20</td>\n",
       "      <td>1.5</td>\n",
       "      <td>4.0</td>\n",
       "      <td>remblais saturés</td>\n",
       "    </tr>\n",
       "    <tr>\n",
       "      <th>23</th>\n",
       "      <td>F20</td>\n",
       "      <td>4.0</td>\n",
       "      <td>6.0</td>\n",
       "      <td>alluvions</td>\n",
       "    </tr>\n",
       "    <tr>\n",
       "      <th>24</th>\n",
       "      <td>F21</td>\n",
       "      <td>0.0</td>\n",
       "      <td>1.5</td>\n",
       "      <td>remblais non-saturés</td>\n",
       "    </tr>\n",
       "    <tr>\n",
       "      <th>25</th>\n",
       "      <td>F21</td>\n",
       "      <td>1.5</td>\n",
       "      <td>4.0</td>\n",
       "      <td>remblais saturés</td>\n",
       "    </tr>\n",
       "    <tr>\n",
       "      <th>26</th>\n",
       "      <td>F21</td>\n",
       "      <td>4.0</td>\n",
       "      <td>6.0</td>\n",
       "      <td>alluvions</td>\n",
       "    </tr>\n",
       "    <tr>\n",
       "      <th>27</th>\n",
       "      <td>F22</td>\n",
       "      <td>0.0</td>\n",
       "      <td>1.5</td>\n",
       "      <td>remblais non-saturés</td>\n",
       "    </tr>\n",
       "    <tr>\n",
       "      <th>28</th>\n",
       "      <td>F22</td>\n",
       "      <td>1.5</td>\n",
       "      <td>4.0</td>\n",
       "      <td>remblais saturés</td>\n",
       "    </tr>\n",
       "    <tr>\n",
       "      <th>29</th>\n",
       "      <td>F22</td>\n",
       "      <td>4.0</td>\n",
       "      <td>6.0</td>\n",
       "      <td>alluvions</td>\n",
       "    </tr>\n",
       "    <tr>\n",
       "      <th>30</th>\n",
       "      <td>F23</td>\n",
       "      <td>0.0</td>\n",
       "      <td>1.5</td>\n",
       "      <td>remblais non-saturés</td>\n",
       "    </tr>\n",
       "    <tr>\n",
       "      <th>31</th>\n",
       "      <td>F23</td>\n",
       "      <td>1.5</td>\n",
       "      <td>4.0</td>\n",
       "      <td>remblais saturés</td>\n",
       "    </tr>\n",
       "    <tr>\n",
       "      <th>32</th>\n",
       "      <td>F23</td>\n",
       "      <td>4.0</td>\n",
       "      <td>6.0</td>\n",
       "      <td>alluvions</td>\n",
       "    </tr>\n",
       "    <tr>\n",
       "      <th>33</th>\n",
       "      <td>F24</td>\n",
       "      <td>0.0</td>\n",
       "      <td>1.5</td>\n",
       "      <td>remblais non-saturés</td>\n",
       "    </tr>\n",
       "    <tr>\n",
       "      <th>34</th>\n",
       "      <td>F24</td>\n",
       "      <td>1.5</td>\n",
       "      <td>4.0</td>\n",
       "      <td>remblais saturés</td>\n",
       "    </tr>\n",
       "    <tr>\n",
       "      <th>35</th>\n",
       "      <td>F24</td>\n",
       "      <td>4.0</td>\n",
       "      <td>6.0</td>\n",
       "      <td>alluvions</td>\n",
       "    </tr>\n",
       "    <tr>\n",
       "      <th>36</th>\n",
       "      <td>F25</td>\n",
       "      <td>0.0</td>\n",
       "      <td>1.5</td>\n",
       "      <td>remblais non-saturés</td>\n",
       "    </tr>\n",
       "    <tr>\n",
       "      <th>37</th>\n",
       "      <td>F25</td>\n",
       "      <td>1.5</td>\n",
       "      <td>4.0</td>\n",
       "      <td>remblais saturés</td>\n",
       "    </tr>\n",
       "    <tr>\n",
       "      <th>38</th>\n",
       "      <td>F25</td>\n",
       "      <td>4.0</td>\n",
       "      <td>6.0</td>\n",
       "      <td>alluvions</td>\n",
       "    </tr>\n",
       "  </tbody>\n",
       "</table>\n",
       "</div>"
      ],
      "text/plain": [
       "   borehole  top  base           description\n",
       "0       F10  0.0   1.5  remblais non-saturés\n",
       "1       F10  1.5   4.0      remblais saturés\n",
       "2       F10  4.0   6.0             alluvions\n",
       "3       F11  0.0   1.5  remblais non-saturés\n",
       "4       F11  1.5   4.0      remblais saturés\n",
       "5       F11  4.0   6.0             alluvions\n",
       "6       F12  0.0   1.5  remblais non-saturés\n",
       "7       F12  1.5   4.0      remblais saturés\n",
       "8       F12  4.0   6.0             alluvions\n",
       "9       F13  0.0   1.5  remblais non-saturés\n",
       "10      F13  1.5   4.0      remblais saturés\n",
       "11      F13  4.0   6.0             alluvions\n",
       "12      F14  0.0   1.5  remblais non-saturés\n",
       "13      F14  1.5   4.0      remblais saturés\n",
       "14      F14  4.0   6.0             alluvions\n",
       "15      F15  0.0   1.5  remblais non-saturés\n",
       "16      F15  1.5   4.0      remblais saturés\n",
       "17      F15  4.0   6.0             alluvions\n",
       "18      F16  0.0   1.5  remblais non-saturés\n",
       "19      F16  1.5   4.0      remblais saturés\n",
       "20      F16  4.0   6.0             alluvions\n",
       "21      F20  0.0   1.5  remblais non-saturés\n",
       "22      F20  1.5   4.0      remblais saturés\n",
       "23      F20  4.0   6.0             alluvions\n",
       "24      F21  0.0   1.5  remblais non-saturés\n",
       "25      F21  1.5   4.0      remblais saturés\n",
       "26      F21  4.0   6.0             alluvions\n",
       "27      F22  0.0   1.5  remblais non-saturés\n",
       "28      F22  1.5   4.0      remblais saturés\n",
       "29      F22  4.0   6.0             alluvions\n",
       "30      F23  0.0   1.5  remblais non-saturés\n",
       "31      F23  1.5   4.0      remblais saturés\n",
       "32      F23  4.0   6.0             alluvions\n",
       "33      F24  0.0   1.5  remblais non-saturés\n",
       "34      F24  1.5   4.0      remblais saturés\n",
       "35      F24  4.0   6.0             alluvions\n",
       "36      F25  0.0   1.5  remblais non-saturés\n",
       "37      F25  1.5   4.0      remblais saturés\n",
       "38      F25  4.0   6.0             alluvions"
      ]
     },
     "execution_count": 589,
     "metadata": {},
     "output_type": "execute_result"
    }
   ],
   "source": [
    "dfs['Intervals'] # just to check if the content of Intervals table is correct"
   ]
  },
  {
   "cell_type": "code",
   "execution_count": 590,
   "metadata": {},
   "outputs": [
    {
     "data": {
      "text/html": [
       "<div>\n",
       "<style scoped>\n",
       "    .dataframe tbody tr th:only-of-type {\n",
       "        vertical-align: middle;\n",
       "    }\n",
       "\n",
       "    .dataframe tbody tr th {\n",
       "        vertical-align: top;\n",
       "    }\n",
       "\n",
       "    .dataframe thead th {\n",
       "        text-align: right;\n",
       "    }\n",
       "</style>\n",
       "<table border=\"1\" class=\"dataframe\">\n",
       "  <thead>\n",
       "    <tr style=\"text-align: right;\">\n",
       "      <th></th>\n",
       "      <th>borehole</th>\n",
       "      <th>top</th>\n",
       "      <th>base</th>\n",
       "      <th>key</th>\n",
       "      <th>value</th>\n",
       "    </tr>\n",
       "  </thead>\n",
       "  <tbody>\n",
       "    <tr>\n",
       "      <th>73</th>\n",
       "      <td>F25</td>\n",
       "      <td>0.0</td>\n",
       "      <td>1.5</td>\n",
       "      <td>color</td>\n",
       "      <td>brun</td>\n",
       "    </tr>\n",
       "    <tr>\n",
       "      <th>75</th>\n",
       "      <td>F25</td>\n",
       "      <td>1.5</td>\n",
       "      <td>4.0</td>\n",
       "      <td>color</td>\n",
       "      <td>ocre</td>\n",
       "    </tr>\n",
       "    <tr>\n",
       "      <th>77</th>\n",
       "      <td>F25</td>\n",
       "      <td>4.0</td>\n",
       "      <td>6.0</td>\n",
       "      <td>color</td>\n",
       "      <td>gris</td>\n",
       "    </tr>\n",
       "  </tbody>\n",
       "</table>\n",
       "</div>"
      ],
      "text/plain": [
       "   borehole  top  base    key value\n",
       "73      F25  0.0   1.5  color  brun\n",
       "75      F25  1.5   4.0  color  ocre\n",
       "77      F25  4.0   6.0  color  gris"
      ]
     },
     "execution_count": 590,
     "metadata": {},
     "output_type": "execute_result"
    }
   ],
   "source": [
    "dfs['Components'].query('borehole==\"F25\" and key==\"color\"') # To look for the color of the bh F25, in Component table"
   ]
  },
  {
   "cell_type": "code",
   "execution_count": 591,
   "metadata": {},
   "outputs": [
    {
     "data": {
      "text/html": [
       "<div>\n",
       "<style scoped>\n",
       "    .dataframe tbody tr th:only-of-type {\n",
       "        vertical-align: middle;\n",
       "    }\n",
       "\n",
       "    .dataframe tbody tr th {\n",
       "        vertical-align: top;\n",
       "    }\n",
       "\n",
       "    .dataframe thead th {\n",
       "        text-align: right;\n",
       "    }\n",
       "</style>\n",
       "<table border=\"1\" class=\"dataframe\">\n",
       "  <thead>\n",
       "    <tr style=\"text-align: right;\">\n",
       "      <th></th>\n",
       "      <th>borehole</th>\n",
       "      <th>top</th>\n",
       "      <th>base</th>\n",
       "      <th>description</th>\n",
       "    </tr>\n",
       "  </thead>\n",
       "  <tbody>\n",
       "    <tr>\n",
       "      <th>0</th>\n",
       "      <td>F10</td>\n",
       "      <td>0.0</td>\n",
       "      <td>1.5</td>\n",
       "      <td>remblais non-saturés</td>\n",
       "    </tr>\n",
       "    <tr>\n",
       "      <th>1</th>\n",
       "      <td>F10</td>\n",
       "      <td>1.5</td>\n",
       "      <td>4.0</td>\n",
       "      <td>remblais saturés</td>\n",
       "    </tr>\n",
       "    <tr>\n",
       "      <th>2</th>\n",
       "      <td>F10</td>\n",
       "      <td>4.0</td>\n",
       "      <td>6.0</td>\n",
       "      <td>alluvions</td>\n",
       "    </tr>\n",
       "    <tr>\n",
       "      <th>3</th>\n",
       "      <td>F11</td>\n",
       "      <td>0.0</td>\n",
       "      <td>1.5</td>\n",
       "      <td>remblais non-saturés</td>\n",
       "    </tr>\n",
       "    <tr>\n",
       "      <th>4</th>\n",
       "      <td>F11</td>\n",
       "      <td>1.5</td>\n",
       "      <td>4.0</td>\n",
       "      <td>remblais saturés</td>\n",
       "    </tr>\n",
       "  </tbody>\n",
       "</table>\n",
       "</div>"
      ],
      "text/plain": [
       "  borehole  top  base           description\n",
       "0      F10  0.0   1.5  remblais non-saturés\n",
       "1      F10  1.5   4.0      remblais saturés\n",
       "2      F10  4.0   6.0             alluvions\n",
       "3      F11  0.0   1.5  remblais non-saturés\n",
       "4      F11  1.5   4.0      remblais saturés"
      ]
     },
     "execution_count": 591,
     "metadata": {},
     "output_type": "execute_result"
    }
   ],
   "source": [
    "dfs['Intervals'].head()"
   ]
  },
  {
   "cell_type": "code",
   "execution_count": 592,
   "metadata": {},
   "outputs": [
    {
     "data": {
      "text/html": [
       "<div>\n",
       "<style scoped>\n",
       "    .dataframe tbody tr th:only-of-type {\n",
       "        vertical-align: middle;\n",
       "    }\n",
       "\n",
       "    .dataframe tbody tr th {\n",
       "        vertical-align: top;\n",
       "    }\n",
       "\n",
       "    .dataframe thead th {\n",
       "        text-align: right;\n",
       "    }\n",
       "</style>\n",
       "<table border=\"1\" class=\"dataframe\">\n",
       "  <thead>\n",
       "    <tr style=\"text-align: right;\">\n",
       "      <th></th>\n",
       "      <th>borehole</th>\n",
       "      <th>top</th>\n",
       "      <th>base</th>\n",
       "      <th>key</th>\n",
       "      <th>value</th>\n",
       "    </tr>\n",
       "  </thead>\n",
       "  <tbody>\n",
       "    <tr>\n",
       "      <th>0</th>\n",
       "      <td>F10</td>\n",
       "      <td>0.0</td>\n",
       "      <td>1.5</td>\n",
       "      <td>lithology</td>\n",
       "      <td>remblais</td>\n",
       "    </tr>\n",
       "    <tr>\n",
       "      <th>1</th>\n",
       "      <td>F10</td>\n",
       "      <td>0.0</td>\n",
       "      <td>1.5</td>\n",
       "      <td>color</td>\n",
       "      <td>brun</td>\n",
       "    </tr>\n",
       "    <tr>\n",
       "      <th>2</th>\n",
       "      <td>F10</td>\n",
       "      <td>1.5</td>\n",
       "      <td>4.0</td>\n",
       "      <td>lithology</td>\n",
       "      <td>remblais</td>\n",
       "    </tr>\n",
       "    <tr>\n",
       "      <th>3</th>\n",
       "      <td>F10</td>\n",
       "      <td>1.5</td>\n",
       "      <td>4.0</td>\n",
       "      <td>color</td>\n",
       "      <td>ocre</td>\n",
       "    </tr>\n",
       "    <tr>\n",
       "      <th>4</th>\n",
       "      <td>F10</td>\n",
       "      <td>4.0</td>\n",
       "      <td>6.0</td>\n",
       "      <td>lithology</td>\n",
       "      <td>silt</td>\n",
       "    </tr>\n",
       "  </tbody>\n",
       "</table>\n",
       "</div>"
      ],
      "text/plain": [
       "  borehole  top  base        key     value\n",
       "0      F10  0.0   1.5  lithology  remblais\n",
       "1      F10  0.0   1.5      color      brun\n",
       "2      F10  1.5   4.0  lithology  remblais\n",
       "3      F10  1.5   4.0      color      ocre\n",
       "4      F10  4.0   6.0  lithology      silt"
      ]
     },
     "execution_count": 592,
     "metadata": {},
     "output_type": "execute_result"
    }
   ],
   "source": [
    "dfs['Components'].head()"
   ]
  },
  {
   "cell_type": "code",
   "execution_count": 593,
   "metadata": {},
   "outputs": [
    {
     "data": {
      "text/html": [
       "<div>\n",
       "<style scoped>\n",
       "    .dataframe tbody tr th:only-of-type {\n",
       "        vertical-align: middle;\n",
       "    }\n",
       "\n",
       "    .dataframe tbody tr th {\n",
       "        vertical-align: top;\n",
       "    }\n",
       "\n",
       "    .dataframe thead th {\n",
       "        text-align: right;\n",
       "    }\n",
       "</style>\n",
       "<table border=\"1\" class=\"dataframe\">\n",
       "  <thead>\n",
       "    <tr style=\"text-align: right;\">\n",
       "      <th></th>\n",
       "      <th>borehole</th>\n",
       "      <th>top</th>\n",
       "      <th>base</th>\n",
       "      <th>description</th>\n",
       "    </tr>\n",
       "  </thead>\n",
       "  <tbody>\n",
       "    <tr>\n",
       "      <th>0</th>\n",
       "      <td>F10</td>\n",
       "      <td>0.0</td>\n",
       "      <td>1.5</td>\n",
       "      <td>remblais non-saturés</td>\n",
       "    </tr>\n",
       "    <tr>\n",
       "      <th>1</th>\n",
       "      <td>F10</td>\n",
       "      <td>1.5</td>\n",
       "      <td>4.0</td>\n",
       "      <td>remblais saturés</td>\n",
       "    </tr>\n",
       "    <tr>\n",
       "      <th>2</th>\n",
       "      <td>F10</td>\n",
       "      <td>4.0</td>\n",
       "      <td>6.0</td>\n",
       "      <td>alluvions</td>\n",
       "    </tr>\n",
       "  </tbody>\n",
       "</table>\n",
       "</div>"
      ],
      "text/plain": [
       "  borehole  top  base           description\n",
       "0      F10  0.0   1.5  remblais non-saturés\n",
       "1      F10  1.5   4.0      remblais saturés\n",
       "2      F10  4.0   6.0             alluvions"
      ]
     },
     "execution_count": 593,
     "metadata": {},
     "output_type": "execute_result"
    }
   ],
   "source": [
    "bh_test = 'F10'\n",
    "dfs['Intervals'].query('borehole==\"{borehole:s}\"'.format(borehole=bh_test)) # show all the intervals of bh_test"
   ]
  },
  {
   "cell_type": "code",
   "execution_count": 594,
   "metadata": {},
   "outputs": [
    {
     "data": {
      "text/plain": [
       "0    0.0\n",
       "1    1.5\n",
       "2    4.0\n",
       "Name: top, dtype: float64"
      ]
     },
     "execution_count": 594,
     "metadata": {},
     "output_type": "execute_result"
    }
   ],
   "source": [
    "bh_test = 'F10'\n",
    "dfs['Intervals'].query('borehole==\"{borehole:s}\"'.format(borehole=bh_test))['top'] # Only shows the column 'Top' for bh_test"
   ]
  },
  {
   "cell_type": "markdown",
   "metadata": {},
   "source": [
    "### Creation of the striplog object for 1 borehole"
   ]
  },
  {
   "cell_type": "code",
   "execution_count": 595,
   "metadata": {},
   "outputs": [],
   "source": [
    "bh_test = 'F10'\n",
    "bh_strip = []  # striplog object \n",
    "intervals = dfs['Intervals'].query('borehole==\"{borehole:s}\"'.format(borehole=bh_test))[['top','base', 'description']]\n",
    "for row in intervals.iterrows():\n",
    "    components = dfs['Components'].query('borehole==\"{borehole:s}\" and top=={top:f} and base=={base:f}'.format(borehole=bh_test, top=row[1]['top'], base=row[1]['base']))\n",
    "    components_dict={}\n",
    "    for r in components.iterrows():\n",
    "        components_dict.update({r[1]['key']:r[1]['value']})\n",
    "    bh_strip.append({'top': Position(middle=row[1]['top'], units='m'), \n",
    "          'base': Position(middle=row[1]['base'], units='m'),\n",
    "          'description': row[1]['description'], 'components': [Component(components_dict)]})"
   ]
  },
  {
   "cell_type": "code",
   "execution_count": 596,
   "metadata": {},
   "outputs": [
    {
     "data": {
      "text/plain": [
       "[{'top': Position({'middle': 0.0, 'upper': 0.0, 'lower': 0.0, 'units': 'm'}),\n",
       "  'base': Position({'middle': 1.5, 'units': 'm'}),\n",
       "  'description': 'remblais non-saturés',\n",
       "  'components': [Component({'lithology': 'remblais', 'color': 'brun'})]},\n",
       " {'top': Position({'middle': 1.5, 'units': 'm'}),\n",
       "  'base': Position({'middle': 4.0, 'units': 'm'}),\n",
       "  'description': 'remblais saturés',\n",
       "  'components': [Component({'lithology': 'remblais', 'color': 'ocre'})]},\n",
       " {'top': Position({'middle': 4.0, 'units': 'm'}),\n",
       "  'base': Position({'middle': 6.0, 'units': 'm'}),\n",
       "  'description': 'alluvions',\n",
       "  'components': [Component({'lithology': 'silt', 'color': 'gris'})]}]"
      ]
     },
     "execution_count": 596,
     "metadata": {},
     "output_type": "execute_result"
    }
   ],
   "source": [
    "bh_strip"
   ]
  },
  {
   "cell_type": "code",
   "execution_count": 597,
   "metadata": {},
   "outputs": [
    {
     "name": "stdout",
     "output_type": "stream",
     "text": [
      "F10\n",
      "F11\n",
      "F12\n",
      "F13\n",
      "F14\n",
      "F15\n",
      "F16\n",
      "F20\n",
      "F21\n",
      "F22\n",
      "F23\n",
      "F24\n",
      "F25\n"
     ]
    }
   ],
   "source": [
    "for bh_row in dfs['Boreholes'].iterrows():\n",
    "    print(bh_row[1][0])"
   ]
  },
  {
   "cell_type": "markdown",
   "metadata": {},
   "source": [
    "### Defining of legend"
   ]
  },
  {
   "cell_type": "code",
   "execution_count": 598,
   "metadata": {
    "scrolled": true
   },
   "outputs": [
    {
     "name": "stdout",
     "output_type": "stream",
     "text": [
      "Decor({'_colour': '#91662b', 'width': 5.0, 'component': Component({'lithology': 'none', 'colour': 'ocre'}), 'hatch': None})\n",
      "Decor({'_colour': '#777545', 'width': 5.0, 'component': Component({'lithology': 'none', 'colour': 'vert'}), 'hatch': None})\n",
      "Decor({'_colour': '#b4a87d', 'width': None, 'component': Component({'lithology': 'none', 'colour': 'gris brun'}), 'hatch': None})\n",
      "Decor({'_colour': '#7a7861', 'width': None, 'component': Component({'lithology': 'none', 'colour': 'vert foncé'}), 'hatch': None})\n",
      "Decor({'_colour': '#d9d6b7', 'width': None, 'component': Component({'lithology': 'none', 'colour': 'gris blanc'}), 'hatch': None})\n",
      "Decor({'_colour': '#7e8388', 'width': None, 'component': Component({'lithology': 'none', 'colour': 'gris'}), 'hatch': None})\n",
      "Decor({'_colour': '#9a887f', 'width': None, 'component': Component({'lithology': 'none', 'colour': 'gris violet'}), 'hatch': None})\n",
      "Decor({'_colour': '#593c1e', 'width': None, 'component': Component({'lithology': 'none', 'colour': 'brun'}), 'hatch': None})\n",
      "Decor({'_colour': '#4c4532', 'width': None, 'component': Component({'lithology': 'none', 'colour': 'brun noir'}), 'hatch': None})\n",
      "Decor({'_colour': '#ff6600', 'width': None, 'component': Component({'lithology': 'none', 'colour': 'ind'}), 'hatch': None})\n",
      "Decor({'_colour': '#ffffff', 'width': None, 'component': Component({'lithology': 'none', 'colour': 'blanc'}), 'hatch': None})\n",
      "Decor({'_colour': '#000000', 'width': None, 'component': Component({'lithology': 'none', 'colour': 'noir'}), 'hatch': None})\n",
      "Decor({'_colour': '#794324', 'width': None, 'component': Component({'lithology': 'none', 'colour': 'rouille'}), 'hatch': None})\n"
     ]
    }
   ],
   "source": [
    "new_legend=\"legend_GSDMA.csv\"  # A specific legend has been created which in islegend_GSDMA.csv\n",
    "my_legend = Legend.from_csv(filename=new_legend)\n",
    "legend = Legend.builtin('NSDOE')\n",
    "lexicon = Lexicon.default()\n",
    "\n",
    "#legend = Legend.builtin('GSDMA') \n",
    "print(my_legend)"
   ]
  },
  {
   "cell_type": "code",
   "execution_count": 599,
   "metadata": {},
   "outputs": [
    {
     "name": "stdout",
     "output_type": "stream",
     "text": [
      "Decor({'_colour': '#f7e9a6', 'width': 3.0, 'component': Component({'lithology': 'sandstone', 'colour': 'grey', 'grainsize': 'vf-f'}), 'hatch': None})\n",
      "Decor({'_colour': '#ff99cc', 'width': 2.0, 'component': Component({'lithology': 'anhydrite'}), 'hatch': None})\n",
      "Decor({'_colour': '#dbd6bc', 'width': 3.0, 'component': Component({'lithology': 'heterolithic', 'colour': 'grey'}), 'hatch': None})\n",
      "Decor({'_colour': '#ff4c4a', 'width': 2.0, 'component': Component({'lithology': 'volcanic'}), 'hatch': None})\n",
      "Decor({'_colour': '#86f0b6', 'width': 5.0, 'component': Component({'lithology': 'conglomerate'}), 'hatch': None})\n",
      "Decor({'_colour': '#ff96f6', 'width': 2.0, 'component': Component({'lithology': 'halite'}), 'hatch': None})\n",
      "Decor({'_colour': '#f2ff42', 'width': 4.0, 'component': Component({'lithology': 'sandstone', 'colour': 'grey', 'grainsize': 'f-m'}), 'hatch': None})\n",
      "Decor({'_colour': '#dbc9bc', 'width': 3.0, 'component': Component({'lithology': 'heterolithic', 'colour': 'red'}), 'hatch': None})\n",
      "Decor({'_colour': '#a68374', 'width': 2.0, 'component': Component({'lithology': 'siltstone', 'colour': 'grey'}), 'hatch': None})\n",
      "Decor({'_colour': '#a657fa', 'width': 3.0, 'component': Component({'lithology': 'dolomite'}), 'hatch': None})\n",
      "Decor({'_colour': '#ffd073', 'width': 4.0, 'component': Component({'lithology': 'sandstone', 'colour': 'red', 'grainsize': 'c-m'}), 'hatch': None})\n",
      "Decor({'_colour': '#a6d1ff', 'width': 3.0, 'component': Component({'lithology': 'limestone'}), 'hatch': None})\n",
      "Decor({'_colour': '#ffdbba', 'width': 3.0, 'component': Component({'lithology': 'sandstone', 'colour': 'red', 'grainsize': 'vf-f'}), 'hatch': None})\n",
      "Decor({'_colour': '#ffe040', 'width': 4.0, 'component': Component({'lithology': 'sandstone', 'colour': 'grey', 'grainsize': 'c-m'}), 'hatch': None})\n",
      "Decor({'_colour': '#a1655a', 'width': 2.0, 'component': Component({'lithology': 'siltstone', 'colour': 'red'}), 'hatch': None})\n",
      "Decor({'_colour': '#363434', 'width': 1.0, 'component': Component({'lithology': 'coal'}), 'hatch': None})\n",
      "Decor({'_colour': '#664a4a', 'width': 1.0, 'component': Component({'lithology': 'mudstone', 'colour': 'red'}), 'hatch': None})\n",
      "Decor({'_colour': '#666666', 'width': 1.0, 'component': Component({'lithology': 'mudstone', 'colour': 'grey'}), 'hatch': None})\n"
     ]
    }
   ],
   "source": [
    "print(Legend.builtin('NSDOE'))"
   ]
  },
  {
   "cell_type": "markdown",
   "metadata": {},
   "source": [
    "# Complete extraction of boreholes from the database"
   ]
  },
  {
   "cell_type": "code",
   "execution_count": 600,
   "metadata": {},
   "outputs": [],
   "source": [
    "bhs_striplog = {}\n",
    "for bh_row in dfs['Boreholes'].iterrows(): # For all bh\n",
    "    bh_strip = []\n",
    "    intervals = dfs['Intervals'].query('borehole==\"{borehole:s}\"'.format(borehole=bh_row[1][0]))[['top','base', 'description']] # Look for the interval for the bh\n",
    "    for row in intervals.iterrows():\n",
    "        components = dfs['Components'].query('borehole==\"{borehole:s}\" and top=={top:f} and base=={base:f}'.format(borehole=bh_row[1][0], top=row[1]['top'], base=row[1]['base'])) # Look for components of the bh\n",
    "        components_dict={}\n",
    "        for r in components.iterrows():\n",
    "            components_dict.update({r[1]['key']:r[1]['value']})\n",
    "        bh_strip.append({'top': Position(middle=row[1]['top'], units='m'), \n",
    "              'base': Position(middle=row[1]['base'], units='m'),\n",
    "              'description': row[1]['description'],'data': {}, 'components': [Component(components_dict)]})\n",
    "    bhs_striplog.update({bh_row[1][0]: bh_strip})"
   ]
  },
  {
   "cell_type": "code",
   "execution_count": 601,
   "metadata": {},
   "outputs": [
    {
     "data": {
      "text/plain": [
       "{'F10': [{'top': Position({'middle': 0.0, 'upper': 0.0, 'lower': 0.0, 'units': 'm'}),\n",
       "   'base': Position({'middle': 1.5, 'units': 'm'}),\n",
       "   'description': 'remblais non-saturés',\n",
       "   'data': {},\n",
       "   'components': [Component({'lithology': 'remblais', 'color': 'brun'})]},\n",
       "  {'top': Position({'middle': 1.5, 'units': 'm'}),\n",
       "   'base': Position({'middle': 4.0, 'units': 'm'}),\n",
       "   'description': 'remblais saturés',\n",
       "   'data': {},\n",
       "   'components': [Component({'lithology': 'remblais', 'color': 'ocre'})]},\n",
       "  {'top': Position({'middle': 4.0, 'units': 'm'}),\n",
       "   'base': Position({'middle': 6.0, 'units': 'm'}),\n",
       "   'description': 'alluvions',\n",
       "   'data': {},\n",
       "   'components': [Component({'lithology': 'silt', 'color': 'gris'})]}],\n",
       " 'F11': [{'top': Position({'middle': 0.0, 'upper': 0.0, 'lower': 0.0, 'units': 'm'}),\n",
       "   'base': Position({'middle': 1.5, 'units': 'm'}),\n",
       "   'description': 'remblais non-saturés',\n",
       "   'data': {},\n",
       "   'components': [Component({'lithology': 'remblais', 'color': 'brun'})]},\n",
       "  {'top': Position({'middle': 1.5, 'units': 'm'}),\n",
       "   'base': Position({'middle': 4.0, 'units': 'm'}),\n",
       "   'description': 'remblais saturés',\n",
       "   'data': {},\n",
       "   'components': [Component({'lithology': 'remblais', 'color': 'ocre'})]},\n",
       "  {'top': Position({'middle': 4.0, 'units': 'm'}),\n",
       "   'base': Position({'middle': 6.0, 'units': 'm'}),\n",
       "   'description': 'alluvions',\n",
       "   'data': {},\n",
       "   'components': [Component({'lithology': 'silt', 'color': 'gris'})]}],\n",
       " 'F12': [{'top': Position({'middle': 0.0, 'upper': 0.0, 'lower': 0.0, 'units': 'm'}),\n",
       "   'base': Position({'middle': 1.5, 'units': 'm'}),\n",
       "   'description': 'remblais non-saturés',\n",
       "   'data': {},\n",
       "   'components': [Component({'lithology': 'remblais', 'color': 'brun'})]},\n",
       "  {'top': Position({'middle': 1.5, 'units': 'm'}),\n",
       "   'base': Position({'middle': 4.0, 'units': 'm'}),\n",
       "   'description': 'remblais saturés',\n",
       "   'data': {},\n",
       "   'components': [Component({'lithology': 'remblais', 'color': 'ocre'})]},\n",
       "  {'top': Position({'middle': 4.0, 'units': 'm'}),\n",
       "   'base': Position({'middle': 6.0, 'units': 'm'}),\n",
       "   'description': 'alluvions',\n",
       "   'data': {},\n",
       "   'components': [Component({'lithology': 'silt', 'color': 'gris'})]}],\n",
       " 'F13': [{'top': Position({'middle': 0.0, 'upper': 0.0, 'lower': 0.0, 'units': 'm'}),\n",
       "   'base': Position({'middle': 1.5, 'units': 'm'}),\n",
       "   'description': 'remblais non-saturés',\n",
       "   'data': {},\n",
       "   'components': [Component({'lithology': 'remblais', 'color': 'brun'})]},\n",
       "  {'top': Position({'middle': 1.5, 'units': 'm'}),\n",
       "   'base': Position({'middle': 4.0, 'units': 'm'}),\n",
       "   'description': 'remblais saturés',\n",
       "   'data': {},\n",
       "   'components': [Component({'lithology': 'remblais', 'color': 'ocre'})]},\n",
       "  {'top': Position({'middle': 4.0, 'units': 'm'}),\n",
       "   'base': Position({'middle': 6.0, 'units': 'm'}),\n",
       "   'description': 'alluvions',\n",
       "   'data': {},\n",
       "   'components': [Component({'lithology': 'silt', 'color': 'gris'})]}],\n",
       " 'F14': [{'top': Position({'middle': 0.0, 'upper': 0.0, 'lower': 0.0, 'units': 'm'}),\n",
       "   'base': Position({'middle': 1.5, 'units': 'm'}),\n",
       "   'description': 'remblais non-saturés',\n",
       "   'data': {},\n",
       "   'components': [Component({'lithology': 'remblais', 'color': 'brun'})]},\n",
       "  {'top': Position({'middle': 1.5, 'units': 'm'}),\n",
       "   'base': Position({'middle': 4.0, 'units': 'm'}),\n",
       "   'description': 'remblais saturés',\n",
       "   'data': {},\n",
       "   'components': [Component({'lithology': 'remblais', 'color': 'ocre'})]},\n",
       "  {'top': Position({'middle': 4.0, 'units': 'm'}),\n",
       "   'base': Position({'middle': 6.0, 'units': 'm'}),\n",
       "   'description': 'alluvions',\n",
       "   'data': {},\n",
       "   'components': [Component({'lithology': 'silt', 'color': 'gris'})]}],\n",
       " 'F15': [{'top': Position({'middle': 0.0, 'upper': 0.0, 'lower': 0.0, 'units': 'm'}),\n",
       "   'base': Position({'middle': 1.5, 'units': 'm'}),\n",
       "   'description': 'remblais non-saturés',\n",
       "   'data': {},\n",
       "   'components': [Component({'lithology': 'remblais', 'color': 'brun'})]},\n",
       "  {'top': Position({'middle': 1.5, 'units': 'm'}),\n",
       "   'base': Position({'middle': 4.0, 'units': 'm'}),\n",
       "   'description': 'remblais saturés',\n",
       "   'data': {},\n",
       "   'components': [Component({'lithology': 'remblais', 'color': 'ocre'})]},\n",
       "  {'top': Position({'middle': 4.0, 'units': 'm'}),\n",
       "   'base': Position({'middle': 6.0, 'units': 'm'}),\n",
       "   'description': 'alluvions',\n",
       "   'data': {},\n",
       "   'components': [Component({'lithology': 'silt', 'color': 'gris'})]}],\n",
       " 'F16': [{'top': Position({'middle': 0.0, 'upper': 0.0, 'lower': 0.0, 'units': 'm'}),\n",
       "   'base': Position({'middle': 1.5, 'units': 'm'}),\n",
       "   'description': 'remblais non-saturés',\n",
       "   'data': {},\n",
       "   'components': [Component({'lithology': 'remblais', 'color': 'brun'})]},\n",
       "  {'top': Position({'middle': 1.5, 'units': 'm'}),\n",
       "   'base': Position({'middle': 4.0, 'units': 'm'}),\n",
       "   'description': 'remblais saturés',\n",
       "   'data': {},\n",
       "   'components': [Component({'lithology': 'remblais', 'color': 'ocre'})]},\n",
       "  {'top': Position({'middle': 4.0, 'units': 'm'}),\n",
       "   'base': Position({'middle': 6.0, 'units': 'm'}),\n",
       "   'description': 'alluvions',\n",
       "   'data': {},\n",
       "   'components': [Component({'lithology': 'silt', 'color': 'gris'})]}],\n",
       " 'F20': [{'top': Position({'middle': 0.0, 'upper': 0.0, 'lower': 0.0, 'units': 'm'}),\n",
       "   'base': Position({'middle': 1.5, 'units': 'm'}),\n",
       "   'description': 'remblais non-saturés',\n",
       "   'data': {},\n",
       "   'components': [Component({'lithology': 'remblais', 'color': 'brun'})]},\n",
       "  {'top': Position({'middle': 1.5, 'units': 'm'}),\n",
       "   'base': Position({'middle': 4.0, 'units': 'm'}),\n",
       "   'description': 'remblais saturés',\n",
       "   'data': {},\n",
       "   'components': [Component({'lithology': 'remblais', 'color': 'ocre'})]},\n",
       "  {'top': Position({'middle': 4.0, 'units': 'm'}),\n",
       "   'base': Position({'middle': 6.0, 'units': 'm'}),\n",
       "   'description': 'alluvions',\n",
       "   'data': {},\n",
       "   'components': [Component({'lithology': 'silt', 'color': 'gris'})]}],\n",
       " 'F21': [{'top': Position({'middle': 0.0, 'upper': 0.0, 'lower': 0.0, 'units': 'm'}),\n",
       "   'base': Position({'middle': 1.5, 'units': 'm'}),\n",
       "   'description': 'remblais non-saturés',\n",
       "   'data': {},\n",
       "   'components': [Component({'lithology': 'remblais', 'color': 'brun'})]},\n",
       "  {'top': Position({'middle': 1.5, 'units': 'm'}),\n",
       "   'base': Position({'middle': 4.0, 'units': 'm'}),\n",
       "   'description': 'remblais saturés',\n",
       "   'data': {},\n",
       "   'components': [Component({'lithology': 'remblais', 'color': 'ocre'})]},\n",
       "  {'top': Position({'middle': 4.0, 'units': 'm'}),\n",
       "   'base': Position({'middle': 6.0, 'units': 'm'}),\n",
       "   'description': 'alluvions',\n",
       "   'data': {},\n",
       "   'components': [Component({'lithology': 'silt', 'color': 'gris'})]}],\n",
       " 'F22': [{'top': Position({'middle': 0.0, 'upper': 0.0, 'lower': 0.0, 'units': 'm'}),\n",
       "   'base': Position({'middle': 1.5, 'units': 'm'}),\n",
       "   'description': 'remblais non-saturés',\n",
       "   'data': {},\n",
       "   'components': [Component({'lithology': 'remblais', 'color': 'brun'})]},\n",
       "  {'top': Position({'middle': 1.5, 'units': 'm'}),\n",
       "   'base': Position({'middle': 4.0, 'units': 'm'}),\n",
       "   'description': 'remblais saturés',\n",
       "   'data': {},\n",
       "   'components': [Component({'lithology': 'remblais', 'color': 'ocre'})]},\n",
       "  {'top': Position({'middle': 4.0, 'units': 'm'}),\n",
       "   'base': Position({'middle': 6.0, 'units': 'm'}),\n",
       "   'description': 'alluvions',\n",
       "   'data': {},\n",
       "   'components': [Component({'lithology': 'silt', 'color': 'gris'})]}],\n",
       " 'F23': [{'top': Position({'middle': 0.0, 'upper': 0.0, 'lower': 0.0, 'units': 'm'}),\n",
       "   'base': Position({'middle': 1.5, 'units': 'm'}),\n",
       "   'description': 'remblais non-saturés',\n",
       "   'data': {},\n",
       "   'components': [Component({'lithology': 'remblais', 'color': 'brun'})]},\n",
       "  {'top': Position({'middle': 1.5, 'units': 'm'}),\n",
       "   'base': Position({'middle': 4.0, 'units': 'm'}),\n",
       "   'description': 'remblais saturés',\n",
       "   'data': {},\n",
       "   'components': [Component({'lithology': 'remblais', 'color': 'ocre'})]},\n",
       "  {'top': Position({'middle': 4.0, 'units': 'm'}),\n",
       "   'base': Position({'middle': 6.0, 'units': 'm'}),\n",
       "   'description': 'alluvions',\n",
       "   'data': {},\n",
       "   'components': [Component({'lithology': 'silt', 'color': 'gris'})]}],\n",
       " 'F24': [{'top': Position({'middle': 0.0, 'upper': 0.0, 'lower': 0.0, 'units': 'm'}),\n",
       "   'base': Position({'middle': 1.5, 'units': 'm'}),\n",
       "   'description': 'remblais non-saturés',\n",
       "   'data': {},\n",
       "   'components': [Component({'lithology': 'remblais', 'color': 'brun'})]},\n",
       "  {'top': Position({'middle': 1.5, 'units': 'm'}),\n",
       "   'base': Position({'middle': 4.0, 'units': 'm'}),\n",
       "   'description': 'remblais saturés',\n",
       "   'data': {},\n",
       "   'components': [Component({'lithology': 'remblais', 'color': 'ocre'})]},\n",
       "  {'top': Position({'middle': 4.0, 'units': 'm'}),\n",
       "   'base': Position({'middle': 6.0, 'units': 'm'}),\n",
       "   'description': 'alluvions',\n",
       "   'data': {},\n",
       "   'components': [Component({'lithology': 'silt', 'color': 'gris'})]}],\n",
       " 'F25': [{'top': Position({'middle': 0.0, 'upper': 0.0, 'lower': 0.0, 'units': 'm'}),\n",
       "   'base': Position({'middle': 1.5, 'units': 'm'}),\n",
       "   'description': 'remblais non-saturés',\n",
       "   'data': {},\n",
       "   'components': [Component({'lithology': 'remblais', 'color': 'brun'})]},\n",
       "  {'top': Position({'middle': 1.5, 'units': 'm'}),\n",
       "   'base': Position({'middle': 4.0, 'units': 'm'}),\n",
       "   'description': 'remblais saturés',\n",
       "   'data': {},\n",
       "   'components': [Component({'lithology': 'remblais', 'color': 'ocre'})]},\n",
       "  {'top': Position({'middle': 4.0, 'units': 'm'}),\n",
       "   'base': Position({'middle': 6.0, 'units': 'm'}),\n",
       "   'description': 'alluvions',\n",
       "   'data': {},\n",
       "   'components': [Component({'lithology': 'silt', 'color': 'gris'})]}]}"
      ]
     },
     "execution_count": 601,
     "metadata": {},
     "output_type": "execute_result"
    }
   ],
   "source": [
    "bhs_striplog # Boreholes data in striplog structure"
   ]
  },
  {
   "cell_type": "code",
   "execution_count": 611,
   "metadata": {},
   "outputs": [],
   "source": [
    "s_to_plot=\"F10\"                  # Nom du bh à plotter avec striplog\n",
    "s_list=bhs_striplog[s_to_plot]  # List d'intervalles du bh: s_to_plot\n",
    "\n",
    "i4 = Interval(top=0, base=10, components=[Component({'lithology': 'none','colour': 'ocre'})]) #selon my_legend\n",
    "i3 = Interval(top=10, base=40, components=[Component({'lithology': 'none','colour': 'vert'})]) #selon my_legend\n",
    "\n",
    "i1 = Interval(top=0, base=20, components=[Component({'lithology': 'limestone'})])\n",
    "i2 = Interval(top=20, base=60, components=[Component({'lithology': 'shale'})])\n",
    "\n",
    "i=[i1,i2]\n",
    "# print(i)\n",
    "s_striplog=Striplog([i1,i2])\n",
    "\n",
    "\n",
    "# s_striplog=Striplog.__init__(None,i, source=None, order='auto') # conversion en object striplog"
   ]
  },
  {
   "cell_type": "code",
   "execution_count": 612,
   "metadata": {},
   "outputs": [
    {
     "name": "stdout",
     "output_type": "stream",
     "text": [
      "{'top': Position({'middle': 0.0, 'upper': 0.0, 'lower': 0.0, 'units': 'm'}), 'base': Position({'middle': 20.0, 'units': 'm'}), 'description': '', 'data': {}, 'components': [Component({'lithology': 'limestone'})]}\n"
     ]
    }
   ],
   "source": [
    "print(i1)"
   ]
  },
  {
   "cell_type": "code",
   "execution_count": 613,
   "metadata": {},
   "outputs": [
    {
     "name": "stdout",
     "output_type": "stream",
     "text": [
      "{'top': Position({'middle': 0.0, 'upper': 0.0, 'lower': 0.0, 'units': 'm'}), 'base': Position({'middle': 1.5, 'units': 'm'}), 'description': 'remblais non-saturés', 'data': {}, 'components': [Component({'lithology': 'remblais', 'color': 'brun'})]}\n"
     ]
    }
   ],
   "source": [
    "print(s_list[0])"
   ]
  },
  {
   "cell_type": "code",
   "execution_count": 614,
   "metadata": {},
   "outputs": [
    {
     "data": {
      "image/png": "[encoded data removed]",
      "text/plain": [
       "<Figure size 108x216 with 1 Axes>"
      ]
     },
     "metadata": {
      "needs_background": "light"
     },
     "output_type": "display_data"
    }
   ],
   "source": [
    "#s_striplog.plot(my_legend, ladder=True, aspect=2) # aspect : échelle de graphe\n",
    "s_striplog.plot(legend, ladder=True, aspect=2)"
   ]
  },
  {
   "cell_type": "code",
   "execution_count": 610,
   "metadata": {},
   "outputs": [],
   "source": [
    "bh_test = 'F10'\n",
    "bh_strip = []  # striplog object \n",
    "intervals = dfs['Intervals'].query('borehole==\"{borehole:s}\"'.format(borehole=bh_test))[['top','base', 'description']]\n",
    "for row in intervals.iterrows():\n",
    "    components = dfs['Components'].query('borehole==\"{borehole:s}\" and top=={top:f} and base=={base:f}'.format(borehole=bh_test, top=row[1]['top'], base=row[1]['base']))\n",
    "    components_dict={}\n",
    "    for r in components.iterrows():\n",
    "        components_dict.update({r[1]['key']:r[1]['value']})\n",
    "    bh_strip.append({'top': Position(middle=row[1]['top'], units='m'), \n",
    "          'base': Position(middle=row[1]['base'], units='m'),\n",
    "          'description': row[1]['description'], 'components': [Component(components_dict)]})"
   ]
  },
  {
   "cell_type": "code",
   "execution_count": null,
   "metadata": {},
   "outputs": [],
   "source": []
  },
  {
   "cell_type": "code",
   "execution_count": 232,
   "metadata": {},
   "outputs": [
    {
     "ename": "TypeError",
     "evalue": "float() argument must be a string or a number, not 'dict'",
     "output_type": "error",
     "traceback": [
      "\u001b[0;31m---------------------------------------------------------------------------\u001b[0m",
      "\u001b[0;31mTypeError\u001b[0m                                 Traceback (most recent call last)",
      "\u001b[0;32m<ipython-input-232-cfd1be3e3289>\u001b[0m in \u001b[0;36m<module>\u001b[0;34m\u001b[0m\n\u001b[1;32m      9\u001b[0m         bh1_strip[r]=Interval({'top': Position(middle=row[1]['top'], units='m'), \n\u001b[1;32m     10\u001b[0m                             \u001b[0;34m'base'\u001b[0m\u001b[0;34m:\u001b[0m \u001b[0mPosition\u001b[0m\u001b[0;34m(\u001b[0m\u001b[0mmiddle\u001b[0m\u001b[0;34m=\u001b[0m\u001b[0mrow\u001b[0m\u001b[0;34m[\u001b[0m\u001b[0;36m1\u001b[0m\u001b[0;34m]\u001b[0m\u001b[0;34m[\u001b[0m\u001b[0;34m'base'\u001b[0m\u001b[0;34m]\u001b[0m\u001b[0;34m,\u001b[0m \u001b[0munits\u001b[0m\u001b[0;34m=\u001b[0m\u001b[0;34m'm'\u001b[0m\u001b[0;34m)\u001b[0m\u001b[0;34m,\u001b[0m\u001b[0;34m\u001b[0m\u001b[0;34m\u001b[0m\u001b[0m\n\u001b[0;32m---> 11\u001b[0;31m                             'description': row[1]['description'], 'components': [Component(components_dict)]})\n\u001b[0m\u001b[1;32m     12\u001b[0m \u001b[0;34m\u001b[0m\u001b[0m\n\u001b[1;32m     13\u001b[0m \u001b[0;31m#     bh1_strip.append({'top': Position(middle=row[1]['top'], units='m'),\u001b[0m\u001b[0;34m\u001b[0m\u001b[0;34m\u001b[0m\u001b[0;34m\u001b[0m\u001b[0m\n",
      "\u001b[0;32m~/GSDMA2019/striplog/interval.py\u001b[0m in \u001b[0;36m__init__\u001b[0;34m(self, top, base, description, lexicon, data, components, max_component, abbreviations)\u001b[0m\n\u001b[1;32m     66\u001b[0m \u001b[0;34m\u001b[0m\u001b[0m\n\u001b[1;32m     67\u001b[0m         \u001b[0;32mif\u001b[0m \u001b[0;32mnot\u001b[0m \u001b[0misinstance\u001b[0m\u001b[0;34m(\u001b[0m\u001b[0mtop\u001b[0m\u001b[0;34m,\u001b[0m \u001b[0mPosition\u001b[0m\u001b[0;34m)\u001b[0m\u001b[0;34m:\u001b[0m\u001b[0;34m\u001b[0m\u001b[0;34m\u001b[0m\u001b[0m\n\u001b[0;32m---> 68\u001b[0;31m             \u001b[0mtop\u001b[0m \u001b[0;34m=\u001b[0m \u001b[0mPosition\u001b[0m\u001b[0;34m(\u001b[0m\u001b[0mmiddle\u001b[0m\u001b[0;34m=\u001b[0m\u001b[0mtop\u001b[0m\u001b[0;34m)\u001b[0m\u001b[0;34m\u001b[0m\u001b[0;34m\u001b[0m\u001b[0m\n\u001b[0m\u001b[1;32m     69\u001b[0m \u001b[0;34m\u001b[0m\u001b[0m\n\u001b[1;32m     70\u001b[0m         \u001b[0;32mif\u001b[0m \u001b[0mbase\u001b[0m \u001b[0;32mis\u001b[0m \u001b[0;32mnot\u001b[0m \u001b[0;32mNone\u001b[0m\u001b[0;34m:\u001b[0m\u001b[0;34m\u001b[0m\u001b[0;34m\u001b[0m\u001b[0m\n",
      "\u001b[0;32m~/GSDMA2019/striplog/position.py\u001b[0m in \u001b[0;36m__init__\u001b[0;34m(self, middle, upper, lower, x, y, units, meta)\u001b[0m\n\u001b[1;32m     47\u001b[0m                 \u001b[0;32mraise\u001b[0m \u001b[0mPositionError\u001b[0m\u001b[0;34m(\u001b[0m\u001b[0mm\u001b[0m\u001b[0;34m)\u001b[0m\u001b[0;34m\u001b[0m\u001b[0;34m\u001b[0m\u001b[0m\n\u001b[1;32m     48\u001b[0m         \u001b[0;32melse\u001b[0m\u001b[0;34m:\u001b[0m\u001b[0;34m\u001b[0m\u001b[0;34m\u001b[0m\u001b[0m\n\u001b[0;32m---> 49\u001b[0;31m             \u001b[0mself\u001b[0m\u001b[0;34m.\u001b[0m\u001b[0mmiddle\u001b[0m \u001b[0;34m=\u001b[0m \u001b[0mfloat\u001b[0m\u001b[0;34m(\u001b[0m\u001b[0mmiddle\u001b[0m\u001b[0;34m)\u001b[0m\u001b[0;34m\u001b[0m\u001b[0;34m\u001b[0m\u001b[0m\n\u001b[0m\u001b[1;32m     50\u001b[0m \u001b[0;34m\u001b[0m\u001b[0m\n\u001b[1;32m     51\u001b[0m         \u001b[0;32mif\u001b[0m \u001b[0mupper\u001b[0m \u001b[0;32mis\u001b[0m \u001b[0;32mnot\u001b[0m \u001b[0;32mNone\u001b[0m\u001b[0;34m:\u001b[0m\u001b[0;34m\u001b[0m\u001b[0;34m\u001b[0m\u001b[0m\n",
      "\u001b[0;31mTypeError\u001b[0m: float() argument must be a string or a number, not 'dict'"
     ]
    }
   ],
   "source": [
    "#Version modifiée\n",
    "bh_test = 'F10'\n",
    "#bh1_strip = []  # striplog object \n",
    "intervals = dfs['Intervals'].query('borehole==\"{borehole:s}\"'.format(borehole=bh_test))[['top','base', 'description']]\n",
    "for row in intervals.iterrows():\n",
    "    components = dfs['Components'].query('borehole==\"{borehole:s}\" and top=={top:f} and base=={base:f}'.format(borehole=bh_test, top=row[1]['top'], base=row[1]['base']))\n",
    "    components_dict={}\n",
    "    for r in components.iterrows():\n",
    "        components_dict.update({r[1]['key']:r[1]['value']})\n",
    "        bh1_strip[r]=Interval({'top': Position(middle=row[1]['top'], units='m'), \n",
    "                            'base': Position(middle=row[1]['base'], units='m'),\n",
    "                            'description': row[1]['description'], 'components': [Component(components_dict)]})\n",
    "        \n",
    "#     bh1_strip.append({'top': Position(middle=row[1]['top'], units='m'), \n",
    "#           'base': Position(middle=row[1]['base'], units='m'),\n",
    "#           'description': row[1]['description'], 'components': [Component(components_dict)]})"
   ]
  },
  {
   "cell_type": "code",
   "execution_count": 79,
   "metadata": {},
   "outputs": [
    {
     "ename": "TypeError",
     "evalue": "'NoneType' object is not callable",
     "output_type": "error",
     "traceback": [
      "\u001b[0;31m---------------------------------------------------------------------------\u001b[0m",
      "\u001b[0;31mTypeError\u001b[0m                                 Traceback (most recent call last)",
      "\u001b[0;32m<ipython-input-79-42a5921ef7a6>\u001b[0m in \u001b[0;36m<module>\u001b[0;34m\u001b[0m\n\u001b[1;32m      9\u001b[0m     bh_strip.append({'top': Position(middle=row[1]['top'], units='m'), \n\u001b[1;32m     10\u001b[0m           \u001b[0;34m'base'\u001b[0m\u001b[0;34m:\u001b[0m \u001b[0mPosition\u001b[0m\u001b[0;34m(\u001b[0m\u001b[0mmiddle\u001b[0m\u001b[0;34m=\u001b[0m\u001b[0mrow\u001b[0m\u001b[0;34m[\u001b[0m\u001b[0;36m1\u001b[0m\u001b[0;34m]\u001b[0m\u001b[0;34m[\u001b[0m\u001b[0;34m'base'\u001b[0m\u001b[0;34m]\u001b[0m\u001b[0;34m,\u001b[0m \u001b[0munits\u001b[0m\u001b[0;34m=\u001b[0m\u001b[0;34m'm'\u001b[0m\u001b[0;34m)\u001b[0m\u001b[0;34m,\u001b[0m\u001b[0;34m\u001b[0m\u001b[0;34m\u001b[0m\u001b[0m\n\u001b[0;32m---> 11\u001b[0;31m           'description': row[1]['description'], 'components': [Component(components_dict)]})\n\u001b[0m",
      "\u001b[0;31mTypeError\u001b[0m: 'NoneType' object is not callable"
     ]
    }
   ],
   "source": [
    "bh_test = 'F10'\n",
    "bh_strip = []  # striplog object \n",
    "Interval[bh_test] = dfs['Intervals'].query('borehole==\"{borehole:s}\"'.format(borehole=bh_test))[['top','base', 'description']]\n",
    "for row in intervals.iterrows():\n",
    "    components = dfs['Components'].query('borehole==\"{borehole:s}\" and top=={top:f} and base=={base:f}'.format(borehole=bh_test, top=row[1]['top'], base=row[1]['base']))\n",
    "    components_dict={}\n",
    "    for r in components.iterrows():\n",
    "        Component=components_dict.update({r[1]['key']:r[1]['value']})\n",
    "    bh_strip.append({'top': Position(middle=row[1]['top'], units='m'), \n",
    "          'base': Position(middle=row[1]['base'], units='m'),\n",
    "          'description': row[1]['description'], 'components': [Component(components_dict)]})"
   ]
  },
  {
   "cell_type": "code",
   "execution_count": null,
   "metadata": {},
   "outputs": [],
   "source": [
    "type(bhs_striplog)"
   ]
  },
  {
   "cell_type": "code",
   "execution_count": null,
   "metadata": {},
   "outputs": [],
   "source": [
    "bhs_striplog[\"F10\"][\"Intervals\"]"
   ]
  },
  {
   "cell_type": "code",
   "execution_count": null,
   "metadata": {},
   "outputs": [],
   "source": [
    "#cd GSDMA2019/playground/Striplog_read_database"
   ]
  },
  {
   "cell_type": "code",
   "execution_count": null,
   "metadata": {},
   "outputs": [],
   "source": [
    "imgfile=\"M-MG-70_14-3_135.9.png\""
   ]
  },
  {
   "cell_type": "code",
   "execution_count": null,
   "metadata": {},
   "outputs": [],
   "source": [
    "#imgfile=\"M-MG-70_14-3_135.9.png\"\n",
    "#strip = Striplog.from_img(imgfile, 14.3, 135.9, legend=Legend)"
   ]
  },
  {
   "cell_type": "code",
   "execution_count": null,
   "metadata": {},
   "outputs": [],
   "source": [
    "#striplog = Striplog.from_img(imgfile, 14.3, 135.9, legend=legend)\n"
   ]
  },
  {
   "cell_type": "code",
   "execution_count": null,
   "metadata": {},
   "outputs": [],
   "source": [
    "s=Striplog.setdefault?"
   ]
  },
  {
   "cell_type": "code",
   "execution_count": null,
   "metadata": {},
   "outputs": [],
   "source": [
    "s=Striplog.setdefault"
   ]
  },
  {
   "cell_type": "code",
   "execution_count": null,
   "metadata": {},
   "outputs": [],
   "source": [
    "Striplog"
   ]
  },
  {
   "cell_type": "markdown",
   "metadata": {},
   "source": [
    "## Add lexicon"
   ]
  },
  {
   "cell_type": "code",
   "execution_count": null,
   "metadata": {},
   "outputs": [],
   "source": [
    "dfs['lexicon']"
   ]
  },
  {
   "cell_type": "code",
   "execution_count": null,
   "metadata": {},
   "outputs": [],
   "source": [
    "bh_strip.append(dfs['lexicon']) # Command to add smthg "
   ]
  },
  {
   "cell_type": "markdown",
   "metadata": {},
   "source": [
    "#### Structure of 1 interval of the striplog\n",
    "{'top': Position({'middle': 51.24117647058824, 'units': 'm'}), 'base': Position({'middle': 54.81764705882354, 'units': 'm'}), 'description': '', 'data': {}, 'components': [Component({'lithology': 'sandstone', 'colour': 'grey', 'grainsize': 'vf-f'})]}\n"
   ]
  },
  {
   "cell_type": "code",
   "execution_count": null,
   "metadata": {},
   "outputs": [],
   "source": [
    "bh_strip\n"
   ]
  },
  {
   "cell_type": "markdown",
   "metadata": {},
   "source": [
    "# Trials"
   ]
  },
  {
   "cell_type": "code",
   "execution_count": null,
   "metadata": {},
   "outputs": [],
   "source": [
    "def from_sqlite_Row_to_dict(list_with_rows):\n",
    "    ''' Turn a list with sqlite3.Row objects into a dictionary'''\n",
    "    d ={} # the dictionary to be filled with the row data and to be returned\n",
    "\n",
    "    for i, row in enumerate(list_with_rows): # iterate throw the sqlite3.Row objects            \n",
    "        l = [] # for each Row use a separate list\n",
    "        for col in range(0, len(row)): # copy over the row date (ie. column data) to a list\n",
    "            l.append(row[col])\n",
    "        d[i] = l # add the list to the dictionary   \n",
    "    return d"
   ]
  },
  {
   "cell_type": "code",
   "execution_count": null,
   "metadata": {},
   "outputs": [],
   "source": [
    "dic=from_sqlite_Row_to_dict(comp)\n"
   ]
  },
  {
   "cell_type": "code",
   "execution_count": null,
   "metadata": {},
   "outputs": [],
   "source": [
    "d['F10', ] \n"
   ]
  },
  {
   "cell_type": "code",
   "execution_count": null,
   "metadata": {},
   "outputs": [],
   "source": [
    "conn = create_connection(database)\n",
    "with conn:    \n",
    "        \n",
    "    print(\"---BOREHOLES data--- \")\n",
    "    table_bh=\"SELECT * FROM Boreholes\" # to select the data of the table Boreholes\n",
    "    bh=select_datat_of_db(conn,table_bh)\n",
    "    \n",
    "    print(\"---COMPONENTS data--- \")\n",
    "    table_comp=\"SELECT * FROM Component\" # to select the data of the table component\n",
    "    comp=select_datat_of_db(conn,table_comp)\n",
    "    \n",
    "    print(\"---INTERVAL data--- \")\n",
    "    table_int=\"SELECT * FROM Intervals\" # to select the data of the table Intervals\n",
    "    intvl=select_datat_of_db(conn,table_int)\n",
    "    \n",
    "    print(\"---LEXICON--- \")\n",
    "    table_lex=\"SELECT * FROM lexicon\" # to select the data of the table Intervals\n",
    "    lex=select_datat_of_db(conn,table_lex)\n",
    "    \n",
    "    \n",
    " "
   ]
  },
  {
   "cell_type": "raw",
   "metadata": {},
   "source": [
    "df=components.loc[4:6,['Key', 'Value']]\n",
    "df"
   ]
  },
  {
   "cell_type": "raw",
   "metadata": {},
   "source": [
    "components_dict={}\n",
    "for r in df.iterrows():\n",
    "    components_dict.update({r[1]['Key']:r[1]['Value']})"
   ]
  },
  {
   "cell_type": "raw",
   "metadata": {},
   "source": [
    "# My method to create the striplog\n",
    "strip={{'top': Position(middle=intvl[0][1], units='m'), \n",
    "       'base': Position(middle=intvl[0][2], units='m'),\n",
    "       'description': '', 'data': {intvl[0][3]},\n",
    "       'components': [Component({'lithology': litho, 'colour': col, 'grainsize': '/'})]}}"
   ]
  },
  {
   "cell_type": "raw",
   "metadata": {},
   "source": [
    "strip = [{'top': Position(middle=intvl[0][1], units='m'), \n",
    "          'base': Position(middle=intvl[0][2], units='m'),\n",
    "          'description': '', 'data': {intvl[0][3]}, 'components': [Component({'lithology':'sand', 'color': 'red'})]}]\n",
    "strip_F25 = [{'top': Position(middle=intvl[0][1], units='m'), \n",
    "          'base': Position(middle=intvl[0][2], units='m'),\n",
    "          'description': '', 'data': {intvl[0][3]}, 'components': [Component({'lithology':'sand', 'color': 'red'})]}]\n",
    "          \n",
    "if comp[0][0]==intvl[0][0]:\n",
    "    if comp[0][1]==intvl[0][1]:\n",
    "        if comp[0][2]==intvl[0][2]:\n",
    "            if comp[0][3]=='lithology':\n",
    "                litho=comp[0][4]\n",
    "            if comp[1][3]=='colour':\n",
    "                col=comp[1][4]\n",
    "                "
   ]
  },
  {
   "cell_type": "code",
   "execution_count": null,
   "metadata": {},
   "outputs": [],
   "source": [
    "conn = create_connection(database)\n",
    "with conn:    \n",
    "        \n",
    "    print(\"---BOREHOLES data--- \")\n",
    "    table_bh=\"SELECT * FROM Boreholes\" # to select the data of the table Boreholes\n",
    "    bh=select_datat_of_db(conn,table_bh)\n",
    "    \n",
    "    print(\"---COMPONENTS data--- \")\n",
    "    table_comp=\"SELECT * FROM Component\" # to select the data of the table component\n",
    "    comp=select_datat_of_db(conn,table_comp)\n",
    "    \n",
    "    print(\"---INTERVAL data--- \")\n",
    "    table_int=\"SELECT * FROM Intervals\" # to select the data of the table Intervals\n",
    "    intvl=select_datat_of_db(conn,table_int)\n",
    "    \n",
    "    print(\"---LEXICON--- \")\n",
    "    table_lex=\"SELECT * FROM lexicon\" # to select the data of the table Intervals\n",
    "    lex=select_datat_of_db(conn,table_lex)\n",
    " \n",
    " "
   ]
  },
  {
   "cell_type": "code",
   "execution_count": null,
   "metadata": {},
   "outputs": [],
   "source": [
    "bh # is a list, cause it has brackets\n",
    "bh[0]\n",
    "lex\n",
    "type(intvl)\n",
    "intvl[0][0]\n",
    "bh[1][0]\n",
    "comp[1][4]\n",
    "lexicon=lex"
   ]
  }
 ],
 "metadata": {
  "kernelspec": {
   "display_name": "Python 3",
   "language": "python",
   "name": "python3"
  },
  "language_info": {
   "codemirror_mode": {
    "name": "ipython",
    "version": 3
   },
   "file_extension": ".py",
   "mimetype": "text/x-python",
   "name": "python",
   "nbconvert_exporter": "python",
   "pygments_lexer": "ipython3",
   "version": "3.6.8"
  }
 },
 "nbformat": 4,
 "nbformat_minor": 2
}

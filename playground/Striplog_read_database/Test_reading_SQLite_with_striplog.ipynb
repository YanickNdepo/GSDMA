{
 "cells": [
  {
   "cell_type": "markdown",
   "metadata": {},
   "source": [
    "# Data reading of the database\n",
    "A.Iragena supervised by Mr Kaufmann"
   ]
  },
  {
   "cell_type": "code",
   "execution_count": 199,
   "metadata": {},
   "outputs": [],
   "source": [
    "%matplotlib inline\n",
    "import matplotlib.pyplot as plt\n",
    "import numpy as np\n",
    "\n",
    "import sqlite3 \n",
    "from sqlite3 import Error\n"
   ]
  },
  {
   "cell_type": "markdown",
   "metadata": {},
   "source": [
    "### Import of the striplog object \n",
    "It's important to check in the striplog folder where are the different objects in order to import them correctly.\n",
    "The following command can be used to check if the python goes in the right folder : echo $PYTHONPATH"
   ]
  },
  {
   "cell_type": "code",
   "execution_count": 200,
   "metadata": {},
   "outputs": [],
   "source": [
    "from striplog.striplog import Striplog, Legend, Interval, Component\n",
    "from striplog.position import Position\n",
    "from striplog.lexicon import Lexicon"
   ]
  },
  {
   "cell_type": "code",
   "execution_count": 201,
   "metadata": {},
   "outputs": [],
   "source": [
    "def create_connection(db_file):\n",
    "    \"\"\" create a database connection to the SQLite database\n",
    "        specified by the db_file\n",
    "    :param db_file: database file\n",
    "    :return: Connection object or None\n",
    "    \"\"\"\n",
    "    conn = None\n",
    "    try:\n",
    "        conn = sqlite3.connect(db_file)\n",
    "    except Error as e:\n",
    "        print(e)\n",
    " \n",
    "    return conn\n",
    " "
   ]
  },
  {
   "cell_type": "code",
   "execution_count": 202,
   "metadata": {},
   "outputs": [],
   "source": [
    "def select_datat_of_db(conn,table):\n",
    "    \"\"\"\n",
    "    Query all rows in the tasks table\n",
    "    :param conn: the Connection object\n",
    "    :return:\n",
    "    \"\"\"\n",
    "    cur = conn.cursor()\n",
    "    cur.execute(table)\n",
    " \n",
    "    rows = cur.fetchall()\n",
    "    #result = [dict(row) for row in cur.fetchall()]\n",
    "    for row in rows:\n",
    "        print(row)\n",
    "    return(rows)\n",
    "    #return(result)"
   ]
  },
  {
   "cell_type": "code",
   "execution_count": 203,
   "metadata": {},
   "outputs": [],
   "source": [
    "database = r\"project_database.db\""
   ]
  },
  {
   "cell_type": "markdown",
   "metadata": {},
   "source": [
    "### Create a database connection & import the data from the database"
   ]
  },
  {
   "cell_type": "code",
   "execution_count": 204,
   "metadata": {},
   "outputs": [],
   "source": [
    "import pandas as pd"
   ]
  },
  {
   "cell_type": "markdown",
   "metadata": {},
   "source": [
    "The code below read the database and put the data in the dataframe dfs"
   ]
  },
  {
   "cell_type": "code",
   "execution_count": 205,
   "metadata": {},
   "outputs": [
    {
     "name": "stdout",
     "output_type": "stream",
     "text": [
      "---Boreholes data--- \n",
      "---Components data--- \n",
      "---Intervals data--- \n",
      "---Lexicon data--- \n"
     ]
    }
   ],
   "source": [
    "conn = create_connection(database)\n",
    "tables = ['Boreholes', 'Components', 'Intervals', 'Lexicon'] # table names in the database\n",
    "dfs = {}\n",
    "with conn:    \n",
    "    for i in tables:    \n",
    "        print(\"---{table:s} data--- \".format(table=i))\n",
    "        sql_cmd = \"SELECT * FROM {table:s}\".format(table=i) # to select the data of the table Boreholes\n",
    "        dfs.update({i:  pd.read_sql(sql_cmd, conn)})"
   ]
  },
  {
   "cell_type": "markdown",
   "metadata": {},
   "source": [
    "### Defining of legend"
   ]
  },
  {
   "cell_type": "code",
   "execution_count": 206,
   "metadata": {},
   "outputs": [],
   "source": [
    "new_legend=\"legend_GSDMA.csv\"  # A specific legend has been created which in islegend_GSDMA.csv\n",
    "my_legend = Legend.from_csv(filename=new_legend)\n",
    "legend = Legend.builtin('NSDOE')\n",
    "lexicon = Lexicon.default()\n",
    "\n",
    "#legend = Legend.builtin('GSDMA') \n",
    "#print(my_legend)"
   ]
  },
  {
   "cell_type": "markdown",
   "metadata": {},
   "source": [
    "### Creation of the striplog object for 1 borehole with the fonction \"build_strip_from_list\""
   ]
  },
  {
   "cell_type": "code",
   "execution_count": 207,
   "metadata": {},
   "outputs": [],
   "source": [
    "def build_strip_from_list(bh_test):\n",
    "    bh1_strip = []  # striplog object \n",
    "    intervals = dfs['Intervals'].query('borehole==\"{borehole:s}\"'.format(borehole=bh_test))[['top','base', 'description']]\n",
    "    for row in intervals.iterrows():\n",
    "        components = dfs['Components'].query('borehole==\"{borehole:s}\" and top=={top:f} and base=={base:f}'.format(borehole=bh_test, top=row[1]['top'], base=row[1]['base']))\n",
    "        components_dict={}\n",
    "        for r in components.iterrows():\n",
    "            components_dict.update({r[1]['key']:r[1]['value']})\n",
    "        bh1_strip.append(Interval(**{'top': Position(middle=row[1]['top'], units='m'), \n",
    "                                'base': Position(middle=row[1]['base'], units='m'),\n",
    "                                'description': row[1]['description'], 'components': [Component(properties=components_dict)]}))\n",
    "    return(bh1_strip)"
   ]
  },
  {
   "cell_type": "markdown",
   "metadata": {},
   "source": [
    "The following cell shows the display of the boreholes F10 and F11"
   ]
  },
  {
   "cell_type": "code",
   "execution_count": 212,
   "metadata": {},
   "outputs": [
    {
     "data": {
      "image/png": "[encoded data removed]",
      "text/plain": [
       "<Figure size 108x216 with 1 Axes>"
      ]
     },
     "metadata": {
      "needs_background": "light"
     },
     "output_type": "display_data"
    },
    {
     "data": {
      "image/png": "[encoded data removed]",
      "text/plain": [
       "<Figure size 108x216 with 1 Axes>"
      ]
     },
     "metadata": {
      "needs_background": "light"
     },
     "output_type": "display_data"
    },
    {
     "data": {
      "image/png": "[encoded data removed]",
      "text/plain": [
       "<Figure size 432x288 with 15 Axes>"
      ]
     },
     "metadata": {
      "needs_background": "light"
     },
     "output_type": "display_data"
    }
   ],
   "source": [
    "bh_test = 'F10'\n",
    "strp1=Striplog(build_strip_from_list(bh_test))\n",
    "strp1.plot(my_legend, ladder=True, aspect=2)\n",
    "\n",
    "bh_test = 'F11'\n",
    "strp1=Striplog(build_strip_from_list(bh_test))\n",
    "strp1.plot(my_legend, ladder=True, aspect=2)\n",
    "\n",
    "my_legend.plot() # pour afficher la légende"
   ]
  },
  {
   "cell_type": "code",
   "execution_count": 213,
   "metadata": {},
   "outputs": [
    {
     "data": {
      "image/png": "[encoded data removed]",
      "text/plain": [
       "<Figure size 108x216 with 1 Axes>"
      ]
     },
     "metadata": {
      "needs_background": "light"
     },
     "output_type": "display_data"
    },
    {
     "data": {
      "image/png": "[encoded data removed]",
      "text/plain": [
       "<Figure size 432x288 with 15 Axes>"
      ]
     },
     "metadata": {
      "needs_background": "light"
     },
     "output_type": "display_data"
    }
   ],
   "source": [
    "bh_test = 'F15'\n",
    "strp=Striplog(build_strip_from_list(bh_test))\n",
    "strp.plot(my_legend, ladder=True, aspect=2)\n",
    "my_legend.plot() # pour afficher la légende"
   ]
  },
  {
   "cell_type": "code",
   "execution_count": 210,
   "metadata": {},
   "outputs": [
    {
     "name": "stdout",
     "output_type": "stream",
     "text": [
      "{'top': Position({'middle': 0.0, 'upper': 0.0, 'lower': 0.0, 'units': 'm'}), 'base': Position({'middle': 1.5, 'units': 'm'}), 'description': 'remblais non-saturés', 'data': {}, 'components': [Component({'lithology': 'silt', 'colour': 'gris'})]}\n",
      "{'top': Position({'middle': 1.5, 'units': 'm'}), 'base': Position({'middle': 4.0, 'units': 'm'}), 'description': 'remblais saturés', 'data': {}, 'components': [Component({'lithology': 'remblais', 'colour': 'ocre'})]}\n",
      "{'top': Position({'middle': 4.0, 'units': 'm'}), 'base': Position({'middle': 6.0, 'units': 'm'}), 'description': 'alluvions', 'data': {}, 'components': [Component({'lithology': 'silt', 'colour': 'gris'})]}\n"
     ]
    }
   ],
   "source": [
    "print(strp)"
   ]
  },
  {
   "cell_type": "markdown",
   "metadata": {},
   "source": [
    "### Manipulation of the dataframe "
   ]
  },
  {
   "cell_type": "code",
   "execution_count": 83,
   "metadata": {},
   "outputs": [
    {
     "data": {
      "text/html": [
       "<div>\n",
       "<style scoped>\n",
       "    .dataframe tbody tr th:only-of-type {\n",
       "        vertical-align: middle;\n",
       "    }\n",
       "\n",
       "    .dataframe tbody tr th {\n",
       "        vertical-align: top;\n",
       "    }\n",
       "\n",
       "    .dataframe thead th {\n",
       "        text-align: right;\n",
       "    }\n",
       "</style>\n",
       "<table border=\"1\" class=\"dataframe\">\n",
       "  <thead>\n",
       "    <tr style=\"text-align: right;\">\n",
       "      <th></th>\n",
       "      <th>borehole</th>\n",
       "      <th>top</th>\n",
       "      <th>base</th>\n",
       "      <th>description</th>\n",
       "    </tr>\n",
       "  </thead>\n",
       "  <tbody>\n",
       "    <tr>\n",
       "      <th>0</th>\n",
       "      <td>F10</td>\n",
       "      <td>0.0</td>\n",
       "      <td>1.5</td>\n",
       "      <td>remblais non-saturés</td>\n",
       "    </tr>\n",
       "    <tr>\n",
       "      <th>1</th>\n",
       "      <td>F10</td>\n",
       "      <td>1.5</td>\n",
       "      <td>4.0</td>\n",
       "      <td>remblais saturés</td>\n",
       "    </tr>\n",
       "    <tr>\n",
       "      <th>2</th>\n",
       "      <td>F10</td>\n",
       "      <td>4.0</td>\n",
       "      <td>6.0</td>\n",
       "      <td>alluvions</td>\n",
       "    </tr>\n",
       "    <tr>\n",
       "      <th>3</th>\n",
       "      <td>F11</td>\n",
       "      <td>0.0</td>\n",
       "      <td>1.5</td>\n",
       "      <td>remblais non-saturés</td>\n",
       "    </tr>\n",
       "    <tr>\n",
       "      <th>4</th>\n",
       "      <td>F11</td>\n",
       "      <td>1.5</td>\n",
       "      <td>4.0</td>\n",
       "      <td>remblais saturés</td>\n",
       "    </tr>\n",
       "    <tr>\n",
       "      <th>5</th>\n",
       "      <td>F11</td>\n",
       "      <td>4.0</td>\n",
       "      <td>6.0</td>\n",
       "      <td>alluvions</td>\n",
       "    </tr>\n",
       "    <tr>\n",
       "      <th>6</th>\n",
       "      <td>F12</td>\n",
       "      <td>0.0</td>\n",
       "      <td>1.5</td>\n",
       "      <td>remblais non-saturés</td>\n",
       "    </tr>\n",
       "    <tr>\n",
       "      <th>7</th>\n",
       "      <td>F12</td>\n",
       "      <td>1.5</td>\n",
       "      <td>4.0</td>\n",
       "      <td>remblais saturés</td>\n",
       "    </tr>\n",
       "    <tr>\n",
       "      <th>8</th>\n",
       "      <td>F12</td>\n",
       "      <td>4.0</td>\n",
       "      <td>6.0</td>\n",
       "      <td>alluvions</td>\n",
       "    </tr>\n",
       "    <tr>\n",
       "      <th>9</th>\n",
       "      <td>F13</td>\n",
       "      <td>0.0</td>\n",
       "      <td>1.5</td>\n",
       "      <td>remblais non-saturés</td>\n",
       "    </tr>\n",
       "    <tr>\n",
       "      <th>10</th>\n",
       "      <td>F13</td>\n",
       "      <td>1.5</td>\n",
       "      <td>4.0</td>\n",
       "      <td>remblais saturés</td>\n",
       "    </tr>\n",
       "    <tr>\n",
       "      <th>11</th>\n",
       "      <td>F13</td>\n",
       "      <td>4.0</td>\n",
       "      <td>6.0</td>\n",
       "      <td>alluvions</td>\n",
       "    </tr>\n",
       "    <tr>\n",
       "      <th>12</th>\n",
       "      <td>F14</td>\n",
       "      <td>0.0</td>\n",
       "      <td>1.5</td>\n",
       "      <td>remblais non-saturés</td>\n",
       "    </tr>\n",
       "    <tr>\n",
       "      <th>13</th>\n",
       "      <td>F14</td>\n",
       "      <td>1.5</td>\n",
       "      <td>4.0</td>\n",
       "      <td>remblais saturés</td>\n",
       "    </tr>\n",
       "    <tr>\n",
       "      <th>14</th>\n",
       "      <td>F14</td>\n",
       "      <td>4.0</td>\n",
       "      <td>6.0</td>\n",
       "      <td>alluvions</td>\n",
       "    </tr>\n",
       "    <tr>\n",
       "      <th>15</th>\n",
       "      <td>F15</td>\n",
       "      <td>0.0</td>\n",
       "      <td>1.5</td>\n",
       "      <td>remblais non-saturés</td>\n",
       "    </tr>\n",
       "    <tr>\n",
       "      <th>16</th>\n",
       "      <td>F15</td>\n",
       "      <td>1.5</td>\n",
       "      <td>4.0</td>\n",
       "      <td>remblais saturés</td>\n",
       "    </tr>\n",
       "    <tr>\n",
       "      <th>17</th>\n",
       "      <td>F15</td>\n",
       "      <td>4.0</td>\n",
       "      <td>6.0</td>\n",
       "      <td>alluvions</td>\n",
       "    </tr>\n",
       "    <tr>\n",
       "      <th>18</th>\n",
       "      <td>F16</td>\n",
       "      <td>0.0</td>\n",
       "      <td>1.5</td>\n",
       "      <td>remblais non-saturés</td>\n",
       "    </tr>\n",
       "    <tr>\n",
       "      <th>19</th>\n",
       "      <td>F16</td>\n",
       "      <td>1.5</td>\n",
       "      <td>4.0</td>\n",
       "      <td>remblais saturés</td>\n",
       "    </tr>\n",
       "    <tr>\n",
       "      <th>20</th>\n",
       "      <td>F16</td>\n",
       "      <td>4.0</td>\n",
       "      <td>6.0</td>\n",
       "      <td>alluvions</td>\n",
       "    </tr>\n",
       "    <tr>\n",
       "      <th>21</th>\n",
       "      <td>F20</td>\n",
       "      <td>0.0</td>\n",
       "      <td>1.5</td>\n",
       "      <td>remblais non-saturés</td>\n",
       "    </tr>\n",
       "    <tr>\n",
       "      <th>22</th>\n",
       "      <td>F20</td>\n",
       "      <td>1.5</td>\n",
       "      <td>4.0</td>\n",
       "      <td>remblais saturés</td>\n",
       "    </tr>\n",
       "    <tr>\n",
       "      <th>23</th>\n",
       "      <td>F20</td>\n",
       "      <td>4.0</td>\n",
       "      <td>6.0</td>\n",
       "      <td>alluvions</td>\n",
       "    </tr>\n",
       "    <tr>\n",
       "      <th>24</th>\n",
       "      <td>F21</td>\n",
       "      <td>0.0</td>\n",
       "      <td>1.5</td>\n",
       "      <td>remblais non-saturés</td>\n",
       "    </tr>\n",
       "    <tr>\n",
       "      <th>25</th>\n",
       "      <td>F21</td>\n",
       "      <td>1.5</td>\n",
       "      <td>4.0</td>\n",
       "      <td>remblais saturés</td>\n",
       "    </tr>\n",
       "    <tr>\n",
       "      <th>26</th>\n",
       "      <td>F21</td>\n",
       "      <td>4.0</td>\n",
       "      <td>6.0</td>\n",
       "      <td>alluvions</td>\n",
       "    </tr>\n",
       "    <tr>\n",
       "      <th>27</th>\n",
       "      <td>F22</td>\n",
       "      <td>0.0</td>\n",
       "      <td>1.5</td>\n",
       "      <td>remblais non-saturés</td>\n",
       "    </tr>\n",
       "    <tr>\n",
       "      <th>28</th>\n",
       "      <td>F22</td>\n",
       "      <td>1.5</td>\n",
       "      <td>4.0</td>\n",
       "      <td>remblais saturés</td>\n",
       "    </tr>\n",
       "    <tr>\n",
       "      <th>29</th>\n",
       "      <td>F22</td>\n",
       "      <td>4.0</td>\n",
       "      <td>6.0</td>\n",
       "      <td>alluvions</td>\n",
       "    </tr>\n",
       "    <tr>\n",
       "      <th>30</th>\n",
       "      <td>F23</td>\n",
       "      <td>0.0</td>\n",
       "      <td>1.5</td>\n",
       "      <td>remblais non-saturés</td>\n",
       "    </tr>\n",
       "    <tr>\n",
       "      <th>31</th>\n",
       "      <td>F23</td>\n",
       "      <td>1.5</td>\n",
       "      <td>4.0</td>\n",
       "      <td>remblais saturés</td>\n",
       "    </tr>\n",
       "    <tr>\n",
       "      <th>32</th>\n",
       "      <td>F23</td>\n",
       "      <td>4.0</td>\n",
       "      <td>6.0</td>\n",
       "      <td>alluvions</td>\n",
       "    </tr>\n",
       "    <tr>\n",
       "      <th>33</th>\n",
       "      <td>F24</td>\n",
       "      <td>0.0</td>\n",
       "      <td>1.5</td>\n",
       "      <td>remblais non-saturés</td>\n",
       "    </tr>\n",
       "    <tr>\n",
       "      <th>34</th>\n",
       "      <td>F24</td>\n",
       "      <td>1.5</td>\n",
       "      <td>4.0</td>\n",
       "      <td>remblais saturés</td>\n",
       "    </tr>\n",
       "    <tr>\n",
       "      <th>35</th>\n",
       "      <td>F24</td>\n",
       "      <td>4.0</td>\n",
       "      <td>6.0</td>\n",
       "      <td>alluvions</td>\n",
       "    </tr>\n",
       "    <tr>\n",
       "      <th>36</th>\n",
       "      <td>F25</td>\n",
       "      <td>0.0</td>\n",
       "      <td>1.5</td>\n",
       "      <td>remblais non-saturés</td>\n",
       "    </tr>\n",
       "    <tr>\n",
       "      <th>37</th>\n",
       "      <td>F25</td>\n",
       "      <td>1.5</td>\n",
       "      <td>4.0</td>\n",
       "      <td>remblais saturés</td>\n",
       "    </tr>\n",
       "    <tr>\n",
       "      <th>38</th>\n",
       "      <td>F25</td>\n",
       "      <td>4.0</td>\n",
       "      <td>6.0</td>\n",
       "      <td>alluvions</td>\n",
       "    </tr>\n",
       "  </tbody>\n",
       "</table>\n",
       "</div>"
      ],
      "text/plain": [
       "   borehole  top  base           description\n",
       "0       F10  0.0   1.5  remblais non-saturés\n",
       "1       F10  1.5   4.0      remblais saturés\n",
       "2       F10  4.0   6.0             alluvions\n",
       "3       F11  0.0   1.5  remblais non-saturés\n",
       "4       F11  1.5   4.0      remblais saturés\n",
       "5       F11  4.0   6.0             alluvions\n",
       "6       F12  0.0   1.5  remblais non-saturés\n",
       "7       F12  1.5   4.0      remblais saturés\n",
       "8       F12  4.0   6.0             alluvions\n",
       "9       F13  0.0   1.5  remblais non-saturés\n",
       "10      F13  1.5   4.0      remblais saturés\n",
       "11      F13  4.0   6.0             alluvions\n",
       "12      F14  0.0   1.5  remblais non-saturés\n",
       "13      F14  1.5   4.0      remblais saturés\n",
       "14      F14  4.0   6.0             alluvions\n",
       "15      F15  0.0   1.5  remblais non-saturés\n",
       "16      F15  1.5   4.0      remblais saturés\n",
       "17      F15  4.0   6.0             alluvions\n",
       "18      F16  0.0   1.5  remblais non-saturés\n",
       "19      F16  1.5   4.0      remblais saturés\n",
       "20      F16  4.0   6.0             alluvions\n",
       "21      F20  0.0   1.5  remblais non-saturés\n",
       "22      F20  1.5   4.0      remblais saturés\n",
       "23      F20  4.0   6.0             alluvions\n",
       "24      F21  0.0   1.5  remblais non-saturés\n",
       "25      F21  1.5   4.0      remblais saturés\n",
       "26      F21  4.0   6.0             alluvions\n",
       "27      F22  0.0   1.5  remblais non-saturés\n",
       "28      F22  1.5   4.0      remblais saturés\n",
       "29      F22  4.0   6.0             alluvions\n",
       "30      F23  0.0   1.5  remblais non-saturés\n",
       "31      F23  1.5   4.0      remblais saturés\n",
       "32      F23  4.0   6.0             alluvions\n",
       "33      F24  0.0   1.5  remblais non-saturés\n",
       "34      F24  1.5   4.0      remblais saturés\n",
       "35      F24  4.0   6.0             alluvions\n",
       "36      F25  0.0   1.5  remblais non-saturés\n",
       "37      F25  1.5   4.0      remblais saturés\n",
       "38      F25  4.0   6.0             alluvions"
      ]
     },
     "execution_count": 83,
     "metadata": {},
     "output_type": "execute_result"
    }
   ],
   "source": [
    "#dfs['Intervals'] # just to check if the content of Intervals table is correct"
   ]
  },
  {
   "cell_type": "code",
   "execution_count": 84,
   "metadata": {},
   "outputs": [
    {
     "data": {
      "text/html": [
       "<div>\n",
       "<style scoped>\n",
       "    .dataframe tbody tr th:only-of-type {\n",
       "        vertical-align: middle;\n",
       "    }\n",
       "\n",
       "    .dataframe tbody tr th {\n",
       "        vertical-align: top;\n",
       "    }\n",
       "\n",
       "    .dataframe thead th {\n",
       "        text-align: right;\n",
       "    }\n",
       "</style>\n",
       "<table border=\"1\" class=\"dataframe\">\n",
       "  <thead>\n",
       "    <tr style=\"text-align: right;\">\n",
       "      <th></th>\n",
       "      <th>borehole</th>\n",
       "      <th>top</th>\n",
       "      <th>base</th>\n",
       "      <th>key</th>\n",
       "      <th>value</th>\n",
       "    </tr>\n",
       "  </thead>\n",
       "  <tbody>\n",
       "    <tr>\n",
       "      <th>73</th>\n",
       "      <td>F25</td>\n",
       "      <td>0.0</td>\n",
       "      <td>1.5</td>\n",
       "      <td>colour</td>\n",
       "      <td>brun</td>\n",
       "    </tr>\n",
       "    <tr>\n",
       "      <th>75</th>\n",
       "      <td>F25</td>\n",
       "      <td>1.5</td>\n",
       "      <td>4.0</td>\n",
       "      <td>colour</td>\n",
       "      <td>ocre</td>\n",
       "    </tr>\n",
       "    <tr>\n",
       "      <th>77</th>\n",
       "      <td>F25</td>\n",
       "      <td>4.0</td>\n",
       "      <td>6.0</td>\n",
       "      <td>colour</td>\n",
       "      <td>gris</td>\n",
       "    </tr>\n",
       "  </tbody>\n",
       "</table>\n",
       "</div>"
      ],
      "text/plain": [
       "   borehole  top  base     key value\n",
       "73      F25  0.0   1.5  colour  brun\n",
       "75      F25  1.5   4.0  colour  ocre\n",
       "77      F25  4.0   6.0  colour  gris"
      ]
     },
     "execution_count": 84,
     "metadata": {},
     "output_type": "execute_result"
    }
   ],
   "source": [
    "dfs['Components'].query('borehole==\"F25\" and key==\"colour\"') # To look for the color of the bh F25, in Component table"
   ]
  },
  {
   "cell_type": "code",
   "execution_count": 85,
   "metadata": {},
   "outputs": [
    {
     "data": {
      "text/html": [
       "<div>\n",
       "<style scoped>\n",
       "    .dataframe tbody tr th:only-of-type {\n",
       "        vertical-align: middle;\n",
       "    }\n",
       "\n",
       "    .dataframe tbody tr th {\n",
       "        vertical-align: top;\n",
       "    }\n",
       "\n",
       "    .dataframe thead th {\n",
       "        text-align: right;\n",
       "    }\n",
       "</style>\n",
       "<table border=\"1\" class=\"dataframe\">\n",
       "  <thead>\n",
       "    <tr style=\"text-align: right;\">\n",
       "      <th></th>\n",
       "      <th>borehole</th>\n",
       "      <th>top</th>\n",
       "      <th>base</th>\n",
       "      <th>description</th>\n",
       "    </tr>\n",
       "  </thead>\n",
       "  <tbody>\n",
       "    <tr>\n",
       "      <th>0</th>\n",
       "      <td>F10</td>\n",
       "      <td>0.0</td>\n",
       "      <td>1.5</td>\n",
       "      <td>remblais non-saturés</td>\n",
       "    </tr>\n",
       "    <tr>\n",
       "      <th>1</th>\n",
       "      <td>F10</td>\n",
       "      <td>1.5</td>\n",
       "      <td>4.0</td>\n",
       "      <td>remblais saturés</td>\n",
       "    </tr>\n",
       "    <tr>\n",
       "      <th>2</th>\n",
       "      <td>F10</td>\n",
       "      <td>4.0</td>\n",
       "      <td>6.0</td>\n",
       "      <td>alluvions</td>\n",
       "    </tr>\n",
       "    <tr>\n",
       "      <th>3</th>\n",
       "      <td>F11</td>\n",
       "      <td>0.0</td>\n",
       "      <td>1.5</td>\n",
       "      <td>remblais non-saturés</td>\n",
       "    </tr>\n",
       "    <tr>\n",
       "      <th>4</th>\n",
       "      <td>F11</td>\n",
       "      <td>1.5</td>\n",
       "      <td>4.0</td>\n",
       "      <td>remblais saturés</td>\n",
       "    </tr>\n",
       "  </tbody>\n",
       "</table>\n",
       "</div>"
      ],
      "text/plain": [
       "  borehole  top  base           description\n",
       "0      F10  0.0   1.5  remblais non-saturés\n",
       "1      F10  1.5   4.0      remblais saturés\n",
       "2      F10  4.0   6.0             alluvions\n",
       "3      F11  0.0   1.5  remblais non-saturés\n",
       "4      F11  1.5   4.0      remblais saturés"
      ]
     },
     "execution_count": 85,
     "metadata": {},
     "output_type": "execute_result"
    }
   ],
   "source": [
    "dfs['Intervals'].head()"
   ]
  },
  {
   "cell_type": "code",
   "execution_count": 86,
   "metadata": {},
   "outputs": [
    {
     "data": {
      "text/html": [
       "<div>\n",
       "<style scoped>\n",
       "    .dataframe tbody tr th:only-of-type {\n",
       "        vertical-align: middle;\n",
       "    }\n",
       "\n",
       "    .dataframe tbody tr th {\n",
       "        vertical-align: top;\n",
       "    }\n",
       "\n",
       "    .dataframe thead th {\n",
       "        text-align: right;\n",
       "    }\n",
       "</style>\n",
       "<table border=\"1\" class=\"dataframe\">\n",
       "  <thead>\n",
       "    <tr style=\"text-align: right;\">\n",
       "      <th></th>\n",
       "      <th>borehole</th>\n",
       "      <th>top</th>\n",
       "      <th>base</th>\n",
       "      <th>key</th>\n",
       "      <th>value</th>\n",
       "    </tr>\n",
       "  </thead>\n",
       "  <tbody>\n",
       "    <tr>\n",
       "      <th>0</th>\n",
       "      <td>F10</td>\n",
       "      <td>0.0</td>\n",
       "      <td>1.5</td>\n",
       "      <td>lithology</td>\n",
       "      <td>remblais</td>\n",
       "    </tr>\n",
       "    <tr>\n",
       "      <th>1</th>\n",
       "      <td>F10</td>\n",
       "      <td>0.0</td>\n",
       "      <td>1.5</td>\n",
       "      <td>colour</td>\n",
       "      <td>brun</td>\n",
       "    </tr>\n",
       "    <tr>\n",
       "      <th>2</th>\n",
       "      <td>F10</td>\n",
       "      <td>1.5</td>\n",
       "      <td>4.0</td>\n",
       "      <td>lithology</td>\n",
       "      <td>remblais</td>\n",
       "    </tr>\n",
       "    <tr>\n",
       "      <th>3</th>\n",
       "      <td>F10</td>\n",
       "      <td>1.5</td>\n",
       "      <td>4.0</td>\n",
       "      <td>colour</td>\n",
       "      <td>ocre</td>\n",
       "    </tr>\n",
       "    <tr>\n",
       "      <th>4</th>\n",
       "      <td>F10</td>\n",
       "      <td>4.0</td>\n",
       "      <td>6.0</td>\n",
       "      <td>lithology</td>\n",
       "      <td>silt</td>\n",
       "    </tr>\n",
       "  </tbody>\n",
       "</table>\n",
       "</div>"
      ],
      "text/plain": [
       "  borehole  top  base        key     value\n",
       "0      F10  0.0   1.5  lithology  remblais\n",
       "1      F10  0.0   1.5     colour      brun\n",
       "2      F10  1.5   4.0  lithology  remblais\n",
       "3      F10  1.5   4.0     colour      ocre\n",
       "4      F10  4.0   6.0  lithology      silt"
      ]
     },
     "execution_count": 86,
     "metadata": {},
     "output_type": "execute_result"
    }
   ],
   "source": [
    "dfs['Components'].head()"
   ]
  },
  {
   "cell_type": "code",
   "execution_count": 87,
   "metadata": {},
   "outputs": [
    {
     "data": {
      "text/html": [
       "<div>\n",
       "<style scoped>\n",
       "    .dataframe tbody tr th:only-of-type {\n",
       "        vertical-align: middle;\n",
       "    }\n",
       "\n",
       "    .dataframe tbody tr th {\n",
       "        vertical-align: top;\n",
       "    }\n",
       "\n",
       "    .dataframe thead th {\n",
       "        text-align: right;\n",
       "    }\n",
       "</style>\n",
       "<table border=\"1\" class=\"dataframe\">\n",
       "  <thead>\n",
       "    <tr style=\"text-align: right;\">\n",
       "      <th></th>\n",
       "      <th>borehole</th>\n",
       "      <th>top</th>\n",
       "      <th>base</th>\n",
       "      <th>description</th>\n",
       "    </tr>\n",
       "  </thead>\n",
       "  <tbody>\n",
       "    <tr>\n",
       "      <th>0</th>\n",
       "      <td>F10</td>\n",
       "      <td>0.0</td>\n",
       "      <td>1.5</td>\n",
       "      <td>remblais non-saturés</td>\n",
       "    </tr>\n",
       "    <tr>\n",
       "      <th>1</th>\n",
       "      <td>F10</td>\n",
       "      <td>1.5</td>\n",
       "      <td>4.0</td>\n",
       "      <td>remblais saturés</td>\n",
       "    </tr>\n",
       "    <tr>\n",
       "      <th>2</th>\n",
       "      <td>F10</td>\n",
       "      <td>4.0</td>\n",
       "      <td>6.0</td>\n",
       "      <td>alluvions</td>\n",
       "    </tr>\n",
       "  </tbody>\n",
       "</table>\n",
       "</div>"
      ],
      "text/plain": [
       "  borehole  top  base           description\n",
       "0      F10  0.0   1.5  remblais non-saturés\n",
       "1      F10  1.5   4.0      remblais saturés\n",
       "2      F10  4.0   6.0             alluvions"
      ]
     },
     "execution_count": 87,
     "metadata": {},
     "output_type": "execute_result"
    }
   ],
   "source": [
    "bh_test = 'F10'\n",
    "dfs['Intervals'].query('borehole==\"{borehole:s}\"'.format(borehole=bh_test)) # show all the intervals of bh_test"
   ]
  },
  {
   "cell_type": "code",
   "execution_count": 88,
   "metadata": {},
   "outputs": [
    {
     "data": {
      "text/plain": [
       "0    0.0\n",
       "1    1.5\n",
       "2    4.0\n",
       "Name: top, dtype: float64"
      ]
     },
     "execution_count": 88,
     "metadata": {},
     "output_type": "execute_result"
    }
   ],
   "source": [
    "# bh_test = 'F10'\n",
    "# dfs['Intervals'].query('borehole==\"{borehole:s}\"'.format(borehole=bh_test))['top'] # Only shows the column 'Top' for bh_test"
   ]
  },
  {
   "cell_type": "code",
   "execution_count": 90,
   "metadata": {},
   "outputs": [
    {
     "data": {
      "text/plain": [
       "[{'top': Position({'middle': 0.0, 'upper': 0.0, 'lower': 0.0, 'units': 'm'}),\n",
       "  'base': Position({'middle': 1.5, 'units': 'm'}),\n",
       "  'description': 'remblais non-saturés',\n",
       "  'components': [Component({'lithology': 'remblais', 'colour': 'brun'})]},\n",
       " {'top': Position({'middle': 1.5, 'units': 'm'}),\n",
       "  'base': Position({'middle': 4.0, 'units': 'm'}),\n",
       "  'description': 'remblais saturés',\n",
       "  'components': [Component({'lithology': 'remblais', 'colour': 'ocre'})]},\n",
       " {'top': Position({'middle': 4.0, 'units': 'm'}),\n",
       "  'base': Position({'middle': 6.0, 'units': 'm'}),\n",
       "  'description': 'alluvions',\n",
       "  'components': [Component({'lithology': 'silt', 'colour': 'gris'})]}]"
      ]
     },
     "execution_count": 90,
     "metadata": {},
     "output_type": "execute_result"
    }
   ],
   "source": [
    "bh_strip"
   ]
  },
  {
   "cell_type": "code",
   "execution_count": 91,
   "metadata": {},
   "outputs": [
    {
     "name": "stdout",
     "output_type": "stream",
     "text": [
      "F10\n",
      "F11\n",
      "F12\n",
      "F13\n",
      "F14\n",
      "F15\n",
      "F16\n",
      "F20\n",
      "F21\n",
      "F22\n",
      "F23\n",
      "F24\n",
      "F25\n"
     ]
    }
   ],
   "source": [
    "for bh_row in dfs['Boreholes'].iterrows():\n",
    "    print(bh_row[1][0])"
   ]
  },
  {
   "cell_type": "markdown",
   "metadata": {},
   "source": [
    "### Complete extraction of boreholes from the database (another way)"
   ]
  },
  {
   "cell_type": "code",
   "execution_count": 94,
   "metadata": {
    "scrolled": true
   },
   "outputs": [],
   "source": [
    "# BON !!!\n",
    "bhs_striplog = {}\n",
    "for bh_row in dfs['Boreholes'].iterrows(): # For all bh\n",
    "    bh_strip = []\n",
    "    intervals = dfs['Intervals'].query('borehole==\"{borehole:s}\"'.format(borehole=bh_row[1][0]))[['top','base', 'description']] # Look for the interval for the bh\n",
    "    for row in intervals.iterrows():\n",
    "        components = dfs['Components'].query('borehole==\"{borehole:s}\" and top=={top:f} and base=={base:f}'.format(borehole=bh_test, top=row[1]['top'], base=row[1]['base']))\n",
    "        components_dict={}\n",
    "        for r in components.iterrows():\n",
    "            components_dict.update({r[1]['key']:r[1]['value']})\n",
    "        bh_strip.append({'top': Position(middle=row[1]['top'], units='m'), \n",
    "              'base': Position(middle=row[1]['base'], units='m'),\n",
    "              'description': row[1]['description'], 'components': [Component(components_dict)]})\n",
    "    \n",
    "    bhs_striplog.update({bh_row[1][0]: bh_strip})"
   ]
  },
  {
   "cell_type": "code",
   "execution_count": null,
   "metadata": {},
   "outputs": [],
   "source": [
    "bh_test = 'F10'\n",
    "bh_strip = []  # striplog object \n",
    "intervals = dfs['Intervals'].query('borehole==\"{borehole:s}\"'.format(borehole=bh_test))[['top','base', 'description']]\n",
    "for row in intervals.iterrows():\n",
    "    components = dfs['Components'].query('borehole==\"{borehole:s}\" and top=={top:f} and base=={base:f}'.format(borehole=bh_test, top=row[1]['top'], base=row[1]['base']))\n",
    "    components_dict={}\n",
    "    for r in components.iterrows():\n",
    "        components_dict.update({r[1]['key']:r[1]['value']})\n",
    "    bh_strip.append({'top': Position(middle=row[1]['top'], units='m'), \n",
    "          'base': Position(middle=row[1]['base'], units='m'),\n",
    "          'description': row[1]['description'], 'components': [Component(properties=components_dict)]})"
   ]
  },
  {
   "cell_type": "code",
   "execution_count": 100,
   "metadata": {},
   "outputs": [],
   "source": [
    "#Version modifiée   ---------------------------------------------------------\n",
    "bh_test = 'F10'\n",
    "bh1_strip = []  # striplog object \n",
    "intervals = dfs['Intervals'].query('borehole==\"{borehole:s}\"'.format(borehole=bh_test))[['top','base', 'description']]\n",
    "for row in intervals.iterrows():\n",
    "    components = dfs['Components'].query('borehole==\"{borehole:s}\" and top=={top:f} and base=={base:f}'.format(borehole=bh_test, top=row[1]['top'], base=row[1]['base']))\n",
    "    components_dict={}\n",
    "    for r in components.iterrows():\n",
    "        components_dict.update({r[1]['key']:r[1]['value']})\n",
    "    bh1_strip.append(Interval(**{'top': Position(middle=row[1]['top'], units='m'), \n",
    "                            'base': Position(middle=row[1]['base'], units='m'),\n",
    "                            'description': row[1]['description'], 'components': [Component(properties=components_dict)]}))\n",
    "        \n",
    "#     bh1_strip.append({'top': Position(middle=row[1]['top'], units='m'), \n",
    "#           'base': Position(middle=row[1]['base'], units='m'),\n",
    "#           'description': row[1]['description'], 'components': [Component(components_dict)]})"
   ]
  },
  {
   "cell_type": "code",
   "execution_count": 101,
   "metadata": {},
   "outputs": [
    {
     "data": {
      "text/plain": [
       "[Interval({'top': Position({'middle': 0.0, 'upper': 0.0, 'lower': 0.0, 'units': 'm'}), 'base': Position({'middle': 1.5, 'units': 'm'}), 'description': 'remblais non-saturés', 'data': {}, 'components': [Component({'lithology': 'remblais', 'colour': 'brun'})]}),\n",
       " Interval({'top': Position({'middle': 1.5, 'units': 'm'}), 'base': Position({'middle': 4.0, 'units': 'm'}), 'description': 'remblais saturés', 'data': {}, 'components': [Component({'lithology': 'remblais', 'colour': 'ocre'})]}),\n",
       " Interval({'top': Position({'middle': 4.0, 'units': 'm'}), 'base': Position({'middle': 6.0, 'units': 'm'}), 'description': 'alluvions', 'data': {}, 'components': [Component({'lithology': 'silt', 'colour': 'gris'})]})]"
      ]
     },
     "execution_count": 101,
     "metadata": {},
     "output_type": "execute_result"
    }
   ],
   "source": [
    "bh1_strip"
   ]
  },
  {
   "cell_type": "code",
   "execution_count": 102,
   "metadata": {},
   "outputs": [
    {
     "data": {
      "image/png": "[encoded data removed]",
      "text/plain": [
       "<Figure size 108x216 with 1 Axes>"
      ]
     },
     "metadata": {
      "needs_background": "light"
     },
     "output_type": "display_data"
    },
    {
     "data": {
      "image/png": "[encoded data removed]",
      "text/plain": [
       "<Figure size 432x288 with 15 Axes>"
      ]
     },
     "metadata": {
      "needs_background": "light"
     },
     "output_type": "display_data"
    }
   ],
   "source": [
    "bh_test = 'F10'\n",
    "strp=Striplog(build_strip_from_list(bh_test))\n",
    "s_striplog=Striplog(bh1_strip)\n",
    "s_striplog.plot(my_legend, ladder=True, aspect=2)\n",
    "my_legend.plot() # pour afficher la légende"
   ]
  },
  {
   "cell_type": "markdown",
   "metadata": {},
   "source": [
    "# Test fonctionnel"
   ]
  },
  {
   "cell_type": "code",
   "execution_count": null,
   "metadata": {
    "scrolled": true
   },
   "outputs": [],
   "source": [
    "#Modifié\n",
    "bhs_striplog = {}\n",
    "bh1_strip = []\n",
    "for bh_row in dfs['Boreholes'].iterrows(): # For all bh\n",
    "    bh_strip = []\n",
    "    intervals = dfs['Intervals'].query('borehole==\"{borehole:s}\"'.format(borehole=bh_row[1][0]))[['top','base', 'description']] # Look for the interval for the bh\n",
    "    for row in intervals.iterrows():\n",
    "        components = dfs['Components'].query('borehole==\"{borehole:s}\" and top=={top:f} and base=={base:f}'.format(borehole=bh_row[1][0], top=row[1]['top'], base=row[1]['base'])) # Look for components of the bh\n",
    "        components_dict={}\n",
    "        for r in components.iterrows():\n",
    "            components_dict.update({r[1]['key']:r[1]['value']})\n",
    "            components_dict.update({r[1]['key']:r[1]['value']})\n",
    "        bh1_strip.append(Interval(**{'top': Position(middle=row[1]['top'], units='m'), \n",
    "            'base': Position(middle=row[1]['base'], units='m'),\n",
    "            'description': row[1]['description'],'data': {}, 'components': [Component(properties=components_dict)]})"
   ]
  },
  {
   "cell_type": "code",
   "execution_count": 99,
   "metadata": {},
   "outputs": [
    {
     "ename": "AttributeError",
     "evalue": "'dict' object has no attribute 'base'",
     "output_type": "error",
     "traceback": [
      "\u001b[0;31m---------------------------------------------------------------------------\u001b[0m",
      "\u001b[0;31mAttributeError\u001b[0m                            Traceback (most recent call last)",
      "\u001b[0;32m<ipython-input-99-16a4b1004625>\u001b[0m in \u001b[0;36m<module>\u001b[0;34m\u001b[0m\n\u001b[1;32m      1\u001b[0m \u001b[0mbh_test\u001b[0m \u001b[0;34m=\u001b[0m \u001b[0;34m'F10'\u001b[0m\u001b[0;34m\u001b[0m\u001b[0;34m\u001b[0m\u001b[0m\n\u001b[0;32m----> 2\u001b[0;31m \u001b[0mstrp\u001b[0m\u001b[0;34m=\u001b[0m\u001b[0mStriplog\u001b[0m\u001b[0;34m(\u001b[0m\u001b[0mbuild_strip_from_list\u001b[0m\u001b[0;34m(\u001b[0m\u001b[0mbh_test\u001b[0m\u001b[0;34m)\u001b[0m\u001b[0;34m)\u001b[0m\u001b[0;34m\u001b[0m\u001b[0;34m\u001b[0m\u001b[0m\n\u001b[0m",
      "\u001b[0;32m~/GSDMA2019/striplog/striplog.py\u001b[0m in \u001b[0;36m__init__\u001b[0;34m(self, list_of_Intervals, source, order)\u001b[0m\n\u001b[1;32m     58\u001b[0m         \u001b[0;32mif\u001b[0m \u001b[0morder\u001b[0m\u001b[0;34m.\u001b[0m\u001b[0mlower\u001b[0m\u001b[0;34m(\u001b[0m\u001b[0;34m)\u001b[0m\u001b[0;34m[\u001b[0m\u001b[0;36m0\u001b[0m\u001b[0;34m]\u001b[0m \u001b[0;34m==\u001b[0m \u001b[0;34m'a'\u001b[0m\u001b[0;34m:\u001b[0m  \u001b[0;31m# Auto\u001b[0m\u001b[0;34m\u001b[0m\u001b[0;34m\u001b[0m\u001b[0m\n\u001b[1;32m     59\u001b[0m             \u001b[0;31m# If bases == tops, then this is a bunch of 'points'.\u001b[0m\u001b[0;34m\u001b[0m\u001b[0;34m\u001b[0m\u001b[0;34m\u001b[0m\u001b[0m\n\u001b[0;32m---> 60\u001b[0;31m             \u001b[0;32mif\u001b[0m \u001b[0mall\u001b[0m\u001b[0;34m(\u001b[0m\u001b[0;34m[\u001b[0m\u001b[0miv\u001b[0m\u001b[0;34m.\u001b[0m\u001b[0mbase\u001b[0m\u001b[0;34m.\u001b[0m\u001b[0mz\u001b[0m \u001b[0;34m==\u001b[0m \u001b[0miv\u001b[0m\u001b[0;34m.\u001b[0m\u001b[0mtop\u001b[0m\u001b[0;34m.\u001b[0m\u001b[0mz\u001b[0m \u001b[0;32mfor\u001b[0m \u001b[0miv\u001b[0m \u001b[0;32min\u001b[0m \u001b[0mlist_of_Intervals\u001b[0m\u001b[0;34m]\u001b[0m\u001b[0;34m)\u001b[0m\u001b[0;34m:\u001b[0m\u001b[0;34m\u001b[0m\u001b[0;34m\u001b[0m\u001b[0m\n\u001b[0m\u001b[1;32m     61\u001b[0m                 \u001b[0morder\u001b[0m \u001b[0;34m=\u001b[0m \u001b[0;34m'none'\u001b[0m\u001b[0;34m\u001b[0m\u001b[0;34m\u001b[0m\u001b[0m\n\u001b[1;32m     62\u001b[0m                 \u001b[0mself\u001b[0m\u001b[0;34m.\u001b[0m\u001b[0morder\u001b[0m \u001b[0;34m=\u001b[0m \u001b[0;34m'none'\u001b[0m\u001b[0;34m\u001b[0m\u001b[0;34m\u001b[0m\u001b[0m\n",
      "\u001b[0;32m~/GSDMA2019/striplog/striplog.py\u001b[0m in \u001b[0;36m<listcomp>\u001b[0;34m(.0)\u001b[0m\n\u001b[1;32m     58\u001b[0m         \u001b[0;32mif\u001b[0m \u001b[0morder\u001b[0m\u001b[0;34m.\u001b[0m\u001b[0mlower\u001b[0m\u001b[0;34m(\u001b[0m\u001b[0;34m)\u001b[0m\u001b[0;34m[\u001b[0m\u001b[0;36m0\u001b[0m\u001b[0;34m]\u001b[0m \u001b[0;34m==\u001b[0m \u001b[0;34m'a'\u001b[0m\u001b[0;34m:\u001b[0m  \u001b[0;31m# Auto\u001b[0m\u001b[0;34m\u001b[0m\u001b[0;34m\u001b[0m\u001b[0m\n\u001b[1;32m     59\u001b[0m             \u001b[0;31m# If bases == tops, then this is a bunch of 'points'.\u001b[0m\u001b[0;34m\u001b[0m\u001b[0;34m\u001b[0m\u001b[0;34m\u001b[0m\u001b[0m\n\u001b[0;32m---> 60\u001b[0;31m             \u001b[0;32mif\u001b[0m \u001b[0mall\u001b[0m\u001b[0;34m(\u001b[0m\u001b[0;34m[\u001b[0m\u001b[0miv\u001b[0m\u001b[0;34m.\u001b[0m\u001b[0mbase\u001b[0m\u001b[0;34m.\u001b[0m\u001b[0mz\u001b[0m \u001b[0;34m==\u001b[0m \u001b[0miv\u001b[0m\u001b[0;34m.\u001b[0m\u001b[0mtop\u001b[0m\u001b[0;34m.\u001b[0m\u001b[0mz\u001b[0m \u001b[0;32mfor\u001b[0m \u001b[0miv\u001b[0m \u001b[0;32min\u001b[0m \u001b[0mlist_of_Intervals\u001b[0m\u001b[0;34m]\u001b[0m\u001b[0;34m)\u001b[0m\u001b[0;34m:\u001b[0m\u001b[0;34m\u001b[0m\u001b[0;34m\u001b[0m\u001b[0m\n\u001b[0m\u001b[1;32m     61\u001b[0m                 \u001b[0morder\u001b[0m \u001b[0;34m=\u001b[0m \u001b[0;34m'none'\u001b[0m\u001b[0;34m\u001b[0m\u001b[0;34m\u001b[0m\u001b[0m\n\u001b[1;32m     62\u001b[0m                 \u001b[0mself\u001b[0m\u001b[0;34m.\u001b[0m\u001b[0morder\u001b[0m \u001b[0;34m=\u001b[0m \u001b[0;34m'none'\u001b[0m\u001b[0;34m\u001b[0m\u001b[0;34m\u001b[0m\u001b[0m\n",
      "\u001b[0;31mAttributeError\u001b[0m: 'dict' object has no attribute 'base'"
     ]
    }
   ],
   "source": [
    "bh_test = 'F10'\n",
    "strp=Striplog(build_strip_from_list(bh_test))"
   ]
  },
  {
   "cell_type": "code",
   "execution_count": 21,
   "metadata": {},
   "outputs": [
    {
     "ename": "NameError",
     "evalue": "name 'dfs' is not defined",
     "output_type": "error",
     "traceback": [
      "\u001b[0;31m---------------------------------------------------------------------------\u001b[0m",
      "\u001b[0;31mNameError\u001b[0m                                 Traceback (most recent call last)",
      "\u001b[0;32m<ipython-input-21-a477b764e354>\u001b[0m in \u001b[0;36m<module>\u001b[0;34m\u001b[0m\n\u001b[1;32m      2\u001b[0m \u001b[0mbh_test\u001b[0m \u001b[0;34m=\u001b[0m \u001b[0;34m'F10'\u001b[0m\u001b[0;34m\u001b[0m\u001b[0;34m\u001b[0m\u001b[0m\n\u001b[1;32m      3\u001b[0m \u001b[0mbh1_strip\u001b[0m \u001b[0;34m=\u001b[0m \u001b[0;34m[\u001b[0m\u001b[0;34m]\u001b[0m  \u001b[0;31m# striplog object\u001b[0m\u001b[0;34m\u001b[0m\u001b[0;34m\u001b[0m\u001b[0m\n\u001b[0;32m----> 4\u001b[0;31m \u001b[0mintervals\u001b[0m \u001b[0;34m=\u001b[0m \u001b[0mdfs\u001b[0m\u001b[0;34m[\u001b[0m\u001b[0;34m'Intervals'\u001b[0m\u001b[0;34m]\u001b[0m\u001b[0;34m.\u001b[0m\u001b[0mquery\u001b[0m\u001b[0;34m(\u001b[0m\u001b[0;34m'borehole==\"{borehole:s}\"'\u001b[0m\u001b[0;34m.\u001b[0m\u001b[0mformat\u001b[0m\u001b[0;34m(\u001b[0m\u001b[0mborehole\u001b[0m\u001b[0;34m=\u001b[0m\u001b[0mbh_test\u001b[0m\u001b[0;34m)\u001b[0m\u001b[0;34m)\u001b[0m\u001b[0;34m[\u001b[0m\u001b[0;34m[\u001b[0m\u001b[0;34m'top'\u001b[0m\u001b[0;34m,\u001b[0m\u001b[0;34m'base'\u001b[0m\u001b[0;34m,\u001b[0m \u001b[0;34m'description'\u001b[0m\u001b[0;34m]\u001b[0m\u001b[0;34m]\u001b[0m\u001b[0;34m\u001b[0m\u001b[0;34m\u001b[0m\u001b[0m\n\u001b[0m\u001b[1;32m      5\u001b[0m \u001b[0;32mfor\u001b[0m \u001b[0mrow\u001b[0m \u001b[0;32min\u001b[0m \u001b[0mintervals\u001b[0m\u001b[0;34m.\u001b[0m\u001b[0miterrows\u001b[0m\u001b[0;34m(\u001b[0m\u001b[0;34m)\u001b[0m\u001b[0;34m:\u001b[0m\u001b[0;34m\u001b[0m\u001b[0;34m\u001b[0m\u001b[0m\n\u001b[1;32m      6\u001b[0m     \u001b[0mcomponents\u001b[0m \u001b[0;34m=\u001b[0m \u001b[0mdfs\u001b[0m\u001b[0;34m[\u001b[0m\u001b[0;34m'Components'\u001b[0m\u001b[0;34m]\u001b[0m\u001b[0;34m.\u001b[0m\u001b[0mquery\u001b[0m\u001b[0;34m(\u001b[0m\u001b[0;34m'borehole==\"{borehole:s}\" and top=={top:f} and base=={base:f}'\u001b[0m\u001b[0;34m.\u001b[0m\u001b[0mformat\u001b[0m\u001b[0;34m(\u001b[0m\u001b[0mborehole\u001b[0m\u001b[0;34m=\u001b[0m\u001b[0mbh_test\u001b[0m\u001b[0;34m,\u001b[0m \u001b[0mtop\u001b[0m\u001b[0;34m=\u001b[0m\u001b[0mrow\u001b[0m\u001b[0;34m[\u001b[0m\u001b[0;36m1\u001b[0m\u001b[0;34m]\u001b[0m\u001b[0;34m[\u001b[0m\u001b[0;34m'top'\u001b[0m\u001b[0;34m]\u001b[0m\u001b[0;34m,\u001b[0m \u001b[0mbase\u001b[0m\u001b[0;34m=\u001b[0m\u001b[0mrow\u001b[0m\u001b[0;34m[\u001b[0m\u001b[0;36m1\u001b[0m\u001b[0;34m]\u001b[0m\u001b[0;34m[\u001b[0m\u001b[0;34m'base'\u001b[0m\u001b[0;34m]\u001b[0m\u001b[0;34m)\u001b[0m\u001b[0;34m)\u001b[0m\u001b[0;34m\u001b[0m\u001b[0;34m\u001b[0m\u001b[0m\n",
      "\u001b[0;31mNameError\u001b[0m: name 'dfs' is not defined"
     ]
    }
   ],
   "source": [
    "#Extraction of 1 borehole to create a striplog   ---------------------------------------------------------\n",
    "bh_test = 'F10'\n",
    "bh1_strip = []  # striplog object \n",
    "intervals = dfs['Intervals'].query('borehole==\"{borehole:s}\"'.format(borehole=bh_test))[['top','base', 'description']]\n",
    "for row in intervals.iterrows():\n",
    "    components = dfs['Components'].query('borehole==\"{borehole:s}\" and top=={top:f} and base=={base:f}'.format(borehole=bh_test, top=row[1]['top'], base=row[1]['base']))\n",
    "    components_dict={}\n",
    "    for r in components.iterrows():\n",
    "        components_dict.update({r[1]['key']:r[1]['value']})\n",
    "    bh1_strip.append(Interval(**{'top': Position(middle=row[1]['top'], units='m'), \n",
    "                            'base': Position(middle=row[1]['base'], units='m'),\n",
    "                            'description': row[1]['description'], 'components': [Component(properties=components_dict)]}))\n",
    "        \n",
    "#     bh1_strip.append({'top': Position(middle=row[1]['top'], units='m'), \n",
    "#           'base': Position(middle=row[1]['base'], units='m'),\n",
    "#           'description': row[1]['description'], 'components': [Component(components_dict)]})"
   ]
  },
  {
   "cell_type": "code",
   "execution_count": 61,
   "metadata": {},
   "outputs": [
    {
     "ename": "TypeError",
     "evalue": "unsupported format string passed to tuple.__format__",
     "output_type": "error",
     "traceback": [
      "\u001b[0;31m---------------------------------------------------------------------------\u001b[0m",
      "\u001b[0;31mTypeError\u001b[0m                                 Traceback (most recent call last)",
      "\u001b[0;32m<ipython-input-61-568d05059993>\u001b[0m in \u001b[0;36m<module>\u001b[0;34m\u001b[0m\n\u001b[1;32m      1\u001b[0m \u001b[0mbh1_strip\u001b[0m \u001b[0;34m=\u001b[0m \u001b[0;34m[\u001b[0m\u001b[0;34m]\u001b[0m  \u001b[0;31m# striplog object\u001b[0m\u001b[0;34m\u001b[0m\u001b[0;34m\u001b[0m\u001b[0m\n\u001b[1;32m      2\u001b[0m \u001b[0;32mfor\u001b[0m \u001b[0mbh_row\u001b[0m \u001b[0;32min\u001b[0m \u001b[0mdfs\u001b[0m\u001b[0;34m[\u001b[0m\u001b[0;34m'Boreholes'\u001b[0m\u001b[0;34m]\u001b[0m\u001b[0;34m.\u001b[0m\u001b[0miterrows\u001b[0m\u001b[0;34m(\u001b[0m\u001b[0;34m)\u001b[0m\u001b[0;34m:\u001b[0m \u001b[0;31m# For all bh\u001b[0m\u001b[0;34m\u001b[0m\u001b[0;34m\u001b[0m\u001b[0m\n\u001b[0;32m----> 3\u001b[0;31m     \u001b[0mintervals\u001b[0m \u001b[0;34m=\u001b[0m \u001b[0mdfs\u001b[0m\u001b[0;34m[\u001b[0m\u001b[0;34m'Intervals'\u001b[0m\u001b[0;34m]\u001b[0m\u001b[0;34m.\u001b[0m\u001b[0mquery\u001b[0m\u001b[0;34m(\u001b[0m\u001b[0;34m'borehole==\"{borehole:s}\"'\u001b[0m\u001b[0;34m.\u001b[0m\u001b[0mformat\u001b[0m\u001b[0;34m(\u001b[0m\u001b[0mborehole\u001b[0m\u001b[0;34m=\u001b[0m\u001b[0mbh_row\u001b[0m\u001b[0;34m)\u001b[0m\u001b[0;34m)\u001b[0m\u001b[0;34m[\u001b[0m\u001b[0;34m[\u001b[0m\u001b[0;34m'top'\u001b[0m\u001b[0;34m,\u001b[0m\u001b[0;34m'base'\u001b[0m\u001b[0;34m,\u001b[0m \u001b[0;34m'description'\u001b[0m\u001b[0;34m]\u001b[0m\u001b[0;34m]\u001b[0m\u001b[0;34m\u001b[0m\u001b[0;34m\u001b[0m\u001b[0m\n\u001b[0m\u001b[1;32m      4\u001b[0m     \u001b[0mget_ipython\u001b[0m\u001b[0;34m(\u001b[0m\u001b[0;34m)\u001b[0m\u001b[0;34m.\u001b[0m\u001b[0mrun_line_magic\u001b[0m\u001b[0;34m(\u001b[0m\u001b[0;34m'pinfo'\u001b[0m\u001b[0;34m,\u001b[0m \u001b[0;34m'intervals'\u001b[0m\u001b[0;34m)\u001b[0m\u001b[0;34m\u001b[0m\u001b[0;34m\u001b[0m\u001b[0m\n",
      "\u001b[0;31mTypeError\u001b[0m: unsupported format string passed to tuple.__format__"
     ]
    }
   ],
   "source": [
    "bh1_strip = []  # striplog object \n",
    "for bh_row in dfs['Boreholes'].iterrows(): # For all bh\n",
    "    intervals = dfs['Intervals'].query('borehole==\"{borehole:s}\"'.format(borehole=bh_row))[['top','base', 'description']]\n",
    "    ?intervals"
   ]
  },
  {
   "cell_type": "code",
   "execution_count": 62,
   "metadata": {},
   "outputs": [],
   "source": [
    "?intervals"
   ]
  },
  {
   "cell_type": "code",
   "execution_count": 57,
   "metadata": {},
   "outputs": [
    {
     "ename": "TypeError",
     "evalue": "unsupported format string passed to tuple.__format__",
     "output_type": "error",
     "traceback": [
      "\u001b[0;31m---------------------------------------------------------------------------\u001b[0m",
      "\u001b[0;31mTypeError\u001b[0m                                 Traceback (most recent call last)",
      "\u001b[0;32m<ipython-input-57-0d03199d657a>\u001b[0m in \u001b[0;36m<module>\u001b[0;34m\u001b[0m\n\u001b[1;32m      2\u001b[0m \u001b[0mbh1_strip\u001b[0m \u001b[0;34m=\u001b[0m \u001b[0;34m[\u001b[0m\u001b[0;34m]\u001b[0m  \u001b[0;31m# striplog object\u001b[0m\u001b[0;34m\u001b[0m\u001b[0;34m\u001b[0m\u001b[0m\n\u001b[1;32m      3\u001b[0m \u001b[0;32mfor\u001b[0m \u001b[0mbh_row\u001b[0m \u001b[0;32min\u001b[0m \u001b[0mdfs\u001b[0m\u001b[0;34m[\u001b[0m\u001b[0;34m'Boreholes'\u001b[0m\u001b[0;34m]\u001b[0m\u001b[0;34m.\u001b[0m\u001b[0miterrows\u001b[0m\u001b[0;34m(\u001b[0m\u001b[0;34m)\u001b[0m\u001b[0;34m:\u001b[0m \u001b[0;31m# For all bh\u001b[0m\u001b[0;34m\u001b[0m\u001b[0;34m\u001b[0m\u001b[0m\n\u001b[0;32m----> 4\u001b[0;31m     \u001b[0mintervals\u001b[0m \u001b[0;34m=\u001b[0m \u001b[0mdfs\u001b[0m\u001b[0;34m[\u001b[0m\u001b[0;34m'Intervals'\u001b[0m\u001b[0;34m]\u001b[0m\u001b[0;34m.\u001b[0m\u001b[0mquery\u001b[0m\u001b[0;34m(\u001b[0m\u001b[0;34m'borehole==\"{borehole:s}\"'\u001b[0m\u001b[0;34m.\u001b[0m\u001b[0mformat\u001b[0m\u001b[0;34m(\u001b[0m\u001b[0mborehole\u001b[0m\u001b[0;34m=\u001b[0m\u001b[0mbh_row\u001b[0m\u001b[0;34m)\u001b[0m\u001b[0;34m)\u001b[0m\u001b[0;34m[\u001b[0m\u001b[0;34m[\u001b[0m\u001b[0;34m'top'\u001b[0m\u001b[0;34m,\u001b[0m\u001b[0;34m'base'\u001b[0m\u001b[0;34m,\u001b[0m \u001b[0;34m'description'\u001b[0m\u001b[0;34m]\u001b[0m\u001b[0;34m]\u001b[0m\u001b[0;34m\u001b[0m\u001b[0;34m\u001b[0m\u001b[0m\n\u001b[0m\u001b[1;32m      5\u001b[0m     \u001b[0;32mfor\u001b[0m \u001b[0mrow\u001b[0m \u001b[0;32min\u001b[0m \u001b[0mintervals\u001b[0m\u001b[0;34m.\u001b[0m\u001b[0miterrows\u001b[0m\u001b[0;34m(\u001b[0m\u001b[0;34m)\u001b[0m\u001b[0;34m:\u001b[0m\u001b[0;34m\u001b[0m\u001b[0;34m\u001b[0m\u001b[0m\n\u001b[1;32m      6\u001b[0m         \u001b[0mcomponents\u001b[0m \u001b[0;34m=\u001b[0m \u001b[0mdfs\u001b[0m\u001b[0;34m[\u001b[0m\u001b[0;34m'Components'\u001b[0m\u001b[0;34m]\u001b[0m\u001b[0;34m.\u001b[0m\u001b[0mquery\u001b[0m\u001b[0;34m(\u001b[0m\u001b[0;34m'borehole==\"{borehole:s}\" and top=={top:f} and base=={base:f}'\u001b[0m\u001b[0;34m.\u001b[0m\u001b[0mformat\u001b[0m\u001b[0;34m(\u001b[0m\u001b[0mborehole\u001b[0m\u001b[0;34m=\u001b[0m\u001b[0mbh_row\u001b[0m\u001b[0;34m,\u001b[0m \u001b[0mtop\u001b[0m\u001b[0;34m=\u001b[0m\u001b[0mrow\u001b[0m\u001b[0;34m[\u001b[0m\u001b[0;36m1\u001b[0m\u001b[0;34m]\u001b[0m\u001b[0;34m[\u001b[0m\u001b[0;34m'top'\u001b[0m\u001b[0;34m]\u001b[0m\u001b[0;34m,\u001b[0m \u001b[0mbase\u001b[0m\u001b[0;34m=\u001b[0m\u001b[0mrow\u001b[0m\u001b[0;34m[\u001b[0m\u001b[0;36m1\u001b[0m\u001b[0;34m]\u001b[0m\u001b[0;34m[\u001b[0m\u001b[0;34m'base'\u001b[0m\u001b[0;34m]\u001b[0m\u001b[0;34m)\u001b[0m\u001b[0;34m)\u001b[0m\u001b[0;34m\u001b[0m\u001b[0;34m\u001b[0m\u001b[0m\n",
      "\u001b[0;31mTypeError\u001b[0m: unsupported format string passed to tuple.__format__"
     ]
    }
   ],
   "source": [
    "#bh_test = 'F10'\n",
    "bh1_strip = []  # striplog object \n",
    "for bh_row in dfs['Boreholes'].iterrows(): # For all bh\n",
    "    intervals = dfs['Intervals'].query('borehole==\"{borehole:s}\"'.format(borehole=bh_row))[['top','base', 'description']]\n",
    "    for row in intervals.iterrows():\n",
    "        components = dfs['Components'].query('borehole==\"{borehole:s}\" and top=={top:f} and base=={base:f}'.format(borehole=bh_row, top=row[1]['top'], base=row[1]['base']))\n",
    "        components_dict={}\n",
    "        for r in components.iterrows():\n",
    "            components_dict.update({r[1]['key']:r[1]['value']})\n",
    "        bh1_strip.append(Interval(**{'top': Position(middle=row[1]['top'], units='m'), \n",
    "                                'base': Position(middle=row[1]['base'], units='m'),\n",
    "                                'description': row[1]['description'], 'components': [Component(properties=components_dict)]}))\n",
    "    bhs_striplog.update({bh_row[1][0]: bh_strip[1][0]})"
   ]
  },
  {
   "cell_type": "code",
   "execution_count": 16,
   "metadata": {},
   "outputs": [
    {
     "ename": "NameError",
     "evalue": "name 'bh1_strip' is not defined",
     "output_type": "error",
     "traceback": [
      "\u001b[0;31m---------------------------------------------------------------------------\u001b[0m",
      "\u001b[0;31mNameError\u001b[0m                                 Traceback (most recent call last)",
      "\u001b[0;32m<ipython-input-16-bc14b62b9f0f>\u001b[0m in \u001b[0;36m<module>\u001b[0;34m\u001b[0m\n\u001b[1;32m      1\u001b[0m \u001b[0;31m#bhs_striplog\u001b[0m\u001b[0;34m\u001b[0m\u001b[0;34m\u001b[0m\u001b[0;34m\u001b[0m\u001b[0m\n\u001b[0;32m----> 2\u001b[0;31m \u001b[0mbh1_strip\u001b[0m\u001b[0;34m\u001b[0m\u001b[0;34m\u001b[0m\u001b[0m\n\u001b[0m",
      "\u001b[0;31mNameError\u001b[0m: name 'bh1_strip' is not defined"
     ]
    }
   ],
   "source": [
    "#bhs_striplog\n",
    "bh1_strip"
   ]
  },
  {
   "cell_type": "code",
   "execution_count": 72,
   "metadata": {},
   "outputs": [
    {
     "ename": "KeyError",
     "evalue": "'F10'",
     "output_type": "error",
     "traceback": [
      "\u001b[0;31m---------------------------------------------------------------------------\u001b[0m",
      "\u001b[0;31mKeyError\u001b[0m                                  Traceback (most recent call last)",
      "\u001b[0;32m<ipython-input-72-492306eda9d4>\u001b[0m in \u001b[0;36m<module>\u001b[0;34m\u001b[0m\n\u001b[1;32m      1\u001b[0m \u001b[0ms_to_plot\u001b[0m\u001b[0;34m=\u001b[0m\u001b[0;34m\"F10\"\u001b[0m                  \u001b[0;31m# Nom du bh à plotter avec striplog\u001b[0m\u001b[0;34m\u001b[0m\u001b[0;34m\u001b[0m\u001b[0m\n\u001b[0;32m----> 2\u001b[0;31m \u001b[0ms_list\u001b[0m\u001b[0;34m=\u001b[0m\u001b[0mbhs_striplog\u001b[0m\u001b[0;34m[\u001b[0m\u001b[0;34m'F10'\u001b[0m\u001b[0;34m]\u001b[0m  \u001b[0;31m# List d'intervalles du bh: s_to_plot\u001b[0m\u001b[0;34m\u001b[0m\u001b[0;34m\u001b[0m\u001b[0m\n\u001b[0m\u001b[1;32m      3\u001b[0m \u001b[0;34m\u001b[0m\u001b[0m\n\u001b[1;32m      4\u001b[0m \u001b[0ms_striplog\u001b[0m\u001b[0;34m=\u001b[0m\u001b[0mStriplog\u001b[0m\u001b[0;34m(\u001b[0m\u001b[0mbh1_strip\u001b[0m\u001b[0;34m)\u001b[0m\u001b[0;34m\u001b[0m\u001b[0;34m\u001b[0m\u001b[0m\n\u001b[1;32m      5\u001b[0m \u001b[0ms_striplog\u001b[0m\u001b[0;34m.\u001b[0m\u001b[0mplot\u001b[0m\u001b[0;34m(\u001b[0m\u001b[0mmy_legend\u001b[0m\u001b[0;34m,\u001b[0m \u001b[0mladder\u001b[0m\u001b[0;34m=\u001b[0m\u001b[0;32mTrue\u001b[0m\u001b[0;34m,\u001b[0m \u001b[0maspect\u001b[0m\u001b[0;34m=\u001b[0m\u001b[0;36m2\u001b[0m\u001b[0;34m)\u001b[0m\u001b[0;34m\u001b[0m\u001b[0;34m\u001b[0m\u001b[0m\n",
      "\u001b[0;31mKeyError\u001b[0m: 'F10'"
     ]
    }
   ],
   "source": [
    "s_to_plot=\"F10\"                  # Nom du bh à plotter avec striplog\n",
    "s_list=bhs_striplog['F10']  # List d'intervalles du bh: s_to_plot\n",
    "\n",
    "s_striplog=Striplog(bh1_strip)\n",
    "s_striplog.plot(my_legend, ladder=True, aspect=2)\n",
    "my_legend.plot() # pour afficher la légende\n",
    "\n",
    "\n",
    "#  s_striplog=Striplog.__init__(None,i, source=None, order='auto') # conversion en object striplog"
   ]
  },
  {
   "cell_type": "code",
   "execution_count": 74,
   "metadata": {},
   "outputs": [
    {
     "ename": "TypeError",
     "evalue": "list indices must be integers or slices, not dict",
     "output_type": "error",
     "traceback": [
      "\u001b[0;31m---------------------------------------------------------------------------\u001b[0m",
      "\u001b[0;31mTypeError\u001b[0m                                 Traceback (most recent call last)",
      "\u001b[0;32m<ipython-input-74-dd49356e9c22>\u001b[0m in \u001b[0;36m<module>\u001b[0;34m\u001b[0m\n\u001b[1;32m      3\u001b[0m \u001b[0mintvls\u001b[0m\u001b[0;34m=\u001b[0m\u001b[0;34m[\u001b[0m\u001b[0;34m]\u001b[0m\u001b[0;34m\u001b[0m\u001b[0;34m\u001b[0m\u001b[0m\n\u001b[1;32m      4\u001b[0m \u001b[0;32mfor\u001b[0m \u001b[0mi\u001b[0m \u001b[0;32min\u001b[0m \u001b[0ms_list\u001b[0m\u001b[0;34m:\u001b[0m\u001b[0;34m\u001b[0m\u001b[0;34m\u001b[0m\u001b[0m\n\u001b[0;32m----> 5\u001b[0;31m     \u001b[0mintvls\u001b[0m\u001b[0;34m.\u001b[0m\u001b[0mappend\u001b[0m\u001b[0;34m(\u001b[0m\u001b[0mInterval\u001b[0m\u001b[0;34m(\u001b[0m\u001b[0ms_list\u001b[0m\u001b[0;34m[\u001b[0m\u001b[0mi\u001b[0m\u001b[0;34m]\u001b[0m\u001b[0;34m)\u001b[0m\u001b[0;34m)\u001b[0m\u001b[0;34m\u001b[0m\u001b[0;34m\u001b[0m\u001b[0m\n\u001b[0m",
      "\u001b[0;31mTypeError\u001b[0m: list indices must be integers or slices, not dict"
     ]
    }
   ],
   "source": [
    "s_to_plot=\"F10\"                  # Nom du bh à plotter avec striplog\n",
    "s_list=bhs_striplog['F10']  # List d'intervalles du bh: s_to_plot\n",
    "intvls=[]\n",
    "for i in s_list:\n",
    "    intvls.append(Interval(s_list[i]))"
   ]
  },
  {
   "cell_type": "code",
   "execution_count": null,
   "metadata": {},
   "outputs": [],
   "source": [
    "s_list\n",
    "\n",
    "#  s_striplog=Striplog.__init__(None,i, source=None, order='auto') # conversion en object striplog"
   ]
  },
  {
   "cell_type": "code",
   "execution_count": 49,
   "metadata": {},
   "outputs": [
    {
     "data": {
      "image/png": "[encoded data removed]",
      "text/plain": [
       "<Figure size 108x216 with 1 Axes>"
      ]
     },
     "metadata": {
      "needs_background": "light"
     },
     "output_type": "display_data"
    },
    {
     "data": {
      "image/png": "[encoded data removed]",
      "text/plain": [
       "<Figure size 432x288 with 15 Axes>"
      ]
     },
     "metadata": {
      "needs_background": "light"
     },
     "output_type": "display_data"
    }
   ],
   "source": [
    "i4 = Interval(top=0, base=10, components=[Component({'lithology': 'none','colour': 'rouille'})]) #selon my_legend\n",
    "i3 = Interval(top=10, base=40, components=[Component({'lithology': 'remblais','colour': 'brun'})]) #selon my_legend\n",
    "i1 = Interval(top=0, base=20, components=[Component({'lithology': 'limestone'})])\n",
    "i2 = Interval(top=20, base=60, components=[Component({'lithology': 'shale'})])\n",
    "i=[i3,i4]\n",
    "\n",
    "\n",
    "s_striplog=Striplog(i)\n",
    "s_striplog.plot(my_legend, ladder=True, aspect=2)\n",
    "my_legend.plot() # pour afficher la légende\n",
    "\n"
   ]
  },
  {
   "cell_type": "markdown",
   "metadata": {},
   "source": [
    "## Add lexicon"
   ]
  },
  {
   "cell_type": "code",
   "execution_count": null,
   "metadata": {},
   "outputs": [],
   "source": [
    "dfs['lexicon']"
   ]
  },
  {
   "cell_type": "code",
   "execution_count": null,
   "metadata": {},
   "outputs": [],
   "source": [
    "bh_strip.append(dfs['lexicon']) # Command to add smthg "
   ]
  },
  {
   "cell_type": "markdown",
   "metadata": {},
   "source": [
    "#### Structure of 1 interval of the striplog\n",
    "{'top': Position({'middle': 51.24117647058824, 'units': 'm'}), 'base': Position({'middle': 54.81764705882354, 'units': 'm'}), 'description': '', 'data': {}, 'components': [Component({'lithology': 'sandstone', 'colour': 'grey', 'grainsize': 'vf-f'})]}\n"
   ]
  },
  {
   "cell_type": "code",
   "execution_count": null,
   "metadata": {},
   "outputs": [],
   "source": [
    "bh_strip\n"
   ]
  },
  {
   "cell_type": "code",
   "execution_count": null,
   "metadata": {},
   "outputs": [],
   "source": [
    "def from_sqlite_Row_to_dict(list_with_rows):\n",
    "    ''' Turn a list with sqlite3.Row objects into a dictionary'''\n",
    "    d ={} # the dictionary to be filled with the row data and to be returned\n",
    "\n",
    "    for i, row in enumerate(list_with_rows): # iterate throw the sqlite3.Row objects            \n",
    "        l = [] # for each Row use a separate list\n",
    "        for col in range(0, len(row)): # copy over the row date (ie. column data) to a list\n",
    "            l.append(row[col])\n",
    "        d[i] = l # add the list to the dictionary   \n",
    "    return d"
   ]
  },
  {
   "cell_type": "code",
   "execution_count": null,
   "metadata": {},
   "outputs": [],
   "source": [
    "bhs_striplog = {}\n",
    "Intvll=[]\n",
    "for bh_row in dfs['Boreholes'].iterrows(): # For all bh\n",
    "    bh_strip = []\n",
    "    intervals = dfs['Intervals'].query('borehole==\"{borehole:s}\"'.format(borehole=bh_row[1][0]))[['top','base', 'description']] # Look for the interval for the bh\n",
    "    component={}\n",
    "    for row in intervals.iterrows():\n",
    "        litho = dfs['Components'].query('borehole==\"{borehole:s}\" and top=={top:f} and base=={base:f} and key==\"{key:s}\"'.format(borehole=bh_test, top=row[1]['top'], base=row[1]['base'], key='lithology'))['value']\n",
    "        color= dfs['Components'].query('borehole==\"{borehole:s}\" and top=={top:f} and base=={base:f} and key==\"{key:s}\"'.format(borehole=bh_test, top=row[1]['top'], base=row[1]['base'], key='colour'))['value']\n",
    "        #print(litho)\n",
    "#         print(color)\n",
    "        #litho=compnent['lithology'][0]\n",
    "        #color=compnent['color'][0]\n",
    "        #litho=compnent['value'][0]\n",
    "        #color=compnent['value'][1]\n",
    "        #components_dict={}\n",
    "        #for r in components.iterrows():\n",
    "            #components_dict.update({r[1]['key']:r[1]['value']})\n",
    "    Intvll.append(Interval(top=row[1]['top'], base=row[1]['base'], description=row[1]['description'], components=[Component({'lithology':litho[4],'colour': color})]))\n",
    "#type(litho)\n",
    "print(color[4])\n",
    "        "
   ]
  },
  {
   "cell_type": "code",
   "execution_count": null,
   "metadata": {},
   "outputs": [],
   "source": [
    "dic=from_sqlite_Row_to_dict(comp)\n"
   ]
  },
  {
   "cell_type": "code",
   "execution_count": null,
   "metadata": {},
   "outputs": [],
   "source": [
    "d['F10', ] \n"
   ]
  },
  {
   "cell_type": "code",
   "execution_count": null,
   "metadata": {},
   "outputs": [],
   "source": [
    "conn = create_connection(database)\n",
    "with conn:    \n",
    "        \n",
    "    print(\"---BOREHOLES data--- \")\n",
    "    table_bh=\"SELECT * FROM Boreholes\" # to select the data of the table Boreholes\n",
    "    bh=select_datat_of_db(conn,table_bh)\n",
    "    \n",
    "    print(\"---COMPONENTS data--- \")\n",
    "    table_comp=\"SELECT * FROM Component\" # to select the data of the table component\n",
    "    comp=select_datat_of_db(conn,table_comp)\n",
    "    \n",
    "    print(\"---INTERVAL data--- \")\n",
    "    table_int=\"SELECT * FROM Intervals\" # to select the data of the table Intervals\n",
    "    intvl=select_datat_of_db(conn,table_int)\n",
    "    \n",
    "    print(\"---LEXICON--- \")\n",
    "    table_lex=\"SELECT * FROM lexicon\" # to select the data of the table Intervals\n",
    "    lex=select_datat_of_db(conn,table_lex)\n",
    "    \n",
    "    \n",
    " "
   ]
  },
  {
   "cell_type": "raw",
   "metadata": {},
   "source": [
    "df=components.loc[4:6,['Key', 'Value']]\n",
    "df"
   ]
  },
  {
   "cell_type": "raw",
   "metadata": {},
   "source": [
    "components_dict={}\n",
    "for r in df.iterrows():\n",
    "    components_dict.update({r[1]['Key']:r[1]['Value']})"
   ]
  },
  {
   "cell_type": "raw",
   "metadata": {},
   "source": [
    "# My method to create the striplog\n",
    "strip={{'top': Position(middle=intvl[0][1], units='m'), \n",
    "       'base': Position(middle=intvl[0][2], units='m'),\n",
    "       'description': '', 'data': {intvl[0][3]},\n",
    "       'components': [Component({'lithology': litho, 'colour': col, 'grainsize': '/'})]}}"
   ]
  },
  {
   "cell_type": "raw",
   "metadata": {},
   "source": [
    "strip = [{'top': Position(middle=intvl[0][1], units='m'), \n",
    "          'base': Position(middle=intvl[0][2], units='m'),\n",
    "          'description': '', 'data': {intvl[0][3]}, 'components': [Component({'lithology':'sand', 'color': 'red'})]}]\n",
    "strip_F25 = [{'top': Position(middle=intvl[0][1], units='m'), \n",
    "          'base': Position(middle=intvl[0][2], units='m'),\n",
    "          'description': '', 'data': {intvl[0][3]}, 'components': [Component({'lithology':'sand', 'color': 'red'})]}]\n",
    "          \n",
    "if comp[0][0]==intvl[0][0]:\n",
    "    if comp[0][1]==intvl[0][1]:\n",
    "        if comp[0][2]==intvl[0][2]:\n",
    "            if comp[0][3]=='lithology':\n",
    "                litho=comp[0][4]\n",
    "            if comp[1][3]=='colour':\n",
    "                col=comp[1][4]\n",
    "                "
   ]
  },
  {
   "cell_type": "code",
   "execution_count": null,
   "metadata": {},
   "outputs": [],
   "source": [
    "conn = create_connection(database)\n",
    "with conn:    \n",
    "        \n",
    "    print(\"---BOREHOLES data--- \")\n",
    "    table_bh=\"SELECT * FROM Boreholes\" # to select the data of the table Boreholes\n",
    "    bh=select_datat_of_db(conn,table_bh)\n",
    "    \n",
    "    print(\"---COMPONENTS data--- \")\n",
    "    table_comp=\"SELECT * FROM Component\" # to select the data of the table component\n",
    "    comp=select_datat_of_db(conn,table_comp)\n",
    "    \n",
    "    print(\"---INTERVAL data--- \")\n",
    "    table_int=\"SELECT * FROM Intervals\" # to select the data of the table Intervals\n",
    "    intvl=select_datat_of_db(conn,table_int)\n",
    "    \n",
    "    print(\"---LEXICON--- \")\n",
    "    table_lex=\"SELECT * FROM lexicon\" # to select the data of the table Intervals\n",
    "    lex=select_datat_of_db(conn,table_lex)\n",
    " \n",
    " "
   ]
  },
  {
   "cell_type": "code",
   "execution_count": null,
   "metadata": {},
   "outputs": [],
   "source": [
    "bh # is a list, cause it has brackets\n",
    "bh[0]\n",
    "lex\n",
    "type(intvl)\n",
    "intvl[0][0]\n",
    "bh[1][0]\n",
    "comp[1][4]\n",
    "lexicon=lex"
   ]
  }
 ],
 "metadata": {
  "kernelspec": {
   "display_name": "Python 3",
   "language": "python",
   "name": "python3"
  },
  "language_info": {
   "codemirror_mode": {
    "name": "ipython",
    "version": 3
   },
   "file_extension": ".py",
   "mimetype": "text/x-python",
   "name": "python",
   "nbconvert_exporter": "python",
   "pygments_lexer": "ipython3",
   "version": "3.6.8"
  }
 },
 "nbformat": 4,
 "nbformat_minor": 2
}

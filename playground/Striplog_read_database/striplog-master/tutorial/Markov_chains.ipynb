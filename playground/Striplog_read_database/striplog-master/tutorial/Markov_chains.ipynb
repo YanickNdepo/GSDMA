{
 "cells": [
  {
   "cell_type": "markdown",
   "metadata": {},
   "source": [
    "Launch this notebook:\n",
    "\n",
    "https://colab.research.google.com/github/agile-geoscience/striplog/blob/develop/tutorial/Markov_chains.ipynb\n",
    "\n",
    "-----\n",
    "\n",
    "## Markov chains for `striplog`\n",
    "\n",
    "Initially based on [Alfredo Molina on Medium](https://medium.com/@__amol__/markov-chains-with-python-1109663f3678), then incorporating quasi-independence model from Powers & Easterling, https://doi.org/10.1306/212F808F-2B24-11D7-8648000102C1865D. \n",
    "\n",
    "You need `striplog` version 0.8.2 for this notebook to work."
   ]
  },
  {
   "cell_type": "code",
   "execution_count": 1,
   "metadata": {},
   "outputs": [
    {
     "data": {
      "text/plain": [
       "'0.8.3'"
      ]
     },
     "execution_count": 1,
     "metadata": {},
     "output_type": "execute_result"
    }
   ],
   "source": [
    "import striplog\n",
    "\n",
    "striplog.__version__"
   ]
  },
  {
   "cell_type": "markdown",
   "metadata": {},
   "source": [
    "## Parse states\n",
    "\n",
    "All of the Markov chain code I could find wanted a transition matrix as input. But I wanted to be able to provide a sequence, then get the transitions from it. So we need to be able to parse a sequence of states &mdash; tokens representing the items in the sequence we are modeling. \n",
    "\n",
    "For example, we need the unique elements and 'sequence of sequences' from:\n",
    "\n",
    "- A list of states, eg `[10, 20, 10, 20, 20, 10]`\n",
    "- A string of states, eg `'ABBDDDDDCCCC'`\n",
    "- A list of lists of states, eg `[[1,2,2,3], [2,4,2]]`  (NB, not same length)\n",
    "- A list of strings of states, eg `['aaabb', 'aabbccc']` (NB, not same length)\n",
    "- A list of state names, eg `['sst', 'mud', 'sst']` (requires optional argument)\n",
    "- A list of lists of state names, eg `[['SS', 'M', 'SS'], ['M', 'M', 'LS']]`\n",
    "\n",
    "The uniques should look like:\n",
    "\n",
    "- `[10, 20]`\n",
    "- `['A', 'B', 'C', 'D']`\n",
    "- `[1, 2, 3, 4]`\n",
    "- `['a', 'b', 'c']`\n",
    "- `['mud', sst']`\n",
    "- `['LS', 'M', 'SS']`\n",
    "\n",
    "And the sequences of sequences:\n",
    "\n",
    "- `[10, 20, 10, 20, 20, 10]`\n",
    "- `['A', 'B', 'B', 'D', 'D', 'D', 'D', 'D', 'C', 'C', 'C', 'C']`\n",
    "- `[[1,2,2,3], [2,4,2]]`\n",
    "- `[['a', 'a', 'a', 'b', 'b'], ['a', 'a', 'b', 'b', 'c', 'c', 'c']]`\n",
    "- `[['sst', 'mud', 'sst']]`\n",
    "- `[['SS', 'M', 'SS'], ['M', 'M', 'LS']]`\n",
    "\n",
    "For some reason, this turned out to be a bit fiddly. But for now, things work."
   ]
  },
  {
   "cell_type": "code",
   "execution_count": 2,
   "metadata": {},
   "outputs": [],
   "source": [
    "from striplog.markov import Markov_chain"
   ]
  },
  {
   "cell_type": "markdown",
   "metadata": {},
   "source": [
    "----\n",
    "\n",
    "## Powers & Easterling data\n",
    "\n",
    "Let's use one of the examples in Powers & Easterling &mdash; they use this transition matrix from Gingerich, PD (1969). Markov analysis of cyclic alluvial sediments. _Journal of Sedimentary Petrology_, 39, p. 330-332. https://doi.org/10.1306/74D71C4E-2B21-11D7-8648000102C1865D"
   ]
  },
  {
   "cell_type": "code",
   "execution_count": 3,
   "metadata": {},
   "outputs": [
    {
     "data": {
      "text/plain": [
       "Markov_chain(179 transitions, states=['A', 'B', 'C', 'D'], step=1)"
      ]
     },
     "execution_count": 3,
     "metadata": {},
     "output_type": "execute_result"
    }
   ],
   "source": [
    "data = [[ 0, 37,  3,  2],\n",
    "        [21,  0, 41, 14],\n",
    "        [20, 25,  0,  0],\n",
    "        [ 1, 14,  1,  0]]\n",
    "\n",
    "m = Markov_chain(data, states=['A', 'B', 'C', 'D'])\n",
    "\n",
    "m"
   ]
  },
  {
   "cell_type": "markdown",
   "metadata": {},
   "source": [
    "### Testing for independence\n",
    "\n",
    "`scipy.stats` has a function, `chi2_contingency()` for computing chi-squared, the p-value, the degrees of freedom, and the expected transitions under the assumption of independence:"
   ]
  },
  {
   "cell_type": "code",
   "execution_count": 4,
   "metadata": {
    "scrolled": true
   },
   "outputs": [],
   "source": [
    "import scipy.stats\n",
    "\n",
    "chi, p, dof, expected = scipy.stats.chi2_contingency(m.observed_counts)"
   ]
  },
  {
   "cell_type": "markdown",
   "metadata": {},
   "source": [
    "However, there are problems with this:\n",
    "\n",
    "1. The chi-squared test is not strictly valid when we have fewer than 5 counts for some cells. Instead, it is better to use Fisher's exact test.\n",
    "1. We wish not to include self-transitions.\n",
    "1. We prefer a condition of quasi-independence, as discussed by Powers & Easterling and by Goodman (1968) before them. See https://agilescientific.com/blog/2019/4/19/the-order-of-stratigraphic-sequences.\n",
    "\n",
    "Fisher's exact test is notoriously difficult to compute for tables larger than 2 x 2, but in theory we can use the [`FisherExact`](https://github.com/maclandrol/FisherExact) module by Marc-Rolland Noutahi (see [his blog post](https://mrnoutahi.com/2016/01/03/Fisher-exac-test-for-mxn-table/)) to check Fisher's exact statistic."
   ]
  },
  {
   "cell_type": "markdown",
   "metadata": {},
   "source": [
    "In the meantime, we have Powers & Easterling and the assumption of quasi-independence.\n",
    "\n",
    "First, let's look at the expected transition frequencies:"
   ]
  },
  {
   "cell_type": "code",
   "execution_count": 5,
   "metadata": {},
   "outputs": [],
   "source": [
    "import numpy as np\n",
    "\n",
    "np.set_printoptions(precision=8)"
   ]
  },
  {
   "cell_type": "code",
   "execution_count": 6,
   "metadata": {},
   "outputs": [
    {
     "data": {
      "text/plain": [
       "array([[ 0.        , 31.27069125,  8.17143874,  2.55787001],\n",
       "       [31.28238248,  0.        , 34.05692583, 10.66069169],\n",
       "       [ 8.17137105, 34.04391563,  0.        ,  2.78471333],\n",
       "       [ 2.5579797 , 10.65716447,  2.78485582,  0.        ]])"
      ]
     },
     "execution_count": 6,
     "metadata": {},
     "output_type": "execute_result"
    }
   ],
   "source": [
    "m.expected_counts"
   ]
  },
  {
   "cell_type": "markdown",
   "metadata": {},
   "source": [
    "The $\\chi^2$ statistic shows the value for the observed ordering, along with the critical value at (by default) the 95% confidence level. If the first number is higher than the second number (ideally much higher), then we can reject the hypothesis that the ordering is quasi-independent. That is, we have shown that the ordering is non-random."
   ]
  },
  {
   "cell_type": "code",
   "execution_count": 7,
   "metadata": {},
   "outputs": [
    {
     "data": {
      "text/plain": [
       "Chi2(chi2=35.73687369691601, crit=11.070497693516351, perc=0.9999989278539752)"
      ]
     },
     "execution_count": 7,
     "metadata": {},
     "output_type": "execute_result"
    }
   ],
   "source": [
    "m.chi_squared()"
   ]
  },
  {
   "cell_type": "markdown",
   "metadata": {},
   "source": [
    "### Which transitions are interesting?\n",
    "\n",
    "The normalized difference shows which transitions are 'interesting'. These numbers can be interpreted as standard deviations away from the model of quasi-independence. That is, transitions with large positive numbers represent passages that occur more often than might be expected. Any numbers greater than 2 are likely to be important."
   ]
  },
  {
   "cell_type": "code",
   "execution_count": 8,
   "metadata": {},
   "outputs": [
    {
     "data": {
      "text/plain": [
       "array([[ 0.        ,  1.02455077, -1.80909811, -0.3488139 ],\n",
       "       [-1.83841622,  0.        ,  1.18973184,  1.02273667],\n",
       "       [ 4.13796624, -1.55001803,  0.        , -1.66874603],\n",
       "       [-0.97412177,  1.02398637, -1.0695517 ,  0.        ]])"
      ]
     },
     "execution_count": 8,
     "metadata": {},
     "output_type": "execute_result"
    }
   ],
   "source": [
    "m.normalized_difference"
   ]
  },
  {
   "cell_type": "markdown",
   "metadata": {},
   "source": [
    "We can visualize this as an image:"
   ]
  },
  {
   "cell_type": "code",
   "execution_count": 9,
   "metadata": {},
   "outputs": [
    {
     "data": {
      "image/png": "[encoded data removed]",
      "text/plain": [
       "<Figure size 216x144 with 2 Axes>"
      ]
     },
     "metadata": {
      "needs_background": "light"
     },
     "output_type": "display_data"
    }
   ],
   "source": [
    "m.plot_norm_diff()"
   ]
  },
  {
   "cell_type": "markdown",
   "metadata": {},
   "source": [
    "We can also interpret this matrix as a graph. The transitions from A to C are particularly strong in this one. Transitions from C to A happen less often than we'd expect. Those from B to D and D to B, less so."
   ]
  },
  {
   "cell_type": "code",
   "execution_count": 10,
   "metadata": {},
   "outputs": [
    {
     "data": {
      "image/png": "[encoded data removed]",
      "text/plain": [
       "<Figure size 432x288 with 1 Axes>"
      ]
     },
     "metadata": {},
     "output_type": "display_data"
    }
   ],
   "source": [
    "%matplotlib inline\n",
    "m.plot_graph()"
   ]
  },
  {
   "cell_type": "markdown",
   "metadata": {},
   "source": [
    "We can look at an undirected version of the graph too. It downplays non-reciprocal relationships. I'm not sure this is useful..."
   ]
  },
  {
   "cell_type": "code",
   "execution_count": 11,
   "metadata": {},
   "outputs": [
    {
     "data": {
      "image/png": "[encoded data removed]",
      "text/plain": [
       "<Figure size 432x288 with 1 Axes>"
      ]
     },
     "metadata": {},
     "output_type": "display_data"
    }
   ],
   "source": [
    "%matplotlib inline\n",
    "m.plot_graph(directed=False)"
   ]
  },
  {
   "cell_type": "markdown",
   "metadata": {},
   "source": [
    "We can generate a random succession of beds with the same transition statistics:"
   ]
  },
  {
   "cell_type": "code",
   "execution_count": 12,
   "metadata": {},
   "outputs": [
    {
     "data": {
      "text/plain": [
       "'CBABABDBDBCABDCABDBC'"
      ]
     },
     "execution_count": 12,
     "metadata": {},
     "output_type": "execute_result"
    }
   ],
   "source": [
    "''.join(m.generate_states(n=20))"
   ]
  },
  {
   "cell_type": "markdown",
   "metadata": {},
   "source": [
    "----\n",
    "\n",
    "## Data from Matt's thesis\n",
    "\n",
    "These are the transitions from some measured sections in my PhD thesis. They start at the bottom, so in Log 7, we start with lithofacies 1 (offshore mudstone) and pass upwards into lithofacies 3, then back into 1, then 3, and so on.\n",
    "\n",
    "We can instantiate a `Markov_chain` object from a sequence using its `from_sequence()` method. This expects either a sequence of 'states' (numbers or letters or strings representing rock types) or a sequence of sequences of states."
   ]
  },
  {
   "cell_type": "code",
   "execution_count": 13,
   "metadata": {},
   "outputs": [
    {
     "data": {
      "text/plain": [
       "array([[ 0., 21., 17.,  3., 15.,  2.,  2.,  8.,  2.,  1.,  0.],\n",
       "       [21.,  0.,  1.,  0.,  0.,  0.,  0.,  0.,  1.,  0.,  0.],\n",
       "       [12.,  0.,  0.,  2., 12.,  3.,  0.,  2.,  0.,  0.,  0.],\n",
       "       [ 0.,  0.,  2.,  0.,  3.,  0.,  0.,  0.,  0.,  0.,  0.],\n",
       "       [19.,  1.,  9.,  0.,  0.,  9.,  0.,  4.,  5.,  1.,  0.],\n",
       "       [ 9.,  0.,  1.,  0.,  4.,  0.,  0.,  0.,  0.,  0.,  0.],\n",
       "       [ 2.,  0.,  0.,  0.,  0.,  0.,  0.,  0.,  0.,  0.,  0.],\n",
       "       [ 3.,  1.,  0.,  0.,  7.,  0.,  0.,  0.,  5.,  0.,  0.],\n",
       "       [ 4.,  0.,  1.,  0.,  6.,  0.,  0.,  0.,  0.,  2.,  3.],\n",
       "       [ 0.,  0.,  0.,  0.,  1.,  0.,  0.,  2.,  1.,  0.,  0.],\n",
       "       [ 1.,  0.,  0.,  0.,  0.,  0.,  0.,  0.,  2.,  0.,  0.]])"
      ]
     },
     "execution_count": 13,
     "metadata": {},
     "output_type": "execute_result"
    }
   ],
   "source": [
    "data = {\n",
    "    'log7': [1, 3, 1, 3, 5, 1, 2, 1, 3, 1, 5, 6, 1, 2, 1, 2, 1, 2, 1, 3, 5, 6, 5, 1],\n",
    "    'log9': [1, 3, 1, 5, 1, 5, 3, 1, 2, 1, 2, 1, 3, 5, 1, 5, 6, 5, 6, 1, 2, 1, 5, 6, 1],\n",
    "    'log11': [1, 3, 1, 2, 1, 5, 3, 1, 2, 1, 2, 1, 3, 5, 3, 5, 1, 9, 5, 5, 5, 5, 6, 1],\n",
    "    'log12': [1, 5, 3, 1, 2, 1, 2, 1, 2, 1, 4, 5, 6, 1, 2, 1, 4, 5, 1, 5, 5, 5, 1, 2, 1, 8, 9, 10, 9, 5, 1],\n",
    "    'log13': [1, 6, 1, 3, 1, 3, 5, 3, 6, 1, 6, 5, 3, 1, 5, 1, 2, 1, 4, 3, 5, 3, 4, 3, 5, 1, 5, 9, 11, 9, 1],\n",
    "    'log14': [1, 3, 1, 5, 8, 5, 6, 1, 3, 4, 5, 3, 1, 3, 5, 1, 7, 7, 7, 1, 7, 1, 3, 8, 5, 5, 1, 5, 9, 9, 11, 9, 1],\n",
    "    'log15': [1, 8, 1, 3, 5, 1, 2, 3, 6, 3, 6, 5, 2, 1, 2, 1, 8, 5, 1, 5, 9, 9, 11, 1],\n",
    "    'log16': [1, 8, 1, 5, 1, 5, 5, 6, 1, 3, 5, 3, 5, 5, 5, 8, 5, 1, 9, 9, 3, 1],\n",
    "    'log17': [1, 3, 8, 1, 8, 5, 1, 8, 9, 5, 10, 5, 8, 9, 10, 8, 5, 1, 8, 9, 1],\n",
    "    'log18': [1, 8, 2, 1, 2, 1, 10, 8, 9, 5, 5, 1, 2, 1, 2, 9, 5, 9, 5, 8, 5, 9, 1]\n",
    "}\n",
    "\n",
    "logs = list(data.values())\n",
    "\n",
    "m = Markov_chain.from_sequence(logs, states=range(1,12))\n",
    "m.observed_counts"
   ]
  },
  {
   "cell_type": "markdown",
   "metadata": {},
   "source": [
    "Let's check out the normalized difference matrix:"
   ]
  },
  {
   "cell_type": "code",
   "execution_count": 14,
   "metadata": {},
   "outputs": [
    {
     "data": {
      "text/plain": [
       "array([[0.00000000e+00, 9.73433553e+00, 1.36181600e+01, 1.97204020e+00,\n",
       "        2.32864499e+01, 5.70888383e+00, 7.80656027e-01, 6.57617560e+00,\n",
       "        6.57617560e+00, 1.57211591e+00, 1.17500740e+00],\n",
       "       [9.73386186e+00, 0.00000000e+00, 2.94880326e+00, 4.27015000e-01,\n",
       "        5.04232288e+00, 1.23617106e+00, 1.69039066e-01, 1.42396977e+00,\n",
       "        1.42396977e+00, 3.40417541e-01, 2.54429796e-01],\n",
       "       [1.36174683e+01, 2.94879697e+00, 0.00000000e+00, 5.97385015e-01,\n",
       "        7.05410378e+00, 1.72937735e+00, 2.36482102e-01, 1.99210379e+00,\n",
       "        1.99210379e+00, 4.76236989e-01, 3.55941940e-01],\n",
       "       [1.97194977e+00, 4.27016198e-01, 5.97387964e-01, 0.00000000e+00,\n",
       "        1.02150694e+00, 2.50431666e-01, 3.42450460e-02, 2.88477163e-01,\n",
       "        2.88477163e-01, 6.89640249e-02, 5.15440619e-02],\n",
       "       [2.32850125e+01, 5.04225698e+00, 7.05402664e+00, 1.02149073e+00,\n",
       "        0.00000000e+00, 2.95712627e+00, 4.04369490e-01, 3.40637193e+00,\n",
       "        3.40637193e+00, 8.14335236e-01, 6.08638285e-01],\n",
       "       [5.70861536e+00, 1.23617308e+00, 1.72938386e+00, 2.50431373e-01,\n",
       "        2.95716975e+00, 0.00000000e+00, 9.91362956e-02, 8.35115167e-01,\n",
       "        8.35115167e-01, 1.99644584e-01, 1.49215374e-01],\n",
       "       [7.80620479e-01, 1.69039594e-01, 2.36483345e-01, 3.42450570e-02,\n",
       "        4.04376039e-01, 9.91364434e-02, 0.00000000e+00, 1.14197220e-01,\n",
       "        1.14197220e-01, 2.73002543e-02, 2.04043485e-02],\n",
       "       [6.57586428e+00, 1.42397164e+00, 1.99211067e+00, 2.88476735e-01,\n",
       "        3.40642094e+00, 8.35114905e-01, 1.14197014e-01, 0.00000000e+00,\n",
       "        9.61985290e-01, 2.29974452e-01, 1.71884071e-01],\n",
       "       [6.57586428e+00, 1.42397164e+00, 1.99211067e+00, 2.88476735e-01,\n",
       "        3.40642094e+00, 8.35114905e-01, 1.14197014e-01, 9.61985290e-01,\n",
       "        0.00000000e+00, 2.29974452e-01, 1.71884071e-01],\n",
       "       [1.57204399e+00, 3.40418533e-01, 4.76239392e-01, 6.89640325e-02,\n",
       "        8.14348252e-01, 1.99644840e-01, 2.73002485e-02, 2.29974819e-01,\n",
       "        2.29974819e-01, 0.00000000e+00, 4.10910734e-02],\n",
       "       [1.17495378e+00, 2.54430565e-01, 3.55943774e-01, 5.15440731e-02,\n",
       "        6.08648078e-01, 1.49215581e-01, 2.04043464e-02, 1.71884364e-01,\n",
       "        1.71884364e-01, 4.10910778e-02, 0.00000000e+00]])"
      ]
     },
     "execution_count": 14,
     "metadata": {},
     "output_type": "execute_result"
    }
   ],
   "source": [
    "m.expected_counts"
   ]
  },
  {
   "cell_type": "code",
   "execution_count": 15,
   "metadata": {},
   "outputs": [
    {
     "data": {
      "text/plain": [
       "array([[ 0. ,  3.6,  0.9,  0.7, -1.7, -1.6,  1.4,  0.6, -1.8, -0.5, -1.1],\n",
       "       [ 3.6,  0. , -1.1, -0.7, -2.2, -1.1, -0.4, -1.2, -0.4, -0.6, -0.5],\n",
       "       [-0.4, -1.7,  0. ,  1.8,  1.9,  1. , -0.5,  0. , -1.4, -0.7, -0.6],\n",
       "       [-1.4, -0.7,  1.8,  0. ,  2. , -0.5, -0.2, -0.5, -0.5, -0.3, -0.2],\n",
       "       [-0.9, -1.8,  0.7, -1. ,  0. ,  3.5, -0.6,  0.3,  0.9,  0.2, -0.8],\n",
       "       [ 1.4, -1.1, -0.6, -0.5,  0.6,  0. , -0.3, -0.9, -0.9, -0.4, -0.4],\n",
       "       [ 1.4, -0.4, -0.5, -0.2, -0.6, -0.3,  0. , -0.3, -0.3, -0.2, -0.1],\n",
       "       [-1.4, -0.4, -1.4, -0.5,  1.9, -0.9, -0.3,  0. ,  4.1, -0.5, -0.4],\n",
       "       [-1. , -1.2, -0.7, -0.5,  1.4, -0.9, -0.3, -1. ,  0. ,  3.7,  6.8],\n",
       "       [-1.3, -0.6, -0.7, -0.3,  0.2, -0.4, -0.2,  3.7,  1.6,  0. , -0.2],\n",
       "       [-0.2, -0.5, -0.6, -0.2, -0.8, -0.4, -0.1, -0.4,  4.4, -0.2,  0. ]])"
      ]
     },
     "execution_count": 15,
     "metadata": {},
     "output_type": "execute_result"
    }
   ],
   "source": [
    "np.set_printoptions(suppress=True, precision=1, linewidth=120)\n",
    "m.normalized_difference"
   ]
  },
  {
   "cell_type": "code",
   "execution_count": 16,
   "metadata": {},
   "outputs": [
    {
     "data": {
      "image/png": "[encoded data removed]",
      "text/plain": [
       "<Figure size 468x396 with 2 Axes>"
      ]
     },
     "metadata": {
      "needs_background": "light"
     },
     "output_type": "display_data"
    }
   ],
   "source": [
    "m.plot_norm_diff()"
   ]
  },
  {
   "cell_type": "markdown",
   "metadata": {},
   "source": [
    "And the graph version. **Note you can re-run this cell to rearrange the graph.**"
   ]
  },
  {
   "cell_type": "code",
   "execution_count": 17,
   "metadata": {},
   "outputs": [
    {
     "data": {
      "image/png": "[encoded data removed]",
      "text/plain": [
       "<Figure size 1080x1080 with 1 Axes>"
      ]
     },
     "metadata": {},
     "output_type": "display_data"
    }
   ],
   "source": [
    "m.plot_graph(figsize=(15,15), max_size=2400, edge_labels=True)"
   ]
  },
  {
   "cell_type": "markdown",
   "metadata": {},
   "source": [
    "----\n",
    "\n",
    "## Step = 2\n",
    "\n",
    "So far we've just been looking at direct this-to-that transitions, i.e. only considering each previous transition. What if we use the previous-but-one?"
   ]
  },
  {
   "cell_type": "code",
   "execution_count": 18,
   "metadata": {},
   "outputs": [],
   "source": [
    "m = Markov_chain.from_sequence(logs, states=range(1,12), step=2)"
   ]
  },
  {
   "cell_type": "markdown",
   "metadata": {},
   "source": [
    "Now we have a 3D 'matrix' of transition probabilities."
   ]
  },
  {
   "cell_type": "code",
   "execution_count": 19,
   "metadata": {},
   "outputs": [
    {
     "data": {
      "text/plain": [
       "(11, 11, 11)"
      ]
     },
     "execution_count": 19,
     "metadata": {},
     "output_type": "execute_result"
    }
   ],
   "source": [
    "m.normalized_difference.shape"
   ]
  },
  {
   "cell_type": "markdown",
   "metadata": {},
   "source": [
    "This is hard to inspect! Let's just get the indices of the highest values.\n",
    "\n",
    "If we add one to the indices, we'll have a handy list of facies number transitions, since these are just 1 to 11. So we can interpret these as transitions with anomalously high probability. \n",
    "\n",
    "<img src=\"Normal_distribution.png\" />"
   ]
  },
  {
   "cell_type": "code",
   "execution_count": 20,
   "metadata": {},
   "outputs": [
    {
     "name": "stdout",
     "output_type": "stream",
     "text": [
      "   1 > 2 > 1   3.819\n",
      "   1 > 8 > 9   1.366\n",
      "  5 > 9 > 11   1.356\n",
      "  8 > 9 > 10   3.122\n",
      "  9 > 9 > 11   3.241\n",
      "  9 > 11 > 9   3.665\n"
     ]
    }
   ],
   "source": [
    "idx = np.where(m.normalized_difference > 1.28)  # 1.28 is 80% confidence\n",
    "locs = np.array(list(zip(*idx)))\n",
    "\n",
    "for score, loc in zip(m.normalized_difference[idx], locs):\n",
    "    print(f\"{' > '.join(map(str,loc+1)):>12}   {score:.3f}\")"
   ]
  },
  {
   "cell_type": "markdown",
   "metadata": {},
   "source": [
    "These represent, respectively (it's stochastic so some of these might be missing):\n",
    "\n",
    "    1  >  2  >  1\n",
    "    1  >  8  >  9\n",
    "    5  >  9  >  11\n",
    "    8  >  9  >  10\n",
    "    9  >  9  >  11\n",
    "    9  >  10 >  9\n",
    "    9  >  11 >  9"
   ]
  },
  {
   "cell_type": "code",
   "execution_count": 21,
   "metadata": {},
   "outputs": [
    {
     "data": {
      "text/plain": [
       "Chi2(chi2=2224.4608937464127, crit=112.02198574980785, perc=1.0)"
      ]
     },
     "execution_count": 21,
     "metadata": {},
     "output_type": "execute_result"
    }
   ],
   "source": [
    "m.chi_squared()"
   ]
  },
  {
   "cell_type": "markdown",
   "metadata": {},
   "source": [
    "Unfortunately, it's a bit harder to draw this as a graph. Technically, it's a [**hypergraph**](https://en.wikipedia.org/wiki/Hypergraph)."
   ]
  },
  {
   "cell_type": "code",
   "execution_count": 22,
   "metadata": {},
   "outputs": [
    {
     "ename": "MarkovError",
     "evalue": "You can only graph one-step chains.",
     "output_type": "error",
     "traceback": [
      "\u001b[0;31m---------------------------------------------------------------------------\u001b[0m",
      "\u001b[0;31mMarkovError\u001b[0m                               Traceback (most recent call last)",
      "\u001b[0;32m<ipython-input-22-1f96eeaf8b79>\u001b[0m in \u001b[0;36m<module>\u001b[0;34m\u001b[0m\n\u001b[1;32m      1\u001b[0m \u001b[0;31m# This should error for now.\u001b[0m\u001b[0;34m\u001b[0m\u001b[0;34m\u001b[0m\u001b[0;34m\u001b[0m\u001b[0m\n\u001b[0;32m----> 2\u001b[0;31m \u001b[0mm\u001b[0m\u001b[0;34m.\u001b[0m\u001b[0mplot_graph\u001b[0m\u001b[0;34m(\u001b[0m\u001b[0mfigsize\u001b[0m\u001b[0;34m=\u001b[0m\u001b[0;34m(\u001b[0m\u001b[0;36m15\u001b[0m\u001b[0;34m,\u001b[0m\u001b[0;36m15\u001b[0m\u001b[0;34m)\u001b[0m\u001b[0;34m,\u001b[0m \u001b[0mmax_size\u001b[0m\u001b[0;34m=\u001b[0m\u001b[0;36m2400\u001b[0m\u001b[0;34m,\u001b[0m \u001b[0medge_labels\u001b[0m\u001b[0;34m=\u001b[0m\u001b[0;32mTrue\u001b[0m\u001b[0;34m)\u001b[0m\u001b[0;34m\u001b[0m\u001b[0;34m\u001b[0m\u001b[0m\n\u001b[0m",
      "\u001b[0;32m~/anaconda3/envs/welly/lib/python3.7/site-packages/striplog/markov.py\u001b[0m in \u001b[0;36mplot_graph\u001b[0;34m(self, ax, figsize, max_size, directed, edge_labels, draw_neg)\u001b[0m\n\u001b[1;32m    427\u001b[0m                    ):\n\u001b[1;32m    428\u001b[0m         \u001b[0;32mif\u001b[0m \u001b[0mself\u001b[0m\u001b[0;34m.\u001b[0m\u001b[0mnormalized_difference\u001b[0m\u001b[0;34m.\u001b[0m\u001b[0mndim\u001b[0m \u001b[0;34m>\u001b[0m \u001b[0;36m2\u001b[0m\u001b[0;34m:\u001b[0m\u001b[0;34m\u001b[0m\u001b[0;34m\u001b[0m\u001b[0m\n\u001b[0;32m--> 429\u001b[0;31m             \u001b[0;32mraise\u001b[0m \u001b[0mMarkovError\u001b[0m\u001b[0;34m(\u001b[0m\u001b[0;34m\"You can only graph one-step chains.\"\u001b[0m\u001b[0;34m)\u001b[0m\u001b[0;34m\u001b[0m\u001b[0;34m\u001b[0m\u001b[0m\n\u001b[0m\u001b[1;32m    430\u001b[0m \u001b[0;34m\u001b[0m\u001b[0m\n\u001b[1;32m    431\u001b[0m         \u001b[0;32mtry\u001b[0m\u001b[0;34m:\u001b[0m\u001b[0;34m\u001b[0m\u001b[0;34m\u001b[0m\u001b[0m\n",
      "\u001b[0;31mMarkovError\u001b[0m: You can only graph one-step chains."
     ]
    }
   ],
   "source": [
    "# This should error for now.\n",
    "m.plot_graph(figsize=(15,15), max_size=2400, edge_labels=True)"
   ]
  },
  {
   "cell_type": "markdown",
   "metadata": {},
   "source": [
    "----\n",
    "\n",
    "## Fake data\n",
    "\n",
    "Let's also make a Markov model from a long string of transitions."
   ]
  },
  {
   "cell_type": "code",
   "execution_count": 23,
   "metadata": {},
   "outputs": [],
   "source": [
    "data = \"sssmmmlllmlmlsslsllsmmllllmssssllllssmmlllllssssssmmmmsmllllssslmslmsmmmslsllll\"\"\""
   ]
  },
  {
   "cell_type": "code",
   "execution_count": 24,
   "metadata": {},
   "outputs": [
    {
     "data": {
      "text/plain": [
       "Markov_chain(78 transitions, states=['l', 'm', 's'], step=1)"
      ]
     },
     "execution_count": 24,
     "metadata": {},
     "output_type": "execute_result"
    }
   ],
   "source": [
    "m = Markov_chain.from_sequence(data, include_self=True)\n",
    "m"
   ]
  },
  {
   "cell_type": "code",
   "execution_count": 25,
   "metadata": {},
   "outputs": [
    {
     "data": {
      "text/plain": [
       "array([[19.,  5.,  7.],\n",
       "       [ 6.,  9.,  5.],\n",
       "       [ 7.,  6., 14.]])"
      ]
     },
     "execution_count": 25,
     "metadata": {},
     "output_type": "execute_result"
    }
   ],
   "source": [
    "m.observed_counts"
   ]
  },
  {
   "cell_type": "code",
   "execution_count": 26,
   "metadata": {},
   "outputs": [
    {
     "data": {
      "text/plain": [
       "array([0.4, 0.3, 0.3])"
      ]
     },
     "execution_count": 26,
     "metadata": {},
     "output_type": "execute_result"
    }
   ],
   "source": [
    "m._state_probs"
   ]
  },
  {
   "cell_type": "code",
   "execution_count": 27,
   "metadata": {},
   "outputs": [
    {
     "data": {
      "text/plain": [
       "array([[0.6, 0.2, 0.2],\n",
       "       [0.3, 0.4, 0.2],\n",
       "       [0.3, 0.2, 0.5]])"
      ]
     },
     "execution_count": 27,
     "metadata": {},
     "output_type": "execute_result"
    }
   ],
   "source": [
    "m.observed_freqs"
   ]
  },
  {
   "cell_type": "code",
   "execution_count": 28,
   "metadata": {},
   "outputs": [
    {
     "data": {
      "text/plain": [
       "array([[0.5, 0.2, 0.3],\n",
       "       [0.5, 0.2, 0.3],\n",
       "       [0.5, 0.2, 0.3]])"
      ]
     },
     "execution_count": 28,
     "metadata": {},
     "output_type": "execute_result"
    }
   ],
   "source": [
    "m.expected_freqs"
   ]
  },
  {
   "cell_type": "code",
   "execution_count": 29,
   "metadata": {},
   "outputs": [
    {
     "data": {
      "text/plain": [
       "array(['l', 'm', 's'], dtype='<U1')"
      ]
     },
     "execution_count": 29,
     "metadata": {},
     "output_type": "execute_result"
    }
   ],
   "source": [
    "m.states"
   ]
  },
  {
   "cell_type": "markdown",
   "metadata": {},
   "source": [
    "Conditional probabilities given a 'current' state:"
   ]
  },
  {
   "cell_type": "code",
   "execution_count": 30,
   "metadata": {},
   "outputs": [
    {
     "data": {
      "text/plain": [
       "array([0.6, 0.2, 0.2])"
      ]
     },
     "execution_count": 30,
     "metadata": {},
     "output_type": "execute_result"
    }
   ],
   "source": [
    "m._conditional_probs('l')"
   ]
  },
  {
   "cell_type": "markdown",
   "metadata": {},
   "source": [
    "A random sequence generated from the Markov chain model:"
   ]
  },
  {
   "cell_type": "code",
   "execution_count": 31,
   "metadata": {},
   "outputs": [
    {
     "data": {
      "text/plain": [
       "['s', 'l', 's', 'l', 'l', 's', 'm', 's', 'l', 's', 's', 's']"
      ]
     },
     "execution_count": 31,
     "metadata": {},
     "output_type": "execute_result"
    }
   ],
   "source": [
    "m.generate_states(12)"
   ]
  },
  {
   "cell_type": "markdown",
   "metadata": {},
   "source": [
    "## 'Idealized' successions: shoreface\n",
    "\n",
    "Based on [this conversation](https://twitter.com/clasticdetritus/status/1120713140893777920). \n",
    "\n",
    "Let's make a shoreface-type of thing:\n",
    "\n",
    "- mud\n",
    "- cross-bedded medium sand\n",
    "- fine sand\n",
    "- silt\n",
    "- mud\n",
    "\n",
    "We'll do it very naively, with multiple complete sequences."
   ]
  },
  {
   "cell_type": "code",
   "execution_count": 32,
   "metadata": {},
   "outputs": [],
   "source": [
    "data = \"msfcmsfcmsfcmsfcmsfcmsfcmsfcmsfcmsfcmsfcmsfcmsfcmsfcmsfcmsfcmsfcmsfcmsfc\""
   ]
  },
  {
   "cell_type": "code",
   "execution_count": 33,
   "metadata": {},
   "outputs": [
    {
     "data": {
      "text/plain": [
       "Markov_chain(71 transitions, states=['c', 'f', 'm', 's'], step=1)"
      ]
     },
     "execution_count": 33,
     "metadata": {},
     "output_type": "execute_result"
    }
   ],
   "source": [
    "m = Markov_chain.from_sequence(data)\n",
    "m"
   ]
  },
  {
   "cell_type": "code",
   "execution_count": 34,
   "metadata": {},
   "outputs": [
    {
     "data": {
      "text/plain": [
       "array([[ 0. , -2.5,  4.6, -2.5],\n",
       "       [ 5.1,  0. , -2.5, -2.5],\n",
       "       [-2.3, -2.4,  0. ,  5.1],\n",
       "       [-2.4,  4.8, -2.5,  0. ]])"
      ]
     },
     "execution_count": 34,
     "metadata": {},
     "output_type": "execute_result"
    }
   ],
   "source": [
    "m.normalized_difference"
   ]
  },
  {
   "cell_type": "code",
   "execution_count": 35,
   "metadata": {},
   "outputs": [
    {
     "data": {
      "text/plain": [
       "array([[0. , 6. , 5.9, 6. ],\n",
       "       [5.8, 0. , 6. , 6.2],\n",
       "       [5.4, 5.8, 0. , 5.8],\n",
       "       [5.8, 6.2, 6. , 0. ]])"
      ]
     },
     "execution_count": 35,
     "metadata": {},
     "output_type": "execute_result"
    }
   ],
   "source": [
    "m.expected_counts"
   ]
  },
  {
   "cell_type": "code",
   "execution_count": 36,
   "metadata": {},
   "outputs": [
    {
     "data": {
      "text/plain": [
       "array([[0. , 0.3, 0.3, 0.3],\n",
       "       [0.3, 0. , 0.3, 0.3],\n",
       "       [0.3, 0.3, 0. , 0.3],\n",
       "       [0.3, 0.3, 0.3, 0. ]])"
      ]
     },
     "execution_count": 36,
     "metadata": {},
     "output_type": "execute_result"
    }
   ],
   "source": [
    "m.expected_freqs"
   ]
  },
  {
   "cell_type": "code",
   "execution_count": 39,
   "metadata": {},
   "outputs": [
    {
     "data": {
      "text/plain": [
       "Chi2(chi2=142.33420063416094, crit=11.070497693516351, perc=1.0)"
      ]
     },
     "execution_count": 39,
     "metadata": {},
     "output_type": "execute_result"
    }
   ],
   "source": [
    "m.chi_squared()"
   ]
  },
  {
   "cell_type": "code",
   "execution_count": 40,
   "metadata": {},
   "outputs": [
    {
     "data": {
      "image/png": "[encoded data removed]",
      "text/plain": [
       "<Figure size 216x144 with 2 Axes>"
      ]
     },
     "metadata": {
      "needs_background": "light"
     },
     "output_type": "display_data"
    }
   ],
   "source": [
    "m.plot_norm_diff()"
   ]
  },
  {
   "cell_type": "code",
   "execution_count": 41,
   "metadata": {},
   "outputs": [
    {
     "data": {
      "image/png": "[encoded data removed]",
      "text/plain": [
       "<Figure size 432x288 with 1 Axes>"
      ]
     },
     "metadata": {},
     "output_type": "display_data"
    }
   ],
   "source": [
    "m.plot_graph()"
   ]
  },
  {
   "cell_type": "markdown",
   "metadata": {},
   "source": [
    "## Idealized succession: more realistic\n",
    "\n",
    "Often, we don't get a full succession. What if we randomly cut it short, but always return to 'm'?"
   ]
  },
  {
   "cell_type": "code",
   "execution_count": 42,
   "metadata": {},
   "outputs": [
    {
     "data": {
      "text/plain": [
       "'mmsfmsmmsmsmsfmsfcmsmsfcmsfmsmsfmsfmsmsfcmmsmsfmsmsmsmsfmmmsmmmsfmsfcmsfmsmsfmsfcmsfcmmsfmsfcmsmsmsmmsmmmsmsfcmsfmsfmsmsfmmmsmsfcmsfmsfcmsfcmsmsfmsfcmsfcmsfcmsmmsmmmmsfcmsfcmsmmsfcmmsmsmsmmsfmsfmmsfmsfmsmsmmsmmsfcmsfcmsmsfmsmsmmsmsfmsms'"
      ]
     },
     "execution_count": 42,
     "metadata": {},
     "output_type": "execute_result"
    }
   ],
   "source": [
    "succession = 'msfc'\n",
    "\n",
    "data = ''\n",
    "for _ in range(100):\n",
    "    stop = np.random.randint(len(succession))\n",
    "    data += succession[:stop+1]\n",
    "    \n",
    "data"
   ]
  },
  {
   "cell_type": "code",
   "execution_count": 43,
   "metadata": {},
   "outputs": [
    {
     "data": {
      "text/plain": [
       "Markov_chain(211 transitions, states=['c', 'f', 'm', 's'], step=1)"
      ]
     },
     "execution_count": 43,
     "metadata": {},
     "output_type": "execute_result"
    }
   ],
   "source": [
    "m = Markov_chain.from_sequence(data, include_self=False)\n",
    "m"
   ]
  },
  {
   "cell_type": "code",
   "execution_count": 44,
   "metadata": {},
   "outputs": [
    {
     "data": {
      "text/plain": [
       "array([[ 0. , -1.8,  3.9, -2.8],\n",
       "       [ 9. ,  0. ,  0.7, -4.3],\n",
       "       [-2.8, -4.3,  0. ,  4. ],\n",
       "       [-2.8,  5. , -2.1,  0. ]])"
      ]
     },
     "execution_count": 44,
     "metadata": {},
     "output_type": "execute_result"
    }
   ],
   "source": [
    "m.normalized_difference"
   ]
  },
  {
   "cell_type": "code",
   "execution_count": 45,
   "metadata": {},
   "outputs": [
    {
     "data": {
      "image/png": "[encoded data removed]",
      "text/plain": [
       "<Figure size 216x144 with 2 Axes>"
      ]
     },
     "metadata": {
      "needs_background": "light"
     },
     "output_type": "display_data"
    }
   ],
   "source": [
    "m.plot_norm_diff()"
   ]
  },
  {
   "cell_type": "code",
   "execution_count": 46,
   "metadata": {},
   "outputs": [
    {
     "data": {
      "image/png": "[encoded data removed]",
      "text/plain": [
       "<Figure size 432x288 with 1 Axes>"
      ]
     },
     "metadata": {},
     "output_type": "display_data"
    }
   ],
   "source": [
    "m.plot_graph()"
   ]
  },
  {
   "cell_type": "markdown",
   "metadata": {},
   "source": [
    "So the 'correct' graph emerges."
   ]
  },
  {
   "cell_type": "markdown",
   "metadata": {},
   "source": [
    "## More realistic still\n",
    "\n",
    "What if some of the transgressions are incomplete? (I.e. random start and end.)"
   ]
  },
  {
   "cell_type": "code",
   "execution_count": 47,
   "metadata": {},
   "outputs": [],
   "source": [
    "np.set_printoptions(precision=3)"
   ]
  },
  {
   "cell_type": "code",
   "execution_count": 48,
   "metadata": {},
   "outputs": [
    {
     "data": {
      "text/plain": [
       "'msffmsfmsssfcsfcsfcfffsfcsmsfmsfcmmmsfmsmsfmsfcfsfcfmsmsfmsfsfsfmssfmsfmmsffmsmsfsmfmsfmsmsmsmsmsmmsfmfmsfcsfmsfc'"
      ]
     },
     "execution_count": 48,
     "metadata": {},
     "output_type": "execute_result"
    }
   ],
   "source": [
    "data = ''\n",
    "l = len(succession)\n",
    "for _ in range(100):\n",
    "    start = np.random.randint(l)\n",
    "    length = min(l-start, np.random.randint(l))\n",
    "    data += succession[start:length+1]\n",
    "\n",
    "data"
   ]
  },
  {
   "cell_type": "code",
   "execution_count": 49,
   "metadata": {},
   "outputs": [
    {
     "data": {
      "text/plain": [
       "Markov_chain(101 transitions, states=['c', 'f', 'm', 's'], step=1)"
      ]
     },
     "execution_count": 49,
     "metadata": {},
     "output_type": "execute_result"
    }
   ],
   "source": [
    "m = Markov_chain.from_sequence(data, include_self=False)\n",
    "m"
   ]
  },
  {
   "cell_type": "code",
   "execution_count": 50,
   "metadata": {},
   "outputs": [
    {
     "data": {
      "text/plain": [
       "array([[ 0.   ,  0.144, -0.92 ,  0.101],\n",
       "       [ 4.153,  0.   ,  1.601, -2.875],\n",
       "       [-1.457, -2.616,  0.   ,  3.052],\n",
       "       [-1.845,  2.007, -1.251,  0.   ]])"
      ]
     },
     "execution_count": 50,
     "metadata": {},
     "output_type": "execute_result"
    }
   ],
   "source": [
    "m.normalized_difference"
   ]
  },
  {
   "cell_type": "code",
   "execution_count": 51,
   "metadata": {},
   "outputs": [
    {
     "data": {
      "text/plain": [
       "Chi2(chi2=56.2310540143378, crit=11.070497693516351, perc=0.9999999999271679)"
      ]
     },
     "execution_count": 51,
     "metadata": {},
     "output_type": "execute_result"
    }
   ],
   "source": [
    "m.chi_squared()"
   ]
  },
  {
   "cell_type": "code",
   "execution_count": 52,
   "metadata": {},
   "outputs": [
    {
     "name": "stdout",
     "output_type": "stream",
     "text": [
      "Chi2(chi2=48.36996, crit=11.07050, perc=0.99999)\n"
     ]
    }
   ],
   "source": [
    "print(\"Chi2(chi2=48.36996, crit=11.07050, perc=0.99999)\")"
   ]
  },
  {
   "cell_type": "code",
   "execution_count": 53,
   "metadata": {},
   "outputs": [
    {
     "data": {
      "image/png": "[encoded data removed]",
      "text/plain": [
       "<Figure size 216x144 with 2 Axes>"
      ]
     },
     "metadata": {
      "needs_background": "light"
     },
     "output_type": "display_data"
    }
   ],
   "source": [
    "m.plot_norm_diff()"
   ]
  },
  {
   "cell_type": "code",
   "execution_count": 54,
   "metadata": {},
   "outputs": [
    {
     "data": {
      "image/png": "[encoded data removed]",
      "text/plain": [
       "<Figure size 432x288 with 1 Axes>"
      ]
     },
     "metadata": {},
     "output_type": "display_data"
    }
   ],
   "source": [
    "m.plot_graph()"
   ]
  },
  {
   "cell_type": "markdown",
   "metadata": {},
   "source": [
    "## Example for Brian\n",
    "\n",
    "Based on [this conversation](https://twitter.com/clasticdetritus/status/1120713140893777920). "
   ]
  },
  {
   "cell_type": "code",
   "execution_count": 55,
   "metadata": {},
   "outputs": [],
   "source": [
    "succession = ['sub', 'inter', 'supra']"
   ]
  },
  {
   "cell_type": "code",
   "execution_count": 56,
   "metadata": {},
   "outputs": [],
   "source": [
    "data = 20 * succession"
   ]
  },
  {
   "cell_type": "code",
   "execution_count": 57,
   "metadata": {},
   "outputs": [
    {
     "data": {
      "text/plain": [
       "Markov_chain(59 transitions, states=['inter', 'sub', 'supra'], step=1)"
      ]
     },
     "execution_count": 57,
     "metadata": {},
     "output_type": "execute_result"
    }
   ],
   "source": [
    "m = Markov_chain.from_sequence(data, strings_are_states=True, include_self=False)\n",
    "m"
   ]
  },
  {
   "cell_type": "code",
   "execution_count": 58,
   "metadata": {},
   "outputs": [
    {
     "data": {
      "text/plain": [
       "array([[ 0.   , -3.19 ,  3.245],\n",
       "       [ 3.246,  0.   , -3.029],\n",
       "       [-3.189,  2.925,  0.   ]])"
      ]
     },
     "execution_count": 58,
     "metadata": {},
     "output_type": "execute_result"
    }
   ],
   "source": [
    "m.normalized_difference"
   ]
  },
  {
   "cell_type": "code",
   "execution_count": 59,
   "metadata": {},
   "outputs": [
    {
     "data": {
      "image/png": "[encoded data removed]",
      "text/plain": [
       "<Figure size 180x108 with 2 Axes>"
      ]
     },
     "metadata": {
      "needs_background": "light"
     },
     "output_type": "display_data"
    }
   ],
   "source": [
    "m.plot_norm_diff()"
   ]
  },
  {
   "cell_type": "code",
   "execution_count": 60,
   "metadata": {},
   "outputs": [
    {
     "data": {
      "image/png": "[encoded data removed]",
      "text/plain": [
       "<Figure size 432x288 with 1 Axes>"
      ]
     },
     "metadata": {},
     "output_type": "display_data"
    }
   ],
   "source": [
    "m.plot_graph()"
   ]
  },
  {
   "cell_type": "code",
   "execution_count": 61,
   "metadata": {},
   "outputs": [],
   "source": [
    "data = []\n",
    "l = len(succession)\n",
    "for _ in range(40):\n",
    "    start = np.random.randint(l)\n",
    "    length = min(l-start, np.random.randint(l))\n",
    "    data += succession[start:length+1]"
   ]
  },
  {
   "cell_type": "code",
   "execution_count": 62,
   "metadata": {},
   "outputs": [
    {
     "data": {
      "text/plain": [
       "['sub',\n",
       " 'inter',\n",
       " 'inter',\n",
       " 'sub',\n",
       " 'inter',\n",
       " 'supra',\n",
       " 'sub',\n",
       " 'inter',\n",
       " 'supra',\n",
       " 'sub',\n",
       " 'inter',\n",
       " 'supra',\n",
       " 'inter',\n",
       " 'sub',\n",
       " 'inter',\n",
       " 'supra',\n",
       " 'sub',\n",
       " 'inter',\n",
       " 'supra',\n",
       " 'inter',\n",
       " 'inter',\n",
       " 'supra',\n",
       " 'sub',\n",
       " 'inter',\n",
       " 'sub',\n",
       " 'sub',\n",
       " 'inter',\n",
       " 'inter',\n",
       " 'supra',\n",
       " 'sub',\n",
       " 'inter',\n",
       " 'supra',\n",
       " 'inter',\n",
       " 'supra',\n",
       " 'inter',\n",
       " 'sub',\n",
       " 'sub',\n",
       " 'inter',\n",
       " 'supra',\n",
       " 'sub',\n",
       " 'inter']"
      ]
     },
     "execution_count": 62,
     "metadata": {},
     "output_type": "execute_result"
    }
   ],
   "source": [
    "data"
   ]
  },
  {
   "cell_type": "code",
   "execution_count": 63,
   "metadata": {},
   "outputs": [
    {
     "data": {
      "text/plain": [
       "Markov_chain(35 transitions, states=['inter', 'sub', 'supra'], step=1)"
      ]
     },
     "execution_count": 63,
     "metadata": {},
     "output_type": "execute_result"
    }
   ],
   "source": [
    "m = Markov_chain.from_sequence(data, strings_are_states=True, include_self=False)\n",
    "m"
   ]
  },
  {
   "cell_type": "code",
   "execution_count": 64,
   "metadata": {},
   "outputs": [
    {
     "data": {
      "text/plain": [
       "array([[ 0.   , -1.385,  1.084],\n",
       "       [ 1.46 ,  0.   , -1.701],\n",
       "       [-1.101,  1.638,  0.   ]])"
      ]
     },
     "execution_count": 64,
     "metadata": {},
     "output_type": "execute_result"
    }
   ],
   "source": [
    "m.normalized_difference"
   ]
  },
  {
   "cell_type": "code",
   "execution_count": 65,
   "metadata": {},
   "outputs": [
    {
     "data": {
      "image/png": "[encoded data removed]",
      "text/plain": [
       "<Figure size 180x108 with 2 Axes>"
      ]
     },
     "metadata": {
      "needs_background": "light"
     },
     "output_type": "display_data"
    }
   ],
   "source": [
    "m.plot_norm_diff()"
   ]
  },
  {
   "cell_type": "code",
   "execution_count": 66,
   "metadata": {},
   "outputs": [
    {
     "data": {
      "image/png": "[encoded data removed]",
      "text/plain": [
       "<Figure size 432x288 with 1 Axes>"
      ]
     },
     "metadata": {},
     "output_type": "display_data"
    }
   ],
   "source": [
    "m.plot_graph()"
   ]
  },
  {
   "cell_type": "markdown",
   "metadata": {},
   "source": [
    "## From `Striplog()` instance"
   ]
  },
  {
   "cell_type": "code",
   "execution_count": 67,
   "metadata": {},
   "outputs": [
    {
     "name": "stderr",
     "output_type": "stream",
     "text": [
      "Found nonstandard LAS section: ~Parameter\n"
     ]
    },
    {
     "data": {
      "text/plain": [
       "Striplog(672 Intervals, start=1.0668, stop=1939.1376000000012)"
      ]
     },
     "execution_count": 67,
     "metadata": {},
     "output_type": "execute_result"
    }
   ],
   "source": [
    "from welly import Well\n",
    "from striplog import Striplog, Component\n",
    "\n",
    "w = Well.from_las(\"P-129_out.LAS\")\n",
    "gr = w.data['GR']\n",
    "\n",
    "comps = [Component({'lithology': 'sandstone'}),\n",
    "         Component({'lithology': 'greywacke'}),\n",
    "         Component({'lithology': 'shale'}),\n",
    "        ]\n",
    "\n",
    "s = Striplog.from_log(gr, cutoff=[30, 90], components=comps, basis=gr.basis)\n",
    "s"
   ]
  },
  {
   "cell_type": "code",
   "execution_count": 68,
   "metadata": {},
   "outputs": [
    {
     "data": {
      "image/png": "[encoded data removed]",
      "text/plain": [
       "<Figure size 108x1080 with 1 Axes>"
      ]
     },
     "metadata": {
      "needs_background": "light"
     },
     "output_type": "display_data"
    }
   ],
   "source": [
    "s.plot()"
   ]
  },
  {
   "cell_type": "code",
   "execution_count": 69,
   "metadata": {},
   "outputs": [
    {
     "data": {
      "text/plain": [
       "array([1, 1, 1, ..., 2, 2, 2])"
      ]
     },
     "execution_count": 69,
     "metadata": {},
     "output_type": "execute_result"
    }
   ],
   "source": [
    "log, z, comps = s.to_log(return_meta=True)\n",
    "log"
   ]
  },
  {
   "cell_type": "markdown",
   "metadata": {},
   "source": [
    "This is not quite what we want, because it's regularly sampled.\n",
    "\n",
    "We want the beds only."
   ]
  },
  {
   "cell_type": "code",
   "execution_count": 70,
   "metadata": {},
   "outputs": [
    {
     "data": {
      "text/html": [
       "<table><tr><td style=\"width:2em; background-color:#DDDDDD\" rowspan=\"6\"></td><td><strong>top</strong></td><td>1.0668</td></tr><tr><td><strong>primary</strong></td><td><table><tr><td><strong>lithology</strong></td><td>greywacke</td></tr></table></td></tr><tr><td><strong>summary</strong></td><td>135.79 m of greywacke</td></tr><tr><td><strong>description</strong></td><td></td></tr><tr><td><strong>data</strong></td><td><table></table></td></tr><tr><td><strong>base</strong></td><td>136.85520000000008</td></tr></table>"
      ],
      "text/plain": [
       "Interval({'top': Position({'middle': 1.0668, 'units': 'm'}), 'base': Position({'middle': 136.85520000000008, 'units': 'm'}), 'description': '', 'data': {}, 'components': [Component({'lithology': 'greywacke'})]})"
      ]
     },
     "execution_count": 70,
     "metadata": {},
     "output_type": "execute_result"
    }
   ],
   "source": [
    "s[0]"
   ]
  },
  {
   "cell_type": "code",
   "execution_count": 71,
   "metadata": {},
   "outputs": [],
   "source": [
    "seq = [i.primary.lithology for i in s]"
   ]
  },
  {
   "cell_type": "code",
   "execution_count": 72,
   "metadata": {},
   "outputs": [],
   "source": [
    "m = Markov_chain.from_sequence(seq, strings_are_states=True, include_self=False)"
   ]
  },
  {
   "cell_type": "code",
   "execution_count": 73,
   "metadata": {},
   "outputs": [
    {
     "data": {
      "text/plain": [
       "array([[ 0.   ,  0.085,  0.023],\n",
       "       [ 0.121,  0.   , -0.926],\n",
       "       [-0.008, -0.928,  0.   ]])"
      ]
     },
     "execution_count": 73,
     "metadata": {},
     "output_type": "execute_result"
    }
   ],
   "source": [
    "m.normalized_difference"
   ]
  },
  {
   "cell_type": "code",
   "execution_count": 74,
   "metadata": {},
   "outputs": [
    {
     "data": {
      "image/png": "[encoded data removed]",
      "text/plain": [
       "<Figure size 180x108 with 2 Axes>"
      ]
     },
     "metadata": {
      "needs_background": "light"
     },
     "output_type": "display_data"
    }
   ],
   "source": [
    "m.plot_norm_diff()"
   ]
  },
  {
   "cell_type": "code",
   "execution_count": 75,
   "metadata": {},
   "outputs": [
    {
     "data": {
      "image/png": "[encoded data removed]",
      "text/plain": [
       "<Figure size 432x288 with 1 Axes>"
      ]
     },
     "metadata": {},
     "output_type": "display_data"
    }
   ],
   "source": [
    "m.plot_graph()"
   ]
  },
  {
   "cell_type": "markdown",
   "metadata": {},
   "source": [
    "## Using striplog's implementation"
   ]
  },
  {
   "cell_type": "code",
   "execution_count": 76,
   "metadata": {},
   "outputs": [
    {
     "data": {
      "text/plain": [
       "'0.8.3'"
      ]
     },
     "execution_count": 76,
     "metadata": {},
     "output_type": "execute_result"
    }
   ],
   "source": [
    "import striplog\n",
    "\n",
    "striplog.__version__"
   ]
  },
  {
   "cell_type": "code",
   "execution_count": 77,
   "metadata": {},
   "outputs": [],
   "source": [
    "from striplog.markov import Markov_chain"
   ]
  },
  {
   "cell_type": "code",
   "execution_count": 78,
   "metadata": {},
   "outputs": [],
   "source": [
    "m = Markov_chain.from_sequence(seq, strings_are_states=True, include_self=False)"
   ]
  },
  {
   "cell_type": "code",
   "execution_count": 79,
   "metadata": {},
   "outputs": [
    {
     "data": {
      "image/png": "[encoded data removed]",
      "text/plain": [
       "<Figure size 180x108 with 2 Axes>"
      ]
     },
     "metadata": {
      "needs_background": "light"
     },
     "output_type": "display_data"
    }
   ],
   "source": [
    "m.plot_norm_diff()"
   ]
  },
  {
   "cell_type": "markdown",
   "metadata": {},
   "source": [
    "----\n",
    "\n",
    "&copy; Agile Scientific 2019, licensed CC-BY / Apache 2.0, please share this work"
   ]
  }
 ],
 "metadata": {
  "kernelspec": {
   "display_name": "Python 3",
   "language": "python",
   "name": "python3"
  },
  "language_info": {
   "codemirror_mode": {
    "name": "ipython",
    "version": 3
   },
   "file_extension": ".py",
   "mimetype": "text/x-python",
   "name": "python",
   "nbconvert_exporter": "python",
   "pygments_lexer": "ipython3",
   "version": "3.6.8"
  }
 },
 "nbformat": 4,
 "nbformat_minor": 2
}

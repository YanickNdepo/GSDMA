{
 "cells": [
  {
   "cell_type": "markdown",
   "metadata": {},
   "source": [
    "# Basic objects"
   ]
  },
  {
   "cell_type": "markdown",
   "metadata": {},
   "source": [
    "A `striplog` depends on a hierarchy of objects. This notebook shows the objects and their basic functionality.\n",
    "\n",
    "- [Lexicon](#Lexicon): A dictionary containing the words and word categories to use for rock descriptions.\n",
    "- [Component](#Component): A set of attributes. \n",
    "- [Interval](#Interval): One element from a Striplog — consists of a top, base, a description, one or more Components, and a source.\n",
    "\n",
    "Striplogs (a set of `Interval`s) are described in [a separate notebook](Striplog_object.ipynb).\n",
    "\n",
    "Decors and Legends are also described in [another notebook](Display_objects.ipynb)."
   ]
  },
  {
   "cell_type": "code",
   "execution_count": 43,
   "metadata": {},
   "outputs": [
    {
     "data": {
      "text/plain": [
       "'0.8.3'"
      ]
     },
     "execution_count": 43,
     "metadata": {},
     "output_type": "execute_result"
    }
   ],
   "source": [
    "import striplog\n",
    "striplog.__version__\n",
    "\n",
    "# If you get a lot of warnings here, just run it again."
   ]
  },
  {
   "cell_type": "markdown",
   "metadata": {},
   "source": [
    "<hr />"
   ]
  },
  {
   "cell_type": "markdown",
   "metadata": {},
   "source": [
    "## Lexicon"
   ]
  },
  {
   "cell_type": "code",
   "execution_count": 44,
   "metadata": {},
   "outputs": [
    {
     "ename": "SyntaxError",
     "evalue": "invalid syntax (<ipython-input-44-6a7d25e22d1b>, line 1)",
     "output_type": "error",
     "traceback": [
      "\u001b[0;36m  File \u001b[0;32m\"<ipython-input-44-6a7d25e22d1b>\"\u001b[0;36m, line \u001b[0;32m1\u001b[0m\n\u001b[0;31m    from striplog import Lexicon Striplog\u001b[0m\n\u001b[0m                                        ^\u001b[0m\n\u001b[0;31mSyntaxError\u001b[0m\u001b[0;31m:\u001b[0m invalid syntax\n"
     ]
    }
   ],
   "source": [
    "from striplog import Lexicon Striplog\n",
    "print(Lexicon.__doc__)"
   ]
  },
  {
   "cell_type": "code",
   "execution_count": null,
   "metadata": {},
   "outputs": [],
   "source": [
    "lexicon = Lexicon.default()\n",
    "lexicon"
   ]
  },
  {
   "cell_type": "code",
   "execution_count": null,
   "metadata": {},
   "outputs": [],
   "source": [
    "lexicon.synonyms"
   ]
  },
  {
   "cell_type": "markdown",
   "metadata": {},
   "source": [
    "Most of the lexicon works 'behind the scenes' when processing descriptions into `Rock` components."
   ]
  },
  {
   "cell_type": "code",
   "execution_count": null,
   "metadata": {},
   "outputs": [],
   "source": [
    "lexicon.find_synonym('Halite')"
   ]
  },
  {
   "cell_type": "code",
   "execution_count": 45,
   "metadata": {},
   "outputs": [
    {
     "data": {
      "text/plain": [
       "'greyish green sandstone with spotty gray shale'"
      ]
     },
     "execution_count": 45,
     "metadata": {},
     "output_type": "execute_result"
    }
   ],
   "source": [
    "s = \"grysh gn ss w/ sp gy sh\"\n",
    "lexicon.expand_abbreviations(s)"
   ]
  },
  {
   "cell_type": "markdown",
   "metadata": {},
   "source": [
    "<hr />"
   ]
  },
  {
   "cell_type": "markdown",
   "metadata": {},
   "source": [
    "## Component"
   ]
  },
  {
   "cell_type": "markdown",
   "metadata": {},
   "source": [
    "A set of attributes. All are optional."
   ]
  },
  {
   "cell_type": "code",
   "execution_count": 46,
   "metadata": {},
   "outputs": [],
   "source": [
    "from striplog import Component"
   ]
  },
  {
   "cell_type": "code",
   "execution_count": 47,
   "metadata": {},
   "outputs": [
    {
     "name": "stdout",
     "output_type": "stream",
     "text": [
      "\n",
      "    Initialize with a dictionary of properties. You can use any\n",
      "    properties you want e.g.:\n",
      "\n",
      "        - lithology: a simple one-word rock type\n",
      "        - colour, e.g. 'grey'\n",
      "        - grainsize or range, e.g. 'vf-f'\n",
      "        - modifier, e.g. 'rippled'\n",
      "        - quantity, e.g. '35%', or 'stringers'\n",
      "        - description, e.g. from cuttings\n",
      "    \n"
     ]
    }
   ],
   "source": [
    "print(Component.__doc__)"
   ]
  },
  {
   "cell_type": "code",
   "execution_count": null,
   "metadata": {},
   "outputs": [],
   "source": []
  },
  {
   "cell_type": "markdown",
   "metadata": {},
   "source": [
    "We define a new rock with a Python `dict` object:"
   ]
  },
  {
   "cell_type": "code",
   "execution_count": 48,
   "metadata": {},
   "outputs": [
    {
     "data": {
      "text/html": [
       "<table><tr><td><strong>colour</strong></td><td>grey</td></tr><tr><td><strong>grainsize</strong></td><td>vf-f</td></tr><tr><td><strong>lithology</strong></td><td>sand</td></tr></table>"
      ],
      "text/plain": [
       "Component({'colour': 'grey', 'grainsize': 'vf-f', 'lithology': 'sand'})"
      ]
     },
     "execution_count": 48,
     "metadata": {},
     "output_type": "execute_result"
    }
   ],
   "source": [
    "r = {'colour': 'grey',\n",
    "     'grainsize': 'vf-f',\n",
    "     'lithology': 'sand'}\n",
    "rock = Component(r)\n",
    "rock"
   ]
  },
  {
   "cell_type": "markdown",
   "metadata": {},
   "source": [
    "The Rock has a colour:"
   ]
  },
  {
   "cell_type": "code",
   "execution_count": 49,
   "metadata": {},
   "outputs": [
    {
     "data": {
      "text/plain": [
       "'grey'"
      ]
     },
     "execution_count": 49,
     "metadata": {},
     "output_type": "execute_result"
    }
   ],
   "source": [
    "rock['colour']"
   ]
  },
  {
   "cell_type": "markdown",
   "metadata": {},
   "source": [
    "And it has a summary, which is generated from its attributes. "
   ]
  },
  {
   "cell_type": "code",
   "execution_count": 50,
   "metadata": {},
   "outputs": [
    {
     "data": {
      "text/plain": [
       "'Grey, vf-f, sand'"
      ]
     },
     "execution_count": 50,
     "metadata": {},
     "output_type": "execute_result"
    }
   ],
   "source": [
    "rock.summary()"
   ]
  },
  {
   "cell_type": "markdown",
   "metadata": {},
   "source": [
    "We can format the summary if we wish:"
   ]
  },
  {
   "cell_type": "code",
   "execution_count": 51,
   "metadata": {},
   "outputs": [
    {
     "data": {
      "text/plain": [
       "'My rock: sand (grey, VF-F)'"
      ]
     },
     "execution_count": 51,
     "metadata": {},
     "output_type": "execute_result"
    }
   ],
   "source": [
    "rock.summary(fmt=\"My rock: {lithology} ({colour}, {grainsize!u})\")"
   ]
  },
  {
   "cell_type": "markdown",
   "metadata": {},
   "source": [
    "The formatting supports the usual `s`, `r`, and `a`: \n",
    "\n",
    "* `s`: `str`\n",
    "* `r`: `repr`\n",
    "* `a`: `ascii`\n",
    "\n",
    "Also some string functions:\n",
    "\n",
    "* `u`: `str.upper`\n",
    "* `l`: `str.lower`\n",
    "* `c`: `str.capitalize`\n",
    "* `t`: `str.title`\n",
    "\n",
    "And some numerical ones, for arrays of numbers:\n",
    "\n",
    "* `+` or `∑`: `np.sum`\n",
    "* `m` or `µ`: `np.mean`\n",
    "* `v`: `np.var`\n",
    "* `d`: `np.std`\n",
    "* `x`: `np.product`"
   ]
  },
  {
   "cell_type": "code",
   "execution_count": 52,
   "metadata": {},
   "outputs": [
    {
     "data": {
      "text/plain": [
       "'The SAND is _.'"
      ]
     },
     "execution_count": 52,
     "metadata": {},
     "output_type": "execute_result"
    }
   ],
   "source": [
    "x = {'colour': ['Grey', 'Brown'],\n",
    "     'bogosity': [0.45, 0.51, 0.66],\n",
    "     'porosity': [0.2003, 0.1998, 0.2112, 0.2013, 0.1990],\n",
    "     'grainsize': 'VF-F',\n",
    "     'lithology': 'Sand',\n",
    "     }\n",
    "\n",
    "X = Component(x)\n",
    "\n",
    "# This is not working at the moment.\n",
    "#fmt  = 'The {colour[0]!u} {lithology!u} has a total of {bogosity!∑:.2f} bogons'\n",
    "#fmt += 'and a mean porosity of {porosity!µ:2.0%}.'\n",
    "\n",
    "fmt  = 'The {lithology!u} is {colour[0]!u}.'\n",
    "\n",
    "X.summary(fmt)"
   ]
  },
  {
   "cell_type": "code",
   "execution_count": 53,
   "metadata": {},
   "outputs": [
    {
     "data": {
      "text/plain": [
       "'{\"grainsize\": \"VF-F\", \"lithology\": \"Sand\"}'"
      ]
     },
     "execution_count": 53,
     "metadata": {},
     "output_type": "execute_result"
    }
   ],
   "source": [
    "X.json()"
   ]
  },
  {
   "cell_type": "markdown",
   "metadata": {},
   "source": [
    "We can compare rocks with the usual `==` operator: "
   ]
  },
  {
   "cell_type": "code",
   "execution_count": 54,
   "metadata": {},
   "outputs": [
    {
     "data": {
      "text/plain": [
       "True"
      ]
     },
     "execution_count": 54,
     "metadata": {},
     "output_type": "execute_result"
    }
   ],
   "source": [
    "rock2 = Component({'grainsize': 'VF-F',\n",
    "                   'colour': 'Grey',\n",
    "                   'lithology': 'Sand'})\n",
    "rock == rock2"
   ]
  },
  {
   "cell_type": "code",
   "execution_count": 55,
   "metadata": {},
   "outputs": [
    {
     "data": {
      "text/html": [
       "<table><tr><td><strong>colour</strong></td><td>grey</td></tr><tr><td><strong>grainsize</strong></td><td>vf-f</td></tr><tr><td><strong>lithology</strong></td><td>sand</td></tr></table>"
      ],
      "text/plain": [
       "Component({'colour': 'grey', 'grainsize': 'vf-f', 'lithology': 'sand'})"
      ]
     },
     "execution_count": 55,
     "metadata": {},
     "output_type": "execute_result"
    }
   ],
   "source": [
    "rock"
   ]
  },
  {
   "cell_type": "markdown",
   "metadata": {},
   "source": [
    "In order to create a Component object from text, we need a lexicon to compare the text against. The lexicon describes the language we want to extract, and what it means."
   ]
  },
  {
   "cell_type": "code",
   "execution_count": 56,
   "metadata": {},
   "outputs": [
    {
     "data": {
      "text/html": [
       "<table><tr><td><strong>lithology</strong></td><td>sandstone</td></tr><tr><td><strong>grainsize</strong></td><td>fine</td></tr><tr><td><strong>colour</strong></td><td>grey</td></tr></table>"
      ],
      "text/plain": [
       "Component({'lithology': 'sandstone', 'grainsize': 'fine', 'colour': 'grey'})"
      ]
     },
     "execution_count": 56,
     "metadata": {},
     "output_type": "execute_result"
    }
   ],
   "source": [
    "rock3 = Component.from_text('Grey fine sandstone.', lexicon)\n",
    "rock3"
   ]
  },
  {
   "cell_type": "markdown",
   "metadata": {},
   "source": [
    "Components support double-star-unpacking:"
   ]
  },
  {
   "cell_type": "code",
   "execution_count": 57,
   "metadata": {},
   "outputs": [
    {
     "data": {
      "text/plain": [
       "'My rock: sandstone (grey, fine)'"
      ]
     },
     "execution_count": 57,
     "metadata": {},
     "output_type": "execute_result"
    }
   ],
   "source": [
    "\"My rock: {lithology} ({colour}, {grainsize})\".format(**rock3)"
   ]
  },
  {
   "cell_type": "markdown",
   "metadata": {},
   "source": [
    "<hr />"
   ]
  },
  {
   "cell_type": "markdown",
   "metadata": {},
   "source": [
    "## Position\n",
    "\n",
    "Positions define points in the earth, like a top, but with uncertainty. You can define:\n",
    "\n",
    "* `upper` — the highest possible location\n",
    "* `middle` — the most likely location\n",
    "* `lower` — the lowest possible location\n",
    "* `units` — the units of measurement\n",
    "* `x` and `y` — the _x_ and _y_ location (these don't have uncertainty, sorry)\n",
    "* `meta` — a Python dictionary containing anything you want\n",
    "\n",
    "Positions don't have a 'way up'. "
   ]
  },
  {
   "cell_type": "code",
   "execution_count": 58,
   "metadata": {},
   "outputs": [
    {
     "name": "stdout",
     "output_type": "stream",
     "text": [
      "\n",
      "    Used to represent a position: a top or base.\n",
      "\n",
      "    Not sure whether to go with upper-middle-lower or z_max, z_mid, z_min.\n",
      "    Sticking to upper and lower, because ordering in Intervals is already\n",
      "    based on 'above' and 'below'.\n",
      "    \n"
     ]
    }
   ],
   "source": [
    "from striplog import Position\n",
    "print(Position.__doc__)"
   ]
  },
  {
   "cell_type": "code",
   "execution_count": 59,
   "metadata": {},
   "outputs": [
    {
     "data": {
      "text/html": [
       "<table><tr><td><strong>upper</strong></td><td>95.0</td></tr><tr><td><strong>middle</strong></td><td>100.0</td></tr><tr><td><strong>lower</strong></td><td>110.0</td></tr></table>"
      ],
      "text/plain": [
       "Position({'middle': 100.0, 'upper': 95.0, 'lower': 110.0, 'units': 'm', 'meta': <striplog.position.Meta object at 0x7f13dfe1e898>})"
      ]
     },
     "execution_count": 59,
     "metadata": {},
     "output_type": "execute_result"
    }
   ],
   "source": [
    "params = {'upper': 95,\n",
    "          'middle': 100,\n",
    "          'lower': 110,\n",
    "          'meta': {'kind': 'erosive', 'source': 'DOE'}\n",
    "          }\n",
    "\n",
    "p = Position(**params)\n",
    "p"
   ]
  },
  {
   "cell_type": "markdown",
   "metadata": {},
   "source": [
    "Even if you don't give a `middle`, you can always get `z`: the central, most likely position:"
   ]
  },
  {
   "cell_type": "code",
   "execution_count": 60,
   "metadata": {},
   "outputs": [
    {
     "data": {
      "text/html": [
       "<table><tr><td><strong>upper</strong></td><td>75.0</td></tr><tr><td><strong>middle</strong></td><td></td></tr><tr><td><strong>lower</strong></td><td>85.0</td></tr></table>"
      ],
      "text/plain": [
       "Position({'upper': 75.0, 'lower': 85.0, 'units': 'm'})"
      ]
     },
     "execution_count": 60,
     "metadata": {},
     "output_type": "execute_result"
    }
   ],
   "source": [
    "params = {'upper': 75, 'lower': 85}\n",
    "p = Position(**params)\n",
    "p"
   ]
  },
  {
   "cell_type": "code",
   "execution_count": 61,
   "metadata": {},
   "outputs": [
    {
     "data": {
      "text/plain": [
       "80.0"
      ]
     },
     "execution_count": 61,
     "metadata": {},
     "output_type": "execute_result"
    }
   ],
   "source": [
    "p.z"
   ]
  },
  {
   "cell_type": "markdown",
   "metadata": {},
   "source": [
    "<hr />"
   ]
  },
  {
   "cell_type": "markdown",
   "metadata": {},
   "source": [
    "## Interval\n",
    "\n",
    "Intervals are where it gets interesting. An interval can have:\n",
    "\n",
    "* a top\n",
    "* a base\n",
    "* a description (in natural language)\n",
    "* a list of `Component`s\n",
    "\n",
    "Intervals don't have a 'way up', it's implied by the order of `top` and `base`. "
   ]
  },
  {
   "cell_type": "code",
   "execution_count": 62,
   "metadata": {},
   "outputs": [
    {
     "name": "stdout",
     "output_type": "stream",
     "text": [
      "\n",
      "    Used to represent a lithologic or stratigraphic interval, or single point,\n",
      "    such as a sample location.\n",
      "\n",
      "    Initialize with a top (and optional base) and a description and/or\n",
      "    an ordered list of components.\n",
      "\n",
      "    Args:\n",
      "        top (float): Required top depth. Required.\n",
      "        base (float): Base depth. Optional.\n",
      "        description (str): Textual description.\n",
      "        lexicon (dict): A lexicon. See documentation. Optional unless you only\n",
      "            provide descriptions, because it's needed to extract components.\n",
      "        max_component (int): The number of components to extract. Default 1.\n",
      "        abbreviations (bool): Whether to parse for abbreviations.\n",
      "\n",
      "    TODO:\n",
      "        Seems like I should be able to instantiate like this:\n",
      "\n",
      "            ``Interval({'top': 0, 'components':[Component({'age': 'Neogene'})``s\n",
      "\n",
      "        I can get around it for now like this:\n",
      "\n",
      "            ``Interval(**{'top': 0, 'components':[Component({'age': 'Neogene'})``\n",
      "\n",
      "        Question: should Interval itself cope with only being handed 'top' and\n",
      "        either fill in down to the next or optionally create a point?\n",
      "    \n"
     ]
    }
   ],
   "source": [
    "from striplog import Interval\n",
    "print(Interval.__doc__)"
   ]
  },
  {
   "cell_type": "markdown",
   "metadata": {},
   "source": [
    "I might make an `Interval` explicitly from a Component..."
   ]
  },
  {
   "cell_type": "code",
   "execution_count": 63,
   "metadata": {},
   "outputs": [
    {
     "data": {
      "text/html": [
       "<table><tr><td style=\"width:2em; background-color:#DDDDDD\" rowspan=\"6\"></td><td><strong>top</strong></td><td>10.0</td></tr><tr><td><strong>primary</strong></td><td><table><tr><td><strong>colour</strong></td><td>grey</td></tr><tr><td><strong>grainsize</strong></td><td>vf-f</td></tr><tr><td><strong>lithology</strong></td><td>sand</td></tr></table></td></tr><tr><td><strong>summary</strong></td><td>10.00 m of grey, vf-f, sand</td></tr><tr><td><strong>description</strong></td><td></td></tr><tr><td><strong>data</strong></td><td><table></table></td></tr><tr><td><strong>base</strong></td><td>20.0</td></tr></table>"
      ],
      "text/plain": [
       "Interval({'top': Position({'middle': 10.0, 'units': 'm'}), 'base': Position({'middle': 20.0, 'units': 'm'}), 'description': '', 'data': {}, 'components': [Component({'colour': 'grey', 'grainsize': 'vf-f', 'lithology': 'sand'})]})"
      ]
     },
     "execution_count": 63,
     "metadata": {},
     "output_type": "execute_result"
    }
   ],
   "source": [
    "Interval(10, 20, components=[rock])"
   ]
  },
  {
   "cell_type": "markdown",
   "metadata": {},
   "source": [
    "... or I might pass a description and a `lexicon` and Striplog will parse the description and attempt to extract structured `Component` objects from it."
   ]
  },
  {
   "cell_type": "code",
   "execution_count": 64,
   "metadata": {},
   "outputs": [
    {
     "data": {
      "text/plain": [
       "\"Interval({'top': Position({'middle': 20.0, 'units': 'm'}), 'base': Position({'middle': 40.0, 'units': 'm'}), 'description': 'Grey sandstone with shale flakes.', 'data': {}, 'components': [Component({'lithology': 'sandstone', 'colour': 'grey'})]})\""
      ]
     },
     "execution_count": 64,
     "metadata": {},
     "output_type": "execute_result"
    }
   ],
   "source": [
    "Interval(20, 40, \"Grey sandstone with shale flakes.\", lexicon=lexicon).__repr__()"
   ]
  },
  {
   "cell_type": "markdown",
   "metadata": {},
   "source": [
    "Notice I only got one `Component`, even though the description contains a subordinate lithology. This is the default behaviour, we have to ask for more components:"
   ]
  },
  {
   "cell_type": "code",
   "execution_count": 65,
   "metadata": {},
   "outputs": [
    {
     "name": "stdout",
     "output_type": "stream",
     "text": [
      "{'top': Position({'middle': 20.0, 'units': 'm'}), 'base': Position({'middle': 40.0, 'units': 'm'}), 'description': 'Grey sandstone with black shale flakes.', 'data': {}, 'components': [Component({'lithology': 'sandstone', 'colour': 'grey'}), Component({'lithology': 'shale', 'amount': 'flakes', 'colour': 'black'})]}\n"
     ]
    }
   ],
   "source": [
    "interval = Interval(20, 40, \"Grey sandstone with black shale flakes.\", lexicon=lexicon, max_component=2)\n",
    "print(interval)"
   ]
  },
  {
   "cell_type": "markdown",
   "metadata": {},
   "source": [
    "`Interval`s have a `primary` attribute, which holds the first component, no matter how many components there are."
   ]
  },
  {
   "cell_type": "code",
   "execution_count": 66,
   "metadata": {},
   "outputs": [
    {
     "data": {
      "text/html": [
       "<table><tr><td><strong>lithology</strong></td><td>sandstone</td></tr><tr><td><strong>colour</strong></td><td>grey</td></tr></table>"
      ],
      "text/plain": [
       "Component({'lithology': 'sandstone', 'colour': 'grey'})"
      ]
     },
     "execution_count": 66,
     "metadata": {},
     "output_type": "execute_result"
    }
   ],
   "source": [
    "interval.primary"
   ]
  },
  {
   "cell_type": "markdown",
   "metadata": {},
   "source": [
    "Ask for the summary to see the thickness and a `Rock` summary of the primary component. Note that the format code only applies to the `Rock` part of the summary."
   ]
  },
  {
   "cell_type": "code",
   "execution_count": 67,
   "metadata": {},
   "outputs": [
    {
     "data": {
      "text/plain": [
       "'20.00 m of grey sandstone with black shale'"
      ]
     },
     "execution_count": 67,
     "metadata": {},
     "output_type": "execute_result"
    }
   ],
   "source": [
    "interval.summary(fmt=\"{colour} {lithology}\")"
   ]
  },
  {
   "cell_type": "markdown",
   "metadata": {},
   "source": [
    "We can change an interval's properties:"
   ]
  },
  {
   "cell_type": "code",
   "execution_count": 68,
   "metadata": {},
   "outputs": [],
   "source": [
    "interval.top = 18"
   ]
  },
  {
   "cell_type": "code",
   "execution_count": 69,
   "metadata": {},
   "outputs": [
    {
     "data": {
      "text/html": [
       "<table><tr><td style=\"width:2em; background-color:#DDDDDD\" rowspan=\"6\"></td><td><strong>top</strong></td><td>18.0</td></tr><tr><td><strong>primary</strong></td><td><table><tr><td><strong>lithology</strong></td><td>sandstone</td></tr><tr><td><strong>colour</strong></td><td>grey</td></tr></table></td></tr><tr><td><strong>summary</strong></td><td>22.00 m of sandstone, grey with shale, flakes, black</td></tr><tr><td><strong>description</strong></td><td>Grey sandstone with black shale flakes.</td></tr><tr><td><strong>data</strong></td><td><table></table></td></tr><tr><td><strong>base</strong></td><td>40.0</td></tr></table>"
      ],
      "text/plain": [
       "Interval({'top': Position({'middle': 18.0, 'units': 'm'}), 'base': Position({'middle': 40.0, 'units': 'm'}), 'description': 'Grey sandstone with black shale flakes.', 'data': {}, 'components': [Component({'lithology': 'sandstone', 'colour': 'grey'}), Component({'lithology': 'shale', 'amount': 'flakes', 'colour': 'black'})]})"
      ]
     },
     "execution_count": 69,
     "metadata": {},
     "output_type": "execute_result"
    }
   ],
   "source": [
    "interval"
   ]
  },
  {
   "cell_type": "code",
   "execution_count": 70,
   "metadata": {},
   "outputs": [
    {
     "data": {
      "text/html": [
       "<table><tr><td><strong>upper</strong></td><td>18.0</td></tr><tr><td><strong>middle</strong></td><td>18.0</td></tr><tr><td><strong>lower</strong></td><td>18.0</td></tr></table>"
      ],
      "text/plain": [
       "Position({'middle': 18.0, 'units': 'm'})"
      ]
     },
     "execution_count": 70,
     "metadata": {},
     "output_type": "execute_result"
    }
   ],
   "source": [
    "interval.top"
   ]
  },
  {
   "cell_type": "markdown",
   "metadata": {},
   "source": [
    "<hr />\n",
    "\n",
    "## Comparing and combining intervals"
   ]
  },
  {
   "cell_type": "code",
   "execution_count": 71,
   "metadata": {},
   "outputs": [],
   "source": [
    "# Depth ordered\n",
    "i1 = Interval(top=61, base=62.5, components=[Component({'lithology': 'limestone'})])\n",
    "i2 = Interval(top=62, base=63, components=[Component({'lithology': 'sandstone'})])\n",
    "i3 = Interval(top=62.5, base=63.5, components=[Component({'lithology': 'siltstone'})])\n",
    "i4 = Interval(top=63, base=64, components=[Component({'lithology': 'shale'})])\n",
    "i5 = Interval(top=63.1, base=63.4, components=[Component({'lithology': 'dolomite'})])\n",
    "\n",
    "# Elevation ordered\n",
    "i8 = Interval(top=200, base=100, components=[Component({'lithology': 'sandstone'})])\n",
    "i7 = Interval(top=150, base=50, components=[Component({'lithology': 'limestone'})])\n",
    "i6 = Interval(top=100, base=0, components=[Component({'lithology': 'siltstone'})])"
   ]
  },
  {
   "cell_type": "code",
   "execution_count": 72,
   "metadata": {},
   "outputs": [
    {
     "ename": "NameError",
     "evalue": "name 'Striplog' is not defined",
     "output_type": "error",
     "traceback": [
      "\u001b[0;31m---------------------------------------------------------------------------\u001b[0m",
      "\u001b[0;31mNameError\u001b[0m                                 Traceback (most recent call last)",
      "\u001b[0;32m<ipython-input-72-14c025f76c99>\u001b[0m in \u001b[0;36m<module>\u001b[0;34m\u001b[0m\n\u001b[0;32m----> 1\u001b[0;31m \u001b[0ms_striplog\u001b[0m\u001b[0;34m=\u001b[0m\u001b[0mStriplog\u001b[0m\u001b[0;34m(\u001b[0m\u001b[0;34m[\u001b[0m\u001b[0mi1\u001b[0m\u001b[0;34m,\u001b[0m\u001b[0mi2\u001b[0m\u001b[0;34m]\u001b[0m\u001b[0;34m)\u001b[0m\u001b[0;34m\u001b[0m\u001b[0;34m\u001b[0m\u001b[0m\n\u001b[0m\u001b[1;32m      2\u001b[0m \u001b[0;31m#s_striplog=Striplog.__init__(None,i1, source=None, order='depth')\u001b[0m\u001b[0;34m\u001b[0m\u001b[0;34m\u001b[0m\u001b[0;34m\u001b[0m\u001b[0m\n\u001b[1;32m      3\u001b[0m \u001b[0ms_striplog\u001b[0m\u001b[0;34m.\u001b[0m\u001b[0mplot\u001b[0m\u001b[0;34m(\u001b[0m\u001b[0mlegend\u001b[0m\u001b[0;34m,\u001b[0m \u001b[0mladder\u001b[0m\u001b[0;34m=\u001b[0m\u001b[0;32mTrue\u001b[0m\u001b[0;34m,\u001b[0m \u001b[0maspect\u001b[0m\u001b[0;34m=\u001b[0m\u001b[0;36m5\u001b[0m\u001b[0;34m)\u001b[0m\u001b[0;34m\u001b[0m\u001b[0;34m\u001b[0m\u001b[0m\n",
      "\u001b[0;31mNameError\u001b[0m: name 'Striplog' is not defined"
     ]
    }
   ],
   "source": [
    "s_striplog=Striplog([i1,i2])\n",
    "#s_striplog=Striplog.__init__(None,i1, source=None, order='depth')\n",
    "s_striplog.plot(legend, ladder=True, aspect=5)"
   ]
  },
  {
   "cell_type": "code",
   "execution_count": 35,
   "metadata": {},
   "outputs": [
    {
     "data": {
      "text/plain": [
       "'depth'"
      ]
     },
     "execution_count": 35,
     "metadata": {},
     "output_type": "execute_result"
    }
   ],
   "source": [
    "i2.order"
   ]
  },
  {
   "cell_type": "markdown",
   "metadata": {},
   "source": [
    "**Technical aside:** The `Interval` class is a `functools.total_ordering`, so providing `__eq__` and one other comparison (such as `__lt__`) in the class definition means that instances of the class have implicit order. So you can use `sorted` on a Striplog, for example.\n",
    "\n",
    "It wasn't clear to me whether this should compare tops (say), so that '>' might mean 'above', or if it should be keyed on thickness. I chose the former, and implemented other comparisons instead."
   ]
  },
  {
   "cell_type": "code",
   "execution_count": 36,
   "metadata": {},
   "outputs": [
    {
     "name": "stdout",
     "output_type": "stream",
     "text": [
      "False\n",
      "True\n",
      "0.30 m of dolomite\n"
     ]
    }
   ],
   "source": [
    "print(i3 == i2)  # False, they don't have the same top\n",
    "print(i1 > i4)   # True, i1 is above i4\n",
    "print(min(i1, i2, i5).summary())  # 0.3 m of dolomite"
   ]
  },
  {
   "cell_type": "code",
   "execution_count": 37,
   "metadata": {},
   "outputs": [
    {
     "data": {
      "text/plain": [
       "True"
      ]
     },
     "execution_count": 37,
     "metadata": {},
     "output_type": "execute_result"
    }
   ],
   "source": [
    "i2 > i4 > i5  # True"
   ]
  },
  {
   "cell_type": "markdown",
   "metadata": {},
   "source": [
    "We can combine intervals with the `+` operator. (However, you cannot subtract intervals.)"
   ]
  },
  {
   "cell_type": "code",
   "execution_count": 38,
   "metadata": {},
   "outputs": [
    {
     "data": {
      "text/html": [
       "<table><tr><td style=\"width:2em; background-color:#DDDDDD\" rowspan=\"6\"></td><td><strong>top</strong></td><td>62.0</td></tr><tr><td><strong>primary</strong></td><td><table><tr><td><strong>lithology</strong></td><td>sandstone</td></tr></table></td></tr><tr><td><strong>summary</strong></td><td>1.50 m of sandstone with siltstone</td></tr><tr><td><strong>description</strong></td><td>50.0% 1.00 m of siltstone with 50.0% 1.00 m of sandstone</td></tr><tr><td><strong>data</strong></td><td><table></table></td></tr><tr><td><strong>base</strong></td><td>63.5</td></tr></table>"
      ],
      "text/plain": [
       "Interval({'components': [Component({'lithology': 'sandstone'}), Component({'lithology': 'siltstone'})], 'top': Position({'middle': 62.0, 'units': 'm'}), 'data': {}, 'description': '50.0% 1.00 m of siltstone with 50.0% 1.00 m of sandstone', 'base': Position({'middle': 63.5, 'units': 'm'})})"
      ]
     },
     "execution_count": 38,
     "metadata": {},
     "output_type": "execute_result"
    }
   ],
   "source": [
    "i2 + i3"
   ]
  },
  {
   "cell_type": "markdown",
   "metadata": {},
   "source": [
    "Adding a rock adds a (minor) component and adds to the description. "
   ]
  },
  {
   "cell_type": "code",
   "execution_count": 39,
   "metadata": {},
   "outputs": [
    {
     "data": {
      "text/html": [
       "<table><tr><td style=\"width:2em; background-color:#DDDDDD\" rowspan=\"6\"></td><td><strong>top</strong></td><td>18.0</td></tr><tr><td><strong>primary</strong></td><td><table><tr><td><strong>colour</strong></td><td>grey</td></tr><tr><td><strong>lithology</strong></td><td>sandstone</td></tr></table></td></tr><tr><td><strong>summary</strong></td><td>22.00 m of grey, sandstone with flakes, black, shale with grey, fine, sandstone</td></tr><tr><td><strong>description</strong></td><td>Grey sandstone with black shale flakes. with Grey, fine, sandstone</td></tr><tr><td><strong>data</strong></td><td><table></table></td></tr><tr><td><strong>base</strong></td><td>40.0</td></tr></table>"
      ],
      "text/plain": [
       "Interval({'components': [Component({'colour': 'grey', 'lithology': 'sandstone'}), Component({'amount': 'flakes', 'colour': 'black', 'lithology': 'shale'}), Component({'colour': 'grey', 'grainsize': 'fine', 'lithology': 'sandstone'})], 'top': Position({'middle': 18.0, 'units': 'm'}), 'data': {}, 'description': 'Grey sandstone with black shale flakes. with Grey, fine, sandstone', 'base': Position({'middle': 40.0, 'units': 'm'})})"
      ]
     },
     "execution_count": 39,
     "metadata": {},
     "output_type": "execute_result"
    }
   ],
   "source": [
    "interval + rock3"
   ]
  },
  {
   "cell_type": "code",
   "execution_count": 40,
   "metadata": {},
   "outputs": [
    {
     "data": {
      "text/plain": [
       "('partially', 'containedby')"
      ]
     },
     "execution_count": 40,
     "metadata": {},
     "output_type": "execute_result"
    }
   ],
   "source": [
    "i6.relationship(i7), i5.relationship(i4)"
   ]
  },
  {
   "cell_type": "code",
   "execution_count": 41,
   "metadata": {},
   "outputs": [
    {
     "name": "stdout",
     "output_type": "stream",
     "text": [
      "True\n",
      "True\n",
      "False\n",
      "\n",
      "True\n",
      "True\n",
      "False\n",
      "\n",
      "True\n",
      "True\n",
      "False\n"
     ]
    }
   ],
   "source": [
    "print(i1.partially_overlaps(i2))  # True\n",
    "print(i2.partially_overlaps(i3))  # True\n",
    "print(i2.partially_overlaps(i4))  # False\n",
    "print()\n",
    "print(i6.partially_overlaps(i7))  # True\n",
    "print(i7.partially_overlaps(i6))  # True\n",
    "print(i6.partially_overlaps(i8))  # False\n",
    "print()\n",
    "print(i5.is_contained_by(i3))  # True\n",
    "print(i5.is_contained_by(i4))  # True\n",
    "print(i5.is_contained_by(i2))  # False"
   ]
  },
  {
   "cell_type": "code",
   "execution_count": 42,
   "metadata": {},
   "outputs": [
    {
     "data": {
      "text/plain": [
       "Striplog(3 Intervals, start=63.0, stop=65.0)"
      ]
     },
     "execution_count": 42,
     "metadata": {},
     "output_type": "execute_result"
    }
   ],
   "source": [
    "x = i4.merge(i5)\n",
    "x[-1].base = 65\n",
    "x"
   ]
  },
  {
   "cell_type": "code",
   "execution_count": 43,
   "metadata": {},
   "outputs": [
    {
     "data": {
      "text/html": [
       "<table><tr><td style=\"width:2em; background-color:#DDDDDD\" rowspan=\"6\"></td><td><strong>top</strong></td><td>62.0</td></tr><tr><td><strong>primary</strong></td><td><table><tr><td><strong>lithology</strong></td><td>sandstone</td></tr></table></td></tr><tr><td><strong>summary</strong></td><td>0.50 m of sandstone</td></tr><tr><td><strong>description</strong></td><td></td></tr><tr><td><strong>data</strong></td><td><table></table></td></tr><tr><td><strong>base</strong></td><td>62.5</td></tr></table>"
      ],
      "text/plain": [
       "Interval({'components': [Component({'lithology': 'sandstone'})], 'top': Position({'middle': 62.0, 'units': 'm'}), 'data': {}, 'description': '', 'base': Position({'middle': 62.5, 'units': 'm'})})"
      ]
     },
     "execution_count": 43,
     "metadata": {},
     "output_type": "execute_result"
    }
   ],
   "source": [
    "i1.intersect(i2, blend=False)"
   ]
  },
  {
   "cell_type": "code",
   "execution_count": 44,
   "metadata": {},
   "outputs": [
    {
     "data": {
      "text/html": [
       "<table><tr><td style=\"width:2em; background-color:#DDDDDD\" rowspan=\"6\"></td><td><strong>top</strong></td><td>62.0</td></tr><tr><td><strong>primary</strong></td><td><table><tr><td><strong>lithology</strong></td><td>limestone</td></tr></table></td></tr><tr><td><strong>summary</strong></td><td>0.50 m of limestone with sandstone</td></tr><tr><td><strong>description</strong></td><td>60.0% 1.50 m of limestone with 40.0% 1.00 m of sandstone</td></tr><tr><td><strong>data</strong></td><td><table></table></td></tr><tr><td><strong>base</strong></td><td>62.5</td></tr></table>"
      ],
      "text/plain": [
       "Interval({'components': [Component({'lithology': 'limestone'}), Component({'lithology': 'sandstone'})], 'top': Position({'middle': 62.0, 'units': 'm'}), 'data': {}, 'description': '60.0% 1.50 m of limestone with 40.0% 1.00 m of sandstone', 'base': Position({'middle': 62.5, 'units': 'm'})})"
      ]
     },
     "execution_count": 44,
     "metadata": {},
     "output_type": "execute_result"
    }
   ],
   "source": [
    "i1.intersect(i2)"
   ]
  },
  {
   "cell_type": "code",
   "execution_count": 45,
   "metadata": {},
   "outputs": [
    {
     "data": {
      "text/html": [
       "<table><tr><td style=\"width:2em; background-color:#DDDDDD\" rowspan=\"6\"></td><td><strong>top</strong></td><td>61.0</td></tr><tr><td><strong>primary</strong></td><td><table><tr><td><strong>lithology</strong></td><td>limestone</td></tr></table></td></tr><tr><td><strong>summary</strong></td><td>2.50 m of limestone with siltstone</td></tr><tr><td><strong>description</strong></td><td>60.0% 1.50 m of limestone with 40.0% 1.00 m of siltstone</td></tr><tr><td><strong>data</strong></td><td><table></table></td></tr><tr><td><strong>base</strong></td><td>63.5</td></tr></table>"
      ],
      "text/plain": [
       "Interval({'components': [Component({'lithology': 'limestone'}), Component({'lithology': 'siltstone'})], 'top': Position({'middle': 61.0, 'units': 'm'}), 'data': {}, 'description': '60.0% 1.50 m of limestone with 40.0% 1.00 m of siltstone', 'base': Position({'middle': 63.5, 'units': 'm'})})"
      ]
     },
     "execution_count": 45,
     "metadata": {},
     "output_type": "execute_result"
    }
   ],
   "source": [
    "i1.union(i3)"
   ]
  },
  {
   "cell_type": "code",
   "execution_count": 46,
   "metadata": {},
   "outputs": [
    {
     "data": {
      "text/plain": [
       "(Interval({'components': [Component({'lithology': 'siltstone'})], 'top': Position({'middle': 62.5, 'units': 'm'}), 'data': {}, 'description': '', 'base': Position({'middle': 63.1, 'units': 'm'})}),\n",
       " Interval({'components': [Component({'lithology': 'siltstone'})], 'top': Position({'middle': 63.4, 'units': 'm'}), 'data': {}, 'description': '', 'base': Position({'middle': 63.5, 'units': 'm'})}))"
      ]
     },
     "execution_count": 46,
     "metadata": {},
     "output_type": "execute_result"
    }
   ],
   "source": [
    "i3.difference(i5)"
   ]
  },
  {
   "cell_type": "markdown",
   "metadata": {},
   "source": [
    "<hr />\n",
    "\n",
    "<p style=\"color:gray\">©2015 Agile Geoscience. Licensed CC-BY. <a href=\"https://github.com/agile-geoscience/striplog\">striplog.py</a></p>"
   ]
  }
 ],
 "metadata": {
  "kernelspec": {
   "display_name": "Python 3",
   "language": "python",
   "name": "python3"
  },
  "language_info": {
   "codemirror_mode": {
    "name": "ipython",
    "version": 3
   },
   "file_extension": ".py",
   "mimetype": "text/x-python",
   "name": "python",
   "nbconvert_exporter": "python",
   "pygments_lexer": "ipython3",
   "version": "3.6.8"
  }
 },
 "nbformat": 4,
 "nbformat_minor": 1
}

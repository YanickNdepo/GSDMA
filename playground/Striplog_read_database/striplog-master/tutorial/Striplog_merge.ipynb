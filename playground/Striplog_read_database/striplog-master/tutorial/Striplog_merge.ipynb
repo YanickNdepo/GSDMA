{
 "cells": [
  {
   "cell_type": "markdown",
   "metadata": {},
   "source": [
    "# Striplog merge"
   ]
  },
  {
   "cell_type": "code",
   "execution_count": 48,
   "metadata": {},
   "outputs": [],
   "source": [
    "%matplotlib inline\n",
    "import matplotlib.pyplot as plt\n",
    "import numpy as np"
   ]
  },
  {
   "cell_type": "code",
   "execution_count": 49,
   "metadata": {},
   "outputs": [
    {
     "data": {
      "image/png": "[encoded data removed]",
      "text/plain": [
       "<IPython.core.display.Image object>"
      ]
     },
     "execution_count": 49,
     "metadata": {},
     "output_type": "execute_result"
    }
   ],
   "source": [
    "from IPython.display import Image\n",
    "Image('./merging.png')"
   ]
  },
  {
   "cell_type": "markdown",
   "metadata": {},
   "source": [
    "Other possibility is using the deepest or shallowest **base** rather than top."
   ]
  },
  {
   "cell_type": "code",
   "execution_count": 50,
   "metadata": {},
   "outputs": [],
   "source": [
    "csv = \"\"\"Top,Base,Comp Time,Comp Depth\n",
    "100,200,2,a\n",
    "110,120,1,b\n",
    "150,325,3,c\n",
    "210,225,1,d\n",
    "300,400,2,e\n",
    "350,375,3,f\n",
    "\"\"\"\n",
    "\n",
    "leg_csv = \"\"\"Colour,Comp Depth\n",
    "red,a\n",
    "orange,b\n",
    "limegreen,c\n",
    "cyan,d\n",
    "blue,e\n",
    "magenta,f\n",
    "\"\"\""
   ]
  },
  {
   "cell_type": "code",
   "execution_count": 51,
   "metadata": {},
   "outputs": [],
   "source": [
    "from striplog import Striplog, Legend\n",
    "\n",
    "s = Striplog.from_csv(text=csv)\n",
    "legend = Legend.from_csv(text=leg_csv)"
   ]
  },
  {
   "cell_type": "code",
   "execution_count": 52,
   "metadata": {},
   "outputs": [
    {
     "data": {
      "image/png": "[encoded data removed]",
      "text/plain": [
       "<Figure size 108x324 with 1 Axes>"
      ]
     },
     "metadata": {
      "needs_background": "light"
     },
     "output_type": "display_data"
    }
   ],
   "source": [
    "s.plot(legend=legend,lw=1, aspect=3)"
   ]
  },
  {
   "cell_type": "code",
   "execution_count": 53,
   "metadata": {},
   "outputs": [
    {
     "data": {
      "text/html": [
       "<table><tr><td style=\"width:2em; background-color:#DDDDDD\" rowspan=\"6\"></td><td><strong>top</strong></td><td>100.0</td></tr><tr><td><strong>primary</strong></td><td><table><tr><td><strong>time</strong></td><td>2.0</td></tr><tr><td><strong>depth</strong></td><td>a</td></tr></table></td></tr><tr><td><strong>summary</strong></td><td>100.00 m of 2.0, a</td></tr><tr><td><strong>description</strong></td><td></td></tr><tr><td><strong>data</strong></td><td><table></table></td></tr><tr><td><strong>base</strong></td><td>200.0</td></tr></table>"
      ],
      "text/plain": [
       "Interval({'top': Position({'middle': 100.0, 'units': 'm'}), 'base': Position({'middle': 200.0, 'units': 'm'}), 'description': '', 'data': {}, 'components': [Component({'time': 2.0, 'depth': 'a'})]})"
      ]
     },
     "execution_count": 53,
     "metadata": {},
     "output_type": "execute_result"
    }
   ],
   "source": [
    "s[0]"
   ]
  },
  {
   "cell_type": "markdown",
   "metadata": {},
   "source": [
    "## Merge\n",
    "\n",
    "Strategy:\n",
    "\n",
    "- **TABLE.** Make a '`table` of the tops and bases we encounter, starting at the top. We will need to know 3 things: whether it's a top or a base, the depth it's at, and which interval in the striplog it corresponds to.\n",
    "- **APPLY RULE.** Work our way down this table applying a precedence rule (shallowest, thickest, etc). This will let us build a 'stack' which records the units we're currently 'in', ordered by whatever our precendence criterion is. As we do this, we'll build a 'flat' table of non-nested/overlapping units, where every top is followed by a base.\n",
    "- **MAKE A NEW STRIPLOG** from the table.\n",
    "\n",
    "First, the table:"
   ]
  },
  {
   "cell_type": "code",
   "execution_count": 54,
   "metadata": {},
   "outputs": [
    {
     "data": {
      "text/plain": [
       "[('T', 100.0, 0),\n",
       " ('T', 110.0, 1),\n",
       " ('B', 120.0, 1),\n",
       " ('T', 150.0, 2),\n",
       " ('B', 200.0, 0),\n",
       " ('T', 210.0, 3),\n",
       " ('B', 225.0, 3),\n",
       " ('T', 300.0, 4),\n",
       " ('B', 325.0, 2),\n",
       " ('T', 350.0, 5),\n",
       " ('B', 375.0, 5),\n",
       " ('B', 400.0, 4)]"
      ]
     },
     "execution_count": 54,
     "metadata": {},
     "output_type": "execute_result"
    }
   ],
   "source": [
    "def _get_table(s):\n",
    "    \"\"\"\n",
    "    Make a 'table of the tops and bases we encounter, starting at the top.\n",
    "    We will need to know 3 things: whether it's a top or a base, the depth\n",
    "    it's at, and which interval in the striplog it corresponds to.\n",
    "    \n",
    "    Args\n",
    "        s (Striplog): A Striplog instance.\n",
    "    \n",
    "    Returns\n",
    "        list. The table as a list of tuples.\n",
    "    \"\"\"\n",
    "    table = []\n",
    "    for i, interval in enumerate(s):\n",
    "        table.append(('T', interval.top.middle, i))\n",
    "        table.append(('B', interval.base.middle, i))\n",
    "    table = sorted(table, key = lambda x: x[1])\n",
    "    return table\n",
    "\n",
    "_get_table(s)"
   ]
  },
  {
   "cell_type": "code",
   "execution_count": 55,
   "metadata": {},
   "outputs": [],
   "source": [
    "import operator\n",
    "\n",
    "def _merge_table(s, attr, reverse=False):\n",
    "    \"\"\"\n",
    "    Do the merge operation on a table, and return a new table with\n",
    "    no nesting / overlaps.\n",
    "    \n",
    "    Args\n",
    "        s (Striplog): A striplog instance.\n",
    "        attr (str): The attribute of the components you want to use.\n",
    "        reverse (bool): Whether to reverse the condition.\n",
    "    \n",
    "    Returns\n",
    "        list: The merged table    \n",
    "    \"\"\"\n",
    "\n",
    "    merged, stack = [], []\n",
    "    op = operator.le if reverse else operator.ge\n",
    "    \n",
    "    for interface in _get_table(s):\n",
    "        \n",
    "        print(stack)\n",
    "\n",
    "\n",
    "        tb, depth, idx = interface\n",
    "\n",
    "        if stack:\n",
    "            # 'this' is the top or base we're on in this loop iteration.\n",
    "            try:\n",
    "                this = getattr(s[idx], attr)\n",
    "            except AttributeError:\n",
    "                this = getattr(s[idx].primary, attr)\n",
    "            \n",
    "            # 'current' is the highest priority unit in the stack.\n",
    "            try:\n",
    "                current = getattr(s[stack[-1]], attr)\n",
    "            except AttributeError:\n",
    "                current = getattr(s[stack[-1]].primary, attr)\n",
    "            \n",
    "            # Compare 'this' to 'current' to decide what to do.\n",
    "            merge = op(this, current)\n",
    "        else:\n",
    "            merge = True\n",
    "\n",
    "        if tb == 'T':\n",
    "\n",
    "            # If this one meets the condition, merge it.\n",
    "            if merge:\n",
    "                # End the current unit, if any.\n",
    "                if stack:\n",
    "                    merged.append(('B', depth, stack[-1]))\n",
    "                # Start the new top.\n",
    "                merged.append(interface)\n",
    "\n",
    "            # Insert this unit into stack and re-sort.\n",
    "            # (This is easier than trying to insert in the right place.)\n",
    "            stack.append(idx)\n",
    "            try:\n",
    "                stack = sorted(stack, key=lambda i: getattr(s[i], attr), reverse=reverse)\n",
    "            except AttributeError:\n",
    "                stack = sorted(stack, key=lambda i: getattr(s[i].primary, attr), reverse=reverse)\n",
    "\n",
    "        elif tb == 'B':\n",
    "            have_merged = False\n",
    "\n",
    "            # If this is the current unit's base, append it to the merge.\n",
    "            if idx == stack[-1]:\n",
    "                merged.append(interface)\n",
    "                have_merged = True\n",
    "\n",
    "            # End this unit in the stack.\n",
    "            stack.remove(idx)\n",
    "\n",
    "            # Add a top for the new current unit, if any, but only if we did a merge.\n",
    "            if stack and have_merged:\n",
    "                merged.append(('T', depth, stack[-1]))\n",
    "\n",
    "    return merged"
   ]
  },
  {
   "cell_type": "markdown",
   "metadata": {},
   "source": [
    "Now we can make the merge table:"
   ]
  },
  {
   "cell_type": "code",
   "execution_count": 56,
   "metadata": {},
   "outputs": [
    {
     "name": "stdout",
     "output_type": "stream",
     "text": [
      "[]\n",
      "[0]\n",
      "[0, 1]\n",
      "[0]\n",
      "[0, 2]\n",
      "[2]\n",
      "[2, 3]\n",
      "[2]\n",
      "[2, 4]\n",
      "[4]\n",
      "[4, 5]\n",
      "[4]\n"
     ]
    },
    {
     "data": {
      "text/plain": [
       "[('T', 100.0, 0),\n",
       " ('B', 110.0, 0),\n",
       " ('T', 110.0, 1),\n",
       " ('B', 120.0, 1),\n",
       " ('T', 120.0, 0),\n",
       " ('B', 150.0, 0),\n",
       " ('T', 150.0, 2),\n",
       " ('B', 210.0, 2),\n",
       " ('T', 210.0, 3),\n",
       " ('B', 225.0, 3),\n",
       " ('T', 225.0, 2),\n",
       " ('B', 300.0, 2),\n",
       " ('T', 300.0, 4),\n",
       " ('B', 350.0, 4),\n",
       " ('T', 350.0, 5),\n",
       " ('B', 375.0, 5),\n",
       " ('T', 375.0, 4),\n",
       " ('B', 400.0, 4)]"
      ]
     },
     "execution_count": 56,
     "metadata": {},
     "output_type": "execute_result"
    }
   ],
   "source": [
    "m = _merge_table(s, \"top\")\n",
    "m"
   ]
  },
  {
   "cell_type": "markdown",
   "metadata": {},
   "source": [
    "Now we need to be able to make a new `Striplog` instance from the merge table:"
   ]
  },
  {
   "cell_type": "code",
   "execution_count": 11,
   "metadata": {},
   "outputs": [],
   "source": [
    "def _striplog_from_merge_table(s, table):\n",
    "    \"\"\"\n",
    "    Make a merge table into a Striplog instance.\n",
    "    \n",
    "    Args\n",
    "        s (Striplog): the original Striplog.\n",
    "        table (list): the list of tuples from _merge_table().\n",
    "        \n",
    "    Returns\n",
    "        Striplog. A new Striplog instance.\n",
    "    \"\"\"\n",
    "    m = []\n",
    "    for top, bot in zip(table[::2], table[1::2]):\n",
    "\n",
    "        # If zero thickness, discard.\n",
    "        if top[1] == bot[1]:\n",
    "            continue\n",
    "\n",
    "        i = s[top[2]].copy()\n",
    "        i.top = top[1]\n",
    "        i.base = bot[1]\n",
    "        m.append(i)\n",
    "\n",
    "    return Striplog(m)"
   ]
  },
  {
   "cell_type": "markdown",
   "metadata": {},
   "source": [
    "### TEST BASED ON TOP DEPTH"
   ]
  },
  {
   "cell_type": "code",
   "execution_count": 12,
   "metadata": {},
   "outputs": [
    {
     "data": {
      "image/png": "[encoded data removed]",
      "text/plain": [
       "<Figure size 108x540 with 1 Axes>"
      ]
     },
     "metadata": {
      "needs_background": "light"
     },
     "output_type": "display_data"
    }
   ],
   "source": [
    "m = _merge_table(s, 'top')\n",
    "sm = _striplog_from_merge_table(s, m)\n",
    "sm.plot(legend=legend, lw=1, aspect=5)"
   ]
  },
  {
   "cell_type": "code",
   "execution_count": 13,
   "metadata": {},
   "outputs": [
    {
     "data": {
      "text/plain": [
       "[('T', 100.0, 0),\n",
       " ('B', 200.0, 0),\n",
       " ('T', 200.0, 2),\n",
       " ('B', 325.0, 2),\n",
       " ('T', 325.0, 4),\n",
       " ('B', 400.0, 4)]"
      ]
     },
     "execution_count": 13,
     "metadata": {},
     "output_type": "execute_result"
    }
   ],
   "source": [
    "_merge_table(s, 'top', reverse=True)"
   ]
  },
  {
   "cell_type": "code",
   "execution_count": 14,
   "metadata": {},
   "outputs": [
    {
     "data": {
      "image/png": "[encoded data removed]",
      "text/plain": [
       "<Figure size 108x540 with 1 Axes>"
      ]
     },
     "metadata": {
      "needs_background": "light"
     },
     "output_type": "display_data"
    }
   ],
   "source": [
    "m = _merge_table(s, 'top', reverse=True)\n",
    "sm = _striplog_from_merge_table(s, m)\n",
    "sm.plot(legend=legend, lw=1, aspect=5)"
   ]
  },
  {
   "cell_type": "markdown",
   "metadata": {},
   "source": [
    "This looks correct."
   ]
  },
  {
   "cell_type": "markdown",
   "metadata": {},
   "source": [
    "### THICKNESS"
   ]
  },
  {
   "cell_type": "code",
   "execution_count": 15,
   "metadata": {},
   "outputs": [
    {
     "data": {
      "image/png": "[encoded data removed]",
      "text/plain": [
       "<Figure size 108x540 with 1 Axes>"
      ]
     },
     "metadata": {
      "needs_background": "light"
     },
     "output_type": "display_data"
    }
   ],
   "source": [
    "m = _merge_table(s, 'thickness')\n",
    "sm = _striplog_from_merge_table(s, m)\n",
    "sm.plot(legend=legend, lw=1, aspect=5)"
   ]
  },
  {
   "cell_type": "code",
   "execution_count": 16,
   "metadata": {},
   "outputs": [
    {
     "data": {
      "image/png": "[encoded data removed]",
      "text/plain": [
       "<Figure size 108x540 with 1 Axes>"
      ]
     },
     "metadata": {
      "needs_background": "light"
     },
     "output_type": "display_data"
    }
   ],
   "source": [
    "m = _merge_table(s, 'thickness', reverse=True)\n",
    "sm = _striplog_from_merge_table(s, m)\n",
    "sm.plot(legend=legend, lw=1, aspect=5)"
   ]
  },
  {
   "cell_type": "markdown",
   "metadata": {},
   "source": [
    "### AGE"
   ]
  },
  {
   "cell_type": "code",
   "execution_count": 17,
   "metadata": {},
   "outputs": [
    {
     "data": {
      "image/png": "[encoded data removed]",
      "text/plain": [
       "<Figure size 108x540 with 1 Axes>"
      ]
     },
     "metadata": {
      "needs_background": "light"
     },
     "output_type": "display_data"
    }
   ],
   "source": [
    "m = _merge_table(s, 'time')\n",
    "sm = _striplog_from_merge_table(s, m)\n",
    "sm.plot(legend=legend, lw=1, aspect=5)"
   ]
  },
  {
   "cell_type": "code",
   "execution_count": 18,
   "metadata": {},
   "outputs": [
    {
     "data": {
      "image/png": "[encoded data removed]",
      "text/plain": [
       "<Figure size 108x540 with 1 Axes>"
      ]
     },
     "metadata": {
      "needs_background": "light"
     },
     "output_type": "display_data"
    }
   ],
   "source": [
    "m = _merge_table(s, 'time', reverse=True)\n",
    "sm = _striplog_from_merge_table(s, m)\n",
    "sm.plot(legend=legend, lw=1, aspect=5)"
   ]
  },
  {
   "cell_type": "markdown",
   "metadata": {},
   "source": [
    "## Merge and blend"
   ]
  },
  {
   "cell_type": "code",
   "execution_count": null,
   "metadata": {},
   "outputs": [],
   "source": []
  },
  {
   "cell_type": "markdown",
   "metadata": {},
   "source": [
    "## Real data example\n",
    "\n",
    "Intervals are perforations. We want to keep the latest one."
   ]
  },
  {
   "cell_type": "code",
   "execution_count": 19,
   "metadata": {},
   "outputs": [],
   "source": [
    "from striplog import Striplog\n",
    "\n",
    "remap = {'bottom':'base','type':'comp type'}\n",
    "s = Striplog.from_csv(\"og815.csv\", remap=remap)"
   ]
  },
  {
   "cell_type": "code",
   "execution_count": 21,
   "metadata": {},
   "outputs": [],
   "source": [
    "from datetime import datetime\n",
    "\n",
    "for iv in s:\n",
    "    iv.primary.date = datetime.fromisoformat(iv.data['date'])"
   ]
  },
  {
   "cell_type": "code",
   "execution_count": 22,
   "metadata": {},
   "outputs": [
    {
     "data": {
      "text/html": [
       "<table><tr><td style=\"width:2em; background-color:#DDDDDD\" rowspan=\"6\"></td><td><strong>top</strong></td><td>1992.0</td></tr><tr><td><strong>primary</strong></td><td><table><tr><td><strong>type</strong></td><td>perforation</td></tr><tr><td><strong>date</strong></td><td>2008-06-23 00:00:00</td></tr></table></td></tr><tr><td><strong>summary</strong></td><td>13.00 m of perforation, 2008-06-23 00:00:00</td></tr><tr><td><strong>description</strong></td><td></td></tr><tr><td><strong>data</strong></td><td><table><tr><td><strong></strong></td><td>37.0</td></tr><tr><td><strong>wells</strong></td><td>OG-815</td></tr><tr><td><strong>date</strong></td><td>2008-06-23</td></tr></table></td></tr><tr><td><strong>base</strong></td><td>2005.0</td></tr></table>"
      ],
      "text/plain": [
       "Interval({'top': Position({'middle': 1992.0, 'units': 'm'}), 'base': Position({'middle': 2005.0, 'units': 'm'}), 'description': '', 'data': {'': 37.0, 'wells': 'OG-815', 'date': '2008-06-23'}, 'components': [Component({'type': 'perforation', 'date': datetime.datetime(2008, 6, 23, 0, 0)})]})"
      ]
     },
     "execution_count": 22,
     "metadata": {},
     "output_type": "execute_result"
    }
   ],
   "source": [
    "s[1]"
   ]
  },
  {
   "cell_type": "markdown",
   "metadata": {},
   "source": [
    "Make a table of interfaces:\n",
    "\n",
    "- top or base (T or B)\n",
    "- depth of interface\n",
    "- index of interval in striplog `s`\n",
    "\n",
    "Then sort the table by depth."
   ]
  },
  {
   "cell_type": "code",
   "execution_count": 28,
   "metadata": {
    "scrolled": true
   },
   "outputs": [],
   "source": [
    "m = _merge_table(s, 'top')\n",
    "sm = _striplog_from_merge_table(s, m)"
   ]
  },
  {
   "cell_type": "code",
   "execution_count": 29,
   "metadata": {},
   "outputs": [],
   "source": [
    "leg = \"\"\"colour,comp type\n",
    "limegreen,perforation\n",
    "red,squeeze\"\"\""
   ]
  },
  {
   "cell_type": "code",
   "execution_count": 31,
   "metadata": {},
   "outputs": [
    {
     "data": {
      "image/png": "[encoded data removed]",
      "text/plain": [
       "<Figure size 108x540 with 1 Axes>"
      ]
     },
     "metadata": {
      "needs_background": "light"
     },
     "output_type": "display_data"
    }
   ],
   "source": [
    "from striplog import Legend\n",
    "\n",
    "legend = Legend.from_csv(text=leg)\n",
    "\n",
    "sm.plot(legend, lw=1, aspect=5)"
   ]
  },
  {
   "cell_type": "code",
   "execution_count": 33,
   "metadata": {},
   "outputs": [],
   "source": [
    "sm.find_overlaps()"
   ]
  },
  {
   "cell_type": "code",
   "execution_count": 26,
   "metadata": {},
   "outputs": [
    {
     "ename": "NameError",
     "evalue": "name 'merged' is not defined",
     "output_type": "error",
     "traceback": [
      "\u001b[0;31m---------------------------------------------------------------------------\u001b[0m",
      "\u001b[0;31mNameError\u001b[0m                                 Traceback (most recent call last)",
      "\u001b[0;32m<ipython-input-26-85aea921961b>\u001b[0m in \u001b[0;36m<module>\u001b[0;34m\u001b[0m\n\u001b[1;32m      1\u001b[0m \u001b[0ms_merge\u001b[0m \u001b[0;34m=\u001b[0m \u001b[0;34m[\u001b[0m\u001b[0;34m]\u001b[0m\u001b[0;34m\u001b[0m\u001b[0;34m\u001b[0m\u001b[0m\n\u001b[0;32m----> 2\u001b[0;31m \u001b[0;32mfor\u001b[0m \u001b[0mtop\u001b[0m\u001b[0;34m,\u001b[0m \u001b[0mbot\u001b[0m \u001b[0;32min\u001b[0m \u001b[0mzip\u001b[0m\u001b[0;34m(\u001b[0m\u001b[0mmerged\u001b[0m\u001b[0;34m[\u001b[0m\u001b[0;34m:\u001b[0m\u001b[0;34m:\u001b[0m\u001b[0;36m2\u001b[0m\u001b[0;34m]\u001b[0m\u001b[0;34m,\u001b[0m \u001b[0mmerged\u001b[0m\u001b[0;34m[\u001b[0m\u001b[0;36m1\u001b[0m\u001b[0;34m:\u001b[0m\u001b[0;34m:\u001b[0m\u001b[0;36m2\u001b[0m\u001b[0;34m]\u001b[0m\u001b[0;34m)\u001b[0m\u001b[0;34m:\u001b[0m\u001b[0;34m\u001b[0m\u001b[0;34m\u001b[0m\u001b[0m\n\u001b[0m\u001b[1;32m      3\u001b[0m     \u001b[0;31m# If zero thickness, discard.\u001b[0m\u001b[0;34m\u001b[0m\u001b[0;34m\u001b[0m\u001b[0;34m\u001b[0m\u001b[0m\n\u001b[1;32m      4\u001b[0m     \u001b[0;32mif\u001b[0m \u001b[0mtop\u001b[0m\u001b[0;34m[\u001b[0m\u001b[0;36m1\u001b[0m\u001b[0;34m]\u001b[0m \u001b[0;34m==\u001b[0m \u001b[0mbot\u001b[0m\u001b[0;34m[\u001b[0m\u001b[0;36m1\u001b[0m\u001b[0;34m]\u001b[0m\u001b[0;34m:\u001b[0m\u001b[0;34m\u001b[0m\u001b[0;34m\u001b[0m\u001b[0m\n\u001b[1;32m      5\u001b[0m         \u001b[0;32mcontinue\u001b[0m\u001b[0;34m\u001b[0m\u001b[0;34m\u001b[0m\u001b[0m\n",
      "\u001b[0;31mNameError\u001b[0m: name 'merged' is not defined"
     ]
    }
   ],
   "source": [
    "s_merge = []\n",
    "for top, bot in zip(merged[::2], merged[1::2]):\n",
    "    # If zero thickness, discard.\n",
    "    if top[1] == bot[1]:\n",
    "        continue\n",
    "    i = s[top[2]].copy()\n",
    "    i.top = top[1]\n",
    "    i.base = bot[1]\n",
    "    s_merge.append(i)\n",
    "\n",
    "m = Striplog(s_merge)"
   ]
  },
  {
   "cell_type": "markdown",
   "metadata": {},
   "source": [
    "There aren't any! Good &mdash; this striplog should be 'flat'. "
   ]
  },
  {
   "cell_type": "code",
   "execution_count": 34,
   "metadata": {},
   "outputs": [
    {
     "name": "stdout",
     "output_type": "stream",
     "text": [
      "Top,Base,Component\r\n",
      "1986.0,1992.0,\"Perforation, 2008-06-24 00:00:00\"\r\n",
      "1992.0,1995.0,\"Perforation, 2008-06-23 00:00:00\"\r\n",
      "1995.0,2000.0,\"Perforation, 2015-11-14 00:00:00\"\r\n",
      "2000.0,2010.0,\"Perforation, 2018-07-31 00:00:00\"\r\n",
      "2018.0,2023.0,\"Perforation, 2009-10-23 00:00:00\"\r\n",
      "2037.0,2053.0,\"Perforation, 2009-10-23 00:00:00\"\r\n",
      "2100.0,2105.0,\"Perforation, 2018-07-31 00:00:00\"\r\n",
      "2112.0,2119.0,\"Perforation, 2008-04-28 00:00:00\"\r\n",
      "2119.0,2127.0,\"Perforation, 2008-04-28 00:00:00\"\r\n",
      "2132.0,2136.0,\"Perforation, 2012-05-30 00:00:00\"\r\n",
      "2136.0,2141.0,\"Perforation, 2002-06-05 00:00:00\"\r\n",
      "2180.0,2183.0,\"Perforation, 2015-11-14 00:00:00\"\r\n",
      "2183.0,2185.0,\"Perforation, 2012-05-30 00:00:00\"\r\n",
      "2185.0,2189.0,\"Perforation, 2002-06-03 00:00:00\"\r\n",
      "2189.0,2192.0,\"Perforation, 2015-11-13 00:00:00\"\r\n",
      "2192.0,2195.0,\"Perforation, 2002-05-26 00:00:00\"\r\n",
      "2243.0,2245.0,\"Perforation, 2012-05-29 00:00:00\"\r\n",
      "2245.0,2246.0,\"Squeeze, 2008-04-28 00:00:00\"\r\n",
      "2246.0,2250.0,\"Squeeze, 2002-06-03 00:00:00\"\r\n",
      "2255.0,2258.0,\"Squeeze, 2008-04-28 00:00:00\"\r\n",
      "2258.0,2260.0,\"Squeeze, 1998-02-22 00:00:00\"\r\n",
      "2260.0,2263.0,\"Squeeze, 2002-06-03 00:00:00\"\r\n",
      "2263.0,2266.0,\"Perforation, 2006-07-19 00:00:00\"\r\n",
      "2266.0,2270.0,\"Squeeze, 2002-06-03 00:00:00\"\r\n",
      "2292.0,2298.0,\"Squeeze, 2002-06-03 00:00:00\"\r\n",
      "2310.0,2320.0,\"Squeeze, 2002-06-03 00:00:00\"\r\n",
      "2344.0,2348.0,\"Squeeze, 1976-05-28 00:00:00\"\r\n",
      "2352.0,2362.0,\"Squeeze, 1976-05-28 00:00:00\"\r\n",
      "2369.0,2374.0,\"Squeeze, 1976-05-25 00:00:00\"\r\n",
      "2426.0,2431.0,\"Perforation, 1972-10-21 00:00:00\"\r\n",
      "2431.0,2439.0,\"Perforation, 1972-10-30 00:00:00\"\r\n",
      "\n"
     ]
    }
   ],
   "source": [
    "print(sm.to_csv())"
   ]
  },
  {
   "cell_type": "markdown",
   "metadata": {},
   "source": [
    "This isn't quite right for Petrel.\n",
    "\n",
    "Let's make another format."
   ]
  },
  {
   "cell_type": "code",
   "execution_count": 39,
   "metadata": {},
   "outputs": [],
   "source": [
    "def _to_petrel_csv(strip, attr, null):\n",
    "    \"\"\"\n",
    "    Make Petrel-ready CSV text for a striplog\n",
    "    \"\"\"\n",
    "    csv = \"\"\n",
    "    gap_top = 0\n",
    "    for iv in strip.merge_neighbours():\n",
    "        if iv.top.middle != gap_top:\n",
    "            csv += f\"{gap_top},{null}\\n\"\n",
    "        csv += f\"{iv.top.middle},{getattr(iv.primary, attr)}\\n\"\n",
    "        gap_top = iv.base.middle\n",
    "    csv += f\"{iv.base.middle},{null}\\n\"\n",
    "    return csv\n",
    "\n",
    "def to_petrel(fname, strip, attr, null=None):\n",
    "    \"\"\"\n",
    "    Make a Petrel-ready CSV file.\n",
    "    \n",
    "    Args\n",
    "        fname (str): the filename, including extension\n",
    "        strip (Striplog): the striplog\n",
    "        null (str): what to use for nulls\n",
    "        \n",
    "    Returns\n",
    "        None (writes file as side effect)\n",
    "    \"\"\"\n",
    "    if null is None:\n",
    "        null = \"-999.25\"\n",
    "    with open(fname, 'w') as f:\n",
    "        f.write(_to_petrel_csv(strip, attr, null))\n",
    "    return"
   ]
  },
  {
   "cell_type": "code",
   "execution_count": 40,
   "metadata": {},
   "outputs": [
    {
     "name": "stdout",
     "output_type": "stream",
     "text": [
      "0,-999.25\n",
      "1986.0,perforation\n",
      "2010.0,-999.25\n",
      "2018.0,perforation\n",
      "2023.0,-999.25\n",
      "2037.0,perforation\n",
      "2053.0,-999.25\n",
      "2100.0,perforation\n",
      "2105.0,-999.25\n",
      "2112.0,perforation\n",
      "2127.0,-999.25\n",
      "2132.0,perforation\n",
      "2141.0,-999.25\n",
      "2180.0,perforation\n",
      "2195.0,-999.25\n",
      "2243.0,perforation\n",
      "2245.0,squeeze\n",
      "2250.0,-999.25\n",
      "2255.0,squeeze\n",
      "2263.0,perforation\n",
      "2266.0,squeeze\n",
      "2270.0,-999.25\n",
      "2292.0,squeeze\n",
      "2298.0,-999.25\n",
      "2310.0,squeeze\n",
      "2320.0,-999.25\n",
      "2344.0,squeeze\n",
      "2348.0,-999.25\n",
      "2352.0,squeeze\n",
      "2362.0,-999.25\n",
      "2369.0,squeeze\n",
      "2374.0,-999.25\n",
      "2426.0,perforation\n",
      "2439.0,-999.25\n",
      "\n"
     ]
    }
   ],
   "source": [
    "print(_to_petrel_csv(sm, attr='type', null=-999.25))"
   ]
  },
  {
   "cell_type": "code",
   "execution_count": 43,
   "metadata": {},
   "outputs": [],
   "source": [
    "to_petrel(\"well_for_petrel.csv\", sm, attr='type')"
   ]
  },
  {
   "cell_type": "code",
   "execution_count": null,
   "metadata": {},
   "outputs": [],
   "source": []
  }
 ],
 "metadata": {
  "kernelspec": {
   "display_name": "Python 3",
   "language": "python",
   "name": "python3"
  },
  "language_info": {
   "codemirror_mode": {
    "name": "ipython",
    "version": 3
   },
   "file_extension": ".py",
   "mimetype": "text/x-python",
   "name": "python",
   "nbconvert_exporter": "python",
   "pygments_lexer": "ipython3",
   "version": "3.7.1"
  }
 },
 "nbformat": 4,
 "nbformat_minor": 2
}

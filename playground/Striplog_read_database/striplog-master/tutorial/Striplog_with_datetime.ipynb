{
 "cells": [
  {
   "cell_type": "markdown",
   "metadata": {},
   "source": [
    "# Striplog with datetime"
   ]
  },
  {
   "cell_type": "markdown",
   "metadata": {},
   "source": [
    "## What are datetimes?"
   ]
  },
  {
   "cell_type": "code",
   "execution_count": 14,
   "metadata": {},
   "outputs": [],
   "source": [
    "from datetime import datetime"
   ]
  },
  {
   "cell_type": "code",
   "execution_count": 35,
   "metadata": {},
   "outputs": [
    {
     "data": {
      "text/plain": [
       "datetime.datetime(2009, 12, 1, 0, 0)"
      ]
     },
     "execution_count": 35,
     "metadata": {},
     "output_type": "execute_result"
    }
   ],
   "source": [
    "d1 = datetime.fromisoformat(\"2009-12-01\")\n",
    "d1"
   ]
  },
  {
   "cell_type": "markdown",
   "metadata": {},
   "source": [
    "Or use `strptime()`:"
   ]
  },
  {
   "cell_type": "code",
   "execution_count": 36,
   "metadata": {},
   "outputs": [
    {
     "data": {
      "text/plain": [
       "datetime.datetime(2015, 7, 1, 0, 0)"
      ]
     },
     "execution_count": 36,
     "metadata": {},
     "output_type": "execute_result"
    }
   ],
   "source": [
    "d2 = datetime.strptime(\"2015-07-01\", \"%Y-%m-%d\")\n",
    "d2"
   ]
  },
  {
   "cell_type": "markdown",
   "metadata": {},
   "source": [
    "Go back to a string:"
   ]
  },
  {
   "cell_type": "code",
   "execution_count": 43,
   "metadata": {},
   "outputs": [
    {
     "data": {
      "text/plain": [
       "'2015-July-01 at 00:00:00'"
      ]
     },
     "execution_count": 43,
     "metadata": {},
     "output_type": "execute_result"
    }
   ],
   "source": [
    "d2.strftime(\"%Y-%B-%d at %H:%M:%S\")  # Note changed format string."
   ]
  },
  {
   "cell_type": "markdown",
   "metadata": {},
   "source": [
    "Time delta:"
   ]
  },
  {
   "cell_type": "code",
   "execution_count": 37,
   "metadata": {},
   "outputs": [
    {
     "data": {
      "text/plain": [
       "datetime.timedelta(days=2038)"
      ]
     },
     "execution_count": 37,
     "metadata": {},
     "output_type": "execute_result"
    }
   ],
   "source": [
    "d = d2 - d1\n",
    "d"
   ]
  },
  {
   "cell_type": "code",
   "execution_count": 17,
   "metadata": {},
   "outputs": [
    {
     "data": {
      "text/plain": [
       "2038"
      ]
     },
     "execution_count": 17,
     "metadata": {},
     "output_type": "execute_result"
    }
   ],
   "source": [
    "d.days"
   ]
  },
  {
   "cell_type": "markdown",
   "metadata": {},
   "source": [
    "Boolean operators measure time relationships:"
   ]
  },
  {
   "cell_type": "code",
   "execution_count": 18,
   "metadata": {},
   "outputs": [
    {
     "data": {
      "text/plain": [
       "True"
      ]
     },
     "execution_count": 18,
     "metadata": {},
     "output_type": "execute_result"
    }
   ],
   "source": [
    "d2 > d1  # 'greater than' means 'after'"
   ]
  },
  {
   "cell_type": "markdown",
   "metadata": {},
   "source": [
    "## Use datetime in striplog"
   ]
  },
  {
   "cell_type": "code",
   "execution_count": 72,
   "metadata": {},
   "outputs": [],
   "source": [
    "striplog_csv = \"\"\"Top,Base,Datetime,Comp Type\n",
    "500,525,2010-02-01,Perforation\n",
    "505,530,2014-08-01,Workover\n",
    "600,625,2012-02-01,Perforation\n",
    "650,675,2015-02-01,Screen\n",
    "700,725,2011-02-01,Perforation\n",
    "\"\"\""
   ]
  },
  {
   "cell_type": "code",
   "execution_count": 73,
   "metadata": {},
   "outputs": [
    {
     "data": {
      "image/png": "[encoded data removed]",
      "text/plain": [
       "<Figure size 108x432 with 1 Axes>"
      ]
     },
     "metadata": {
      "needs_background": "light"
     },
     "output_type": "display_data"
    }
   ],
   "source": [
    "from striplog import Striplog\n",
    "\n",
    "s = Striplog.from_csv(text=striplog_csv)\n",
    "s.plot(aspect=4)"
   ]
  },
  {
   "cell_type": "markdown",
   "metadata": {},
   "source": [
    "## Using a legend"
   ]
  },
  {
   "cell_type": "code",
   "execution_count": 77,
   "metadata": {},
   "outputs": [
    {
     "data": {
      "text/html": [
       "<table><tr><td style=\"width:2em; background-color:#DDDDDD\" rowspan=\"6\"></td><td><strong>top</strong></td><td>500.0</td></tr><tr><td><strong>primary</strong></td><td><table><tr><td><strong>type</strong></td><td>Perforation</td></tr></table></td></tr><tr><td><strong>summary</strong></td><td>25.00 m of Perforation</td></tr><tr><td><strong>description</strong></td><td></td></tr><tr><td><strong>data</strong></td><td><table><tr><td><strong>datetime</strong></td><td>2010-02-01</td></tr></table></td></tr><tr><td><strong>base</strong></td><td>525.0</td></tr></table>"
      ],
      "text/plain": [
       "Interval({'top': Position({'middle': 500.0, 'units': 'm'}), 'base': Position({'middle': 525.0, 'units': 'm'}), 'description': '', 'data': {'datetime': '2010-02-01'}, 'components': [Component({'type': 'Perforation'})]})"
      ]
     },
     "execution_count": 77,
     "metadata": {},
     "output_type": "execute_result"
    }
   ],
   "source": [
    "s[0]"
   ]
  },
  {
   "cell_type": "code",
   "execution_count": 75,
   "metadata": {},
   "outputs": [
    {
     "data": {
      "text/html": [
       "<table><tr><th>component</th><th>width</th><th>hatch</th><th>colour</th></tr><tr><td style=\"color:black; background-color:white\"><table><tr><td><strong>type</strong></td><td>perforation</td></tr></table></td><td style=\"color:black; background-color:white\">None</td><td style=\"color:black; background-color:white\">None</td><td style=\"color:#ffffff; background-color:#ff0000\">#ff0000</td></tr><tr><td style=\"color:black; background-color:white\"><table><tr><td><strong>type</strong></td><td>workover</td></tr></table></td><td style=\"color:black; background-color:white\">None</td><td style=\"color:black; background-color:white\">None</td><td style=\"color:#ffffff; background-color:#0000ff\">#0000ff</td></tr><tr><td style=\"color:black; background-color:white\"><table><tr><td><strong>type</strong></td><td>screen</td></tr></table></td><td style=\"color:black; background-color:white\">None</td><td style=\"color:black; background-color:white\">None</td><td style=\"color:#ffffff; background-color:#008000\">#008000</td></tr></table>"
      ],
      "text/plain": [
       "Legend(Decor({'_colour': '#ff0000', 'component': Component({'type': 'perforation'}), 'width': None, 'hatch': None})\n",
       "Decor({'_colour': '#0000ff', 'component': Component({'type': 'workover'}), 'width': None, 'hatch': None})\n",
       "Decor({'_colour': '#008000', 'component': Component({'type': 'screen'}), 'width': None, 'hatch': None}))"
      ]
     },
     "execution_count": 75,
     "metadata": {},
     "output_type": "execute_result"
    }
   ],
   "source": [
    "legend_csv = \"\"\"colour,comp type\n",
    "red,Perforation\n",
    "blue,Workover\n",
    "green,Screen\"\"\"\n",
    "\n",
    "from striplog import Legend\n",
    "\n",
    "legend = Legend.from_csv(text=legend_csv)\n",
    "legend"
   ]
  },
  {
   "cell_type": "code",
   "execution_count": 86,
   "metadata": {},
   "outputs": [
    {
     "data": {
      "image/png": "[encoded data removed]",
      "text/plain": [
       "<Figure size 288x72 with 1 Axes>"
      ]
     },
     "metadata": {
      "needs_background": "light"
     },
     "output_type": "display_data"
    },
    {
     "data": {
      "image/png": "[encoded data removed]",
      "text/plain": [
       "<Figure size 288x72 with 1 Axes>"
      ]
     },
     "metadata": {
      "needs_background": "light"
     },
     "output_type": "display_data"
    },
    {
     "data": {
      "image/png": "[encoded data removed]",
      "text/plain": [
       "<Figure size 288x72 with 1 Axes>"
      ]
     },
     "metadata": {
      "needs_background": "light"
     },
     "output_type": "display_data"
    }
   ],
   "source": [
    "legend.plot()"
   ]
  },
  {
   "cell_type": "code",
   "execution_count": 87,
   "metadata": {},
   "outputs": [
    {
     "data": {
      "image/png": "[encoded data removed]",
      "text/plain": [
       "<Figure size 108x324 with 1 Axes>"
      ]
     },
     "metadata": {
      "needs_background": "light"
     },
     "output_type": "display_data"
    }
   ],
   "source": [
    "s.plot(aspect=3, legend=legend)"
   ]
  },
  {
   "cell_type": "markdown",
   "metadata": {},
   "source": [
    "## Filtering the striplog\n",
    "\n",
    "Bit of a glitch: you can't have an empty striplog."
   ]
  },
  {
   "cell_type": "code",
   "execution_count": 88,
   "metadata": {},
   "outputs": [],
   "source": [
    "for i in s:\n",
    "    i.data['datetime'] = datetime.fromisoformat(i.data['datetime'])"
   ]
  },
  {
   "cell_type": "code",
   "execution_count": 89,
   "metadata": {},
   "outputs": [
    {
     "data": {
      "text/plain": [
       "{'datetime': datetime.datetime(2010, 2, 1, 0, 0)}"
      ]
     },
     "execution_count": 89,
     "metadata": {},
     "output_type": "execute_result"
    }
   ],
   "source": [
    "s[0].data"
   ]
  },
  {
   "cell_type": "code",
   "execution_count": 91,
   "metadata": {},
   "outputs": [
    {
     "data": {
      "application/vnd.jupyter.widget-view+json": {
       "model_id": "2695248d40844c4796f1b6ae1db47ec7",
       "version_major": 2,
       "version_minor": 0
      },
      "text/plain": [
       "interactive(children=(IntSlider(value=2013, description='year', max=2018, min=2009), Output()), _dom_classes=(…"
      ]
     },
     "metadata": {},
     "output_type": "display_data"
    }
   ],
   "source": [
    "from ipywidgets import interact\n",
    "\n",
    "@interact(year=(2009,2018,1))\n",
    "def make_plot(year):\n",
    "    y = datetime(year,1,1)\n",
    "    filt = [i for i in s if i.data['datetime'] <= y]\n",
    "    if filt:\n",
    "        Striplog(filt).plot(aspect=4, legend=legend)"
   ]
  }
 ],
 "metadata": {
  "kernelspec": {
   "display_name": "welly",
   "language": "python",
   "name": "welly"
  },
  "language_info": {
   "codemirror_mode": {
    "name": "ipython",
    "version": 3
   },
   "file_extension": ".py",
   "mimetype": "text/x-python",
   "name": "python",
   "nbconvert_exporter": "python",
   "pygments_lexer": "ipython3",
   "version": "3.7.1"
  }
 },
 "nbformat": 4,
 "nbformat_minor": 2
}

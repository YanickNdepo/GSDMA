{
 "cells": [
  {
   "cell_type": "markdown",
   "metadata": {},
   "source": [
    "# Striplog Manip\n",
    "This notebook is the striplog_basics with  \n",
    "  * Access and create Striplog objects\n",
    "\n",
    "  * Las operations\n",
    "  "
   ]
  },
  {
   "cell_type": "markdown",
   "metadata": {},
   "source": [
    "This notebooks looks at the main `striplog` object. For the basic objects it depends on, see [Basic objects](./Basic_objects.ipynb).\n",
    "\n",
    "First, import anything we might need."
   ]
  },
  {
   "cell_type": "code",
   "execution_count": 1,
   "metadata": {},
   "outputs": [
    {
     "data": {
      "text/plain": [
       "'0.8.3'"
      ]
     },
     "execution_count": 1,
     "metadata": {},
     "output_type": "execute_result"
    }
   ],
   "source": [
    "import matplotlib.pyplot as plt\n",
    "%matplotlib inline\n",
    "\n",
    "import numpy as np\n",
    "\n",
    "import striplog\n",
    "striplog.__version__\n",
    "\n",
    "# If you get a lot of warnings here, try running this block again."
   ]
  },
  {
   "cell_type": "code",
   "execution_count": 2,
   "metadata": {},
   "outputs": [],
   "source": [
    "from striplog import Legend, Lexicon, Interval, Component"
   ]
  },
  {
   "cell_type": "code",
   "execution_count": 3,
   "metadata": {},
   "outputs": [],
   "source": [
    "legend = Legend.builtin('NSDOE')\n",
    "lexicon = Lexicon.default()"
   ]
  },
  {
   "cell_type": "markdown",
   "metadata": {},
   "source": [
    "## Making a `striplog`"
   ]
  },
  {
   "cell_type": "code",
   "execution_count": 4,
   "metadata": {},
   "outputs": [
    {
     "name": "stdout",
     "output_type": "stream",
     "text": [
      "\n",
      "    A Striplog is a sequence of intervals.\n",
      "\n",
      "    We will build them from LAS files or CSVs.\n",
      "\n",
      "    Args:\n",
      "        list_of_Intervals (list): A list of Interval objects.\n",
      "        source (str): A source for the data. Default None.\n",
      "        order (str): 'auto', 'depth', 'elevation', or 'none'. Please refer to\n",
      "            the documentation for details. Best idea is to let the default\n",
      "            work. Default: 'auto'.\n",
      "    \n"
     ]
    }
   ],
   "source": [
    "from striplog import Striplog\n",
    "print(Striplog.__doc__)"
   ]
  },
  {
   "cell_type": "markdown",
   "metadata": {},
   "source": [
    "Here is one of the images we will convert into striplogs:\n",
    "\n",
    "<img src=\"M-MG-70_14.3_135.9.png\" width=50 style=\"float:left\" />"
   ]
  },
  {
   "cell_type": "code",
   "execution_count": 5,
   "metadata": {},
   "outputs": [],
   "source": [
    "imgfile = \"M-MG-70_14.3_135.9.png\""
   ]
  },
  {
   "cell_type": "code",
   "execution_count": 6,
   "metadata": {},
   "outputs": [
    {
     "name": "stderr",
     "output_type": "stream",
     "text": [
      "/home/gfa/.local/share/virtualenvs/GSDMA2019-F9ES6BKJ/lib/python3.6/site-packages/striplog/striplog.py:868: UserWarning: from_img() is deprecated; please use from_image()\n",
      "  warnings.warn(w)\n"
     ]
    },
    {
     "data": {
      "text/plain": [
       "Striplog(26 Intervals, start=14.3, stop=135.9)"
      ]
     },
     "execution_count": 6,
     "metadata": {},
     "output_type": "execute_result"
    }
   ],
   "source": [
    "strip = Striplog.from_img(imgfile, 14.3, 135.9, legend=legend)\n",
    "strip"
   ]
  },
  {
   "cell_type": "code",
   "execution_count": 7,
   "metadata": {},
   "outputs": [
    {
     "data": {
      "image/png": "[encoded data removed]",
      "text/plain": [
       "<Figure size 108x540 with 1 Axes>"
      ]
     },
     "metadata": {
      "needs_background": "light"
     },
     "output_type": "display_data"
    }
   ],
   "source": [
    "strip.plot(legend, ladder=True, aspect=5)"
   ]
  },
  {
   "cell_type": "markdown",
   "metadata": {},
   "source": [
    "## Representations of a `striplog`"
   ]
  },
  {
   "cell_type": "markdown",
   "metadata": {},
   "source": [
    "There are several ways to inspect a striplog:\n",
    "\n",
    "* **`print`** prints the contents of the striplog\n",
    "* **`top`** shows us a list of the primary lithologies in the striplog, in order of cumulative thickness\n",
    "* **`plot`** makes a plot of the striplog with coloured bars"
   ]
  },
  {
   "cell_type": "code",
   "execution_count": 8,
   "metadata": {},
   "outputs": [
    {
     "name": "stdout",
     "output_type": "stream",
     "text": [
      "{'top': Position({'middle': 14.3, 'units': 'm'}), 'base': Position({'middle': 51.24117647058824, 'units': 'm'}), 'description': '', 'data': {}, 'components': [Component({'lithology': 'anhydrite'})]}\n",
      "{'top': Position({'middle': 51.24117647058824, 'units': 'm'}), 'base': Position({'middle': 54.81764705882354, 'units': 'm'}), 'description': '', 'data': {}, 'components': [Component({'lithology': 'sandstone', 'colour': 'grey', 'grainsize': 'vf-f'})]}\n",
      "{'top': Position({'middle': 54.81764705882354, 'units': 'm'}), 'base': Position({'middle': 56.55882352941177, 'units': 'm'}), 'description': '', 'data': {}, 'components': [Component({'lithology': 'anhydrite'})]}\n",
      "{'top': Position({'middle': 56.55882352941177, 'units': 'm'}), 'base': Position({'middle': 58.86470588235295, 'units': 'm'}), 'description': '', 'data': {}, 'components': [Component({'lithology': 'dolomite'})]}\n",
      "{'top': Position({'middle': 58.86470588235295, 'units': 'm'}), 'base': Position({'middle': 60.464705882352945, 'units': 'm'}), 'description': '', 'data': {}, 'components': [Component({'lithology': 'siltstone', 'colour': 'red'})]}\n"
     ]
    }
   ],
   "source": [
    "print(strip[:5])"
   ]
  },
  {
   "cell_type": "code",
   "execution_count": 9,
   "metadata": {},
   "outputs": [
    {
     "data": {
      "text/plain": [
       "[(Component({'lithology': 'siltstone', 'colour': 'grey'}), 46.16470588235293),\n",
       " (Component({'lithology': 'anhydrite'}), 39.67058823529412),\n",
       " (Component({'lithology': 'sandstone', 'colour': 'grey', 'grainsize': 'vf-f'}),\n",
       "  19.200000000000003),\n",
       " (Component({'lithology': 'dolomite'}), 8.282352941176498),\n",
       " (Component({'lithology': 'volcanic'}), 4.42352941176469),\n",
       " (Component({'lithology': 'siltstone', 'colour': 'red'}), 2.7764705882352843),\n",
       " (Component({'lithology': 'limestone'}), 1.082352941176481)]"
      ]
     },
     "execution_count": 9,
     "metadata": {},
     "output_type": "execute_result"
    }
   ],
   "source": [
    "strip.unique"
   ]
  },
  {
   "cell_type": "markdown",
   "metadata": {},
   "source": [
    "It's easy enough to visualize this. Perhaps this should be a method..."
   ]
  },
  {
   "cell_type": "code",
   "execution_count": 10,
   "metadata": {},
   "outputs": [
    {
     "data": {
      "image/png": "[encoded data removed]",
      "text/plain": [
       "<Figure size 108x324 with 1 Axes>"
      ]
     },
     "metadata": {
      "needs_background": "light"
     },
     "output_type": "display_data"
    }
   ],
   "source": [
    "depth = 0\n",
    "list_of_int = []\n",
    "for i in strip.unique:\n",
    "    list_of_int.append(Interval(depth, depth+i[1], components=[i[0]]))\n",
    "    depth += i[1]\n",
    "\n",
    "Striplog(list_of_int).plot(legend, aspect=3)"
   ]
  },
  {
   "cell_type": "markdown",
   "metadata": {},
   "source": [
    "## Plot"
   ]
  },
  {
   "cell_type": "markdown",
   "metadata": {},
   "source": [
    "If you call `plot()` on a `Striplog` you'll get random colours (one per rock type in the striplog), and preset aspect ratio of 10.  "
   ]
  },
  {
   "cell_type": "code",
   "execution_count": 11,
   "metadata": {},
   "outputs": [
    {
     "data": {
      "image/png": "[encoded data removed]",
      "text/plain": [
       "<Figure size 108x1080 with 1 Axes>"
      ]
     },
     "metadata": {
      "needs_background": "light"
     },
     "output_type": "display_data"
    }
   ],
   "source": [
    "strip.plot()"
   ]
  },
  {
   "cell_type": "markdown",
   "metadata": {},
   "source": [
    "For more control, you can pass some parameters. You'll probably always want to pass a legend. "
   ]
  },
  {
   "cell_type": "code",
   "execution_count": 12,
   "metadata": {},
   "outputs": [
    {
     "data": {
      "image/png": "[encoded data removed]",
      "text/plain": [
       "<Figure size 108x540 with 1 Axes>"
      ]
     },
     "metadata": {
      "needs_background": "light"
     },
     "output_type": "display_data"
    }
   ],
   "source": [
    "strip.plot(legend, ladder=True, aspect=5, ticks=5)"
   ]
  },
  {
   "cell_type": "code",
   "execution_count": 13,
   "metadata": {},
   "outputs": [
    {
     "data": {
      "image/png": "[encoded data removed]",
      "text/plain": [
       "<Figure size 108x648 with 1 Axes>"
      ]
     },
     "metadata": {
      "needs_background": "light"
     },
     "output_type": "display_data"
    }
   ],
   "source": [
    "hashy_csv = \"\"\"colour,width,hatch,component colour,component grainsize,component lithology\n",
    "#dddddd,1,---,grey,,siltstone,\n",
    "#dddddd,2,xxx,,,anhydrite,\n",
    "#dddddd,3,...,grey,vf-f,sandstone,\n",
    "#dddddd,4,+--,,,dolomite,\n",
    "#dddddd,5,ooo,,,volcanic,\n",
    "#dddddd,6,---,red,,siltstone,\n",
    "#dddddd,7,,,,limestone,\n",
    "\"\"\"\n",
    "hashy = Legend.from_csv(text=hashy_csv)\n",
    "strip.plot(hashy, ladder=True, aspect=6, lw=1)"
   ]
  },
  {
   "cell_type": "markdown",
   "metadata": {},
   "source": [
    "## Manipulating a `striplog`"
   ]
  },
  {
   "cell_type": "markdown",
   "metadata": {},
   "source": [
    "Again, the object is indexable and iterable."
   ]
  },
  {
   "cell_type": "code",
   "execution_count": 14,
   "metadata": {},
   "outputs": [
    {
     "name": "stdout",
     "output_type": "stream",
     "text": [
      "{'top': Position({'middle': 14.3, 'units': 'm'}), 'base': Position({'middle': 51.24117647058824, 'units': 'm'}), 'description': '', 'data': {}, 'components': [Component({'lithology': 'anhydrite'})]}\n",
      "{'top': Position({'middle': 51.24117647058824, 'units': 'm'}), 'base': Position({'middle': 54.81764705882354, 'units': 'm'}), 'description': '', 'data': {}, 'components': [Component({'lithology': 'sandstone', 'colour': 'grey', 'grainsize': 'vf-f'})]}\n",
      "{'top': Position({'middle': 54.81764705882354, 'units': 'm'}), 'base': Position({'middle': 56.55882352941177, 'units': 'm'}), 'description': '', 'data': {}, 'components': [Component({'lithology': 'anhydrite'})]}\n"
     ]
    }
   ],
   "source": [
    "print(strip[:3])"
   ]
  },
  {
   "cell_type": "code",
   "execution_count": 15,
   "metadata": {},
   "outputs": [
    {
     "name": "stdout",
     "output_type": "stream",
     "text": [
      "Volcanic\n"
     ]
    }
   ],
   "source": [
    "print(strip[-1].primary.summary())"
   ]
  },
  {
   "cell_type": "code",
   "execution_count": 16,
   "metadata": {},
   "outputs": [
    {
     "name": "stdout",
     "output_type": "stream",
     "text": [
      "36.94 m of anhydrite\n",
      "3.58 m of sandstone, grey, vf-f\n",
      "1.74 m of anhydrite\n",
      "2.31 m of dolomite\n",
      "1.60 m of siltstone, red\n"
     ]
    }
   ],
   "source": [
    "for i in strip[:5]:\n",
    "    print(i.summary())"
   ]
  },
  {
   "cell_type": "code",
   "execution_count": 17,
   "metadata": {},
   "outputs": [
    {
     "data": {
      "text/plain": [
       "26"
      ]
     },
     "execution_count": 17,
     "metadata": {},
     "output_type": "execute_result"
    }
   ],
   "source": [
    "len(strip)"
   ]
  },
  {
   "cell_type": "code",
   "execution_count": 18,
   "metadata": {},
   "outputs": [
    {
     "data": {
      "text/plain": [
       "array([60.46470588, 61.45294118, 62.77058824, 63.94705882, 64.37058824,\n",
       "       65.07647059, 66.77058824, 71.1       ])"
      ]
     },
     "execution_count": 18,
     "metadata": {},
     "output_type": "execute_result"
    }
   ],
   "source": [
    "import numpy as np\n",
    "np.array([d.top.z for d in strip[5:13]])"
   ]
  },
  {
   "cell_type": "markdown",
   "metadata": {},
   "source": [
    "You can even index into it with an iterable, like a list of indices. The result is a striplog."
   ]
  },
  {
   "cell_type": "code",
   "execution_count": 19,
   "metadata": {},
   "outputs": [
    {
     "data": {
      "image/png": "[encoded data removed]",
      "text/plain": [
       "<Figure size 108x540 with 1 Axes>"
      ]
     },
     "metadata": {
      "needs_background": "light"
     },
     "output_type": "display_data"
    }
   ],
   "source": [
    "indices = [2,4,6]\n",
    "strip[indices].plot(legend, aspect=5)"
   ]
  },
  {
   "cell_type": "markdown",
   "metadata": {},
   "source": [
    "## Slicing and indexing"
   ]
  },
  {
   "cell_type": "markdown",
   "metadata": {},
   "source": [
    "Slicing returns a new `striplog`:"
   ]
  },
  {
   "cell_type": "code",
   "execution_count": 20,
   "metadata": {},
   "outputs": [
    {
     "data": {
      "text/plain": [
       "Striplog(2 Intervals, start=51.24117647058824, stop=56.55882352941177)"
      ]
     },
     "execution_count": 20,
     "metadata": {},
     "output_type": "execute_result"
    }
   ],
   "source": [
    "strip[1:3]"
   ]
  },
  {
   "cell_type": "code",
   "execution_count": 21,
   "metadata": {},
   "outputs": [],
   "source": [
    "rock = strip.find('sandstone')[1].components[0]\n",
    "rock2 = Component({'lithology':'shale', 'colour':'grey'})\n",
    "iv = Interval(top=300, base=350, description='', components=[rock, rock2])"
   ]
  },
  {
   "cell_type": "code",
   "execution_count": 22,
   "metadata": {},
   "outputs": [
    {
     "data": {
      "text/plain": [
       "Striplog(3 Intervals, start=129.68823529411765, stop=350.0)"
      ]
     },
     "execution_count": 22,
     "metadata": {},
     "output_type": "execute_result"
    }
   ],
   "source": [
    "strip[-3:-1] + Striplog([iv])"
   ]
  },
  {
   "cell_type": "code",
   "execution_count": 23,
   "metadata": {},
   "outputs": [
    {
     "data": {
      "image/png": "[encoded data removed]",
      "text/plain": [
       "<Figure size 108x540 with 1 Axes>"
      ]
     },
     "metadata": {
      "needs_background": "light"
     },
     "output_type": "display_data"
    }
   ],
   "source": [
    "del strip[4]\n",
    "\n",
    "strip.plot(aspect=5)"
   ]
  },
  {
   "cell_type": "markdown",
   "metadata": {},
   "source": [
    "## Read or write CSV or LAS3"
   ]
  },
  {
   "cell_type": "code",
   "execution_count": 24,
   "metadata": {},
   "outputs": [
    {
     "name": "stdout",
     "output_type": "stream",
     "text": [
      "~Lithology_Parameter\n",
      "LITH .   Striplog         : Lithology source          {S}\n",
      "LITHD.   MD               : Lithology depth reference {S}\n",
      "\n",
      "~Lithology_Definition\n",
      "LITHT.M                   : Lithology top depth       {F}\n",
      "LITHB.M                   : Lithology base depth      {F}\n",
      "LITHD.                    : Lithology description     {S}\n",
      "\n",
      "~Lithology_Data | Lithology_Definition\n",
      "14.3,51.24117647058824,Anhydrite\r\n",
      "51.24117647058824,54.81764705882354,\"Sandstone, grey, vf-f\"\r\n",
      "54.81764705882354,56.55882352941177,Anhydrite\r\n",
      "56.55882352941177,58.86470588235295,Dolomite\r\n",
      "60.464705882352945,61.45294117647059,Anhydrite\r\n",
      "61.45294117647059,62.77058823529413,\"Sandstone, grey, vf-f\"\r\n",
      "62.77058823529413,63.94705882352942,\"Siltstone, red\"\r\n",
      "63.94705882352942,64.37058823529412,Dolomite\r\n",
      "64.37058823529412,65.0764705882353,\"Siltstone, grey\"\r\n",
      "65.0764705882353,66.77058823529413,Dolomite\r\n",
      "66.77058823529413,71.10000000000001,\"Sandstone, grey, vf-f\"\r\n",
      "71.10000000000001,71.80588235294118,Dolomite\r\n",
      "71.80588235294118,81.78235294117647,\"Sandstone, grey, vf-f\"\r\n",
      "81.78235294117647,85.78235294117647,\"Siltstone, grey\"\r\n",
      "85.78235294117647,87.00588235294119,Dolomite\r\n",
      "87.00588235294119,88.51176470588236,\"Siltstone, grey\"\r\n",
      "88.51176470588236,88.98235294117647,Dolomite\r\n",
      "88.98235294117647,95.9,\"Siltstone, grey\"\r\n",
      "95.9,96.2764705882353,Dolomite\r\n",
      "96.2764705882353,104.37058823529412,\"Siltstone, grey\"\r\n",
      "104.37058823529412,104.74705882352941,Dolomite\r\n",
      "104.74705882352941,129.68823529411765,\"Siltstone, grey\"\r\n",
      "129.68823529411765,130.39411764705883,Dolomite\r\n",
      "130.39411764705883,131.47647058823532,Limestone\r\n",
      "131.47647058823532,135.9,Volcanic\r\n",
      "\n"
     ]
    }
   ],
   "source": [
    "print(strip.to_las3())"
   ]
  },
  {
   "cell_type": "code",
   "execution_count": 25,
   "metadata": {},
   "outputs": [
    {
     "data": {
      "text/plain": [
       "'Image'"
      ]
     },
     "execution_count": 25,
     "metadata": {},
     "output_type": "execute_result"
    }
   ],
   "source": [
    "strip.source"
   ]
  },
  {
   "cell_type": "code",
   "execution_count": 26,
   "metadata": {},
   "outputs": [],
   "source": [
    "csv_string = \"\"\"top, base, lithology\n",
    "  200.000,  230.329,  Anhydrite                                       \n",
    "  230.329,  233.269,  Grey vf-f sandstone                             \n",
    "  233.269,  234.700,  Anhydrite                                       \n",
    "  234.700,  236.596,  Dolomite                                        \n",
    "  236.596,  237.911,  Red siltstone                                   \n",
    "  237.911,  238.723,  Anhydrite                                       \n",
    "  238.723,  239.807,  Grey vf-f sandstone                             \n",
    "  239.807,  240.774,  Red siltstone                                   \n",
    "  240.774,  241.122,  Dolomite                                        \n",
    "  241.122,  241.702,  Grey siltstone                                  \n",
    "  241.702,  243.095,  Dolomite                                        \n",
    "  243.095,  246.654,  Grey vf-f sandstone                             \n",
    "  246.654,  247.234,  Dolomite                                        \n",
    "  247.234,  255.435,  Grey vf-f sandstone                             \n",
    "  255.435,  258.723,  Grey siltstone                                  \n",
    "  258.723,  259.729,  Dolomite                                        \n",
    "  259.729,  260.967,  Grey siltstone                                  \n",
    "  260.967,  261.354,  Dolomite                                        \n",
    "  261.354,  267.041,  Grey siltstone                                  \n",
    "  267.041,  267.350,  Dolomite                                        \n",
    "  267.350,  274.004,  Grey siltstone                                  \n",
    "  274.004,  274.313,  Dolomite                                        \n",
    "  274.313,  294.816,  Grey siltstone                                  \n",
    "  294.816,  295.397,  Dolomite                                        \n",
    "  295.397,  296.286,  Limestone                                       \n",
    "  296.286,  300.000,  Volcanic                                        \n",
    "\"\"\""
   ]
  },
  {
   "cell_type": "code",
   "execution_count": 27,
   "metadata": {},
   "outputs": [],
   "source": [
    "strip2 = Striplog.from_csv(text=csv_string, lexicon=lexicon)"
   ]
  },
  {
   "cell_type": "code",
   "execution_count": 28,
   "metadata": {},
   "outputs": [
    {
     "data": {
      "text/plain": [
       "Striplog(26 Intervals, start=200.0, stop=300.0)"
      ]
     },
     "execution_count": 28,
     "metadata": {},
     "output_type": "execute_result"
    }
   ],
   "source": [
    "strip2"
   ]
  },
  {
   "cell_type": "code",
   "execution_count": 29,
   "metadata": {},
   "outputs": [
    {
     "data": {
      "image/png": "[encoded data removed]",
      "text/plain": [
       "<Figure size 108x540 with 1 Axes>"
      ]
     },
     "metadata": {
      "needs_background": "light"
     },
     "output_type": "display_data"
    }
   ],
   "source": [
    "strip2.plot(legend, ladder=True, aspect=5)"
   ]
  },
  {
   "cell_type": "markdown",
   "metadata": {},
   "source": [
    "### With Striplog.from_csv the information is stored in \"data\" instead of Components\n",
    " * $strip2 (csv)$  {'top': Position({'middle': 200.0, 'units': 'm'}), 'base': Position({'middle': 230.329, 'units': 'm'}), 'description': '', 'data': {'lithology': 'Anhydrite'}, 'components': []}\n",
    " * $strip image$ {'top': Position({'middle': 14.3, 'units': 'm'}), 'base': Position({'middle': 51.24117647058824, 'units': 'm'}), 'description': '', 'data': {}, 'components': [Component({'lithology': 'anhydrite'})]}"
   ]
  },
  {
   "cell_type": "code",
   "execution_count": 30,
   "metadata": {
    "scrolled": true
   },
   "outputs": [
    {
     "name": "stdout",
     "output_type": "stream",
     "text": [
      "{'top': Position({'middle': 14.3, 'units': 'm'}), 'base': Position({'middle': 51.24117647058824, 'units': 'm'}), 'description': '', 'data': {}, 'components': [Component({'lithology': 'anhydrite'})]}\n",
      "{'top': Position({'middle': 51.24117647058824, 'units': 'm'}), 'base': Position({'middle': 54.81764705882354, 'units': 'm'}), 'description': '', 'data': {}, 'components': [Component({'lithology': 'sandstone', 'colour': 'grey', 'grainsize': 'vf-f'})]}\n",
      "{'top': Position({'middle': 54.81764705882354, 'units': 'm'}), 'base': Position({'middle': 56.55882352941177, 'units': 'm'}), 'description': '', 'data': {}, 'components': [Component({'lithology': 'anhydrite'})]}\n",
      "{'top': Position({'middle': 56.55882352941177, 'units': 'm'}), 'base': Position({'middle': 58.86470588235295, 'units': 'm'}), 'description': '', 'data': {}, 'components': [Component({'lithology': 'dolomite'})]}\n",
      "{'top': Position({'middle': 60.464705882352945, 'units': 'm'}), 'base': Position({'middle': 61.45294117647059, 'units': 'm'}), 'description': '', 'data': {}, 'components': [Component({'lithology': 'anhydrite'})]}\n",
      "{'top': Position({'middle': 61.45294117647059, 'units': 'm'}), 'base': Position({'middle': 62.77058823529413, 'units': 'm'}), 'description': '', 'data': {}, 'components': [Component({'lithology': 'sandstone', 'colour': 'grey', 'grainsize': 'vf-f'})]}\n",
      "{'top': Position({'middle': 62.77058823529413, 'units': 'm'}), 'base': Position({'middle': 63.94705882352942, 'units': 'm'}), 'description': '', 'data': {}, 'components': [Component({'lithology': 'siltstone', 'colour': 'red'})]}\n",
      "{'top': Position({'middle': 63.94705882352942, 'units': 'm'}), 'base': Position({'middle': 64.37058823529412, 'units': 'm'}), 'description': '', 'data': {}, 'components': [Component({'lithology': 'dolomite'})]}\n",
      "{'top': Position({'middle': 64.37058823529412, 'units': 'm'}), 'base': Position({'middle': 65.0764705882353, 'units': 'm'}), 'description': '', 'data': {}, 'components': [Component({'lithology': 'siltstone', 'colour': 'grey'})]}\n",
      "{'top': Position({'middle': 65.0764705882353, 'units': 'm'}), 'base': Position({'middle': 66.77058823529413, 'units': 'm'}), 'description': '', 'data': {}, 'components': [Component({'lithology': 'dolomite'})]}\n",
      "{'top': Position({'middle': 66.77058823529413, 'units': 'm'}), 'base': Position({'middle': 71.10000000000001, 'units': 'm'}), 'description': '', 'data': {}, 'components': [Component({'lithology': 'sandstone', 'colour': 'grey', 'grainsize': 'vf-f'})]}\n",
      "{'top': Position({'middle': 71.10000000000001, 'units': 'm'}), 'base': Position({'middle': 71.80588235294118, 'units': 'm'}), 'description': '', 'data': {}, 'components': [Component({'lithology': 'dolomite'})]}\n",
      "{'top': Position({'middle': 71.80588235294118, 'units': 'm'}), 'base': Position({'middle': 81.78235294117647, 'units': 'm'}), 'description': '', 'data': {}, 'components': [Component({'lithology': 'sandstone', 'colour': 'grey', 'grainsize': 'vf-f'})]}\n",
      "{'top': Position({'middle': 81.78235294117647, 'units': 'm'}), 'base': Position({'middle': 85.78235294117647, 'units': 'm'}), 'description': '', 'data': {}, 'components': [Component({'lithology': 'siltstone', 'colour': 'grey'})]}\n",
      "{'top': Position({'middle': 85.78235294117647, 'units': 'm'}), 'base': Position({'middle': 87.00588235294119, 'units': 'm'}), 'description': '', 'data': {}, 'components': [Component({'lithology': 'dolomite'})]}\n",
      "{'top': Position({'middle': 87.00588235294119, 'units': 'm'}), 'base': Position({'middle': 88.51176470588236, 'units': 'm'}), 'description': '', 'data': {}, 'components': [Component({'lithology': 'siltstone', 'colour': 'grey'})]}\n",
      "{'top': Position({'middle': 88.51176470588236, 'units': 'm'}), 'base': Position({'middle': 88.98235294117647, 'units': 'm'}), 'description': '', 'data': {}, 'components': [Component({'lithology': 'dolomite'})]}\n",
      "{'top': Position({'middle': 88.98235294117647, 'units': 'm'}), 'base': Position({'middle': 95.9, 'units': 'm'}), 'description': '', 'data': {}, 'components': [Component({'lithology': 'siltstone', 'colour': 'grey'})]}\n",
      "{'top': Position({'middle': 95.9, 'units': 'm'}), 'base': Position({'middle': 96.2764705882353, 'units': 'm'}), 'description': '', 'data': {}, 'components': [Component({'lithology': 'dolomite'})]}\n",
      "{'top': Position({'middle': 96.2764705882353, 'units': 'm'}), 'base': Position({'middle': 104.37058823529412, 'units': 'm'}), 'description': '', 'data': {}, 'components': [Component({'lithology': 'siltstone', 'colour': 'grey'})]}\n",
      "{'top': Position({'middle': 104.37058823529412, 'units': 'm'}), 'base': Position({'middle': 104.74705882352941, 'units': 'm'}), 'description': '', 'data': {}, 'components': [Component({'lithology': 'dolomite'})]}\n",
      "{'top': Position({'middle': 104.74705882352941, 'units': 'm'}), 'base': Position({'middle': 129.68823529411765, 'units': 'm'}), 'description': '', 'data': {}, 'components': [Component({'lithology': 'siltstone', 'colour': 'grey'})]}\n",
      "{'top': Position({'middle': 129.68823529411765, 'units': 'm'}), 'base': Position({'middle': 130.39411764705883, 'units': 'm'}), 'description': '', 'data': {}, 'components': [Component({'lithology': 'dolomite'})]}\n",
      "{'top': Position({'middle': 130.39411764705883, 'units': 'm'}), 'base': Position({'middle': 131.47647058823532, 'units': 'm'}), 'description': '', 'data': {}, 'components': [Component({'lithology': 'limestone'})]}\n",
      "{'top': Position({'middle': 131.47647058823532, 'units': 'm'}), 'base': Position({'middle': 135.9, 'units': 'm'}), 'description': '', 'data': {}, 'components': [Component({'lithology': 'volcanic'})]}\n"
     ]
    }
   ],
   "source": [
    "print(strip) "
   ]
  },
  {
   "cell_type": "code",
   "execution_count": 31,
   "metadata": {},
   "outputs": [],
   "source": [
    "s=strip[0]"
   ]
  },
  {
   "cell_type": "code",
   "execution_count": 32,
   "metadata": {},
   "outputs": [],
   "source": [
    "s.components=[striplog.Component({'lithology': 'dolomite', 'colour': 'grey'})]"
   ]
  },
  {
   "cell_type": "code",
   "execution_count": 33,
   "metadata": {},
   "outputs": [
    {
     "data": {
      "text/html": [
       "<table><tr><td style=\"width:2em; background-color:#DDDDDD\" rowspan=\"6\"></td><td><strong>top</strong></td><td>14.3</td></tr><tr><td><strong>primary</strong></td><td><table><tr><td><strong>lithology</strong></td><td>dolomite</td></tr><tr><td><strong>colour</strong></td><td>grey</td></tr></table></td></tr><tr><td><strong>summary</strong></td><td>36.94 m of dolomite, grey</td></tr><tr><td><strong>description</strong></td><td></td></tr><tr><td><strong>data</strong></td><td><table></table></td></tr><tr><td><strong>base</strong></td><td>51.24117647058824</td></tr></table>"
      ],
      "text/plain": [
       "Interval({'top': Position({'middle': 14.3, 'units': 'm'}), 'base': Position({'middle': 51.24117647058824, 'units': 'm'}), 'description': '', 'data': {}, 'components': [Component({'lithology': 'dolomite', 'colour': 'grey'})]})"
      ]
     },
     "execution_count": 33,
     "metadata": {},
     "output_type": "execute_result"
    }
   ],
   "source": [
    "s"
   ]
  },
  {
   "cell_type": "code",
   "execution_count": 34,
   "metadata": {},
   "outputs": [],
   "source": [
    "from striplog import Position\n",
    "from striplog import description\n",
    "from striplog import Component\n",
    "from striplog import Interval\n"
   ]
  },
  {
   "cell_type": "code",
   "execution_count": 35,
   "metadata": {},
   "outputs": [
    {
     "data": {
      "text/plain": [
       "striplog.component.Component"
      ]
     },
     "execution_count": 35,
     "metadata": {},
     "output_type": "execute_result"
    }
   ],
   "source": [
    "#params = {'upper': 95,\n",
    " #         'middle': 100,\n",
    "  #        'lower': 110,\n",
    "   #       'meta': {'kind': 'erosive', 'source': 'DOE'}\n",
    "    #      }\n",
    "\n",
    "#p = Position(**params)\n",
    "#p\n",
    "Position\n",
    "description\n",
    "Component"
   ]
  },
  {
   "cell_type": "markdown",
   "metadata": {},
   "source": [
    "## Striplog = list of Intervals"
   ]
  },
  {
   "cell_type": "markdown",
   "metadata": {},
   "source": [
    "### Init signature:\n",
    " Interval(\n",
    "    top,\n",
    "    base=None,\n",
    "    description='',\n",
    "    lexicon=None,\n",
    "    data=None,\n",
    "    components=None,\n",
    "    max_component=1,\n",
    "    abbreviations=False,\n",
    ")"
   ]
  },
  {
   "cell_type": "code",
   "execution_count": 36,
   "metadata": {},
   "outputs": [],
   "source": [
    "? Striplog"
   ]
  },
  {
   "cell_type": "code",
   "execution_count": 39,
   "metadata": {},
   "outputs": [],
   "source": [
    "st0 = strip2[0]"
   ]
  },
  {
   "cell_type": "code",
   "execution_count": 40,
   "metadata": {
    "scrolled": true
   },
   "outputs": [
    {
     "data": {
      "text/html": [
       "<table><tr><td style=\"width:2em; background-color:#DDDDDD\" rowspan=\"6\"></td><td><strong>top</strong></td><td>230.329</td></tr><tr><td><strong>primary</strong></td><td>None</td></tr><tr><td><strong>summary</strong></td><td>None</td></tr><tr><td><strong>description</strong></td><td></td></tr><tr><td><strong>data</strong></td><td><table><tr><td><strong>lithology</strong></td><td>Grey vf-f sandstone</td></tr></table></td></tr><tr><td><strong>base</strong></td><td>233.269</td></tr></table>"
      ],
      "text/plain": [
       "Interval({'top': Position({'middle': 230.329, 'units': 'm'}), 'base': Position({'middle': 233.269, 'units': 'm'}), 'description': '', 'data': {'lithology': 'Grey vf-f sandstone'}, 'components': []})"
      ]
     },
     "execution_count": 40,
     "metadata": {},
     "output_type": "execute_result"
    }
   ],
   "source": [
    "strip2[1]\n"
   ]
  },
  {
   "cell_type": "code",
   "execution_count": null,
   "metadata": {},
   "outputs": [],
   "source": []
  },
  {
   "cell_type": "code",
   "execution_count": 41,
   "metadata": {},
   "outputs": [],
   "source": [
    "? Component"
   ]
  },
  {
   "cell_type": "code",
   "execution_count": 42,
   "metadata": {},
   "outputs": [
    {
     "data": {
      "text/html": [
       "<table><tr><td><strong>upper</strong></td><td>200.0</td></tr><tr><td><strong>middle</strong></td><td>200.0</td></tr><tr><td><strong>lower</strong></td><td>200.0</td></tr></table>"
      ],
      "text/plain": [
       "Position({'middle': 200.0, 'units': 'm'})"
      ]
     },
     "execution_count": 42,
     "metadata": {},
     "output_type": "execute_result"
    }
   ],
   "source": [
    "st0.top"
   ]
  },
  {
   "cell_type": "code",
   "execution_count": 43,
   "metadata": {},
   "outputs": [
    {
     "data": {
      "text/plain": [
       "[]"
      ]
     },
     "execution_count": 43,
     "metadata": {},
     "output_type": "execute_result"
    }
   ],
   "source": [
    "st0.components"
   ]
  },
  {
   "cell_type": "code",
   "execution_count": 44,
   "metadata": {},
   "outputs": [],
   "source": [
    "for i in strip2:\n",
    "    (i.components) = (i.data)"
   ]
  },
  {
   "cell_type": "code",
   "execution_count": 45,
   "metadata": {},
   "outputs": [],
   "source": [
    "? Striplog.from_csv"
   ]
  },
  {
   "cell_type": "markdown",
   "metadata": {},
   "source": [
    "##  iterate through dic"
   ]
  },
  {
   "cell_type": "code",
   "execution_count": 46,
   "metadata": {},
   "outputs": [],
   "source": [
    "s0 = strip[0]"
   ]
  },
  {
   "cell_type": "code",
   "execution_count": 49,
   "metadata": {},
   "outputs": [],
   "source": [
    "#st0"
   ]
  },
  {
   "cell_type": "code",
   "execution_count": 50,
   "metadata": {},
   "outputs": [
    {
     "data": {
      "text/plain": [
       "Striplog(26 Intervals, start=200.0, stop=300.0)"
      ]
     },
     "execution_count": 50,
     "metadata": {},
     "output_type": "execute_result"
    }
   ],
   "source": [
    "strip2"
   ]
  },
  {
   "cell_type": "code",
   "execution_count": 51,
   "metadata": {},
   "outputs": [],
   "source": [
    "? Interval"
   ]
  },
  {
   "cell_type": "code",
   "execution_count": 52,
   "metadata": {},
   "outputs": [
    {
     "data": {
      "text/html": [
       "<table><tr><td style=\"width:2em; background-color:#DDDDDD\" rowspan=\"6\"></td><td><strong>top</strong></td><td>14.3</td></tr><tr><td><strong>primary</strong></td><td><table><tr><td><strong>lithology</strong></td><td>dolomite</td></tr><tr><td><strong>colour</strong></td><td>grey</td></tr></table></td></tr><tr><td><strong>summary</strong></td><td>36.94 m of dolomite, grey</td></tr><tr><td><strong>description</strong></td><td></td></tr><tr><td><strong>data</strong></td><td><table></table></td></tr><tr><td><strong>base</strong></td><td>51.24117647058824</td></tr></table>"
      ],
      "text/plain": [
       "Interval({'top': Position({'middle': 14.3, 'units': 'm'}), 'base': Position({'middle': 51.24117647058824, 'units': 'm'}), 'description': '', 'data': {}, 'components': [Component({'lithology': 'dolomite', 'colour': 'grey'})]})"
      ]
     },
     "execution_count": 52,
     "metadata": {},
     "output_type": "execute_result"
    }
   ],
   "source": [
    "s0"
   ]
  },
  {
   "cell_type": "code",
   "execution_count": 92,
   "metadata": {},
   "outputs": [
    {
     "ename": "AttributeError",
     "evalue": "'list' object has no attribute 'items'",
     "output_type": "error",
     "traceback": [
      "\u001b[0;31m---------------------------------------------------------------------------\u001b[0m",
      "\u001b[0;31mAttributeError\u001b[0m                            Traceback (most recent call last)",
      "\u001b[0;32m<ipython-input-92-81e98911ccfb>\u001b[0m in \u001b[0;36m<module>\u001b[0;34m\u001b[0m\n\u001b[0;32m----> 1\u001b[0;31m \u001b[0ms0\u001b[0m\u001b[0;34m.\u001b[0m\u001b[0mcomponents\u001b[0m\u001b[0;34m.\u001b[0m\u001b[0mitems\u001b[0m\u001b[0;34m(\u001b[0m\u001b[0;34m)\u001b[0m\u001b[0;34m\u001b[0m\u001b[0;34m\u001b[0m\u001b[0m\n\u001b[0m",
      "\u001b[0;31mAttributeError\u001b[0m: 'list' object has no attribute 'items'"
     ]
    }
   ],
   "source": [
    "s0.components.items()"
   ]
  },
  {
   "cell_type": "code",
   "execution_count": 93,
   "metadata": {},
   "outputs": [
    {
     "data": {
      "text/plain": [
       "[Component({'lithology': 'siltstone', 'colour': 'grey'}),\n",
       " Component({'lithology': 'anhydrite'}),\n",
       " Component({'lithology': 'sandstone', 'colour': 'grey', 'grainsize': 'vf-f'}),\n",
       " Component({'lithology': 'dolomite'}),\n",
       " Component({'lithology': 'volcanic'}),\n",
       " Component({'lithology': 'siltstone', 'colour': 'red'}),\n",
       " Component({'lithology': 'limestone'})]"
      ]
     },
     "execution_count": 93,
     "metadata": {},
     "output_type": "execute_result"
    }
   ],
   "source": [
    "strip.components"
   ]
  },
  {
   "cell_type": "code",
   "execution_count": 115,
   "metadata": {},
   "outputs": [
    {
     "data": {
      "text/html": [
       "<table><tr><td><strong>lithology</strong></td><td>sandstone</td></tr><tr><td><strong>grainsize</strong></td><td>vf-f</td></tr><tr><td><strong>colour</strong></td><td>grey</td></tr></table>"
      ],
      "text/plain": [
       "Component({'lithology': 'sandstone', 'grainsize': 'vf-f', 'colour': 'grey'})"
      ]
     },
     "execution_count": 115,
     "metadata": {},
     "output_type": "execute_result"
    }
   ],
   "source": [
    "Component.from_text('Grey vf-f sandstone', lexicon)"
   ]
  },
  {
   "cell_type": "code",
   "execution_count": null,
   "metadata": {},
   "outputs": [],
   "source": []
  },
  {
   "cell_type": "code",
   "execution_count": 80,
   "metadata": {},
   "outputs": [],
   "source": [
    "? Component"
   ]
  },
  {
   "cell_type": "code",
   "execution_count": 79,
   "metadata": {
    "scrolled": true
   },
   "outputs": [
    {
     "name": "stdout",
     "output_type": "stream",
     "text": [
      "{'lithology': 'Anhydrite'}\n",
      "{'lithology': 'Grey vf-f sandstone'}\n",
      "{'lithology': 'Anhydrite'}\n",
      "{'lithology': 'Dolomite'}\n",
      "{'lithology': 'Red siltstone'}\n",
      "{'lithology': 'Anhydrite'}\n",
      "{'lithology': 'Grey vf-f sandstone'}\n",
      "{'lithology': 'Red siltstone'}\n",
      "{'lithology': 'Dolomite'}\n",
      "{'lithology': 'Grey siltstone'}\n",
      "{'lithology': 'Dolomite'}\n",
      "{'lithology': 'Grey vf-f sandstone'}\n",
      "{'lithology': 'Dolomite'}\n",
      "{'lithology': 'Grey vf-f sandstone'}\n",
      "{'lithology': 'Grey siltstone'}\n",
      "{'lithology': 'Dolomite'}\n",
      "{'lithology': 'Grey siltstone'}\n",
      "{'lithology': 'Dolomite'}\n",
      "{'lithology': 'Grey siltstone'}\n",
      "{'lithology': 'Dolomite'}\n",
      "{'lithology': 'Grey siltstone'}\n",
      "{'lithology': 'Dolomite'}\n",
      "{'lithology': 'Grey siltstone'}\n",
      "{'lithology': 'Dolomite'}\n",
      "{'lithology': 'Limestone'}\n",
      "{'lithology': 'Volcanic'}\n"
     ]
    }
   ],
   "source": [
    "for i in strip2:\n",
    "    print(i.components)"
   ]
  },
  {
   "cell_type": "code",
   "execution_count": 77,
   "metadata": {
    "scrolled": true
   },
   "outputs": [
    {
     "name": "stdout",
     "output_type": "stream",
     "text": [
      "[Component({'lithology': 'anhydrite'})]\n",
      "[Component({'lithology': 'sandstone', 'colour': 'grey', 'grainsize': 'vf-f'})]\n",
      "[Component({'lithology': 'anhydrite'})]\n",
      "[Component({'lithology': 'dolomite'})]\n",
      "[Component({'lithology': 'anhydrite'})]\n",
      "[Component({'lithology': 'sandstone', 'colour': 'grey', 'grainsize': 'vf-f'})]\n",
      "[Component({'lithology': 'siltstone', 'colour': 'red'})]\n",
      "[Component({'lithology': 'dolomite'})]\n",
      "[Component({'lithology': 'siltstone', 'colour': 'grey'})]\n",
      "[Component({'lithology': 'dolomite'})]\n",
      "[Component({'lithology': 'sandstone', 'colour': 'grey', 'grainsize': 'vf-f'})]\n",
      "[Component({'lithology': 'dolomite'})]\n",
      "[Component({'lithology': 'sandstone', 'colour': 'grey', 'grainsize': 'vf-f'})]\n",
      "[Component({'lithology': 'siltstone', 'colour': 'grey'})]\n",
      "[Component({'lithology': 'dolomite'})]\n",
      "[Component({'lithology': 'siltstone', 'colour': 'grey'})]\n",
      "[Component({'lithology': 'dolomite'})]\n",
      "[Component({'lithology': 'siltstone', 'colour': 'grey'})]\n",
      "[Component({'lithology': 'dolomite'})]\n",
      "[Component({'lithology': 'siltstone', 'colour': 'grey'})]\n",
      "[Component({'lithology': 'dolomite'})]\n",
      "[Component({'lithology': 'siltstone', 'colour': 'grey'})]\n",
      "[Component({'lithology': 'dolomite'})]\n",
      "[Component({'lithology': 'limestone'})]\n",
      "[Component({'lithology': 'volcanic'})]\n"
     ]
    }
   ],
   "source": [
    "for i in strip:\n",
    "    print(i.components)"
   ]
  },
  {
   "cell_type": "code",
   "execution_count": 76,
   "metadata": {
    "scrolled": true
   },
   "outputs": [
    {
     "ename": "KeyError",
     "evalue": "0",
     "output_type": "error",
     "traceback": [
      "\u001b[0;31m---------------------------------------------------------------------------\u001b[0m",
      "\u001b[0;31mKeyError\u001b[0m                                  Traceback (most recent call last)",
      "\u001b[0;32m<ipython-input-76-ce66eaa18c56>\u001b[0m in \u001b[0;36m<module>\u001b[0;34m\u001b[0m\n\u001b[0;32m----> 1\u001b[0;31m \u001b[0mstrip2\u001b[0m\u001b[0;34m.\u001b[0m\u001b[0mplot\u001b[0m\u001b[0;34m(\u001b[0m\u001b[0mlegend\u001b[0m\u001b[0;34m,\u001b[0m \u001b[0mladder\u001b[0m\u001b[0;34m=\u001b[0m\u001b[0;32mTrue\u001b[0m\u001b[0;34m,\u001b[0m \u001b[0maspect\u001b[0m\u001b[0;34m=\u001b[0m\u001b[0;36m5\u001b[0m\u001b[0;34m)\u001b[0m\u001b[0;34m\u001b[0m\u001b[0;34m\u001b[0m\u001b[0m\n\u001b[0m",
      "\u001b[0;32m~/.local/share/virtualenvs/GSDMA2019-F9ES6BKJ/lib/python3.6/site-packages/striplog/striplog.py\u001b[0m in \u001b[0;36mplot\u001b[0;34m(self, legend, width, ladder, aspect, ticks, match_only, ax, return_fig, colour, cmap, default, style, field, **kwargs)\u001b[0m\n\u001b[1;32m   1584\u001b[0m                                 \u001b[0mdefault\u001b[0m\u001b[0;34m=\u001b[0m\u001b[0mdefault\u001b[0m\u001b[0;34m,\u001b[0m\u001b[0;34m\u001b[0m\u001b[0;34m\u001b[0m\u001b[0m\n\u001b[1;32m   1585\u001b[0m                                 \u001b[0mwidth_field\u001b[0m\u001b[0;34m=\u001b[0m\u001b[0mfield\u001b[0m\u001b[0;34m,\u001b[0m\u001b[0;34m\u001b[0m\u001b[0;34m\u001b[0m\u001b[0m\n\u001b[0;32m-> 1586\u001b[0;31m                                 \u001b[0;34m**\u001b[0m\u001b[0mkwargs\u001b[0m\u001b[0;34m\u001b[0m\u001b[0;34m\u001b[0m\u001b[0m\n\u001b[0m\u001b[1;32m   1587\u001b[0m                                 )\n\u001b[1;32m   1588\u001b[0m \u001b[0;34m\u001b[0m\u001b[0m\n",
      "\u001b[0;32m~/.local/share/virtualenvs/GSDMA2019-F9ES6BKJ/lib/python3.6/site-packages/striplog/striplog.py\u001b[0m in \u001b[0;36mplot_axis\u001b[0;34m(self, ax, legend, ladder, default_width, match_only, colour, colour_function, cmap, default, width_field, **kwargs)\u001b[0m\n\u001b[1;32m   1438\u001b[0m         \u001b[0;32mfor\u001b[0m \u001b[0miv\u001b[0m \u001b[0;32min\u001b[0m \u001b[0mself\u001b[0m\u001b[0;34m.\u001b[0m\u001b[0m__list\u001b[0m\u001b[0;34m:\u001b[0m\u001b[0;34m\u001b[0m\u001b[0;34m\u001b[0m\u001b[0m\n\u001b[1;32m   1439\u001b[0m             \u001b[0morigin\u001b[0m \u001b[0;34m=\u001b[0m \u001b[0;34m(\u001b[0m\u001b[0;36m0\u001b[0m\u001b[0;34m,\u001b[0m \u001b[0miv\u001b[0m\u001b[0;34m.\u001b[0m\u001b[0mtop\u001b[0m\u001b[0;34m.\u001b[0m\u001b[0mz\u001b[0m\u001b[0;34m)\u001b[0m\u001b[0;34m\u001b[0m\u001b[0;34m\u001b[0m\u001b[0m\n\u001b[0;32m-> 1440\u001b[0;31m             \u001b[0md\u001b[0m \u001b[0;34m=\u001b[0m \u001b[0mlegend\u001b[0m\u001b[0;34m.\u001b[0m\u001b[0mget_decor\u001b[0m\u001b[0;34m(\u001b[0m\u001b[0miv\u001b[0m\u001b[0;34m.\u001b[0m\u001b[0mprimary\u001b[0m\u001b[0;34m,\u001b[0m \u001b[0mmatch_only\u001b[0m\u001b[0;34m=\u001b[0m\u001b[0mmatch_only\u001b[0m\u001b[0;34m)\u001b[0m\u001b[0;34m\u001b[0m\u001b[0;34m\u001b[0m\u001b[0m\n\u001b[0m\u001b[1;32m   1441\u001b[0m             \u001b[0mthick\u001b[0m \u001b[0;34m=\u001b[0m \u001b[0miv\u001b[0m\u001b[0;34m.\u001b[0m\u001b[0mbase\u001b[0m\u001b[0;34m.\u001b[0m\u001b[0mz\u001b[0m \u001b[0;34m-\u001b[0m \u001b[0miv\u001b[0m\u001b[0;34m.\u001b[0m\u001b[0mtop\u001b[0m\u001b[0;34m.\u001b[0m\u001b[0mz\u001b[0m\u001b[0;34m\u001b[0m\u001b[0;34m\u001b[0m\u001b[0m\n\u001b[1;32m   1442\u001b[0m \u001b[0;34m\u001b[0m\u001b[0m\n",
      "\u001b[0;32m~/.local/share/virtualenvs/GSDMA2019-F9ES6BKJ/lib/python3.6/site-packages/striplog/interval.py\u001b[0m in \u001b[0;36mprimary\u001b[0;34m(self)\u001b[0m\n\u001b[1;32m    188\u001b[0m         \"\"\"\n\u001b[1;32m    189\u001b[0m         \u001b[0;32mif\u001b[0m \u001b[0mself\u001b[0m\u001b[0;34m.\u001b[0m\u001b[0mcomponents\u001b[0m\u001b[0;34m:\u001b[0m\u001b[0;34m\u001b[0m\u001b[0;34m\u001b[0m\u001b[0m\n\u001b[0;32m--> 190\u001b[0;31m             \u001b[0;32mreturn\u001b[0m \u001b[0mself\u001b[0m\u001b[0;34m.\u001b[0m\u001b[0mcomponents\u001b[0m\u001b[0;34m[\u001b[0m\u001b[0;36m0\u001b[0m\u001b[0;34m]\u001b[0m\u001b[0;34m\u001b[0m\u001b[0;34m\u001b[0m\u001b[0m\n\u001b[0m\u001b[1;32m    191\u001b[0m         \u001b[0;32melse\u001b[0m\u001b[0;34m:\u001b[0m\u001b[0;34m\u001b[0m\u001b[0;34m\u001b[0m\u001b[0m\n\u001b[1;32m    192\u001b[0m             \u001b[0;32mreturn\u001b[0m \u001b[0;32mNone\u001b[0m\u001b[0;34m\u001b[0m\u001b[0;34m\u001b[0m\u001b[0m\n",
      "\u001b[0;31mKeyError\u001b[0m: 0"
     ]
    },
    {
     "data": {
      "image/png": "[encoded data removed]",
      "text/plain": [
       "<Figure size 108x540 with 1 Axes>"
      ]
     },
     "metadata": {
      "needs_background": "light"
     },
     "output_type": "display_data"
    }
   ],
   "source": [
    "strip2.plot(legend, ladder=True, aspect=5)"
   ]
  },
  {
   "cell_type": "code",
   "execution_count": 36,
   "metadata": {
    "scrolled": true
   },
   "outputs": [
    {
     "name": "stdout",
     "output_type": "stream",
     "text": [
      "{'top': Position({'middle': 14.3, 'units': 'm'}), 'base': Position({'middle': 51.24117647058824, 'units': 'm'}), 'description': '', 'data': {}, 'components': [Component({'lithology': 'anhydrite'})]}\n",
      "{'top': Position({'middle': 51.24117647058824, 'units': 'm'}), 'base': Position({'middle': 54.81764705882354, 'units': 'm'}), 'description': '', 'data': {}, 'components': [Component({'lithology': 'sandstone', 'colour': 'grey', 'grainsize': 'vf-f'})]}\n",
      "{'top': Position({'middle': 54.81764705882354, 'units': 'm'}), 'base': Position({'middle': 56.55882352941177, 'units': 'm'}), 'description': '', 'data': {}, 'components': [Component({'lithology': 'anhydrite'})]}\n",
      "{'top': Position({'middle': 56.55882352941177, 'units': 'm'}), 'base': Position({'middle': 58.86470588235295, 'units': 'm'}), 'description': '', 'data': {}, 'components': [Component({'lithology': 'dolomite'})]}\n",
      "{'top': Position({'middle': 60.464705882352945, 'units': 'm'}), 'base': Position({'middle': 61.45294117647059, 'units': 'm'}), 'description': '', 'data': {}, 'components': [Component({'lithology': 'anhydrite'})]}\n",
      "{'top': Position({'middle': 61.45294117647059, 'units': 'm'}), 'base': Position({'middle': 62.77058823529413, 'units': 'm'}), 'description': '', 'data': {}, 'components': [Component({'lithology': 'sandstone', 'colour': 'grey', 'grainsize': 'vf-f'})]}\n",
      "{'top': Position({'middle': 62.77058823529413, 'units': 'm'}), 'base': Position({'middle': 63.94705882352942, 'units': 'm'}), 'description': '', 'data': {}, 'components': [Component({'lithology': 'siltstone', 'colour': 'red'})]}\n",
      "{'top': Position({'middle': 63.94705882352942, 'units': 'm'}), 'base': Position({'middle': 64.37058823529412, 'units': 'm'}), 'description': '', 'data': {}, 'components': [Component({'lithology': 'dolomite'})]}\n",
      "{'top': Position({'middle': 64.37058823529412, 'units': 'm'}), 'base': Position({'middle': 65.0764705882353, 'units': 'm'}), 'description': '', 'data': {}, 'components': [Component({'lithology': 'siltstone', 'colour': 'grey'})]}\n",
      "{'top': Position({'middle': 65.0764705882353, 'units': 'm'}), 'base': Position({'middle': 66.77058823529413, 'units': 'm'}), 'description': '', 'data': {}, 'components': [Component({'lithology': 'dolomite'})]}\n",
      "{'top': Position({'middle': 66.77058823529413, 'units': 'm'}), 'base': Position({'middle': 71.10000000000001, 'units': 'm'}), 'description': '', 'data': {}, 'components': [Component({'lithology': 'sandstone', 'colour': 'grey', 'grainsize': 'vf-f'})]}\n",
      "{'top': Position({'middle': 71.10000000000001, 'units': 'm'}), 'base': Position({'middle': 71.80588235294118, 'units': 'm'}), 'description': '', 'data': {}, 'components': [Component({'lithology': 'dolomite'})]}\n",
      "{'top': Position({'middle': 71.80588235294118, 'units': 'm'}), 'base': Position({'middle': 81.78235294117647, 'units': 'm'}), 'description': '', 'data': {}, 'components': [Component({'lithology': 'sandstone', 'colour': 'grey', 'grainsize': 'vf-f'})]}\n",
      "{'top': Position({'middle': 81.78235294117647, 'units': 'm'}), 'base': Position({'middle': 85.78235294117647, 'units': 'm'}), 'description': '', 'data': {}, 'components': [Component({'lithology': 'siltstone', 'colour': 'grey'})]}\n",
      "{'top': Position({'middle': 85.78235294117647, 'units': 'm'}), 'base': Position({'middle': 87.00588235294119, 'units': 'm'}), 'description': '', 'data': {}, 'components': [Component({'lithology': 'dolomite'})]}\n",
      "{'top': Position({'middle': 87.00588235294119, 'units': 'm'}), 'base': Position({'middle': 88.51176470588236, 'units': 'm'}), 'description': '', 'data': {}, 'components': [Component({'lithology': 'siltstone', 'colour': 'grey'})]}\n",
      "{'top': Position({'middle': 88.51176470588236, 'units': 'm'}), 'base': Position({'middle': 88.98235294117647, 'units': 'm'}), 'description': '', 'data': {}, 'components': [Component({'lithology': 'dolomite'})]}\n",
      "{'top': Position({'middle': 88.98235294117647, 'units': 'm'}), 'base': Position({'middle': 95.9, 'units': 'm'}), 'description': '', 'data': {}, 'components': [Component({'lithology': 'siltstone', 'colour': 'grey'})]}\n",
      "{'top': Position({'middle': 95.9, 'units': 'm'}), 'base': Position({'middle': 96.2764705882353, 'units': 'm'}), 'description': '', 'data': {}, 'components': [Component({'lithology': 'dolomite'})]}\n",
      "{'top': Position({'middle': 96.2764705882353, 'units': 'm'}), 'base': Position({'middle': 104.37058823529412, 'units': 'm'}), 'description': '', 'data': {}, 'components': [Component({'lithology': 'siltstone', 'colour': 'grey'})]}\n",
      "{'top': Position({'middle': 104.37058823529412, 'units': 'm'}), 'base': Position({'middle': 104.74705882352941, 'units': 'm'}), 'description': '', 'data': {}, 'components': [Component({'lithology': 'dolomite'})]}\n",
      "{'top': Position({'middle': 104.74705882352941, 'units': 'm'}), 'base': Position({'middle': 129.68823529411765, 'units': 'm'}), 'description': '', 'data': {}, 'components': [Component({'lithology': 'siltstone', 'colour': 'grey'})]}\n",
      "{'top': Position({'middle': 129.68823529411765, 'units': 'm'}), 'base': Position({'middle': 130.39411764705883, 'units': 'm'}), 'description': '', 'data': {}, 'components': [Component({'lithology': 'dolomite'})]}\n",
      "{'top': Position({'middle': 130.39411764705883, 'units': 'm'}), 'base': Position({'middle': 131.47647058823532, 'units': 'm'}), 'description': '', 'data': {}, 'components': [Component({'lithology': 'limestone'})]}\n",
      "{'top': Position({'middle': 131.47647058823532, 'units': 'm'}), 'base': Position({'middle': 135.9, 'units': 'm'}), 'description': '', 'data': {}, 'components': [Component({'lithology': 'volcanic'})]}\n"
     ]
    }
   ],
   "source": [
    "print(strip)"
   ]
  },
  {
   "cell_type": "markdown",
   "metadata": {},
   "source": [
    "Notice the warning about a missing term in the lexicon."
   ]
  },
  {
   "cell_type": "code",
   "execution_count": 28,
   "metadata": {},
   "outputs": [
    {
     "data": {
      "text/html": [
       "<table><tr><td><strong>lithology</strong></td><td>sandstone</td></tr><tr><td><strong>grainsize</strong></td><td>vf-f</td></tr><tr><td><strong>colour</strong></td><td>grey</td></tr></table>"
      ],
      "text/plain": [
       "Component({'lithology': 'sandstone', 'grainsize': 'vf-f', 'colour': 'grey'})"
      ]
     },
     "execution_count": 28,
     "metadata": {},
     "output_type": "execute_result"
    }
   ],
   "source": [
    "Component.from_text('Grey vf-f sandstone', lexicon)"
   ]
  },
  {
   "cell_type": "code",
   "execution_count": 30,
   "metadata": {},
   "outputs": [],
   "source": [
    "las3 = \"\"\"~Lithology_Parameter\n",
    "LITH .                    : Lithology source          {S}\n",
    "LITHD.   MD               : Lithology depth reference {S}\n",
    "\n",
    "~Lithology_Definition\n",
    "LITHT.M                   : Lithology top depth       {F}\n",
    "LITHB.M                   : Lithology base depth      {F}\n",
    "LITHN.                    : Lithology name            {S}\n",
    "\n",
    "~Lithology_Data | Lithology_Definition\n",
    "  200.000,  230.329,  Anhydrite                                       \n",
    "  230.329,  233.269,  Grey vf-f sandstone                             \n",
    "  233.269,  234.700,  Anhydrite                                       \n",
    "  234.700,  236.596,  Dolomite                                        \n",
    "  236.596,  237.911,  Red siltstone                                   \n",
    "  237.911,  238.723,  Anhydrite                                       \n",
    "  238.723,  239.807,  Grey vf-f sandstone                             \n",
    "  239.807,  240.774,  Red siltstone                                   \n",
    "  240.774,  241.122,  Dolomite                                        \n",
    "  241.122,  241.702,  Grey siltstone                                  \n",
    "  241.702,  243.095,  Dolomite                                        \n",
    "  243.095,  246.654,  Grey vf-f sandstone                             \n",
    "  246.654,  247.234,  Dolomite                                        \n",
    "  247.234,  255.435,  Grey vf-f sandstone                             \n",
    "  255.435,  258.723,  Grey siltstone                                  \n",
    "  258.723,  259.729,  Dolomite                                        \n",
    "  259.729,  260.967,  Grey siltstone                                  \n",
    "  260.967,  261.354,  Dolomite                                        \n",
    "  261.354,  267.041,  Grey siltstone                                  \n",
    "  267.041,  267.350,  Dolomite                                        \n",
    "  267.350,  274.004,  Grey siltstone                                  \n",
    "  274.004,  274.313,  Dolomite                                        \n",
    "  274.313,  294.816,  Grey siltstone                                  \n",
    "  294.816,  295.397,  Dolomite                                        \n",
    "  295.397,  296.286,  Limestone                                       \n",
    "  296.286,  300.000,  Volcanic                                        \n",
    "\"\"\""
   ]
  },
  {
   "cell_type": "code",
   "execution_count": 116,
   "metadata": {
    "scrolled": true
   },
   "outputs": [
    {
     "name": "stdout",
     "output_type": "stream",
     "text": [
      "{'top': Position({'middle': 200.0, 'units': 'm'}), 'base': Position({'middle': 230.329, 'units': 'm'}), 'description': 'Anhydrite', 'data': {}, 'components': [Component({'lithology': 'anhydrite'})]}\n",
      "{'top': Position({'middle': 230.329, 'units': 'm'}), 'base': Position({'middle': 233.269, 'units': 'm'}), 'description': 'Grey vf-f sandstone', 'data': {}, 'components': [Component({'lithology': 'sandstone', 'grainsize': 'vf-f', 'colour': 'grey'})]}\n",
      "{'top': Position({'middle': 233.269, 'units': 'm'}), 'base': Position({'middle': 234.7, 'units': 'm'}), 'description': 'Anhydrite', 'data': {}, 'components': [Component({'lithology': 'anhydrite'})]}\n",
      "{'top': Position({'middle': 234.7, 'units': 'm'}), 'base': Position({'middle': 236.596, 'units': 'm'}), 'description': 'Dolomite', 'data': {}, 'components': [Component({'lithology': 'dolomite'})]}\n",
      "{'top': Position({'middle': 236.596, 'units': 'm'}), 'base': Position({'middle': 237.911, 'units': 'm'}), 'description': 'Red siltstone', 'data': {}, 'components': [Component({'lithology': 'siltstone', 'colour': 'red'})]}\n",
      "{'top': Position({'middle': 237.911, 'units': 'm'}), 'base': Position({'middle': 238.723, 'units': 'm'}), 'description': 'Anhydrite', 'data': {}, 'components': [Component({'lithology': 'anhydrite'})]}\n",
      "{'top': Position({'middle': 238.723, 'units': 'm'}), 'base': Position({'middle': 239.807, 'units': 'm'}), 'description': 'Grey vf-f sandstone', 'data': {}, 'components': [Component({'lithology': 'sandstone', 'grainsize': 'vf-f', 'colour': 'grey'})]}\n",
      "{'top': Position({'middle': 239.807, 'units': 'm'}), 'base': Position({'middle': 240.774, 'units': 'm'}), 'description': 'Red siltstone', 'data': {}, 'components': [Component({'lithology': 'siltstone', 'colour': 'red'})]}\n",
      "{'top': Position({'middle': 240.774, 'units': 'm'}), 'base': Position({'middle': 241.122, 'units': 'm'}), 'description': 'Dolomite', 'data': {}, 'components': [Component({'lithology': 'dolomite'})]}\n",
      "{'top': Position({'middle': 241.122, 'units': 'm'}), 'base': Position({'middle': 241.702, 'units': 'm'}), 'description': 'Grey siltstone', 'data': {}, 'components': [Component({'lithology': 'siltstone', 'colour': 'grey'})]}\n",
      "{'top': Position({'middle': 241.702, 'units': 'm'}), 'base': Position({'middle': 243.095, 'units': 'm'}), 'description': 'Dolomite', 'data': {}, 'components': [Component({'lithology': 'dolomite'})]}\n",
      "{'top': Position({'middle': 243.095, 'units': 'm'}), 'base': Position({'middle': 246.654, 'units': 'm'}), 'description': 'Grey vf-f sandstone', 'data': {}, 'components': [Component({'lithology': 'sandstone', 'grainsize': 'vf-f', 'colour': 'grey'})]}\n",
      "{'top': Position({'middle': 246.654, 'units': 'm'}), 'base': Position({'middle': 247.234, 'units': 'm'}), 'description': 'Dolomite', 'data': {}, 'components': [Component({'lithology': 'dolomite'})]}\n",
      "{'top': Position({'middle': 247.234, 'units': 'm'}), 'base': Position({'middle': 255.435, 'units': 'm'}), 'description': 'Grey vf-f sandstone', 'data': {}, 'components': [Component({'lithology': 'sandstone', 'grainsize': 'vf-f', 'colour': 'grey'})]}\n",
      "{'top': Position({'middle': 255.435, 'units': 'm'}), 'base': Position({'middle': 258.723, 'units': 'm'}), 'description': 'Grey siltstone', 'data': {}, 'components': [Component({'lithology': 'siltstone', 'colour': 'grey'})]}\n",
      "{'top': Position({'middle': 258.723, 'units': 'm'}), 'base': Position({'middle': 259.729, 'units': 'm'}), 'description': 'Dolomite', 'data': {}, 'components': [Component({'lithology': 'dolomite'})]}\n",
      "{'top': Position({'middle': 259.729, 'units': 'm'}), 'base': Position({'middle': 260.967, 'units': 'm'}), 'description': 'Grey siltstone', 'data': {}, 'components': [Component({'lithology': 'siltstone', 'colour': 'grey'})]}\n",
      "{'top': Position({'middle': 260.967, 'units': 'm'}), 'base': Position({'middle': 261.354, 'units': 'm'}), 'description': 'Dolomite', 'data': {}, 'components': [Component({'lithology': 'dolomite'})]}\n",
      "{'top': Position({'middle': 261.354, 'units': 'm'}), 'base': Position({'middle': 267.041, 'units': 'm'}), 'description': 'Grey siltstone', 'data': {}, 'components': [Component({'lithology': 'siltstone', 'colour': 'grey'})]}\n",
      "{'top': Position({'middle': 267.041, 'units': 'm'}), 'base': Position({'middle': 267.35, 'units': 'm'}), 'description': 'Dolomite', 'data': {}, 'components': [Component({'lithology': 'dolomite'})]}\n",
      "{'top': Position({'middle': 267.35, 'units': 'm'}), 'base': Position({'middle': 274.004, 'units': 'm'}), 'description': 'Grey siltstone', 'data': {}, 'components': [Component({'lithology': 'siltstone', 'colour': 'grey'})]}\n",
      "{'top': Position({'middle': 274.004, 'units': 'm'}), 'base': Position({'middle': 274.313, 'units': 'm'}), 'description': 'Dolomite', 'data': {}, 'components': [Component({'lithology': 'dolomite'})]}\n",
      "{'top': Position({'middle': 274.313, 'units': 'm'}), 'base': Position({'middle': 294.816, 'units': 'm'}), 'description': 'Grey siltstone', 'data': {}, 'components': [Component({'lithology': 'siltstone', 'colour': 'grey'})]}\n",
      "{'top': Position({'middle': 294.816, 'units': 'm'}), 'base': Position({'middle': 295.397, 'units': 'm'}), 'description': 'Dolomite', 'data': {}, 'components': [Component({'lithology': 'dolomite'})]}\n",
      "{'top': Position({'middle': 295.397, 'units': 'm'}), 'base': Position({'middle': 296.286, 'units': 'm'}), 'description': 'Limestone', 'data': {}, 'components': [Component({'lithology': 'limestone'})]}\n",
      "{'top': Position({'middle': 296.286, 'units': 'm'}), 'base': Position({'middle': 300.0, 'units': 'm'}), 'description': 'Volcanic', 'data': {}, 'components': [Component({})]}\n"
     ]
    }
   ],
   "source": [
    "strip3 = Striplog.from_las3(las3, lexicon)\n",
    "print(strip3)"
   ]
  },
  {
   "cell_type": "code",
   "execution_count": 118,
   "metadata": {
    "scrolled": true
   },
   "outputs": [
    {
     "data": {
      "image/png": "[encoded data removed]",
      "text/plain": [
       "<Figure size 108x1080 with 1 Axes>"
      ]
     },
     "metadata": {
      "needs_background": "light"
     },
     "output_type": "display_data"
    }
   ],
   "source": [
    "strip3.plot()"
   ]
  },
  {
   "cell_type": "markdown",
   "metadata": {},
   "source": [
    "### Other .las"
   ]
  },
  {
   "cell_type": "code",
   "execution_count": 119,
   "metadata": {},
   "outputs": [],
   "source": [
    "? Striplog.from_las3"
   ]
  },
  {
   "cell_type": "code",
   "execution_count": 120,
   "metadata": {},
   "outputs": [
    {
     "ename": "AttributeError",
     "evalue": "'NoneType' object has no attribute 'group'",
     "output_type": "error",
     "traceback": [
      "\u001b[0;31m---------------------------------------------------------------------------\u001b[0m",
      "\u001b[0;31mAttributeError\u001b[0m                            Traceback (most recent call last)",
      "\u001b[0;32m<ipython-input-120-eb1078543c24>\u001b[0m in \u001b[0;36m<module>\u001b[0;34m\u001b[0m\n\u001b[0;32m----> 1\u001b[0;31m \u001b[0mstrip4\u001b[0m \u001b[0;34m=\u001b[0m \u001b[0mStriplog\u001b[0m\u001b[0;34m.\u001b[0m\u001b[0mfrom_las3\u001b[0m\u001b[0;34m(\u001b[0m\u001b[0;34m\"P-129_out.LAS\"\u001b[0m\u001b[0;34m,\u001b[0m \u001b[0mlexicon\u001b[0m\u001b[0;34m)\u001b[0m\u001b[0;34m\u001b[0m\u001b[0;34m\u001b[0m\u001b[0m\n\u001b[0m",
      "\u001b[0;32m~/.local/share/virtualenvs/GSDMA2019-F9ES6BKJ/lib/python3.6/site-packages/striplog/striplog.py\u001b[0m in \u001b[0;36mfrom_las3\u001b[0;34m(cls, string, lexicon, source, dlm, abbreviations)\u001b[0m\n\u001b[1;32m   1031\u001b[0m         \u001b[0mregex\u001b[0m \u001b[0;34m=\u001b[0m \u001b[0;34mr'\\~\\w+?_Data.+?\\n(.+?)(?:\\n\\n+|\\n*\\~|\\n*$)'\u001b[0m\u001b[0;34m\u001b[0m\u001b[0;34m\u001b[0m\u001b[0m\n\u001b[1;32m   1032\u001b[0m         \u001b[0mpattern\u001b[0m \u001b[0;34m=\u001b[0m \u001b[0mre\u001b[0m\u001b[0;34m.\u001b[0m\u001b[0mcompile\u001b[0m\u001b[0;34m(\u001b[0m\u001b[0mregex\u001b[0m\u001b[0;34m,\u001b[0m \u001b[0mflags\u001b[0m\u001b[0;34m=\u001b[0m\u001b[0mf\u001b[0m\u001b[0;34m)\u001b[0m\u001b[0;34m\u001b[0m\u001b[0;34m\u001b[0m\u001b[0m\n\u001b[0;32m-> 1033\u001b[0;31m         \u001b[0mtext\u001b[0m \u001b[0;34m=\u001b[0m \u001b[0mpattern\u001b[0m\u001b[0;34m.\u001b[0m\u001b[0msearch\u001b[0m\u001b[0;34m(\u001b[0m\u001b[0mstring\u001b[0m\u001b[0;34m)\u001b[0m\u001b[0;34m.\u001b[0m\u001b[0mgroup\u001b[0m\u001b[0;34m(\u001b[0m\u001b[0;36m1\u001b[0m\u001b[0;34m)\u001b[0m\u001b[0;34m\u001b[0m\u001b[0;34m\u001b[0m\u001b[0m\n\u001b[0m\u001b[1;32m   1034\u001b[0m \u001b[0;34m\u001b[0m\u001b[0m\n\u001b[1;32m   1035\u001b[0m         \u001b[0ms\u001b[0m \u001b[0;34m=\u001b[0m \u001b[0mre\u001b[0m\u001b[0;34m.\u001b[0m\u001b[0msearch\u001b[0m\u001b[0;34m(\u001b[0m\u001b[0;34mr'\\.(.+?)\\: ?.+?source'\u001b[0m\u001b[0;34m,\u001b[0m \u001b[0mstring\u001b[0m\u001b[0;34m)\u001b[0m\u001b[0;34m\u001b[0m\u001b[0;34m\u001b[0m\u001b[0m\n",
      "\u001b[0;31mAttributeError\u001b[0m: 'NoneType' object has no attribute 'group'"
     ]
    }
   ],
   "source": [
    "strip4 = Striplog.from_las3(\"P-129_out.LAS\", lexicon)\n"
   ]
  },
  {
   "cell_type": "code",
   "execution_count": null,
   "metadata": {},
   "outputs": [],
   "source": []
  },
  {
   "cell_type": "code",
   "execution_count": null,
   "metadata": {},
   "outputs": [],
   "source": []
  },
  {
   "cell_type": "markdown",
   "metadata": {},
   "source": [
    "<hr />\n",
    "\n",
    "<p style=\"color:gray\">©2015 Agile Geoscience. Licensed CC-BY. <a href=\"https://github.com/agile-geoscience/striplog\">striplog.py</a></p>"
   ]
  }
 ],
 "metadata": {
  "kernelspec": {
   "display_name": "Python 3",
   "language": "python",
   "name": "python3"
  },
  "language_info": {
   "codemirror_mode": {
    "name": "ipython",
    "version": 3
   },
   "file_extension": ".py",
   "mimetype": "text/x-python",
   "name": "python",
   "nbconvert_exporter": "python",
   "pygments_lexer": "ipython3",
   "version": "3.6.8"
  }
 },
 "nbformat": 4,
 "nbformat_minor": 1
}

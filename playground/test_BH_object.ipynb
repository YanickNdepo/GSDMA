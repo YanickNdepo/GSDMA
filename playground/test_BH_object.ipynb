{
 "cells": [
  {
   "cell_type": "markdown",
   "metadata": {},
   "source": [
    "## Creation of Borehole object"
   ]
  },
  {
   "cell_type": "code",
   "execution_count": 23,
   "metadata": {},
   "outputs": [],
   "source": [
    "%matplotlib inline\n",
    "import striplog\n",
    "from striplog import Striplog, Legend, Lexicon, Interval, Component, Position\n",
    "import pyvista as pv\n",
    "import geopandas as gpd\n",
    "import pandas as pd\n",
    "import scipy\n",
    "\n",
    "from utils import read_flat_files\n",
    "from utils.db_tools import boreholes_dict_to_sqlite3_db, create_connection\n",
    "import sqlite3\n",
    "from sqlite3 import Error\n",
    "\n",
    "import matplotlib.pyplot as plt\n",
    "import numpy as np"
   ]
  },
  {
   "cell_type": "code",
   "execution_count": 57,
   "metadata": {},
   "outputs": [
    {
     "ename": "KeyError",
     "evalue": "'Legend'",
     "output_type": "error",
     "traceback": [
      "\u001b[0;31m---------------------------------------------------------------------------\u001b[0m",
      "\u001b[0;31mKeyError\u001b[0m                                  Traceback (most recent call last)",
      "\u001b[0;32m<ipython-input-57-208d13cac761>\u001b[0m in \u001b[0;36m<module>\u001b[0;34m\u001b[0m\n\u001b[1;32m      1\u001b[0m \u001b[0;31m#dfs['Intervals'].query('borehole==\"F15\"')\u001b[0m\u001b[0;34m\u001b[0m\u001b[0;34m\u001b[0m\u001b[0;34m\u001b[0m\u001b[0m\n\u001b[0;32m----> 2\u001b[0;31m \u001b[0mdfs\u001b[0m\u001b[0;34m[\u001b[0m\u001b[0;34m'Legend'\u001b[0m\u001b[0;34m]\u001b[0m\u001b[0;34m\u001b[0m\u001b[0;34m\u001b[0m\u001b[0m\n\u001b[0m",
      "\u001b[0;31mKeyError\u001b[0m: 'Legend'"
     ]
    }
   ],
   "source": [
    "#dfs['Intervals'].query('borehole==\"F15\"')\n",
    "#dfs['Legend']"
   ]
  },
  {
   "cell_type": "code",
   "execution_count": 46,
   "metadata": {},
   "outputs": [],
   "source": [
    "class  Borehole (): \n",
    "    def  __init__ ( self ): \n",
    "        print(\"Borehole created\")\n",
    "        \n",
    "    #---------------------\n",
    "    def build_strip_from_list(bh_name):\n",
    "        Borehole.read_db_bh()\n",
    "        bh_strip = []  # striplog object\n",
    "        intervals = dfs['Intervals'].query(f'borehole==\"{bh_name:s}\"')[['top','base', 'description']]\n",
    "        for row in intervals.iterrows():\n",
    "            components = dfs['Components'].query('borehole==\"{borehole:s}\" and top=={top:f} and base=={base:f}'\n",
    "                                                 .format(borehole=bh_name, top=row[1]['top'], base=row[1]['base']))\n",
    "            components_dict={}\n",
    "            for r in components.iterrows():\n",
    "                components_dict.update({r[1]['key']:r[1]['value']})\n",
    "            bh_strip.append(Interval(**{'top': Position(middle=row[1]['top'], units='m'),\n",
    "                                    'base': Position(middle=row[1]['base'], units='m'),\n",
    "                                    'description': row[1]['description'], \n",
    "                                    'components': [Component(properties=components_dict)]}))\n",
    "        return(bh_strip)\n",
    "    #--------------------------\n",
    "    def read_db_bh(database = r\"project_database.db\"):\n",
    "        conn = create_connection(database)\n",
    "        tables = ['Boreholes', 'Components', 'Intervals', 'Lexicon'] # table names in the database\n",
    "        dfs = {}\n",
    "        with conn:\n",
    "            for i in tables:\n",
    "                print(f\"---{i:s} data--- \")\n",
    "                sql_cmd = f\"SELECT * FROM {i:s}\" # to select the data of the table Boreholes\n",
    "                dfs.update({i:  pd.read_sql(sql_cmd, conn)})\n",
    "        return(dfs)\n",
    "    \n",
    "    def log_BH(bh_name):\n",
    "        \n",
    "        new_legend=\"legend_GSDMA.csv\"  # A specific legend has been created which in is legend_GSDMA.csv\n",
    "        my_legend = Legend.from_csv(filename=new_legend)\n",
    "        legend = Legend.builtin('NSDOE')\n",
    "        lexicon = Lexicon.default()\n",
    "        \n",
    "        strp1=Striplog(Borehole.build_strip_from_list(bh_name))\n",
    "        strp1.plot(my_legend, ladder=True, aspect=2)\n",
    "        my_legend.plot() \n",
    "     #--------------------------\n",
    "    def triDim_BH(bh_name):\n",
    "        print(\"\")\n",
    "    # list_boreholes, log_Boreholes, \n",
    "        \n",
    "    def  parler (a): \n",
    "        print(f\"j'ai été implanté {a}\")\n",
    "        \n",
    "#forage = Borehole.parler(15)"
   ]
  },
  {
   "cell_type": "code",
   "execution_count": 43,
   "metadata": {
    "collapsed": true
   },
   "outputs": [
    {
     "name": "stdout",
     "output_type": "stream",
     "text": [
      "{'Boreholes':      id\n",
      "0   F10\n",
      "1   F11\n",
      "2   F12\n",
      "3   F13\n",
      "4   F14\n",
      "5   F15\n",
      "6   F16\n",
      "7   F20\n",
      "8   F21\n",
      "9   F22\n",
      "10  F23\n",
      "11  F24\n",
      "12  F25\n",
      "13  F10\n",
      "14  F11\n",
      "15  F12\n",
      "16  F13\n",
      "17  F14\n",
      "18  F15\n",
      "19  F16\n",
      "20  F20\n",
      "21  F21\n",
      "22  F22\n",
      "23  F23\n",
      "24  F24\n",
      "25  F25, 'Components':     borehole  top  base        key     value\n",
      "0        F10  0.0   1.5  lithology  remblais\n",
      "1        F10  0.0   1.5     colour    ocre\\n\n",
      "2        F10  1.5   4.0  lithology  remblais\n",
      "3        F10  1.5   4.0     colour      ocre\n",
      "4        F10  4.0   6.0  lithology      silt\n",
      "..       ...  ...   ...        ...       ...\n",
      "151      F25  0.0   1.5     colour      brun\n",
      "152      F25  1.5   4.0  lithology  remblais\n",
      "153      F25  1.5   4.0     colour      ocre\n",
      "154      F25  4.0   6.0  lithology      silt\n",
      "155      F25  4.0   6.0     colour      gris\n",
      "\n",
      "[156 rows x 5 columns], 'Intervals':    borehole  top  base           description\n",
      "0       F10  0.0   1.5  remblais non-saturés\n",
      "1       F10  1.5   4.0      remblais saturés\n",
      "2       F10  4.0   6.0             alluvions\n",
      "3       F11  0.0   1.5  remblais non-saturés\n",
      "4       F11  1.5   4.0      remblais saturés\n",
      "..      ...  ...   ...                   ...\n",
      "73      F24  1.5   4.0      remblais saturés\n",
      "74      F24  4.0   6.0             alluvions\n",
      "75      F25  0.0   1.5  remblais non-saturés\n",
      "76      F25  1.5   4.0      remblais saturés\n",
      "77      F25  4.0   6.0             alluvions\n",
      "\n",
      "[78 rows x 4 columns], 'Lexicon':          key     value\n",
      "0     colour      brun\n",
      "1     colour      ocre\n",
      "2     colour      gris\n",
      "3  lithology      silt\n",
      "4  lithology  remblais\n",
      "5     colour      brun\n",
      "6     colour      gris\n",
      "7     colour      ocre\n",
      "8  lithology  remblais\n",
      "9  lithology      silt}\n"
     ]
    }
   ],
   "source": [
    "print(dfs)"
   ]
  },
  {
   "cell_type": "code",
   "execution_count": 42,
   "metadata": {
    "collapsed": true
   },
   "outputs": [
    {
     "name": "stdout",
     "output_type": "stream",
     "text": [
      "---Boreholes data--- \n",
      "---Components data--- \n",
      "---Intervals data--- \n",
      "---Lexicon data--- \n"
     ]
    },
    {
     "data": {
      "image/png": "[encoded data removed]",
      "text/plain": [
       "<Figure size 108x216 with 1 Axes>"
      ]
     },
     "metadata": {
      "needs_background": "light"
     },
     "output_type": "display_data"
    },
    {
     "data": {
      "image/png": "[encoded data removed]",
      "text/plain": [
       "<Figure size 432x288 with 15 Axes>"
      ]
     },
     "metadata": {
      "needs_background": "light"
     },
     "output_type": "display_data"
    }
   ],
   "source": [
    "Borehole.log_BH(\"F10\")"
   ]
  },
  {
   "cell_type": "code",
   "execution_count": 7,
   "metadata": {},
   "outputs": [
    {
     "name": "stdout",
     "output_type": "stream",
     "text": [
      "---Boreholes data--- \n",
      "---Components data--- \n",
      "---Intervals data--- \n",
      "---Lexicon data--- \n"
     ]
    }
   ],
   "source": []
  },
  {
   "cell_type": "code",
   "execution_count": 44,
   "metadata": {},
   "outputs": [
    {
     "name": "stdout",
     "output_type": "stream",
     "text": [
      "---Boreholes data--- \n",
      "---Components data--- \n",
      "---Intervals data--- \n",
      "---Lexicon data--- \n"
     ]
    },
    {
     "data": {
      "image/png": "[encoded data removed]",
      "text/plain": [
       "<Figure size 108x216 with 1 Axes>"
      ]
     },
     "metadata": {
      "needs_background": "light"
     },
     "output_type": "display_data"
    },
    {
     "data": {
      "image/png": "[encoded data removed]",
      "text/plain": [
       "<Figure size 432x288 with 15 Axes>"
      ]
     },
     "metadata": {
      "needs_background": "light"
     },
     "output_type": "display_data"
    }
   ],
   "source": [
    "Borehole.log_BH('F25')"
   ]
  },
  {
   "cell_type": "code",
   "execution_count": 17,
   "metadata": {
    "collapsed": true
   },
   "outputs": [
    {
     "ename": "NameError",
     "evalue": "name 'create_connection' is not defined",
     "output_type": "error",
     "traceback": [
      "\u001b[0;31m---------------------------------------------------------------------------\u001b[0m",
      "\u001b[0;31mNameError\u001b[0m                                 Traceback (most recent call last)",
      "\u001b[0;32m<ipython-input-17-14ccfb3e5529>\u001b[0m in \u001b[0;36m<module>\u001b[0;34m\u001b[0m\n\u001b[0;32m----> 1\u001b[0;31m \u001b[0mconn\u001b[0m \u001b[0;34m=\u001b[0m \u001b[0mcreate_connection\u001b[0m\u001b[0;34m(\u001b[0m\u001b[0mdatabase\u001b[0m\u001b[0;34m)\u001b[0m\u001b[0;34m\u001b[0m\u001b[0;34m\u001b[0m\u001b[0m\n\u001b[0m\u001b[1;32m      2\u001b[0m \u001b[0mtables\u001b[0m \u001b[0;34m=\u001b[0m \u001b[0;34m[\u001b[0m\u001b[0;34m'Boreholes'\u001b[0m\u001b[0;34m,\u001b[0m \u001b[0;34m'Components'\u001b[0m\u001b[0;34m,\u001b[0m \u001b[0;34m'Intervals'\u001b[0m\u001b[0;34m,\u001b[0m \u001b[0;34m'Lexicon'\u001b[0m\u001b[0;34m]\u001b[0m \u001b[0;31m# table names in the database\u001b[0m\u001b[0;34m\u001b[0m\u001b[0;34m\u001b[0m\u001b[0m\n\u001b[1;32m      3\u001b[0m \u001b[0mdfs\u001b[0m \u001b[0;34m=\u001b[0m \u001b[0;34m{\u001b[0m\u001b[0;34m}\u001b[0m\u001b[0;34m\u001b[0m\u001b[0;34m\u001b[0m\u001b[0m\n\u001b[1;32m      4\u001b[0m \u001b[0;32mwith\u001b[0m \u001b[0mconn\u001b[0m\u001b[0;34m:\u001b[0m\u001b[0;34m\u001b[0m\u001b[0;34m\u001b[0m\u001b[0m\n\u001b[1;32m      5\u001b[0m     \u001b[0;32mfor\u001b[0m \u001b[0mi\u001b[0m \u001b[0;32min\u001b[0m \u001b[0mtables\u001b[0m\u001b[0;34m:\u001b[0m\u001b[0;34m\u001b[0m\u001b[0;34m\u001b[0m\u001b[0m\n",
      "\u001b[0;31mNameError\u001b[0m: name 'create_connection' is not defined"
     ]
    }
   ],
   "source": [
    "conn = create_connection(database)\n",
    "tables = ['Boreholes', 'Components', 'Intervals', 'Lexicon'] # table names in the database\n",
    "dfs = {}\n",
    "with conn:\n",
    "    for i in tables:\n",
    "        print(\"---{table:s} data--- \".format(table=i))\n",
    "        sql_cmd = \"SELECT * FROM {table:s}\".format(table=i) # to select the data of the table Boreholes\n",
    "        dfs.update({i:  pd.read_sql(sql_cmd, conn)})"
   ]
  },
  {
   "cell_type": "code",
   "execution_count": 22,
   "metadata": {},
   "outputs": [
    {
     "name": "stderr",
     "output_type": "stream",
     "text": [
      "/home/yanathan/.local/share/virtualenvs/GSDMA-DRfwm83x/lib/python3.6/site-packages/geopandas/geodataframe.py:422: RuntimeWarning: Sequential read of iterator was interrupted. Resetting iterator. This can negatively impact the performance.\n",
      "  for feature in features_lst:\n"
     ]
    }
   ],
   "source": [
    "dat_gdf = gpd.read_file(\"dat.gpkg\")"
   ]
  },
  {
   "cell_type": "code",
   "execution_count": 23,
   "metadata": {},
   "outputs": [
    {
     "data": {
      "text/html": [
       "<div>\n",
       "<style scoped>\n",
       "    .dataframe tbody tr th:only-of-type {\n",
       "        vertical-align: middle;\n",
       "    }\n",
       "\n",
       "    .dataframe tbody tr th {\n",
       "        vertical-align: top;\n",
       "    }\n",
       "\n",
       "    .dataframe thead th {\n",
       "        text-align: right;\n",
       "    }\n",
       "</style>\n",
       "<table border=\"1\" class=\"dataframe\">\n",
       "  <thead>\n",
       "    <tr style=\"text-align: right;\">\n",
       "      <th></th>\n",
       "      <th>Id</th>\n",
       "      <th>Type</th>\n",
       "      <th>Pilote</th>\n",
       "      <th>Ref</th>\n",
       "      <th>diam</th>\n",
       "      <th>Valid</th>\n",
       "      <th>Syscal</th>\n",
       "      <th>Impo</th>\n",
       "      <th>Inox</th>\n",
       "      <th>geometry</th>\n",
       "    </tr>\n",
       "  </thead>\n",
       "  <tbody>\n",
       "    <tr>\n",
       "      <th>0</th>\n",
       "      <td>0</td>\n",
       "      <td>1</td>\n",
       "      <td>1</td>\n",
       "      <td>111</td>\n",
       "      <td>2</td>\n",
       "      <td>1</td>\n",
       "      <td>1.0</td>\n",
       "      <td>0.0</td>\n",
       "      <td>1.0</td>\n",
       "      <td>POINT (4.40947 50.41420)</td>\n",
       "    </tr>\n",
       "    <tr>\n",
       "      <th>1</th>\n",
       "      <td>0</td>\n",
       "      <td>1</td>\n",
       "      <td>1</td>\n",
       "      <td>120</td>\n",
       "      <td>2</td>\n",
       "      <td>1</td>\n",
       "      <td>1.0</td>\n",
       "      <td>0.0</td>\n",
       "      <td>1.0</td>\n",
       "      <td>POINT (4.40929 50.41417)</td>\n",
       "    </tr>\n",
       "    <tr>\n",
       "      <th>2</th>\n",
       "      <td>0</td>\n",
       "      <td>2</td>\n",
       "      <td>1</td>\n",
       "      <td>217</td>\n",
       "      <td>3</td>\n",
       "      <td>1</td>\n",
       "      <td>1.0</td>\n",
       "      <td>1.0</td>\n",
       "      <td>1.0</td>\n",
       "      <td>POINT (4.40935 50.41416)</td>\n",
       "    </tr>\n",
       "    <tr>\n",
       "      <th>3</th>\n",
       "      <td>0</td>\n",
       "      <td>1</td>\n",
       "      <td>1</td>\n",
       "      <td>116</td>\n",
       "      <td>2</td>\n",
       "      <td>1</td>\n",
       "      <td>1.0</td>\n",
       "      <td>0.0</td>\n",
       "      <td>1.0</td>\n",
       "      <td>POINT (4.40932 50.41419)</td>\n",
       "    </tr>\n",
       "    <tr>\n",
       "      <th>4</th>\n",
       "      <td>0</td>\n",
       "      <td>2</td>\n",
       "      <td>1</td>\n",
       "      <td>214</td>\n",
       "      <td>2</td>\n",
       "      <td>1</td>\n",
       "      <td>1.0</td>\n",
       "      <td>1.0</td>\n",
       "      <td>1.0</td>\n",
       "      <td>POINT (4.40938 50.41418)</td>\n",
       "    </tr>\n",
       "    <tr>\n",
       "      <th>...</th>\n",
       "      <td>...</td>\n",
       "      <td>...</td>\n",
       "      <td>...</td>\n",
       "      <td>...</td>\n",
       "      <td>...</td>\n",
       "      <td>...</td>\n",
       "      <td>...</td>\n",
       "      <td>...</td>\n",
       "      <td>...</td>\n",
       "      <td>...</td>\n",
       "    </tr>\n",
       "    <tr>\n",
       "      <th>80</th>\n",
       "      <td>0</td>\n",
       "      <td>5</td>\n",
       "      <td>0</td>\n",
       "      <td>31</td>\n",
       "      <td>0</td>\n",
       "      <td>0</td>\n",
       "      <td>0.0</td>\n",
       "      <td>NaN</td>\n",
       "      <td>NaN</td>\n",
       "      <td>POINT (4.40935 50.41409)</td>\n",
       "    </tr>\n",
       "    <tr>\n",
       "      <th>81</th>\n",
       "      <td>0</td>\n",
       "      <td>6</td>\n",
       "      <td>0</td>\n",
       "      <td>40</td>\n",
       "      <td>0</td>\n",
       "      <td>0</td>\n",
       "      <td>0.0</td>\n",
       "      <td>NaN</td>\n",
       "      <td>NaN</td>\n",
       "      <td>POINT (4.40932 50.41408)</td>\n",
       "    </tr>\n",
       "    <tr>\n",
       "      <th>82</th>\n",
       "      <td>0</td>\n",
       "      <td>6</td>\n",
       "      <td>0</td>\n",
       "      <td>41</td>\n",
       "      <td>0</td>\n",
       "      <td>0</td>\n",
       "      <td>0.0</td>\n",
       "      <td>NaN</td>\n",
       "      <td>NaN</td>\n",
       "      <td>POINT (4.40933 50.41407)</td>\n",
       "    </tr>\n",
       "    <tr>\n",
       "      <th>83</th>\n",
       "      <td>0</td>\n",
       "      <td>0</td>\n",
       "      <td>0</td>\n",
       "      <td>12</td>\n",
       "      <td>0</td>\n",
       "      <td>1</td>\n",
       "      <td>NaN</td>\n",
       "      <td>NaN</td>\n",
       "      <td>NaN</td>\n",
       "      <td>POINT (4.40939 50.41409)</td>\n",
       "    </tr>\n",
       "    <tr>\n",
       "      <th>84</th>\n",
       "      <td>0</td>\n",
       "      <td>0</td>\n",
       "      <td>0</td>\n",
       "      <td>14</td>\n",
       "      <td>0</td>\n",
       "      <td>0</td>\n",
       "      <td>NaN</td>\n",
       "      <td>NaN</td>\n",
       "      <td>NaN</td>\n",
       "      <td>POINT (4.40937 50.41411)</td>\n",
       "    </tr>\n",
       "  </tbody>\n",
       "</table>\n",
       "<p>85 rows × 10 columns</p>\n",
       "</div>"
      ],
      "text/plain": [
       "    Id  Type  Pilote  Ref  diam  Valid  Syscal  Impo  Inox  \\\n",
       "0    0     1       1  111     2      1     1.0   0.0   1.0   \n",
       "1    0     1       1  120     2      1     1.0   0.0   1.0   \n",
       "2    0     2       1  217     3      1     1.0   1.0   1.0   \n",
       "3    0     1       1  116     2      1     1.0   0.0   1.0   \n",
       "4    0     2       1  214     2      1     1.0   1.0   1.0   \n",
       "..  ..   ...     ...  ...   ...    ...     ...   ...   ...   \n",
       "80   0     5       0   31     0      0     0.0   NaN   NaN   \n",
       "81   0     6       0   40     0      0     0.0   NaN   NaN   \n",
       "82   0     6       0   41     0      0     0.0   NaN   NaN   \n",
       "83   0     0       0   12     0      1     NaN   NaN   NaN   \n",
       "84   0     0       0   14     0      0     NaN   NaN   NaN   \n",
       "\n",
       "                    geometry  \n",
       "0   POINT (4.40947 50.41420)  \n",
       "1   POINT (4.40929 50.41417)  \n",
       "2   POINT (4.40935 50.41416)  \n",
       "3   POINT (4.40932 50.41419)  \n",
       "4   POINT (4.40938 50.41418)  \n",
       "..                       ...  \n",
       "80  POINT (4.40935 50.41409)  \n",
       "81  POINT (4.40932 50.41408)  \n",
       "82  POINT (4.40933 50.41407)  \n",
       "83  POINT (4.40939 50.41409)  \n",
       "84  POINT (4.40937 50.41411)  \n",
       "\n",
       "[85 rows x 10 columns]"
      ]
     },
     "execution_count": 23,
     "metadata": {},
     "output_type": "execute_result"
    }
   ],
   "source": [
    "dat_gdf"
   ]
  },
  {
   "cell_type": "code",
   "execution_count": null,
   "metadata": {},
   "outputs": [],
   "source": []
  }
 ],
 "metadata": {
  "kernelspec": {
   "display_name": "Python 3",
   "language": "python",
   "name": "python3"
  },
  "language_info": {
   "codemirror_mode": {
    "name": "ipython",
    "version": 3
   },
   "file_extension": ".py",
   "mimetype": "text/x-python",
   "name": "python",
   "nbconvert_exporter": "python",
   "pygments_lexer": "ipython3",
   "version": "3.6.9"
  }
 },
 "nbformat": 4,
 "nbformat_minor": 4
}

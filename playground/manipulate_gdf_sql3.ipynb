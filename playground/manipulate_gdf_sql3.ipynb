{
 "cells": [
  {
   "cell_type": "markdown",
   "metadata": {},
   "source": [
    "## Notebook to display boreholes on a map and to create the gpkg database from an existing sql3database and shapefile data"
   ]
  },
  {
   "cell_type": "markdown",
   "metadata": {},
   "source": [
    "Create gpkg from shp "
   ]
  },
  {
   "cell_type": "code",
   "execution_count": 1,
   "metadata": {},
   "outputs": [],
   "source": [
    "import geopandas as gpd\n",
    "import pandas as pd\n",
    "import folium\n",
    "import sqlite3"
   ]
  },
  {
   "cell_type": "markdown",
   "metadata": {},
   "source": [
    "read shp file (as a geodataframe)"
   ]
  },
  {
   "cell_type": "code",
   "execution_count": 2,
   "metadata": {},
   "outputs": [],
   "source": [
    "dat_shp = gpd.read_file(\"/home/gfa/GSDMA2019/playground/pilote/pilote/Pilote_v7.0.shp\")\n"
   ]
  },
  {
   "cell_type": "markdown",
   "metadata": {},
   "source": [
    "Read GPKG as a GeoDataFrame"
   ]
  },
  {
   "cell_type": "code",
   "execution_count": 3,
   "metadata": {},
   "outputs": [
    {
     "ename": "DriverError",
     "evalue": "/home/gfa/GSDMA2019/playground/pilote/data.gpkg: No such file or directory",
     "output_type": "error",
     "traceback": [
      "\u001b[0;31m---------------------------------------------------------------------------\u001b[0m",
      "\u001b[0;31mCPLE_OpenFailedError\u001b[0m                      Traceback (most recent call last)",
      "\u001b[0;32mfiona/_shim.pyx\u001b[0m in \u001b[0;36mfiona._shim.gdal_open_vector\u001b[0;34m()\u001b[0m\n",
      "\u001b[0;32mfiona/_err.pyx\u001b[0m in \u001b[0;36mfiona._err.exc_wrap_pointer\u001b[0;34m()\u001b[0m\n",
      "\u001b[0;31mCPLE_OpenFailedError\u001b[0m: /home/gfa/GSDMA2019/playground/pilote/data.gpkg: No such file or directory",
      "\nDuring handling of the above exception, another exception occurred:\n",
      "\u001b[0;31mDriverError\u001b[0m                               Traceback (most recent call last)",
      "\u001b[0;32m<ipython-input-3-20359e89a848>\u001b[0m in \u001b[0;36m<module>\u001b[0;34m\u001b[0m\n\u001b[0;32m----> 1\u001b[0;31m \u001b[0mdata_from_gpkg\u001b[0m \u001b[0;34m=\u001b[0m \u001b[0mgpd\u001b[0m\u001b[0;34m.\u001b[0m\u001b[0mread_file\u001b[0m\u001b[0;34m(\u001b[0m\u001b[0;34m\"/home/gfa/GSDMA2019/playground/pilote/data.gpkg\"\u001b[0m\u001b[0;34m)\u001b[0m\u001b[0;34m\u001b[0m\u001b[0;34m\u001b[0m\u001b[0m\n\u001b[0m",
      "\u001b[0;32m~/.local/lib/python3.6/site-packages/geopandas/io/file.py\u001b[0m in \u001b[0;36mread_file\u001b[0;34m(filename, bbox, **kwargs)\u001b[0m\n\u001b[1;32m     75\u001b[0m \u001b[0;34m\u001b[0m\u001b[0m\n\u001b[1;32m     76\u001b[0m     \u001b[0;32mwith\u001b[0m \u001b[0mfiona_env\u001b[0m\u001b[0;34m(\u001b[0m\u001b[0;34m)\u001b[0m\u001b[0;34m:\u001b[0m\u001b[0;34m\u001b[0m\u001b[0;34m\u001b[0m\u001b[0m\n\u001b[0;32m---> 77\u001b[0;31m         \u001b[0;32mwith\u001b[0m \u001b[0mreader\u001b[0m\u001b[0;34m(\u001b[0m\u001b[0mpath_or_bytes\u001b[0m\u001b[0;34m,\u001b[0m \u001b[0;34m**\u001b[0m\u001b[0mkwargs\u001b[0m\u001b[0;34m)\u001b[0m \u001b[0;32mas\u001b[0m \u001b[0mfeatures\u001b[0m\u001b[0;34m:\u001b[0m\u001b[0;34m\u001b[0m\u001b[0;34m\u001b[0m\u001b[0m\n\u001b[0m\u001b[1;32m     78\u001b[0m \u001b[0;34m\u001b[0m\u001b[0m\n\u001b[1;32m     79\u001b[0m             \u001b[0;31m# In a future Fiona release the crs attribute of features will\u001b[0m\u001b[0;34m\u001b[0m\u001b[0;34m\u001b[0m\u001b[0;34m\u001b[0m\u001b[0m\n",
      "\u001b[0;32m~/.local/lib/python3.6/site-packages/fiona/env.py\u001b[0m in \u001b[0;36mwrapper\u001b[0;34m(*args, **kwargs)\u001b[0m\n\u001b[1;32m    395\u001b[0m     \u001b[0;32mdef\u001b[0m \u001b[0mwrapper\u001b[0m\u001b[0;34m(\u001b[0m\u001b[0;34m*\u001b[0m\u001b[0margs\u001b[0m\u001b[0;34m,\u001b[0m \u001b[0;34m**\u001b[0m\u001b[0mkwargs\u001b[0m\u001b[0;34m)\u001b[0m\u001b[0;34m:\u001b[0m\u001b[0;34m\u001b[0m\u001b[0;34m\u001b[0m\u001b[0m\n\u001b[1;32m    396\u001b[0m         \u001b[0;32mif\u001b[0m \u001b[0mlocal\u001b[0m\u001b[0;34m.\u001b[0m\u001b[0m_env\u001b[0m\u001b[0;34m:\u001b[0m\u001b[0;34m\u001b[0m\u001b[0;34m\u001b[0m\u001b[0m\n\u001b[0;32m--> 397\u001b[0;31m             \u001b[0;32mreturn\u001b[0m \u001b[0mf\u001b[0m\u001b[0;34m(\u001b[0m\u001b[0;34m*\u001b[0m\u001b[0margs\u001b[0m\u001b[0;34m,\u001b[0m \u001b[0;34m**\u001b[0m\u001b[0mkwargs\u001b[0m\u001b[0;34m)\u001b[0m\u001b[0;34m\u001b[0m\u001b[0;34m\u001b[0m\u001b[0m\n\u001b[0m\u001b[1;32m    398\u001b[0m         \u001b[0;32melse\u001b[0m\u001b[0;34m:\u001b[0m\u001b[0;34m\u001b[0m\u001b[0;34m\u001b[0m\u001b[0m\n\u001b[1;32m    399\u001b[0m             \u001b[0;32mif\u001b[0m \u001b[0misinstance\u001b[0m\u001b[0;34m(\u001b[0m\u001b[0margs\u001b[0m\u001b[0;34m[\u001b[0m\u001b[0;36m0\u001b[0m\u001b[0;34m]\u001b[0m\u001b[0;34m,\u001b[0m \u001b[0mstr\u001b[0m\u001b[0;34m)\u001b[0m\u001b[0;34m:\u001b[0m\u001b[0;34m\u001b[0m\u001b[0;34m\u001b[0m\u001b[0m\n",
      "\u001b[0;32m~/.local/lib/python3.6/site-packages/fiona/__init__.py\u001b[0m in \u001b[0;36mopen\u001b[0;34m(fp, mode, driver, schema, crs, encoding, layer, vfs, enabled_drivers, crs_wkt, **kwargs)\u001b[0m\n\u001b[1;32m    251\u001b[0m         \u001b[0;32mif\u001b[0m \u001b[0mmode\u001b[0m \u001b[0;32min\u001b[0m \u001b[0;34m(\u001b[0m\u001b[0;34m'a'\u001b[0m\u001b[0;34m,\u001b[0m \u001b[0;34m'r'\u001b[0m\u001b[0;34m)\u001b[0m\u001b[0;34m:\u001b[0m\u001b[0;34m\u001b[0m\u001b[0;34m\u001b[0m\u001b[0m\n\u001b[1;32m    252\u001b[0m             c = Collection(path, mode, driver=driver, encoding=encoding,\n\u001b[0;32m--> 253\u001b[0;31m                            layer=layer, enabled_drivers=enabled_drivers, **kwargs)\n\u001b[0m\u001b[1;32m    254\u001b[0m         \u001b[0;32melif\u001b[0m \u001b[0mmode\u001b[0m \u001b[0;34m==\u001b[0m \u001b[0;34m'w'\u001b[0m\u001b[0;34m:\u001b[0m\u001b[0;34m\u001b[0m\u001b[0;34m\u001b[0m\u001b[0m\n\u001b[1;32m    255\u001b[0m             \u001b[0;32mif\u001b[0m \u001b[0mschema\u001b[0m\u001b[0;34m:\u001b[0m\u001b[0;34m\u001b[0m\u001b[0;34m\u001b[0m\u001b[0m\n",
      "\u001b[0;32m~/.local/lib/python3.6/site-packages/fiona/collection.py\u001b[0m in \u001b[0;36m__init__\u001b[0;34m(self, path, mode, driver, schema, crs, encoding, layer, vsi, archive, enabled_drivers, crs_wkt, ignore_fields, ignore_geometry, **kwargs)\u001b[0m\n\u001b[1;32m    157\u001b[0m             \u001b[0;32mif\u001b[0m \u001b[0mself\u001b[0m\u001b[0;34m.\u001b[0m\u001b[0mmode\u001b[0m \u001b[0;34m==\u001b[0m \u001b[0;34m'r'\u001b[0m\u001b[0;34m:\u001b[0m\u001b[0;34m\u001b[0m\u001b[0;34m\u001b[0m\u001b[0m\n\u001b[1;32m    158\u001b[0m                 \u001b[0mself\u001b[0m\u001b[0;34m.\u001b[0m\u001b[0msession\u001b[0m \u001b[0;34m=\u001b[0m \u001b[0mSession\u001b[0m\u001b[0;34m(\u001b[0m\u001b[0;34m)\u001b[0m\u001b[0;34m\u001b[0m\u001b[0;34m\u001b[0m\u001b[0m\n\u001b[0;32m--> 159\u001b[0;31m                 \u001b[0mself\u001b[0m\u001b[0;34m.\u001b[0m\u001b[0msession\u001b[0m\u001b[0;34m.\u001b[0m\u001b[0mstart\u001b[0m\u001b[0;34m(\u001b[0m\u001b[0mself\u001b[0m\u001b[0;34m,\u001b[0m \u001b[0;34m**\u001b[0m\u001b[0mkwargs\u001b[0m\u001b[0;34m)\u001b[0m\u001b[0;34m\u001b[0m\u001b[0;34m\u001b[0m\u001b[0m\n\u001b[0m\u001b[1;32m    160\u001b[0m             \u001b[0;32melif\u001b[0m \u001b[0mself\u001b[0m\u001b[0;34m.\u001b[0m\u001b[0mmode\u001b[0m \u001b[0;32min\u001b[0m \u001b[0;34m(\u001b[0m\u001b[0;34m'a'\u001b[0m\u001b[0;34m,\u001b[0m \u001b[0;34m'w'\u001b[0m\u001b[0;34m)\u001b[0m\u001b[0;34m:\u001b[0m\u001b[0;34m\u001b[0m\u001b[0;34m\u001b[0m\u001b[0m\n\u001b[1;32m    161\u001b[0m                 \u001b[0mself\u001b[0m\u001b[0;34m.\u001b[0m\u001b[0msession\u001b[0m \u001b[0;34m=\u001b[0m \u001b[0mWritingSession\u001b[0m\u001b[0;34m(\u001b[0m\u001b[0;34m)\u001b[0m\u001b[0;34m\u001b[0m\u001b[0;34m\u001b[0m\u001b[0m\n",
      "\u001b[0;32mfiona/ogrext.pyx\u001b[0m in \u001b[0;36mfiona.ogrext.Session.start\u001b[0;34m()\u001b[0m\n",
      "\u001b[0;32mfiona/_shim.pyx\u001b[0m in \u001b[0;36mfiona._shim.gdal_open_vector\u001b[0;34m()\u001b[0m\n",
      "\u001b[0;31mDriverError\u001b[0m: /home/gfa/GSDMA2019/playground/pilote/data.gpkg: No such file or directory"
     ]
    }
   ],
   "source": [
    "data_from_gpkg = gpd.read_file(\"/home/gfa/GSDMA2019/playground/pilote/data.gpkg\")"
   ]
  },
  {
   "cell_type": "markdown",
   "metadata": {},
   "source": [
    "Write a geojson from gdf"
   ]
  },
  {
   "cell_type": "code",
   "execution_count": null,
   "metadata": {},
   "outputs": [],
   "source": [
    "data_from_gpkg.to_file(\"data.geojson\", driver='GeoJSON')"
   ]
  },
  {
   "cell_type": "markdown",
   "metadata": {},
   "source": [
    "## Work on data"
   ]
  },
  {
   "cell_type": "markdown",
   "metadata": {},
   "source": [
    "### Add a Colomn"
   ]
  },
  {
   "cell_type": "code",
   "execution_count": 4,
   "metadata": {},
   "outputs": [
    {
     "ename": "NameError",
     "evalue": "name 'data_from_gpkg' is not defined",
     "output_type": "error",
     "traceback": [
      "\u001b[0;31m---------------------------------------------------------------------------\u001b[0m",
      "\u001b[0;31mNameError\u001b[0m                                 Traceback (most recent call last)",
      "\u001b[0;32m<ipython-input-4-9d5a34d355a5>\u001b[0m in \u001b[0;36m<module>\u001b[0;34m\u001b[0m\n\u001b[0;32m----> 1\u001b[0;31m \u001b[0mdata_from_gpkg\u001b[0m\u001b[0;34m[\u001b[0m\u001b[0;34m'new_column'\u001b[0m\u001b[0;34m]\u001b[0m \u001b[0;34m=\u001b[0m \u001b[0;32mNone\u001b[0m\u001b[0;34m\u001b[0m\u001b[0;34m\u001b[0m\u001b[0m\n\u001b[0m",
      "\u001b[0;31mNameError\u001b[0m: name 'data_from_gpkg' is not defined"
     ]
    }
   ],
   "source": [
    "data_from_gpkg['new_column'] = None"
   ]
  },
  {
   "cell_type": "code",
   "execution_count": 5,
   "metadata": {},
   "outputs": [
    {
     "ename": "NameError",
     "evalue": "name 'data_from_gpkg' is not defined",
     "output_type": "error",
     "traceback": [
      "\u001b[0;31m---------------------------------------------------------------------------\u001b[0m",
      "\u001b[0;31mNameError\u001b[0m                                 Traceback (most recent call last)",
      "\u001b[0;32m<ipython-input-5-f155de08b90e>\u001b[0m in \u001b[0;36m<module>\u001b[0;34m\u001b[0m\n\u001b[0;32m----> 1\u001b[0;31m \u001b[0mdata_from_gpkg\u001b[0m\u001b[0;34m.\u001b[0m\u001b[0mloc\u001b[0m\u001b[0;34m[\u001b[0m\u001b[0;36m0\u001b[0m\u001b[0;34m,\u001b[0m \u001b[0;34m'new_column'\u001b[0m\u001b[0;34m]\u001b[0m \u001b[0;34m=\u001b[0m \u001b[0;34m'Senaatintori'\u001b[0m\u001b[0;34m\u001b[0m\u001b[0;34m\u001b[0m\u001b[0m\n\u001b[0m",
      "\u001b[0;31mNameError\u001b[0m: name 'data_from_gpkg' is not defined"
     ]
    }
   ],
   "source": [
    "data_from_gpkg.loc[0, 'new_column'] = 'Senaatintori'"
   ]
  },
  {
   "cell_type": "markdown",
   "metadata": {},
   "source": [
    "## Plot"
   ]
  },
  {
   "cell_type": "markdown",
   "metadata": {},
   "source": [
    "### Naive"
   ]
  },
  {
   "cell_type": "code",
   "execution_count": 6,
   "metadata": {
    "scrolled": false
   },
   "outputs": [
    {
     "ename": "NameError",
     "evalue": "name 'data_from_gpkg' is not defined",
     "output_type": "error",
     "traceback": [
      "\u001b[0;31m---------------------------------------------------------------------------\u001b[0m",
      "\u001b[0;31mNameError\u001b[0m                                 Traceback (most recent call last)",
      "\u001b[0;32m<ipython-input-6-959be645dda1>\u001b[0m in \u001b[0;36m<module>\u001b[0;34m\u001b[0m\n\u001b[0;32m----> 1\u001b[0;31m \u001b[0mdata_from_gpkg\u001b[0m\u001b[0;34m.\u001b[0m\u001b[0mplot\u001b[0m\u001b[0;34m(\u001b[0m\u001b[0;34m)\u001b[0m\u001b[0;34m\u001b[0m\u001b[0;34m\u001b[0m\u001b[0m\n\u001b[0m",
      "\u001b[0;31mNameError\u001b[0m: name 'data_from_gpkg' is not defined"
     ]
    }
   ],
   "source": [
    "data_from_gpkg.plot()"
   ]
  },
  {
   "cell_type": "markdown",
   "metadata": {},
   "source": [
    "## CRS"
   ]
  },
  {
   "cell_type": "markdown",
   "metadata": {},
   "source": [
    "EPSG 31370 (Lambert 72)"
   ]
  },
  {
   "cell_type": "code",
   "execution_count": 7,
   "metadata": {},
   "outputs": [],
   "source": [
    "dat_84 = dat_shp.to_crs(epsg=4326)"
   ]
  },
  {
   "cell_type": "markdown",
   "metadata": {},
   "source": [
    "### Create GPKG from gdf"
   ]
  },
  {
   "cell_type": "code",
   "execution_count": 8,
   "metadata": {},
   "outputs": [],
   "source": [
    "dat_84.to_file(\"dat.gpkg\", driver=\"GPKG\")"
   ]
  },
  {
   "cell_type": "markdown",
   "metadata": {},
   "source": [
    "### List of Tables"
   ]
  },
  {
   "cell_type": "code",
   "execution_count": 9,
   "metadata": {},
   "outputs": [],
   "source": [
    "list_tables = ['Components', 'Intervals', 'Boreholes','Lexicon']"
   ]
  },
  {
   "cell_type": "markdown",
   "metadata": {},
   "source": [
    "### Copy Tables"
   ]
  },
  {
   "cell_type": "code",
   "execution_count": 10,
   "metadata": {},
   "outputs": [
    {
     "ename": "NameError",
     "evalue": "name 'db_copy_sqlite3_tables' is not defined",
     "output_type": "error",
     "traceback": [
      "\u001b[0;31m---------------------------------------------------------------------------\u001b[0m",
      "\u001b[0;31mNameError\u001b[0m                                 Traceback (most recent call last)",
      "\u001b[0;32m<ipython-input-10-be10fa3e5a4b>\u001b[0m in \u001b[0;36m<module>\u001b[0;34m\u001b[0m\n\u001b[0;32m----> 1\u001b[0;31m \u001b[0mdb_copy_sqlite3_tables\u001b[0m\u001b[0;34m(\u001b[0m\u001b[0;34m'project_database.db'\u001b[0m\u001b[0;34m,\u001b[0m\u001b[0;34m'dat.gpkg'\u001b[0m\u001b[0;34m,\u001b[0m\u001b[0mlist_tables\u001b[0m\u001b[0;34m)\u001b[0m\u001b[0;34m\u001b[0m\u001b[0;34m\u001b[0m\u001b[0m\n\u001b[0m",
      "\u001b[0;31mNameError\u001b[0m: name 'db_copy_sqlite3_tables' is not defined"
     ]
    }
   ],
   "source": [
    "db_copy_sqlite3_tables('project_database.db','dat.gpkg',list_tables)"
   ]
  },
  {
   "cell_type": "markdown",
   "metadata": {},
   "source": [
    "## Folium "
   ]
  },
  {
   "cell_type": "code",
   "execution_count": 11,
   "metadata": {},
   "outputs": [],
   "source": [
    "dat_gdf = gpd.read_file(\"dat.gpkg\")\n"
   ]
  },
  {
   "cell_type": "code",
   "execution_count": 12,
   "metadata": {},
   "outputs": [],
   "source": [
    "dat_84.to_file(\"output.json\", driver=\"GeoJSON\")"
   ]
  },
  {
   "cell_type": "code",
   "execution_count": 31,
   "metadata": {},
   "outputs": [
    {
     "data": {
      "text/html": [
       "<div style=\"width:100%;\"><div style=\"position:relative;width:100%;height:0;padding-bottom:60%;\"><iframe src=\"data:text/html;charset=utf-8;base64,PCFET0NUWVBFIGh0bWw+CjxoZWFkPiAgICAKICAgIDxtZXRhIGh0dHAtZXF1aXY9ImNvbnRlbnQtdHlwZSIgY29udGVudD0idGV4dC9odG1sOyBjaGFyc2V0PVVURi04IiAvPgogICAgCiAgICAgICAgPHNjcmlwdD4KICAgICAgICAgICAgTF9OT19UT1VDSCA9IGZhbHNlOwogICAgICAgICAgICBMX0RJU0FCTEVfM0QgPSBmYWxzZTsKICAgICAgICA8L3NjcmlwdD4KICAgIAogICAgPHNjcmlwdCBzcmM9Imh0dHBzOi8vY2RuLmpzZGVsaXZyLm5ldC9ucG0vbGVhZmxldEAxLjUuMS9kaXN0L2xlYWZsZXQuanMiPjwvc2NyaXB0PgogICAgPHNjcmlwdCBzcmM9Imh0dHBzOi8vY29kZS5qcXVlcnkuY29tL2pxdWVyeS0xLjEyLjQubWluLmpzIj48L3NjcmlwdD4KICAgIDxzY3JpcHQgc3JjPSJodHRwczovL21heGNkbi5ib290c3RyYXBjZG4uY29tL2Jvb3RzdHJhcC8zLjIuMC9qcy9ib290c3RyYXAubWluLmpzIj48L3NjcmlwdD4KICAgIDxzY3JpcHQgc3JjPSJodHRwczovL2NkbmpzLmNsb3VkZmxhcmUuY29tL2FqYXgvbGlicy9MZWFmbGV0LmF3ZXNvbWUtbWFya2Vycy8yLjAuMi9sZWFmbGV0LmF3ZXNvbWUtbWFya2Vycy5qcyI+PC9zY3JpcHQ+CiAgICA8bGluayByZWw9InN0eWxlc2hlZXQiIGhyZWY9Imh0dHBzOi8vY2RuLmpzZGVsaXZyLm5ldC9ucG0vbGVhZmxldEAxLjUuMS9kaXN0L2xlYWZsZXQuY3NzIi8+CiAgICA8bGluayByZWw9InN0eWxlc2hlZXQiIGhyZWY9Imh0dHBzOi8vbWF4Y2RuLmJvb3RzdHJhcGNkbi5jb20vYm9vdHN0cmFwLzMuMi4wL2Nzcy9ib290c3RyYXAubWluLmNzcyIvPgogICAgPGxpbmsgcmVsPSJzdHlsZXNoZWV0IiBocmVmPSJodHRwczovL21heGNkbi5ib290c3RyYXBjZG4uY29tL2Jvb3RzdHJhcC8zLjIuMC9jc3MvYm9vdHN0cmFwLXRoZW1lLm1pbi5jc3MiLz4KICAgIDxsaW5rIHJlbD0ic3R5bGVzaGVldCIgaHJlZj0iaHR0cHM6Ly9tYXhjZG4uYm9vdHN0cmFwY2RuLmNvbS9mb250LWF3ZXNvbWUvNC42LjMvY3NzL2ZvbnQtYXdlc29tZS5taW4uY3NzIi8+CiAgICA8bGluayByZWw9InN0eWxlc2hlZXQiIGhyZWY9Imh0dHBzOi8vY2RuanMuY2xvdWRmbGFyZS5jb20vYWpheC9saWJzL0xlYWZsZXQuYXdlc29tZS1tYXJrZXJzLzIuMC4yL2xlYWZsZXQuYXdlc29tZS1tYXJrZXJzLmNzcyIvPgogICAgPGxpbmsgcmVsPSJzdHlsZXNoZWV0IiBocmVmPSJodHRwczovL3Jhd2Nkbi5naXRoYWNrLmNvbS9weXRob24tdmlzdWFsaXphdGlvbi9mb2xpdW0vbWFzdGVyL2ZvbGl1bS90ZW1wbGF0ZXMvbGVhZmxldC5hd2Vzb21lLnJvdGF0ZS5jc3MiLz4KICAgIDxzdHlsZT5odG1sLCBib2R5IHt3aWR0aDogMTAwJTtoZWlnaHQ6IDEwMCU7bWFyZ2luOiAwO3BhZGRpbmc6IDA7fTwvc3R5bGU+CiAgICA8c3R5bGU+I21hcCB7cG9zaXRpb246YWJzb2x1dGU7dG9wOjA7Ym90dG9tOjA7cmlnaHQ6MDtsZWZ0OjA7fTwvc3R5bGU+CiAgICAKICAgICAgICAgICAgPG1ldGEgbmFtZT0idmlld3BvcnQiIGNvbnRlbnQ9IndpZHRoPWRldmljZS13aWR0aCwKICAgICAgICAgICAgICAgIGluaXRpYWwtc2NhbGU9MS4wLCBtYXhpbXVtLXNjYWxlPTEuMCwgdXNlci1zY2FsYWJsZT1ubyIgLz4KICAgICAgICAgICAgPHN0eWxlPgogICAgICAgICAgICAgICAgI21hcF8yNzRmZDAwYWE0OWQ0NzRmYWEzMjFjYzU3NGVkOTIzMCB7CiAgICAgICAgICAgICAgICAgICAgcG9zaXRpb246IHJlbGF0aXZlOwogICAgICAgICAgICAgICAgICAgIHdpZHRoOiAxMDAuMCU7CiAgICAgICAgICAgICAgICAgICAgaGVpZ2h0OiAxMDAuMCU7CiAgICAgICAgICAgICAgICAgICAgbGVmdDogMC4wJTsKICAgICAgICAgICAgICAgICAgICB0b3A6IDAuMCU7CiAgICAgICAgICAgICAgICB9CiAgICAgICAgICAgIDwvc3R5bGU+CiAgICAgICAgCjwvaGVhZD4KPGJvZHk+ICAgIAogICAgCiAgICAgICAgICAgIDxkaXYgY2xhc3M9ImZvbGl1bS1tYXAiIGlkPSJtYXBfMjc0ZmQwMGFhNDlkNDc0ZmFhMzIxY2M1NzRlZDkyMzAiID48L2Rpdj4KICAgICAgICAKPC9ib2R5Pgo8c2NyaXB0PiAgICAKICAgIAogICAgICAgICAgICB2YXIgbWFwXzI3NGZkMDBhYTQ5ZDQ3NGZhYTMyMWNjNTc0ZWQ5MjMwID0gTC5tYXAoCiAgICAgICAgICAgICAgICAibWFwXzI3NGZkMDBhYTQ5ZDQ3NGZhYTMyMWNjNTc0ZWQ5MjMwIiwKICAgICAgICAgICAgICAgIHsKICAgICAgICAgICAgICAgICAgICBjZW50ZXI6IFs1MC40NTUsIDMuOTRdLAogICAgICAgICAgICAgICAgICAgIGNyczogTC5DUlMuRVBTRzM4NTcsCiAgICAgICAgICAgICAgICAgICAgem9vbTogMTAsCiAgICAgICAgICAgICAgICAgICAgem9vbUNvbnRyb2w6IHRydWUsCiAgICAgICAgICAgICAgICAgICAgcHJlZmVyQ2FudmFzOiBmYWxzZSwKICAgICAgICAgICAgICAgIH0KICAgICAgICAgICAgKTsKCiAgICAgICAgICAgIAoKICAgICAgICAKICAgIAogICAgICAgICAgICB2YXIgdGlsZV9sYXllcl85ZWQ3MTYxMDUwMzc0NWNmOTczYTRlYWNmOGJiNWJkMyA9IEwudGlsZUxheWVyKAogICAgICAgICAgICAgICAgImh0dHBzOi8ve3N9LnRpbGUub3BlbnN0cmVldG1hcC5vcmcve3p9L3t4fS97eX0ucG5nIiwKICAgICAgICAgICAgICAgIHsiYXR0cmlidXRpb24iOiAiRGF0YSBieSBcdTAwMjZjb3B5OyBcdTAwM2NhIGhyZWY9XCJodHRwOi8vb3BlbnN0cmVldG1hcC5vcmdcIlx1MDAzZU9wZW5TdHJlZXRNYXBcdTAwM2MvYVx1MDAzZSwgdW5kZXIgXHUwMDNjYSBocmVmPVwiaHR0cDovL3d3dy5vcGVuc3RyZWV0bWFwLm9yZy9jb3B5cmlnaHRcIlx1MDAzZU9EYkxcdTAwM2MvYVx1MDAzZS4iLCAiZGV0ZWN0UmV0aW5hIjogZmFsc2UsICJtYXhOYXRpdmVab29tIjogMTgsICJtYXhab29tIjogMTgsICJtaW5ab29tIjogMCwgIm5vV3JhcCI6IGZhbHNlLCAib3BhY2l0eSI6IDEsICJzdWJkb21haW5zIjogImFiYyIsICJ0bXMiOiBmYWxzZX0KICAgICAgICAgICAgKS5hZGRUbyhtYXBfMjc0ZmQwMGFhNDlkNDc0ZmFhMzIxY2M1NzRlZDkyMzApOwogICAgICAgIAogICAgCiAgICAgICAgZnVuY3Rpb24gZ2VvX2pzb25fOTI1Y2JlNzBjZDhjNDg0YTk4MWMwNjI0MjhiY2E1YWJfb25FYWNoRmVhdHVyZShmZWF0dXJlLCBsYXllcikgewogICAgICAgICAgICBsYXllci5vbih7CiAgICAgICAgICAgICAgICBjbGljazogZnVuY3Rpb24oZSkgewogICAgICAgICAgICAgICAgICAgIG1hcF8yNzRmZDAwYWE0OWQ0NzRmYWEzMjFjYzU3NGVkOTIzMC5maXRCb3VuZHMoZS50YXJnZXQuZ2V0Qm91bmRzKCkpOwogICAgICAgICAgICAgICAgfQogICAgICAgICAgICB9KTsKICAgICAgICB9OwogICAgICAgIHZhciBnZW9fanNvbl85MjVjYmU3MGNkOGM0ODRhOTgxYzA2MjQyOGJjYTVhYiA9IEwuZ2VvSnNvbihudWxsLCB7CiAgICAgICAgICAgICAgICBvbkVhY2hGZWF0dXJlOiBnZW9fanNvbl85MjVjYmU3MGNkOGM0ODRhOTgxYzA2MjQyOGJjYTVhYl9vbkVhY2hGZWF0dXJlLAogICAgICAgICAgICAKICAgICAgICB9KTsKICAgICAgICBmdW5jdGlvbiBnZW9fanNvbl85MjVjYmU3MGNkOGM0ODRhOTgxYzA2MjQyOGJjYTVhYl9hZGQgKGRhdGEpIHsKICAgICAgICAgICAgZ2VvX2pzb25fOTI1Y2JlNzBjZDhjNDg0YTk4MWMwNjI0MjhiY2E1YWIuYWRkRGF0YShkYXRhKQogICAgICAgICAgICAgICAgLmFkZFRvKG1hcF8yNzRmZDAwYWE0OWQ0NzRmYWEzMjFjYzU3NGVkOTIzMCk7CiAgICAgICAgfQogICAgICAgICAgICBnZW9fanNvbl85MjVjYmU3MGNkOGM0ODRhOTgxYzA2MjQyOGJjYTVhYl9hZGQoeyJjcnMiOiB7InByb3BlcnRpZXMiOiB7Im5hbWUiOiAidXJuOm9nYzpkZWY6Y3JzOk9HQzoxLjM6Q1JTODQifSwgInR5cGUiOiAibmFtZSJ9LCAiZmVhdHVyZXMiOiBbeyJnZW9tZXRyeSI6IHsiY29vcmRpbmF0ZXMiOiBbNC40MDk0NzE5ODgzNTEzNCwgNTAuNDE0MjAyMTM3MDA4MjVdLCAidHlwZSI6ICJQb2ludCJ9LCAicHJvcGVydGllcyI6IHsiSWQiOiAwLCAiSW1wbyI6IDAuMCwgIklub3giOiAxLjAsICJQaWxvdGUiOiAxLCAiUmVmIjogIjExMSIsICJTeXNjYWwiOiAxLjAsICJUeXBlIjogMSwgIlZhbGlkIjogMSwgImRpYW0iOiAyfSwgInR5cGUiOiAiRmVhdHVyZSJ9LCB7Imdlb21ldHJ5IjogeyJjb29yZGluYXRlcyI6IFs0LjQwOTI4NjAwMDYxNzUzOSwgNTAuNDE0MTcyMjcyODQ0OTg2XSwgInR5cGUiOiAiUG9pbnQifSwgInByb3BlcnRpZXMiOiB7IklkIjogMCwgIkltcG8iOiAwLjAsICJJbm94IjogMS4wLCAiUGlsb3RlIjogMSwgIlJlZiI6ICIxMjAiLCAiU3lzY2FsIjogMS4wLCAiVHlwZSI6IDEsICJWYWxpZCI6IDEsICJkaWFtIjogMn0sICJ0eXBlIjogIkZlYXR1cmUifSwgeyJnZW9tZXRyeSI6IHsiY29vcmRpbmF0ZXMiOiBbNC40MDkzNDg0MjU0ODczMTQsIDUwLjQxNDE2MTk5MzE2OTQyXSwgInR5cGUiOiAiUG9pbnQifSwgInByb3BlcnRpZXMiOiB7IklkIjogMCwgIkltcG8iOiAxLjAsICJJbm94IjogMS4wLCAiUGlsb3RlIjogMSwgIlJlZiI6ICIyMTciLCAiU3lzY2FsIjogMS4wLCAiVHlwZSI6IDIsICJWYWxpZCI6IDEsICJkaWFtIjogM30sICJ0eXBlIjogIkZlYXR1cmUifSwgeyJnZW9tZXRyeSI6IHsiY29vcmRpbmF0ZXMiOiBbNC40MDkzMjA3NDE0OTczMTMsIDUwLjQxNDE4NzU5MTM0NDUxNV0sICJ0eXBlIjogIlBvaW50In0sICJwcm9wZXJ0aWVzIjogeyJJZCI6IDAsICJJbXBvIjogMC4wLCAiSW5veCI6IDEuMCwgIlBpbG90ZSI6IDEsICJSZWYiOiAiMTE2IiwgIlN5c2NhbCI6IDEuMCwgIlR5cGUiOiAxLCAiVmFsaWQiOiAxLCAiZGlhbSI6IDJ9LCAidHlwZSI6ICJGZWF0dXJlIn0sIHsiZ2VvbWV0cnkiOiB7ImNvb3JkaW5hdGVzIjogWzQuNDA5MzgzMTY2MTcxODUxLCA1MC40MTQxNzczMTIwMzU2MjZdLCAidHlwZSI6ICJQb2ludCJ9LCAicHJvcGVydGllcyI6IHsiSWQiOiAwLCAiSW1wbyI6IDEuMCwgIklub3giOiAxLjAsICJQaWxvdGUiOiAxLCAiUmVmIjogIjIxNCIsICJTeXNjYWwiOiAxLjAsICJUeXBlIjogMiwgIlZhbGlkIjogMSwgImRpYW0iOiAyfSwgInR5cGUiOiAiRmVhdHVyZSJ9LCB7Imdlb21ldHJ5IjogeyJjb29yZGluYXRlcyI6IFs0LjQwOTM1NTQ4MjQwMDIyLCA1MC40MTQyMDI5MDk4MzMzNF0sICJ0eXBlIjogIlBvaW50In0sICJwcm9wZXJ0aWVzIjogeyJJZCI6IDAsICJJbXBvIjogMC4wLCAiSW5veCI6IDEuMCwgIlBpbG90ZSI6IDEsICJSZWYiOiAiMTEzIiwgIlN5c2NhbCI6IDEuMCwgIlR5cGUiOiAxLCAiVmFsaWQiOiAxLCAiZGlhbSI6IDJ9LCAidHlwZSI6ICJGZWF0dXJlIn0sIHsiZ2VvbWV0cnkiOiB7ImNvb3JkaW5hdGVzIjogWzQuNDA5Mjc4OTQyMjE3Mzc3LCA1MC40MTQxMzEzNTU2MTI1MV0sICJ0eXBlIjogIlBvaW50In0sICJwcm9wZXJ0aWVzIjogeyJJZCI6IDAsICJJbXBvIjogMS4wLCAiSW5veCI6IDEuMCwgIlBpbG90ZSI6IDEsICJSZWYiOiAiMjIzIiwgIlN5c2NhbCI6IDEuMCwgIlR5cGUiOiAyLCAiVmFsaWQiOiAxLCAiZGlhbSI6IDN9LCAidHlwZSI6ICJGZWF0dXJlIn0sIHsiZ2VvbWV0cnkiOiB7ImNvb3JkaW5hdGVzIjogWzQuNDA5MzEzNjgzOTI2MjYzLCA1MC40MTQxNDY2NzQ2MTI4Ml0sICJ0eXBlIjogIlBvaW50In0sICJwcm9wZXJ0aWVzIjogeyJJZCI6IDAsICJJbXBvIjogMS4wLCAiSW5veCI6IDEuMCwgIlBpbG90ZSI6IDEsICJSZWYiOiAiMjIxIiwgIlN5c2NhbCI6IDEuMCwgIlR5cGUiOiAyLCAiVmFsaWQiOiAxLCAiZGlhbSI6IDJ9LCAidHlwZSI6ICJGZWF0dXJlIn0sIHsiZ2VvbWV0cnkiOiB7ImNvb3JkaW5hdGVzIjogWzQuNDA5Mzk3MDA1NjEwODU5LCA1MC40MTQxNjQ0NjA2NTM4OV0sICJ0eXBlIjogIlBvaW50In0sICJwcm9wZXJ0aWVzIjogeyJJZCI6IDAsICJJbXBvIjogMC4wLCAiSW5veCI6IDEuMCwgIlBpbG90ZSI6IDEsICJSZWYiOiAiMTE4IiwgIlN5c2NhbCI6IDEuMCwgIlR5cGUiOiAxLCAiVmFsaWQiOiAxLCAiZGlhbSI6IDJ9LCAidHlwZSI6ICJGZWF0dXJlIn0sIHsiZ2VvbWV0cnkiOiB7ImNvb3JkaW5hdGVzIjogWzQuNDA5MzEwMjkyMDMxNDAyLCA1MC40MTQxNzM1NTkwMDE0MV0sICJ0eXBlIjogIlBvaW50In0sICJwcm9wZXJ0aWVzIjogeyJJZCI6IDAsICJJbXBvIjogMS4wLCAiSW5veCI6IDEuMCwgIlBpbG90ZSI6IDEsICJSZWYiOiAiMjE2IiwgIlN5c2NhbCI6IDEuMCwgIlR5cGUiOiAyLCAiVmFsaWQiOiAxLCAiZGlhbSI6IDJ9LCAidHlwZSI6ICJGZWF0dXJlIn0sIHsiZ2VvbWV0cnkiOiB7ImNvb3JkaW5hdGVzIjogWzQuNDA5MzIwNDY3MDQ3NzU3LCA1MC40MTQwOTI5MTEwMzg5MzVdLCAidHlwZSI6ICJQb2ludCJ9LCAicHJvcGVydGllcyI6IHsiSWQiOiAwLCAiSW1wbyI6IDEuMCwgIklub3giOiAxLjAsICJQaWxvdGUiOiAxLCAiUmVmIjogIjIyNiIsICJTeXNjYWwiOiAxLjAsICJUeXBlIjogMiwgIlZhbGlkIjogMSwgImRpYW0iOiAyfSwgInR5cGUiOiAiRmVhdHVyZSJ9LCB7Imdlb21ldHJ5IjogeyJjb29yZGluYXRlcyI6IFs0LjQwOTMxNzM1MDMxMTc4NiwgNTAuNDE0MjE0NDc1MTcxNDU1XSwgInR5cGUiOiAiUG9pbnQifSwgInByb3BlcnRpZXMiOiB7IklkIjogMCwgIkltcG8iOiAwLjAsICJJbm94IjogMS4wLCAiUGlsb3RlIjogMSwgIlJlZiI6ICIxMTIiLCAiU3lzY2FsIjogMS4wLCAiVHlwZSI6IDEsICJWYWxpZCI6IDEsICJkaWFtIjogMn0sICJ0eXBlIjogIkZlYXR1cmUifSwgeyJnZW9tZXRyeSI6IHsiY29vcmRpbmF0ZXMiOiBbNC40MDk0MzY3Mzk0ODM1MDcsIDUwLjQxNDIxNTkzNjg5MjY5XSwgInR5cGUiOiAiUG9pbnQifSwgInByb3BlcnRpZXMiOiB7IklkIjogMCwgIkltcG8iOiAwLjAsICJJbm94IjogMS4wLCAiUGlsb3RlIjogMSwgIlJlZiI6ICIxMTAiLCAiU3lzY2FsIjogMS4wLCAiVHlwZSI6IDEsICJWYWxpZCI6IDEsICJkaWFtIjogMn0sICJ0eXBlIjogIkZlYXR1cmUifSwgeyJnZW9tZXRyeSI6IHsiY29vcmRpbmF0ZXMiOiBbNC40MDkzMjc1MjM4NTc3MzMsIDUwLjQxNDEzMzgyMzY4OTg4XSwgInR5cGUiOiAiUG9pbnQifSwgInByb3BlcnRpZXMiOiB7IklkIjogMCwgIkltcG8iOiAwLjAsICJJbm94IjogMS4wLCAiUGlsb3RlIjogMSwgIlJlZiI6ICIxMjUiLCAiU3lzY2FsIjogMS4wLCAiVHlwZSI6IDEsICJWYWxpZCI6IDEsICJkaWFtIjogMn0sICJ0eXBlIjogIkZlYXR1cmUifSwgeyJnZW9tZXRyeSI6IHsiY29vcmRpbmF0ZXMiOiBbNC40MDkzOTM2MTQ0NzAyMzYsIDUwLjQxNDE5MTM0NDQ4MzAyXSwgInR5cGUiOiAiUG9pbnQifSwgInByb3BlcnRpZXMiOiB7IklkIjogMCwgIkltcG8iOiAwLjAsICJJbm94IjogMS4wLCAiUGlsb3RlIjogMSwgIlJlZiI6ICIxMTQiLCAiU3lzY2FsIjogMS4wLCAiVHlwZSI6IDEsICJWYWxpZCI6IDEsICJkaWFtIjogMn0sICJ0eXBlIjogIkZlYXR1cmUifSwgeyJnZW9tZXRyeSI6IHsiY29vcmRpbmF0ZXMiOiBbNC40MDkzNTg4NzM1NjMyODUsIDUwLjQxNDE3NjAyNjAwNTU2XSwgInR5cGUiOiAiUG9pbnQifSwgInByb3BlcnRpZXMiOiB7IklkIjogMCwgIkltcG8iOiAwLjAsICJJbm94IjogMS4wLCAiUGlsb3RlIjogMSwgIlJlZiI6ICIxMTciLCAiU3lzY2FsIjogMS4wLCAiVHlwZSI6IDEsICJWYWxpZCI6IDEsICJkaWFtIjogMn0sICJ0eXBlIjogIkZlYXR1cmUifSwgeyJnZW9tZXRyeSI6IHsiY29vcmRpbmF0ZXMiOiBbNC40MDkzNDUwMzQ0OTQwNTksIDUwLjQxNDE4ODg3ODQ3MTk1NF0sICJ0eXBlIjogIlBvaW50In0sICJwcm9wZXJ0aWVzIjogeyJJZCI6IDAsICJJbXBvIjogMS4wLCAiSW5veCI6IDEuMCwgIlBpbG90ZSI6IDEsICJSZWYiOiAiMjEzIiwgIlN5c2NhbCI6IDEuMCwgIlR5cGUiOiAyLCAiVmFsaWQiOiAxLCAiZGlhbSI6IDJ9LCAidHlwZSI6ICJGZWF0dXJlIn0sIHsiZ2VvbWV0cnkiOiB7ImNvb3JkaW5hdGVzIjogWzQuNDA5Mzg2NTU2OTM3NzQxLCA1MC40MTQxNTA0Mjc5Mjc0Nl0sICJ0eXBlIjogIlBvaW50In0sICJwcm9wZXJ0aWVzIjogeyJJZCI6IDAsICJJbXBvIjogMS4wLCAiSW5veCI6IDEuMCwgIlBpbG90ZSI6IDEsICJSZWYiOiAiMjE4IiwgIlN5c2NhbCI6IDEuMCwgIlR5cGUiOiAyLCAiVmFsaWQiOiAxLCAiZGlhbSI6IDJ9LCAidHlwZSI6ICJGZWF0dXJlIn0sIHsiZ2VvbWV0cnkiOiB7ImNvb3JkaW5hdGVzIjogWzQuNDA5MzM3OTczNzUzMjg2LCA1MC40MTQxNDc4OTExMjkzMl0sICJ0eXBlIjogIlBvaW50In0sICJwcm9wZXJ0aWVzIjogeyJJZCI6IDAsICJJbXBvIjogbnVsbCwgIklub3giOiBudWxsLCAiUGlsb3RlIjogMSwgIlJlZiI6ICI0MDAiLCAiU3lzY2FsIjogMC4wLCAiVHlwZSI6IDQsICJWYWxpZCI6IDAsICJkaWFtIjogMH0sICJ0eXBlIjogIkZlYXR1cmUifSwgeyJnZW9tZXRyeSI6IHsiY29vcmRpbmF0ZXMiOiBbNC40MDk0MjEyOTY5NzIxOSwgNTAuNDE0MTY1NzQ1NTg3MjU1XSwgInR5cGUiOiAiUG9pbnQifSwgInByb3BlcnRpZXMiOiB7IklkIjogMCwgIkltcG8iOiAxLjAsICJJbm94IjogMS4wLCAiUGlsb3RlIjogMSwgIlJlZiI6ICIyMTUiLCAiU3lzY2FsIjogMS4wLCAiVHlwZSI6IDIsICJWYWxpZCI6IDEsICJkaWFtIjogMn0sICJ0eXBlIjogIkZlYXR1cmUifSwgeyJnZW9tZXRyeSI6IHsiY29vcmRpbmF0ZXMiOiBbNC40MDkyODIzMzI4NDI0NzYsIDUwLjQxNDEwNDQ3MzA2NTkwNV0sICJ0eXBlIjogIlBvaW50In0sICJwcm9wZXJ0aWVzIjogeyJJZCI6IDAsICJJbXBvIjogMS4wLCAiSW5veCI6IDEuMCwgIlBpbG90ZSI6IDEsICJSZWYiOiAiMjI1IiwgIlN5c2NhbCI6IDEuMCwgIlR5cGUiOiAyLCAiVmFsaWQiOiAxLCAiZGlhbSI6IDJ9LCAidHlwZSI6ICJGZWF0dXJlIn0sIHsiZ2VvbWV0cnkiOiB7ImNvb3JkaW5hdGVzIjogWzQuNDA5MzE3MDc1ODM0NzU2LCA1MC40MTQxMTk3OTAwODU1M10sICJ0eXBlIjogIlBvaW50In0sICJwcm9wZXJ0aWVzIjogeyJJZCI6IDAsICJJbXBvIjogMS4wLCAiSW5veCI6IDEuMCwgIlBpbG90ZSI6IDEsICJSZWYiOiAiMjI0IiwgIlN5c2NhbCI6IDEuMCwgIlR5cGUiOiAyLCAiVmFsaWQiOiAxLCAiZGlhbSI6IDJ9LCAidHlwZSI6ICJGZWF0dXJlIn0sIHsiZ2VvbWV0cnkiOiB7ImNvb3JkaW5hdGVzIjogWzQuNDA5MjU0NjUwOTc4ODQ4LCA1MC40MTQxMzAwNzA1MDk1XSwgInR5cGUiOiAiUG9pbnQifSwgInByb3BlcnRpZXMiOiB7IklkIjogMCwgIkltcG8iOiAwLjAsICJJbm94IjogMC4wLCAiUGlsb3RlIjogMSwgIlJlZiI6ICIyMTAiLCAiU3lzY2FsIjogMC4wLCAiVHlwZSI6IDIsICJWYWxpZCI6IDEsICJkaWFtIjogMn0sICJ0eXBlIjogIkZlYXR1cmUifSwgeyJnZW9tZXRyeSI6IHsiY29vcmRpbmF0ZXMiOiBbNC40MDkzNTE4MTYyMTQ3NTcsIDUwLjQxNDEzNTEwOTk0MzcxXSwgInR5cGUiOiAiUG9pbnQifSwgInByb3BlcnRpZXMiOiB7IklkIjogMCwgIkltcG8iOiAxLjAsICJJbm94IjogMS4wLCAiUGlsb3RlIjogMSwgIlJlZiI6ICIyMjIiLCAiU3lzY2FsIjogMS4wLCAiVHlwZSI6IDIsICJWYWxpZCI6IDEsICJkaWFtIjogMn0sICJ0eXBlIjogIkZlYXR1cmUifSwgeyJnZW9tZXRyeSI6IHsiY29vcmRpbmF0ZXMiOiBbNC40MDkzMjQxMzI2Nzk4MzMsIDUwLjQxNDE2MDcwNzUxNzMxXSwgInR5cGUiOiAiUG9pbnQifSwgInByb3BlcnRpZXMiOiB7IklkIjogMCwgIkltcG8iOiAwLjAsICJJbm94IjogMS4wLCAiUGlsb3RlIjogMSwgIlJlZiI6ICIxMjEiLCAiU3lzY2FsIjogMS4wLCAiVHlwZSI6IDEsICJWYWxpZCI6IDEsICJkaWFtIjogMn0sICJ0eXBlIjogIkZlYXR1cmUifSwgeyJnZW9tZXRyeSI6IHsiY29vcmRpbmF0ZXMiOiBbNC40MDkzNjQzNTM2NzE3ODYsIDUwLjQxNDEyMzA5MTM1NTUwNl0sICJ0eXBlIjogIlBvaW50In0sICJwcm9wZXJ0aWVzIjogeyJJZCI6IDAsICJJbXBvIjogMC4wLCAiSW5veCI6IDEuMCwgIlBpbG90ZSI6IDEsICJSZWYiOiAiMTI2IiwgIlN5c2NhbCI6IDEuMCwgIlR5cGUiOiAxLCAiVmFsaWQiOiAxLCAiZGlhbSI6IDJ9LCAidHlwZSI6ICJGZWF0dXJlIn0sIHsiZ2VvbWV0cnkiOiB7ImNvb3JkaW5hdGVzIjogWzQuNDA5Mjg5MzkxODE3OTI4LCA1MC40MTQxNDUzODkwMTg3Ml0sICJ0eXBlIjogIlBvaW50In0sICJwcm9wZXJ0aWVzIjogeyJJZCI6IDAsICJJbXBvIjogMC4wLCAiSW5veCI6IDEuMCwgIlBpbG90ZSI6IDEsICJSZWYiOiAiMTI0IiwgIlN5c2NhbCI6IDEuMCwgIlR5cGUiOiAxLCAiVmFsaWQiOiAxLCAiZGlhbSI6IDJ9LCAidHlwZSI6ICJGZWF0dXJlIn0sIHsiZ2VvbWV0cnkiOiB7ImNvb3JkaW5hdGVzIjogWzQuNDA5MzYyMjY0NzIzMzM3LCA1MC40MTQxNDkxNDIxNzcwN10sICJ0eXBlIjogIlBvaW50In0sICJwcm9wZXJ0aWVzIjogeyJJZCI6IDAsICJJbXBvIjogMC4wLCAiSW5veCI6IDEuMCwgIlBpbG90ZSI6IDEsICJSZWYiOiAiMTIyIiwgIlN5c2NhbCI6IDEuMCwgIlR5cGUiOiAxLCAiVmFsaWQiOiAxLCAiZGlhbSI6IDJ9LCAidHlwZSI6ICJGZWF0dXJlIn0sIHsiZ2VvbWV0cnkiOiB7ImNvb3JkaW5hdGVzIjogWzQuNDA5MjkyNzgzMDE0ODQ0LCA1MC40MTQxMTg1MDUxOTIwNl0sICJ0eXBlIjogIlBvaW50In0sICJwcm9wZXJ0aWVzIjogeyJJZCI6IDAsICJJbXBvIjogMC4wLCAiSW5veCI6IDEuMCwgIlBpbG90ZSI6IDEsICJSZWYiOiAiMTI3IiwgIlN5c2NhbCI6IDEuMCwgIlR5cGUiOiAxLCAiVmFsaWQiOiAxLCAiZGlhbSI6IDJ9LCAidHlwZSI6ICJGZWF0dXJlIn0sIHsiZ2VvbWV0cnkiOiB7ImNvb3JkaW5hdGVzIjogWzQuNDA5NDYzMDk2MzQ5ODEsIDUwLjQxNDIyMTk4MTQwNzAzXSwgInR5cGUiOiAiUG9pbnQifSwgInByb3BlcnRpZXMiOiB7IklkIjogMCwgIkltcG8iOiAwLjAsICJJbm94IjogMS4wLCAiUGlsb3RlIjogMSwgIlJlZiI6ICIxMDciLCAiU3lzY2FsIjogMS4wLCAiVHlwZSI6IDEsICJWYWxpZCI6IDEsICJkaWFtIjogMn0sICJ0eXBlIjogIkZlYXR1cmUifSwgeyJnZW9tZXRyeSI6IHsiY29vcmRpbmF0ZXMiOiBbNC40MDkzNTIwOTEyMzI1OTIsIDUwLjQxNDIyOTc5MzY2MTY5XSwgInR5cGUiOiAiUG9pbnQifSwgInByb3BlcnRpZXMiOiB7IklkIjogMCwgIkltcG8iOiAwLjAsICJJbm94IjogMS4wLCAiUGlsb3RlIjogMSwgIlJlZiI6ICIxMDgiLCAiU3lzY2FsIjogMS4wLCAiVHlwZSI6IDEsICJWYWxpZCI6IDEsICJkaWFtIjogMn0sICJ0eXBlIjogIkZlYXR1cmUifSwgeyJnZW9tZXRyeSI6IHsiY29vcmRpbmF0ZXMiOiBbNC40MDk0MjQ5NjQyNzIzNDMsIDUwLjQxNDIzMzU0Njc4MDIxXSwgInR5cGUiOiAiUG9pbnQifSwgInByb3BlcnRpZXMiOiB7IklkIjogMCwgIkltcG8iOiAwLjAsICJJbm94IjogMS4wLCAiUGlsb3RlIjogMSwgIlJlZiI6ICIxMDYiLCAiU3lzY2FsIjogMS4wLCAiVHlwZSI6IDEsICJWYWxpZCI6IDEsICJkaWFtIjogMn0sICJ0eXBlIjogIkZlYXR1cmUifSwgeyJnZW9tZXRyeSI6IHsiY29vcmRpbmF0ZXMiOiBbNC40MDk0MTk0NjI3NTM4LCA1MC40MTQxMzE3OTQxNDMyOV0sICJ0eXBlIjogIlBvaW50In0sICJwcm9wZXJ0aWVzIjogeyJJZCI6IDAsICJJbXBvIjogbnVsbCwgIklub3giOiBudWxsLCAiUGlsb3RlIjogMSwgIlJlZiI6ICI1MDAiLCAiU3lzY2FsIjogMC4wLCAiVHlwZSI6IDUsICJWYWxpZCI6IDAsICJkaWFtIjogMH0sICJ0eXBlIjogIkZlYXR1cmUifSwgeyJnZW9tZXRyeSI6IHsiY29vcmRpbmF0ZXMiOiBbNC40MDk0NTI2NDU2ODY4MTksIDUwLjQxNDIwNzk0OTY5OTA4XSwgInR5cGUiOiAiUG9pbnQifSwgInByb3BlcnRpZXMiOiB7IklkIjogMCwgIkltcG8iOiAxLjAsICJJbm94IjogMS4wLCAiUGlsb3RlIjogMSwgIlJlZiI6ICIyMDciLCAiU3lzY2FsIjogMS4wLCAiVHlwZSI6IDIsICJWYWxpZCI6IDEsICJkaWFtIjogMn0sICJ0eXBlIjogIkZlYXR1cmUifSwgeyJnZW9tZXRyeSI6IHsiY29vcmRpbmF0ZXMiOiBbNC40MDkzNDE2NDM2ODAwMDEsIDUwLjQxNDIxNTc2MjMyMjQzNV0sICJ0eXBlIjogIlBvaW50In0sICJwcm9wZXJ0aWVzIjogeyJJZCI6IDAsICJJbXBvIjogMS4wLCAiSW5veCI6IDEuMCwgIlBpbG90ZSI6IDEsICJSZWYiOiAiMjA4IiwgIlN5c2NhbCI6IDEuMCwgIlR5cGUiOiAyLCAiVmFsaWQiOiAxLCAiZGlhbSI6IDJ9LCAidHlwZSI6ICJGZWF0dXJlIn0sIHsiZ2VvbWV0cnkiOiB7ImNvb3JkaW5hdGVzIjogWzQuNDA5Mzc5Nzc1NDI2NDU5LCA1MC40MTQyMDQxOTU5NDk5ODVdLCAidHlwZSI6ICJQb2ludCJ9LCAicHJvcGVydGllcyI6IHsiSWQiOiAwLCAiSW1wbyI6IDEuMCwgIklub3giOiAxLjAsICJQaWxvdGUiOiAxLCAiUmVmIjogIjIwOSIsICJTeXNjYWwiOiAxLjAsICJUeXBlIjogMiwgIlZhbGlkIjogMSwgImRpYW0iOiAyfSwgInR5cGUiOiAiRmVhdHVyZSJ9LCB7Imdlb21ldHJ5IjogeyJjb29yZGluYXRlcyI6IFs0LjQwOTQxNDUxMzYxODQ3OSwgNTAuNDE0MjE5NTE1MDY5MTJdLCAidHlwZSI6ICJQb2ludCJ9LCAicHJvcGVydGllcyI6IHsiSWQiOiAwLCAiSW1wbyI6IDEuMCwgIklub3giOiAxLjAsICJQaWxvdGUiOiAxLCAiUmVmIjogIjIwNiIsICJTeXNjYWwiOiAxLjAsICJUeXBlIjogMiwgIlZhbGlkIjogMSwgImRpYW0iOiAyfSwgInR5cGUiOiAiRmVhdHVyZSJ9LCB7Imdlb21ldHJ5IjogeyJjb29yZGluYXRlcyI6IFs0LjQwOTM4MzQ0MTAyMzUzLCA1MC40MTQyNzE5OTU5Njk2NF0sICJ0eXBlIjogIlBvaW50In0sICJwcm9wZXJ0aWVzIjogeyJJZCI6IDAsICJJbXBvIjogMC4wLCAiSW5veCI6IDEuMCwgIlBpbG90ZSI6IDEsICJSZWYiOiAiMTAwIiwgIlN5c2NhbCI6IDEuMCwgIlR5cGUiOiAxLCAiVmFsaWQiOiAxLCAiZGlhbSI6IDJ9LCAidHlwZSI6ICJGZWF0dXJlIn0sIHsiZ2VvbWV0cnkiOiB7ImNvb3JkaW5hdGVzIjogWzQuNDA5NDIxNTczMTQxOTgzLCA1MC40MTQyNjA0MzA2MTAyNl0sICJ0eXBlIjogIlBvaW50In0sICJwcm9wZXJ0aWVzIjogeyJJZCI6IDAsICJJbXBvIjogMC4wLCAiSW5veCI6IDEuMCwgIlBpbG90ZSI6IDEsICJSZWYiOiAiMTAxIiwgIlN5c2NhbCI6IDEuMCwgIlR5cGUiOiAxLCAiVmFsaWQiOiAxLCAiZGlhbSI6IDJ9LCAidHlwZSI6ICJGZWF0dXJlIn0sIHsiZ2VvbWV0cnkiOiB7ImNvb3JkaW5hdGVzIjogWzQuNDA5NDU5NzA1MjQyMTY0LCA1MC40MTQyNDg4NjUyMzgxOV0sICJ0eXBlIjogIlBvaW50In0sICJwcm9wZXJ0aWVzIjogeyJJZCI6IDAsICJJbXBvIjogMC4wLCAiSW5veCI6IDEuMCwgIlBpbG90ZSI6IDEsICJSZWYiOiAiMTAyIiwgIlN5c2NhbCI6IDEuMCwgIlR5cGUiOiAxLCAiVmFsaWQiOiAxLCAiZGlhbSI6IDJ9LCAidHlwZSI6ICJGZWF0dXJlIn0sIHsiZ2VvbWV0cnkiOiB7ImNvb3JkaW5hdGVzIjogWzQuNDA5NDk3ODM3MzIzNDAyLCA1MC40MTQyMzcyOTk4NTM2N10sICJ0eXBlIjogIlBvaW50In0sICJwcm9wZXJ0aWVzIjogeyJJZCI6IDAsICJJbXBvIjogMC4wLCAiSW5veCI6IDEuMCwgIlBpbG90ZSI6IDEsICJSZWYiOiAiMTAzIiwgIlN5c2NhbCI6IDEuMCwgIlR5cGUiOiAxLCAiVmFsaWQiOiAxLCAiZGlhbSI6IDJ9LCAidHlwZSI6ICJGZWF0dXJlIn0sIHsiZ2VvbWV0cnkiOiB7ImNvb3JkaW5hdGVzIjogWzQuNDA5Mzg2ODMyMTc2MzE1LCA1MC40MTQyNDUxMTIxNDA5NV0sICJ0eXBlIjogIlBvaW50In0sICJwcm9wZXJ0aWVzIjogeyJJZCI6IDAsICJJbXBvIjogMC4wLCAiSW5veCI6IDEuMCwgIlBpbG90ZSI6IDEsICJSZWYiOiAiMTA1IiwgIlN5c2NhbCI6IDEuMCwgIlR5cGUiOiAxLCAiVmFsaWQiOiAxLCAiZGlhbSI6IDJ9LCAidHlwZSI6ICJGZWF0dXJlIn0sIHsiZ2VvbWV0cnkiOiB7ImNvb3JkaW5hdGVzIjogWzQuNDA5NDMxNzQ2NTIxMDA2LCA1MC40MTQxNzk3NzkxMjAzXSwgInR5cGUiOiAiUG9pbnQifSwgInByb3BlcnRpZXMiOiB7IklkIjogMCwgIkltcG8iOiAwLjAsICJJbm94IjogMS4wLCAiUGlsb3RlIjogMSwgIlJlZiI6ICIxMTUiLCAiU3lzY2FsIjogMS4wLCAiVHlwZSI6IDEsICJWYWxpZCI6IDEsICJkaWFtIjogMn0sICJ0eXBlIjogIkZlYXR1cmUifSwgeyJnZW9tZXRyeSI6IHsiY29vcmRpbmF0ZXMiOiBbNC40MDk0MDAzOTY3NDg1ODksIDUwLjQxNDEzNzU3NjgyNTA0XSwgInR5cGUiOiAiUG9pbnQifSwgInByb3BlcnRpZXMiOiB7IklkIjogMCwgIkltcG8iOiAwLjAsICJJbm94IjogMS4wLCAiUGlsb3RlIjogMSwgIlJlZiI6ICIxMjMiLCAiU3lzY2FsIjogMS4wLCAiVHlwZSI6IDEsICJWYWxpZCI6IDEsICJkaWFtIjogMn0sICJ0eXBlIjogIkZlYXR1cmUifSwgeyJnZW9tZXRyeSI6IHsiY29vcmRpbmF0ZXMiOiBbNC40MDkzNzYzODI5MzMyNzQsIDUwLjQxNDIzMTA4MDQ5NTE1Nl0sICJ0eXBlIjogIlBvaW50In0sICJwcm9wZXJ0aWVzIjogeyJJZCI6IDAsICJJbXBvIjogMS4wLCAiSW5veCI6IDEuMCwgIlBpbG90ZSI6IDEsICJSZWYiOiAiMjA1IiwgIlN5c2NhbCI6IDEuMCwgIlR5cGUiOiAyLCAiVmFsaWQiOiAxLCAiZGlhbSI6IDN9LCAidHlwZSI6ICJGZWF0dXJlIn0sIHsiZ2VvbWV0cnkiOiB7ImNvb3JkaW5hdGVzIjogWzQuNDA5MzM4Mjk4MzA5NTg0LCA1MC40MTQyNDI2NzQ4OTc0NjZdLCAidHlwZSI6ICJQb2ludCJ9LCAicHJvcGVydGllcyI6IHsiSWQiOiAwLCAiSW1wbyI6IDAuMCwgIklub3giOiAxLjAsICJQaWxvdGUiOiAxLCAiUmVmIjogIjIwNCIsICJTeXNjYWwiOiAxLjAsICJUeXBlIjogMiwgIlZhbGlkIjogMSwgImRpYW0iOiAyfSwgInR5cGUiOiAiRmVhdHVyZSJ9LCB7Imdlb21ldHJ5IjogeyJjb29yZGluYXRlcyI6IFs0LjQwOTQ0OTI1NjkyMTAwOCwgNTAuNDE0MjM0ODMxMjQxNjldLCAidHlwZSI6ICJQb2ludCJ9LCAicHJvcGVydGllcyI6IHsiSWQiOiAwLCAiSW1wbyI6IDEuMCwgIklub3giOiAxLjAsICJQaWxvdGUiOiAxLCAiUmVmIjogIjIwMiIsICJTeXNjYWwiOiAxLjAsICJUeXBlIjogMiwgIlZhbGlkIjogMSwgImRpYW0iOiAyfSwgInR5cGUiOiAiRmVhdHVyZSJ9LCB7Imdlb21ldHJ5IjogeyJjb29yZGluYXRlcyI6IFs0LjQwOTQxMTEyNTE2NjkyMSwgNTAuNDE0MjQ2Mzk3NjM2ODk0XSwgInR5cGUiOiAiUG9pbnQifSwgInByb3BlcnRpZXMiOiB7IklkIjogMCwgIkltcG8iOiAxLjAsICJJbm94IjogMS4wLCAiUGlsb3RlIjogMSwgIlJlZiI6ICIyMDEiLCAiU3lzY2FsIjogMS4wLCAiVHlwZSI6IDIsICJWYWxpZCI6IDEsICJkaWFtIjogMn0sICJ0eXBlIjogIkZlYXR1cmUifSwgeyJnZW9tZXRyeSI6IHsiY29vcmRpbmF0ZXMiOiBbNC40MDkzNzI5ODk0NDQxNzEsIDUwLjQxNDI1Nzk2NTIxNzc4Nl0sICJ0eXBlIjogIlBvaW50In0sICJwcm9wZXJ0aWVzIjogeyJJZCI6IDAsICJJbXBvIjogMS4wLCAiSW5veCI6IDEuMCwgIlBpbG90ZSI6IDEsICJSZWYiOiAiMjAwIiwgIlN5c2NhbCI6IDEuMCwgIlR5cGUiOiAyLCAiVmFsaWQiOiAxLCAiZGlhbSI6IDJ9LCAidHlwZSI6ICJGZWF0dXJlIn0sIHsiZ2VvbWV0cnkiOiB7ImNvb3JkaW5hdGVzIjogWzQuNDA5MzQ4NzAwMDYxNDk1LCA1MC40MTQyNTY2Nzc0ODkxOV0sICJ0eXBlIjogIlBvaW50In0sICJwcm9wZXJ0aWVzIjogeyJJZCI6IDAsICJJbXBvIjogMC4wLCAiSW5veCI6IDEuMCwgIlBpbG90ZSI6IDEsICJSZWYiOiAiMTA0IiwgIlN5c2NhbCI6IDEuMCwgIlR5cGUiOiAxLCAiVmFsaWQiOiAxLCAiZGlhbSI6IDJ9LCAidHlwZSI6ICJGZWF0dXJlIn0sIHsiZ2VvbWV0cnkiOiB7ImNvb3JkaW5hdGVzIjogWzQuNDA5MzkwMjIzMzI0NjM2LCA1MC40MTQyMTgyMjgzMTI0N10sICJ0eXBlIjogIlBvaW50In0sICJwcm9wZXJ0aWVzIjogeyJJZCI6IDAsICJJbXBvIjogMC4wLCAiSW5veCI6IDEuMCwgIlBpbG90ZSI6IDEsICJSZWYiOiAiMTA5IiwgIlN5c2NhbCI6IDEuMCwgIlR5cGUiOiAxLCAiVmFsaWQiOiAxLCAiZGlhbSI6IDJ9LCAidHlwZSI6ICJGZWF0dXJlIn0sIHsiZ2VvbWV0cnkiOiB7ImNvb3JkaW5hdGVzIjogWzQuNDA5NDM1MTM3NjM5OTkxLCA1MC40MTQxNTI4OTUyODk3MjVdLCAidHlwZSI6ICJQb2ludCJ9LCAicHJvcGVydGllcyI6IHsiSWQiOiAwLCAiSW1wbyI6IDAuMCwgIklub3giOiAxLjAsICJQaWxvdGUiOiAxLCAiUmVmIjogIjExOSIsICJTeXNjYWwiOiAxLjAsICJUeXBlIjogMSwgIlZhbGlkIjogMSwgImRpYW0iOiAyfSwgInR5cGUiOiAiRmVhdHVyZSJ9LCB7Imdlb21ldHJ5IjogeyJjb29yZGluYXRlcyI6IFs0LjQwOTI1ODA0MjE5NDI5NCwgNTAuNDE0MTAzMTg2Njg0MTY2XSwgInR5cGUiOiAiUG9pbnQifSwgInByb3BlcnRpZXMiOiB7IklkIjogMCwgIkltcG8iOiAwLjAsICJJbm94IjogMS4wLCAiUGlsb3RlIjogMSwgIlJlZiI6ICIxMjgiLCAiU3lzY2FsIjogMS4wLCAiVHlwZSI6IDEsICJWYWxpZCI6IDEsICJkaWFtIjogMn0sICJ0eXBlIjogIkZlYXR1cmUifSwgeyJnZW9tZXRyeSI6IHsiY29vcmRpbmF0ZXMiOiBbNC40MDkyOTY0NDYyNDM4MDcsIDUwLjQxNDA5MTQ4NDI3NDddLCAidHlwZSI6ICJQb2ludCJ9LCAicHJvcGVydGllcyI6IHsiSWQiOiAwLCAiSW1wbyI6IDAuMCwgIklub3giOiAxLjAsICJQaWxvdGUiOiAxLCAiUmVmIjogIjEyOSIsICJTeXNjYWwiOiAxLjAsICJUeXBlIjogMSwgIlZhbGlkIjogMSwgImRpYW0iOiAyfSwgInR5cGUiOiAiRmVhdHVyZSJ9LCB7Imdlb21ldHJ5IjogeyJjb29yZGluYXRlcyI6IFs0LjQwOTQ4NzM1MDA0NTMzNiwgNTAuNDE0MjIzMjUwNjAzXSwgInR5cGUiOiAiUG9pbnQifSwgInByb3BlcnRpZXMiOiB7IklkIjogMCwgIkltcG8iOiAxLjAsICJJbm94IjogMS4wLCAiUGlsb3RlIjogMSwgIlJlZiI6ICIyMDMiLCAiU3lzY2FsIjogMS4wLCAiVHlwZSI6IDIsICJWYWxpZCI6IDEsICJkaWFtIjogMn0sICJ0eXBlIjogIkZlYXR1cmUifSwgeyJnZW9tZXRyeSI6IHsiY29vcmRpbmF0ZXMiOiBbNC40MDkzMDY5MDQwMTg0MzgsIDUwLjQxNDIwMDQxMjU5MTE2NF0sICJ0eXBlIjogIlBvaW50In0sICJwcm9wZXJ0aWVzIjogeyJJZCI6IDAsICJJbXBvIjogMC4wLCAiSW5veCI6IDEuMCwgIlBpbG90ZSI6IDEsICJSZWYiOiAiMjEyIiwgIlN5c2NhbCI6IDEuMCwgIlR5cGUiOiAyLCAiVmFsaWQiOiAxLCAiZGlhbSI6IDJ9LCAidHlwZSI6ICJGZWF0dXJlIn0sIHsiZ2VvbWV0cnkiOiB7ImNvb3JkaW5hdGVzIjogWzQuNDA5MzgzNDE0NjA2MzkyLCA1MC40MTQxMzAwODg4MDA4OTZdLCAidHlwZSI6ICJQb2ludCJ9LCAicHJvcGVydGllcyI6IHsiSWQiOiAwLCAiSW1wbyI6IDEuMCwgIklub3giOiAxLjAsICJQaWxvdGUiOiAxLCAiUmVmIjogIjIxMSIsICJTeXNjYWwiOiAxLjAsICJUeXBlIjogMiwgIlZhbGlkIjogMSwgImRpYW0iOiAyfSwgInR5cGUiOiAiRmVhdHVyZSJ9LCB7Imdlb21ldHJ5IjogeyJjb29yZGluYXRlcyI6IFs0LjQwOTQyNDY4ODA0ODE3MiwgNTAuNDE0MTM4ODYyNzcwNTVdLCAidHlwZSI6ICJQb2ludCJ9LCAicHJvcGVydGllcyI6IHsiSWQiOiAwLCAiSW1wbyI6IDAuMCwgIklub3giOiAxLjAsICJQaWxvdGUiOiAxLCAiUmVmIjogIjIxOSIsICJTeXNjYWwiOiAxLjAsICJUeXBlIjogMiwgIlZhbGlkIjogMSwgImRpYW0iOiAyfSwgInR5cGUiOiAiRmVhdHVyZSJ9LCB7Imdlb21ldHJ5IjogeyJjb29yZGluYXRlcyI6IFs0LjQwOTI3NTU4ODk3ODg0OCwgNTAuNDE0MTU4MjU2ODg4MThdLCAidHlwZSI6ICJQb2ludCJ9LCAicHJvcGVydGllcyI6IHsiSWQiOiAwLCAiSW1wbyI6IDAuMCwgIklub3giOiAxLjAsICJQaWxvdGUiOiAxLCAiUmVmIjogIjIyMCIsICJTeXNjYWwiOiAxLjAsICJUeXBlIjogMiwgIlZhbGlkIjogMSwgImRpYW0iOiAyfSwgInR5cGUiOiAiRmVhdHVyZSJ9LCB7Imdlb21ldHJ5IjogeyJjb29yZGluYXRlcyI6IFs0LjQwOTQzNzg5NTMzNDMwNSwgNTAuNDE0MjIwMDU0MTc4NV0sICJ0eXBlIjogIlBvaW50In0sICJwcm9wZXJ0aWVzIjogeyJJZCI6IDAsICJJbXBvIjogbnVsbCwgIklub3giOiBudWxsLCAiUGlsb3RlIjogMSwgIlJlZiI6ICIzMDEiLCAiU3lzY2FsIjogMC4wLCAiVHlwZSI6IDMsICJWYWxpZCI6IDAsICJkaWFtIjogMH0sICJ0eXBlIjogIkZlYXR1cmUifSwgeyJnZW9tZXRyeSI6IHsiY29vcmRpbmF0ZXMiOiBbNC40MDkzNjg5NDEyODg4OCwgNTAuNDE0MTg5NjU2NjQ2OTFdLCAidHlwZSI6ICJQb2ludCJ9LCAicHJvcGVydGllcyI6IHsiSWQiOiAwLCAiSW1wbyI6IG51bGwsICJJbm94IjogbnVsbCwgIlBpbG90ZSI6IDEsICJSZWYiOiAiMzAyIiwgIlN5c2NhbCI6IDAuMCwgIlR5cGUiOiAzLCAiVmFsaWQiOiAwLCAiZGlhbSI6IDB9LCAidHlwZSI6ICJGZWF0dXJlIn0sIHsiZ2VvbWV0cnkiOiB7ImNvb3JkaW5hdGVzIjogWzQuNDA5NDEwNjkzMzc5MDI3LCA1MC40MTQxNTEzOTQ2OTc4Nl0sICJ0eXBlIjogIlBvaW50In0sICJwcm9wZXJ0aWVzIjogeyJJZCI6IDAsICJJbXBvIjogbnVsbCwgIklub3giOiBudWxsLCAiUGlsb3RlIjogMSwgIlJlZiI6ICIzMDMiLCAiU3lzY2FsIjogMC4wLCAiVHlwZSI6IDMsICJWYWxpZCI6IDAsICJkaWFtIjogMH0sICJ0eXBlIjogIkZlYXR1cmUifSwgeyJnZW9tZXRyeSI6IHsiY29vcmRpbmF0ZXMiOiBbNC40MDkyOTk0MzM2NTEyODIsIDUwLjQxNDE2MDA0MzgxNDEzNV0sICJ0eXBlIjogIlBvaW50In0sICJwcm9wZXJ0aWVzIjogeyJJZCI6IDAsICJJbXBvIjogbnVsbCwgIklub3giOiBudWxsLCAiUGlsb3RlIjogMSwgIlJlZiI6ICIzMDQiLCAiU3lzY2FsIjogMC4wLCAiVHlwZSI6IDMsICJWYWxpZCI6IDAsICJkaWFtIjogMH0sICJ0eXBlIjogIkZlYXR1cmUifSwgeyJnZW9tZXRyeSI6IHsiY29vcmRpbmF0ZXMiOiBbNC40MDkzNjIwMzg0NjM5MTYsIDUwLjQxNDI0MzM3NjUyMDc5XSwgInR5cGUiOiAiUG9pbnQifSwgInByb3BlcnRpZXMiOiB7IklkIjogMCwgIkltcG8iOiBudWxsLCAiSW5veCI6IG51bGwsICJQaWxvdGUiOiAxLCAiUmVmIjogIjMwMCIsICJTeXNjYWwiOiAwLjAsICJUeXBlIjogMywgIlZhbGlkIjogMCwgImRpYW0iOiAwfSwgInR5cGUiOiAiRmVhdHVyZSJ9LCB7Imdlb21ldHJ5IjogeyJjb29yZGluYXRlcyI6IFs0LjQwOTA5MDY1OTgxODAxNywgNTAuNDE0MTc5NTM2MjM2XSwgInR5cGUiOiAiUG9pbnQifSwgInByb3BlcnRpZXMiOiB7IklkIjogMCwgIkltcG8iOiBudWxsLCAiSW5veCI6IG51bGwsICJQaWxvdGUiOiAxLCAiUmVmIjogIjMwNSIsICJTeXNjYWwiOiAwLjAsICJUeXBlIjogMywgIlZhbGlkIjogMCwgImRpYW0iOiAwfSwgInR5cGUiOiAiRmVhdHVyZSJ9LCB7Imdlb21ldHJ5IjogeyJjb29yZGluYXRlcyI6IFs0LjQwOTIxOTcxOTAzNzE5NywgNTAuNDE0MTQwNzY3Nzc4NjRdLCAidHlwZSI6ICJQb2ludCJ9LCAicHJvcGVydGllcyI6IHsiSWQiOiAwLCAiSW1wbyI6IDAuMCwgIklub3giOiAwLjAsICJQaWxvdGUiOiAwLCAiUmVmIjogIjIyNyIsICJTeXNjYWwiOiAwLjAsICJUeXBlIjogMiwgIlZhbGlkIjogMCwgImRpYW0iOiAyfSwgInR5cGUiOiAiRmVhdHVyZSJ9LCB7Imdlb21ldHJ5IjogeyJjb29yZGluYXRlcyI6IFs0LjQwOTQwNDc1MTIxNjA4OSwgNTAuNDE0MTEwOTA4MTk2MjldLCAidHlwZSI6ICJQb2ludCJ9LCAicHJvcGVydGllcyI6IHsiSWQiOiAwLCAiSW1wbyI6IDAuMCwgIklub3giOiAxLjAsICJQaWxvdGUiOiAwLCAiUmVmIjogIjEzIiwgIlN5c2NhbCI6IDEuMCwgIlR5cGUiOiAwLCAiVmFsaWQiOiAwLCAiZGlhbSI6IDB9LCAidHlwZSI6ICJGZWF0dXJlIn0sIHsiZ2VvbWV0cnkiOiB7ImNvb3JkaW5hdGVzIjogWzQuNDA5MzY5ODQ0NjUwOTI1LCA1MC40MTQwOTU2MzcwMjQwMl0sICJ0eXBlIjogIlBvaW50In0sICJwcm9wZXJ0aWVzIjogeyJJZCI6IDAsICJJbXBvIjogMC4wLCAiSW5veCI6IDEuMCwgIlBpbG90ZSI6IDAsICJSZWYiOiAiMTYiLCAiU3lzY2FsIjogMS4wLCAiVHlwZSI6IDAsICJWYWxpZCI6IDAsICJkaWFtIjogMH0sICJ0eXBlIjogIkZlYXR1cmUifSwgeyJnZW9tZXRyeSI6IHsiY29vcmRpbmF0ZXMiOiBbNC40MDkzMzEwMjEyMDk1MzMsIDUwLjQxNDEwNjQzOTIxNTQ0XSwgInR5cGUiOiAiUG9pbnQifSwgInByb3BlcnRpZXMiOiB7IklkIjogMCwgIkltcG8iOiAwLjAsICJJbm94IjogMS4wLCAiUGlsb3RlIjogMCwgIlJlZiI6ICIxNSIsICJTeXNjYWwiOiAxLjAsICJUeXBlIjogMCwgIlZhbGlkIjogMCwgImRpYW0iOiAwfSwgInR5cGUiOiAiRmVhdHVyZSJ9LCB7Imdlb21ldHJ5IjogeyJjb29yZGluYXRlcyI6IFs0LjQwOTMzMzUzMDEwNjYsIDUwLjQxNDA3OTE5NzU5Njg4XSwgInR5cGUiOiAiUG9pbnQifSwgInByb3BlcnRpZXMiOiB7IklkIjogMCwgIkltcG8iOiAwLjAsICJJbm94IjogMS4wLCAiUGlsb3RlIjogMCwgIlJlZiI6ICIxMCIsICJTeXNjYWwiOiAxLjAsICJUeXBlIjogMSwgIlZhbGlkIjogMSwgImRpYW0iOiAyfSwgInR5cGUiOiAiRmVhdHVyZSJ9LCB7Imdlb21ldHJ5IjogeyJjb29yZGluYXRlcyI6IFs0LjQwOTM3MDgwNTA1OTA0OSwgNTAuNDE0MDY3NDk2OTIwNjY2XSwgInR5cGUiOiAiUG9pbnQifSwgInByb3BlcnRpZXMiOiB7IklkIjogMCwgIkltcG8iOiAwLjAsICJJbm94IjogMS4wLCAiUGlsb3RlIjogMCwgIlJlZiI6ICIxMSIsICJTeXNjYWwiOiAxLjAsICJUeXBlIjogMSwgIlZhbGlkIjogMSwgImRpYW0iOiAyfSwgInR5cGUiOiAiRmVhdHVyZSJ9LCB7Imdlb21ldHJ5IjogeyJjb29yZGluYXRlcyI6IFs0LjQwOTQwNTg3NjgwNTcxMSwgNTAuNDE0MDg0NjQyMTcyMTRdLCAidHlwZSI6ICJQb2ludCJ9LCAicHJvcGVydGllcyI6IHsiSWQiOiAwLCAiSW1wbyI6IG51bGwsICJJbm94IjogbnVsbCwgIlBpbG90ZSI6IDAsICJSZWYiOiAiMTIiLCAiU3lzY2FsIjogbnVsbCwgIlR5cGUiOiAwLCAiVmFsaWQiOiAxLCAiZGlhbSI6IDB9LCAidHlwZSI6ICJGZWF0dXJlIn0sIHsiZ2VvbWV0cnkiOiB7ImNvb3JkaW5hdGVzIjogWzQuNDA5MzQ1MjIwNTk0OTI3LCA1MC40MTQwOTM1Nzc5OTAyM10sICJ0eXBlIjogIlBvaW50In0sICJwcm9wZXJ0aWVzIjogeyJJZCI6IDAsICJJbXBvIjogMC4wLCAiSW5veCI6IDAuMCwgIlBpbG90ZSI6IDAsICJSZWYiOiAiMjUiLCAiU3lzY2FsIjogMC4wLCAiVHlwZSI6IDIsICJWYWxpZCI6IDAsICJkaWFtIjogMH0sICJ0eXBlIjogIkZlYXR1cmUifSwgeyJnZW9tZXRyeSI6IHsiY29vcmRpbmF0ZXMiOiBbNC40MDkzODM5MDE5OTM4NjEsIDUwLjQxNDA4MTI0NzQ4NjgzXSwgInR5cGUiOiAiUG9pbnQifSwgInByb3BlcnRpZXMiOiB7IklkIjogMCwgIkltcG8iOiBudWxsLCAiSW5veCI6IG51bGwsICJQaWxvdGUiOiAwLCAiUmVmIjogIjIxIiwgIlN5c2NhbCI6IG51bGwsICJUeXBlIjogMiwgIlZhbGlkIjogMSwgImRpYW0iOiAwfSwgInR5cGUiOiAiRmVhdHVyZSJ9LCB7Imdlb21ldHJ5IjogeyJjb29yZGluYXRlcyI6IFs0LjQwOTM4Njc0NjMyNTYyLCA1MC40MTQxMTYxMjg5OTI3M10sICJ0eXBlIjogIlBvaW50In0sICJwcm9wZXJ0aWVzIjogeyJJZCI6IDAsICJJbXBvIjogMC4wLCAiSW5veCI6IDAuMCwgIlBpbG90ZSI6IDAsICJSZWYiOiAiMjMiLCAiU3lzY2FsIjogMC4wLCAiVHlwZSI6IDIsICJWYWxpZCI6IDAsICJkaWFtIjogMH0sICJ0eXBlIjogIkZlYXR1cmUifSwgeyJnZW9tZXRyeSI6IHsiY29vcmRpbmF0ZXMiOiBbNC40MDkzNTUwODIyNDI0MDMsIDUwLjQxNDEwODIyODc0MTk5NV0sICJ0eXBlIjogIlBvaW50In0sICJwcm9wZXJ0aWVzIjogeyJJZCI6IDAsICJJbXBvIjogMS4wLCAiSW5veCI6IDEuMCwgIlBpbG90ZSI6IDAsICJSZWYiOiAiMjQiLCAiU3lzY2FsIjogMS4wLCAiVHlwZSI6IDEsICJWYWxpZCI6IDEsICJkaWFtIjogMH0sICJ0eXBlIjogIkZlYXR1cmUifSwgeyJnZW9tZXRyeSI6IHsiY29vcmRpbmF0ZXMiOiBbNC40MDkzODU4OTE2NDg1MTUsIDUwLjQxNDEwNDA4MjI0MTc2XSwgInR5cGUiOiAiUG9pbnQifSwgInByb3BlcnRpZXMiOiB7IklkIjogMCwgIkltcG8iOiBudWxsLCAiSW5veCI6IG51bGwsICJQaWxvdGUiOiAwLCAiUmVmIjogIjIyIiwgIlN5c2NhbCI6IG51bGwsICJUeXBlIjogMSwgIlZhbGlkIjogMSwgImRpYW0iOiAwfSwgInR5cGUiOiAiRmVhdHVyZSJ9LCB7Imdlb21ldHJ5IjogeyJjb29yZGluYXRlcyI6IFs0LjQwOTM1ODU3NjAxNTc2OSwgNTAuNDE0MDgwOTg2NzczMTZdLCAidHlwZSI6ICJQb2ludCJ9LCAicHJvcGVydGllcyI6IHsiSWQiOiAwLCAiSW1wbyI6IDEuMCwgIklub3giOiAxLjAsICJQaWxvdGUiOiAwLCAiUmVmIjogIjIwIiwgIlN5c2NhbCI6IDEuMCwgIlR5cGUiOiAxLCAiVmFsaWQiOiAxLCAiZGlhbSI6IDB9LCAidHlwZSI6ICJGZWF0dXJlIn0sIHsiZ2VvbWV0cnkiOiB7ImNvb3JkaW5hdGVzIjogWzQuNDA5MzgwNDA4NjI2MTk4LCA1MC40MTQxMDg5Mzg5NzMyODVdLCAidHlwZSI6ICJQb2ludCJ9LCAicHJvcGVydGllcyI6IHsiSWQiOiAwLCAiSW1wbyI6IG51bGwsICJJbm94IjogbnVsbCwgIlBpbG90ZSI6IDAsICJSZWYiOiAiMzAiLCAiU3lzY2FsIjogMC4wLCAiVHlwZSI6IDUsICJWYWxpZCI6IDAsICJkaWFtIjogMH0sICJ0eXBlIjogIkZlYXR1cmUifSwgeyJnZW9tZXRyeSI6IHsiY29vcmRpbmF0ZXMiOiBbNC40MDkzNDg0NzQ5NTYwODYsIDUwLjQxNDExNDYxNDIyODg5XSwgInR5cGUiOiAiUG9pbnQifSwgInByb3BlcnRpZXMiOiB7IklkIjogMCwgIkltcG8iOiBudWxsLCAiSW5veCI6IG51bGwsICJQaWxvdGUiOiAwLCAiUmVmIjogIjMyIiwgIlN5c2NhbCI6IDAuMCwgIlR5cGUiOiA1LCAiVmFsaWQiOiAwLCAiZGlhbSI6IDB9LCAidHlwZSI6ICJGZWF0dXJlIn0sIHsiZ2VvbWV0cnkiOiB7ImNvb3JkaW5hdGVzIjogWzQuNDA5MzUyNjcxNjc5MzkzLCA1MC40MTQwODY3NDI2ODY5MV0sICJ0eXBlIjogIlBvaW50In0sICJwcm9wZXJ0aWVzIjogeyJJZCI6IDAsICJJbXBvIjogbnVsbCwgIklub3giOiBudWxsLCAiUGlsb3RlIjogMCwgIlJlZiI6ICIzMSIsICJTeXNjYWwiOiAwLjAsICJUeXBlIjogNSwgIlZhbGlkIjogMCwgImRpYW0iOiAwfSwgInR5cGUiOiAiRmVhdHVyZSJ9LCB7Imdlb21ldHJ5IjogeyJjb29yZGluYXRlcyI6IFs0LjQwOTMxODMzMzQ4OTM2OSwgNTAuNDE0MDc3ODU0NDM4MjhdLCAidHlwZSI6ICJQb2ludCJ9LCAicHJvcGVydGllcyI6IHsiSWQiOiAwLCAiSW1wbyI6IG51bGwsICJJbm94IjogbnVsbCwgIlBpbG90ZSI6IDAsICJSZWYiOiAiNDAiLCAiU3lzY2FsIjogMC4wLCAiVHlwZSI6IDYsICJWYWxpZCI6IDAsICJkaWFtIjogMH0sICJ0eXBlIjogIkZlYXR1cmUifSwgeyJnZW9tZXRyeSI6IHsiY29vcmRpbmF0ZXMiOiBbNC40MDkzMjY0ODcyMDg0OTEsIDUwLjQxNDA3MDAyOTk1MDA0XSwgInR5cGUiOiAiUG9pbnQifSwgInByb3BlcnRpZXMiOiB7IklkIjogMCwgIkltcG8iOiBudWxsLCAiSW5veCI6IG51bGwsICJQaWxvdGUiOiAwLCAiUmVmIjogIjQxIiwgIlN5c2NhbCI6IDAuMCwgIlR5cGUiOiA2LCAiVmFsaWQiOiAwLCAiZGlhbSI6IDB9LCAidHlwZSI6ICJGZWF0dXJlIn0sIHsiZ2VvbWV0cnkiOiB7ImNvb3JkaW5hdGVzIjogWzQuNDA5Mzg4NjkyMzE4NTYxLCA1MC40MTQwODg3OTc2Njk2Ml0sICJ0eXBlIjogIlBvaW50In0sICJwcm9wZXJ0aWVzIjogeyJJZCI6IDAsICJJbXBvIjogbnVsbCwgIklub3giOiBudWxsLCAiUGlsb3RlIjogMCwgIlJlZiI6ICIxMiIsICJTeXNjYWwiOiBudWxsLCAiVHlwZSI6IDAsICJWYWxpZCI6IDEsICJkaWFtIjogMH0sICJ0eXBlIjogIkZlYXR1cmUifSwgeyJnZW9tZXRyeSI6IHsiY29vcmRpbmF0ZXMiOiBbNC40MDkzNzA0MTg3ODY4ODcsIDUwLjQxNDEwODY3MjgxMjEzXSwgInR5cGUiOiAiUG9pbnQifSwgInByb3BlcnRpZXMiOiB7IklkIjogMCwgIkltcG8iOiBudWxsLCAiSW5veCI6IG51bGwsICJQaWxvdGUiOiAwLCAiUmVmIjogIjE0IiwgIlN5c2NhbCI6IG51bGwsICJUeXBlIjogMCwgIlZhbGlkIjogMCwgImRpYW0iOiAwfSwgInR5cGUiOiAiRmVhdHVyZSJ9XSwgInR5cGUiOiAiRmVhdHVyZUNvbGxlY3Rpb24ifSk7CiAgICAgICAgCjwvc2NyaXB0Pg==\" style=\"position:absolute;width:100%;height:100%;left:0;top:0;border:none !important;\" allowfullscreen webkitallowfullscreen mozallowfullscreen></iframe></div></div>"
      ],
      "text/plain": [
       "<folium.folium.Map at 0x7f6fb16b75f8>"
      ]
     },
     "execution_count": 31,
     "metadata": {},
     "output_type": "execute_result"
    }
   ],
   "source": [
    "ice_map = folium.Map(location=[50.455, 3.94],\n",
    "                    zoom_start=10)\n",
    "folium.GeoJson(\n",
    "    'output.json').add_to(ice_map)\n",
    "ice_map"
   ]
  },
  {
   "cell_type": "markdown",
   "metadata": {},
   "source": [
    "save in a file"
   ]
  },
  {
   "cell_type": "code",
   "execution_count": 20,
   "metadata": {},
   "outputs": [],
   "source": [
    "ice_map.save('index.html')"
   ]
  },
  {
   "cell_type": "markdown",
   "metadata": {},
   "source": [
    "## Access SQlite"
   ]
  },
  {
   "cell_type": "code",
   "execution_count": 21,
   "metadata": {},
   "outputs": [],
   "source": [
    "conn = sqlite3.connect('/home/gfa/test/GSDMA2019-develop/project_database.db')"
   ]
  },
  {
   "cell_type": "code",
   "execution_count": 22,
   "metadata": {},
   "outputs": [
    {
     "data": {
      "text/plain": [
       "<sqlite3.Connection at 0x7f2ae107dc70>"
      ]
     },
     "execution_count": 22,
     "metadata": {},
     "output_type": "execute_result"
    }
   ],
   "source": [
    "conn"
   ]
  },
  {
   "cell_type": "code",
   "execution_count": 23,
   "metadata": {},
   "outputs": [],
   "source": [
    "cursor = conn.cursor()"
   ]
  },
  {
   "cell_type": "markdown",
   "metadata": {},
   "source": [
    "Check which tables are in db"
   ]
  },
  {
   "cell_type": "code",
   "execution_count": 24,
   "metadata": {},
   "outputs": [
    {
     "name": "stdout",
     "output_type": "stream",
     "text": [
      "('Boreholes',)\n",
      "('Intervals',)\n",
      "('Components',)\n",
      "('Lexicon',)\n"
     ]
    }
   ],
   "source": [
    "for table in cursor.execute(\"SELECT name FROM sqlite_master WHERE type='table';\"):\n",
    "    print(table)"
   ]
  },
  {
   "cell_type": "markdown",
   "metadata": {},
   "source": [
    "Access the data "
   ]
  },
  {
   "cell_type": "markdown",
   "metadata": {},
   "source": [
    "### Copy tables of a SQL3 database to another database"
   ]
  },
  {
   "cell_type": "code",
   "execution_count": 15,
   "metadata": {},
   "outputs": [],
   "source": [
    "def db_copy_sqlite3_tables(db_in, db_out, tables):\n",
    "    \"\"\"\n",
    "    Copy tables from one database to another\n",
    "    :param db_in: full filename of the origin of tables \n",
    "    :type db_in: string\n",
    "    :param db_out: full filename of the destination of tables\n",
    "    :type db_out: string\n",
    "    :param tables: list of tables to copy\n",
    "    :type tables: list\n",
    "    :return: status, 0: OK, 1: failure\n",
    "    :rtype: int\n",
    "    \"\"\"\n",
    "    import sqlite3\n",
    "    import pandas as pd\n",
    "    \n",
    "    status = 0\n",
    "    try:\n",
    "        conn_in = sqlite3.connect(db_in)\n",
    "        conn_out = sqlite3.connect(db_out)\n",
    "        for i in tables:\n",
    "            df = pd.read_sql_query(\"SELECT * from {table:s}\".format(table=i), conn_in)\n",
    "            df.to_sql(\"{table:s}\".format(table=i),conn_out, if_exists='replace', index = False)\n",
    "        conn_in.close()\n",
    "        conn_out.close()\n",
    "    except Exception as e:\n",
    "        print('Error copying tables:\\n {error:s}'.format(error=e))\n",
    "        status = 1\n",
    "    return status    "
   ]
  },
  {
   "cell_type": "code",
   "execution_count": 17,
   "metadata": {},
   "outputs": [],
   "source": [
    "list_tables = ['Components', 'Intervals', 'Boreholes','Lexicon']"
   ]
  },
  {
   "cell_type": "code",
   "execution_count": 18,
   "metadata": {},
   "outputs": [
    {
     "data": {
      "text/plain": [
       "geopandas.geodataframe.GeoDataFrame"
      ]
     },
     "execution_count": 18,
     "metadata": {},
     "output_type": "execute_result"
    }
   ],
   "source": [
    "type(data_from_gpkg)"
   ]
  },
  {
   "cell_type": "code",
   "execution_count": 19,
   "metadata": {},
   "outputs": [],
   "source": [
    "#db_copy_sqlite3_tables('final.db','data.gpkg',list_tables)"
   ]
  },
  {
   "cell_type": "code",
   "execution_count": 20,
   "metadata": {},
   "outputs": [
    {
     "data": {
      "text/plain": [
       "0"
      ]
     },
     "execution_count": 20,
     "metadata": {},
     "output_type": "execute_result"
    }
   ],
   "source": [
    "db_copy_sqlite3_tables('project_database.db','dat.gpkg',list_tables)"
   ]
  },
  {
   "cell_type": "code",
   "execution_count": 21,
   "metadata": {},
   "outputs": [],
   "source": [
    "dat_gdf = gpd.read_file(\"dat.gpkg\")"
   ]
  },
  {
   "cell_type": "markdown",
   "metadata": {},
   "source": [
    "Add column with the name of the borehole"
   ]
  },
  {
   "cell_type": "code",
   "execution_count": 22,
   "metadata": {},
   "outputs": [],
   "source": [
    "dat_gdf['id'] = 'F'+data_from_gpkg['Ref']"
   ]
  },
  {
   "cell_type": "code",
   "execution_count": null,
   "metadata": {},
   "outputs": [],
   "source": []
  },
  {
   "cell_type": "code",
   "execution_count": null,
   "metadata": {},
   "outputs": [],
   "source": []
  },
  {
   "cell_type": "code",
   "execution_count": null,
   "metadata": {},
   "outputs": [],
   "source": []
  }
 ],
 "metadata": {
  "kernelspec": {
   "display_name": "Python 3",
   "language": "python",
   "name": "python3"
  },
  "language_info": {
   "codemirror_mode": {
    "name": "ipython",
    "version": 3
   },
   "file_extension": ".py",
   "mimetype": "text/x-python",
   "name": "python",
   "nbconvert_exporter": "python",
   "pygments_lexer": "ipython3",
   "version": "3.6.8"
  }
 },
 "nbformat": 4,
 "nbformat_minor": 2
}

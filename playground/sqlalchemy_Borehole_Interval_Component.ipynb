{
 "cells": [
  {
   "cell_type": "code",
   "execution_count": 1,
   "metadata": {},
   "outputs": [],
   "source": [
    "from datetime import datetime\n",
    "from sqlalchemy import create_engine, Column, Integer, String, Text, DateTime, Float, Boolean, ForeignKey\n",
    "from sqlalchemy.ext.declarative import declarative_base\n",
    "from sqlalchemy.orm import relationship, sessionmaker\n",
    "from sqlalchemy.orm.collections import attribute_mapped_collection\n",
    "from sqlalchemy.ext.associationproxy import association_proxy\n",
    "\n",
    "Base = declarative_base()"
   ]
  },
  {
   "cell_type": "code",
   "execution_count": 2,
   "metadata": {},
   "outputs": [],
   "source": [
    "! rm ./test_db3.db"
   ]
  },
  {
   "cell_type": "code",
   "execution_count": 3,
   "metadata": {},
   "outputs": [],
   "source": [
    "class Borehole(Base):\n",
    "    \"\"\"The Boreholes Info table\"\"\"\n",
    "    __tablename__ = 'Boreholes'\n",
    "    id = Column(String(32), primary_key=True)\n",
    "    intervals = relationship(\n",
    "        'Interval',\n",
    "        collection_class=attribute_mapped_collection('id'),\n",
    "        cascade='all, delete-orphan')\n",
    "    intervals_values = association_proxy(\n",
    "        'intervals', 'value',\n",
    "        creator=lambda k, v: Interval(id=k, description=v['description'], interval_number=v['interval_number']))\n",
    "\n",
    "class Interval(Base):\n",
    "    \"\"\"The Interval table\"\"\"\n",
    "    __tablename__ = 'Intervals'\n",
    "    id = Column(Integer, primary_key=True)\n",
    "    borehole = Column(String(32), ForeignKey('Boreholes.id'))\n",
    "    # Note that this could be a numeric ID as well\n",
    "    interval_number = Column(Integer)\n",
    "    components = relationship('Component',secondary='Linkintervalcomponent')\n",
    "    description = Column(String(32))\n",
    "    \n",
    "class Component(Base):\n",
    "    \"\"\"The Component table\"\"\"\n",
    "    __tablename__ = 'Components'\n",
    "    id = Column(String(32), primary_key=True)\n",
    "    intervals = relationship(Interval,secondary='Linkintervalcomponent')\n",
    "    description = Column(String(32))\n",
    "\n",
    "class LinkIntervalComponent(Base):\n",
    "    __tablename__ = 'Linkintervalcomponent'\n",
    "\n",
    "    int_id = Column(\n",
    "        Integer, \n",
    "        ForeignKey('Intervals.id'), \n",
    "        primary_key = True)\n",
    "\n",
    "    comp_id = Column(\n",
    "       Integer, \n",
    "       ForeignKey('Components.id'), \n",
    "       primary_key = True)"
   ]
  },
  {
   "cell_type": "code",
   "execution_count": 4,
   "metadata": {},
   "outputs": [],
   "source": [
    "engine = create_engine('sqlite:///test_db3.db', echo=True)"
   ]
  },
  {
   "cell_type": "code",
   "execution_count": 5,
   "metadata": {},
   "outputs": [
    {
     "name": "stdout",
     "output_type": "stream",
     "text": [
      "2020-12-04 15:24:30,838 INFO sqlalchemy.engine.base.Engine SELECT CAST('test plain returns' AS VARCHAR(60)) AS anon_1\n",
      "2020-12-04 15:24:30,840 INFO sqlalchemy.engine.base.Engine ()\n",
      "2020-12-04 15:24:30,841 INFO sqlalchemy.engine.base.Engine SELECT CAST('test unicode returns' AS VARCHAR(60)) AS anon_1\n",
      "2020-12-04 15:24:30,842 INFO sqlalchemy.engine.base.Engine ()\n",
      "2020-12-04 15:24:30,843 INFO sqlalchemy.engine.base.Engine PRAGMA main.table_info(\"Boreholes\")\n",
      "2020-12-04 15:24:30,844 INFO sqlalchemy.engine.base.Engine ()\n",
      "2020-12-04 15:24:30,845 INFO sqlalchemy.engine.base.Engine PRAGMA temp.table_info(\"Boreholes\")\n",
      "2020-12-04 15:24:30,845 INFO sqlalchemy.engine.base.Engine ()\n",
      "2020-12-04 15:24:30,846 INFO sqlalchemy.engine.base.Engine PRAGMA main.table_info(\"Intervals\")\n",
      "2020-12-04 15:24:30,846 INFO sqlalchemy.engine.base.Engine ()\n",
      "2020-12-04 15:24:30,846 INFO sqlalchemy.engine.base.Engine PRAGMA temp.table_info(\"Intervals\")\n",
      "2020-12-04 15:24:30,847 INFO sqlalchemy.engine.base.Engine ()\n",
      "2020-12-04 15:24:30,848 INFO sqlalchemy.engine.base.Engine PRAGMA main.table_info(\"Components\")\n",
      "2020-12-04 15:24:30,848 INFO sqlalchemy.engine.base.Engine ()\n",
      "2020-12-04 15:24:30,849 INFO sqlalchemy.engine.base.Engine PRAGMA temp.table_info(\"Components\")\n",
      "2020-12-04 15:24:30,849 INFO sqlalchemy.engine.base.Engine ()\n",
      "2020-12-04 15:24:30,850 INFO sqlalchemy.engine.base.Engine PRAGMA main.table_info(\"Linkintervalcomponent\")\n",
      "2020-12-04 15:24:30,850 INFO sqlalchemy.engine.base.Engine ()\n",
      "2020-12-04 15:24:30,853 INFO sqlalchemy.engine.base.Engine PRAGMA temp.table_info(\"Linkintervalcomponent\")\n",
      "2020-12-04 15:24:30,853 INFO sqlalchemy.engine.base.Engine ()\n",
      "2020-12-04 15:24:30,854 INFO sqlalchemy.engine.base.Engine \n",
      "CREATE TABLE \"Boreholes\" (\n",
      "\tid VARCHAR(32) NOT NULL, \n",
      "\tPRIMARY KEY (id)\n",
      ")\n",
      "\n",
      "\n",
      "2020-12-04 15:24:30,855 INFO sqlalchemy.engine.base.Engine ()\n",
      "2020-12-04 15:24:30,858 INFO sqlalchemy.engine.base.Engine COMMIT\n",
      "2020-12-04 15:24:30,860 INFO sqlalchemy.engine.base.Engine \n",
      "CREATE TABLE \"Components\" (\n",
      "\tid VARCHAR(32) NOT NULL, \n",
      "\tdescription VARCHAR(32), \n",
      "\tPRIMARY KEY (id)\n",
      ")\n",
      "\n",
      "\n",
      "2020-12-04 15:24:30,861 INFO sqlalchemy.engine.base.Engine ()\n",
      "2020-12-04 15:24:30,865 INFO sqlalchemy.engine.base.Engine COMMIT\n",
      "2020-12-04 15:24:30,866 INFO sqlalchemy.engine.base.Engine \n",
      "CREATE TABLE \"Intervals\" (\n",
      "\tid INTEGER NOT NULL, \n",
      "\tborehole VARCHAR(32), \n",
      "\tinterval_number INTEGER, \n",
      "\tdescription VARCHAR(32), \n",
      "\tPRIMARY KEY (id), \n",
      "\tFOREIGN KEY(borehole) REFERENCES \"Boreholes\" (id)\n",
      ")\n",
      "\n",
      "\n",
      "2020-12-04 15:24:30,867 INFO sqlalchemy.engine.base.Engine ()\n",
      "2020-12-04 15:24:30,870 INFO sqlalchemy.engine.base.Engine COMMIT\n",
      "2020-12-04 15:24:30,872 INFO sqlalchemy.engine.base.Engine \n",
      "CREATE TABLE \"Linkintervalcomponent\" (\n",
      "\tint_id INTEGER NOT NULL, \n",
      "\tcomp_id INTEGER NOT NULL, \n",
      "\tPRIMARY KEY (int_id, comp_id), \n",
      "\tFOREIGN KEY(int_id) REFERENCES \"Intervals\" (id), \n",
      "\tFOREIGN KEY(comp_id) REFERENCES \"Components\" (id)\n",
      ")\n",
      "\n",
      "\n",
      "2020-12-04 15:24:30,873 INFO sqlalchemy.engine.base.Engine ()\n",
      "2020-12-04 15:24:30,877 INFO sqlalchemy.engine.base.Engine COMMIT\n"
     ]
    }
   ],
   "source": [
    "Base.metadata.create_all(engine)"
   ]
  },
  {
   "cell_type": "code",
   "execution_count": 6,
   "metadata": {},
   "outputs": [],
   "source": [
    "from contextlib import contextmanager\n",
    "\n",
    "Session = sessionmaker(bind=engine)\n",
    "\n",
    "@contextmanager\n",
    "def session_scope():\n",
    "    \"\"\"Provide a transactional scope around a series of operations.\"\"\"\n",
    "    session = Session()\n",
    "    try:\n",
    "        yield session\n",
    "        session.commit()\n",
    "    except:\n",
    "        session.rollback()\n",
    "        raise\n",
    "    finally:\n",
    "        session.close()"
   ]
  },
  {
   "cell_type": "code",
   "execution_count": 7,
   "metadata": {},
   "outputs": [],
   "source": [
    "boreholes = [Borehole(id='F11'), Borehole(id='F12'), Borehole(id='F13')] "
   ]
  },
  {
   "cell_type": "code",
   "execution_count": 8,
   "metadata": {},
   "outputs": [],
   "source": [
    "boreholes[0].intervals_values = {0: {'description':'stuff', 'interval_number':0}, 1: {'description':'junk', 'interval_number':1}}\n",
    "boreholes[1].intervals_values = {2: {'description':'foo', 'interval_number':0}, 3: {'description':'bar', 'interval_number':1}}"
   ]
  },
  {
   "cell_type": "code",
   "execution_count": 9,
   "metadata": {},
   "outputs": [],
   "source": [
    "c1 = Component(**{'id':0, 'description':'red fined grained limestone'})\n",
    "c2 = Component(**{'id':1, 'description':'greyish sandstone'})\n",
    "boreholes[0].intervals[0].components.append(c1) # TODO: specifiy the primary component\n",
    "boreholes[0].intervals[0].components.append(c2)\n",
    "boreholes[0].intervals[1].components.append(c2)\n",
    "boreholes[1].intervals[2].components.append(c2)\n",
    "boreholes[1].intervals[3].components.append(c1)"
   ]
  },
  {
   "cell_type": "code",
   "execution_count": 10,
   "metadata": {},
   "outputs": [
    {
     "data": {
      "text/plain": [
       "{0: <__main__.Interval at 0x7f622490a080>,\n",
       " 1: <__main__.Interval at 0x7f622490a128>}"
      ]
     },
     "execution_count": 10,
     "metadata": {},
     "output_type": "execute_result"
    }
   ],
   "source": [
    "boreholes[0].intervals"
   ]
  },
  {
   "cell_type": "code",
   "execution_count": 11,
   "metadata": {
    "scrolled": false
   },
   "outputs": [
    {
     "name": "stdout",
     "output_type": "stream",
     "text": [
      "2020-12-04 15:24:30,964 INFO sqlalchemy.engine.base.Engine BEGIN (implicit)\n",
      "2020-12-04 15:24:30,967 INFO sqlalchemy.engine.base.Engine INSERT INTO \"Boreholes\" (id) VALUES (?)\n",
      "2020-12-04 15:24:30,969 INFO sqlalchemy.engine.base.Engine (('F11',), ('F12',), ('F13',))\n",
      "2020-12-04 15:24:30,974 INFO sqlalchemy.engine.base.Engine INSERT INTO \"Components\" (id, description) VALUES (?, ?)\n",
      "2020-12-04 15:24:30,977 INFO sqlalchemy.engine.base.Engine ((0, 'red fined grained limestone'), (1, 'greyish sandstone'))\n",
      "2020-12-04 15:24:30,980 INFO sqlalchemy.engine.base.Engine INSERT INTO \"Intervals\" (id, borehole, interval_number, description) VALUES (?, ?, ?, ?)\n",
      "2020-12-04 15:24:30,982 INFO sqlalchemy.engine.base.Engine ((0, 'F11', 0, 'stuff'), (1, 'F11', 1, 'junk'), (2, 'F12', 0, 'foo'), (3, 'F12', 1, 'bar'))\n",
      "2020-12-04 15:24:30,984 INFO sqlalchemy.engine.base.Engine INSERT INTO \"Linkintervalcomponent\" (int_id, comp_id) VALUES (?, ?)\n",
      "2020-12-04 15:24:30,987 INFO sqlalchemy.engine.base.Engine ((0, 0), (0, 1), (2, 1), (1, 1), (3, 0))\n",
      "2020-12-04 15:24:30,990 INFO sqlalchemy.engine.base.Engine COMMIT\n"
     ]
    }
   ],
   "source": [
    "with session_scope() as session:\n",
    "    for bh in boreholes:\n",
    "        session.add(bh)"
   ]
  }
 ],
 "metadata": {
  "kernelspec": {
   "display_name": "Python 3",
   "language": "python",
   "name": "python3"
  },
  "language_info": {
   "codemirror_mode": {
    "name": "ipython",
    "version": 3
   },
   "file_extension": ".py",
   "mimetype": "text/x-python",
   "name": "python",
   "nbconvert_exporter": "python",
   "pygments_lexer": "ipython3",
   "version": "3.6.9"
  }
 },
 "nbformat": 4,
 "nbformat_minor": 4
}

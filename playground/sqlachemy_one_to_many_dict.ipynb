{
 "cells": [
  {
   "cell_type": "code",
   "execution_count": 10,
   "metadata": {},
   "outputs": [],
   "source": [
    "from datetime import datetime\n",
    "from sqlalchemy import create_engine, Column, Integer, String, Text, DateTime, Float, Boolean, ForeignKey\n",
    "from sqlalchemy.ext.declarative import declarative_base\n",
    "from sqlalchemy.orm import relationship, sessionmaker\n",
    "from sqlalchemy.orm.collections import attribute_mapped_collection\n",
    "from sqlalchemy.ext.associationproxy import association_proxy\n",
    "\n",
    "Base = declarative_base()\n",
    "\n",
    "class Machine(Base):\n",
    "    \"\"\"The Machine Info table\"\"\"\n",
    "    __tablename__ = 'machine'\n",
    "    id = Column(Integer, primary_key=True)\n",
    "    machine_name = Column(String(32))\n",
    "    datetime = Column(DateTime, default=datetime.utcnow)\n",
    "    sensors = relationship(\n",
    "        'Sensor',\n",
    "        collection_class=attribute_mapped_collection('name'),\n",
    "        cascade='all, delete-orphan')\n",
    "    sensor_values = association_proxy(\n",
    "        'sensors', 'value',\n",
    "        creator=lambda k, v: Sensor(name=k, value=v))\n",
    "\n",
    "class Sensor(Base):\n",
    "    \"\"\"The Sensor table\"\"\"\n",
    "    __tablename__ = 'sensor'\n",
    "    machine_id = Column(Integer, ForeignKey('machine.id'),\n",
    "                           primary_key=True)\n",
    "    # Note that this could be a numeric ID as well\n",
    "    name = Column(String(16), primary_key=True)\n",
    "    value = Column(String(32))"
   ]
  },
  {
   "cell_type": "code",
   "execution_count": 28,
   "metadata": {},
   "outputs": [],
   "source": [
    "engine = create_engine('sqlite:///test_db.db', echo=True)"
   ]
  },
  {
   "cell_type": "code",
   "execution_count": 29,
   "metadata": {},
   "outputs": [
    {
     "name": "stdout",
     "output_type": "stream",
     "text": [
      "2020-11-29 19:35:26,931 INFO sqlalchemy.engine.base.Engine SELECT CAST('test plain returns' AS VARCHAR(60)) AS anon_1\n",
      "2020-11-29 19:35:26,933 INFO sqlalchemy.engine.base.Engine ()\n",
      "2020-11-29 19:35:26,936 INFO sqlalchemy.engine.base.Engine SELECT CAST('test unicode returns' AS VARCHAR(60)) AS anon_1\n",
      "2020-11-29 19:35:26,937 INFO sqlalchemy.engine.base.Engine ()\n",
      "2020-11-29 19:35:26,938 INFO sqlalchemy.engine.base.Engine PRAGMA main.table_info(\"machine\")\n",
      "2020-11-29 19:35:26,940 INFO sqlalchemy.engine.base.Engine ()\n",
      "2020-11-29 19:35:26,942 INFO sqlalchemy.engine.base.Engine PRAGMA main.table_info(\"sensor\")\n",
      "2020-11-29 19:35:26,943 INFO sqlalchemy.engine.base.Engine ()\n"
     ]
    }
   ],
   "source": [
    "Base.metadata.create_all(engine)"
   ]
  },
  {
   "cell_type": "code",
   "execution_count": 30,
   "metadata": {},
   "outputs": [],
   "source": [
    "m = Machine(machine_name='Steam Machine')"
   ]
  },
  {
   "cell_type": "code",
   "execution_count": 31,
   "metadata": {},
   "outputs": [],
   "source": [
    "m.sensor_values['sensor1'] = 'some interesting value'"
   ]
  },
  {
   "cell_type": "code",
   "execution_count": 32,
   "metadata": {},
   "outputs": [],
   "source": [
    "session = Session(engine)\n",
    "session.add(m)"
   ]
  },
  {
   "cell_type": "code",
   "execution_count": 33,
   "metadata": {},
   "outputs": [
    {
     "name": "stdout",
     "output_type": "stream",
     "text": [
      "2020-11-29 19:35:36,550 INFO sqlalchemy.engine.base.Engine BEGIN (implicit)\n",
      "2020-11-29 19:35:36,553 INFO sqlalchemy.engine.base.Engine INSERT INTO machine (machine_name, datetime) VALUES (?, ?)\n",
      "2020-11-29 19:35:36,555 INFO sqlalchemy.engine.base.Engine ('Steam Machine', '2020-11-29 18:35:36.553425')\n",
      "2020-11-29 19:35:36,559 INFO sqlalchemy.engine.base.Engine INSERT INTO sensor (machine_id, name, value) VALUES (?, ?, ?)\n",
      "2020-11-29 19:35:36,560 INFO sqlalchemy.engine.base.Engine (2, 'sensor1', 'some interesting value')\n",
      "2020-11-29 19:35:36,562 INFO sqlalchemy.engine.base.Engine COMMIT\n"
     ]
    }
   ],
   "source": [
    "session.commit()"
   ]
  },
  {
   "cell_type": "code",
   "execution_count": 34,
   "metadata": {},
   "outputs": [],
   "source": [
    "session.close()"
   ]
  }
 ],
 "metadata": {
  "kernelspec": {
   "display_name": "Python 3",
   "language": "python",
   "name": "python3"
  },
  "language_info": {
   "codemirror_mode": {
    "name": "ipython",
    "version": 3
   },
   "file_extension": ".py",
   "mimetype": "text/x-python",
   "name": "python",
   "nbconvert_exporter": "python",
   "pygments_lexer": "ipython3",
   "version": "3.6.9"
  }
 },
 "nbformat": 4,
 "nbformat_minor": 4
}

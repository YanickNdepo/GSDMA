{
 "cells": [
  {
   "cell_type": "code",
   "execution_count": 1,
   "metadata": {},
   "outputs": [],
   "source": [
    "from datetime import datetime\n",
    "from sqlalchemy import create_engine, Column, Integer, String, Text, DateTime, Float, Boolean, ForeignKey\n",
    "from sqlalchemy.ext.declarative import declarative_base\n",
    "from sqlalchemy.orm import relationship, sessionmaker\n",
    "from sqlalchemy.orm.collections import attribute_mapped_collection\n",
    "from sqlalchemy.ext.associationproxy import association_proxy\n",
    "\n",
    "Base = declarative_base()"
   ]
  },
  {
   "cell_type": "code",
   "execution_count": 2,
   "metadata": {},
   "outputs": [],
   "source": [
    "! rm ./test_db3.db"
   ]
  },
  {
   "cell_type": "code",
   "execution_count": 3,
   "metadata": {},
   "outputs": [],
   "source": [
    "class Borehole(Base):\n",
    "    \"\"\"The Boreholes Info table\"\"\"\n",
    "    __tablename__ = 'Boreholes'\n",
    "    id = Column(String(32), primary_key=True)\n",
    "    intervals = relationship(\n",
    "        'Interval',\n",
    "        collection_class=attribute_mapped_collection('id'),\n",
    "        cascade='all, delete-orphan')\n",
    "    intervals_values = association_proxy(\n",
    "        'intervals', 'value',\n",
    "        creator=lambda k, v: Interval(id=k, description=v['description'], interval_number=v['interval_number']))\n",
    "   # components_values = association_proxy(\n",
    "   #     'components', 'value',\n",
    "   #     creator=lambda k, v: Component(id=k, description=v['description']))\n",
    "\n",
    "class Interval(Base):\n",
    "    \"\"\"The Interval table\"\"\"\n",
    "    __tablename__ = 'Intervals'\n",
    "    id = Column(Integer, primary_key=True)\n",
    "    borehole = Column(String(32), ForeignKey('Boreholes.id'))\n",
    "    # Note that this could be a numeric ID as well\n",
    "    interval_number = Column(Integer)\n",
    "    components = relationship('Component',secondary='Linkintervalcomponent')\n",
    "    description = Column(String(32))\n",
    "    \n",
    "class Component(Base):\n",
    "    \"\"\"The Component table\"\"\"\n",
    "    __tablename__ = 'Components'\n",
    "    id = Column(String(32), primary_key=True)\n",
    "    intervals = relationship(Interval,secondary='Linkintervalcomponent')\n",
    "    description = Column(String(32))\n",
    "\n",
    "class LinkIntervalComponent(Base):\n",
    "    __tablename__ = 'Linkintervalcomponent'\n",
    "\n",
    "    int_id = Column(\n",
    "        Integer, \n",
    "        ForeignKey('Intervals.id'), \n",
    "        primary_key = True)\n",
    "\n",
    "    comp_id = Column(\n",
    "       Integer, \n",
    "       ForeignKey('Components.id'), \n",
    "       primary_key = True)"
   ]
  },
  {
   "cell_type": "code",
   "execution_count": 4,
   "metadata": {},
   "outputs": [],
   "source": [
    "engine = create_engine('sqlite:///test_db3.db', echo=True)"
   ]
  },
  {
   "cell_type": "code",
   "execution_count": 5,
   "metadata": {},
   "outputs": [
    {
     "name": "stdout",
     "output_type": "stream",
     "text": [
      "2020-12-11 13:57:03,519 INFO sqlalchemy.engine.base.Engine SELECT CAST('test plain returns' AS VARCHAR(60)) AS anon_1\n",
      "2020-12-11 13:57:03,521 INFO sqlalchemy.engine.base.Engine ()\n",
      "2020-12-11 13:57:03,522 INFO sqlalchemy.engine.base.Engine SELECT CAST('test unicode returns' AS VARCHAR(60)) AS anon_1\n",
      "2020-12-11 13:57:03,523 INFO sqlalchemy.engine.base.Engine ()\n",
      "2020-12-11 13:57:03,525 INFO sqlalchemy.engine.base.Engine PRAGMA main.table_info(\"Boreholes\")\n",
      "2020-12-11 13:57:03,525 INFO sqlalchemy.engine.base.Engine ()\n",
      "2020-12-11 13:57:03,526 INFO sqlalchemy.engine.base.Engine PRAGMA temp.table_info(\"Boreholes\")\n",
      "2020-12-11 13:57:03,527 INFO sqlalchemy.engine.base.Engine ()\n",
      "2020-12-11 13:57:03,528 INFO sqlalchemy.engine.base.Engine PRAGMA main.table_info(\"Intervals\")\n",
      "2020-12-11 13:57:03,528 INFO sqlalchemy.engine.base.Engine ()\n",
      "2020-12-11 13:57:03,529 INFO sqlalchemy.engine.base.Engine PRAGMA temp.table_info(\"Intervals\")\n",
      "2020-12-11 13:57:03,529 INFO sqlalchemy.engine.base.Engine ()\n",
      "2020-12-11 13:57:03,529 INFO sqlalchemy.engine.base.Engine PRAGMA main.table_info(\"Components\")\n",
      "2020-12-11 13:57:03,530 INFO sqlalchemy.engine.base.Engine ()\n",
      "2020-12-11 13:57:03,530 INFO sqlalchemy.engine.base.Engine PRAGMA temp.table_info(\"Components\")\n",
      "2020-12-11 13:57:03,531 INFO sqlalchemy.engine.base.Engine ()\n",
      "2020-12-11 13:57:03,531 INFO sqlalchemy.engine.base.Engine PRAGMA main.table_info(\"Linkintervalcomponent\")\n",
      "2020-12-11 13:57:03,532 INFO sqlalchemy.engine.base.Engine ()\n",
      "2020-12-11 13:57:03,532 INFO sqlalchemy.engine.base.Engine PRAGMA temp.table_info(\"Linkintervalcomponent\")\n",
      "2020-12-11 13:57:03,533 INFO sqlalchemy.engine.base.Engine ()\n",
      "2020-12-11 13:57:03,536 INFO sqlalchemy.engine.base.Engine \n",
      "CREATE TABLE \"Boreholes\" (\n",
      "\tid VARCHAR(32) NOT NULL, \n",
      "\tPRIMARY KEY (id)\n",
      ")\n",
      "\n",
      "\n",
      "2020-12-11 13:57:03,538 INFO sqlalchemy.engine.base.Engine ()\n",
      "2020-12-11 13:57:03,541 INFO sqlalchemy.engine.base.Engine COMMIT\n",
      "2020-12-11 13:57:03,546 INFO sqlalchemy.engine.base.Engine \n",
      "CREATE TABLE \"Components\" (\n",
      "\tid VARCHAR(32) NOT NULL, \n",
      "\tdescription VARCHAR(32), \n",
      "\tPRIMARY KEY (id)\n",
      ")\n",
      "\n",
      "\n",
      "2020-12-11 13:57:03,548 INFO sqlalchemy.engine.base.Engine ()\n",
      "2020-12-11 13:57:03,554 INFO sqlalchemy.engine.base.Engine COMMIT\n",
      "2020-12-11 13:57:03,555 INFO sqlalchemy.engine.base.Engine \n",
      "CREATE TABLE \"Intervals\" (\n",
      "\tid INTEGER NOT NULL, \n",
      "\tborehole VARCHAR(32), \n",
      "\tinterval_number INTEGER, \n",
      "\tdescription VARCHAR(32), \n",
      "\tPRIMARY KEY (id), \n",
      "\tFOREIGN KEY(borehole) REFERENCES \"Boreholes\" (id)\n",
      ")\n",
      "\n",
      "\n",
      "2020-12-11 13:57:03,556 INFO sqlalchemy.engine.base.Engine ()\n",
      "2020-12-11 13:57:03,559 INFO sqlalchemy.engine.base.Engine COMMIT\n",
      "2020-12-11 13:57:03,560 INFO sqlalchemy.engine.base.Engine \n",
      "CREATE TABLE \"Linkintervalcomponent\" (\n",
      "\tint_id INTEGER NOT NULL, \n",
      "\tcomp_id INTEGER NOT NULL, \n",
      "\tPRIMARY KEY (int_id, comp_id), \n",
      "\tFOREIGN KEY(int_id) REFERENCES \"Intervals\" (id), \n",
      "\tFOREIGN KEY(comp_id) REFERENCES \"Components\" (id)\n",
      ")\n",
      "\n",
      "\n",
      "2020-12-11 13:57:03,561 INFO sqlalchemy.engine.base.Engine ()\n",
      "2020-12-11 13:57:03,565 INFO sqlalchemy.engine.base.Engine COMMIT\n"
     ]
    }
   ],
   "source": [
    "Base.metadata.create_all(engine)"
   ]
  },
  {
   "cell_type": "code",
   "execution_count": 6,
   "metadata": {},
   "outputs": [],
   "source": [
    "from contextlib import contextmanager\n",
    "\n",
    "Session = sessionmaker(bind=engine)\n",
    "\n",
    "@contextmanager\n",
    "def session_scope():\n",
    "    \"\"\"Provide a transactional scope around a series of operations.\"\"\"\n",
    "    session = Session()\n",
    "    try:\n",
    "        yield session\n",
    "        session.commit()\n",
    "    except:\n",
    "        session.rollback()\n",
    "        raise\n",
    "    finally:\n",
    "        session.close()"
   ]
  },
  {
   "cell_type": "code",
   "execution_count": 7,
   "metadata": {},
   "outputs": [],
   "source": [
    "from striplog import Lexicon, Striplog"
   ]
  },
  {
   "cell_type": "code",
   "execution_count": 8,
   "metadata": {},
   "outputs": [],
   "source": [
    "lexicon = Lexicon.default()"
   ]
  },
  {
   "cell_type": "code",
   "execution_count": 9,
   "metadata": {},
   "outputs": [],
   "source": [
    "borehole_dict = {'F01':'test.las', 'F02':'test.las'} # boreholes to insert into the db"
   ]
  },
  {
   "cell_type": "code",
   "execution_count": 10,
   "metadata": {},
   "outputs": [],
   "source": [
    "int_id = 0\n",
    "bh_id = 0\n",
    "boreholes = []\n",
    "components = []\n",
    "comp_id = 0\n",
    "component_dict={}\n",
    "for bh, filename in borehole_dict.items():\n",
    "    interval_number = 0\n",
    "    boreholes.append(Borehole(id=bh))\n",
    "    with open(filename, 'r') as las3:\n",
    "        strip = Striplog.from_las3(las3.read(), lexicon)\n",
    "    for c in strip.components:\n",
    "        if c not in component_dict.keys():\n",
    "            component_dict.update({c:comp_id})\n",
    "            comp_id += 1\n",
    "    d ={}\n",
    "    for interval in strip:\n",
    "        d.update({int_id:{'description':interval.description, 'interval_number' : interval_number}})\n",
    "        interval_number+=1\n",
    "        int_id += 1\n",
    "    # print(d)\n",
    "    boreholes[bh_id].intervals_values = d\n",
    "    #boreholes[bh_id].components_values = c\n",
    "    bh_id += 1 \n",
    "components = {v:k for k,v in component_dict.items()}"
   ]
  },
  {
   "cell_type": "code",
   "execution_count": 11,
   "metadata": {},
   "outputs": [
    {
     "data": {
      "text/plain": [
       "{0: Component({'lithology': 'siltstone', 'colour': 'grey'}),\n",
       " 1: Component({'lithology': 'anhydrite'}),\n",
       " 2: Component({'lithology': 'sandstone', 'grainsize': 'vf-f', 'colour': 'grey'}),\n",
       " 3: Component({'lithology': 'dolomite'}),\n",
       " 4: Component({'lithology': 'siltstone', 'colour': 'red'}),\n",
       " 5: Component({'lithology': 'limestone'})}"
      ]
     },
     "execution_count": 11,
     "metadata": {},
     "output_type": "execute_result"
    }
   ],
   "source": [
    "components"
   ]
  },
  {
   "cell_type": "code",
   "execution_count": 12,
   "metadata": {},
   "outputs": [
    {
     "data": {
      "text/plain": [
       "{Component({'lithology': 'siltstone', 'colour': 'grey'}): 0,\n",
       " Component({'lithology': 'anhydrite'}): 1,\n",
       " Component({'lithology': 'sandstone', 'grainsize': 'vf-f', 'colour': 'grey'}): 2,\n",
       " Component({'lithology': 'dolomite'}): 3,\n",
       " Component({'lithology': 'siltstone', 'colour': 'red'}): 4,\n",
       " Component({'lithology': 'limestone'}): 5}"
      ]
     },
     "execution_count": 12,
     "metadata": {},
     "output_type": "execute_result"
    }
   ],
   "source": [
    "component_dict"
   ]
  },
  {
   "cell_type": "code",
   "execution_count": 13,
   "metadata": {},
   "outputs": [
    {
     "data": {
      "text/plain": [
       "[Component({'lithology': 'siltstone', 'colour': 'grey'}),\n",
       " Component({'lithology': 'anhydrite'}),\n",
       " Component({'lithology': 'sandstone', 'grainsize': 'vf-f', 'colour': 'grey'}),\n",
       " Component({'lithology': 'dolomite'}),\n",
       " Component({'lithology': 'siltstone', 'colour': 'red'}),\n",
       " Component({'lithology': 'limestone'})]"
      ]
     },
     "execution_count": 13,
     "metadata": {},
     "output_type": "execute_result"
    }
   ],
   "source": [
    "strip.components"
   ]
  },
  {
   "cell_type": "code",
   "execution_count": 14,
   "metadata": {},
   "outputs": [
    {
     "data": {
      "text/plain": [
       "[Component({'lithology': 'anhydrite'})]"
      ]
     },
     "execution_count": 14,
     "metadata": {},
     "output_type": "execute_result"
    }
   ],
   "source": [
    "strip[0].components"
   ]
  },
  {
   "cell_type": "code",
   "execution_count": 15,
   "metadata": {},
   "outputs": [
    {
     "data": {
      "text/plain": [
       "[<__main__.Borehole at 0x7f3462ab35f8>, <__main__.Borehole at 0x7f3462a52eb8>]"
      ]
     },
     "execution_count": 15,
     "metadata": {},
     "output_type": "execute_result"
    }
   ],
   "source": [
    "boreholes"
   ]
  },
  {
   "cell_type": "raw",
   "metadata": {},
   "source": [
    "boreholes = [Borehole(id='test')] "
   ]
  },
  {
   "cell_type": "raw",
   "metadata": {},
   "source": [
    "boreholes[0].intervals_values = {0: {'description':'stuff', 'interval_number':0}, 1: {'description':'junk', 'interval_number':1}}\n",
    "boreholes[1].intervals_values = {2: {'description':'foo', 'interval_number':0}, 3: {'description':'bar', 'interval_number':1}}"
   ]
  },
  {
   "cell_type": "raw",
   "metadata": {},
   "source": [
    "c1 = Component(**{'id':0, 'description':'red fined grained limestone'})\n",
    "c2 = Component(**{'id':1, 'description':'greyish sandstone'})\n",
    "boreholes[0].intervals[0].components.append(c1) # TODO: specifiy the primary component\n",
    "boreholes[0].intervals[0].components.append(c2)\n",
    "boreholes[0].intervals[1].components.append(c2)\n",
    "boreholes[1].intervals[2].components.append(c2)\n",
    "boreholes[1].intervals[3].components.append(c1)"
   ]
  },
  {
   "cell_type": "raw",
   "metadata": {},
   "source": [
    "boreholes[0].intervals"
   ]
  },
  {
   "cell_type": "code",
   "execution_count": 23,
   "metadata": {},
   "outputs": [
    {
     "name": "stdout",
     "output_type": "stream",
     "text": [
      "0 {'lithology': 'siltstone', 'colour': 'grey'}\n",
      "1 {'lithology': 'anhydrite'}\n",
      "2 {'lithology': 'sandstone', 'grainsize': 'vf-f', 'colour': 'grey'}\n",
      "3 {'lithology': 'dolomite'}\n",
      "4 {'lithology': 'siltstone', 'colour': 'red'}\n",
      "5 {'lithology': 'limestone'}\n"
     ]
    }
   ],
   "source": [
    "for id in components.keys():\n",
    "    print(id, components[id])"
   ]
  },
  {
   "cell_type": "code",
   "execution_count": null,
   "metadata": {},
   "outputs": [],
   "source": []
  },
  {
   "cell_type": "code",
   "execution_count": 46,
   "metadata": {
    "scrolled": false
   },
   "outputs": [
    {
     "name": "stdout",
     "output_type": "stream",
     "text": [
      "2020-12-11 14:14:15,839 INFO sqlalchemy.engine.base.Engine BEGIN (implicit)\n",
      "2020-12-11 14:14:15,841 INFO sqlalchemy.engine.base.Engine SELECT \"Boreholes\".id AS \"Boreholes_id\" \n",
      "FROM \"Boreholes\" \n",
      "WHERE \"Boreholes\".id = ?\n",
      "2020-12-11 14:14:15,845 INFO sqlalchemy.engine.base.Engine ('F01',)\n",
      "2020-12-11 14:14:15,846 INFO sqlalchemy.engine.base.Engine SELECT \"Intervals\".id AS \"Intervals_id\", \"Intervals\".borehole AS \"Intervals_borehole\", \"Intervals\".interval_number AS \"Intervals_interval_number\", \"Intervals\".description AS \"Intervals_description\" \n",
      "FROM \"Intervals\" \n",
      "WHERE ? = \"Intervals\".borehole\n",
      "2020-12-11 14:14:15,847 INFO sqlalchemy.engine.base.Engine ('F01',)\n",
      "2020-12-11 14:14:15,849 INFO sqlalchemy.engine.base.Engine SELECT \"Components\".id AS \"Components_id\", \"Components\".description AS \"Components_description\" \n",
      "FROM \"Components\", \"Linkintervalcomponent\" \n",
      "WHERE ? = \"Linkintervalcomponent\".int_id AND \"Components\".id = \"Linkintervalcomponent\".comp_id\n",
      "2020-12-11 14:14:15,849 INFO sqlalchemy.engine.base.Engine (0,)\n",
      "2020-12-11 14:14:15,850 INFO sqlalchemy.engine.base.Engine ROLLBACK\n"
     ]
    },
    {
     "ename": "IndexError",
     "evalue": "list index out of range",
     "output_type": "error",
     "traceback": [
      "\u001b[0;31m---------------------------------------------------------------------------\u001b[0m",
      "\u001b[0;31mIndexError\u001b[0m                                Traceback (most recent call last)",
      "\u001b[0;32m<ipython-input-46-ef346f02ef31>\u001b[0m in \u001b[0;36m<module>\u001b[0;34m\u001b[0m\n\u001b[1;32m      3\u001b[0m         \u001b[0msession\u001b[0m\u001b[0;34m.\u001b[0m\u001b[0madd\u001b[0m\u001b[0;34m(\u001b[0m\u001b[0mbh\u001b[0m\u001b[0;34m)\u001b[0m\u001b[0;34m\u001b[0m\u001b[0;34m\u001b[0m\u001b[0m\n\u001b[1;32m      4\u001b[0m         \u001b[0;32mfor\u001b[0m \u001b[0miv\u001b[0m \u001b[0;32min\u001b[0m \u001b[0mbh\u001b[0m\u001b[0;34m.\u001b[0m\u001b[0mintervals\u001b[0m\u001b[0;34m:\u001b[0m\u001b[0;34m\u001b[0m\u001b[0;34m\u001b[0m\u001b[0m\n\u001b[0;32m----> 5\u001b[0;31m             \u001b[0mprint\u001b[0m\u001b[0;34m(\u001b[0m\u001b[0mbh\u001b[0m\u001b[0;34m.\u001b[0m\u001b[0mintervals\u001b[0m\u001b[0;34m[\u001b[0m\u001b[0miv\u001b[0m\u001b[0;34m]\u001b[0m\u001b[0;34m.\u001b[0m\u001b[0mcomponents\u001b[0m\u001b[0;34m[\u001b[0m\u001b[0;36m0\u001b[0m\u001b[0;34m]\u001b[0m\u001b[0;34m)\u001b[0m\u001b[0;34m\u001b[0m\u001b[0;34m\u001b[0m\u001b[0m\n\u001b[0m\u001b[1;32m      6\u001b[0m \u001b[0;34m\u001b[0m\u001b[0m\n\u001b[1;32m      7\u001b[0m \u001b[0;32mwith\u001b[0m \u001b[0msession_scope\u001b[0m\u001b[0;34m(\u001b[0m\u001b[0;34m)\u001b[0m \u001b[0;32mas\u001b[0m \u001b[0msession\u001b[0m\u001b[0;34m:\u001b[0m\u001b[0;34m\u001b[0m\u001b[0;34m\u001b[0m\u001b[0m\n",
      "\u001b[0;31mIndexError\u001b[0m: list index out of range"
     ]
    }
   ],
   "source": [
    "with session_scope() as session:\n",
    "    for bh in boreholes:\n",
    "        session.add(bh)\n",
    "        for iv in bh.intervals:\n",
    "            print(bh.intervals[iv].components[0])\n",
    "        \n",
    "with session_scope() as session:\n",
    "    for id in components.keys():\n",
    "        new_compo = Component(id=id, description=components[id].summary()) \n",
    "        session.add(new_compo)"
   ]
  },
  {
   "cell_type": "code",
   "execution_count": null,
   "metadata": {},
   "outputs": [],
   "source": []
  }
 ],
 "metadata": {
  "kernelspec": {
   "display_name": "Python 3",
   "language": "python",
   "name": "python3"
  },
  "language_info": {
   "codemirror_mode": {
    "name": "ipython",
    "version": 3
   },
   "file_extension": ".py",
   "mimetype": "text/x-python",
   "name": "python",
   "nbconvert_exporter": "python",
   "pygments_lexer": "ipython3",
   "version": "3.6.9"
  }
 },
 "nbformat": 4,
 "nbformat_minor": 4
}

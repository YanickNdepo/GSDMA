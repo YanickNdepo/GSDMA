{
 "cells": [
  {
   "cell_type": "code",
   "execution_count": 1,
   "metadata": {},
   "outputs": [],
   "source": [
    "from datetime import datetime\n",
    "from sqlalchemy import create_engine, Column, Integer, String, Text, DateTime, Float, Boolean, ForeignKey\n",
    "from sqlalchemy.ext.declarative import declarative_base\n",
    "from sqlalchemy.orm import relationship, sessionmaker\n",
    "from sqlalchemy.orm.collections import attribute_mapped_collection\n",
    "from sqlalchemy.ext.associationproxy import association_proxy\n",
    "\n",
    "Base = declarative_base()"
   ]
  },
  {
   "cell_type": "code",
   "execution_count": 2,
   "metadata": {},
   "outputs": [],
   "source": [
    "! rm ./test_db3.db"
   ]
  },
  {
   "cell_type": "code",
   "execution_count": 3,
   "metadata": {},
   "outputs": [],
   "source": [
    "class Borehole(Base):\n",
    "    \"\"\"The Boreholes Info table\"\"\"\n",
    "    __tablename__ = 'Boreholes'\n",
    "    id = Column(String(32), primary_key=True)\n",
    "    intervals = relationship(\n",
    "        'Interval',\n",
    "        collection_class=attribute_mapped_collection('id'),\n",
    "        cascade='all, delete-orphan')\n",
    "    intervals_values = association_proxy(\n",
    "        'intervals', 'value',\n",
    "        creator=lambda k, v: Interval(id=k, description=v['description'], interval_number=v['interval_number'], \n",
    "                                      top=v['top'], base=v['base']))\n",
    "   # components_values = association_proxy(\n",
    "   #     'components', 'value',\n",
    "   #     creator=lambda k, v: Component(id=k, description=v['description']))\n",
    "    \n",
    "class Position(Base):\n",
    "    \"\"\"The Position table\"\"\"\n",
    "    __tablename__ = 'Positions'\n",
    "    id = Column(Integer, primary_key=True)\n",
    "    # interval = relationship('Interval') # , uselist=False, back_populates='top')\n",
    "    upper = Column(Float(32))\n",
    "    middle = Column(Float(32))\n",
    "    lower = Column(Float(32))\n",
    "    \n",
    "class Interval(Base):\n",
    "    \"\"\"The Interval table\"\"\"\n",
    "    __tablename__ = 'Intervals'\n",
    "    id = Column(Integer, primary_key=True)\n",
    "    borehole = Column(String(32), ForeignKey('Boreholes.id'))\n",
    "    # Note that this could be a numeric ID as well\n",
    "    interval_number = Column(Integer)\n",
    "    components = relationship('Component',secondary='Linkintervalcomponent')\n",
    "    description = Column(String(32))\n",
    "    top_id = Column(Integer, ForeignKey('Positions.id'))\n",
    "    top = relationship(Position, foreign_keys=[top_id])\n",
    "    base_id = Column(Integer, ForeignKey('Positions.id'))\n",
    "    base = relationship(Position, foreign_keys=[base_id])\n",
    "\n",
    "class Component(Base):\n",
    "    \"\"\"The Component table\"\"\"\n",
    "    __tablename__ = 'Components'\n",
    "    id = Column(String(32), primary_key=True)\n",
    "    intervals = relationship(Interval,secondary='Linkintervalcomponent')\n",
    "    description = Column(String(32))\n",
    "\n",
    "class LinkIntervalComponent(Base):\n",
    "    __tablename__ = 'Linkintervalcomponent'\n",
    "\n",
    "    int_id = Column(\n",
    "        Integer, \n",
    "        ForeignKey('Intervals.id'), \n",
    "        primary_key = True)\n",
    "\n",
    "    comp_id = Column(\n",
    "       Integer, \n",
    "       ForeignKey('Components.id'), \n",
    "       primary_key = True)"
   ]
  },
  {
   "cell_type": "code",
   "execution_count": 4,
   "metadata": {},
   "outputs": [],
   "source": [
    "engine = create_engine('sqlite:///test_db3.db', echo=True)"
   ]
  },
  {
   "cell_type": "code",
   "execution_count": 5,
   "metadata": {},
   "outputs": [
    {
     "name": "stdout",
     "output_type": "stream",
     "text": [
      "2020-12-18 14:26:22,022 INFO sqlalchemy.engine.base.Engine SELECT CAST('test plain returns' AS VARCHAR(60)) AS anon_1\n",
      "2020-12-18 14:26:22,023 INFO sqlalchemy.engine.base.Engine ()\n",
      "2020-12-18 14:26:22,026 INFO sqlalchemy.engine.base.Engine SELECT CAST('test unicode returns' AS VARCHAR(60)) AS anon_1\n",
      "2020-12-18 14:26:22,027 INFO sqlalchemy.engine.base.Engine ()\n",
      "2020-12-18 14:26:22,029 INFO sqlalchemy.engine.base.Engine PRAGMA main.table_info(\"Boreholes\")\n",
      "2020-12-18 14:26:22,030 INFO sqlalchemy.engine.base.Engine ()\n",
      "2020-12-18 14:26:22,031 INFO sqlalchemy.engine.base.Engine PRAGMA temp.table_info(\"Boreholes\")\n",
      "2020-12-18 14:26:22,032 INFO sqlalchemy.engine.base.Engine ()\n",
      "2020-12-18 14:26:22,033 INFO sqlalchemy.engine.base.Engine PRAGMA main.table_info(\"Positions\")\n",
      "2020-12-18 14:26:22,034 INFO sqlalchemy.engine.base.Engine ()\n",
      "2020-12-18 14:26:22,036 INFO sqlalchemy.engine.base.Engine PRAGMA temp.table_info(\"Positions\")\n",
      "2020-12-18 14:26:22,037 INFO sqlalchemy.engine.base.Engine ()\n",
      "2020-12-18 14:26:22,038 INFO sqlalchemy.engine.base.Engine PRAGMA main.table_info(\"Intervals\")\n",
      "2020-12-18 14:26:22,039 INFO sqlalchemy.engine.base.Engine ()\n",
      "2020-12-18 14:26:22,040 INFO sqlalchemy.engine.base.Engine PRAGMA temp.table_info(\"Intervals\")\n",
      "2020-12-18 14:26:22,041 INFO sqlalchemy.engine.base.Engine ()\n",
      "2020-12-18 14:26:22,041 INFO sqlalchemy.engine.base.Engine PRAGMA main.table_info(\"Components\")\n",
      "2020-12-18 14:26:22,042 INFO sqlalchemy.engine.base.Engine ()\n",
      "2020-12-18 14:26:22,042 INFO sqlalchemy.engine.base.Engine PRAGMA temp.table_info(\"Components\")\n",
      "2020-12-18 14:26:22,043 INFO sqlalchemy.engine.base.Engine ()\n",
      "2020-12-18 14:26:22,044 INFO sqlalchemy.engine.base.Engine PRAGMA main.table_info(\"Linkintervalcomponent\")\n",
      "2020-12-18 14:26:22,045 INFO sqlalchemy.engine.base.Engine ()\n",
      "2020-12-18 14:26:22,045 INFO sqlalchemy.engine.base.Engine PRAGMA temp.table_info(\"Linkintervalcomponent\")\n",
      "2020-12-18 14:26:22,046 INFO sqlalchemy.engine.base.Engine ()\n",
      "2020-12-18 14:26:22,047 INFO sqlalchemy.engine.base.Engine \n",
      "CREATE TABLE \"Boreholes\" (\n",
      "\tid VARCHAR(32) NOT NULL, \n",
      "\tPRIMARY KEY (id)\n",
      ")\n",
      "\n",
      "\n",
      "2020-12-18 14:26:22,048 INFO sqlalchemy.engine.base.Engine ()\n",
      "2020-12-18 14:26:22,051 INFO sqlalchemy.engine.base.Engine COMMIT\n",
      "2020-12-18 14:26:22,053 INFO sqlalchemy.engine.base.Engine \n",
      "CREATE TABLE \"Positions\" (\n",
      "\tid INTEGER NOT NULL, \n",
      "\tupper FLOAT, \n",
      "\tmiddle FLOAT, \n",
      "\tlower FLOAT, \n",
      "\tPRIMARY KEY (id)\n",
      ")\n",
      "\n",
      "\n",
      "2020-12-18 14:26:22,053 INFO sqlalchemy.engine.base.Engine ()\n",
      "2020-12-18 14:26:22,058 INFO sqlalchemy.engine.base.Engine COMMIT\n",
      "2020-12-18 14:26:22,059 INFO sqlalchemy.engine.base.Engine \n",
      "CREATE TABLE \"Components\" (\n",
      "\tid VARCHAR(32) NOT NULL, \n",
      "\tdescription VARCHAR(32), \n",
      "\tPRIMARY KEY (id)\n",
      ")\n",
      "\n",
      "\n",
      "2020-12-18 14:26:22,059 INFO sqlalchemy.engine.base.Engine ()\n",
      "2020-12-18 14:26:22,062 INFO sqlalchemy.engine.base.Engine COMMIT\n",
      "2020-12-18 14:26:22,063 INFO sqlalchemy.engine.base.Engine \n",
      "CREATE TABLE \"Intervals\" (\n",
      "\tid INTEGER NOT NULL, \n",
      "\tborehole VARCHAR(32), \n",
      "\tinterval_number INTEGER, \n",
      "\tdescription VARCHAR(32), \n",
      "\ttop_id INTEGER, \n",
      "\tbase_id INTEGER, \n",
      "\tPRIMARY KEY (id), \n",
      "\tFOREIGN KEY(borehole) REFERENCES \"Boreholes\" (id), \n",
      "\tFOREIGN KEY(top_id) REFERENCES \"Positions\" (id), \n",
      "\tFOREIGN KEY(base_id) REFERENCES \"Positions\" (id)\n",
      ")\n",
      "\n",
      "\n",
      "2020-12-18 14:26:22,064 INFO sqlalchemy.engine.base.Engine ()\n",
      "2020-12-18 14:26:22,069 INFO sqlalchemy.engine.base.Engine COMMIT\n",
      "2020-12-18 14:26:22,072 INFO sqlalchemy.engine.base.Engine \n",
      "CREATE TABLE \"Linkintervalcomponent\" (\n",
      "\tint_id INTEGER NOT NULL, \n",
      "\tcomp_id INTEGER NOT NULL, \n",
      "\tPRIMARY KEY (int_id, comp_id), \n",
      "\tFOREIGN KEY(int_id) REFERENCES \"Intervals\" (id), \n",
      "\tFOREIGN KEY(comp_id) REFERENCES \"Components\" (id)\n",
      ")\n",
      "\n",
      "\n",
      "2020-12-18 14:26:22,073 INFO sqlalchemy.engine.base.Engine ()\n",
      "2020-12-18 14:26:22,077 INFO sqlalchemy.engine.base.Engine COMMIT\n"
     ]
    }
   ],
   "source": [
    "Base.metadata.create_all(engine)"
   ]
  },
  {
   "cell_type": "code",
   "execution_count": 6,
   "metadata": {},
   "outputs": [],
   "source": [
    "from contextlib import contextmanager\n",
    "\n",
    "Session = sessionmaker(bind=engine)\n",
    "\n",
    "@contextmanager\n",
    "def session_scope():\n",
    "    \"\"\"Provide a transactional scope around a series of operations.\"\"\"\n",
    "    session = Session()\n",
    "    try:\n",
    "        yield session\n",
    "        session.commit()\n",
    "    except:\n",
    "        session.rollback()\n",
    "        raise\n",
    "    finally:\n",
    "        session.close()"
   ]
  },
  {
   "cell_type": "code",
   "execution_count": 7,
   "metadata": {},
   "outputs": [],
   "source": [
    "Session = sessionmaker(bind=engine)\n",
    "session = Session()"
   ]
  },
  {
   "cell_type": "code",
   "execution_count": 8,
   "metadata": {},
   "outputs": [],
   "source": [
    "from striplog import Lexicon, Striplog"
   ]
  },
  {
   "cell_type": "code",
   "execution_count": 9,
   "metadata": {},
   "outputs": [],
   "source": [
    "lexicon = Lexicon.default()"
   ]
  },
  {
   "cell_type": "code",
   "execution_count": 10,
   "metadata": {},
   "outputs": [],
   "source": [
    "borehole_dict = {'F01':'test.las', 'F02':'test.las'} # boreholes to insert into the db"
   ]
  },
  {
   "cell_type": "code",
   "execution_count": 11,
   "metadata": {},
   "outputs": [
    {
     "name": "stdout",
     "output_type": "stream",
     "text": [
      "{0: {'description': 'Anhydrite', 'interval_number': 0, 'top': <__main__.Position object at 0x7fb6cd3534a8>, 'base': <__main__.Position object at 0x7fb6cd353240>}, 1: {'description': 'Sandstone, grey, vf-f', 'interval_number': 1, 'top': <__main__.Position object at 0x7fb6cd353278>, 'base': <__main__.Position object at 0x7fb6cd353d30>}, 2: {'description': 'Anhydrite', 'interval_number': 2, 'top': <__main__.Position object at 0x7fb6cd353ac8>, 'base': <__main__.Position object at 0x7fb6cd353630>}, 3: {'description': 'Dolomite', 'interval_number': 3, 'top': <__main__.Position object at 0x7fb6cd353780>, 'base': <__main__.Position object at 0x7fb6cd353978>}, 4: {'description': 'Anhydrite', 'interval_number': 4, 'top': <__main__.Position object at 0x7fb6cd3539e8>, 'base': <__main__.Position object at 0x7fb6cd353a90>}, 5: {'description': 'Sandstone, grey, vf-f', 'interval_number': 5, 'top': <__main__.Position object at 0x7fb6cd353be0>, 'base': <__main__.Position object at 0x7fb6cd353a20>}, 6: {'description': 'Siltstone, red', 'interval_number': 6, 'top': <__main__.Position object at 0x7fb6cd3539b0>, 'base': <__main__.Position object at 0x7fb6cd353c88>}, 7: {'description': 'Dolomite', 'interval_number': 7, 'top': <__main__.Position object at 0x7fb6cd353518>, 'base': <__main__.Position object at 0x7fb6cd353b00>}, 8: {'description': 'Siltstone, grey', 'interval_number': 8, 'top': <__main__.Position object at 0x7fb6cd353dd8>, 'base': <__main__.Position object at 0x7fb6cd353e10>}, 9: {'description': 'Dolomite', 'interval_number': 9, 'top': <__main__.Position object at 0x7fb6cd353cf8>, 'base': <__main__.Position object at 0x7fb6cd353cc0>}, 10: {'description': 'Sandstone, grey, vf-f', 'interval_number': 10, 'top': <__main__.Position object at 0x7fb6cd353400>, 'base': <__main__.Position object at 0x7fb6cd353fd0>}, 11: {'description': 'Dolomite', 'interval_number': 11, 'top': <__main__.Position object at 0x7fb6cd353f60>, 'base': <__main__.Position object at 0x7fb6cd353320>}, 12: {'description': 'Sandstone, grey, vf-f', 'interval_number': 12, 'top': <__main__.Position object at 0x7fb6cd353438>, 'base': <__main__.Position object at 0x7fb6cd3532e8>}, 13: {'description': 'Siltstone, grey', 'interval_number': 13, 'top': <__main__.Position object at 0x7fb6cd35fc18>, 'base': <__main__.Position object at 0x7fb6cd35fe48>}, 14: {'description': 'Dolomite', 'interval_number': 14, 'top': <__main__.Position object at 0x7fb6cd35f160>, 'base': <__main__.Position object at 0x7fb6cd35f2e8>}, 15: {'description': 'Siltstone, grey', 'interval_number': 15, 'top': <__main__.Position object at 0x7fb6cd35f208>, 'base': <__main__.Position object at 0x7fb6cd35f1d0>}, 16: {'description': 'Dolomite', 'interval_number': 16, 'top': <__main__.Position object at 0x7fb6cd35f320>, 'base': <__main__.Position object at 0x7fb6cd35f0b8>}, 17: {'description': 'Siltstone, grey', 'interval_number': 17, 'top': <__main__.Position object at 0x7fb6cd35f278>, 'base': <__main__.Position object at 0x7fb6cd35f518>}, 18: {'description': 'Dolomite', 'interval_number': 18, 'top': <__main__.Position object at 0x7fb6cd35f550>, 'base': <__main__.Position object at 0x7fb6cd35f3c8>}, 19: {'description': 'Siltstone, grey', 'interval_number': 19, 'top': <__main__.Position object at 0x7fb6cd35f4e0>, 'base': <__main__.Position object at 0x7fb6cd35f710>}, 20: {'description': 'Dolomite', 'interval_number': 20, 'top': <__main__.Position object at 0x7fb6cd35f748>, 'base': <__main__.Position object at 0x7fb6cd35f5c0>}, 21: {'description': 'Siltstone, grey', 'interval_number': 21, 'top': <__main__.Position object at 0x7fb6cd35f6d8>, 'base': <__main__.Position object at 0x7fb6cd35f908>}, 22: {'description': 'Dolomite', 'interval_number': 22, 'top': <__main__.Position object at 0x7fb6cd35f940>, 'base': <__main__.Position object at 0x7fb6cd35f7b8>}, 23: {'description': 'Limestone', 'interval_number': 23, 'top': <__main__.Position object at 0x7fb6cd35f8d0>, 'base': <__main__.Position object at 0x7fb6cd35fb00>}, 24: {'description': 'Volcanic', 'interval_number': 24, 'top': <__main__.Position object at 0x7fb6cd35fb38>, 'base': <__main__.Position object at 0x7fb6cd35f9b0>}}\n",
      "{25: {'description': 'Anhydrite', 'interval_number': 0, 'top': <__main__.Position object at 0x7fb6cd364390>, 'base': <__main__.Position object at 0x7fb6cd3640f0>}, 26: {'description': 'Sandstone, grey, vf-f', 'interval_number': 1, 'top': <__main__.Position object at 0x7fb6cd3641d0>, 'base': <__main__.Position object at 0x7fb6cd364470>}, 27: {'description': 'Anhydrite', 'interval_number': 2, 'top': <__main__.Position object at 0x7fb6cd364550>, 'base': <__main__.Position object at 0x7fb6cd364630>}, 28: {'description': 'Dolomite', 'interval_number': 3, 'top': <__main__.Position object at 0x7fb6cd364710>, 'base': <__main__.Position object at 0x7fb6cd3647f0>}, 29: {'description': 'Anhydrite', 'interval_number': 4, 'top': <__main__.Position object at 0x7fb6cd3648d0>, 'base': <__main__.Position object at 0x7fb6cd364940>}, 30: {'description': 'Sandstone, grey, vf-f', 'interval_number': 5, 'top': <__main__.Position object at 0x7fb6cd364c18>, 'base': <__main__.Position object at 0x7fb6cd364b00>}, 31: {'description': 'Siltstone, red', 'interval_number': 6, 'top': <__main__.Position object at 0x7fb6cd364d30>, 'base': <__main__.Position object at 0x7fb6cd364e10>}, 32: {'description': 'Dolomite', 'interval_number': 7, 'top': <__main__.Position object at 0x7fb6cd364ef0>, 'base': <__main__.Position object at 0x7fb6cd364fd0>}, 33: {'description': 'Siltstone, grey', 'interval_number': 8, 'top': <__main__.Position object at 0x7fb6cd36a0f0>, 'base': <__main__.Position object at 0x7fb6cd36a1d0>}, 34: {'description': 'Dolomite', 'interval_number': 9, 'top': <__main__.Position object at 0x7fb6cd36a2b0>, 'base': <__main__.Position object at 0x7fb6cd36a390>}, 35: {'description': 'Sandstone, grey, vf-f', 'interval_number': 10, 'top': <__main__.Position object at 0x7fb6cd36a470>, 'base': <__main__.Position object at 0x7fb6cd36a550>}, 36: {'description': 'Dolomite', 'interval_number': 11, 'top': <__main__.Position object at 0x7fb6cd36a630>, 'base': <__main__.Position object at 0x7fb6cd36a710>}, 37: {'description': 'Sandstone, grey, vf-f', 'interval_number': 12, 'top': <__main__.Position object at 0x7fb6cd36a7f0>, 'base': <__main__.Position object at 0x7fb6cd36a8d0>}, 38: {'description': 'Siltstone, grey', 'interval_number': 13, 'top': <__main__.Position object at 0x7fb6cd36a9b0>, 'base': <__main__.Position object at 0x7fb6cd36aa90>}, 39: {'description': 'Dolomite', 'interval_number': 14, 'top': <__main__.Position object at 0x7fb6cd36ab70>, 'base': <__main__.Position object at 0x7fb6cd36ac50>}, 40: {'description': 'Siltstone, grey', 'interval_number': 15, 'top': <__main__.Position object at 0x7fb6cd36ad30>, 'base': <__main__.Position object at 0x7fb6cd36ae10>}, 41: {'description': 'Dolomite', 'interval_number': 16, 'top': <__main__.Position object at 0x7fb6cd36aef0>, 'base': <__main__.Position object at 0x7fb6cd36afd0>}, 42: {'description': 'Siltstone, grey', 'interval_number': 17, 'top': <__main__.Position object at 0x7fb6cd35fef0>, 'base': <__main__.Position object at 0x7fb6cd35ffd0>}, 43: {'description': 'Dolomite', 'interval_number': 18, 'top': <__main__.Position object at 0x7fb6cd35f358>, 'base': <__main__.Position object at 0x7fb6cd35f470>}, 44: {'description': 'Siltstone, grey', 'interval_number': 19, 'top': <__main__.Position object at 0x7fb6cd35f860>, 'base': <__main__.Position object at 0x7fb6cd35fc50>}, 45: {'description': 'Dolomite', 'interval_number': 20, 'top': <__main__.Position object at 0x7fb6cd36ea58>, 'base': <__main__.Position object at 0x7fb6cd36e940>}, 46: {'description': 'Siltstone, grey', 'interval_number': 21, 'top': <__main__.Position object at 0x7fb6cd36e0f0>, 'base': <__main__.Position object at 0x7fb6cd36e1d0>}, 47: {'description': 'Dolomite', 'interval_number': 22, 'top': <__main__.Position object at 0x7fb6cd36e2b0>, 'base': <__main__.Position object at 0x7fb6cd36e390>}, 48: {'description': 'Limestone', 'interval_number': 23, 'top': <__main__.Position object at 0x7fb6cd36e470>, 'base': <__main__.Position object at 0x7fb6cd36e550>}, 49: {'description': 'Volcanic', 'interval_number': 24, 'top': <__main__.Position object at 0x7fb6cd36e630>, 'base': <__main__.Position object at 0x7fb6cd36e710>}}\n"
     ]
    }
   ],
   "source": [
    "int_id = 0\n",
    "bh_id = 0\n",
    "pos_id = 0\n",
    "boreholes = []\n",
    "components = []\n",
    "comp_id = 0\n",
    "component_dict={}\n",
    "pos_dict = {}\n",
    "for bh, filename in borehole_dict.items():\n",
    "    interval_number = 0\n",
    "    boreholes.append(Borehole(id=bh))\n",
    "    with open(filename, 'r') as las3:\n",
    "        strip = Striplog.from_las3(las3.read(), lexicon)\n",
    "    for c in strip.components:\n",
    "        if c not in component_dict.keys():\n",
    "            component_dict.update({c:comp_id})\n",
    "            comp_id += 1\n",
    "    d ={}\n",
    "    for interval in strip:\n",
    "        top = Position(id=pos_id, upper=interval.top.upper, middle=interval.top.middle,  lower=interval.top.lower)\n",
    "        base = Position(id=pos_id+1, upper=interval.base.upper, middle=interval.base.middle,  lower=interval.base.lower)\n",
    "        d.update({int_id:{'description':interval.description, 'interval_number' : interval_number, \n",
    "                          'top': top, 'base': base\n",
    "                         }})\n",
    "        interval_number+=1\n",
    "        int_id += 1\n",
    "        pos_id += 2\n",
    "\n",
    "    print(d)\n",
    "    boreholes[bh_id].intervals_values = d\n",
    "    #boreholes[bh_id].components_values = c\n",
    "    bh_id += 1 \n",
    "components = {v:k for k,v in component_dict.items()}"
   ]
  },
  {
   "cell_type": "code",
   "execution_count": 12,
   "metadata": {},
   "outputs": [
    {
     "data": {
      "text/html": [
       "<table><tr><td><strong>upper</strong></td><td>51.24117647058824</td></tr><tr><td><strong>middle</strong></td><td>51.24117647058824</td></tr><tr><td><strong>lower</strong></td><td>51.24117647058824</td></tr></table>"
      ],
      "text/plain": [
       "Position({'middle': 51.24117647058824, 'units': 'm'})"
      ]
     },
     "execution_count": 12,
     "metadata": {},
     "output_type": "execute_result"
    }
   ],
   "source": [
    "strip[0].base"
   ]
  },
  {
   "cell_type": "raw",
   "metadata": {},
   "source": [
    "intv = boreholes[0].intervals[0]"
   ]
  },
  {
   "cell_type": "raw",
   "metadata": {},
   "source": [
    "top = Position(id=0, middle = 10.0)"
   ]
  },
  {
   "cell_type": "raw",
   "metadata": {},
   "source": [
    "top.id"
   ]
  },
  {
   "cell_type": "raw",
   "metadata": {},
   "source": [
    "top.middle"
   ]
  },
  {
   "cell_type": "raw",
   "metadata": {},
   "source": [
    "intv.base = top"
   ]
  },
  {
   "cell_type": "raw",
   "metadata": {},
   "source": [
    "intv.top = top"
   ]
  },
  {
   "cell_type": "raw",
   "metadata": {},
   "source": [
    "intv.top"
   ]
  },
  {
   "cell_type": "raw",
   "metadata": {},
   "source": [
    "boreholes = [Borehole(id='test')] "
   ]
  },
  {
   "cell_type": "raw",
   "metadata": {},
   "source": [
    "boreholes[0].intervals_values = {0: {'description':'stuff', 'interval_number':0}, 1: {'description':'junk', 'interval_number':1}}\n",
    "boreholes[1].intervals_values = {2: {'description':'foo', 'interval_number':0}, 3: {'description':'bar', 'interval_number':1}}"
   ]
  },
  {
   "cell_type": "raw",
   "metadata": {},
   "source": [
    "c1 = Component(**{'id':0, 'description':'red fined grained limestone'})\n",
    "c2 = Component(**{'id':1, 'description':'greyish sandstone'})\n",
    "boreholes[0].intervals[0].components.append(c1) # TODO: specifiy the primary component\n",
    "boreholes[0].intervals[0].components.append(c2)\n",
    "boreholes[0].intervals[1].components.append(c2)\n",
    "boreholes[1].intervals[2].components.append(c2)\n",
    "boreholes[1].intervals[3].components.append(c1)"
   ]
  },
  {
   "cell_type": "raw",
   "metadata": {},
   "source": [
    "boreholes[0].intervals"
   ]
  },
  {
   "cell_type": "code",
   "execution_count": 13,
   "metadata": {},
   "outputs": [
    {
     "name": "stdout",
     "output_type": "stream",
     "text": [
      "0 {'lithology': 'siltstone', 'colour': 'grey'}\n",
      "1 {'lithology': 'anhydrite'}\n",
      "2 {'lithology': 'sandstone', 'grainsize': 'vf-f', 'colour': 'grey'}\n",
      "3 {'lithology': 'dolomite'}\n",
      "4 {'lithology': 'siltstone', 'colour': 'red'}\n",
      "5 {'lithology': 'limestone'}\n"
     ]
    }
   ],
   "source": [
    "for id in components.keys():\n",
    "    print(id, components[id])"
   ]
  },
  {
   "cell_type": "code",
   "execution_count": 14,
   "metadata": {
    "scrolled": false
   },
   "outputs": [
    {
     "name": "stdout",
     "output_type": "stream",
     "text": [
      "2020-12-18 14:26:23,306 INFO sqlalchemy.engine.base.Engine BEGIN (implicit)\n",
      "2020-12-18 14:26:23,319 INFO sqlalchemy.engine.base.Engine INSERT INTO \"Positions\" (id, upper, middle, lower) VALUES (?, ?, ?, ?)\n",
      "2020-12-18 14:26:23,320 INFO sqlalchemy.engine.base.Engine ((0, 14.3, 14.3, 14.3), (1, 51.24117647058824, 51.24117647058824, 51.24117647058824), (2, 51.24117647058824, 51.24117647058824, 51.24117647058824), (3, 54.81764705882354, 54.81764705882354, 54.81764705882354), (4, 54.81764705882354, 54.81764705882354, 54.81764705882354), (5, 56.55882352941177, 56.55882352941177, 56.55882352941177), (6, 56.55882352941177, 56.55882352941177, 56.55882352941177), (7, 58.86470588235295, 58.86470588235295, 58.86470588235295)  ... displaying 10 of 100 total bound parameter sets ...  (98, 131.47647058823532, 131.47647058823532, 131.47647058823532), (99, 135.9, 135.9, 135.9))\n",
      "2020-12-18 14:26:23,326 INFO sqlalchemy.engine.base.Engine INSERT INTO \"Boreholes\" (id) VALUES (?)\n",
      "2020-12-18 14:26:23,327 INFO sqlalchemy.engine.base.Engine (('F01',), ('F02',))\n",
      "2020-12-18 14:26:23,340 INFO sqlalchemy.engine.base.Engine INSERT INTO \"Intervals\" (id, borehole, interval_number, description, top_id, base_id) VALUES (?, ?, ?, ?, ?, ?)\n",
      "2020-12-18 14:26:23,341 INFO sqlalchemy.engine.base.Engine ((0, 'F01', 0, 'Anhydrite', 0, 1), (1, 'F01', 1, 'Sandstone, grey, vf-f', 2, 3), (2, 'F01', 2, 'Anhydrite', 4, 5), (3, 'F01', 3, 'Dolomite', 6, 7), (4, 'F01', 4, 'Anhydrite', 8, 9), (5, 'F01', 5, 'Sandstone, grey, vf-f', 10, 11), (6, 'F01', 6, 'Siltstone, red', 12, 13), (7, 'F01', 7, 'Dolomite', 14, 15)  ... displaying 10 of 50 total bound parameter sets ...  (48, 'F02', 23, 'Limestone', 96, 97), (49, 'F02', 24, 'Volcanic', 98, 99))\n",
      "2020-12-18 14:26:23,347 INFO sqlalchemy.engine.base.Engine COMMIT\n",
      "2020-12-18 14:26:23,358 INFO sqlalchemy.engine.base.Engine BEGIN (implicit)\n",
      "2020-12-18 14:26:23,360 INFO sqlalchemy.engine.base.Engine INSERT INTO \"Components\" (id, description) VALUES (?, ?)\n",
      "2020-12-18 14:26:23,361 INFO sqlalchemy.engine.base.Engine ((0, 'Siltstone, grey'), (1, 'Anhydrite'), (2, 'Sandstone, vf-f, grey'), (3, 'Dolomite'), (4, 'Siltstone, red'), (5, 'Limestone'))\n",
      "2020-12-18 14:26:23,363 INFO sqlalchemy.engine.base.Engine COMMIT\n"
     ]
    }
   ],
   "source": [
    "#with session_scope() as session:\n",
    "#    for pos in pos_dict.values():\n",
    "        \n",
    "#        session.add(pos)\n",
    "\n",
    "with session_scope() as session:\n",
    "    for bh in boreholes:\n",
    "        session.add(bh)\n",
    "        #for iv in bh.intervals:\n",
    "        #    print(bh.intervals[iv].components[0])\n",
    "        \n",
    "with session_scope() as session:\n",
    "    for id in components.keys():\n",
    "        new_compo = Component(id=id, description=components[id].summary()) \n",
    "        session.add(new_compo)"
   ]
  },
  {
   "cell_type": "code",
   "execution_count": null,
   "metadata": {},
   "outputs": [],
   "source": []
  }
 ],
 "metadata": {
  "kernelspec": {
   "display_name": "Python 3",
   "language": "python",
   "name": "python3"
  },
  "language_info": {
   "codemirror_mode": {
    "name": "ipython",
    "version": 3
   },
   "file_extension": ".py",
   "mimetype": "text/x-python",
   "name": "python",
   "nbconvert_exporter": "python",
   "pygments_lexer": "ipython3",
   "version": "3.6.9"
  }
 },
 "nbformat": 4,
 "nbformat_minor": 4
}

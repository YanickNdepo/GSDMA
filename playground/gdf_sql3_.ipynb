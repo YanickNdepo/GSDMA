{
 "cells": [
  {
   "cell_type": "markdown",
   "metadata": {},
   "source": [
    "## Notebook to display boreholes on a map and to create the gpkg database from an existing sql3database and shapefile data"
   ]
  },
  {
   "cell_type": "markdown",
   "metadata": {},
   "source": [
    "### Copy tables of a SQL3 database to another database"
   ]
  },
  {
   "cell_type": "code",
   "execution_count": 1,
   "metadata": {},
   "outputs": [],
   "source": [
    "import geopandas as gpd\n",
    "import pandas as pd\n",
    "import folium\n",
    "import sqlite3"
   ]
  },
  {
   "cell_type": "code",
   "execution_count": 2,
   "metadata": {},
   "outputs": [],
   "source": [
    "def db_copy_sqlite3_tables(db_in, db_out, tables):\n",
    "    \"\"\"\n",
    "    Copy tables from one database to another\n",
    "    :param db_in: full filename of the origin of tables \n",
    "    :type db_in: string\n",
    "    :param db_out: full filename of the destination of tables\n",
    "    :type db_out: string\n",
    "    :param tables: list of tables to copy\n",
    "    :type tables: list\n",
    "    :return: status, 0: OK, 1: failure\n",
    "    :rtype: int\n",
    "    \"\"\"\n",
    "    import sqlite3\n",
    "    import pandas as pd\n",
    "    \n",
    "    status = 0\n",
    "    try:\n",
    "        conn_in = sqlite3.connect(db_in)\n",
    "        conn_out = sqlite3.connect(db_out)\n",
    "        for i in tables:\n",
    "            df = pd.read_sql_query(\"SELECT * from {table:s}\".format(table=i), conn_in)\n",
    "            df.to_sql(\"{table:s}\".format(table=i),conn_out, if_exists='replace', index = False)\n",
    "        conn_in.close()\n",
    "        conn_out.close()\n",
    "    except Exception as e:\n",
    "        print('Error copying tables:\\n {error:s}'.format(error=e))\n",
    "        status = 1\n",
    "    return status    "
   ]
  },
  {
   "cell_type": "markdown",
   "metadata": {},
   "source": [
    "### Access SQlite"
   ]
  },
  {
   "cell_type": "code",
   "execution_count": 3,
   "metadata": {},
   "outputs": [],
   "source": [
    "conn = sqlite3.connect('../project_database.db')\n",
    "conn\n",
    "cursor = conn.cursor()"
   ]
  },
  {
   "cell_type": "markdown",
   "metadata": {},
   "source": [
    "### List of tables"
   ]
  },
  {
   "cell_type": "code",
   "execution_count": 4,
   "metadata": {},
   "outputs": [
    {
     "name": "stdout",
     "output_type": "stream",
     "text": [
      "('Boreholes',)\n",
      "('Intervals',)\n",
      "('Components',)\n",
      "('Lexicon',)\n"
     ]
    }
   ],
   "source": [
    "tables = []\n",
    "for table in cursor.execute(\"SELECT name FROM sqlite_master WHERE type='table';\"):\n",
    "    print(table)\n",
    "    tables.append(table)"
   ]
  },
  {
   "cell_type": "code",
   "execution_count": 5,
   "metadata": {},
   "outputs": [],
   "source": [
    "list_tables = ['Components', 'Intervals', 'Boreholes','Lexicon']"
   ]
  },
  {
   "cell_type": "code",
   "execution_count": null,
   "metadata": {},
   "outputs": [],
   "source": []
  },
  {
   "cell_type": "code",
   "execution_count": null,
   "metadata": {},
   "outputs": [],
   "source": []
  },
  {
   "cell_type": "markdown",
   "metadata": {},
   "source": [
    "## Create GeoDataFrame from shp "
   ]
  },
  {
   "cell_type": "markdown",
   "metadata": {},
   "source": [
    "Read shp file (as a geodataframe)"
   ]
  },
  {
   "cell_type": "code",
   "execution_count": 6,
   "metadata": {},
   "outputs": [],
   "source": [
    "dat_shp = gpd.read_file(\"../playground/pilote/pilote/Pilote_v7.0.shp\")"
   ]
  },
  {
   "cell_type": "markdown",
   "metadata": {},
   "source": [
    "Read GPKG as a GeoDataFrame"
   ]
  },
  {
   "cell_type": "markdown",
   "metadata": {},
   "source": [
    "Write a geojson from gdf"
   ]
  },
  {
   "cell_type": "code",
   "execution_count": 16,
   "metadata": {},
   "outputs": [],
   "source": [
    "#data_from_gpkg.to_file(\"data.geojson\", driver='GeoJSON')"
   ]
  },
  {
   "cell_type": "markdown",
   "metadata": {},
   "source": [
    "## CRS"
   ]
  },
  {
   "cell_type": "markdown",
   "metadata": {},
   "source": [
    "EPSG 31370 (Lambert 72)"
   ]
  },
  {
   "cell_type": "code",
   "execution_count": 7,
   "metadata": {},
   "outputs": [],
   "source": [
    "dat_84 = dat_shp.to_crs(epsg=4326)"
   ]
  },
  {
   "cell_type": "markdown",
   "metadata": {},
   "source": [
    "### Create GPKG from gdf"
   ]
  },
  {
   "cell_type": "code",
   "execution_count": 8,
   "metadata": {},
   "outputs": [],
   "source": [
    "dat_84.to_file(\"dat.gpkg\", driver=\"GPKG\")"
   ]
  },
  {
   "cell_type": "markdown",
   "metadata": {},
   "source": [
    "### Copy Tables"
   ]
  },
  {
   "cell_type": "code",
   "execution_count": 9,
   "metadata": {},
   "outputs": [
    {
     "data": {
      "text/plain": [
       "0"
      ]
     },
     "execution_count": 9,
     "metadata": {},
     "output_type": "execute_result"
    }
   ],
   "source": [
    "db_copy_sqlite3_tables('project_database.db','dat.gpkg',list_tables)"
   ]
  },
  {
   "cell_type": "markdown",
   "metadata": {},
   "source": [
    "## Folium "
   ]
  },
  {
   "cell_type": "code",
   "execution_count": 10,
   "metadata": {},
   "outputs": [],
   "source": [
    "dat_gdf = gpd.read_file(\"dat.gpkg\")"
   ]
  },
  {
   "cell_type": "code",
   "execution_count": 11,
   "metadata": {},
   "outputs": [],
   "source": [
    "dat_84.to_file(\"output.json\", driver=\"GeoJSON\")"
   ]
  },
  {
   "cell_type": "code",
   "execution_count": 12,
   "metadata": {},
   "outputs": [
    {
     "data": {
      "text/html": [
       "<div style=\"width:100%;\"><div style=\"position:relative;width:100%;height:0;padding-bottom:60%;\"><span style=\"color:#565656\">Make this Notebook Trusted to load map: File -> Trust Notebook</span><iframe src=\"about:blank\" style=\"position:absolute;width:100%;height:100%;left:0;top:0;border:none !important;\" data-html=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 onload=\"this.contentDocument.open();this.contentDocument.write(atob(this.getAttribute('data-html')));this.contentDocument.close();\" allowfullscreen webkitallowfullscreen mozallowfullscreen></iframe></div></div>"
      ],
      "text/plain": [
       "<folium.folium.Map at 0x7f027262ffd0>"
      ]
     },
     "execution_count": 12,
     "metadata": {},
     "output_type": "execute_result"
    }
   ],
   "source": [
    "ice_map = folium.Map(location=[50.455, 3.94],\n",
    "                    zoom_start=10)\n",
    "folium.GeoJson(\n",
    "    'output.json').add_to(ice_map)\n",
    "ice_map"
   ]
  },
  {
   "cell_type": "markdown",
   "metadata": {},
   "source": [
    "save in a file"
   ]
  },
  {
   "cell_type": "code",
   "execution_count": 13,
   "metadata": {},
   "outputs": [],
   "source": [
    "ice_map.save('index.html')"
   ]
  },
  {
   "cell_type": "markdown",
   "metadata": {},
   "source": [
    "### Add an Id column with the good identifyer"
   ]
  },
  {
   "cell_type": "code",
   "execution_count": 14,
   "metadata": {},
   "outputs": [
    {
     "ename": "NameError",
     "evalue": "name 'data_from_gpkg' is not defined",
     "output_type": "error",
     "traceback": [
      "\u001b[0;31m---------------------------------------------------------------------------\u001b[0m",
      "\u001b[0;31mNameError\u001b[0m                                 Traceback (most recent call last)",
      "\u001b[0;32m<ipython-input-14-a8593edeb9ef>\u001b[0m in \u001b[0;36m<module>\u001b[0;34m\u001b[0m\n\u001b[0;32m----> 1\u001b[0;31m \u001b[0mdat_gdf\u001b[0m\u001b[0;34m[\u001b[0m\u001b[0;34m'id'\u001b[0m\u001b[0;34m]\u001b[0m \u001b[0;34m=\u001b[0m \u001b[0;34m'F'\u001b[0m\u001b[0;34m+\u001b[0m\u001b[0mdata_from_gpkg\u001b[0m\u001b[0;34m[\u001b[0m\u001b[0;34m'Ref'\u001b[0m\u001b[0;34m]\u001b[0m\u001b[0;34m\u001b[0m\u001b[0;34m\u001b[0m\u001b[0m\n\u001b[0m",
      "\u001b[0;31mNameError\u001b[0m: name 'data_from_gpkg' is not defined"
     ]
    }
   ],
   "source": [
    "dat_gdf['id'] = 'F'+data_from_gpkg['Ref']"
   ]
  }
 ],
 "metadata": {
  "kernelspec": {
   "display_name": "Python 3",
   "language": "python",
   "name": "python3"
  },
  "language_info": {
   "codemirror_mode": {
    "name": "ipython",
    "version": 3
   },
   "file_extension": ".py",
   "mimetype": "text/x-python",
   "name": "python",
   "nbconvert_exporter": "python",
   "pygments_lexer": "ipython3",
   "version": "3.6.9"
  }
 },
 "nbformat": 4,
 "nbformat_minor": 2
}

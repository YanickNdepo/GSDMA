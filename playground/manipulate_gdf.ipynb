{
 "cells": [
  {
   "cell_type": "markdown",
   "metadata": {},
   "source": [
    "### Create gpkg from shp "
   ]
  },
  {
   "cell_type": "code",
   "execution_count": 4,
   "metadata": {},
   "outputs": [],
   "source": [
    "import geopandas as gpd\n",
    "import pandas as pd"
   ]
  },
  {
   "cell_type": "code",
   "execution_count": 5,
   "metadata": {},
   "outputs": [],
   "source": [
    "data_shp = gpd.read_file(\"/home/gfa/GSDMA2019/playground/pilote/pilote/Pilote_v7.0.shp\")"
   ]
  },
  {
   "cell_type": "code",
   "execution_count": 6,
   "metadata": {},
   "outputs": [],
   "source": [
    "data_shp.to_file(\"data.gpkg\", driver=\"GPKG\")"
   ]
  },
  {
   "cell_type": "code",
   "execution_count": 7,
   "metadata": {},
   "outputs": [],
   "source": [
    "data_from_gpkg = gpd.read_file(\"/home/gfa/GSDMA2019/playground/pilote/data.gpkg\")"
   ]
  },
  {
   "cell_type": "markdown",
   "metadata": {},
   "source": [
    "data_from_gpkg is a geodataframe "
   ]
  },
  {
   "cell_type": "code",
   "execution_count": 9,
   "metadata": {},
   "outputs": [
    {
     "data": {
      "text/plain": [
       "geopandas.geodataframe.GeoDataFrame"
      ]
     },
     "execution_count": 9,
     "metadata": {},
     "output_type": "execute_result"
    }
   ],
   "source": [
    "type(data_from_gpkg)"
   ]
  },
  {
   "cell_type": "code",
   "execution_count": 6,
   "metadata": {},
   "outputs": [],
   "source": [
    "? gpd.geodataframe"
   ]
  },
  {
   "cell_type": "markdown",
   "metadata": {},
   "source": [
    "## Write to geojson"
   ]
  },
  {
   "cell_type": "code",
   "execution_count": 11,
   "metadata": {},
   "outputs": [],
   "source": [
    "data_from_gpkg.to_file(\"data.geojson\", driver='GeoJSON')"
   ]
  },
  {
   "cell_type": "markdown",
   "metadata": {},
   "source": [
    "### Inspecting data"
   ]
  },
  {
   "cell_type": "code",
   "execution_count": 55,
   "metadata": {},
   "outputs": [
    {
     "data": {
      "text/html": [
       "<div>\n",
       "<style scoped>\n",
       "    .dataframe tbody tr th:only-of-type {\n",
       "        vertical-align: middle;\n",
       "    }\n",
       "\n",
       "    .dataframe tbody tr th {\n",
       "        vertical-align: top;\n",
       "    }\n",
       "\n",
       "    .dataframe thead th {\n",
       "        text-align: right;\n",
       "    }\n",
       "</style>\n",
       "<table border=\"1\" class=\"dataframe\">\n",
       "  <thead>\n",
       "    <tr style=\"text-align: right;\">\n",
       "      <th></th>\n",
       "      <th>Id</th>\n",
       "      <th>Type</th>\n",
       "      <th>Pilote</th>\n",
       "      <th>Ref</th>\n",
       "      <th>diam</th>\n",
       "      <th>Valid</th>\n",
       "      <th>Syscal</th>\n",
       "      <th>Impo</th>\n",
       "      <th>Inox</th>\n",
       "      <th>geometry</th>\n",
       "      <th>new_column</th>\n",
       "      <th>Boreholes</th>\n",
       "      <th>Intervals</th>\n",
       "      <th>Component</th>\n",
       "    </tr>\n",
       "  </thead>\n",
       "  <tbody>\n",
       "    <tr>\n",
       "      <th>0</th>\n",
       "      <td>0</td>\n",
       "      <td>1</td>\n",
       "      <td>1</td>\n",
       "      <td>111</td>\n",
       "      <td>2</td>\n",
       "      <td>1</td>\n",
       "      <td>1.0</td>\n",
       "      <td>0.0</td>\n",
       "      <td>1.0</td>\n",
       "      <td>POINT (152894.553 122591.406)</td>\n",
       "      <td>Senaatintori</td>\n",
       "      <td>1</td>\n",
       "      <td>None</td>\n",
       "      <td>None</td>\n",
       "    </tr>\n",
       "    <tr>\n",
       "      <th>1</th>\n",
       "      <td>0</td>\n",
       "      <td>1</td>\n",
       "      <td>1</td>\n",
       "      <td>120</td>\n",
       "      <td>2</td>\n",
       "      <td>1</td>\n",
       "      <td>1.0</td>\n",
       "      <td>0.0</td>\n",
       "      <td>1.0</td>\n",
       "      <td>POINT (152881.336 122588.077)</td>\n",
       "      <td>None</td>\n",
       "      <td>1</td>\n",
       "      <td>None</td>\n",
       "      <td>None</td>\n",
       "    </tr>\n",
       "    <tr>\n",
       "      <th>2</th>\n",
       "      <td>0</td>\n",
       "      <td>2</td>\n",
       "      <td>1</td>\n",
       "      <td>217</td>\n",
       "      <td>3</td>\n",
       "      <td>1</td>\n",
       "      <td>1.0</td>\n",
       "      <td>1.0</td>\n",
       "      <td>1.0</td>\n",
       "      <td>POINT (152885.774 122586.936)</td>\n",
       "      <td>None</td>\n",
       "      <td>1</td>\n",
       "      <td>None</td>\n",
       "      <td>None</td>\n",
       "    </tr>\n",
       "    <tr>\n",
       "      <th>3</th>\n",
       "      <td>0</td>\n",
       "      <td>1</td>\n",
       "      <td>1</td>\n",
       "      <td>116</td>\n",
       "      <td>2</td>\n",
       "      <td>1</td>\n",
       "      <td>1.0</td>\n",
       "      <td>0.0</td>\n",
       "      <td>1.0</td>\n",
       "      <td>POINT (152883.804 122589.782)</td>\n",
       "      <td>None</td>\n",
       "      <td>1</td>\n",
       "      <td>None</td>\n",
       "      <td>None</td>\n",
       "    </tr>\n",
       "    <tr>\n",
       "      <th>4</th>\n",
       "      <td>0</td>\n",
       "      <td>2</td>\n",
       "      <td>1</td>\n",
       "      <td>214</td>\n",
       "      <td>2</td>\n",
       "      <td>1</td>\n",
       "      <td>1.0</td>\n",
       "      <td>1.0</td>\n",
       "      <td>1.0</td>\n",
       "      <td>POINT (152888.242 122588.641)</td>\n",
       "      <td>None</td>\n",
       "      <td>1</td>\n",
       "      <td>None</td>\n",
       "      <td>None</td>\n",
       "    </tr>\n",
       "    <tr>\n",
       "      <th>...</th>\n",
       "      <td>...</td>\n",
       "      <td>...</td>\n",
       "      <td>...</td>\n",
       "      <td>...</td>\n",
       "      <td>...</td>\n",
       "      <td>...</td>\n",
       "      <td>...</td>\n",
       "      <td>...</td>\n",
       "      <td>...</td>\n",
       "      <td>...</td>\n",
       "      <td>...</td>\n",
       "      <td>...</td>\n",
       "      <td>...</td>\n",
       "      <td>...</td>\n",
       "    </tr>\n",
       "    <tr>\n",
       "      <th>80</th>\n",
       "      <td>0</td>\n",
       "      <td>5</td>\n",
       "      <td>0</td>\n",
       "      <td>31</td>\n",
       "      <td>0</td>\n",
       "      <td>0</td>\n",
       "      <td>0.0</td>\n",
       "      <td>NaN</td>\n",
       "      <td>NaN</td>\n",
       "      <td>POINT (152886.080 122578.566)</td>\n",
       "      <td>None</td>\n",
       "      <td>1</td>\n",
       "      <td>None</td>\n",
       "      <td>None</td>\n",
       "    </tr>\n",
       "    <tr>\n",
       "      <th>81</th>\n",
       "      <td>0</td>\n",
       "      <td>6</td>\n",
       "      <td>0</td>\n",
       "      <td>40</td>\n",
       "      <td>0</td>\n",
       "      <td>0</td>\n",
       "      <td>0.0</td>\n",
       "      <td>NaN</td>\n",
       "      <td>NaN</td>\n",
       "      <td>POINT (152883.640 122577.576)</td>\n",
       "      <td>None</td>\n",
       "      <td>1</td>\n",
       "      <td>None</td>\n",
       "      <td>None</td>\n",
       "    </tr>\n",
       "    <tr>\n",
       "      <th>82</th>\n",
       "      <td>0</td>\n",
       "      <td>6</td>\n",
       "      <td>0</td>\n",
       "      <td>41</td>\n",
       "      <td>0</td>\n",
       "      <td>0</td>\n",
       "      <td>0.0</td>\n",
       "      <td>NaN</td>\n",
       "      <td>NaN</td>\n",
       "      <td>POINT (152884.220 122576.706)</td>\n",
       "      <td>None</td>\n",
       "      <td>1</td>\n",
       "      <td>None</td>\n",
       "      <td>None</td>\n",
       "    </tr>\n",
       "    <tr>\n",
       "      <th>83</th>\n",
       "      <td>0</td>\n",
       "      <td>0</td>\n",
       "      <td>0</td>\n",
       "      <td>12</td>\n",
       "      <td>0</td>\n",
       "      <td>1</td>\n",
       "      <td>NaN</td>\n",
       "      <td>NaN</td>\n",
       "      <td>NaN</td>\n",
       "      <td>POINT (152888.640 122578.796)</td>\n",
       "      <td>None</td>\n",
       "      <td>1</td>\n",
       "      <td>None</td>\n",
       "      <td>None</td>\n",
       "    </tr>\n",
       "    <tr>\n",
       "      <th>84</th>\n",
       "      <td>0</td>\n",
       "      <td>0</td>\n",
       "      <td>0</td>\n",
       "      <td>14</td>\n",
       "      <td>0</td>\n",
       "      <td>0</td>\n",
       "      <td>NaN</td>\n",
       "      <td>NaN</td>\n",
       "      <td>NaN</td>\n",
       "      <td>POINT (152887.340 122581.006)</td>\n",
       "      <td>None</td>\n",
       "      <td>1</td>\n",
       "      <td>None</td>\n",
       "      <td>None</td>\n",
       "    </tr>\n",
       "  </tbody>\n",
       "</table>\n",
       "<p>85 rows × 14 columns</p>\n",
       "</div>"
      ],
      "text/plain": [
       "    Id  Type  Pilote  Ref  diam  Valid  Syscal  Impo  Inox  \\\n",
       "0    0     1       1  111     2      1     1.0   0.0   1.0   \n",
       "1    0     1       1  120     2      1     1.0   0.0   1.0   \n",
       "2    0     2       1  217     3      1     1.0   1.0   1.0   \n",
       "3    0     1       1  116     2      1     1.0   0.0   1.0   \n",
       "4    0     2       1  214     2      1     1.0   1.0   1.0   \n",
       "..  ..   ...     ...  ...   ...    ...     ...   ...   ...   \n",
       "80   0     5       0   31     0      0     0.0   NaN   NaN   \n",
       "81   0     6       0   40     0      0     0.0   NaN   NaN   \n",
       "82   0     6       0   41     0      0     0.0   NaN   NaN   \n",
       "83   0     0       0   12     0      1     NaN   NaN   NaN   \n",
       "84   0     0       0   14     0      0     NaN   NaN   NaN   \n",
       "\n",
       "                         geometry    new_column  Boreholes Intervals Component  \n",
       "0   POINT (152894.553 122591.406)  Senaatintori          1      None      None  \n",
       "1   POINT (152881.336 122588.077)          None          1      None      None  \n",
       "2   POINT (152885.774 122586.936)          None          1      None      None  \n",
       "3   POINT (152883.804 122589.782)          None          1      None      None  \n",
       "4   POINT (152888.242 122588.641)          None          1      None      None  \n",
       "..                            ...           ...        ...       ...       ...  \n",
       "80  POINT (152886.080 122578.566)          None          1      None      None  \n",
       "81  POINT (152883.640 122577.576)          None          1      None      None  \n",
       "82  POINT (152884.220 122576.706)          None          1      None      None  \n",
       "83  POINT (152888.640 122578.796)          None          1      None      None  \n",
       "84  POINT (152887.340 122581.006)          None          1      None      None  \n",
       "\n",
       "[85 rows x 14 columns]"
      ]
     },
     "execution_count": 55,
     "metadata": {},
     "output_type": "execute_result"
    }
   ],
   "source": [
    "(data_from_gpkg)"
   ]
  },
  {
   "cell_type": "markdown",
   "metadata": {},
   "source": [
    "### Add column to make the joint between pilote data and detailed data"
   ]
  },
  {
   "cell_type": "code",
   "execution_count": 60,
   "metadata": {},
   "outputs": [],
   "source": [
    "data_from_gpkg['id'] = 'F'+data_from_gpkg['Ref']"
   ]
  },
  {
   "cell_type": "code",
   "execution_count": 61,
   "metadata": {},
   "outputs": [
    {
     "data": {
      "text/html": [
       "<div>\n",
       "<style scoped>\n",
       "    .dataframe tbody tr th:only-of-type {\n",
       "        vertical-align: middle;\n",
       "    }\n",
       "\n",
       "    .dataframe tbody tr th {\n",
       "        vertical-align: top;\n",
       "    }\n",
       "\n",
       "    .dataframe thead th {\n",
       "        text-align: right;\n",
       "    }\n",
       "</style>\n",
       "<table border=\"1\" class=\"dataframe\">\n",
       "  <thead>\n",
       "    <tr style=\"text-align: right;\">\n",
       "      <th></th>\n",
       "      <th>Id</th>\n",
       "      <th>Type</th>\n",
       "      <th>Pilote</th>\n",
       "      <th>Ref</th>\n",
       "      <th>diam</th>\n",
       "      <th>Valid</th>\n",
       "      <th>Syscal</th>\n",
       "      <th>Impo</th>\n",
       "      <th>Inox</th>\n",
       "      <th>geometry</th>\n",
       "      <th>new_column</th>\n",
       "      <th>Boreholes</th>\n",
       "      <th>Intervals</th>\n",
       "      <th>Component</th>\n",
       "      <th>id</th>\n",
       "    </tr>\n",
       "  </thead>\n",
       "  <tbody>\n",
       "    <tr>\n",
       "      <th>0</th>\n",
       "      <td>0</td>\n",
       "      <td>1</td>\n",
       "      <td>1</td>\n",
       "      <td>111</td>\n",
       "      <td>2</td>\n",
       "      <td>1</td>\n",
       "      <td>1.0</td>\n",
       "      <td>0.0</td>\n",
       "      <td>1.0</td>\n",
       "      <td>POINT (152894.553 122591.406)</td>\n",
       "      <td>Senaatintori</td>\n",
       "      <td>1</td>\n",
       "      <td>None</td>\n",
       "      <td>None</td>\n",
       "      <td>F111</td>\n",
       "    </tr>\n",
       "    <tr>\n",
       "      <th>1</th>\n",
       "      <td>0</td>\n",
       "      <td>1</td>\n",
       "      <td>1</td>\n",
       "      <td>120</td>\n",
       "      <td>2</td>\n",
       "      <td>1</td>\n",
       "      <td>1.0</td>\n",
       "      <td>0.0</td>\n",
       "      <td>1.0</td>\n",
       "      <td>POINT (152881.336 122588.077)</td>\n",
       "      <td>None</td>\n",
       "      <td>1</td>\n",
       "      <td>None</td>\n",
       "      <td>None</td>\n",
       "      <td>F120</td>\n",
       "    </tr>\n",
       "    <tr>\n",
       "      <th>2</th>\n",
       "      <td>0</td>\n",
       "      <td>2</td>\n",
       "      <td>1</td>\n",
       "      <td>217</td>\n",
       "      <td>3</td>\n",
       "      <td>1</td>\n",
       "      <td>1.0</td>\n",
       "      <td>1.0</td>\n",
       "      <td>1.0</td>\n",
       "      <td>POINT (152885.774 122586.936)</td>\n",
       "      <td>None</td>\n",
       "      <td>1</td>\n",
       "      <td>None</td>\n",
       "      <td>None</td>\n",
       "      <td>F217</td>\n",
       "    </tr>\n",
       "    <tr>\n",
       "      <th>3</th>\n",
       "      <td>0</td>\n",
       "      <td>1</td>\n",
       "      <td>1</td>\n",
       "      <td>116</td>\n",
       "      <td>2</td>\n",
       "      <td>1</td>\n",
       "      <td>1.0</td>\n",
       "      <td>0.0</td>\n",
       "      <td>1.0</td>\n",
       "      <td>POINT (152883.804 122589.782)</td>\n",
       "      <td>None</td>\n",
       "      <td>1</td>\n",
       "      <td>None</td>\n",
       "      <td>None</td>\n",
       "      <td>F116</td>\n",
       "    </tr>\n",
       "    <tr>\n",
       "      <th>4</th>\n",
       "      <td>0</td>\n",
       "      <td>2</td>\n",
       "      <td>1</td>\n",
       "      <td>214</td>\n",
       "      <td>2</td>\n",
       "      <td>1</td>\n",
       "      <td>1.0</td>\n",
       "      <td>1.0</td>\n",
       "      <td>1.0</td>\n",
       "      <td>POINT (152888.242 122588.641)</td>\n",
       "      <td>None</td>\n",
       "      <td>1</td>\n",
       "      <td>None</td>\n",
       "      <td>None</td>\n",
       "      <td>F214</td>\n",
       "    </tr>\n",
       "    <tr>\n",
       "      <th>...</th>\n",
       "      <td>...</td>\n",
       "      <td>...</td>\n",
       "      <td>...</td>\n",
       "      <td>...</td>\n",
       "      <td>...</td>\n",
       "      <td>...</td>\n",
       "      <td>...</td>\n",
       "      <td>...</td>\n",
       "      <td>...</td>\n",
       "      <td>...</td>\n",
       "      <td>...</td>\n",
       "      <td>...</td>\n",
       "      <td>...</td>\n",
       "      <td>...</td>\n",
       "      <td>...</td>\n",
       "    </tr>\n",
       "    <tr>\n",
       "      <th>80</th>\n",
       "      <td>0</td>\n",
       "      <td>5</td>\n",
       "      <td>0</td>\n",
       "      <td>31</td>\n",
       "      <td>0</td>\n",
       "      <td>0</td>\n",
       "      <td>0.0</td>\n",
       "      <td>NaN</td>\n",
       "      <td>NaN</td>\n",
       "      <td>POINT (152886.080 122578.566)</td>\n",
       "      <td>None</td>\n",
       "      <td>1</td>\n",
       "      <td>None</td>\n",
       "      <td>None</td>\n",
       "      <td>F31</td>\n",
       "    </tr>\n",
       "    <tr>\n",
       "      <th>81</th>\n",
       "      <td>0</td>\n",
       "      <td>6</td>\n",
       "      <td>0</td>\n",
       "      <td>40</td>\n",
       "      <td>0</td>\n",
       "      <td>0</td>\n",
       "      <td>0.0</td>\n",
       "      <td>NaN</td>\n",
       "      <td>NaN</td>\n",
       "      <td>POINT (152883.640 122577.576)</td>\n",
       "      <td>None</td>\n",
       "      <td>1</td>\n",
       "      <td>None</td>\n",
       "      <td>None</td>\n",
       "      <td>F40</td>\n",
       "    </tr>\n",
       "    <tr>\n",
       "      <th>82</th>\n",
       "      <td>0</td>\n",
       "      <td>6</td>\n",
       "      <td>0</td>\n",
       "      <td>41</td>\n",
       "      <td>0</td>\n",
       "      <td>0</td>\n",
       "      <td>0.0</td>\n",
       "      <td>NaN</td>\n",
       "      <td>NaN</td>\n",
       "      <td>POINT (152884.220 122576.706)</td>\n",
       "      <td>None</td>\n",
       "      <td>1</td>\n",
       "      <td>None</td>\n",
       "      <td>None</td>\n",
       "      <td>F41</td>\n",
       "    </tr>\n",
       "    <tr>\n",
       "      <th>83</th>\n",
       "      <td>0</td>\n",
       "      <td>0</td>\n",
       "      <td>0</td>\n",
       "      <td>12</td>\n",
       "      <td>0</td>\n",
       "      <td>1</td>\n",
       "      <td>NaN</td>\n",
       "      <td>NaN</td>\n",
       "      <td>NaN</td>\n",
       "      <td>POINT (152888.640 122578.796)</td>\n",
       "      <td>None</td>\n",
       "      <td>1</td>\n",
       "      <td>None</td>\n",
       "      <td>None</td>\n",
       "      <td>F12</td>\n",
       "    </tr>\n",
       "    <tr>\n",
       "      <th>84</th>\n",
       "      <td>0</td>\n",
       "      <td>0</td>\n",
       "      <td>0</td>\n",
       "      <td>14</td>\n",
       "      <td>0</td>\n",
       "      <td>0</td>\n",
       "      <td>NaN</td>\n",
       "      <td>NaN</td>\n",
       "      <td>NaN</td>\n",
       "      <td>POINT (152887.340 122581.006)</td>\n",
       "      <td>None</td>\n",
       "      <td>1</td>\n",
       "      <td>None</td>\n",
       "      <td>None</td>\n",
       "      <td>F14</td>\n",
       "    </tr>\n",
       "  </tbody>\n",
       "</table>\n",
       "<p>85 rows × 15 columns</p>\n",
       "</div>"
      ],
      "text/plain": [
       "    Id  Type  Pilote  Ref  diam  Valid  Syscal  Impo  Inox  \\\n",
       "0    0     1       1  111     2      1     1.0   0.0   1.0   \n",
       "1    0     1       1  120     2      1     1.0   0.0   1.0   \n",
       "2    0     2       1  217     3      1     1.0   1.0   1.0   \n",
       "3    0     1       1  116     2      1     1.0   0.0   1.0   \n",
       "4    0     2       1  214     2      1     1.0   1.0   1.0   \n",
       "..  ..   ...     ...  ...   ...    ...     ...   ...   ...   \n",
       "80   0     5       0   31     0      0     0.0   NaN   NaN   \n",
       "81   0     6       0   40     0      0     0.0   NaN   NaN   \n",
       "82   0     6       0   41     0      0     0.0   NaN   NaN   \n",
       "83   0     0       0   12     0      1     NaN   NaN   NaN   \n",
       "84   0     0       0   14     0      0     NaN   NaN   NaN   \n",
       "\n",
       "                         geometry    new_column  Boreholes Intervals  \\\n",
       "0   POINT (152894.553 122591.406)  Senaatintori          1      None   \n",
       "1   POINT (152881.336 122588.077)          None          1      None   \n",
       "2   POINT (152885.774 122586.936)          None          1      None   \n",
       "3   POINT (152883.804 122589.782)          None          1      None   \n",
       "4   POINT (152888.242 122588.641)          None          1      None   \n",
       "..                            ...           ...        ...       ...   \n",
       "80  POINT (152886.080 122578.566)          None          1      None   \n",
       "81  POINT (152883.640 122577.576)          None          1      None   \n",
       "82  POINT (152884.220 122576.706)          None          1      None   \n",
       "83  POINT (152888.640 122578.796)          None          1      None   \n",
       "84  POINT (152887.340 122581.006)          None          1      None   \n",
       "\n",
       "   Component    id  \n",
       "0       None  F111  \n",
       "1       None  F120  \n",
       "2       None  F217  \n",
       "3       None  F116  \n",
       "4       None  F214  \n",
       "..       ...   ...  \n",
       "80      None   F31  \n",
       "81      None   F40  \n",
       "82      None   F41  \n",
       "83      None   F12  \n",
       "84      None   F14  \n",
       "\n",
       "[85 rows x 15 columns]"
      ]
     },
     "execution_count": 61,
     "metadata": {},
     "output_type": "execute_result"
    }
   ],
   "source": [
    "data_from_gpkg"
   ]
  },
  {
   "cell_type": "code",
   "execution_count": null,
   "metadata": {},
   "outputs": [],
   "source": []
  },
  {
   "cell_type": "markdown",
   "metadata": {},
   "source": [
    "## Work on data"
   ]
  },
  {
   "cell_type": "markdown",
   "metadata": {},
   "source": [
    "### Access"
   ]
  },
  {
   "cell_type": "code",
   "execution_count": 14,
   "metadata": {},
   "outputs": [
    {
     "data": {
      "text/plain": [
       "0     2\n",
       "1     2\n",
       "2     3\n",
       "3     2\n",
       "4     2\n",
       "     ..\n",
       "80    0\n",
       "81    0\n",
       "82    0\n",
       "83    0\n",
       "84    0\n",
       "Name: diam, Length: 85, dtype: int64"
      ]
     },
     "execution_count": 14,
     "metadata": {},
     "output_type": "execute_result"
    }
   ],
   "source": [
    "data_from_gpkg['diam']"
   ]
  },
  {
   "cell_type": "markdown",
   "metadata": {},
   "source": [
    "### Add a Colomn"
   ]
  },
  {
   "cell_type": "code",
   "execution_count": 15,
   "metadata": {},
   "outputs": [],
   "source": [
    "data_from_gpkg['new_column'] = None"
   ]
  },
  {
   "cell_type": "code",
   "execution_count": 16,
   "metadata": {},
   "outputs": [],
   "source": [
    "data_from_gpkg.loc[0, 'new_column'] = 'Senaatintori'"
   ]
  },
  {
   "cell_type": "code",
   "execution_count": 17,
   "metadata": {
    "scrolled": true
   },
   "outputs": [
    {
     "data": {
      "text/plain": [
       "geopandas.geodataframe.GeoDataFrame"
      ]
     },
     "execution_count": 17,
     "metadata": {},
     "output_type": "execute_result"
    }
   ],
   "source": [
    "type(data_from_gpkg)"
   ]
  },
  {
   "cell_type": "markdown",
   "metadata": {},
   "source": [
    "## Plot"
   ]
  },
  {
   "cell_type": "markdown",
   "metadata": {},
   "source": [
    "### Naive"
   ]
  },
  {
   "cell_type": "code",
   "execution_count": 18,
   "metadata": {
    "scrolled": false
   },
   "outputs": [
    {
     "data": {
      "text/plain": [
       "<matplotlib.axes._subplots.AxesSubplot at 0x7fdf52af1dd8>"
      ]
     },
     "execution_count": 18,
     "metadata": {},
     "output_type": "execute_result"
    },
    {
     "data": {
      "image/png": "[encoded data removed]",
      "text/plain": [
       "<Figure size 432x288 with 1 Axes>"
      ]
     },
     "metadata": {
      "needs_background": "light"
     },
     "output_type": "display_data"
    }
   ],
   "source": [
    "data_from_gpkg.plot()"
   ]
  },
  {
   "cell_type": "markdown",
   "metadata": {},
   "source": [
    "## CRS"
   ]
  },
  {
   "cell_type": "markdown",
   "metadata": {},
   "source": [
    "EPSG 31370 (Lambert 72)"
   ]
  },
  {
   "cell_type": "code",
   "execution_count": 19,
   "metadata": {},
   "outputs": [
    {
     "name": "stderr",
     "output_type": "stream",
     "text": [
      "/home/gfa/.local/share/virtualenvs/GSDMA2019-F9ES6BKJ/lib/python3.6/site-packages/pyproj/crs.py:77: FutureWarning: '+init=<authority>:<code>' syntax is deprecated. '<authority>:<code>' is the preferred initialization method.\n",
      "  return _prepare_from_string(\" \".join(pjargs))\n"
     ]
    }
   ],
   "source": [
    "data_from_gpkg_84 = data_from_gpkg.to_crs(epsg=4326)"
   ]
  },
  {
   "cell_type": "code",
   "execution_count": 20,
   "metadata": {},
   "outputs": [
    {
     "data": {
      "text/html": [
       "<div>\n",
       "<style scoped>\n",
       "    .dataframe tbody tr th:only-of-type {\n",
       "        vertical-align: middle;\n",
       "    }\n",
       "\n",
       "    .dataframe tbody tr th {\n",
       "        vertical-align: top;\n",
       "    }\n",
       "\n",
       "    .dataframe thead th {\n",
       "        text-align: right;\n",
       "    }\n",
       "</style>\n",
       "<table border=\"1\" class=\"dataframe\">\n",
       "  <thead>\n",
       "    <tr style=\"text-align: right;\">\n",
       "      <th></th>\n",
       "      <th>Id</th>\n",
       "      <th>Type</th>\n",
       "      <th>Pilote</th>\n",
       "      <th>Ref</th>\n",
       "      <th>diam</th>\n",
       "      <th>Valid</th>\n",
       "      <th>Syscal</th>\n",
       "      <th>Impo</th>\n",
       "      <th>Inox</th>\n",
       "      <th>geometry</th>\n",
       "      <th>new_column</th>\n",
       "    </tr>\n",
       "  </thead>\n",
       "  <tbody>\n",
       "    <tr>\n",
       "      <th>0</th>\n",
       "      <td>0</td>\n",
       "      <td>1</td>\n",
       "      <td>1</td>\n",
       "      <td>111</td>\n",
       "      <td>2</td>\n",
       "      <td>1</td>\n",
       "      <td>1.0</td>\n",
       "      <td>0.0</td>\n",
       "      <td>1.0</td>\n",
       "      <td>POINT (4.40947 50.41420)</td>\n",
       "      <td>Senaatintori</td>\n",
       "    </tr>\n",
       "    <tr>\n",
       "      <th>1</th>\n",
       "      <td>0</td>\n",
       "      <td>1</td>\n",
       "      <td>1</td>\n",
       "      <td>120</td>\n",
       "      <td>2</td>\n",
       "      <td>1</td>\n",
       "      <td>1.0</td>\n",
       "      <td>0.0</td>\n",
       "      <td>1.0</td>\n",
       "      <td>POINT (4.40929 50.41417)</td>\n",
       "      <td>None</td>\n",
       "    </tr>\n",
       "    <tr>\n",
       "      <th>2</th>\n",
       "      <td>0</td>\n",
       "      <td>2</td>\n",
       "      <td>1</td>\n",
       "      <td>217</td>\n",
       "      <td>3</td>\n",
       "      <td>1</td>\n",
       "      <td>1.0</td>\n",
       "      <td>1.0</td>\n",
       "      <td>1.0</td>\n",
       "      <td>POINT (4.40935 50.41416)</td>\n",
       "      <td>None</td>\n",
       "    </tr>\n",
       "    <tr>\n",
       "      <th>3</th>\n",
       "      <td>0</td>\n",
       "      <td>1</td>\n",
       "      <td>1</td>\n",
       "      <td>116</td>\n",
       "      <td>2</td>\n",
       "      <td>1</td>\n",
       "      <td>1.0</td>\n",
       "      <td>0.0</td>\n",
       "      <td>1.0</td>\n",
       "      <td>POINT (4.40932 50.41419)</td>\n",
       "      <td>None</td>\n",
       "    </tr>\n",
       "    <tr>\n",
       "      <th>4</th>\n",
       "      <td>0</td>\n",
       "      <td>2</td>\n",
       "      <td>1</td>\n",
       "      <td>214</td>\n",
       "      <td>2</td>\n",
       "      <td>1</td>\n",
       "      <td>1.0</td>\n",
       "      <td>1.0</td>\n",
       "      <td>1.0</td>\n",
       "      <td>POINT (4.40938 50.41418)</td>\n",
       "      <td>None</td>\n",
       "    </tr>\n",
       "    <tr>\n",
       "      <th>...</th>\n",
       "      <td>...</td>\n",
       "      <td>...</td>\n",
       "      <td>...</td>\n",
       "      <td>...</td>\n",
       "      <td>...</td>\n",
       "      <td>...</td>\n",
       "      <td>...</td>\n",
       "      <td>...</td>\n",
       "      <td>...</td>\n",
       "      <td>...</td>\n",
       "      <td>...</td>\n",
       "    </tr>\n",
       "    <tr>\n",
       "      <th>80</th>\n",
       "      <td>0</td>\n",
       "      <td>5</td>\n",
       "      <td>0</td>\n",
       "      <td>31</td>\n",
       "      <td>0</td>\n",
       "      <td>0</td>\n",
       "      <td>0.0</td>\n",
       "      <td>NaN</td>\n",
       "      <td>NaN</td>\n",
       "      <td>POINT (4.40935 50.41409)</td>\n",
       "      <td>None</td>\n",
       "    </tr>\n",
       "    <tr>\n",
       "      <th>81</th>\n",
       "      <td>0</td>\n",
       "      <td>6</td>\n",
       "      <td>0</td>\n",
       "      <td>40</td>\n",
       "      <td>0</td>\n",
       "      <td>0</td>\n",
       "      <td>0.0</td>\n",
       "      <td>NaN</td>\n",
       "      <td>NaN</td>\n",
       "      <td>POINT (4.40932 50.41408)</td>\n",
       "      <td>None</td>\n",
       "    </tr>\n",
       "    <tr>\n",
       "      <th>82</th>\n",
       "      <td>0</td>\n",
       "      <td>6</td>\n",
       "      <td>0</td>\n",
       "      <td>41</td>\n",
       "      <td>0</td>\n",
       "      <td>0</td>\n",
       "      <td>0.0</td>\n",
       "      <td>NaN</td>\n",
       "      <td>NaN</td>\n",
       "      <td>POINT (4.40933 50.41407)</td>\n",
       "      <td>None</td>\n",
       "    </tr>\n",
       "    <tr>\n",
       "      <th>83</th>\n",
       "      <td>0</td>\n",
       "      <td>0</td>\n",
       "      <td>0</td>\n",
       "      <td>12</td>\n",
       "      <td>0</td>\n",
       "      <td>1</td>\n",
       "      <td>NaN</td>\n",
       "      <td>NaN</td>\n",
       "      <td>NaN</td>\n",
       "      <td>POINT (4.40939 50.41409)</td>\n",
       "      <td>None</td>\n",
       "    </tr>\n",
       "    <tr>\n",
       "      <th>84</th>\n",
       "      <td>0</td>\n",
       "      <td>0</td>\n",
       "      <td>0</td>\n",
       "      <td>14</td>\n",
       "      <td>0</td>\n",
       "      <td>0</td>\n",
       "      <td>NaN</td>\n",
       "      <td>NaN</td>\n",
       "      <td>NaN</td>\n",
       "      <td>POINT (4.40937 50.41411)</td>\n",
       "      <td>None</td>\n",
       "    </tr>\n",
       "  </tbody>\n",
       "</table>\n",
       "<p>85 rows × 11 columns</p>\n",
       "</div>"
      ],
      "text/plain": [
       "    Id  Type  Pilote  Ref  diam  Valid  Syscal  Impo  Inox  \\\n",
       "0    0     1       1  111     2      1     1.0   0.0   1.0   \n",
       "1    0     1       1  120     2      1     1.0   0.0   1.0   \n",
       "2    0     2       1  217     3      1     1.0   1.0   1.0   \n",
       "3    0     1       1  116     2      1     1.0   0.0   1.0   \n",
       "4    0     2       1  214     2      1     1.0   1.0   1.0   \n",
       "..  ..   ...     ...  ...   ...    ...     ...   ...   ...   \n",
       "80   0     5       0   31     0      0     0.0   NaN   NaN   \n",
       "81   0     6       0   40     0      0     0.0   NaN   NaN   \n",
       "82   0     6       0   41     0      0     0.0   NaN   NaN   \n",
       "83   0     0       0   12     0      1     NaN   NaN   NaN   \n",
       "84   0     0       0   14     0      0     NaN   NaN   NaN   \n",
       "\n",
       "                    geometry    new_column  \n",
       "0   POINT (4.40947 50.41420)  Senaatintori  \n",
       "1   POINT (4.40929 50.41417)          None  \n",
       "2   POINT (4.40935 50.41416)          None  \n",
       "3   POINT (4.40932 50.41419)          None  \n",
       "4   POINT (4.40938 50.41418)          None  \n",
       "..                       ...           ...  \n",
       "80  POINT (4.40935 50.41409)          None  \n",
       "81  POINT (4.40932 50.41408)          None  \n",
       "82  POINT (4.40933 50.41407)          None  \n",
       "83  POINT (4.40939 50.41409)          None  \n",
       "84  POINT (4.40937 50.41411)          None  \n",
       "\n",
       "[85 rows x 11 columns]"
      ]
     },
     "execution_count": 20,
     "metadata": {},
     "output_type": "execute_result"
    }
   ],
   "source": [
    "data_from_gpkg_84"
   ]
  },
  {
   "cell_type": "code",
   "execution_count": 21,
   "metadata": {},
   "outputs": [],
   "source": [
    "data_from_gpkg_84.to_file(\"data_84.geojson\", driver='GeoJSON')"
   ]
  },
  {
   "cell_type": "code",
   "execution_count": 22,
   "metadata": {},
   "outputs": [],
   "source": [
    "import contextily as ctx"
   ]
  },
  {
   "cell_type": "markdown",
   "metadata": {},
   "source": [
    "### Add background tiles to plot"
   ]
  },
  {
   "cell_type": "code",
   "execution_count": 23,
   "metadata": {},
   "outputs": [],
   "source": [
    "def add_basemap(ax, zoom, url='http://tile.stamen.com/terrain/tileZ/tileX/tileY.png'):\n",
    "    xmin, xmax, ymin, ymax = ax.axis()\n",
    "    basemap, extent = ctx.bounds2img(xmin, ymin, xmax, ymax, zoom=zoom, url=url)\n",
    "    ax.imshow(basemap, extent=extent, interpolation='bilinear')\n",
    "    # restore original x/y limits\n",
    "    ax.axis((xmin, xmax, ymin, ymax))"
   ]
  },
  {
   "cell_type": "code",
   "execution_count": 24,
   "metadata": {
    "scrolled": true
   },
   "outputs": [
    {
     "data": {
      "image/png": "[encoded data removed]",
      "text/plain": [
       "<Figure size 720x720 with 1 Axes>"
      ]
     },
     "metadata": {
      "needs_background": "light"
     },
     "output_type": "display_data"
    }
   ],
   "source": [
    "ax = data_from_gpkg.plot(figsize=(10, 10), alpha=0.5, edgecolor='k')\n",
    "add_basemap(ax,zoom=1)"
   ]
  },
  {
   "cell_type": "code",
   "execution_count": 25,
   "metadata": {},
   "outputs": [],
   "source": [
    "? ctx.tile"
   ]
  },
  {
   "cell_type": "markdown",
   "metadata": {},
   "source": [
    "## Folium "
   ]
  },
  {
   "cell_type": "code",
   "execution_count": 26,
   "metadata": {},
   "outputs": [],
   "source": [
    "import folium"
   ]
  },
  {
   "cell_type": "code",
   "execution_count": 27,
   "metadata": {},
   "outputs": [
    {
     "name": "stdout",
     "output_type": "stream",
     "text": [
      "1st_cylinder_pv.ipynb        \u001b[0m\u001b[01;34mpandas\u001b[0m/\r\n",
      "6038187_v1.2.las             \u001b[01;34mpilote\u001b[0m/\r\n",
      "data_84.geojson              \u001b[01;31mpilote.zip\u001b[0m\r\n",
      "data.geojson                 \u001b[01;34mread_data\u001b[0m/\r\n",
      "data.gpkg                    shp_to_gpkg.ipynb\r\n",
      "\u001b[01;34mData_treatment\u001b[0m/              SQL_test_good.ipynb\r\n",
      "E_F10.db                     SQL_test_good-last.ipynb\r\n",
      "Example-Copy1.ipynb          striplog_basic_objects.ipynb\r\n",
      "final.db                     striplog_basics.ipynb\r\n",
      "index.html                   Striplog_manipulation.ipynb\r\n",
      "LAS_file_from_scratch.ipynb  \u001b[01;34mStriplog_read_database\u001b[0m/\r\n",
      "manipulate_gdf.ipynb         testA.md\r\n",
      "\u001b[01;35mM-MG-70_14.3_135.9.png\u001b[0m       \u001b[01;35mtest_image.png\u001b[0m\r\n",
      "\u001b[01;34momf\u001b[0m/                         test.md\r\n"
     ]
    }
   ],
   "source": [
    "ls"
   ]
  },
  {
   "cell_type": "code",
   "execution_count": 28,
   "metadata": {},
   "outputs": [
    {
     "data": {
      "text/plain": [
       "'data.geojson'"
      ]
     },
     "execution_count": 28,
     "metadata": {},
     "output_type": "execute_result"
    }
   ],
   "source": [
    "'data.geojson'"
   ]
  },
  {
   "cell_type": "markdown",
   "metadata": {},
   "source": [
    "#### data gdf en WGS84"
   ]
  },
  {
   "cell_type": "code",
   "execution_count": 29,
   "metadata": {},
   "outputs": [],
   "source": [
    "data_json = 'data.geojson'\n",
    "data_84 = 'data_84.geojson'"
   ]
  },
  {
   "cell_type": "code",
   "execution_count": 28,
   "metadata": {},
   "outputs": [
    {
     "data": {
      "text/plain": [
       "geopandas.geodataframe.GeoDataFrame"
      ]
     },
     "execution_count": 28,
     "metadata": {},
     "output_type": "execute_result"
    }
   ],
   "source": [
    "type(data_from_gpkg)"
   ]
  },
  {
   "cell_type": "code",
   "execution_count": 30,
   "metadata": {},
   "outputs": [
    {
     "data": {
      "text/html": [
       "<div style=\"width:100%;\"><div style=\"position:relative;width:100%;height:0;padding-bottom:60%;\"><iframe src=\"data:text/html;charset=utf-8;base64,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\" style=\"position:absolute;width:100%;height:100%;left:0;top:0;border:none !important;\" allowfullscreen webkitallowfullscreen mozallowfullscreen></iframe></div></div>"
      ],
      "text/plain": [
       "<folium.folium.Map at 0x7fdf4599bcc0>"
      ]
     },
     "execution_count": 30,
     "metadata": {},
     "output_type": "execute_result"
    }
   ],
   "source": [
    "ice_map = folium.Map(location=[50.455, 3.94],\n",
    "                    zoom_start=10)\n",
    "folium.GeoJson(\n",
    "    data_84).add_to(ice_map)\n",
    "ice_map\n"
   ]
  },
  {
   "cell_type": "markdown",
   "metadata": {},
   "source": [
    "save in a file"
   ]
  },
  {
   "cell_type": "code",
   "execution_count": 31,
   "metadata": {},
   "outputs": [],
   "source": [
    "m.save('index.html')"
   ]
  },
  {
   "cell_type": "code",
   "execution_count": 32,
   "metadata": {
    "scrolled": true
   },
   "outputs": [
    {
     "data": {
      "text/html": [
       "<div style=\"width:100%;\"><div style=\"position:relative;width:100%;height:0;padding-bottom:60%;\"><iframe src=\"data:text/html;charset=utf-8;base64,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\" style=\"position:absolute;width:100%;height:100%;left:0;top:0;border:none !important;\" allowfullscreen webkitallowfullscreen mozallowfullscreen></iframe></div></div>"
      ],
      "text/plain": [
       "<folium.folium.Map at 0x7f78fe6e7d30>"
      ]
     },
     "execution_count": 32,
     "metadata": {},
     "output_type": "execute_result"
    }
   ],
   "source": [
    "folium.GeoJson(\n",
    "    'data.geojson',\n",
    "    name='geojson'\n",
    ").add_to(m)\n",
    "\n",
    "folium.LayerControl().add_to(m)\n",
    "\n",
    "\n",
    "m\n"
   ]
  },
  {
   "cell_type": "code",
   "execution_count": 33,
   "metadata": {},
   "outputs": [],
   "source": [
    "? folium.GeoJson"
   ]
  },
  {
   "cell_type": "code",
   "execution_count": null,
   "metadata": {},
   "outputs": [],
   "source": []
  },
  {
   "cell_type": "code",
   "execution_count": null,
   "metadata": {},
   "outputs": [],
   "source": []
  },
  {
   "cell_type": "code",
   "execution_count": null,
   "metadata": {},
   "outputs": [],
   "source": []
  },
  {
   "cell_type": "code",
   "execution_count": null,
   "metadata": {},
   "outputs": [],
   "source": []
  },
  {
   "cell_type": "markdown",
   "metadata": {},
   "source": [
    "## Access SQlite"
   ]
  },
  {
   "cell_type": "code",
   "execution_count": 34,
   "metadata": {},
   "outputs": [],
   "source": [
    "import sqlite3"
   ]
  },
  {
   "cell_type": "code",
   "execution_count": 35,
   "metadata": {},
   "outputs": [],
   "source": [
    "conn = sqlite3.connect('final.db')"
   ]
  },
  {
   "cell_type": "code",
   "execution_count": 36,
   "metadata": {},
   "outputs": [
    {
     "data": {
      "text/plain": [
       "<sqlite3.Connection at 0x7fdf58bc68f0>"
      ]
     },
     "execution_count": 36,
     "metadata": {},
     "output_type": "execute_result"
    }
   ],
   "source": [
    "conn"
   ]
  },
  {
   "cell_type": "code",
   "execution_count": 37,
   "metadata": {},
   "outputs": [],
   "source": [
    "cursor = conn.cursor()"
   ]
  },
  {
   "cell_type": "code",
   "execution_count": 38,
   "metadata": {},
   "outputs": [
    {
     "name": "stdout",
     "output_type": "stream",
     "text": [
      "('Boreholes',)\n",
      "('Intervals',)\n",
      "('Component',)\n",
      "('lexicon',)\n"
     ]
    }
   ],
   "source": [
    "for table in cursor.execute(\"SELECT name FROM sqlite_master WHERE type='table';\"):\n",
    "    print(table)"
   ]
  },
  {
   "cell_type": "code",
   "execution_count": 39,
   "metadata": {},
   "outputs": [],
   "source": [
    "data_from_gpkg['Boreholes'] = None\n",
    "data_from_gpkg['Intervals'] = None\n",
    "data_from_gpkg['Component'] = None"
   ]
  },
  {
   "cell_type": "code",
   "execution_count": 40,
   "metadata": {},
   "outputs": [
    {
     "name": "stdout",
     "output_type": "stream",
     "text": [
      "<class 'tuple'>\n",
      "<class 'tuple'>\n",
      "<class 'tuple'>\n",
      "<class 'tuple'>\n"
     ]
    }
   ],
   "source": [
    "for table in cursor.execute(\"SELECT name FROM sqlite_master WHERE type='table';\"):\n",
    "    print(type(table))"
   ]
  },
  {
   "cell_type": "code",
   "execution_count": 41,
   "metadata": {},
   "outputs": [],
   "source": [
    "data_from_gpkg[('Boreholes')]  = 1"
   ]
  },
  {
   "cell_type": "code",
   "execution_count": 42,
   "metadata": {},
   "outputs": [
    {
     "data": {
      "text/plain": [
       "0     1\n",
       "1     1\n",
       "2     1\n",
       "3     1\n",
       "4     1\n",
       "     ..\n",
       "80    1\n",
       "81    1\n",
       "82    1\n",
       "83    1\n",
       "84    1\n",
       "Name: Boreholes, Length: 85, dtype: int64"
      ]
     },
     "execution_count": 42,
     "metadata": {},
     "output_type": "execute_result"
    }
   ],
   "source": [
    "data_from_gpkg[('Boreholes')]"
   ]
  },
  {
   "cell_type": "code",
   "execution_count": null,
   "metadata": {},
   "outputs": [],
   "source": []
  },
  {
   "cell_type": "markdown",
   "metadata": {},
   "source": [
    "### SQLite and df"
   ]
  },
  {
   "cell_type": "code",
   "execution_count": 43,
   "metadata": {},
   "outputs": [],
   "source": [
    "conn = sqlite3.connect('final.db')"
   ]
  },
  {
   "cell_type": "code",
   "execution_count": 44,
   "metadata": {},
   "outputs": [
    {
     "data": {
      "text/plain": [
       "<sqlite3.Connection at 0x7fdf87df8490>"
      ]
     },
     "execution_count": 44,
     "metadata": {},
     "output_type": "execute_result"
    }
   ],
   "source": [
    "conn"
   ]
  },
  {
   "cell_type": "code",
   "execution_count": 45,
   "metadata": {},
   "outputs": [],
   "source": [
    "cursor = conn.cursor()"
   ]
  },
  {
   "cell_type": "code",
   "execution_count": 46,
   "metadata": {},
   "outputs": [
    {
     "data": {
      "text/plain": [
       "<sqlite3.Cursor at 0x7fdf42707960>"
      ]
     },
     "execution_count": 46,
     "metadata": {},
     "output_type": "execute_result"
    }
   ],
   "source": [
    "cursor.execute(\"select * from Boreholes limit 5;\")"
   ]
  },
  {
   "cell_type": "markdown",
   "metadata": {},
   "source": [
    "# https://www.dataquest.io/blog/python-pandas-databases/"
   ]
  },
  {
   "cell_type": "code",
   "execution_count": 47,
   "metadata": {
    "scrolled": true
   },
   "outputs": [
    {
     "ename": "IndentationError",
     "evalue": "expected an indented block (<ipython-input-47-8d79dd2078e7>, line 2)",
     "output_type": "error",
     "traceback": [
      "\u001b[0;36m  File \u001b[0;32m\"<ipython-input-47-8d79dd2078e7>\"\u001b[0;36m, line \u001b[0;32m2\u001b[0m\n\u001b[0;31m    print(\"ID = \", row[0])\u001b[0m\n\u001b[0m        ^\u001b[0m\n\u001b[0;31mIndentationError\u001b[0m\u001b[0;31m:\u001b[0m expected an indented block\n"
     ]
    }
   ],
   "source": [
    "for row in cursor.execute(\"SELECT id, name, marks from SCHOOL\"):\n",
    "print(\"ID = \", row[0])\n",
    "    print(\"NAME = \", row[1])\n",
    "    print(\"MARKS = \", row[2], \"\\n\")"
   ]
  },
  {
   "cell_type": "markdown",
   "metadata": {},
   "source": [
    "### Reading results into an Panda Dataframe"
   ]
  },
  {
   "cell_type": "code",
   "execution_count": 52,
   "metadata": {},
   "outputs": [],
   "source": [
    "df = pd.read_sql_query(\"SELECT * from Component\", conn)"
   ]
  },
  {
   "cell_type": "code",
   "execution_count": null,
   "metadata": {},
   "outputs": [],
   "source": []
  },
  {
   "cell_type": "code",
   "execution_count": null,
   "metadata": {},
   "outputs": [],
   "source": []
  },
  {
   "cell_type": "markdown",
   "metadata": {},
   "source": [
    "## Access data in SQL"
   ]
  },
  {
   "cell_type": "code",
   "execution_count": 49,
   "metadata": {
    "scrolled": true
   },
   "outputs": [
    {
     "ename": "IndentationError",
     "evalue": "unindent does not match any outer indentation level (<tokenize>, line 3)",
     "output_type": "error",
     "traceback": [
      "\u001b[0;36m  File \u001b[0;32m\"<tokenize>\"\u001b[0;36m, line \u001b[0;32m3\u001b[0m\n\u001b[0;31m    data_from_gpkg[('Boreholes')]  = 1\u001b[0m\n\u001b[0m    ^\u001b[0m\n\u001b[0;31mIndentationError\u001b[0m\u001b[0;31m:\u001b[0m unindent does not match any outer indentation level\n"
     ]
    }
   ],
   "source": [
    "for row in cursor.execute(\"SELECT Top, Base from Component\"):\n",
    "    print(row)\n",
    "  data_from_gpkg[('Boreholes')]  = 1"
   ]
  },
  {
   "cell_type": "markdown",
   "metadata": {},
   "source": [
    "Chaque row est un tuple"
   ]
  },
  {
   "cell_type": "code",
   "execution_count": 64,
   "metadata": {
    "scrolled": true
   },
   "outputs": [
    {
     "data": {
      "text/html": [
       "<div>\n",
       "<style scoped>\n",
       "    .dataframe tbody tr th:only-of-type {\n",
       "        vertical-align: middle;\n",
       "    }\n",
       "\n",
       "    .dataframe tbody tr th {\n",
       "        vertical-align: top;\n",
       "    }\n",
       "\n",
       "    .dataframe thead th {\n",
       "        text-align: right;\n",
       "    }\n",
       "</style>\n",
       "<table border=\"1\" class=\"dataframe\">\n",
       "  <thead>\n",
       "    <tr style=\"text-align: right;\">\n",
       "      <th></th>\n",
       "      <th>Id</th>\n",
       "      <th>Type</th>\n",
       "      <th>Pilote</th>\n",
       "      <th>Ref</th>\n",
       "      <th>diam</th>\n",
       "      <th>Valid</th>\n",
       "      <th>Syscal</th>\n",
       "      <th>Impo</th>\n",
       "      <th>Inox</th>\n",
       "      <th>geometry</th>\n",
       "      <th>new_column</th>\n",
       "      <th>Boreholes</th>\n",
       "      <th>Intervals</th>\n",
       "      <th>Component</th>\n",
       "    </tr>\n",
       "  </thead>\n",
       "  <tbody>\n",
       "    <tr>\n",
       "      <th>0</th>\n",
       "      <td>0</td>\n",
       "      <td>1</td>\n",
       "      <td>1</td>\n",
       "      <td>111</td>\n",
       "      <td>2</td>\n",
       "      <td>1</td>\n",
       "      <td>1.0</td>\n",
       "      <td>0.0</td>\n",
       "      <td>1.0</td>\n",
       "      <td>POINT (152894.553 122591.406)</td>\n",
       "      <td>Senaatintori</td>\n",
       "      <td>1</td>\n",
       "      <td>None</td>\n",
       "      <td>None</td>\n",
       "    </tr>\n",
       "    <tr>\n",
       "      <th>1</th>\n",
       "      <td>0</td>\n",
       "      <td>1</td>\n",
       "      <td>1</td>\n",
       "      <td>120</td>\n",
       "      <td>2</td>\n",
       "      <td>1</td>\n",
       "      <td>1.0</td>\n",
       "      <td>0.0</td>\n",
       "      <td>1.0</td>\n",
       "      <td>POINT (152881.336 122588.077)</td>\n",
       "      <td>None</td>\n",
       "      <td>1</td>\n",
       "      <td>None</td>\n",
       "      <td>0</td>\n",
       "    </tr>\n",
       "    <tr>\n",
       "      <th>2</th>\n",
       "      <td>0</td>\n",
       "      <td>2</td>\n",
       "      <td>1</td>\n",
       "      <td>217</td>\n",
       "      <td>3</td>\n",
       "      <td>1</td>\n",
       "      <td>1.0</td>\n",
       "      <td>1.0</td>\n",
       "      <td>1.0</td>\n",
       "      <td>POINT (152885.774 122586.936)</td>\n",
       "      <td>None</td>\n",
       "      <td>1</td>\n",
       "      <td>None</td>\n",
       "      <td>None</td>\n",
       "    </tr>\n",
       "    <tr>\n",
       "      <th>3</th>\n",
       "      <td>0</td>\n",
       "      <td>1</td>\n",
       "      <td>1</td>\n",
       "      <td>116</td>\n",
       "      <td>2</td>\n",
       "      <td>1</td>\n",
       "      <td>1.0</td>\n",
       "      <td>0.0</td>\n",
       "      <td>1.0</td>\n",
       "      <td>POINT (152883.804 122589.782)</td>\n",
       "      <td>None</td>\n",
       "      <td>1</td>\n",
       "      <td>None</td>\n",
       "      <td>None</td>\n",
       "    </tr>\n",
       "    <tr>\n",
       "      <th>4</th>\n",
       "      <td>0</td>\n",
       "      <td>2</td>\n",
       "      <td>1</td>\n",
       "      <td>214</td>\n",
       "      <td>2</td>\n",
       "      <td>1</td>\n",
       "      <td>1.0</td>\n",
       "      <td>1.0</td>\n",
       "      <td>1.0</td>\n",
       "      <td>POINT (152888.242 122588.641)</td>\n",
       "      <td>None</td>\n",
       "      <td>1</td>\n",
       "      <td>None</td>\n",
       "      <td>None</td>\n",
       "    </tr>\n",
       "    <tr>\n",
       "      <th>...</th>\n",
       "      <td>...</td>\n",
       "      <td>...</td>\n",
       "      <td>...</td>\n",
       "      <td>...</td>\n",
       "      <td>...</td>\n",
       "      <td>...</td>\n",
       "      <td>...</td>\n",
       "      <td>...</td>\n",
       "      <td>...</td>\n",
       "      <td>...</td>\n",
       "      <td>...</td>\n",
       "      <td>...</td>\n",
       "      <td>...</td>\n",
       "      <td>...</td>\n",
       "    </tr>\n",
       "    <tr>\n",
       "      <th>80</th>\n",
       "      <td>0</td>\n",
       "      <td>5</td>\n",
       "      <td>0</td>\n",
       "      <td>31</td>\n",
       "      <td>0</td>\n",
       "      <td>0</td>\n",
       "      <td>0.0</td>\n",
       "      <td>NaN</td>\n",
       "      <td>NaN</td>\n",
       "      <td>POINT (152886.080 122578.566)</td>\n",
       "      <td>None</td>\n",
       "      <td>1</td>\n",
       "      <td>None</td>\n",
       "      <td>None</td>\n",
       "    </tr>\n",
       "    <tr>\n",
       "      <th>81</th>\n",
       "      <td>0</td>\n",
       "      <td>6</td>\n",
       "      <td>0</td>\n",
       "      <td>40</td>\n",
       "      <td>0</td>\n",
       "      <td>0</td>\n",
       "      <td>0.0</td>\n",
       "      <td>NaN</td>\n",
       "      <td>NaN</td>\n",
       "      <td>POINT (152883.640 122577.576)</td>\n",
       "      <td>None</td>\n",
       "      <td>1</td>\n",
       "      <td>None</td>\n",
       "      <td>None</td>\n",
       "    </tr>\n",
       "    <tr>\n",
       "      <th>82</th>\n",
       "      <td>0</td>\n",
       "      <td>6</td>\n",
       "      <td>0</td>\n",
       "      <td>41</td>\n",
       "      <td>0</td>\n",
       "      <td>0</td>\n",
       "      <td>0.0</td>\n",
       "      <td>NaN</td>\n",
       "      <td>NaN</td>\n",
       "      <td>POINT (152884.220 122576.706)</td>\n",
       "      <td>None</td>\n",
       "      <td>1</td>\n",
       "      <td>None</td>\n",
       "      <td>None</td>\n",
       "    </tr>\n",
       "    <tr>\n",
       "      <th>83</th>\n",
       "      <td>0</td>\n",
       "      <td>0</td>\n",
       "      <td>0</td>\n",
       "      <td>12</td>\n",
       "      <td>0</td>\n",
       "      <td>1</td>\n",
       "      <td>NaN</td>\n",
       "      <td>NaN</td>\n",
       "      <td>NaN</td>\n",
       "      <td>POINT (152888.640 122578.796)</td>\n",
       "      <td>None</td>\n",
       "      <td>1</td>\n",
       "      <td>None</td>\n",
       "      <td>None</td>\n",
       "    </tr>\n",
       "    <tr>\n",
       "      <th>84</th>\n",
       "      <td>0</td>\n",
       "      <td>0</td>\n",
       "      <td>0</td>\n",
       "      <td>14</td>\n",
       "      <td>0</td>\n",
       "      <td>0</td>\n",
       "      <td>NaN</td>\n",
       "      <td>NaN</td>\n",
       "      <td>NaN</td>\n",
       "      <td>POINT (152887.340 122581.006)</td>\n",
       "      <td>None</td>\n",
       "      <td>1</td>\n",
       "      <td>None</td>\n",
       "      <td>None</td>\n",
       "    </tr>\n",
       "  </tbody>\n",
       "</table>\n",
       "<p>85 rows × 14 columns</p>\n",
       "</div>"
      ],
      "text/plain": [
       "    Id  Type  Pilote  Ref  diam  Valid  Syscal  Impo  Inox  \\\n",
       "0    0     1       1  111     2      1     1.0   0.0   1.0   \n",
       "1    0     1       1  120     2      1     1.0   0.0   1.0   \n",
       "2    0     2       1  217     3      1     1.0   1.0   1.0   \n",
       "3    0     1       1  116     2      1     1.0   0.0   1.0   \n",
       "4    0     2       1  214     2      1     1.0   1.0   1.0   \n",
       "..  ..   ...     ...  ...   ...    ...     ...   ...   ...   \n",
       "80   0     5       0   31     0      0     0.0   NaN   NaN   \n",
       "81   0     6       0   40     0      0     0.0   NaN   NaN   \n",
       "82   0     6       0   41     0      0     0.0   NaN   NaN   \n",
       "83   0     0       0   12     0      1     NaN   NaN   NaN   \n",
       "84   0     0       0   14     0      0     NaN   NaN   NaN   \n",
       "\n",
       "                         geometry    new_column  Boreholes Intervals Component  \n",
       "0   POINT (152894.553 122591.406)  Senaatintori          1      None      None  \n",
       "1   POINT (152881.336 122588.077)          None          1      None         0  \n",
       "2   POINT (152885.774 122586.936)          None          1      None      None  \n",
       "3   POINT (152883.804 122589.782)          None          1      None      None  \n",
       "4   POINT (152888.242 122588.641)          None          1      None      None  \n",
       "..                            ...           ...        ...       ...       ...  \n",
       "80  POINT (152886.080 122578.566)          None          1      None      None  \n",
       "81  POINT (152883.640 122577.576)          None          1      None      None  \n",
       "82  POINT (152884.220 122576.706)          None          1      None      None  \n",
       "83  POINT (152888.640 122578.796)          None          1      None      None  \n",
       "84  POINT (152887.340 122581.006)          None          1      None      None  \n",
       "\n",
       "[85 rows x 14 columns]"
      ]
     },
     "execution_count": 64,
     "metadata": {},
     "output_type": "execute_result"
    }
   ],
   "source": [
    "data_from_gpkg"
   ]
  },
  {
   "cell_type": "code",
   "execution_count": 66,
   "metadata": {
    "scrolled": true
   },
   "outputs": [
    {
     "name": "stdout",
     "output_type": "stream",
     "text": [
      "0\n",
      "0\n",
      "0\n",
      "0\n",
      "0\n",
      "0\n",
      "0\n",
      "0\n",
      "0\n",
      "0\n",
      "0\n",
      "0\n",
      "0\n",
      "0\n",
      "0\n",
      "0\n",
      "0\n",
      "0\n",
      "0\n",
      "0\n",
      "0\n",
      "0\n",
      "0\n",
      "0\n",
      "0\n",
      "0\n",
      "0\n",
      "0\n",
      "0\n",
      "0\n",
      "0\n",
      "0\n",
      "0\n",
      "0\n",
      "0\n",
      "0\n",
      "0\n",
      "0\n",
      "0\n",
      "0\n",
      "0\n",
      "0\n",
      "0\n",
      "0\n",
      "0\n",
      "0\n",
      "0\n",
      "0\n",
      "0\n",
      "0\n",
      "0\n",
      "0\n",
      "0\n",
      "0\n",
      "0\n",
      "0\n",
      "0\n",
      "0\n",
      "0\n",
      "0\n",
      "0\n",
      "0\n",
      "0\n",
      "0\n",
      "0\n",
      "0\n",
      "0\n",
      "0\n",
      "0\n",
      "0\n",
      "0\n",
      "0\n",
      "0\n",
      "0\n",
      "0\n",
      "0\n",
      "0\n",
      "0\n",
      "0\n",
      "0\n",
      "0\n",
      "0\n",
      "0\n",
      "0\n",
      "0\n"
     ]
    },
    {
     "name": "stderr",
     "output_type": "stream",
     "text": [
      "/home/gfa/.local/share/virtualenvs/GSDMA2019-F9ES6BKJ/lib/python3.6/site-packages/ipykernel_launcher.py:4: SettingWithCopyWarning: \n",
      "A value is trying to be set on a copy of a slice from a DataFrame\n",
      "\n",
      "See the caveats in the documentation: http://pandas.pydata.org/pandas-docs/stable/user_guide/indexing.html#returning-a-view-versus-a-copy\n",
      "  after removing the cwd from sys.path.\n"
     ]
    },
    {
     "data": {
      "text/html": [
       "<div>\n",
       "<style scoped>\n",
       "    .dataframe tbody tr th:only-of-type {\n",
       "        vertical-align: middle;\n",
       "    }\n",
       "\n",
       "    .dataframe tbody tr th {\n",
       "        vertical-align: top;\n",
       "    }\n",
       "\n",
       "    .dataframe thead th {\n",
       "        text-align: right;\n",
       "    }\n",
       "</style>\n",
       "<table border=\"1\" class=\"dataframe\">\n",
       "  <thead>\n",
       "    <tr style=\"text-align: right;\">\n",
       "      <th></th>\n",
       "      <th>Id</th>\n",
       "      <th>Type</th>\n",
       "      <th>Pilote</th>\n",
       "      <th>Ref</th>\n",
       "      <th>diam</th>\n",
       "      <th>Valid</th>\n",
       "      <th>Syscal</th>\n",
       "      <th>Impo</th>\n",
       "      <th>Inox</th>\n",
       "      <th>geometry</th>\n",
       "      <th>new_column</th>\n",
       "      <th>Boreholes</th>\n",
       "      <th>Intervals</th>\n",
       "      <th>Component</th>\n",
       "    </tr>\n",
       "  </thead>\n",
       "  <tbody>\n",
       "    <tr>\n",
       "      <th>0</th>\n",
       "      <td>0</td>\n",
       "      <td>1</td>\n",
       "      <td>1</td>\n",
       "      <td>111</td>\n",
       "      <td>2</td>\n",
       "      <td>1</td>\n",
       "      <td>1.0</td>\n",
       "      <td>0.0</td>\n",
       "      <td>1.0</td>\n",
       "      <td>POINT (152894.553 122591.406)</td>\n",
       "      <td>Senaatintori</td>\n",
       "      <td>1</td>\n",
       "      <td>None</td>\n",
       "      <td>None</td>\n",
       "    </tr>\n",
       "    <tr>\n",
       "      <th>1</th>\n",
       "      <td>0</td>\n",
       "      <td>1</td>\n",
       "      <td>1</td>\n",
       "      <td>120</td>\n",
       "      <td>2</td>\n",
       "      <td>1</td>\n",
       "      <td>1.0</td>\n",
       "      <td>0.0</td>\n",
       "      <td>1.0</td>\n",
       "      <td>POINT (152881.336 122588.077)</td>\n",
       "      <td>None</td>\n",
       "      <td>1</td>\n",
       "      <td>None</td>\n",
       "      <td>0</td>\n",
       "    </tr>\n",
       "    <tr>\n",
       "      <th>2</th>\n",
       "      <td>0</td>\n",
       "      <td>2</td>\n",
       "      <td>1</td>\n",
       "      <td>217</td>\n",
       "      <td>3</td>\n",
       "      <td>1</td>\n",
       "      <td>1.0</td>\n",
       "      <td>1.0</td>\n",
       "      <td>1.0</td>\n",
       "      <td>POINT (152885.774 122586.936)</td>\n",
       "      <td>None</td>\n",
       "      <td>1</td>\n",
       "      <td>None</td>\n",
       "      <td>None</td>\n",
       "    </tr>\n",
       "    <tr>\n",
       "      <th>3</th>\n",
       "      <td>0</td>\n",
       "      <td>1</td>\n",
       "      <td>1</td>\n",
       "      <td>116</td>\n",
       "      <td>2</td>\n",
       "      <td>1</td>\n",
       "      <td>1.0</td>\n",
       "      <td>0.0</td>\n",
       "      <td>1.0</td>\n",
       "      <td>POINT (152883.804 122589.782)</td>\n",
       "      <td>None</td>\n",
       "      <td>1</td>\n",
       "      <td>None</td>\n",
       "      <td>None</td>\n",
       "    </tr>\n",
       "    <tr>\n",
       "      <th>4</th>\n",
       "      <td>0</td>\n",
       "      <td>2</td>\n",
       "      <td>1</td>\n",
       "      <td>214</td>\n",
       "      <td>2</td>\n",
       "      <td>1</td>\n",
       "      <td>1.0</td>\n",
       "      <td>1.0</td>\n",
       "      <td>1.0</td>\n",
       "      <td>POINT (152888.242 122588.641)</td>\n",
       "      <td>None</td>\n",
       "      <td>1</td>\n",
       "      <td>None</td>\n",
       "      <td>None</td>\n",
       "    </tr>\n",
       "    <tr>\n",
       "      <th>...</th>\n",
       "      <td>...</td>\n",
       "      <td>...</td>\n",
       "      <td>...</td>\n",
       "      <td>...</td>\n",
       "      <td>...</td>\n",
       "      <td>...</td>\n",
       "      <td>...</td>\n",
       "      <td>...</td>\n",
       "      <td>...</td>\n",
       "      <td>...</td>\n",
       "      <td>...</td>\n",
       "      <td>...</td>\n",
       "      <td>...</td>\n",
       "      <td>...</td>\n",
       "    </tr>\n",
       "    <tr>\n",
       "      <th>80</th>\n",
       "      <td>0</td>\n",
       "      <td>5</td>\n",
       "      <td>0</td>\n",
       "      <td>31</td>\n",
       "      <td>0</td>\n",
       "      <td>0</td>\n",
       "      <td>0.0</td>\n",
       "      <td>NaN</td>\n",
       "      <td>NaN</td>\n",
       "      <td>POINT (152886.080 122578.566)</td>\n",
       "      <td>None</td>\n",
       "      <td>1</td>\n",
       "      <td>None</td>\n",
       "      <td>None</td>\n",
       "    </tr>\n",
       "    <tr>\n",
       "      <th>81</th>\n",
       "      <td>0</td>\n",
       "      <td>6</td>\n",
       "      <td>0</td>\n",
       "      <td>40</td>\n",
       "      <td>0</td>\n",
       "      <td>0</td>\n",
       "      <td>0.0</td>\n",
       "      <td>NaN</td>\n",
       "      <td>NaN</td>\n",
       "      <td>POINT (152883.640 122577.576)</td>\n",
       "      <td>None</td>\n",
       "      <td>1</td>\n",
       "      <td>None</td>\n",
       "      <td>None</td>\n",
       "    </tr>\n",
       "    <tr>\n",
       "      <th>82</th>\n",
       "      <td>0</td>\n",
       "      <td>6</td>\n",
       "      <td>0</td>\n",
       "      <td>41</td>\n",
       "      <td>0</td>\n",
       "      <td>0</td>\n",
       "      <td>0.0</td>\n",
       "      <td>NaN</td>\n",
       "      <td>NaN</td>\n",
       "      <td>POINT (152884.220 122576.706)</td>\n",
       "      <td>None</td>\n",
       "      <td>1</td>\n",
       "      <td>None</td>\n",
       "      <td>None</td>\n",
       "    </tr>\n",
       "    <tr>\n",
       "      <th>83</th>\n",
       "      <td>0</td>\n",
       "      <td>0</td>\n",
       "      <td>0</td>\n",
       "      <td>12</td>\n",
       "      <td>0</td>\n",
       "      <td>1</td>\n",
       "      <td>NaN</td>\n",
       "      <td>NaN</td>\n",
       "      <td>NaN</td>\n",
       "      <td>POINT (152888.640 122578.796)</td>\n",
       "      <td>None</td>\n",
       "      <td>1</td>\n",
       "      <td>None</td>\n",
       "      <td>None</td>\n",
       "    </tr>\n",
       "    <tr>\n",
       "      <th>84</th>\n",
       "      <td>0</td>\n",
       "      <td>0</td>\n",
       "      <td>0</td>\n",
       "      <td>14</td>\n",
       "      <td>0</td>\n",
       "      <td>0</td>\n",
       "      <td>NaN</td>\n",
       "      <td>NaN</td>\n",
       "      <td>NaN</td>\n",
       "      <td>POINT (152887.340 122581.006)</td>\n",
       "      <td>None</td>\n",
       "      <td>1</td>\n",
       "      <td>None</td>\n",
       "      <td>None</td>\n",
       "    </tr>\n",
       "  </tbody>\n",
       "</table>\n",
       "<p>85 rows × 14 columns</p>\n",
       "</div>"
      ],
      "text/plain": [
       "    Id  Type  Pilote  Ref  diam  Valid  Syscal  Impo  Inox  \\\n",
       "0    0     1       1  111     2      1     1.0   0.0   1.0   \n",
       "1    0     1       1  120     2      1     1.0   0.0   1.0   \n",
       "2    0     2       1  217     3      1     1.0   1.0   1.0   \n",
       "3    0     1       1  116     2      1     1.0   0.0   1.0   \n",
       "4    0     2       1  214     2      1     1.0   1.0   1.0   \n",
       "..  ..   ...     ...  ...   ...    ...     ...   ...   ...   \n",
       "80   0     5       0   31     0      0     0.0   NaN   NaN   \n",
       "81   0     6       0   40     0      0     0.0   NaN   NaN   \n",
       "82   0     6       0   41     0      0     0.0   NaN   NaN   \n",
       "83   0     0       0   12     0      1     NaN   NaN   NaN   \n",
       "84   0     0       0   14     0      0     NaN   NaN   NaN   \n",
       "\n",
       "                         geometry    new_column  Boreholes Intervals Component  \n",
       "0   POINT (152894.553 122591.406)  Senaatintori          1      None      None  \n",
       "1   POINT (152881.336 122588.077)          None          1      None         0  \n",
       "2   POINT (152885.774 122586.936)          None          1      None      None  \n",
       "3   POINT (152883.804 122589.782)          None          1      None      None  \n",
       "4   POINT (152888.242 122588.641)          None          1      None      None  \n",
       "..                            ...           ...        ...       ...       ...  \n",
       "80  POINT (152886.080 122578.566)          None          1      None      None  \n",
       "81  POINT (152883.640 122577.576)          None          1      None      None  \n",
       "82  POINT (152884.220 122576.706)          None          1      None      None  \n",
       "83  POINT (152888.640 122578.796)          None          1      None      None  \n",
       "84  POINT (152887.340 122581.006)          None          1      None      None  \n",
       "\n",
       "[85 rows x 14 columns]"
      ]
     },
     "execution_count": 66,
     "metadata": {},
     "output_type": "execute_result"
    }
   ],
   "source": [
    "for i in data_from_gpkg[('Id')]:\n",
    "    print (i)\n",
    "    \n",
    "data_from_gpkg[('Component')][1] =0\n",
    "data_from_gpkg"
   ]
  },
  {
   "cell_type": "code",
   "execution_count": 51,
   "metadata": {},
   "outputs": [
    {
     "data": {
      "text/plain": [
       "0     None\n",
       "1        0\n",
       "2     None\n",
       "3     None\n",
       "4     None\n",
       "      ... \n",
       "80    None\n",
       "81    None\n",
       "82    None\n",
       "83    None\n",
       "84    None\n",
       "Name: Component, Length: 85, dtype: object"
      ]
     },
     "execution_count": 51,
     "metadata": {},
     "output_type": "execute_result"
    }
   ],
   "source": [
    "data_from_gpkg[('Component')]"
   ]
  },
  {
   "cell_type": "code",
   "execution_count": 52,
   "metadata": {
    "scrolled": true
   },
   "outputs": [
    {
     "ename": "SyntaxError",
     "evalue": "invalid syntax (<ipython-input-52-44078994efd8>, line 3)",
     "output_type": "error",
     "traceback": [
      "\u001b[0;36m  File \u001b[0;32m\"<ipython-input-52-44078994efd8>\"\u001b[0;36m, line \u001b[0;32m3\u001b[0m\n\u001b[0;31m    data_from_gpkg[('Component')][i] =\u001b[0m\n\u001b[0m                                       ^\u001b[0m\n\u001b[0;31mSyntaxError\u001b[0m\u001b[0;31m:\u001b[0m invalid syntax\n"
     ]
    }
   ],
   "source": [
    "for row in cursor.execute(\"SELECT * from Component\"):\n",
    "    for i in data_from_gpkg[('Component')]:\n",
    "        data_from_gpkg[('Component')][i] = \n",
    "    #print (row)\n",
    "    #data_from_gpkg[('Component')]  = row"
   ]
  },
  {
   "cell_type": "code",
   "execution_count": 53,
   "metadata": {
    "scrolled": true
   },
   "outputs": [
    {
     "name": "stdout",
     "output_type": "stream",
     "text": [
      "('F25', 0.0, 1.5, 'lithology', 'remblais')\n",
      "('F25', 0.0, 1.5, 'color', 'brun')\n",
      "('F25', 1.5, 4.0, 'lithology', 'remblais')\n",
      "('F25', 1.5, 4.0, 'color', 'ocre')\n",
      "('F25', 4.0, 6.0, 'lithology', 'silt')\n",
      "('F25', 4.0, 6.0, 'color', 'gris')\n",
      "('F25', 0.0, 1.5, 'lithology', 'remblais')\n",
      "('F25', 0.0, 1.5, 'color', 'brun')\n",
      "('F25', 1.5, 4.0, 'lithology', 'remblais')\n",
      "('F25', 1.5, 4.0, 'color', 'ocre')\n",
      "('F25', 4.0, 6.0, 'lithology', 'silt')\n",
      "('F25', 4.0, 6.0, 'color', 'gris')\n",
      "('F25', 0.0, 1.5, 'lithology', 'remblais')\n",
      "('F25', 0.0, 1.5, 'color', 'brun')\n",
      "('F25', 1.5, 4.0, 'lithology', 'remblais')\n",
      "('F25', 1.5, 4.0, 'color', 'ocre')\n",
      "('F25', 4.0, 6.0, 'lithology', 'silt')\n",
      "('F25', 4.0, 6.0, 'color', 'gris')\n",
      "('F25', 0.0, 1.5, 'lithology', 'remblais')\n",
      "('F25', 0.0, 1.5, 'color', 'brun')\n",
      "('F25', 1.5, 4.0, 'lithology', 'remblais')\n",
      "('F25', 1.5, 4.0, 'color', 'ocre')\n",
      "('F25', 4.0, 6.0, 'lithology', 'silt')\n",
      "('F25', 4.0, 6.0, 'color', 'gris')\n",
      "('F25', 0.0, 1.5, 'lithology', 'remblais')\n",
      "('F25', 0.0, 1.5, 'color', 'brun')\n",
      "('F25', 1.5, 4.0, 'lithology', 'remblais')\n",
      "('F25', 1.5, 4.0, 'color', 'ocre')\n",
      "('F25', 4.0, 6.0, 'lithology', 'silt')\n",
      "('F25', 4.0, 6.0, 'color', 'gris')\n",
      "('F25', 0.0, 1.5, 'lithology', 'remblais')\n",
      "('F25', 0.0, 1.5, 'color', 'brun')\n",
      "('F25', 1.5, 4.0, 'lithology', 'remblais')\n",
      "('F25', 1.5, 4.0, 'color', 'ocre')\n",
      "('F25', 4.0, 6.0, 'lithology', 'silt')\n",
      "('F25', 4.0, 6.0, 'color', 'gris')\n",
      "('F25', 0.0, 1.5, 'lithology', 'remblais')\n",
      "('F25', 0.0, 1.5, 'color', 'brun')\n",
      "('F25', 1.5, 4.0, 'lithology', 'remblais')\n",
      "('F25', 1.5, 4.0, 'color', 'ocre')\n",
      "('F25', 4.0, 6.0, 'lithology', 'silt')\n",
      "('F25', 4.0, 6.0, 'color', 'gris')\n",
      "('F25', 0.0, 1.5, 'lithology', 'remblais')\n",
      "('F25', 0.0, 1.5, 'color', 'brun')\n",
      "('F25', 1.5, 4.0, 'lithology', 'remblais')\n",
      "('F25', 1.5, 4.0, 'color', 'ocre')\n",
      "('F25', 4.0, 6.0, 'lithology', 'silt')\n",
      "('F25', 4.0, 6.0, 'color', 'gris')\n",
      "('F25', 0.0, 1.5, 'lithology', 'remblais')\n",
      "('F25', 0.0, 1.5, 'color', 'brun')\n",
      "('F25', 1.5, 4.0, 'lithology', 'remblais')\n",
      "('F25', 1.5, 4.0, 'color', 'ocre')\n",
      "('F25', 4.0, 6.0, 'lithology', 'silt')\n",
      "('F25', 4.0, 6.0, 'color', 'gris')\n",
      "('F25', 0.0, 1.5, 'lithology', 'remblais')\n",
      "('F25', 0.0, 1.5, 'color', 'brun')\n",
      "('F25', 1.5, 4.0, 'lithology', 'remblais')\n",
      "('F25', 1.5, 4.0, 'color', 'ocre')\n",
      "('F25', 4.0, 6.0, 'lithology', 'silt')\n",
      "('F25', 4.0, 6.0, 'color', 'gris')\n",
      "('F25', 0.0, 1.5, 'lithology', 'remblais')\n",
      "('F25', 0.0, 1.5, 'color', 'brun')\n",
      "('F25', 1.5, 4.0, 'lithology', 'remblais')\n",
      "('F25', 1.5, 4.0, 'color', 'ocre')\n",
      "('F25', 4.0, 6.0, 'lithology', 'silt')\n",
      "('F25', 4.0, 6.0, 'color', 'gris')\n",
      "('F25', 0.0, 1.5, 'lithology', 'remblais')\n",
      "('F25', 0.0, 1.5, 'color', 'brun')\n",
      "('F25', 1.5, 4.0, 'lithology', 'remblais')\n",
      "('F25', 1.5, 4.0, 'color', 'ocre')\n",
      "('F25', 4.0, 6.0, 'lithology', 'silt')\n",
      "('F25', 4.0, 6.0, 'color', 'gris')\n",
      "('F25', 0.0, 1.5, 'lithology', 'remblais')\n",
      "('F25', 0.0, 1.5, 'color', 'brun')\n",
      "('F25', 1.5, 4.0, 'lithology', 'remblais')\n",
      "('F25', 1.5, 4.0, 'color', 'ocre')\n",
      "('F25', 4.0, 6.0, 'lithology', 'silt')\n",
      "('F25', 4.0, 6.0, 'color', 'gris')\n"
     ]
    }
   ],
   "source": [
    "for row in cursor.execute(\"SELECT * from Component\"):\n",
    "    print(row)"
   ]
  },
  {
   "cell_type": "code",
   "execution_count": 69,
   "metadata": {
    "scrolled": true
   },
   "outputs": [
    {
     "name": "stdout",
     "output_type": "stream",
     "text": [
      "<class 'tuple'>\n",
      "<class 'tuple'>\n",
      "<class 'tuple'>\n",
      "<class 'tuple'>\n",
      "<class 'tuple'>\n",
      "<class 'tuple'>\n",
      "<class 'tuple'>\n",
      "<class 'tuple'>\n",
      "<class 'tuple'>\n",
      "<class 'tuple'>\n",
      "<class 'tuple'>\n",
      "<class 'tuple'>\n",
      "<class 'tuple'>\n",
      "<class 'tuple'>\n",
      "<class 'tuple'>\n",
      "<class 'tuple'>\n",
      "<class 'tuple'>\n",
      "<class 'tuple'>\n",
      "<class 'tuple'>\n",
      "<class 'tuple'>\n",
      "<class 'tuple'>\n",
      "<class 'tuple'>\n",
      "<class 'tuple'>\n",
      "<class 'tuple'>\n",
      "<class 'tuple'>\n",
      "<class 'tuple'>\n",
      "<class 'tuple'>\n",
      "<class 'tuple'>\n",
      "<class 'tuple'>\n",
      "<class 'tuple'>\n",
      "<class 'tuple'>\n",
      "<class 'tuple'>\n",
      "<class 'tuple'>\n",
      "<class 'tuple'>\n",
      "<class 'tuple'>\n",
      "<class 'tuple'>\n",
      "<class 'tuple'>\n",
      "<class 'tuple'>\n",
      "<class 'tuple'>\n",
      "<class 'tuple'>\n",
      "<class 'tuple'>\n",
      "<class 'tuple'>\n",
      "<class 'tuple'>\n",
      "<class 'tuple'>\n",
      "<class 'tuple'>\n",
      "<class 'tuple'>\n",
      "<class 'tuple'>\n",
      "<class 'tuple'>\n",
      "<class 'tuple'>\n",
      "<class 'tuple'>\n",
      "<class 'tuple'>\n",
      "<class 'tuple'>\n",
      "<class 'tuple'>\n",
      "<class 'tuple'>\n",
      "<class 'tuple'>\n",
      "<class 'tuple'>\n",
      "<class 'tuple'>\n",
      "<class 'tuple'>\n",
      "<class 'tuple'>\n",
      "<class 'tuple'>\n",
      "<class 'tuple'>\n",
      "<class 'tuple'>\n",
      "<class 'tuple'>\n",
      "<class 'tuple'>\n",
      "<class 'tuple'>\n",
      "<class 'tuple'>\n",
      "<class 'tuple'>\n",
      "<class 'tuple'>\n",
      "<class 'tuple'>\n",
      "<class 'tuple'>\n",
      "<class 'tuple'>\n",
      "<class 'tuple'>\n",
      "<class 'tuple'>\n",
      "<class 'tuple'>\n",
      "<class 'tuple'>\n",
      "<class 'tuple'>\n",
      "<class 'tuple'>\n",
      "<class 'tuple'>\n"
     ]
    }
   ],
   "source": [
    "for row in cursor.execute(\"SELECT * from Component\"):\n",
    "    print(type(row))"
   ]
  },
  {
   "cell_type": "markdown",
   "metadata": {},
   "source": [
    "## writing  "
   ]
  },
  {
   "cell_type": "markdown",
   "metadata": {},
   "source": [
    "type geopandas.geodataframe.GeoDataFrame"
   ]
  },
  {
   "cell_type": "markdown",
   "metadata": {},
   "source": [
    "data_shp"
   ]
  },
  {
   "cell_type": "code",
   "execution_count": 55,
   "metadata": {},
   "outputs": [
    {
     "data": {
      "text/plain": [
       "0     1\n",
       "1     1\n",
       "2     1\n",
       "3     1\n",
       "4     1\n",
       "     ..\n",
       "80    0\n",
       "81    0\n",
       "82    0\n",
       "83    0\n",
       "84    0\n",
       "Name: Pilote, Length: 85, dtype: int64"
      ]
     },
     "execution_count": 55,
     "metadata": {},
     "output_type": "execute_result"
    }
   ],
   "source": [
    "data_shp['Pilote']"
   ]
  },
  {
   "cell_type": "code",
   "execution_count": null,
   "metadata": {},
   "outputs": [],
   "source": []
  },
  {
   "cell_type": "code",
   "execution_count": 71,
   "metadata": {},
   "outputs": [
    {
     "data": {
      "text/plain": [
       "geopandas.geodataframe.GeoDataFrame"
      ]
     },
     "execution_count": 71,
     "metadata": {},
     "output_type": "execute_result"
    }
   ],
   "source": [
    "type(data_from_gpkg_84)"
   ]
  },
  {
   "cell_type": "code",
   "execution_count": null,
   "metadata": {},
   "outputs": [],
   "source": []
  },
  {
   "cell_type": "code",
   "execution_count": null,
   "metadata": {},
   "outputs": [],
   "source": []
  },
  {
   "cell_type": "code",
   "execution_count": 56,
   "metadata": {
    "scrolled": true
   },
   "outputs": [
    {
     "name": "stdout",
     "output_type": "stream",
     "text": [
      "0     None\n",
      "1        0\n",
      "2     None\n",
      "3     None\n",
      "4     None\n",
      "      ... \n",
      "80    None\n",
      "81    None\n",
      "82    None\n",
      "83    None\n",
      "84    None\n",
      "Name: Component, Length: 85, dtype: object\n",
      "('F25', 0.0, 1.5, 'lithology', 'remblais')\n",
      "1\n",
      "('F25', 0.0, 1.5, 'color', 'brun')\n",
      "2\n",
      "('F25', 1.5, 4.0, 'lithology', 'remblais')\n",
      "3\n",
      "('F25', 1.5, 4.0, 'color', 'ocre')\n",
      "4\n",
      "('F25', 4.0, 6.0, 'lithology', 'silt')\n",
      "5\n",
      "('F25', 4.0, 6.0, 'color', 'gris')\n",
      "6\n",
      "('F25', 0.0, 1.5, 'lithology', 'remblais')\n",
      "7\n",
      "('F25', 0.0, 1.5, 'color', 'brun')\n",
      "8\n",
      "('F25', 1.5, 4.0, 'lithology', 'remblais')\n",
      "9\n",
      "('F25', 1.5, 4.0, 'color', 'ocre')\n",
      "10\n",
      "('F25', 4.0, 6.0, 'lithology', 'silt')\n",
      "11\n",
      "('F25', 4.0, 6.0, 'color', 'gris')\n",
      "12\n",
      "('F25', 0.0, 1.5, 'lithology', 'remblais')\n",
      "13\n",
      "('F25', 0.0, 1.5, 'color', 'brun')\n",
      "14\n",
      "('F25', 1.5, 4.0, 'lithology', 'remblais')\n",
      "15\n",
      "('F25', 1.5, 4.0, 'color', 'ocre')\n",
      "16\n",
      "('F25', 4.0, 6.0, 'lithology', 'silt')\n",
      "17\n",
      "('F25', 4.0, 6.0, 'color', 'gris')\n",
      "18\n",
      "('F25', 0.0, 1.5, 'lithology', 'remblais')\n",
      "19\n",
      "('F25', 0.0, 1.5, 'color', 'brun')\n",
      "20\n",
      "('F25', 1.5, 4.0, 'lithology', 'remblais')\n",
      "21\n",
      "('F25', 1.5, 4.0, 'color', 'ocre')\n",
      "22\n",
      "('F25', 4.0, 6.0, 'lithology', 'silt')\n",
      "23\n",
      "('F25', 4.0, 6.0, 'color', 'gris')\n",
      "24\n",
      "('F25', 0.0, 1.5, 'lithology', 'remblais')\n",
      "25\n",
      "('F25', 0.0, 1.5, 'color', 'brun')\n",
      "26\n",
      "('F25', 1.5, 4.0, 'lithology', 'remblais')\n",
      "27\n",
      "('F25', 1.5, 4.0, 'color', 'ocre')\n",
      "28\n",
      "('F25', 4.0, 6.0, 'lithology', 'silt')\n",
      "29\n",
      "('F25', 4.0, 6.0, 'color', 'gris')\n",
      "30\n",
      "('F25', 0.0, 1.5, 'lithology', 'remblais')\n",
      "31\n",
      "('F25', 0.0, 1.5, 'color', 'brun')\n",
      "32\n",
      "('F25', 1.5, 4.0, 'lithology', 'remblais')\n",
      "33\n",
      "('F25', 1.5, 4.0, 'color', 'ocre')\n",
      "34\n",
      "('F25', 4.0, 6.0, 'lithology', 'silt')\n",
      "35\n",
      "('F25', 4.0, 6.0, 'color', 'gris')\n",
      "36\n",
      "('F25', 0.0, 1.5, 'lithology', 'remblais')\n",
      "37\n",
      "('F25', 0.0, 1.5, 'color', 'brun')\n",
      "38\n",
      "('F25', 1.5, 4.0, 'lithology', 'remblais')\n",
      "39\n",
      "('F25', 1.5, 4.0, 'color', 'ocre')\n",
      "40\n",
      "('F25', 4.0, 6.0, 'lithology', 'silt')\n",
      "41\n",
      "('F25', 4.0, 6.0, 'color', 'gris')\n",
      "42\n",
      "('F25', 0.0, 1.5, 'lithology', 'remblais')\n",
      "43\n",
      "('F25', 0.0, 1.5, 'color', 'brun')\n",
      "44\n",
      "('F25', 1.5, 4.0, 'lithology', 'remblais')\n",
      "45\n",
      "('F25', 1.5, 4.0, 'color', 'ocre')\n",
      "46\n",
      "('F25', 4.0, 6.0, 'lithology', 'silt')\n",
      "47\n",
      "('F25', 4.0, 6.0, 'color', 'gris')\n",
      "48\n",
      "('F25', 0.0, 1.5, 'lithology', 'remblais')\n",
      "49\n",
      "('F25', 0.0, 1.5, 'color', 'brun')\n",
      "50\n",
      "('F25', 1.5, 4.0, 'lithology', 'remblais')\n",
      "51\n",
      "('F25', 1.5, 4.0, 'color', 'ocre')\n",
      "52\n",
      "('F25', 4.0, 6.0, 'lithology', 'silt')\n",
      "53\n",
      "('F25', 4.0, 6.0, 'color', 'gris')\n",
      "54\n",
      "('F25', 0.0, 1.5, 'lithology', 'remblais')\n",
      "55\n",
      "('F25', 0.0, 1.5, 'color', 'brun')\n",
      "56\n",
      "('F25', 1.5, 4.0, 'lithology', 'remblais')\n",
      "57\n",
      "('F25', 1.5, 4.0, 'color', 'ocre')\n",
      "58\n",
      "('F25', 4.0, 6.0, 'lithology', 'silt')\n",
      "59\n",
      "('F25', 4.0, 6.0, 'color', 'gris')\n",
      "60\n",
      "('F25', 0.0, 1.5, 'lithology', 'remblais')\n",
      "61\n",
      "('F25', 0.0, 1.5, 'color', 'brun')\n",
      "62\n",
      "('F25', 1.5, 4.0, 'lithology', 'remblais')\n",
      "63\n",
      "('F25', 1.5, 4.0, 'color', 'ocre')\n",
      "64\n",
      "('F25', 4.0, 6.0, 'lithology', 'silt')\n",
      "65\n",
      "('F25', 4.0, 6.0, 'color', 'gris')\n",
      "66\n",
      "('F25', 0.0, 1.5, 'lithology', 'remblais')\n",
      "67\n",
      "('F25', 0.0, 1.5, 'color', 'brun')\n",
      "68\n",
      "('F25', 1.5, 4.0, 'lithology', 'remblais')\n",
      "69\n",
      "('F25', 1.5, 4.0, 'color', 'ocre')\n",
      "70\n",
      "('F25', 4.0, 6.0, 'lithology', 'silt')\n",
      "71\n",
      "('F25', 4.0, 6.0, 'color', 'gris')\n",
      "72\n",
      "('F25', 0.0, 1.5, 'lithology', 'remblais')\n",
      "73\n",
      "('F25', 0.0, 1.5, 'color', 'brun')\n",
      "74\n",
      "('F25', 1.5, 4.0, 'lithology', 'remblais')\n",
      "75\n",
      "('F25', 1.5, 4.0, 'color', 'ocre')\n",
      "76\n",
      "('F25', 4.0, 6.0, 'lithology', 'silt')\n",
      "77\n",
      "('F25', 4.0, 6.0, 'color', 'gris')\n",
      "78\n"
     ]
    }
   ],
   "source": [
    "print(data_from_gpkg[('Component')])\n",
    "c=0\n",
    "for row in cursor.execute(\"SELECT * from Component\"):\n",
    "    c=c+1\n",
    "    print(row)\n",
    "    print(c)"
   ]
  },
  {
   "cell_type": "code",
   "execution_count": 57,
   "metadata": {
    "scrolled": true
   },
   "outputs": [
    {
     "name": "stdout",
     "output_type": "stream",
     "text": [
      "('F10',)\n",
      "1\n",
      "('F11',)\n",
      "2\n",
      "('F12',)\n",
      "3\n",
      "('F13',)\n",
      "4\n",
      "('F14',)\n",
      "5\n",
      "('F15',)\n",
      "6\n",
      "('F16',)\n",
      "7\n",
      "('F20',)\n",
      "8\n",
      "('F21',)\n",
      "9\n",
      "('F22',)\n",
      "10\n",
      "('F23',)\n",
      "11\n",
      "('F24',)\n",
      "12\n",
      "('F25',)\n",
      "13\n"
     ]
    }
   ],
   "source": [
    "cc=0\n",
    "for row in cursor.execute(\"SELECT * from Boreholes\"):\n",
    "    cc=cc+1\n",
    "    print(row)\n",
    "    print(cc)"
   ]
  },
  {
   "cell_type": "code",
   "execution_count": 58,
   "metadata": {
    "scrolled": true
   },
   "outputs": [
    {
     "name": "stdout",
     "output_type": "stream",
     "text": [
      "('F10', 0.0, 1.5, 'remblais non-saturés')\n",
      "1\n",
      "('F10', 1.5, 4.0, 'remblais saturés')\n",
      "2\n",
      "('F10', 4.0, 6.0, 'alluvions')\n",
      "3\n",
      "('F11', 0.0, 1.5, 'remblais non-saturés')\n",
      "4\n",
      "('F11', 1.5, 4.0, 'remblais saturés')\n",
      "5\n",
      "('F11', 4.0, 6.0, 'alluvions')\n",
      "6\n",
      "('F12', 0.0, 1.5, 'remblais non-saturés')\n",
      "7\n",
      "('F12', 1.5, 4.0, 'remblais saturés')\n",
      "8\n",
      "('F12', 4.0, 6.0, 'alluvions')\n",
      "9\n",
      "('F13', 0.0, 1.5, 'remblais non-saturés')\n",
      "10\n",
      "('F13', 1.5, 4.0, 'remblais saturés')\n",
      "11\n",
      "('F13', 4.0, 6.0, 'alluvions')\n",
      "12\n",
      "('F14', 0.0, 1.5, 'remblais non-saturés')\n",
      "13\n",
      "('F14', 1.5, 4.0, 'remblais saturés')\n",
      "14\n",
      "('F14', 4.0, 6.0, 'alluvions')\n",
      "15\n",
      "('F15', 0.0, 1.5, 'remblais non-saturés')\n",
      "16\n",
      "('F15', 1.5, 4.0, 'remblais saturés')\n",
      "17\n",
      "('F15', 4.0, 6.0, 'alluvions')\n",
      "18\n",
      "('F16', 0.0, 1.5, 'remblais non-saturés')\n",
      "19\n",
      "('F16', 1.5, 4.0, 'remblais saturés')\n",
      "20\n",
      "('F16', 4.0, 6.0, 'alluvions')\n",
      "21\n",
      "('F20', 0.0, 1.5, 'remblais non-saturés')\n",
      "22\n",
      "('F20', 1.5, 4.0, 'remblais saturés')\n",
      "23\n",
      "('F20', 4.0, 6.0, 'alluvions')\n",
      "24\n",
      "('F21', 0.0, 1.5, 'remblais non-saturés')\n",
      "25\n",
      "('F21', 1.5, 4.0, 'remblais saturés')\n",
      "26\n",
      "('F21', 4.0, 6.0, 'alluvions')\n",
      "27\n",
      "('F22', 0.0, 1.5, 'remblais non-saturés')\n",
      "28\n",
      "('F22', 1.5, 4.0, 'remblais saturés')\n",
      "29\n",
      "('F22', 4.0, 6.0, 'alluvions')\n",
      "30\n",
      "('F23', 0.0, 1.5, 'remblais non-saturés')\n",
      "31\n",
      "('F23', 1.5, 4.0, 'remblais saturés')\n",
      "32\n",
      "('F23', 4.0, 6.0, 'alluvions')\n",
      "33\n",
      "('F24', 0.0, 1.5, 'remblais non-saturés')\n",
      "34\n",
      "('F24', 1.5, 4.0, 'remblais saturés')\n",
      "35\n",
      "('F24', 4.0, 6.0, 'alluvions')\n",
      "36\n",
      "('F25', 0.0, 1.5, 'remblais non-saturés')\n",
      "37\n",
      "('F25', 1.5, 4.0, 'remblais saturés')\n",
      "38\n",
      "('F25', 4.0, 6.0, 'alluvions')\n",
      "39\n"
     ]
    }
   ],
   "source": [
    "ccc=0\n",
    "for row in cursor.execute(\"SELECT * from Intervals\"):\n",
    "    ccc=ccc+1\n",
    "    print(row)\n",
    "    print(ccc)"
   ]
  },
  {
   "cell_type": "code",
   "execution_count": null,
   "metadata": {},
   "outputs": [],
   "source": []
  },
  {
   "cell_type": "code",
   "execution_count": null,
   "metadata": {},
   "outputs": [],
   "source": []
  },
  {
   "cell_type": "code",
   "execution_count": null,
   "metadata": {},
   "outputs": [],
   "source": []
  },
  {
   "cell_type": "code",
   "execution_count": null,
   "metadata": {},
   "outputs": [],
   "source": []
  },
  {
   "cell_type": "code",
   "execution_count": null,
   "metadata": {},
   "outputs": [],
   "source": []
  },
  {
   "cell_type": "code",
   "execution_count": null,
   "metadata": {},
   "outputs": [],
   "source": []
  }
 ],
 "metadata": {
  "kernelspec": {
   "display_name": "Python 3",
   "language": "python",
   "name": "python3"
  },
  "language_info": {
   "codemirror_mode": {
    "name": "ipython",
    "version": 3
   },
   "file_extension": ".py",
   "mimetype": "text/x-python",
   "name": "python",
   "nbconvert_exporter": "python",
   "pygments_lexer": "ipython3",
   "version": "3.6.8"
  }
 },
 "nbformat": 4,
 "nbformat_minor": 2
}

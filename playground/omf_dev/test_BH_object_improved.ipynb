{
 "cells": [
  {
   "cell_type": "markdown",
   "metadata": {},
   "source": [
    "## Creation of Borehole object"
   ]
  },
  {
   "cell_type": "code",
   "execution_count": 3,
   "metadata": {},
   "outputs": [],
   "source": [
    "%matplotlib inline\n",
    "\n",
    "from striplog import Striplog, Legend, Lexicon, Interval, Component, Position\n",
    "import pyvista as pv, geopandas as gpd, pandas as pd, scipy, numpy as np\n",
    "import matplotlib.pyplot as plt, omfvista as ov, omf\n",
    "import sqlite3\n",
    "from sqlite3 import Error\n",
    "\n",
    "from utils import read_flat_files\n",
    "from utils.db_tools import boreholes_dict_to_sqlite3_db, create_connection\n",
    "from utils.strip_vista import build_strip_from_list as build_log, add_interval_list"
   ]
  },
  {
   "cell_type": "code",
   "execution_count": 167,
   "metadata": {},
   "outputs": [],
   "source": [
    "class Borehole(omf.lineset.LineSetElement, Striplog):\n",
    "    #-------------------------------Docstring--------------------------------------------\n",
    "    \"\"\"\n",
    "        \n",
    "    \"\"\"\n",
    "    \n",
    "    #------------------------------ Properties -------------------------------------------\n",
    "    def __init__ (self, geom=None, intv=None, name='', database = 'default.db'): #, *itv_list): \n",
    "        if geom is None :\n",
    "            geom=omf.lineset.LineSetGeometry(vertices=[[0,0,0], [0,0,0]],segments=[[0,1]])\n",
    "            print(\"Pay attention that a default geometry is actually used !\")\n",
    "        else:\n",
    "            geom=self.build_geometry()\n",
    "            \n",
    "            \n",
    "        if intv is None:\n",
    "            lexicon=Lexicon.default()\n",
    "            with open('test.las', 'r') as las3:\n",
    "                default_intv=Striplog.from_las3(las3.read(), lexicon)\n",
    "                intv = list(default_intv)\n",
    "            print(\"Pay attention that default intervals are actually used !\")\n",
    "        else:\n",
    "            #lexicon=\n",
    "            print(\"intervals created\")\n",
    "            \n",
    "        # instanciation with supers properties\n",
    "        omf.lineset.LineSetElement.__init__(self, name=name, geometry=geom, subtype=\"borehole\")\n",
    "        Striplog.__init__(self, list_of_Intervals=intv)\n",
    "        \n",
    "        #self.uid=uuid #get a unique for identification of borehole in the project\n",
    "        self.name = name\n",
    "        self.__db = None\n",
    "        self.dfs = None\n",
    "        self.geometry=geom\n",
    "        self.intervals=intv\n",
    "        self.database = database\n",
    "        \n",
    "        try:\n",
    "            self.read_db_bh()\n",
    "        except:\n",
    "            msg = f'Error: Unable to open database {self.database:s}'\n",
    "            print(msg)\n",
    "        print(f'\\nBorehole {name:s} created')\n",
    "        \n",
    "    @property\n",
    "    def database(self):\n",
    "        return self.__db\n",
    "    \n",
    "    @database.setter\n",
    "    def database(self, database):\n",
    "        assert(isinstance(database, str))\n",
    "        self.__db = database\n",
    "        print(f\"the default database has been changed to {self.__db} !\")\n",
    "    \n",
    "    #----------------------------------------- Methods ------------------------------------------------------\n",
    "    def read_db_bh(self):\n",
    "        conn = create_connection(self.database)\n",
    "        tables = ['Boreholes', 'Components', 'Intervals', 'Lexicon'] # table names in the database\n",
    "        dfs = {}\n",
    "        with conn:\n",
    "            for i in tables:\n",
    "                print(f\"---{i:s} data--- \")\n",
    "                sql_cmd = f\"SELECT * FROM {i:s}\" # WHERE Borehole=={self.name:s}\" # to select the data of the table Boreholes\n",
    "                print(sql_cmd)\n",
    "                dfs.update({i:  pd.read_sql(sql_cmd, conn)})\n",
    "        self.dfs = dfs\n",
    "    \n",
    "    def build_striplog(self, itv=None):\n",
    "        \n",
    "        \n",
    "        return self.striplog\n",
    "    \n",
    "    def stripBH(self, legend=\"default\", title=False): # must be integrated in plot() ever present in Striplog\n",
    "        if legend==\"default\":\n",
    "            try:\n",
    "                file='../legend_GSDMA.csv'\n",
    "                with open(file) as f:\n",
    "                    legend = Legend.from_csv(filename=file)\n",
    "            except FileNotFoundError:\n",
    "                print(f\"The default legend file ({file:s}) not found, please give another legend description file !\")\n",
    "            \n",
    "        strip_bh=Striplog(build_log(self.name, self.dfs))\n",
    "        \n",
    "        fig, axs = plt.subplots(ncols=2, sharey=True)\n",
    "        axs[0] = strip_bh.plot(ax=axs[0], legend=legend, ladder=True, aspect=2, alpha=0.7, lw=2, ticks=1) #alpha to highlight overlaps\n",
    "        axs[1] = strip_bh.plot_tops(axs[1], field='lithology')\n",
    "        axs[1].axis('off')\n",
    "        if title==True:\n",
    "            fig.suptitle(self.name, fontsize=20, x=0.3, y=1)\n",
    "        \n",
    "        fig.savefig(f\"Striplog_{self.name:s}.png\")\n",
    "        plt.show()\n",
    "        plt.close('all')\n",
    "        \n",
    "        \n",
    "    def build_geometry(self, bh_itv=None):\n",
    "        if bh_itv is None:\n",
    "            bh_itv=bh.dfs['Intervals'].query(\"borehole=='{name:s}'\".format(name=self.name))\n",
    "            \n",
    "        x, y=0.5, 0.5 # we must use Borehole x,y coordinates here !!!\n",
    "        vert, vertices, segments =[],[], []\n",
    "\n",
    "        for i, j in bh_itv.iterrows():\n",
    "            if not bh_itv.loc[i, 'top'] in vert:\n",
    "                vert.append(bh_itv.loc[i, 'top'])\n",
    "\n",
    "            if not bh_itv.loc[i, 'base'] in vert:\n",
    "                vert.append(bh_itv.loc[i, 'base'])\n",
    "\n",
    "        for z in vert:\n",
    "            vertices.append([x,y,z])\n",
    "\n",
    "        vertices=np.array(vertices)\n",
    "\n",
    "        for l in np.arange(1,len(vertices)):\n",
    "            segments.append([l-1,l])\n",
    "\n",
    "        segments=np.array(segments)\n",
    "        self.geometry=omf.lineset.LineSetGeometry(vertices=vertices,segments=segments)\n",
    "        print(\"Borehole geometry created successfully !\")\n",
    "        \n",
    "        return self.geometry\n",
    "        \n",
    "    def store_in_db(self):\n",
    "         print(f\"---Borehole {self.name:s} has been stored in project database--- \")\n",
    "        \n",
    "    def triDim_plot(self):\n",
    "        return ov.line_set_to_vtk(bh).plot()"
   ]
  },
  {
   "cell_type": "code",
   "execution_count": 169,
   "metadata": {
    "collapsed": true
   },
   "outputs": [
    {
     "name": "stdout",
     "output_type": "stream",
     "text": [
      "Pay attention that a default geometry is actually used !\n",
      "Pay attention that default intervals are actually used !\n",
      "the default database has been changed to ../project_database.db !\n",
      "---Boreholes data--- \n",
      "SELECT * FROM Boreholes\n",
      "---Components data--- \n",
      "SELECT * FROM Components\n",
      "---Intervals data--- \n",
      "SELECT * FROM Intervals\n",
      "---Lexicon data--- \n",
      "SELECT * FROM Lexicon\n",
      "\n",
      "Borehole F25 created\n"
     ]
    }
   ],
   "source": [
    "bh = Borehole(geom=None, name='F25', database = '../project_database.db')"
   ]
  },
  {
   "cell_type": "code",
   "execution_count": 191,
   "metadata": {},
   "outputs": [
    {
     "name": "stdout",
     "output_type": "stream",
     "text": [
      "borehole.dfs: dict_keys(['Boreholes', 'Components', 'Intervals', 'Lexicon'])\n"
     ]
    }
   ],
   "source": [
    "print(\"borehole.dfs:\",bh.dfs.keys())"
   ]
  },
  {
   "cell_type": "code",
   "execution_count": 194,
   "metadata": {},
   "outputs": [
    {
     "data": {
      "text/html": [
       "<div>\n",
       "<style scoped>\n",
       "    .dataframe tbody tr th:only-of-type {\n",
       "        vertical-align: middle;\n",
       "    }\n",
       "\n",
       "    .dataframe tbody tr th {\n",
       "        vertical-align: top;\n",
       "    }\n",
       "\n",
       "    .dataframe thead th {\n",
       "        text-align: right;\n",
       "    }\n",
       "</style>\n",
       "<table border=\"1\" class=\"dataframe\">\n",
       "  <thead>\n",
       "    <tr style=\"text-align: right;\">\n",
       "      <th></th>\n",
       "      <th>borehole</th>\n",
       "      <th>top</th>\n",
       "      <th>base</th>\n",
       "      <th>description</th>\n",
       "    </tr>\n",
       "  </thead>\n",
       "  <tbody>\n",
       "    <tr>\n",
       "      <th>0</th>\n",
       "      <td>F10</td>\n",
       "      <td>0.0</td>\n",
       "      <td>1.5</td>\n",
       "      <td>remblais non-saturés</td>\n",
       "    </tr>\n",
       "    <tr>\n",
       "      <th>1</th>\n",
       "      <td>F10</td>\n",
       "      <td>1.5</td>\n",
       "      <td>4.0</td>\n",
       "      <td>remblais saturés</td>\n",
       "    </tr>\n",
       "    <tr>\n",
       "      <th>2</th>\n",
       "      <td>F10</td>\n",
       "      <td>4.0</td>\n",
       "      <td>6.0</td>\n",
       "      <td>alluvions</td>\n",
       "    </tr>\n",
       "    <tr>\n",
       "      <th>3</th>\n",
       "      <td>F11</td>\n",
       "      <td>0.0</td>\n",
       "      <td>1.5</td>\n",
       "      <td>remblais non-saturés</td>\n",
       "    </tr>\n",
       "    <tr>\n",
       "      <th>4</th>\n",
       "      <td>F11</td>\n",
       "      <td>1.5</td>\n",
       "      <td>4.0</td>\n",
       "      <td>remblais saturés</td>\n",
       "    </tr>\n",
       "    <tr>\n",
       "      <th>...</th>\n",
       "      <td>...</td>\n",
       "      <td>...</td>\n",
       "      <td>...</td>\n",
       "      <td>...</td>\n",
       "    </tr>\n",
       "    <tr>\n",
       "      <th>73</th>\n",
       "      <td>F24</td>\n",
       "      <td>1.5</td>\n",
       "      <td>4.0</td>\n",
       "      <td>remblais saturés</td>\n",
       "    </tr>\n",
       "    <tr>\n",
       "      <th>74</th>\n",
       "      <td>F24</td>\n",
       "      <td>4.0</td>\n",
       "      <td>6.0</td>\n",
       "      <td>alluvions</td>\n",
       "    </tr>\n",
       "    <tr>\n",
       "      <th>75</th>\n",
       "      <td>F25</td>\n",
       "      <td>0.0</td>\n",
       "      <td>1.5</td>\n",
       "      <td>remblais non-saturés</td>\n",
       "    </tr>\n",
       "    <tr>\n",
       "      <th>76</th>\n",
       "      <td>F25</td>\n",
       "      <td>1.5</td>\n",
       "      <td>4.0</td>\n",
       "      <td>remblais saturés</td>\n",
       "    </tr>\n",
       "    <tr>\n",
       "      <th>77</th>\n",
       "      <td>F25</td>\n",
       "      <td>4.0</td>\n",
       "      <td>6.0</td>\n",
       "      <td>alluvions</td>\n",
       "    </tr>\n",
       "  </tbody>\n",
       "</table>\n",
       "<p>78 rows × 4 columns</p>\n",
       "</div>"
      ],
      "text/plain": [
       "   borehole  top  base           description\n",
       "0       F10  0.0   1.5  remblais non-saturés\n",
       "1       F10  1.5   4.0      remblais saturés\n",
       "2       F10  4.0   6.0             alluvions\n",
       "3       F11  0.0   1.5  remblais non-saturés\n",
       "4       F11  1.5   4.0      remblais saturés\n",
       "..      ...  ...   ...                   ...\n",
       "73      F24  1.5   4.0      remblais saturés\n",
       "74      F24  4.0   6.0             alluvions\n",
       "75      F25  0.0   1.5  remblais non-saturés\n",
       "76      F25  1.5   4.0      remblais saturés\n",
       "77      F25  4.0   6.0             alluvions\n",
       "\n",
       "[78 rows x 4 columns]"
      ]
     },
     "execution_count": 194,
     "metadata": {},
     "output_type": "execute_result"
    }
   ],
   "source": [
    "itv"
   ]
  },
  {
   "cell_type": "code",
   "execution_count": 217,
   "metadata": {},
   "outputs": [],
   "source": [
    "# build a Component object\n",
    "#desc = \"dark chalk of 20% of porosity\"\n",
    "#rock=Component()\n",
    "\n",
    "#another way\n",
    "#rock = Component({'colour': 'grey', 'grainsize': 'vf-f','lithology': 'sand'})"
   ]
  },
  {
   "cell_type": "markdown",
   "metadata": {},
   "source": [
    "lexicon = {**'lithology'**: <span style=\"color: red\">[r'overburden', r'sandstone', r'siltstone', r'shale',\n",
    "                         r'mudstone', r'limestone', r'dolomite',\n",
    "                         r'salt', r'halite', r'anhydrite', r'gypsum',\n",
    "                         r'sylvite',\n",
    "                         r'clay', r'mud', r'silt', r'sand', r'gravel',\n",
    "                         r'boulders',\n",
    "                         ]</span>,\n",
    "           **'amount'**: <span style=\"color: blue\">[r'streaks?', r'veins?', r'stringers?',\n",
    "                      r'interbed(?:s|ded)?',\n",
    "                      r'blotch(?:es)?', r'bands?', r'fragments?',\n",
    "                      r'impurit(?:y|ies)',\n",
    "                      r'minor', r'some', r'abundant', r'rare', r'flakes?',\n",
    "                      r'[-\\.\\d]+%'\n",
    "                      ]</span>,\n",
    "           **'grainsize'**: <span style=\"color: green\">[r'vf(?:-)?', r'f(?:-)?', r'm(?:-)?', r'c(?:-)?',\n",
    "                         r'vc',\n",
    "                         r'very fine(?: to)?', r'fine(?: to)?',\n",
    "                         r'medium(?: to)?', r'coarse(?: to)?', r'very coarse',\n",
    "                         r'v fine(?: to)?', r'med(?: to)?', r'med.(?: to)?',\n",
    "                         r'v coarse',\n",
    "                         r'grains?', r'granules?', r'pebbles?', r'cobbles?',\n",
    "                         r'boulders?',\n",
    "                         ]</span>,\n",
    "           **'colour'**: <span style=\"color: red\">[r\"red(?:dish)?\",\n",
    "                      r\"gray(?:ish)?\",\n",
    "                      r\"grey(?:ish)?\",\n",
    "                      r\"black(?:ish)?\",\n",
    "                      r\"whit(?:e|ish)\",\n",
    "                      r\"blu(?:e|ish)\",\n",
    "                      r\"purpl(?:e|ish)\",\n",
    "                      r\"yellow(?:ish)?\",\n",
    "                      r\"green(?:ish)?\",\n",
    "                      r\"brown(?:ish)?\",\n",
    "                      r\"light\", \"dark\",\n",
    "                      r\"sandy\"\n",
    "                      ]</span>,\n",
    "           **'synonyms'**: {'Overburden': ['Drift'],\n",
    "                        'Anhydrite': ['Gypsum'],\n",
    "                        'Salt': ['Halite', 'Sylvite'],\n",
    "                        },\n",
    "           **'splitters'**: <span style=\"color: blue\">[' with ',\n",
    "                         ' contain(?:s|ing) ',\n",
    "                         '\\. ',\n",
    "                         ]</span>,\n",
    "           **'parts_of_speech'**: <span style=\"color: green\">{'noun': ['lithology'],\n",
    "                               'adjective': ['colour', 'grainsize'],\n",
    "                               'subordinate': ['amount']</span>,\n",
    "                               },\n",
    "           **'abbreviations'**: <span style=\"color: red\">{\"gt\": \"gritty\", \"dist\": \"distillate\", \"gr\": \"grained\", \"LSD\": \"legal subdivision\", \"ptg\": \"parting\", \"alg\": \"algal\", \"...\":\"...\"}</span>\n",
    "           }"
   ]
  },
  {
   "cell_type": "code",
   "execution_count": 242,
   "metadata": {
    "scrolled": true
   },
   "outputs": [
    {
     "name": "stdout",
     "output_type": "stream",
     "text": [
      "\n"
     ]
    }
   ],
   "source": [
    "# build a Lexicon object\n",
    "# the lexicon store in the database is not well constructed, i think !\n",
    "lexicon=bh.dfs['Lexicon']\n",
    "lex=lexicon.to_dict()\n",
    "lexic=[]\n",
    "\"\"\"\n",
    "for i, j in lex.k:\n",
    "    if not  in vert:\n",
    "        vert.append(bh_itv.loc[i, 'top'])\n",
    "\"\"\"\n",
    "print(\"\")"
   ]
  },
  {
   "cell_type": "code",
   "execution_count": 267,
   "metadata": {},
   "outputs": [
    {
     "name": "stdout",
     "output_type": "stream",
     "text": [
      "['colour', 'lithology']\n"
     ]
    }
   ],
   "source": [
    "lex_keys=[]\n",
    "for i in np.arange(0,len(lex[\"key\"])-1):\n",
    "    if not lex['key'][i] in lex_keys:\n",
    "        lex_keys.append(lex['key'][i])\n",
    "\n",
    "print(lex_keys)"
   ]
  },
  {
   "cell_type": "code",
   "execution_count": 216,
   "metadata": {
    "scrolled": true
   },
   "outputs": [
    {
     "name": "stdout",
     "output_type": "stream",
     "text": [
      "1 element(s) added in the intervals list\n",
      "2 element(s) added in the intervals list\n",
      "3 element(s) added in the intervals list\n",
      "4 element(s) added in the intervals list\n",
      "5 element(s) added in the intervals list\n",
      "6 element(s) added in the intervals list\n",
      "list of  <class 'striplog.interval.Interval'>\n"
     ]
    }
   ],
   "source": [
    "# build an Interval object\n",
    "#TODO : we must define components and lexicon !!\n",
    "itv_list=[]\n",
    "itv=bh.dfs['Intervals']\n",
    "bh_name=\"F10\"\n",
    "lexic=Lexicon.default()\n",
    "comp=Component()\n",
    "\n",
    "for i,j in itv.iterrows():\n",
    "    if j.borehole==bh_name :\n",
    "        itv_list.append(Interval(j.top, j.base, j.description, lexicon=lexic, components=[comp]))\n",
    "        print(len(itv_list), \"element(s) added in the intervals list\")\n",
    "\n",
    "print(\"list of \", type(itv_list[0]))"
   ]
  },
  {
   "cell_type": "code",
   "execution_count": 215,
   "metadata": {},
   "outputs": [
    {
     "data": {
      "text/plain": [
       "<bound method Interval.summary of Interval({'top': Position({'middle': 0.0, 'upper': 0.0, 'lower': 0.0, 'units': 'm'}), 'base': Position({'middle': 1.5, 'units': 'm'}), 'description': 'remblais non-saturés', 'data': {}, 'components': [Component({})]})>"
      ]
     },
     "execution_count": 215,
     "metadata": {},
     "output_type": "execute_result"
    }
   ],
   "source": [
    "itv_list[0].summary"
   ]
  },
  {
   "cell_type": "markdown",
   "metadata": {},
   "source": [
    "desc=\"\"\"14.3,51.24117647058824,Anhydrite\n",
    "51.24117647058824,54.81764705882354,\"Sandstone, grey, vf-f\"\n",
    "54.81764705882354,56.55882352941177,Anhydrite\n",
    "56.55882352941177,58.86470588235295,Dolomite\n",
    "60.464705882352945,61.45294117647059,Anhydrite\n",
    "61.45294117647059,62.77058823529413,\"Sandstone, grey, vf-f\"\n",
    "62.77058823529413,63.94705882352942,\"Siltstone, red\"\n",
    "63.94705882352942,64.37058823529412,Dolomite\n",
    "64.37058823529412,65.0764705882353,\"Siltstone, grey\"\n",
    "65.0764705882353,66.77058823529413,Dolomite\n",
    "66.77058823529413,71.10000000000001,\"Sandstone, grey, vf-f\"\n",
    "71.10000000000001,71.80588235294118,Dolomite\n",
    "71.80588235294118,81.78235294117647,\"Sandstone, grey, vf-f\"\n",
    "81.78235294117647,85.78235294117647,\"Siltstone, grey\"\n",
    "85.78235294117647,87.00588235294119,Dolomite\"\n",
    "\"\"\""
   ]
  },
  {
   "cell_type": "code",
   "execution_count": 180,
   "metadata": {
    "collapsed": true
   },
   "outputs": [
    {
     "name": "stdout",
     "output_type": "stream",
     "text": [
      "~Lithology_Parameter\n",
      "LITH .   Striplog         : Lithology source          {S}\n",
      "LITHD.   MD               : Lithology depth reference {S}\n",
      "\n",
      "~Lithology_Definition\n",
      "LITHT.M                   : Lithology top depth       {F}\n",
      "LITHB.M                   : Lithology base depth      {F}\n",
      "LITHD.                    : Lithology description     {S}\n",
      "\n",
      "~Lithology_Data | Lithology_Definition\n",
      "14.3,51.24117647058824,Anhydrite\n",
      "51.24117647058824,54.81764705882354,\"Sandstone, grey, vf-f\"\n",
      "54.81764705882354,56.55882352941177,Anhydrite\n",
      "56.55882352941177,58.86470588235295,Dolomite\n",
      "60.464705882352945,61.45294117647059,Anhydrite\n",
      "61.45294117647059,62.77058823529413,\"Sandstone, grey, vf-f\"\n",
      "62.77058823529413,63.94705882352942,\"Siltstone, red\"\n",
      "63.94705882352942,64.37058823529412,Dolomite\n",
      "64.37058823529412,65.0764705882353,\"Siltstone, grey\"\n",
      "65.0764705882353,66.77058823529413,Dolomite\n",
      "66.77058823529413,71.10000000000001,\"Sandstone, grey, vf-f\"\n",
      "71.10000000000001,71.80588235294118,Dolomite\n",
      "71.80588235294118,81.78235294117647,\"Sandstone, grey, vf-f\"\n",
      "81.78235294117647,85.78235294117647,\"Siltstone, grey\"\n",
      "85.78235294117647,87.00588235294119,Dolomite\n",
      "87.00588235294119,88.51176470588236,\"Siltstone, grey\"\n",
      "88.51176470588236,88.98235294117647,Dolomite\n",
      "88.98235294117647,95.9,\"Siltstone, grey\"\n",
      "95.9,96.2764705882353,Dolomite\n",
      "96.2764705882353,104.37058823529412,\"Siltstone, grey\"\n",
      "104.37058823529412,104.74705882352941,Dolomite\n",
      "104.74705882352941,129.68823529411765,\"Siltstone, grey\"\n",
      "129.68823529411765,130.39411764705883,Dolomite\n",
      "130.39411764705883,131.47647058823532,Limestone\n",
      "131.47647058823532,135.9,Volcanic\n",
      "\n"
     ]
    },
    {
     "ename": "AttributeError",
     "evalue": "'NoneType' object has no attribute 'group'",
     "output_type": "error",
     "traceback": [
      "\u001b[0;31m---------------------------------------------------------------------------\u001b[0m",
      "\u001b[0;31mAttributeError\u001b[0m                            Traceback (most recent call last)",
      "\u001b[0;32m<ipython-input-180-3fcf62c0405f>\u001b[0m in \u001b[0;36m<module>\u001b[0;34m\u001b[0m\n\u001b[1;32m      2\u001b[0m \u001b[0;32mwith\u001b[0m \u001b[0mopen\u001b[0m\u001b[0;34m(\u001b[0m\u001b[0;34m'test.las'\u001b[0m\u001b[0;34m,\u001b[0m \u001b[0;34m'r'\u001b[0m\u001b[0;34m)\u001b[0m \u001b[0;32mas\u001b[0m \u001b[0mlas3\u001b[0m\u001b[0;34m:\u001b[0m\u001b[0;34m\u001b[0m\u001b[0;34m\u001b[0m\u001b[0m\n\u001b[1;32m      3\u001b[0m     \u001b[0mlas\u001b[0m\u001b[0;34m=\u001b[0m\u001b[0mprint\u001b[0m\u001b[0;34m(\u001b[0m\u001b[0mlas3\u001b[0m\u001b[0;34m.\u001b[0m\u001b[0mread\u001b[0m\u001b[0;34m(\u001b[0m\u001b[0;34m)\u001b[0m\u001b[0;34m)\u001b[0m\u001b[0;34m\u001b[0m\u001b[0;34m\u001b[0m\u001b[0m\n\u001b[0;32m----> 4\u001b[0;31m     \u001b[0mdefault_strip\u001b[0m \u001b[0;34m=\u001b[0m \u001b[0mStriplog\u001b[0m\u001b[0;34m(\u001b[0m\u001b[0mlist\u001b[0m\u001b[0;34m(\u001b[0m\u001b[0mStriplog\u001b[0m\u001b[0;34m.\u001b[0m\u001b[0mfrom_las3\u001b[0m\u001b[0;34m(\u001b[0m\u001b[0mlas3\u001b[0m\u001b[0;34m.\u001b[0m\u001b[0mread\u001b[0m\u001b[0;34m(\u001b[0m\u001b[0;34m)\u001b[0m\u001b[0;34m,\u001b[0m \u001b[0mlexicon\u001b[0m\u001b[0;34m)\u001b[0m\u001b[0;34m)\u001b[0m\u001b[0;34m)\u001b[0m\u001b[0;34m\u001b[0m\u001b[0;34m\u001b[0m\u001b[0m\n\u001b[0m\u001b[1;32m      5\u001b[0m \u001b[0;34m\u001b[0m\u001b[0m\n\u001b[1;32m      6\u001b[0m \u001b[0mdefault_strip\u001b[0m\u001b[0;34m.\u001b[0m\u001b[0mplot\u001b[0m\u001b[0;34m(\u001b[0m\u001b[0;34m)\u001b[0m\u001b[0;34m\u001b[0m\u001b[0;34m\u001b[0m\u001b[0m\n",
      "\u001b[0;32m~/.local/share/virtualenvs/GSDMA-DRfwm83x/lib/python3.6/site-packages/striplog/striplog.py\u001b[0m in \u001b[0;36mfrom_las3\u001b[0;34m(cls, string, lexicon, source, dlm, abbreviations)\u001b[0m\n\u001b[1;32m   1034\u001b[0m         \u001b[0mregex\u001b[0m \u001b[0;34m=\u001b[0m \u001b[0;34mr'\\~\\w+?_Data.+?\\n(.+?)(?:\\n\\n+|\\n*\\~|\\n*$)'\u001b[0m\u001b[0;34m\u001b[0m\u001b[0;34m\u001b[0m\u001b[0m\n\u001b[1;32m   1035\u001b[0m         \u001b[0mpattern\u001b[0m \u001b[0;34m=\u001b[0m \u001b[0mre\u001b[0m\u001b[0;34m.\u001b[0m\u001b[0mcompile\u001b[0m\u001b[0;34m(\u001b[0m\u001b[0mregex\u001b[0m\u001b[0;34m,\u001b[0m \u001b[0mflags\u001b[0m\u001b[0;34m=\u001b[0m\u001b[0mf\u001b[0m\u001b[0;34m)\u001b[0m\u001b[0;34m\u001b[0m\u001b[0;34m\u001b[0m\u001b[0m\n\u001b[0;32m-> 1036\u001b[0;31m         \u001b[0mtext\u001b[0m \u001b[0;34m=\u001b[0m \u001b[0mpattern\u001b[0m\u001b[0;34m.\u001b[0m\u001b[0msearch\u001b[0m\u001b[0;34m(\u001b[0m\u001b[0mstring\u001b[0m\u001b[0;34m)\u001b[0m\u001b[0;34m.\u001b[0m\u001b[0mgroup\u001b[0m\u001b[0;34m(\u001b[0m\u001b[0;36m1\u001b[0m\u001b[0;34m)\u001b[0m\u001b[0;34m\u001b[0m\u001b[0;34m\u001b[0m\u001b[0m\n\u001b[0m\u001b[1;32m   1037\u001b[0m \u001b[0;34m\u001b[0m\u001b[0m\n\u001b[1;32m   1038\u001b[0m         \u001b[0ms\u001b[0m \u001b[0;34m=\u001b[0m \u001b[0mre\u001b[0m\u001b[0;34m.\u001b[0m\u001b[0msearch\u001b[0m\u001b[0;34m(\u001b[0m\u001b[0;34mr'\\.(.+?)\\: ?.+?source'\u001b[0m\u001b[0;34m,\u001b[0m \u001b[0mstring\u001b[0m\u001b[0;34m)\u001b[0m\u001b[0;34m\u001b[0m\u001b[0;34m\u001b[0m\u001b[0m\n",
      "\u001b[0;31mAttributeError\u001b[0m: 'NoneType' object has no attribute 'group'"
     ]
    }
   ],
   "source": [
    "lexicon=Lexicon.default()\n",
    "with open('test.las', 'r') as las3:\n",
    "    default_strip = Striplog(list(Striplog.from_las3(las3.read(), lexicon)))\n",
    "    \n",
    "default_strip.plot()"
   ]
  },
  {
   "cell_type": "code",
   "execution_count": 109,
   "metadata": {
    "collapsed": true
   },
   "outputs": [
    {
     "data": {
      "text/plain": [
       "['_Borehole__db',\n",
       " '_REGISTRY',\n",
       " '_Striplog__find_incongruities',\n",
       " '_Striplog__index',\n",
       " '_Striplog__intervals_from_tops',\n",
       " '_Striplog__list',\n",
       " '_Striplog__sort',\n",
       " '_Striplog__strict',\n",
       " '__add__',\n",
       " '__class__',\n",
       " '__contains__',\n",
       " '__delattr__',\n",
       " '__delitem__',\n",
       " '__dict__',\n",
       " '__dir__',\n",
       " '__doc__',\n",
       " '__eq__',\n",
       " '__format__',\n",
       " '__ge__',\n",
       " '__getattribute__',\n",
       " '__getitem__',\n",
       " '__gt__',\n",
       " '__hash__',\n",
       " '__init__',\n",
       " '__init_subclass__',\n",
       " '__iter__',\n",
       " '__le__',\n",
       " '__len__',\n",
       " '__lt__',\n",
       " '__module__',\n",
       " '__ne__',\n",
       " '__new__',\n",
       " '__next__',\n",
       " '__reduce__',\n",
       " '__reduce_ex__',\n",
       " '__repr__',\n",
       " '__reversed__',\n",
       " '__setattr__',\n",
       " '__setitem__',\n",
       " '__sizeof__',\n",
       " '__str__',\n",
       " '__subclasshook__',\n",
       " '__weakref__',\n",
       " '_backend',\n",
       " '_build_list_of_Intervals',\n",
       " '_class_validators',\n",
       " '_clean_longitudinal_data',\n",
       " '_defaults',\n",
       " '_deserialize_class',\n",
       " '_error_hook',\n",
       " '_from_array',\n",
       " '_get',\n",
       " '_getting_validated',\n",
       " '_listeners',\n",
       " '_merge_table',\n",
       " '_modify',\n",
       " '_non_validation_error',\n",
       " '_notify',\n",
       " '_prop_observers',\n",
       " '_props',\n",
       " '_reset',\n",
       " '_set',\n",
       " '_striplog_from_merge_table',\n",
       " '_table',\n",
       " '_update_date_modified',\n",
       " '_validate_data',\n",
       " '_validate_props',\n",
       " '_validation_error_tuples',\n",
       " 'anneal',\n",
       " 'append',\n",
       " 'bar',\n",
       " 'binary_morphology',\n",
       " 'build_geometry',\n",
       " 'color',\n",
       " 'components',\n",
       " 'copy',\n",
       " 'crop',\n",
       " 'cum',\n",
       " 'data',\n",
       " 'database',\n",
       " 'date_created',\n",
       " 'date_modified',\n",
       " 'depth',\n",
       " 'description',\n",
       " 'deserialize',\n",
       " 'dfs',\n",
       " 'equal',\n",
       " 'extend',\n",
       " 'extract',\n",
       " 'fill',\n",
       " 'find',\n",
       " 'find_gaps',\n",
       " 'find_overlaps',\n",
       " 'from_canstrat',\n",
       " 'from_csv',\n",
       " 'from_descriptions',\n",
       " 'from_image',\n",
       " 'from_img',\n",
       " 'from_las3',\n",
       " 'from_log',\n",
       " 'from_macrostrat',\n",
       " 'from_petrel',\n",
       " 'geometry',\n",
       " 'get_data',\n",
       " 'hist',\n",
       " 'histogram',\n",
       " 'insert',\n",
       " 'intersect',\n",
       " 'invert',\n",
       " 'is_binary',\n",
       " 'max_field',\n",
       " 'mean',\n",
       " 'merge',\n",
       " 'merge_neighbours',\n",
       " 'merge_overlaps',\n",
       " 'name',\n",
       " 'net_to_gross',\n",
       " 'next',\n",
       " 'order',\n",
       " 'plot',\n",
       " 'plot_axis',\n",
       " 'plot_field',\n",
       " 'plot_points',\n",
       " 'plot_tops',\n",
       " 'pop',\n",
       " 'prune',\n",
       " 'quality',\n",
       " 'read_at',\n",
       " 'read_db_bh',\n",
       " 'serialize',\n",
       " 'shift',\n",
       " 'source',\n",
       " 'start',\n",
       " 'stop',\n",
       " 'store_in_db',\n",
       " 'stripBH',\n",
       " 'subtype',\n",
       " 'thickest',\n",
       " 'thinnest',\n",
       " 'to_binary_log',\n",
       " 'to_canstrat',\n",
       " 'to_csv',\n",
       " 'to_flag',\n",
       " 'to_las3',\n",
       " 'to_log',\n",
       " 'top',\n",
       " 'triDim_plot',\n",
       " 'uid',\n",
       " 'union',\n",
       " 'unique',\n",
       " 'validate']"
      ]
     },
     "execution_count": 109,
     "metadata": {},
     "output_type": "execute_result"
    }
   ],
   "source": [
    "#dir(bh)"
   ]
  },
  {
   "cell_type": "code",
   "execution_count": 34,
   "metadata": {
    "scrolled": true
   },
   "outputs": [
    {
     "data": {
      "image/png": "[encoded data removed]",
      "text/plain": [
       "<Figure size 432x288 with 2 Axes>"
      ]
     },
     "metadata": {
      "needs_background": "light"
     },
     "output_type": "display_data"
    }
   ],
   "source": [
    "bh.stripBH(title=True)"
   ]
  },
  {
   "cell_type": "code",
   "execution_count": 13,
   "metadata": {
    "collapsed": true
   },
   "outputs": [
    {
     "data": {
      "text/plain": [
       "{'Boreholes':      id\n",
       " 0   F10\n",
       " 1   F11\n",
       " 2   F12\n",
       " 3   F13\n",
       " 4   F14\n",
       " 5   F15\n",
       " 6   F16\n",
       " 7   F20\n",
       " 8   F21\n",
       " 9   F22\n",
       " 10  F23\n",
       " 11  F24\n",
       " 12  F25\n",
       " 13  F10\n",
       " 14  F11\n",
       " 15  F12\n",
       " 16  F13\n",
       " 17  F14\n",
       " 18  F15\n",
       " 19  F16\n",
       " 20  F20\n",
       " 21  F21\n",
       " 22  F22\n",
       " 23  F23\n",
       " 24  F24\n",
       " 25  F25,\n",
       " 'Components':     borehole  top  base        key     value\n",
       " 0        F10  0.0   1.5  lithology  remblais\n",
       " 1        F10  0.0   1.5     colour      ocre\n",
       " 2        F10  1.5   4.0  lithology  remblais\n",
       " 3        F10  1.5   4.0     colour      ocre\n",
       " 4        F10  4.0   6.0  lithology      silt\n",
       " ..       ...  ...   ...        ...       ...\n",
       " 151      F25  0.0   1.5     colour      brun\n",
       " 152      F25  1.5   4.0  lithology  remblais\n",
       " 153      F25  1.5   4.0     colour      ocre\n",
       " 154      F25  4.0   6.0  lithology      silt\n",
       " 155      F25  4.0   6.0     colour      gris\n",
       " \n",
       " [156 rows x 5 columns],\n",
       " 'Intervals':    borehole  top  base           description\n",
       " 0       F10  0.0   1.5  remblais non-saturés\n",
       " 1       F10  1.5   4.0      remblais saturés\n",
       " 2       F10  4.0   6.0             alluvions\n",
       " 3       F11  0.0   1.5  remblais non-saturés\n",
       " 4       F11  1.5   4.0      remblais saturés\n",
       " ..      ...  ...   ...                   ...\n",
       " 73      F24  1.5   4.0      remblais saturés\n",
       " 74      F24  4.0   6.0             alluvions\n",
       " 75      F25  0.0   1.5  remblais non-saturés\n",
       " 76      F25  1.5   4.0      remblais saturés\n",
       " 77      F25  4.0   6.0             alluvions\n",
       " \n",
       " [78 rows x 4 columns],\n",
       " 'Lexicon':          key     value\n",
       " 0     colour      brun\n",
       " 1     colour      ocre\n",
       " 2     colour      gris\n",
       " 3  lithology      silt\n",
       " 4  lithology  remblais\n",
       " 5     colour      brun\n",
       " 6     colour      gris\n",
       " 7     colour      ocre\n",
       " 8  lithology  remblais\n",
       " 9  lithology      silt}"
      ]
     },
     "execution_count": 13,
     "metadata": {},
     "output_type": "execute_result"
    }
   ],
   "source": [
    "bh.dfs"
   ]
  },
  {
   "cell_type": "markdown",
   "metadata": {},
   "source": [
    "## Build a geometry by retrieving vertices and segments from intervals \n"
   ]
  },
  {
   "cell_type": "code",
   "execution_count": 14,
   "metadata": {},
   "outputs": [
    {
     "data": {
      "text/plain": [
       "<omf.lineset.LineSetGeometry at 0x7fd41c23f518>"
      ]
     },
     "execution_count": 14,
     "metadata": {},
     "output_type": "execute_result"
    }
   ],
   "source": [
    "bh.build_geometry()"
   ]
  },
  {
   "cell_type": "code",
   "execution_count": 15,
   "metadata": {},
   "outputs": [
    {
     "data": {
      "text/plain": [
       "Vector3Array([[0.5, 0.5, 0. ],\n",
       "              [0.5, 0.5, 1.5],\n",
       "              [0.5, 0.5, 4. ],\n",
       "              [0.5, 0.5, 6. ]])"
      ]
     },
     "execution_count": 15,
     "metadata": {},
     "output_type": "execute_result"
    }
   ],
   "source": [
    "bh.geometry.vertices.array"
   ]
  },
  {
   "cell_type": "code",
   "execution_count": 16,
   "metadata": {
    "collapsed": true
   },
   "outputs": [
    {
     "data": {
      "image/png": "[encoded data removed]",
      "text/plain": [
       "<PIL.Image.Image image mode=RGB size=1024x768 at 0x7FD41C1DDB38>"
      ]
     },
     "metadata": {},
     "output_type": "display_data"
    },
    {
     "data": {
      "text/plain": [
       "[(7.192130429902464, 7.192130429902464, 9.692130429902464),\n",
       " (0.5, 0.5, 3.0),\n",
       " (0.0, 0.0, 1.0)]"
      ]
     },
     "execution_count": 16,
     "metadata": {},
     "output_type": "execute_result"
    }
   ],
   "source": [
    "bh.triDim_plot()"
   ]
  },
  {
   "cell_type": "code",
   "execution_count": 10,
   "metadata": {},
   "outputs": [
    {
     "data": {
      "text/html": [
       "<div>\n",
       "<style scoped>\n",
       "    .dataframe tbody tr th:only-of-type {\n",
       "        vertical-align: middle;\n",
       "    }\n",
       "\n",
       "    .dataframe tbody tr th {\n",
       "        vertical-align: top;\n",
       "    }\n",
       "\n",
       "    .dataframe thead th {\n",
       "        text-align: right;\n",
       "    }\n",
       "</style>\n",
       "<table border=\"1\" class=\"dataframe\">\n",
       "  <thead>\n",
       "    <tr style=\"text-align: right;\">\n",
       "      <th></th>\n",
       "      <th>borehole</th>\n",
       "      <th>top</th>\n",
       "      <th>base</th>\n",
       "      <th>key</th>\n",
       "      <th>value</th>\n",
       "    </tr>\n",
       "  </thead>\n",
       "  <tbody>\n",
       "    <tr>\n",
       "      <th>0</th>\n",
       "      <td>F10</td>\n",
       "      <td>0.0</td>\n",
       "      <td>1.5</td>\n",
       "      <td>lithology</td>\n",
       "      <td>remblais</td>\n",
       "    </tr>\n",
       "    <tr>\n",
       "      <th>1</th>\n",
       "      <td>F10</td>\n",
       "      <td>0.0</td>\n",
       "      <td>1.5</td>\n",
       "      <td>colour</td>\n",
       "      <td>ocre</td>\n",
       "    </tr>\n",
       "    <tr>\n",
       "      <th>2</th>\n",
       "      <td>F10</td>\n",
       "      <td>1.5</td>\n",
       "      <td>4.0</td>\n",
       "      <td>lithology</td>\n",
       "      <td>remblais</td>\n",
       "    </tr>\n",
       "    <tr>\n",
       "      <th>3</th>\n",
       "      <td>F10</td>\n",
       "      <td>1.5</td>\n",
       "      <td>4.0</td>\n",
       "      <td>colour</td>\n",
       "      <td>ocre</td>\n",
       "    </tr>\n",
       "    <tr>\n",
       "      <th>4</th>\n",
       "      <td>F10</td>\n",
       "      <td>4.0</td>\n",
       "      <td>6.0</td>\n",
       "      <td>lithology</td>\n",
       "      <td>silt</td>\n",
       "    </tr>\n",
       "    <tr>\n",
       "      <th>...</th>\n",
       "      <td>...</td>\n",
       "      <td>...</td>\n",
       "      <td>...</td>\n",
       "      <td>...</td>\n",
       "      <td>...</td>\n",
       "    </tr>\n",
       "    <tr>\n",
       "      <th>151</th>\n",
       "      <td>F25</td>\n",
       "      <td>0.0</td>\n",
       "      <td>1.5</td>\n",
       "      <td>colour</td>\n",
       "      <td>brun</td>\n",
       "    </tr>\n",
       "    <tr>\n",
       "      <th>152</th>\n",
       "      <td>F25</td>\n",
       "      <td>1.5</td>\n",
       "      <td>4.0</td>\n",
       "      <td>lithology</td>\n",
       "      <td>remblais</td>\n",
       "    </tr>\n",
       "    <tr>\n",
       "      <th>153</th>\n",
       "      <td>F25</td>\n",
       "      <td>1.5</td>\n",
       "      <td>4.0</td>\n",
       "      <td>colour</td>\n",
       "      <td>ocre</td>\n",
       "    </tr>\n",
       "    <tr>\n",
       "      <th>154</th>\n",
       "      <td>F25</td>\n",
       "      <td>4.0</td>\n",
       "      <td>6.0</td>\n",
       "      <td>lithology</td>\n",
       "      <td>silt</td>\n",
       "    </tr>\n",
       "    <tr>\n",
       "      <th>155</th>\n",
       "      <td>F25</td>\n",
       "      <td>4.0</td>\n",
       "      <td>6.0</td>\n",
       "      <td>colour</td>\n",
       "      <td>gris</td>\n",
       "    </tr>\n",
       "  </tbody>\n",
       "</table>\n",
       "<p>156 rows × 5 columns</p>\n",
       "</div>"
      ],
      "text/plain": [
       "    borehole  top  base        key     value\n",
       "0        F10  0.0   1.5  lithology  remblais\n",
       "1        F10  0.0   1.5     colour      ocre\n",
       "2        F10  1.5   4.0  lithology  remblais\n",
       "3        F10  1.5   4.0     colour      ocre\n",
       "4        F10  4.0   6.0  lithology      silt\n",
       "..       ...  ...   ...        ...       ...\n",
       "151      F25  0.0   1.5     colour      brun\n",
       "152      F25  1.5   4.0  lithology  remblais\n",
       "153      F25  1.5   4.0     colour      ocre\n",
       "154      F25  4.0   6.0  lithology      silt\n",
       "155      F25  4.0   6.0     colour      gris\n",
       "\n",
       "[156 rows x 5 columns]"
      ]
     },
     "execution_count": 10,
     "metadata": {},
     "output_type": "execute_result"
    }
   ],
   "source": [
    "bh.dfs['Components']"
   ]
  },
  {
   "cell_type": "code",
   "execution_count": null,
   "metadata": {},
   "outputs": [],
   "source": []
  },
  {
   "cell_type": "code",
   "execution_count": null,
   "metadata": {},
   "outputs": [],
   "source": []
  },
  {
   "cell_type": "code",
   "execution_count": null,
   "metadata": {},
   "outputs": [],
   "source": []
  },
  {
   "cell_type": "code",
   "execution_count": null,
   "metadata": {},
   "outputs": [],
   "source": []
  }
 ],
 "metadata": {
  "kernelspec": {
   "display_name": "Python 3",
   "language": "python",
   "name": "python3"
  },
  "language_info": {
   "codemirror_mode": {
    "name": "ipython",
    "version": 3
   },
   "file_extension": ".py",
   "mimetype": "text/x-python",
   "name": "python",
   "nbconvert_exporter": "python",
   "pygments_lexer": "ipython3",
   "version": "3.6.9"
  }
 },
 "nbformat": 4,
 "nbformat_minor": 4
}

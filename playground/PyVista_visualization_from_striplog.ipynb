{
 "cells": [
  {
   "cell_type": "markdown",
   "metadata": {},
   "source": [
    "# Display a Borehole from Striplog in PyVista  "
   ]
  },
  {
   "cell_type": "code",
   "execution_count": null,
   "metadata": {},
   "outputs": [],
   "source": [
    "from striplog import Striplog\n",
    "import pyvista as pv\n",
    "import pandas as pd"
   ]
  },
  {
   "cell_type": "markdown",
   "metadata": {},
   "source": [
    "## Striplog Object"
   ]
  },
  {
   "cell_type": "markdown",
   "metadata": {},
   "source": [
    "### Create a Striplog Object from png"
   ]
  },
  {
   "cell_type": "code",
   "execution_count": 2,
   "metadata": {},
   "outputs": [],
   "source": [
    "from striplog import Legend, Lexicon, Interval, Component\n",
    "legend = Legend.builtin('NSDOE')\n",
    "lexicon = Lexicon.default()"
   ]
  },
  {
   "cell_type": "code",
   "execution_count": 3,
   "metadata": {},
   "outputs": [
    {
     "name": "stderr",
     "output_type": "stream",
     "text": [
      "/home/gfa/.local/share/virtualenvs/GSDMA2019-F9ES6BKJ/lib/python3.6/site-packages/striplog/striplog.py:868: UserWarning: from_img() is deprecated; please use from_image()\n",
      "  warnings.warn(w)\n"
     ]
    }
   ],
   "source": [
    "imgfile = \"M-MG-70_14.3_135.9.png\"\n",
    "strip = Striplog.from_img(imgfile, 14.3, 135.9, legend=legend)\n"
   ]
  },
  {
   "cell_type": "markdown",
   "metadata": {},
   "source": [
    "### Create a cylinder representing one interval"
   ]
  },
  {
   "cell_type": "code",
   "execution_count": null,
   "metadata": {},
   "outputs": [],
   "source": [
    "#strip.components=[striplog.Component({'lithology': 'dolomite', 'colour': 'grey'})]"
   ]
  },
  {
   "cell_type": "code",
   "execution_count": null,
   "metadata": {},
   "outputs": [],
   "source": [
    "strip[0]"
   ]
  },
  {
   "cell_type": "code",
   "execution_count": null,
   "metadata": {},
   "outputs": [],
   "source": [
    "type(strip[0])"
   ]
  },
  {
   "cell_type": "code",
   "execution_count": null,
   "metadata": {},
   "outputs": [],
   "source": [
    "i00 = strip[0]"
   ]
  },
  {
   "cell_type": "code",
   "execution_count": null,
   "metadata": {},
   "outputs": [],
   "source": [
    "i00.top\n",
    "i00.base"
   ]
  },
  {
   "cell_type": "code",
   "execution_count": null,
   "metadata": {},
   "outputs": [],
   "source": [
    "i00.top.middle"
   ]
  },
  {
   "cell_type": "markdown",
   "metadata": {},
   "source": [
    "#### Display cylinder from interval"
   ]
  },
  {
   "cell_type": "code",
   "execution_count": null,
   "metadata": {},
   "outputs": [],
   "source": [
    "center_00 = (i00.base.middle - i00.top.middle)/2\n",
    "center_00\n",
    "height_00 = i00.base.middle - i00.top.middle"
   ]
  },
  {
   "cell_type": "code",
   "execution_count": null,
   "metadata": {},
   "outputs": [],
   "source": [
    "def cylinder_from_interval(interval,radius=.5):\n",
    "    center = (interval.base.middle - interval.top.middle)/2\n",
    "    height = interval.base.middle - interval.top.middle\n",
    "    \n",
    "    cylinder = pv.Cylinder(\n",
    "                            center=center,\n",
    "                            direction=(0.0, 0.0, 1.0),radius=radius,height=height,resolution=10, \n",
    "                          )\n",
    "    return cylinder"
   ]
  },
  {
   "cell_type": "code",
   "execution_count": null,
   "metadata": {},
   "outputs": [],
   "source": [
    "cylinder = cylinder_from_interval(i00)"
   ]
  },
  {
   "cell_type": "code",
   "execution_count": null,
   "metadata": {
    "scrolled": true
   },
   "outputs": [],
   "source": [
    "p = pv.Plotter(shape=(1,1))\n",
    "p.add_mesh(cylinder, color=\"tan\", show_edges=False)\n",
    "p.show(auto_close=False, use_panel=True) #\"Active window\""
   ]
  },
  {
   "cell_type": "markdown",
   "metadata": {},
   "source": [
    "### Add an interval"
   ]
  },
  {
   "cell_type": "code",
   "execution_count": 4,
   "metadata": {},
   "outputs": [],
   "source": [
    "plotter1 = pv.Plotter(shape=(1,1))\n"
   ]
  },
  {
   "cell_type": "code",
   "execution_count": 5,
   "metadata": {},
   "outputs": [],
   "source": [
    "def add_interval(interval,plotter,radius=.5):\n",
    "    center = (interval.base.middle - interval.top.middle)/2\n",
    "    height = interval.base.middle - interval.top.middle\n",
    "    \n",
    "    cylinder = pv.Cylinder(\n",
    "                            center=center,\n",
    "                            direction=(0.0, 0.0, 1.0),radius=radius,height=height,resolution=10, \n",
    "                          )\n",
    "    plotter.add_mesh(cylinder, color=\"tan\", show_edges=False)\n",
    "    plotter.show(auto_close=False, use_panel=True)\n",
    "# add a list of intervals rather than just one _ loop"
   ]
  },
  {
   "cell_type": "code",
   "execution_count": 16,
   "metadata": {},
   "outputs": [],
   "source": [
    "plotter2 = pv.Plotter(shape=(1,1))\n",
    "\n",
    "add_interval(strip[7],plotter2)\n"
   ]
  },
  {
   "cell_type": "code",
   "execution_count": 19,
   "metadata": {},
   "outputs": [
    {
     "data": {
      "application/vnd.holoviews_exec.v0+json": "",
      "text/html": [
       "<div id='1036'>\n",
       "\n",
       "\n",
       "\n",
       "\n",
       "\n",
       "  <div class=\"bk-root\" id=\"afb9a3f9-7766-4fd8-be99-f8048874d97e\" data-root-id=\"1036\"></div>\n",
       "</div>\n",
       "<script type=\"application/javascript\">\n",
       "    function msg_handler(msg) {\n",
       "      var metadata = msg.metadata;\n",
       "      var buffers = msg.buffers;\n",
       "      var msg = msg.content.data;\n",
       "      if ((metadata.msg_type == \"Ready\")) {\n",
       "        if (metadata.content) {\n",
       "          console.log(\"Python callback returned following output:\", metadata.content);\n",
       "        }\n",
       "      } else if (metadata.msg_type == \"Error\") {\n",
       "        console.log(\"Python failed with the following traceback:\", metadata.traceback)\n",
       "      } else {\n",
       "        \n",
       "var plot_id = \"1036\";\n",
       "\n",
       "if ((plot_id in window.PyViz.plot_index) && (window.PyViz.plot_index[plot_id] != null)) {\n",
       "  var plot = window.PyViz.plot_index[plot_id];\n",
       "} else if ((Bokeh !== undefined) && (plot_id in Bokeh.index)) {\n",
       "  var plot = Bokeh.index[plot_id];\n",
       "}\n",
       "\n",
       "if (plot == null) {\n",
       "  return\n",
       "}\n",
       "\n",
       "if (plot_id in window.PyViz.receivers) {\n",
       "  var receiver = window.PyViz.receivers[plot_id];\n",
       "} else {\n",
       "  var receiver = new Bokeh.protocol.Receiver();\n",
       "  window.PyViz.receivers[plot_id] = receiver;\n",
       "}\n",
       "\n",
       "if ((buffers != undefined) && (buffers.length > 0)) {\n",
       "  receiver.consume(buffers[0].buffer)\n",
       "} else {\n",
       "  receiver.consume(msg)\n",
       "}\n",
       "\n",
       "const comm_msg = receiver.message;\n",
       "if ((comm_msg != null) && (Object.keys(comm_msg.content).length > 0)) {\n",
       "  plot.model.document.apply_json_patch(comm_msg.content, comm_msg.buffers)\n",
       "}\n",
       "\n",
       "      }\n",
       "    }\n",
       "    if ((window.PyViz == undefined) || (!window.PyViz.comm_manager)) {\n",
       "      console.log(\"Could not find comm manager\")\n",
       "    } else {\n",
       "      window.PyViz.comm_manager.register_target('1036', '791193d5ad7047a38209df1f1072458f', msg_handler);\n",
       "    }\n",
       "    \n",
       "(function(root) {\n",
       "  function embed_document(root) {\n",
       "    \n",
       "  var docs_json = {\"9c95a4d2-fd03-4ae5-9072-8727deae85a4\":{\"roots\":{\"references\":[{\"attributes\":{\"code\":\"\\nif (!window.PyViz) {\\n  return;\\n}\\nvar events = [];\\nvar receiver = window.PyViz.receivers['1036'];\\nif (receiver &&\\n        receiver._partial &&\\n        receiver._partial.content &&\\n        receiver._partial.content.events) {\\n    events = receiver._partial.content.events;\\n}\\n\\nfor (var event of events) {\\n  if ((event.kind === 'ModelChanged') && (event.attr === 'orientation_widget') &&\\n      (cb_obj.id === event.model.id) &&\\n      (JSON.stringify(cb_obj['orientation_widget']) === JSON.stringify(event.new))) {\\n    events.pop(events.indexOf(event))\\n    return;\\n  }\\n}\\n\\ndata = {orientation_widget: cb_obj['orientation_widget'], 'id': cb_obj.id};\\ncb_obj.event_name = 'orientation_widget';\\n\\nfunction unique_events(events) {\\n  // Processes the event queue ignoring duplicate events\\n  // of the same type\\n  var unique = [];\\n  var unique_events = [];\\n  for (var i=0; i<events.length; i++) {\\n    var _tmpevent = events[i];\\n    event = _tmpevent[0];\\n    data = _tmpevent[1];\\n    if (unique_events.indexOf(event)===-1) {\\n      unique.unshift(data);\\n      unique_events.push(event);\\n      }\\n  }\\n  return unique;\\n}\\n\\nfunction process_events(comm_status) {\\n  // Iterates over event queue and sends events via Comm\\n  var events = unique_events(comm_status.event_buffer);\\n  for (var i=0; i<events.length; i++) {\\n    var data = events[i];\\n    var comm = window.PyViz.comms[data[\\\"comm_id\\\"]];\\n    comm.send(data);\\n  }\\n  comm_status.event_buffer = [];\\n}\\n\\nfunction on_msg(msg) {\\n  // Receives acknowledgement from Python, processing event\\n  // and unblocking Comm if event queue empty\\n  var metadata = msg.metadata;\\n  var comm_id = metadata.comm_id\\n  var comm_status = window.PyViz.comm_status[comm_id];\\n  if (comm_status.event_buffer.length) {\\n    process_events(comm_status);\\n    comm_status.blocked = true;\\n    comm_status.time = Date.now()+50;\\n  } else {\\n    comm_status.blocked = false;\\n  }\\n  comm_status.event_buffer = [];\\n  if ((metadata.msg_type == \\\"Ready\\\") && metadata.content) {\\n    console.log(\\\"Python callback returned following output:\\\", metadata.content);\\n  } else if (metadata.msg_type == \\\"Error\\\") {\\n    console.log(\\\"Python failed with the following traceback:\\\", metadata.traceback)\\n  }\\n}\\n\\n// Initialize Comm\\nif ((window.PyViz == undefined) || (window.PyViz.comm_manager == undefined)) { return }\\ncomm = window.PyViz.comm_manager.get_client_comm(\\\"1036\\\", \\\"b3fad74a482d4f16ae8dff55f3e71f96\\\", on_msg);\\nif (!comm) {\\n  return\\n}\\n\\n// Initialize event queue and timeouts for Comm\\nvar comm_status = window.PyViz.comm_status[\\\"b3fad74a482d4f16ae8dff55f3e71f96\\\"];\\nif (comm_status === undefined) {\\n  comm_status = {event_buffer: [], blocked: false, time: Date.now()}\\n  window.PyViz.comm_status[\\\"b3fad74a482d4f16ae8dff55f3e71f96\\\"] = comm_status\\n}\\n\\n// Add current event to queue and process queue if not blocked\\nevent_name = cb_obj.event_name\\ndata['comm_id'] = \\\"b3fad74a482d4f16ae8dff55f3e71f96\\\";\\ntimeout = comm_status.time + 20000;\\nif ((comm_status.blocked && (Date.now() < timeout))) {\\n  comm_status.event_buffer.unshift([event_name, data]);\\n} else {\\n  comm_status.event_buffer.unshift([event_name, data]);\\n  setTimeout(function() { process_events(comm_status); }, 50);\\n  comm_status.blocked = true;\\n  comm_status.time = Date.now()+50;\\n}\\n\"},\"id\":\"1040\",\"type\":\"CustomJS\"},{\"attributes\":{\"code\":\"\\nif (!window.PyViz) {\\n  return;\\n}\\nvar events = [];\\nvar receiver = window.PyViz.receivers['1036'];\\nif (receiver &&\\n        receiver._partial &&\\n        receiver._partial.content &&\\n        receiver._partial.content.events) {\\n    events = receiver._partial.content.events;\\n}\\n\\nfor (var event of events) {\\n  if ((event.kind === 'ModelChanged') && (event.attr === 'camera') &&\\n      (cb_obj.id === event.model.id) &&\\n      (JSON.stringify(cb_obj['camera']) === JSON.stringify(event.new))) {\\n    events.pop(events.indexOf(event))\\n    return;\\n  }\\n}\\n\\ndata = {camera: cb_obj['camera'], 'id': cb_obj.id};\\ncb_obj.event_name = 'camera';\\n\\nfunction unique_events(events) {\\n  // Processes the event queue ignoring duplicate events\\n  // of the same type\\n  var unique = [];\\n  var unique_events = [];\\n  for (var i=0; i<events.length; i++) {\\n    var _tmpevent = events[i];\\n    event = _tmpevent[0];\\n    data = _tmpevent[1];\\n    if (unique_events.indexOf(event)===-1) {\\n      unique.unshift(data);\\n      unique_events.push(event);\\n      }\\n  }\\n  return unique;\\n}\\n\\nfunction process_events(comm_status) {\\n  // Iterates over event queue and sends events via Comm\\n  var events = unique_events(comm_status.event_buffer);\\n  for (var i=0; i<events.length; i++) {\\n    var data = events[i];\\n    var comm = window.PyViz.comms[data[\\\"comm_id\\\"]];\\n    comm.send(data);\\n  }\\n  comm_status.event_buffer = [];\\n}\\n\\nfunction on_msg(msg) {\\n  // Receives acknowledgement from Python, processing event\\n  // and unblocking Comm if event queue empty\\n  var metadata = msg.metadata;\\n  var comm_id = metadata.comm_id\\n  var comm_status = window.PyViz.comm_status[comm_id];\\n  if (comm_status.event_buffer.length) {\\n    process_events(comm_status);\\n    comm_status.blocked = true;\\n    comm_status.time = Date.now()+50;\\n  } else {\\n    comm_status.blocked = false;\\n  }\\n  comm_status.event_buffer = [];\\n  if ((metadata.msg_type == \\\"Ready\\\") && metadata.content) {\\n    console.log(\\\"Python callback returned following output:\\\", metadata.content);\\n  } else if (metadata.msg_type == \\\"Error\\\") {\\n    console.log(\\\"Python failed with the following traceback:\\\", metadata.traceback)\\n  }\\n}\\n\\n// Initialize Comm\\nif ((window.PyViz == undefined) || (window.PyViz.comm_manager == undefined)) { return }\\ncomm = window.PyViz.comm_manager.get_client_comm(\\\"1036\\\", \\\"b3fad74a482d4f16ae8dff55f3e71f96\\\", on_msg);\\nif (!comm) {\\n  return\\n}\\n\\n// Initialize event queue and timeouts for Comm\\nvar comm_status = window.PyViz.comm_status[\\\"b3fad74a482d4f16ae8dff55f3e71f96\\\"];\\nif (comm_status === undefined) {\\n  comm_status = {event_buffer: [], blocked: false, time: Date.now()}\\n  window.PyViz.comm_status[\\\"b3fad74a482d4f16ae8dff55f3e71f96\\\"] = comm_status\\n}\\n\\n// Add current event to queue and process queue if not blocked\\nevent_name = cb_obj.event_name\\ndata['comm_id'] = \\\"b3fad74a482d4f16ae8dff55f3e71f96\\\";\\ntimeout = comm_status.time + 20000;\\nif ((comm_status.blocked && (Date.now() < timeout))) {\\n  comm_status.event_buffer.unshift([event_name, data]);\\n} else {\\n  comm_status.event_buffer.unshift([event_name, data]);\\n  setTimeout(function() { process_events(comm_status); }, 50);\\n  comm_status.blocked = true;\\n  comm_status.time = Date.now()+50;\\n}\\n\"},\"id\":\"1038\",\"type\":\"CustomJS\"},{\"attributes\":{\"code\":\"\\nif (!window.PyViz) {\\n  return;\\n}\\nvar events = [];\\nvar receiver = window.PyViz.receivers['1036'];\\nif (receiver &&\\n        receiver._partial &&\\n        receiver._partial.content &&\\n        receiver._partial.content.events) {\\n    events = receiver._partial.content.events;\\n}\\n\\nfor (var event of events) {\\n  if ((event.kind === 'ModelChanged') && (event.attr === 'data') &&\\n      (cb_obj.id === event.model.id) &&\\n      (JSON.stringify(cb_obj['data']) === JSON.stringify(event.new))) {\\n    events.pop(events.indexOf(event))\\n    return;\\n  }\\n}\\n\\ndata = {data: cb_obj['data'], 'id': cb_obj.id};\\ncb_obj.event_name = 'data';\\n\\nfunction unique_events(events) {\\n  // Processes the event queue ignoring duplicate events\\n  // of the same type\\n  var unique = [];\\n  var unique_events = [];\\n  for (var i=0; i<events.length; i++) {\\n    var _tmpevent = events[i];\\n    event = _tmpevent[0];\\n    data = _tmpevent[1];\\n    if (unique_events.indexOf(event)===-1) {\\n      unique.unshift(data);\\n      unique_events.push(event);\\n      }\\n  }\\n  return unique;\\n}\\n\\nfunction process_events(comm_status) {\\n  // Iterates over event queue and sends events via Comm\\n  var events = unique_events(comm_status.event_buffer);\\n  for (var i=0; i<events.length; i++) {\\n    var data = events[i];\\n    var comm = window.PyViz.comms[data[\\\"comm_id\\\"]];\\n    comm.send(data);\\n  }\\n  comm_status.event_buffer = [];\\n}\\n\\nfunction on_msg(msg) {\\n  // Receives acknowledgement from Python, processing event\\n  // and unblocking Comm if event queue empty\\n  var metadata = msg.metadata;\\n  var comm_id = metadata.comm_id\\n  var comm_status = window.PyViz.comm_status[comm_id];\\n  if (comm_status.event_buffer.length) {\\n    process_events(comm_status);\\n    comm_status.blocked = true;\\n    comm_status.time = Date.now()+50;\\n  } else {\\n    comm_status.blocked = false;\\n  }\\n  comm_status.event_buffer = [];\\n  if ((metadata.msg_type == \\\"Ready\\\") && metadata.content) {\\n    console.log(\\\"Python callback returned following output:\\\", metadata.content);\\n  } else if (metadata.msg_type == \\\"Error\\\") {\\n    console.log(\\\"Python failed with the following traceback:\\\", metadata.traceback)\\n  }\\n}\\n\\n// Initialize Comm\\nif ((window.PyViz == undefined) || (window.PyViz.comm_manager == undefined)) { return }\\ncomm = window.PyViz.comm_manager.get_client_comm(\\\"1036\\\", \\\"b3fad74a482d4f16ae8dff55f3e71f96\\\", on_msg);\\nif (!comm) {\\n  return\\n}\\n\\n// Initialize event queue and timeouts for Comm\\nvar comm_status = window.PyViz.comm_status[\\\"b3fad74a482d4f16ae8dff55f3e71f96\\\"];\\nif (comm_status === undefined) {\\n  comm_status = {event_buffer: [], blocked: false, time: Date.now()}\\n  window.PyViz.comm_status[\\\"b3fad74a482d4f16ae8dff55f3e71f96\\\"] = comm_status\\n}\\n\\n// Add current event to queue and process queue if not blocked\\nevent_name = cb_obj.event_name\\ndata['comm_id'] = \\\"b3fad74a482d4f16ae8dff55f3e71f96\\\";\\ntimeout = comm_status.time + 20000;\\nif ((comm_status.blocked && (Date.now() < timeout))) {\\n  comm_status.event_buffer.unshift([event_name, data]);\\n} else {\\n  comm_status.event_buffer.unshift([event_name, data]);\\n  setTimeout(function() { process_events(comm_status); }, 50);\\n  comm_status.blocked = true;\\n  comm_status.time = Date.now()+50;\\n}\\n\"},\"id\":\"1037\",\"type\":\"CustomJS\"},{\"attributes\":{\"data\":\"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\",\"height\":400,\"js_property_callbacks\":{\"change:camera\":[{\"id\":\"1038\",\"type\":\"CustomJS\"}],\"change:data\":[{\"id\":\"1037\",\"type\":\"CustomJS\"}],\"change:enable_keybindings\":[{\"id\":\"1039\",\"type\":\"CustomJS\"}],\"change:orientation_widget\":[{\"id\":\"1040\",\"type\":\"CustomJS\"}]},\"margin\":[5,5,5,5],\"name\":\"VTK00042\",\"sizing_mode\":\"stretch_width\"},\"id\":\"1036\",\"type\":\"panel.models.vtk.VTKPlot\"},{\"attributes\":{\"code\":\"\\nif (!window.PyViz) {\\n  return;\\n}\\nvar events = [];\\nvar receiver = window.PyViz.receivers['1036'];\\nif (receiver &&\\n        receiver._partial &&\\n        receiver._partial.content &&\\n        receiver._partial.content.events) {\\n    events = receiver._partial.content.events;\\n}\\n\\nfor (var event of events) {\\n  if ((event.kind === 'ModelChanged') && (event.attr === 'enable_keybindings') &&\\n      (cb_obj.id === event.model.id) &&\\n      (JSON.stringify(cb_obj['enable_keybindings']) === JSON.stringify(event.new))) {\\n    events.pop(events.indexOf(event))\\n    return;\\n  }\\n}\\n\\ndata = {enable_keybindings: cb_obj['enable_keybindings'], 'id': cb_obj.id};\\ncb_obj.event_name = 'enable_keybindings';\\n\\nfunction unique_events(events) {\\n  // Processes the event queue ignoring duplicate events\\n  // of the same type\\n  var unique = [];\\n  var unique_events = [];\\n  for (var i=0; i<events.length; i++) {\\n    var _tmpevent = events[i];\\n    event = _tmpevent[0];\\n    data = _tmpevent[1];\\n    if (unique_events.indexOf(event)===-1) {\\n      unique.unshift(data);\\n      unique_events.push(event);\\n      }\\n  }\\n  return unique;\\n}\\n\\nfunction process_events(comm_status) {\\n  // Iterates over event queue and sends events via Comm\\n  var events = unique_events(comm_status.event_buffer);\\n  for (var i=0; i<events.length; i++) {\\n    var data = events[i];\\n    var comm = window.PyViz.comms[data[\\\"comm_id\\\"]];\\n    comm.send(data);\\n  }\\n  comm_status.event_buffer = [];\\n}\\n\\nfunction on_msg(msg) {\\n  // Receives acknowledgement from Python, processing event\\n  // and unblocking Comm if event queue empty\\n  var metadata = msg.metadata;\\n  var comm_id = metadata.comm_id\\n  var comm_status = window.PyViz.comm_status[comm_id];\\n  if (comm_status.event_buffer.length) {\\n    process_events(comm_status);\\n    comm_status.blocked = true;\\n    comm_status.time = Date.now()+50;\\n  } else {\\n    comm_status.blocked = false;\\n  }\\n  comm_status.event_buffer = [];\\n  if ((metadata.msg_type == \\\"Ready\\\") && metadata.content) {\\n    console.log(\\\"Python callback returned following output:\\\", metadata.content);\\n  } else if (metadata.msg_type == \\\"Error\\\") {\\n    console.log(\\\"Python failed with the following traceback:\\\", metadata.traceback)\\n  }\\n}\\n\\n// Initialize Comm\\nif ((window.PyViz == undefined) || (window.PyViz.comm_manager == undefined)) { return }\\ncomm = window.PyViz.comm_manager.get_client_comm(\\\"1036\\\", \\\"b3fad74a482d4f16ae8dff55f3e71f96\\\", on_msg);\\nif (!comm) {\\n  return\\n}\\n\\n// Initialize event queue and timeouts for Comm\\nvar comm_status = window.PyViz.comm_status[\\\"b3fad74a482d4f16ae8dff55f3e71f96\\\"];\\nif (comm_status === undefined) {\\n  comm_status = {event_buffer: [], blocked: false, time: Date.now()}\\n  window.PyViz.comm_status[\\\"b3fad74a482d4f16ae8dff55f3e71f96\\\"] = comm_status\\n}\\n\\n// Add current event to queue and process queue if not blocked\\nevent_name = cb_obj.event_name\\ndata['comm_id'] = \\\"b3fad74a482d4f16ae8dff55f3e71f96\\\";\\ntimeout = comm_status.time + 20000;\\nif ((comm_status.blocked && (Date.now() < timeout))) {\\n  comm_status.event_buffer.unshift([event_name, data]);\\n} else {\\n  comm_status.event_buffer.unshift([event_name, data]);\\n  setTimeout(function() { process_events(comm_status); }, 50);\\n  comm_status.blocked = true;\\n  comm_status.time = Date.now()+50;\\n}\\n\"},\"id\":\"1039\",\"type\":\"CustomJS\"}],\"root_ids\":[\"1036\"]},\"title\":\"Bokeh Application\",\"version\":\"1.4.0\"}};\n",
       "  var render_items = [{\"docid\":\"9c95a4d2-fd03-4ae5-9072-8727deae85a4\",\"roots\":{\"1036\":\"afb9a3f9-7766-4fd8-be99-f8048874d97e\"}}];\n",
       "  root.Bokeh.embed.embed_items_notebook(docs_json, render_items);\n",
       "\n",
       "  }\n",
       "  if (root.Bokeh !== undefined) {\n",
       "    embed_document(root);\n",
       "  } else {\n",
       "    var attempts = 0;\n",
       "    var timer = setInterval(function(root) {\n",
       "      if (root.Bokeh !== undefined) {\n",
       "        clearInterval(timer);\n",
       "        embed_document(root);\n",
       "      } else {\n",
       "        attempts++;\n",
       "        if (attempts > 100) {\n",
       "          clearInterval(timer);\n",
       "          console.log(\"Bokeh: ERROR: Unable to run BokehJS code because BokehJS library is missing\");\n",
       "        }\n",
       "      }\n",
       "    }, 10, root)\n",
       "  }\n",
       "})(window);</script>"
      ],
      "text/plain": [
       "VTK(vtkXOpenGLRenderWindow, height=400, sizing_mode='stretch_width')"
      ]
     },
     "execution_count": 19,
     "metadata": {
      "application/vnd.holoviews_exec.v0+json": {
       "id": "1036"
      }
     },
     "output_type": "execute_result"
    }
   ],
   "source": [
    "plotter2.show(auto_close=False, use_panel=True) "
   ]
  },
  {
   "cell_type": "code",
   "execution_count": 12,
   "metadata": {},
   "outputs": [],
   "source": [
    "def add_interval_without_show(interval,plotter,radius=.5):\n",
    "    center = (interval.base.middle - interval.top.middle)/2\n",
    "    height = interval.base.middle - interval.top.middle\n",
    "    \n",
    "    cylinder = pv.Cylinder(\n",
    "                            center=center,\n",
    "                            direction=(0.0, 0.0, 1.0),radius=radius,height=height,resolution=10, \n",
    "                          )\n",
    "    plotter.add_mesh(cylinder, color=\"tan\", show_edges=False)\n",
    "    \n",
    "# add a list of intervals rather than just one _ loop"
   ]
  },
  {
   "cell_type": "code",
   "execution_count": 18,
   "metadata": {},
   "outputs": [
    {
     "data": {
      "application/vnd.holoviews_exec.v0+json": "",
      "text/html": [
       "<div id='1031'>\n",
       "\n",
       "\n",
       "\n",
       "\n",
       "\n",
       "  <div class=\"bk-root\" id=\"0712220b-88a5-42bb-86dd-dffc9abb3089\" data-root-id=\"1031\"></div>\n",
       "</div>\n",
       "<script type=\"application/javascript\">\n",
       "    function msg_handler(msg) {\n",
       "      var metadata = msg.metadata;\n",
       "      var buffers = msg.buffers;\n",
       "      var msg = msg.content.data;\n",
       "      if ((metadata.msg_type == \"Ready\")) {\n",
       "        if (metadata.content) {\n",
       "          console.log(\"Python callback returned following output:\", metadata.content);\n",
       "        }\n",
       "      } else if (metadata.msg_type == \"Error\") {\n",
       "        console.log(\"Python failed with the following traceback:\", metadata.traceback)\n",
       "      } else {\n",
       "        \n",
       "var plot_id = \"1031\";\n",
       "\n",
       "if ((plot_id in window.PyViz.plot_index) && (window.PyViz.plot_index[plot_id] != null)) {\n",
       "  var plot = window.PyViz.plot_index[plot_id];\n",
       "} else if ((Bokeh !== undefined) && (plot_id in Bokeh.index)) {\n",
       "  var plot = Bokeh.index[plot_id];\n",
       "}\n",
       "\n",
       "if (plot == null) {\n",
       "  return\n",
       "}\n",
       "\n",
       "if (plot_id in window.PyViz.receivers) {\n",
       "  var receiver = window.PyViz.receivers[plot_id];\n",
       "} else {\n",
       "  var receiver = new Bokeh.protocol.Receiver();\n",
       "  window.PyViz.receivers[plot_id] = receiver;\n",
       "}\n",
       "\n",
       "if ((buffers != undefined) && (buffers.length > 0)) {\n",
       "  receiver.consume(buffers[0].buffer)\n",
       "} else {\n",
       "  receiver.consume(msg)\n",
       "}\n",
       "\n",
       "const comm_msg = receiver.message;\n",
       "if ((comm_msg != null) && (Object.keys(comm_msg.content).length > 0)) {\n",
       "  plot.model.document.apply_json_patch(comm_msg.content, comm_msg.buffers)\n",
       "}\n",
       "\n",
       "      }\n",
       "    }\n",
       "    if ((window.PyViz == undefined) || (!window.PyViz.comm_manager)) {\n",
       "      console.log(\"Could not find comm manager\")\n",
       "    } else {\n",
       "      window.PyViz.comm_manager.register_target('1031', '2fc8c7a544154a3b958ef24c27854ae7', msg_handler);\n",
       "    }\n",
       "    \n",
       "(function(root) {\n",
       "  function embed_document(root) {\n",
       "    \n",
       "  var docs_json = {\"2f792a7e-42bf-4cfb-b9e0-21c8a121afdc\":{\"roots\":{\"references\":[{\"attributes\":{\"code\":\"\\nif (!window.PyViz) {\\n  return;\\n}\\nvar events = [];\\nvar receiver = window.PyViz.receivers['1031'];\\nif (receiver &&\\n        receiver._partial &&\\n        receiver._partial.content &&\\n        receiver._partial.content.events) {\\n    events = receiver._partial.content.events;\\n}\\n\\nfor (var event of events) {\\n  if ((event.kind === 'ModelChanged') && (event.attr === 'camera') &&\\n      (cb_obj.id === event.model.id) &&\\n      (JSON.stringify(cb_obj['camera']) === JSON.stringify(event.new))) {\\n    events.pop(events.indexOf(event))\\n    return;\\n  }\\n}\\n\\ndata = {camera: cb_obj['camera'], 'id': cb_obj.id};\\ncb_obj.event_name = 'camera';\\n\\nfunction unique_events(events) {\\n  // Processes the event queue ignoring duplicate events\\n  // of the same type\\n  var unique = [];\\n  var unique_events = [];\\n  for (var i=0; i<events.length; i++) {\\n    var _tmpevent = events[i];\\n    event = _tmpevent[0];\\n    data = _tmpevent[1];\\n    if (unique_events.indexOf(event)===-1) {\\n      unique.unshift(data);\\n      unique_events.push(event);\\n      }\\n  }\\n  return unique;\\n}\\n\\nfunction process_events(comm_status) {\\n  // Iterates over event queue and sends events via Comm\\n  var events = unique_events(comm_status.event_buffer);\\n  for (var i=0; i<events.length; i++) {\\n    var data = events[i];\\n    var comm = window.PyViz.comms[data[\\\"comm_id\\\"]];\\n    comm.send(data);\\n  }\\n  comm_status.event_buffer = [];\\n}\\n\\nfunction on_msg(msg) {\\n  // Receives acknowledgement from Python, processing event\\n  // and unblocking Comm if event queue empty\\n  var metadata = msg.metadata;\\n  var comm_id = metadata.comm_id\\n  var comm_status = window.PyViz.comm_status[comm_id];\\n  if (comm_status.event_buffer.length) {\\n    process_events(comm_status);\\n    comm_status.blocked = true;\\n    comm_status.time = Date.now()+50;\\n  } else {\\n    comm_status.blocked = false;\\n  }\\n  comm_status.event_buffer = [];\\n  if ((metadata.msg_type == \\\"Ready\\\") && metadata.content) {\\n    console.log(\\\"Python callback returned following output:\\\", metadata.content);\\n  } else if (metadata.msg_type == \\\"Error\\\") {\\n    console.log(\\\"Python failed with the following traceback:\\\", metadata.traceback)\\n  }\\n}\\n\\n// Initialize Comm\\nif ((window.PyViz == undefined) || (window.PyViz.comm_manager == undefined)) { return }\\ncomm = window.PyViz.comm_manager.get_client_comm(\\\"1031\\\", \\\"9162f50c2d4a4745ae0f39d5e308178e\\\", on_msg);\\nif (!comm) {\\n  return\\n}\\n\\n// Initialize event queue and timeouts for Comm\\nvar comm_status = window.PyViz.comm_status[\\\"9162f50c2d4a4745ae0f39d5e308178e\\\"];\\nif (comm_status === undefined) {\\n  comm_status = {event_buffer: [], blocked: false, time: Date.now()}\\n  window.PyViz.comm_status[\\\"9162f50c2d4a4745ae0f39d5e308178e\\\"] = comm_status\\n}\\n\\n// Add current event to queue and process queue if not blocked\\nevent_name = cb_obj.event_name\\ndata['comm_id'] = \\\"9162f50c2d4a4745ae0f39d5e308178e\\\";\\ntimeout = comm_status.time + 20000;\\nif ((comm_status.blocked && (Date.now() < timeout))) {\\n  comm_status.event_buffer.unshift([event_name, data]);\\n} else {\\n  comm_status.event_buffer.unshift([event_name, data]);\\n  setTimeout(function() { process_events(comm_status); }, 50);\\n  comm_status.blocked = true;\\n  comm_status.time = Date.now()+50;\\n}\\n\"},\"id\":\"1033\",\"type\":\"CustomJS\"},{\"attributes\":{\"code\":\"\\nif (!window.PyViz) {\\n  return;\\n}\\nvar events = [];\\nvar receiver = window.PyViz.receivers['1031'];\\nif (receiver &&\\n        receiver._partial &&\\n        receiver._partial.content &&\\n        receiver._partial.content.events) {\\n    events = receiver._partial.content.events;\\n}\\n\\nfor (var event of events) {\\n  if ((event.kind === 'ModelChanged') && (event.attr === 'enable_keybindings') &&\\n      (cb_obj.id === event.model.id) &&\\n      (JSON.stringify(cb_obj['enable_keybindings']) === JSON.stringify(event.new))) {\\n    events.pop(events.indexOf(event))\\n    return;\\n  }\\n}\\n\\ndata = {enable_keybindings: cb_obj['enable_keybindings'], 'id': cb_obj.id};\\ncb_obj.event_name = 'enable_keybindings';\\n\\nfunction unique_events(events) {\\n  // Processes the event queue ignoring duplicate events\\n  // of the same type\\n  var unique = [];\\n  var unique_events = [];\\n  for (var i=0; i<events.length; i++) {\\n    var _tmpevent = events[i];\\n    event = _tmpevent[0];\\n    data = _tmpevent[1];\\n    if (unique_events.indexOf(event)===-1) {\\n      unique.unshift(data);\\n      unique_events.push(event);\\n      }\\n  }\\n  return unique;\\n}\\n\\nfunction process_events(comm_status) {\\n  // Iterates over event queue and sends events via Comm\\n  var events = unique_events(comm_status.event_buffer);\\n  for (var i=0; i<events.length; i++) {\\n    var data = events[i];\\n    var comm = window.PyViz.comms[data[\\\"comm_id\\\"]];\\n    comm.send(data);\\n  }\\n  comm_status.event_buffer = [];\\n}\\n\\nfunction on_msg(msg) {\\n  // Receives acknowledgement from Python, processing event\\n  // and unblocking Comm if event queue empty\\n  var metadata = msg.metadata;\\n  var comm_id = metadata.comm_id\\n  var comm_status = window.PyViz.comm_status[comm_id];\\n  if (comm_status.event_buffer.length) {\\n    process_events(comm_status);\\n    comm_status.blocked = true;\\n    comm_status.time = Date.now()+50;\\n  } else {\\n    comm_status.blocked = false;\\n  }\\n  comm_status.event_buffer = [];\\n  if ((metadata.msg_type == \\\"Ready\\\") && metadata.content) {\\n    console.log(\\\"Python callback returned following output:\\\", metadata.content);\\n  } else if (metadata.msg_type == \\\"Error\\\") {\\n    console.log(\\\"Python failed with the following traceback:\\\", metadata.traceback)\\n  }\\n}\\n\\n// Initialize Comm\\nif ((window.PyViz == undefined) || (window.PyViz.comm_manager == undefined)) { return }\\ncomm = window.PyViz.comm_manager.get_client_comm(\\\"1031\\\", \\\"9162f50c2d4a4745ae0f39d5e308178e\\\", on_msg);\\nif (!comm) {\\n  return\\n}\\n\\n// Initialize event queue and timeouts for Comm\\nvar comm_status = window.PyViz.comm_status[\\\"9162f50c2d4a4745ae0f39d5e308178e\\\"];\\nif (comm_status === undefined) {\\n  comm_status = {event_buffer: [], blocked: false, time: Date.now()}\\n  window.PyViz.comm_status[\\\"9162f50c2d4a4745ae0f39d5e308178e\\\"] = comm_status\\n}\\n\\n// Add current event to queue and process queue if not blocked\\nevent_name = cb_obj.event_name\\ndata['comm_id'] = \\\"9162f50c2d4a4745ae0f39d5e308178e\\\";\\ntimeout = comm_status.time + 20000;\\nif ((comm_status.blocked && (Date.now() < timeout))) {\\n  comm_status.event_buffer.unshift([event_name, data]);\\n} else {\\n  comm_status.event_buffer.unshift([event_name, data]);\\n  setTimeout(function() { process_events(comm_status); }, 50);\\n  comm_status.blocked = true;\\n  comm_status.time = Date.now()+50;\\n}\\n\"},\"id\":\"1034\",\"type\":\"CustomJS\"},{\"attributes\":{\"data\":\"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\",\"height\":400,\"js_property_callbacks\":{\"change:camera\":[{\"id\":\"1033\",\"type\":\"CustomJS\"}],\"change:data\":[{\"id\":\"1032\",\"type\":\"CustomJS\"}],\"change:enable_keybindings\":[{\"id\":\"1034\",\"type\":\"CustomJS\"}],\"change:orientation_widget\":[{\"id\":\"1035\",\"type\":\"CustomJS\"}]},\"margin\":[5,5,5,5],\"name\":\"VTK00038\",\"sizing_mode\":\"stretch_width\"},\"id\":\"1031\",\"type\":\"panel.models.vtk.VTKPlot\"},{\"attributes\":{\"code\":\"\\nif (!window.PyViz) {\\n  return;\\n}\\nvar events = [];\\nvar receiver = window.PyViz.receivers['1031'];\\nif (receiver &&\\n        receiver._partial &&\\n        receiver._partial.content &&\\n        receiver._partial.content.events) {\\n    events = receiver._partial.content.events;\\n}\\n\\nfor (var event of events) {\\n  if ((event.kind === 'ModelChanged') && (event.attr === 'data') &&\\n      (cb_obj.id === event.model.id) &&\\n      (JSON.stringify(cb_obj['data']) === JSON.stringify(event.new))) {\\n    events.pop(events.indexOf(event))\\n    return;\\n  }\\n}\\n\\ndata = {data: cb_obj['data'], 'id': cb_obj.id};\\ncb_obj.event_name = 'data';\\n\\nfunction unique_events(events) {\\n  // Processes the event queue ignoring duplicate events\\n  // of the same type\\n  var unique = [];\\n  var unique_events = [];\\n  for (var i=0; i<events.length; i++) {\\n    var _tmpevent = events[i];\\n    event = _tmpevent[0];\\n    data = _tmpevent[1];\\n    if (unique_events.indexOf(event)===-1) {\\n      unique.unshift(data);\\n      unique_events.push(event);\\n      }\\n  }\\n  return unique;\\n}\\n\\nfunction process_events(comm_status) {\\n  // Iterates over event queue and sends events via Comm\\n  var events = unique_events(comm_status.event_buffer);\\n  for (var i=0; i<events.length; i++) {\\n    var data = events[i];\\n    var comm = window.PyViz.comms[data[\\\"comm_id\\\"]];\\n    comm.send(data);\\n  }\\n  comm_status.event_buffer = [];\\n}\\n\\nfunction on_msg(msg) {\\n  // Receives acknowledgement from Python, processing event\\n  // and unblocking Comm if event queue empty\\n  var metadata = msg.metadata;\\n  var comm_id = metadata.comm_id\\n  var comm_status = window.PyViz.comm_status[comm_id];\\n  if (comm_status.event_buffer.length) {\\n    process_events(comm_status);\\n    comm_status.blocked = true;\\n    comm_status.time = Date.now()+50;\\n  } else {\\n    comm_status.blocked = false;\\n  }\\n  comm_status.event_buffer = [];\\n  if ((metadata.msg_type == \\\"Ready\\\") && metadata.content) {\\n    console.log(\\\"Python callback returned following output:\\\", metadata.content);\\n  } else if (metadata.msg_type == \\\"Error\\\") {\\n    console.log(\\\"Python failed with the following traceback:\\\", metadata.traceback)\\n  }\\n}\\n\\n// Initialize Comm\\nif ((window.PyViz == undefined) || (window.PyViz.comm_manager == undefined)) { return }\\ncomm = window.PyViz.comm_manager.get_client_comm(\\\"1031\\\", \\\"9162f50c2d4a4745ae0f39d5e308178e\\\", on_msg);\\nif (!comm) {\\n  return\\n}\\n\\n// Initialize event queue and timeouts for Comm\\nvar comm_status = window.PyViz.comm_status[\\\"9162f50c2d4a4745ae0f39d5e308178e\\\"];\\nif (comm_status === undefined) {\\n  comm_status = {event_buffer: [], blocked: false, time: Date.now()}\\n  window.PyViz.comm_status[\\\"9162f50c2d4a4745ae0f39d5e308178e\\\"] = comm_status\\n}\\n\\n// Add current event to queue and process queue if not blocked\\nevent_name = cb_obj.event_name\\ndata['comm_id'] = \\\"9162f50c2d4a4745ae0f39d5e308178e\\\";\\ntimeout = comm_status.time + 20000;\\nif ((comm_status.blocked && (Date.now() < timeout))) {\\n  comm_status.event_buffer.unshift([event_name, data]);\\n} else {\\n  comm_status.event_buffer.unshift([event_name, data]);\\n  setTimeout(function() { process_events(comm_status); }, 50);\\n  comm_status.blocked = true;\\n  comm_status.time = Date.now()+50;\\n}\\n\"},\"id\":\"1032\",\"type\":\"CustomJS\"},{\"attributes\":{\"code\":\"\\nif (!window.PyViz) {\\n  return;\\n}\\nvar events = [];\\nvar receiver = window.PyViz.receivers['1031'];\\nif (receiver &&\\n        receiver._partial &&\\n        receiver._partial.content &&\\n        receiver._partial.content.events) {\\n    events = receiver._partial.content.events;\\n}\\n\\nfor (var event of events) {\\n  if ((event.kind === 'ModelChanged') && (event.attr === 'orientation_widget') &&\\n      (cb_obj.id === event.model.id) &&\\n      (JSON.stringify(cb_obj['orientation_widget']) === JSON.stringify(event.new))) {\\n    events.pop(events.indexOf(event))\\n    return;\\n  }\\n}\\n\\ndata = {orientation_widget: cb_obj['orientation_widget'], 'id': cb_obj.id};\\ncb_obj.event_name = 'orientation_widget';\\n\\nfunction unique_events(events) {\\n  // Processes the event queue ignoring duplicate events\\n  // of the same type\\n  var unique = [];\\n  var unique_events = [];\\n  for (var i=0; i<events.length; i++) {\\n    var _tmpevent = events[i];\\n    event = _tmpevent[0];\\n    data = _tmpevent[1];\\n    if (unique_events.indexOf(event)===-1) {\\n      unique.unshift(data);\\n      unique_events.push(event);\\n      }\\n  }\\n  return unique;\\n}\\n\\nfunction process_events(comm_status) {\\n  // Iterates over event queue and sends events via Comm\\n  var events = unique_events(comm_status.event_buffer);\\n  for (var i=0; i<events.length; i++) {\\n    var data = events[i];\\n    var comm = window.PyViz.comms[data[\\\"comm_id\\\"]];\\n    comm.send(data);\\n  }\\n  comm_status.event_buffer = [];\\n}\\n\\nfunction on_msg(msg) {\\n  // Receives acknowledgement from Python, processing event\\n  // and unblocking Comm if event queue empty\\n  var metadata = msg.metadata;\\n  var comm_id = metadata.comm_id\\n  var comm_status = window.PyViz.comm_status[comm_id];\\n  if (comm_status.event_buffer.length) {\\n    process_events(comm_status);\\n    comm_status.blocked = true;\\n    comm_status.time = Date.now()+50;\\n  } else {\\n    comm_status.blocked = false;\\n  }\\n  comm_status.event_buffer = [];\\n  if ((metadata.msg_type == \\\"Ready\\\") && metadata.content) {\\n    console.log(\\\"Python callback returned following output:\\\", metadata.content);\\n  } else if (metadata.msg_type == \\\"Error\\\") {\\n    console.log(\\\"Python failed with the following traceback:\\\", metadata.traceback)\\n  }\\n}\\n\\n// Initialize Comm\\nif ((window.PyViz == undefined) || (window.PyViz.comm_manager == undefined)) { return }\\ncomm = window.PyViz.comm_manager.get_client_comm(\\\"1031\\\", \\\"9162f50c2d4a4745ae0f39d5e308178e\\\", on_msg);\\nif (!comm) {\\n  return\\n}\\n\\n// Initialize event queue and timeouts for Comm\\nvar comm_status = window.PyViz.comm_status[\\\"9162f50c2d4a4745ae0f39d5e308178e\\\"];\\nif (comm_status === undefined) {\\n  comm_status = {event_buffer: [], blocked: false, time: Date.now()}\\n  window.PyViz.comm_status[\\\"9162f50c2d4a4745ae0f39d5e308178e\\\"] = comm_status\\n}\\n\\n// Add current event to queue and process queue if not blocked\\nevent_name = cb_obj.event_name\\ndata['comm_id'] = \\\"9162f50c2d4a4745ae0f39d5e308178e\\\";\\ntimeout = comm_status.time + 20000;\\nif ((comm_status.blocked && (Date.now() < timeout))) {\\n  comm_status.event_buffer.unshift([event_name, data]);\\n} else {\\n  comm_status.event_buffer.unshift([event_name, data]);\\n  setTimeout(function() { process_events(comm_status); }, 50);\\n  comm_status.blocked = true;\\n  comm_status.time = Date.now()+50;\\n}\\n\"},\"id\":\"1035\",\"type\":\"CustomJS\"}],\"root_ids\":[\"1031\"]},\"title\":\"Bokeh Application\",\"version\":\"1.4.0\"}};\n",
       "  var render_items = [{\"docid\":\"2f792a7e-42bf-4cfb-b9e0-21c8a121afdc\",\"roots\":{\"1031\":\"0712220b-88a5-42bb-86dd-dffc9abb3089\"}}];\n",
       "  root.Bokeh.embed.embed_items_notebook(docs_json, render_items);\n",
       "\n",
       "  }\n",
       "  if (root.Bokeh !== undefined) {\n",
       "    embed_document(root);\n",
       "  } else {\n",
       "    var attempts = 0;\n",
       "    var timer = setInterval(function(root) {\n",
       "      if (root.Bokeh !== undefined) {\n",
       "        clearInterval(timer);\n",
       "        embed_document(root);\n",
       "      } else {\n",
       "        attempts++;\n",
       "        if (attempts > 100) {\n",
       "          clearInterval(timer);\n",
       "          console.log(\"Bokeh: ERROR: Unable to run BokehJS code because BokehJS library is missing\");\n",
       "        }\n",
       "      }\n",
       "    }, 10, root)\n",
       "  }\n",
       "})(window);</script>"
      ],
      "text/plain": [
       "VTK(vtkXOpenGLRenderWindow, height=400, sizing_mode='stretch_width')"
      ]
     },
     "execution_count": 18,
     "metadata": {
      "application/vnd.holoviews_exec.v0+json": {
       "id": "1031"
      }
     },
     "output_type": "execute_result"
    }
   ],
   "source": [
    "add_interval_without_show(strip[14],plotter2)\n",
    "plotter2.show(auto_close=False, use_panel=True)"
   ]
  },
  {
   "cell_type": "code",
   "execution_count": null,
   "metadata": {},
   "outputs": [],
   "source": []
  },
  {
   "cell_type": "markdown",
   "metadata": {},
   "source": [
    "### Add Multiple Intervals on the same plot"
   ]
  },
  {
   "cell_type": "code",
   "execution_count": null,
   "metadata": {},
   "outputs": [],
   "source": [
    "list_of_intervals = []\n",
    "for i in strip:\n",
    "    list_of_intervals.append(i)"
   ]
  },
  {
   "cell_type": "code",
   "execution_count": null,
   "metadata": {},
   "outputs": [],
   "source": [
    "for x in list_of_intervals:\n",
    "    add_interval(x,plotter1)\n"
   ]
  },
  {
   "cell_type": "code",
   "execution_count": null,
   "metadata": {},
   "outputs": [],
   "source": [
    "list_of_intervals[2]"
   ]
  },
  {
   "cell_type": "code",
   "execution_count": null,
   "metadata": {
    "scrolled": true
   },
   "outputs": [],
   "source": [
    "list_of_intervals = []\n",
    "for i in strip:\n",
    "    list_of_intervals.append(i)"
   ]
  },
  {
   "cell_type": "code",
   "execution_count": null,
   "metadata": {},
   "outputs": [],
   "source": [
    "list_of_intervals"
   ]
  },
  {
   "cell_type": "code",
   "execution_count": null,
   "metadata": {
    "scrolled": true
   },
   "outputs": [],
   "source": [
    "alist = []\n",
    "for i in strip:\n",
    "        alist[j] = i\n",
    "        j=j+1"
   ]
  },
  {
   "cell_type": "code",
   "execution_count": null,
   "metadata": {},
   "outputs": [],
   "source": [
    "add_interval()"
   ]
  },
  {
   "cell_type": "code",
   "execution_count": null,
   "metadata": {},
   "outputs": [],
   "source": [
    "cylinder_from_interval(i00)"
   ]
  },
  {
   "cell_type": "code",
   "execution_count": null,
   "metadata": {},
   "outputs": [],
   "source": [
    "interval_20 = strip[2]"
   ]
  },
  {
   "cell_type": "code",
   "execution_count": null,
   "metadata": {},
   "outputs": [],
   "source": [
    "interval_00 = pv.Cylinder(\n",
    "    center=(0.0, 0.0, -center_00),\n",
    "    direction=(0.0, 0.0, 1.0),\n",
    "    radius=0.1,\n",
    "    height=5.0,\n",
    "    resolution=10,   \n",
    ")\n",
    "interval_01 = pv.Cylinder(\n",
    "    center=(0.0, 0.0, 0.0),\n",
    "    direction=(0.0, 0.0, 1.0),\n",
    "    radius=0.1,\n",
    "    height=5.0,\n",
    "    resolution=10,\n",
    "    \n",
    ")"
   ]
  },
  {
   "cell_type": "markdown",
   "metadata": {},
   "source": [
    "### Display Striplog"
   ]
  },
  {
   "cell_type": "code",
   "execution_count": null,
   "metadata": {},
   "outputs": [],
   "source": [
    "strip[0]"
   ]
  },
  {
   "cell_type": "code",
   "execution_count": null,
   "metadata": {},
   "outputs": [],
   "source": [
    "strip.plot(legend, ladder=True, aspect=5)"
   ]
  },
  {
   "cell_type": "markdown",
   "metadata": {},
   "source": [
    "### Create a Cylinder in pyvista"
   ]
  },
  {
   "cell_type": "code",
   "execution_count": null,
   "metadata": {},
   "outputs": [],
   "source": [
    "? pv.Cylinder"
   ]
  },
  {
   "cell_type": "code",
   "execution_count": null,
   "metadata": {},
   "outputs": [],
   "source": [
    "? pv.CylinderStructured"
   ]
  },
  {
   "cell_type": "code",
   "execution_count": null,
   "metadata": {},
   "outputs": [],
   "source": [
    "cyl = pv.Cylinder(\n",
    "    center=(0.0, 0.0, 0.0),\n",
    "    direction=(0.0, 0.0, 1.0),\n",
    "    radius=0.1,\n",
    "    height=5.0,\n",
    "    resolution=10,\n",
    "    \n",
    ")\n"
   ]
  },
  {
   "cell_type": "code",
   "execution_count": null,
   "metadata": {},
   "outputs": [],
   "source": [
    "#p = pv.Plotter(shape=(1,1))\n",
    "p.add_mesh(cyl, color=\"tan\", show_edges=True)\n",
    "p.show()"
   ]
  },
  {
   "cell_type": "markdown",
   "metadata": {},
   "source": [
    "## Create a function that locates the borehole "
   ]
  },
  {
   "cell_type": "code",
   "execution_count": null,
   "metadata": {},
   "outputs": [],
   "source": []
  }
 ],
 "metadata": {
  "kernelspec": {
   "display_name": "Python 3",
   "language": "python",
   "name": "python3"
  },
  "language_info": {
   "codemirror_mode": {
    "name": "ipython",
    "version": 3
   },
   "file_extension": ".py",
   "mimetype": "text/x-python",
   "name": "python",
   "nbconvert_exporter": "python",
   "pygments_lexer": "ipython3",
   "version": "3.6.8"
  }
 },
 "nbformat": 4,
 "nbformat_minor": 2
}

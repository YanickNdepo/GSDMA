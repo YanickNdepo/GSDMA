{
 "cells": [
  {
   "cell_type": "markdown",
   "metadata": {},
   "source": [
    "## Basic Objects\n",
    "\n",
    "A striplog depends on a hierarchy of objects. This notebook shows the objects and their basic functionality.\n",
    "\n",
    "  * Lexicon: A dictionary containing the words and word categories to use for rock descriptions.\n",
    "  * Component: A set of attributes.\n",
    "  * Interval: One element from a Striplog — consists of a top, base, a description, one or more Components, and a source."
   ]
  },
  {
   "cell_type": "code",
   "execution_count": 7,
   "metadata": {},
   "outputs": [
    {
     "data": {
      "text/plain": [
       "'0.8.3'"
      ]
     },
     "execution_count": 7,
     "metadata": {},
     "output_type": "execute_result"
    }
   ],
   "source": [
    "import striplog\n",
    "striplog.__version__"
   ]
  },
  {
   "cell_type": "markdown",
   "metadata": {},
   "source": [
    "### Lexicon"
   ]
  },
  {
   "cell_type": "code",
   "execution_count": 4,
   "metadata": {},
   "outputs": [],
   "source": [
    "from striplog import Lexicon"
   ]
  },
  {
   "cell_type": "code",
   "execution_count": 5,
   "metadata": {},
   "outputs": [
    {
     "name": "stdout",
     "output_type": "stream",
     "text": [
      "\n",
      "    A Lexicon is a dictionary of 'types' and regex patterns.\n",
      "\n",
      "    Most commonly you will just load the default one.\n",
      "\n",
      "    Args:\n",
      "        params (dict): The dictionary to use. For an example, refer to the\n",
      "            default lexicon in ``defaults.py``.\n",
      "    \n"
     ]
    }
   ],
   "source": [
    "print(Lexicon.__doc__)"
   ]
  },
  {
   "cell_type": "markdown",
   "metadata": {},
   "source": [
    "### Component"
   ]
  },
  {
   "cell_type": "code",
   "execution_count": 6,
   "metadata": {},
   "outputs": [],
   "source": [
    "from striplog import Component"
   ]
  },
  {
   "cell_type": "code",
   "execution_count": 8,
   "metadata": {},
   "outputs": [
    {
     "name": "stdout",
     "output_type": "stream",
     "text": [
      "\n",
      "    Initialize with a dictionary of properties. You can use any\n",
      "    properties you want e.g.:\n",
      "\n",
      "        - lithology: a simple one-word rock type\n",
      "        - colour, e.g. 'grey'\n",
      "        - grainsize or range, e.g. 'vf-f'\n",
      "        - modifier, e.g. 'rippled'\n",
      "        - quantity, e.g. '35%', or 'stringers'\n",
      "        - description, e.g. from cuttings\n",
      "    \n"
     ]
    }
   ],
   "source": [
    "print(Component.__doc__)"
   ]
  },
  {
   "cell_type": "code",
   "execution_count": 14,
   "metadata": {},
   "outputs": [
    {
     "data": {
      "text/html": [
       "<table><tr><td><strong>colour</strong></td><td>grey</td></tr><tr><td><strong>grainsize</strong></td><td>vf-f</td></tr><tr><td><strong>lithology</strong></td><td>sand</td></tr></table>"
      ],
      "text/plain": [
       "Component({'colour': 'grey', 'grainsize': 'vf-f', 'lithology': 'sand'})"
      ]
     },
     "execution_count": 14,
     "metadata": {},
     "output_type": "execute_result"
    }
   ],
   "source": [
    "\n",
    "r = {'colour': 'grey',\n",
    "     'grainsize': 'vf-f',\n",
    "     'lithology': 'sand'}\n",
    "rock = Component(r)\n",
    "rock"
   ]
  },
  {
   "cell_type": "markdown",
   "metadata": {},
   "source": [
    "### Position\n",
    "Positions define points in the earth, like a top, but with uncertainty. You can define:\n",
    "\n",
    "  * upper — the highest possible location \n",
    "  * middle — the most likely location\n",
    "  * lower — the lowest possible location\n",
    "  * units — the units of measurement\n",
    "  * x and y — the x and y location (these don't have uncertainty, sorry)\n",
    "  * meta — a Python dictionary containing anything you want -> ogr"
   ]
  },
  {
   "cell_type": "code",
   "execution_count": 10,
   "metadata": {},
   "outputs": [
    {
     "name": "stdout",
     "output_type": "stream",
     "text": [
      "\n",
      "    Used to represent a position: a top or base.\n",
      "\n",
      "    Not sure whether to go with upper-middle-lower or z_max, z_mid, z_min.\n",
      "    Sticking to upper and lower, because ordering in Intervals is already\n",
      "    based on 'above' and 'below'.\n",
      "    \n"
     ]
    }
   ],
   "source": [
    "from striplog import Position\n",
    "print(Position.__doc__)"
   ]
  },
  {
   "cell_type": "markdown",
   "metadata": {},
   "source": [
    "### Interval\n",
    "Intervals are where it gets interesting. An interval can have:\n",
    "\n",
    "  * a top\n",
    "  * a base\n",
    "  * a description (in natural language)\n",
    "  * a list of Components"
   ]
  },
  {
   "cell_type": "code",
   "execution_count": 12,
   "metadata": {
    "collapsed": true
   },
   "outputs": [
    {
     "name": "stdout",
     "output_type": "stream",
     "text": [
      "\n",
      "    Used to represent a lithologic or stratigraphic interval, or single point,\n",
      "    such as a sample location.\n",
      "\n",
      "    Initialize with a top (and optional base) and a description and/or\n",
      "    an ordered list of components.\n",
      "\n",
      "    Args:\n",
      "        top (float): Required top depth. Required.\n",
      "        base (float): Base depth. Optional.\n",
      "        description (str): Textual description.\n",
      "        lexicon (dict): A lexicon. See documentation. Optional unless you only\n",
      "            provide descriptions, because it's needed to extract components.\n",
      "        max_component (int): The number of components to extract. Default 1.\n",
      "        abbreviations (bool): Whether to parse for abbreviations.\n",
      "\n",
      "    TODO:\n",
      "        Seems like I should be able to instantiate like this:\n",
      "\n",
      "            ``Interval({'top': 0, 'components':[Component({'age': 'Neogene'})``s\n",
      "\n",
      "        I can get around it for now like this:\n",
      "\n",
      "            ``Interval(**{'top': 0, 'components':[Component({'age': 'Neogene'})``\n",
      "\n",
      "        Question: should Interval itself cope with only being handed 'top' and\n",
      "        either fill in down to the next or optionally create a point?\n",
      "    \n"
     ]
    }
   ],
   "source": [
    "from striplog import Interval\n",
    "print(Interval.__doc__)"
   ]
  },
  {
   "cell_type": "code",
   "execution_count": 15,
   "metadata": {},
   "outputs": [
    {
     "data": {
      "text/html": [
       "<table><tr><td style=\"width:2em; background-color:#DDDDDD\" rowspan=\"6\"></td><td><strong>top</strong></td><td>10.0</td></tr><tr><td><strong>primary</strong></td><td><table><tr><td><strong>colour</strong></td><td>grey</td></tr><tr><td><strong>grainsize</strong></td><td>vf-f</td></tr><tr><td><strong>lithology</strong></td><td>sand</td></tr></table></td></tr><tr><td><strong>summary</strong></td><td>10.00 m of grey, vf-f, sand</td></tr><tr><td><strong>description</strong></td><td></td></tr><tr><td><strong>data</strong></td><td><table></table></td></tr><tr><td><strong>base</strong></td><td>20.0</td></tr></table>"
      ],
      "text/plain": [
       "Interval({'top': Position({'middle': 10.0, 'units': 'm'}), 'base': Position({'middle': 20.0, 'units': 'm'}), 'description': '', 'data': {}, 'components': [Component({'colour': 'grey', 'grainsize': 'vf-f', 'lithology': 'sand'})]})"
      ]
     },
     "execution_count": 15,
     "metadata": {},
     "output_type": "execute_result"
    }
   ],
   "source": [
    "Interval(10, 20, components=[rock])"
   ]
  },
  {
   "cell_type": "code",
   "execution_count": null,
   "metadata": {},
   "outputs": [],
   "source": []
  },
  {
   "cell_type": "code",
   "execution_count": null,
   "metadata": {},
   "outputs": [],
   "source": []
  }
 ],
 "metadata": {
  "kernelspec": {
   "display_name": "Python 3",
   "language": "python",
   "name": "python3"
  },
  "language_info": {
   "codemirror_mode": {
    "name": "ipython",
    "version": 3
   },
   "file_extension": ".py",
   "mimetype": "text/x-python",
   "name": "python",
   "nbconvert_exporter": "python",
   "pygments_lexer": "ipython3",
   "version": "3.6.8"
  }
 },
 "nbformat": 4,
 "nbformat_minor": 2
}

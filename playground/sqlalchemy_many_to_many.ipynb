{
 "cells": [
  {
   "cell_type": "code",
   "execution_count": 1,
   "metadata": {},
   "outputs": [],
   "source": [
    "from sqlalchemy import create_engine, ForeignKey, Column, Integer, String\n",
    "engine = create_engine('sqlite:///mycollege.db', echo = True)\n",
    "from sqlalchemy.ext.declarative import declarative_base\n",
    "Base = declarative_base()\n",
    "from sqlalchemy.orm import relationship"
   ]
  },
  {
   "cell_type": "code",
   "execution_count": 2,
   "metadata": {},
   "outputs": [],
   "source": [
    "class Department(Base):\n",
    "    __tablename__ = 'department'\n",
    "    id = Column(Integer, primary_key = True)\n",
    "    name = Column(String)\n",
    "    employees = relationship('Employee', secondary = 'link')\n",
    "    \n",
    "class Employee(Base):\n",
    "    __tablename__ = 'employee'\n",
    "    id = Column(Integer, primary_key = True)\n",
    "    name = Column(String)\n",
    "    departments = relationship(Department,secondary='link')"
   ]
  },
  {
   "cell_type": "code",
   "execution_count": 3,
   "metadata": {},
   "outputs": [],
   "source": [
    "class Link(Base):\n",
    "    __tablename__ = 'link'\n",
    "    department_id = Column(\n",
    "        Integer, \n",
    "        ForeignKey('department.id'), \n",
    "        primary_key = True)\n",
    "\n",
    "    employee_id = Column(\n",
    "       Integer, \n",
    "       ForeignKey('employee.id'), \n",
    "       primary_key = True)"
   ]
  },
  {
   "cell_type": "code",
   "execution_count": 4,
   "metadata": {},
   "outputs": [
    {
     "name": "stdout",
     "output_type": "stream",
     "text": [
      "2020-12-04 12:14:43,320 INFO sqlalchemy.engine.base.Engine SELECT CAST('test plain returns' AS VARCHAR(60)) AS anon_1\n",
      "2020-12-04 12:14:43,320 INFO sqlalchemy.engine.base.Engine ()\n",
      "2020-12-04 12:14:43,322 INFO sqlalchemy.engine.base.Engine SELECT CAST('test unicode returns' AS VARCHAR(60)) AS anon_1\n",
      "2020-12-04 12:14:43,323 INFO sqlalchemy.engine.base.Engine ()\n",
      "2020-12-04 12:14:43,323 INFO sqlalchemy.engine.base.Engine PRAGMA main.table_info(\"department\")\n",
      "2020-12-04 12:14:43,324 INFO sqlalchemy.engine.base.Engine ()\n",
      "2020-12-04 12:14:43,325 INFO sqlalchemy.engine.base.Engine PRAGMA temp.table_info(\"department\")\n",
      "2020-12-04 12:14:43,325 INFO sqlalchemy.engine.base.Engine ()\n",
      "2020-12-04 12:14:43,326 INFO sqlalchemy.engine.base.Engine PRAGMA main.table_info(\"employee\")\n",
      "2020-12-04 12:14:43,326 INFO sqlalchemy.engine.base.Engine ()\n",
      "2020-12-04 12:14:43,326 INFO sqlalchemy.engine.base.Engine PRAGMA temp.table_info(\"employee\")\n",
      "2020-12-04 12:14:43,327 INFO sqlalchemy.engine.base.Engine ()\n",
      "2020-12-04 12:14:43,328 INFO sqlalchemy.engine.base.Engine PRAGMA main.table_info(\"link\")\n",
      "2020-12-04 12:14:43,328 INFO sqlalchemy.engine.base.Engine ()\n",
      "2020-12-04 12:14:43,330 INFO sqlalchemy.engine.base.Engine PRAGMA temp.table_info(\"link\")\n",
      "2020-12-04 12:14:43,332 INFO sqlalchemy.engine.base.Engine ()\n",
      "2020-12-04 12:14:43,333 INFO sqlalchemy.engine.base.Engine \n",
      "CREATE TABLE department (\n",
      "\tid INTEGER NOT NULL, \n",
      "\tname VARCHAR, \n",
      "\tPRIMARY KEY (id)\n",
      ")\n",
      "\n",
      "\n",
      "2020-12-04 12:14:43,334 INFO sqlalchemy.engine.base.Engine ()\n",
      "2020-12-04 12:14:43,337 INFO sqlalchemy.engine.base.Engine COMMIT\n",
      "2020-12-04 12:14:43,337 INFO sqlalchemy.engine.base.Engine \n",
      "CREATE TABLE employee (\n",
      "\tid INTEGER NOT NULL, \n",
      "\tname VARCHAR, \n",
      "\tPRIMARY KEY (id)\n",
      ")\n",
      "\n",
      "\n",
      "2020-12-04 12:14:43,338 INFO sqlalchemy.engine.base.Engine ()\n",
      "2020-12-04 12:14:43,340 INFO sqlalchemy.engine.base.Engine COMMIT\n",
      "2020-12-04 12:14:43,341 INFO sqlalchemy.engine.base.Engine \n",
      "CREATE TABLE link (\n",
      "\tdepartment_id INTEGER NOT NULL, \n",
      "\temployee_id INTEGER NOT NULL, \n",
      "\tPRIMARY KEY (department_id, employee_id), \n",
      "\tFOREIGN KEY(department_id) REFERENCES department (id), \n",
      "\tFOREIGN KEY(employee_id) REFERENCES employee (id)\n",
      ")\n",
      "\n",
      "\n",
      "2020-12-04 12:14:43,341 INFO sqlalchemy.engine.base.Engine ()\n",
      "2020-12-04 12:14:43,344 INFO sqlalchemy.engine.base.Engine COMMIT\n"
     ]
    }
   ],
   "source": [
    "Base.metadata.create_all(engine)"
   ]
  },
  {
   "cell_type": "code",
   "execution_count": 5,
   "metadata": {},
   "outputs": [],
   "source": [
    "d1 = Department(name = \"Accounts\")\n",
    "d2 = Department(name = \"Sales\")\n",
    "d3 = Department(name = \"Marketing\")\n",
    "\n",
    "e1 = Employee(name = \"John\")\n",
    "e2 = Employee(name = \"Tony\")\n",
    "e3 = Employee(name = \"Graham\")"
   ]
  },
  {
   "cell_type": "code",
   "execution_count": 6,
   "metadata": {},
   "outputs": [],
   "source": [
    "e1.departments.append(d1)\n",
    "e2.departments.append(d3)\n",
    "d1.employees.append(e3)\n",
    "d2.employees.append(e2)\n",
    "d3.employees.append(e1)\n",
    "e3.departments.append(d2)"
   ]
  },
  {
   "cell_type": "code",
   "execution_count": 7,
   "metadata": {},
   "outputs": [
    {
     "name": "stdout",
     "output_type": "stream",
     "text": [
      "2020-12-04 12:14:43,365 INFO sqlalchemy.engine.base.Engine BEGIN (implicit)\n",
      "2020-12-04 12:14:43,367 INFO sqlalchemy.engine.base.Engine INSERT INTO department (name) VALUES (?)\n",
      "2020-12-04 12:14:43,368 INFO sqlalchemy.engine.base.Engine ('Accounts',)\n",
      "2020-12-04 12:14:43,369 INFO sqlalchemy.engine.base.Engine INSERT INTO department (name) VALUES (?)\n",
      "2020-12-04 12:14:43,369 INFO sqlalchemy.engine.base.Engine ('Sales',)\n",
      "2020-12-04 12:14:43,370 INFO sqlalchemy.engine.base.Engine INSERT INTO department (name) VALUES (?)\n",
      "2020-12-04 12:14:43,370 INFO sqlalchemy.engine.base.Engine ('Marketing',)\n",
      "2020-12-04 12:14:43,371 INFO sqlalchemy.engine.base.Engine INSERT INTO employee (name) VALUES (?)\n",
      "2020-12-04 12:14:43,373 INFO sqlalchemy.engine.base.Engine ('John',)\n",
      "2020-12-04 12:14:43,374 INFO sqlalchemy.engine.base.Engine INSERT INTO employee (name) VALUES (?)\n",
      "2020-12-04 12:14:43,374 INFO sqlalchemy.engine.base.Engine ('Graham',)\n",
      "2020-12-04 12:14:43,375 INFO sqlalchemy.engine.base.Engine INSERT INTO employee (name) VALUES (?)\n",
      "2020-12-04 12:14:43,376 INFO sqlalchemy.engine.base.Engine ('Tony',)\n",
      "2020-12-04 12:14:43,377 INFO sqlalchemy.engine.base.Engine INSERT INTO link (department_id, employee_id) VALUES (?, ?)\n",
      "2020-12-04 12:14:43,378 INFO sqlalchemy.engine.base.Engine ((2, 2), (3, 3), (1, 1))\n",
      "2020-12-04 12:14:43,380 INFO sqlalchemy.engine.base.Engine INSERT INTO link (department_id, employee_id) VALUES (?, ?)\n",
      "2020-12-04 12:14:43,380 INFO sqlalchemy.engine.base.Engine ((3, 1), (1, 2), (2, 3))\n",
      "2020-12-04 12:14:43,381 INFO sqlalchemy.engine.base.Engine COMMIT\n"
     ]
    }
   ],
   "source": [
    "from sqlalchemy.orm import sessionmaker\n",
    "Session = sessionmaker(bind = engine)\n",
    "session = Session()\n",
    "session.add(e1)\n",
    "session.add(e2)\n",
    "session.add(d1)\n",
    "session.add(d2)\n",
    "session.add(d3)\n",
    "session.add(e3)\n",
    "session.commit()"
   ]
  },
  {
   "cell_type": "code",
   "execution_count": 8,
   "metadata": {},
   "outputs": [
    {
     "name": "stdout",
     "output_type": "stream",
     "text": [
      "2020-12-04 12:14:43,390 INFO sqlalchemy.engine.base.Engine BEGIN (implicit)\n",
      "2020-12-04 12:14:43,391 INFO sqlalchemy.engine.base.Engine SELECT department.id AS department_id, department.name AS department_name, employee.id AS employee_id, employee.name AS employee_name \n",
      "FROM department, employee, link \n",
      "WHERE link.department_id = department.id AND link.employee_id = employee.id ORDER BY link.department_id\n",
      "2020-12-04 12:14:43,392 INFO sqlalchemy.engine.base.Engine ()\n",
      "Department: Accounts Name: John\n",
      "Department: Accounts Name: Graham\n",
      "Department: Sales Name: Graham\n",
      "Department: Sales Name: Tony\n",
      "Department: Marketing Name: John\n",
      "Department: Marketing Name: Tony\n"
     ]
    }
   ],
   "source": [
    "from sqlalchemy.orm import sessionmaker\n",
    "Session = sessionmaker(bind = engine)\n",
    "session = Session()\n",
    "\n",
    "for x in session.query( Department, Employee).filter(Link.department_id == Department.id, \n",
    "    Link.employee_id == Employee.id).order_by(Link.department_id).all():\n",
    "    print(\"Department: {} Name: {}\".format(x.Department.name, x.Employee.name))"
   ]
  }
 ],
 "metadata": {
  "kernelspec": {
   "display_name": "Python 3",
   "language": "python",
   "name": "python3"
  },
  "language_info": {
   "codemirror_mode": {
    "name": "ipython",
    "version": 3
   },
   "file_extension": ".py",
   "mimetype": "text/x-python",
   "name": "python",
   "nbconvert_exporter": "python",
   "pygments_lexer": "ipython3",
   "version": "3.6.9"
  }
 },
 "nbformat": 4,
 "nbformat_minor": 4
}

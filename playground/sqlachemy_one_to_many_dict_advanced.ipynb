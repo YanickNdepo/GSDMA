{
 "cells": [
  {
   "cell_type": "code",
   "execution_count": null,
   "metadata": {},
   "outputs": [],
   "source": [
    "from datetime import datetime\n",
    "from sqlalchemy import create_engine, Column, Integer, String, Text, DateTime, Float, Boolean, ForeignKey\n",
    "from sqlalchemy.ext.declarative import declarative_base\n",
    "from sqlalchemy.orm import relationship, sessionmaker\n",
    "from sqlalchemy.orm.collections import attribute_mapped_collection\n",
    "from sqlalchemy.ext.associationproxy import association_proxy\n",
    "\n",
    "Base = declarative_base()"
   ]
  },
  {
   "cell_type": "code",
   "execution_count": 8,
   "metadata": {},
   "outputs": [],
   "source": [
    "class Borehole(Base):\n",
    "    \"\"\"The Boreholes Info table\"\"\"\n",
    "    __tablename__ = 'Boreholes'\n",
    "    id = Column(String(32), primary_key=True)\n",
    "    intervals = relationship(\n",
    "        'Interval',\n",
    "        collection_class=attribute_mapped_collection('int_id'),\n",
    "        cascade='all, delete-orphan')\n",
    "    intervals_values = association_proxy(\n",
    "        'intervals', 'value',\n",
    "        creator=lambda k, v: Interval(id=k, description=v))\n",
    "\n",
    "class Interval(Base):\n",
    "    \"\"\"The Interval table\"\"\"\n",
    "    __tablename__ = 'Intervals'\n",
    "    borehole = Column(String(32), ForeignKey('Boreholes.id'),\n",
    "                           primary_key=True)\n",
    "    # Note that this could be a numeric ID as well\n",
    "    id = Column(Integer, primary_key=True)\n",
    "    description = Column(String(32))"
   ]
  },
  {
   "cell_type": "code",
   "execution_count": 9,
   "metadata": {},
   "outputs": [],
   "source": [
    "engine = create_engine('sqlite:///test_db.db', echo=True)"
   ]
  },
  {
   "cell_type": "code",
   "execution_count": 10,
   "metadata": {},
   "outputs": [
    {
     "name": "stdout",
     "output_type": "stream",
     "text": [
      "2020-11-29 20:03:47,746 INFO sqlalchemy.engine.base.Engine SELECT CAST('test plain returns' AS VARCHAR(60)) AS anon_1\n",
      "2020-11-29 20:03:47,748 INFO sqlalchemy.engine.base.Engine ()\n",
      "2020-11-29 20:03:47,752 INFO sqlalchemy.engine.base.Engine SELECT CAST('test unicode returns' AS VARCHAR(60)) AS anon_1\n",
      "2020-11-29 20:03:47,754 INFO sqlalchemy.engine.base.Engine ()\n",
      "2020-11-29 20:03:47,757 INFO sqlalchemy.engine.base.Engine PRAGMA main.table_info(\"machine\")\n",
      "2020-11-29 20:03:47,759 INFO sqlalchemy.engine.base.Engine ()\n",
      "2020-11-29 20:03:47,762 INFO sqlalchemy.engine.base.Engine PRAGMA main.table_info(\"sensor\")\n",
      "2020-11-29 20:03:47,764 INFO sqlalchemy.engine.base.Engine ()\n",
      "2020-11-29 20:03:47,767 INFO sqlalchemy.engine.base.Engine PRAGMA main.table_info(\"Boreholes\")\n",
      "2020-11-29 20:03:47,769 INFO sqlalchemy.engine.base.Engine ()\n",
      "2020-11-29 20:03:47,771 INFO sqlalchemy.engine.base.Engine PRAGMA temp.table_info(\"Boreholes\")\n",
      "2020-11-29 20:03:47,772 INFO sqlalchemy.engine.base.Engine ()\n",
      "2020-11-29 20:03:47,774 INFO sqlalchemy.engine.base.Engine PRAGMA main.table_info(\"Intervals\")\n",
      "2020-11-29 20:03:47,775 INFO sqlalchemy.engine.base.Engine ()\n",
      "2020-11-29 20:03:47,776 INFO sqlalchemy.engine.base.Engine PRAGMA temp.table_info(\"Intervals\")\n",
      "2020-11-29 20:03:47,778 INFO sqlalchemy.engine.base.Engine ()\n",
      "2020-11-29 20:03:47,779 INFO sqlalchemy.engine.base.Engine \n",
      "CREATE TABLE \"Boreholes\" (\n",
      "\tid VARCHAR(32) NOT NULL, \n",
      "\tPRIMARY KEY (id)\n",
      ")\n",
      "\n",
      "\n",
      "2020-11-29 20:03:47,780 INFO sqlalchemy.engine.base.Engine ()\n",
      "2020-11-29 20:03:47,783 INFO sqlalchemy.engine.base.Engine COMMIT\n",
      "2020-11-29 20:03:47,784 INFO sqlalchemy.engine.base.Engine \n",
      "CREATE TABLE \"Intervals\" (\n",
      "\tborehole VARCHAR(32) NOT NULL, \n",
      "\tid INTEGER NOT NULL, \n",
      "\tdescription VARCHAR(32), \n",
      "\tPRIMARY KEY (borehole, id), \n",
      "\tFOREIGN KEY(borehole) REFERENCES \"Boreholes\" (id)\n",
      ")\n",
      "\n",
      "\n",
      "2020-11-29 20:03:47,785 INFO sqlalchemy.engine.base.Engine ()\n",
      "2020-11-29 20:03:47,788 INFO sqlalchemy.engine.base.Engine COMMIT\n"
     ]
    }
   ],
   "source": [
    "Base.metadata.create_all(engine)"
   ]
  },
  {
   "cell_type": "code",
   "execution_count": 11,
   "metadata": {},
   "outputs": [],
   "source": [
    "m = Borehole(id='F10')"
   ]
  },
  {
   "cell_type": "code",
   "execution_count": 12,
   "metadata": {},
   "outputs": [],
   "source": [
    "m.intervals_values = {0: 'stuff', 1: 'junk'}"
   ]
  },
  {
   "cell_type": "code",
   "execution_count": 13,
   "metadata": {},
   "outputs": [],
   "source": [
    "from contextlib import contextmanager\n",
    "\n",
    "Session = sessionmaker(bind=engine)\n",
    "\n",
    "@contextmanager\n",
    "def session_scope():\n",
    "    \"\"\"Provide a transactional scope around a series of operations.\"\"\"\n",
    "    session = Session()\n",
    "    try:\n",
    "        yield session\n",
    "        session.commit()\n",
    "    except:\n",
    "        session.rollback()\n",
    "        raise\n",
    "    finally:\n",
    "        session.close()"
   ]
  },
  {
   "cell_type": "code",
   "execution_count": 14,
   "metadata": {},
   "outputs": [
    {
     "name": "stdout",
     "output_type": "stream",
     "text": [
      "2020-11-29 20:04:45,688 INFO sqlalchemy.engine.base.Engine BEGIN (implicit)\n",
      "2020-11-29 20:04:45,692 INFO sqlalchemy.engine.base.Engine INSERT INTO \"Boreholes\" (id) VALUES (?)\n",
      "2020-11-29 20:04:45,693 INFO sqlalchemy.engine.base.Engine ('F10',)\n",
      "2020-11-29 20:04:45,697 INFO sqlalchemy.engine.base.Engine INSERT INTO \"Intervals\" (borehole, id, description) VALUES (?, ?, ?)\n",
      "2020-11-29 20:04:45,698 INFO sqlalchemy.engine.base.Engine (('F10', 0, 'stuff'), ('F10', 1, 'junk'))\n",
      "2020-11-29 20:04:45,700 INFO sqlalchemy.engine.base.Engine COMMIT\n"
     ]
    }
   ],
   "source": [
    "with session_scope() as session:\n",
    "    session.add(m)"
   ]
  },
  {
   "cell_type": "code",
   "execution_count": null,
   "metadata": {},
   "outputs": [],
   "source": []
  }
 ],
 "metadata": {
  "kernelspec": {
   "display_name": "Python 3",
   "language": "python",
   "name": "python3"
  },
  "language_info": {
   "codemirror_mode": {
    "name": "ipython",
    "version": 3
   },
   "file_extension": ".py",
   "mimetype": "text/x-python",
   "name": "python",
   "nbconvert_exporter": "python",
   "pygments_lexer": "ipython3",
   "version": "3.6.9"
  }
 },
 "nbformat": 4,
 "nbformat_minor": 4
}

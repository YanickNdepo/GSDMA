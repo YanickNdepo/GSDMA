{
 "cells": [
  {
   "cell_type": "code",
   "execution_count": 24,
   "metadata": {},
   "outputs": [],
   "source": [
    "import sqlite3"
   ]
  },
  {
   "cell_type": "code",
   "execution_count": 25,
   "metadata": {},
   "outputs": [],
   "source": [
    "conn = sqlite3.connect('E_F10.db')"
   ]
  },
  {
   "cell_type": "code",
   "execution_count": 26,
   "metadata": {},
   "outputs": [],
   "source": [
    "c = conn.cursor()"
   ]
  },
  {
   "cell_type": "code",
   "execution_count": 27,
   "metadata": {},
   "outputs": [],
   "source": [
    "def create_table(cursor, name, fields):\n",
    "    cmd = \"CREATE TABLE IF NOT EXISTS {table_name}(\".format(table_name=name)\n",
    "    for k, v in fields.items():\n",
    "        cmd = cmd + '{field} {field_type}, '.format(field=k, field_type=v)\n",
    "    cmd = cmd[:-2]+')'\n",
    "    print(cmd)\n",
    "    cursor.execute(cmd)"
   ]
  },
  {
   "cell_type": "code",
   "execution_count": 28,
   "metadata": {},
   "outputs": [
    {
     "name": "stdout",
     "output_type": "stream",
     "text": [
      "CREATE TABLE IF NOT EXISTS Boreholes(name TEXT)\n",
      "CREATE TABLE IF NOT EXISTS Intervals(borehole TEXT, start REAL, end REAL, description TEXT)\n"
     ]
    }
   ],
   "source": [
    "table_names = ['Boreholes', 'Intervals']\n",
    "fields = [{'name': 'TEXT'},{'borehole': 'TEXT', 'start': 'REAL', 'end': 'REAL', 'description': 'TEXT'}]\n",
    "for i in range(len(table_names)):\n",
    "    create_table(c, table_names[i], fields[i])"
   ]
  },
  {
   "cell_type": "code",
   "execution_count": 29,
   "metadata": {},
   "outputs": [],
   "source": [
    "conn.commit()\n"
   ]
  },
  {
   "cell_type": "code",
   "execution_count": 30,
   "metadata": {},
   "outputs": [],
   "source": [
    "c.close ()"
   ]
  },
  {
   "cell_type": "code",
   "execution_count": 31,
   "metadata": {},
   "outputs": [],
   "source": [
    "conn.close()\n"
   ]
  }
 ],
 "metadata": {
  "kernelspec": {
   "display_name": "Python 3",
   "language": "python",
   "name": "python3"
  },
  "language_info": {
   "codemirror_mode": {
    "name": "ipython",
    "version": 3
   },
   "file_extension": ".py",
   "mimetype": "text/x-python",
   "name": "python",
   "nbconvert_exporter": "python",
   "pygments_lexer": "ipython3",
   "version": "3.6.8"
  }
 },
 "nbformat": 4,
 "nbformat_minor": 2
}

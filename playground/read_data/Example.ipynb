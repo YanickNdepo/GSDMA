{
 "cells": [
  {
   "cell_type": "markdown",
   "metadata": {},
   "source": [
    "# Example to show how to use the functions in read_flat_files.py\n",
    "\n",
    "O. Kaufmann, 2019"
   ]
  },
  {
   "cell_type": "markdown",
   "metadata": {},
   "source": [
    "You have to add this line such as the one below in your .bashrc file for the import to work...\n",
    "\n",
    "export PYTHONPATH = \"$PYTHONPATH:/home/gfa/GSDMA\""
   ]
  },
  {
   "cell_type": "code",
   "execution_count": 2,
   "metadata": {},
   "outputs": [],
   "source": [
    "from utils import read_flat_files"
   ]
  },
  {
   "cell_type": "code",
   "execution_count": 6,
   "metadata": {},
   "outputs": [],
   "source": [
    "? read_flat_files.read_electrode_string_geometry"
   ]
  },
  {
   "cell_type": "code",
   "execution_count": 7,
   "metadata": {},
   "outputs": [
    {
     "data": {
      "text/plain": [
       "('F10',\n",
       " {'F10': [[884.68, 577.91, 102.0],\n",
       "   {1: (0.0, 0.0, -5.92),\n",
       "    2: (0.0, 0.0, -4.92),\n",
       "    3: (0.0, 0.0, -3.92),\n",
       "    4: (0.0, 0.0, -2.92),\n",
       "    5: (0.0, 0.0, -1.92),\n",
       "    6: (0.0, 0.0, -0.92)}]})"
      ]
     },
     "execution_count": 7,
     "metadata": {},
     "output_type": "execute_result"
    }
   ],
   "source": [
    "read_flat_files.read_electrode_string_geometry(filename= 'F10.txt', file_path='../../data/electrode_strings/')"
   ]
  },
  {
   "cell_type": "code",
   "execution_count": 8,
   "metadata": {},
   "outputs": [],
   "source": [
    "? read_flat_files.read_boreholes_description"
   ]
  },
  {
   "cell_type": "code",
   "execution_count": 9,
   "metadata": {},
   "outputs": [
    {
     "data": {
      "text/plain": [
       "{'F10': {(0.0, 1.5): {'description': 'remblais non-saturés',\n",
       "   'lithology': 'remblais',\n",
       "   'color': 'brun'},\n",
       "  (1.5, 4.0): {'description': 'remblais saturés',\n",
       "   'lithology': 'remblais',\n",
       "   'color': 'ocre'},\n",
       "  (4.0, 6.0): {'description': 'alluvions',\n",
       "   'lithology': 'silt',\n",
       "   'color': 'gris'},\n",
       "  'markers': {'toit nappe': 1.5, 'mur remblais': 4.0}}}"
      ]
     },
     "execution_count": 9,
     "metadata": {},
     "output_type": "execute_result"
    }
   ],
   "source": [
    "read_flat_files.read_boreholes_description(filename= '../../data/boreholes/Log_F10.txt')"
   ]
  },
  {
   "cell_type": "code",
   "execution_count": null,
   "metadata": {},
   "outputs": [],
   "source": []
  }
 ],
 "metadata": {
  "kernelspec": {
   "display_name": "Python 3",
   "language": "python",
   "name": "python3"
  },
  "language_info": {
   "codemirror_mode": {
    "name": "ipython",
    "version": 3
   },
   "file_extension": ".py",
   "mimetype": "text/x-python",
   "name": "python",
   "nbconvert_exporter": "python",
   "pygments_lexer": "ipython3",
   "version": "3.6.8"
  }
 },
 "nbformat": 4,
 "nbformat_minor": 2
}

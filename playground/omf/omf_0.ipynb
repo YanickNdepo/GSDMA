{
 "cells": [
  {
   "cell_type": "code",
   "execution_count": 1,
   "metadata": {},
   "outputs": [],
   "source": [
    "import omf\n",
    "import pyvista as pv\n",
    "import omfvista\n",
    "import numpy as np"
   ]
  },
  {
   "cell_type": "markdown",
   "metadata": {},
   "source": [
    "## Open an OMF Project file "
   ]
  },
  {
   "cell_type": "code",
   "execution_count": 2,
   "metadata": {},
   "outputs": [],
   "source": [
    "proj = omf.Project(\n",
    "    name='Test project',\n",
    "    description='Just some assorted elements',\n",
    "    \n",
    ")\n"
   ]
  },
  {
   "cell_type": "code",
   "execution_count": 4,
   "metadata": {},
   "outputs": [],
   "source": [
    "pts = omf.PointSetElement(\n",
    "    name='Random Points',\n",
    "    description='Just random points',\n",
    "    geometry=omf.PointSetGeometry(vertices=np.random.rand(100, 3)),\n",
    "    data=[\n",
    "        omf.ScalarData(\n",
    "            name='rand data',\n",
    "            array=np.random.rand(100),\n",
    "            location='vertices',\n",
    "        ),\n",
    "        omf.ScalarData(\n",
    "            name='More rand data',\n",
    "            array=np.random.rand(100),\n",
    "            location='vertices',\n",
    "        ),\n",
    "    ],\n",
    "    textures=[\n",
    "        omf.ImageTexture(\n",
    "            name='test image',\n",
    "            image='test_image.png',\n",
    "            origin=[0, 0, 0],\n",
    "            axis_u=[1, 0, 0],\n",
    "            axis_v=[0, 1, 0],\n",
    "        ),\n",
    "        omf.ImageTexture(\n",
    "            name='test image',\n",
    "            image='test_image.png',\n",
    "            origin=[0, 0, 0],\n",
    "            axis_u=[1, 0, 0],\n",
    "            axis_v=[0, 0, 1],\n",
    "        ),\n",
    "    ],\n",
    "    color='green',\n",
    ")"
   ]
  },
  {
   "cell_type": "code",
   "execution_count": 5,
   "metadata": {},
   "outputs": [],
   "source": [
    "    segments=np.floor(np.random.rand(50, 2)*100).astype(int),\n"
   ]
  },
  {
   "cell_type": "code",
   "execution_count": 6,
   "metadata": {},
   "outputs": [],
   "source": [
    "lin = omf.LineSetElement(\n",
    "    name='Random Line',\n",
    "    geometry=omf.LineSetGeometry(vertices=np.random.rand(100, 3),\n",
    "                                  segments=np.floor(np.random.rand(50, 2)*100).astype(int)),\n",
    "    data=[\n",
    "        omf.ScalarData(\n",
    "            name='rand vert data',\n",
    "            array=np.random.rand(100),\n",
    "            location='vertices',\n",
    "        ),\n",
    "        omf.ScalarData(\n",
    "            name='rand segment data',\n",
    "            array=np.random.rand(50),\n",
    "            location='segments',\n",
    "        ),\n",
    "    ],\n",
    "    #color='green',\n",
    ")"
   ]
  },
  {
   "cell_type": "code",
   "execution_count": 7,
   "metadata": {},
   "outputs": [],
   "source": [
    "surf = omf.SurfaceElement(\n",
    "    name='trisurf',\n",
    "    geometry=omf.SurfaceGeometry(\n",
    "        vertices=np.random.rand(100, 3),\n",
    "        triangles=np.floor(np.random.rand(50, 3)*100).astype(int)\n",
    "    ),\n",
    "    data=[\n",
    "        omf.ScalarData(\n",
    "            name='rand vert data',\n",
    "            array=np.random.rand(100),\n",
    "            location='vertices'\n",
    "        ),\n",
    "        omf.ScalarData(\n",
    "            name='rand face data',\n",
    "            array=np.random.rand(50),\n",
    "            location='faces'\n",
    "        )\n",
    "    ],\n",
    "    color=[100, 200, 200]\n",
    ")"
   ]
  },
  {
   "cell_type": "code",
   "execution_count": 8,
   "metadata": {},
   "outputs": [],
   "source": [
    "grid = omf.SurfaceElement(\n",
    "    name='gridsurf',\n",
    "    geometry=omf.SurfaceGridGeometry(\n",
    "        tensor_u=np.ones(10).astype(float),\n",
    "        tensor_v=np.ones(15).astype(float),\n",
    "        origin=[50., 50., 50.],\n",
    "        axis_u=[1., 0, 0],\n",
    "        axis_v=[0, 0, 1.],\n",
    "        offset_w=np.random.rand(11, 16).flatten()\n",
    "    ),\n",
    "    data=[\n",
    "        omf.ScalarData(\n",
    "            name='rand vert data',\n",
    "            array=np.random.rand(11, 16).flatten(),\n",
    "            location='vertices'\n",
    "        ),\n",
    "        omf.ScalarData(\n",
    "            name='rand face data',\n",
    "            array=np.random.rand(10, 15).flatten(order='f'),\n",
    "            location='faces'\n",
    "        )\n",
    "    ],\n",
    "    textures=[\n",
    "        omf.ImageTexture(\n",
    "            name='test image',\n",
    "            image='test_image.png',\n",
    "            origin=[2., 2., 2.],\n",
    "            axis_u=[5., 0, 0],\n",
    "            axis_v=[0, 2., 5.]\n",
    "        )\n",
    "    ]\n",
    ")"
   ]
  },
  {
   "cell_type": "code",
   "execution_count": 9,
   "metadata": {},
   "outputs": [],
   "source": [
    "vol = omf.VolumeElement(\n",
    "    name='vol',\n",
    "    geometry=omf.VolumeGridGeometry(\n",
    "        tensor_u=np.ones(10).astype(float),\n",
    "        tensor_v=np.ones(15).astype(float),\n",
    "        tensor_w=np.ones(20).astype(float),\n",
    "        origin=[10., 10., -10]\n",
    "    ),\n",
    "    data=[\n",
    "        omf.ScalarData(\n",
    "            name='Random Data',\n",
    "            location='cells',\n",
    "            array=np.random.rand(10, 15, 20).flatten()\n",
    "        )\n",
    "    ]\n",
    ")"
   ]
  },
  {
   "cell_type": "code",
   "execution_count": 10,
   "metadata": {},
   "outputs": [],
   "source": [
    "proj.elements = [pts, lin, surf, grid, vol]"
   ]
  },
  {
   "cell_type": "code",
   "execution_count": 11,
   "metadata": {},
   "outputs": [],
   "source": [
    "assert proj.validate()"
   ]
  },
  {
   "cell_type": "code",
   "execution_count": 12,
   "metadata": {},
   "outputs": [
    {
     "data": {
      "text/plain": [
       "<omf.fileio.OMFWriter at 0x7f31f63df4e0>"
      ]
     },
     "execution_count": 12,
     "metadata": {},
     "output_type": "execute_result"
    }
   ],
   "source": [
    "omf.OMFWriter(proj, 'omfproj.omf')\n"
   ]
  },
  {
   "cell_type": "code",
   "execution_count": 13,
   "metadata": {},
   "outputs": [],
   "source": [
    "proj = omfvista.load_project('omfproj.omf')\n"
   ]
  },
  {
   "cell_type": "code",
   "execution_count": 15,
   "metadata": {},
   "outputs": [
    {
     "data": {
      "image/png": "[encoded data removed]",
      "text/plain": [
       "<PIL.Image.Image image mode=RGB size=1024x768 at 0x7F31F5526748>"
      ]
     },
     "metadata": {},
     "output_type": "display_data"
    }
   ],
   "source": [
    "proj.plot(multi_colors=True)"
   ]
  }
 ],
 "metadata": {
  "kernelspec": {
   "display_name": "Python 3",
   "language": "python",
   "name": "python3"
  },
  "language_info": {
   "codemirror_mode": {
    "name": "ipython",
    "version": 3
   },
   "file_extension": ".py",
   "mimetype": "text/x-python",
   "name": "python",
   "nbconvert_exporter": "python",
   "pygments_lexer": "ipython3",
   "version": "3.6.8"
  }
 },
 "nbformat": 4,
 "nbformat_minor": 2
}

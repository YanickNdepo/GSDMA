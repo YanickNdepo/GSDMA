{
 "cells": [
  {
   "cell_type": "markdown",
   "id": "indonesian-alloy",
   "metadata": {},
   "source": [
    "# Concatenate boreholes"
   ]
  },
  {
   "cell_type": "code",
   "execution_count": 1,
   "id": "national-opera",
   "metadata": {},
   "outputs": [],
   "source": [
    "%matplotlib widget"
   ]
  },
  {
   "cell_type": "raw",
   "id": "demanding-former",
   "metadata": {},
   "source": [
    "config Completer.use_jedi = False"
   ]
  },
  {
   "cell_type": "code",
   "execution_count": 76,
   "id": "naughty-clerk",
   "metadata": {},
   "outputs": [],
   "source": [
    "from ipywidgets import interact, IntSlider\n",
    "from IPython.display import display  \n",
    "\n",
    "import re, copy\n",
    "import datetime\n",
    "import numpy as np\n",
    "import geopandas as gpd\n",
    "from shapely.geometry import Point\n",
    "import pandas as pd\n",
    "import matplotlib.pyplot as plt"
   ]
  },
  {
   "cell_type": "code",
   "execution_count": 3,
   "id": "sexual-bangladesh",
   "metadata": {},
   "outputs": [],
   "source": [
    "def gdf_viewer(df, rows=10, cols=15, step_r=1, step_c=1):# Afficher les dataframes au moyen d'un widget (affichage dynamique)\n",
    "    \n",
    "    print(f'Rows : {df.shape[0]}, columns : {df.shape[1]}')\n",
    "    \n",
    "    @interact(last_row=IntSlider(min=min(rows, df.shape[0]),max=df.shape[0],step=step_r,description='rows',\n",
    "                                 readout=False,disabled=False,continuous_update=True,orientation='horizontal',\n",
    "                                 slider_color='blue'),\n",
    "              \n",
    "              last_column=IntSlider(min=min(cols, df.shape[1]),max=df.shape[1],step=step_c,\n",
    "                                    description='columns',readout=False,disabled=False,continuous_update=True,\n",
    "                                    orientation='horizontal',slider_color='blue'))\n",
    "    \n",
    "    def _freeze_header(last_row, last_column):\n",
    "        display(df.iloc[max(0, last_row-rows):last_row,\n",
    "                        max(0, last_column-cols):last_column])"
   ]
  },
  {
   "cell_type": "code",
   "execution_count": 1039,
   "id": "banned-nigeria",
   "metadata": {},
   "outputs": [],
   "source": [
    "def genID_dated(gdf, col='Ref', datedef='2010'):\n",
    "\n",
    "    if 'Date' in gdf.columns:\n",
    "        gdf[col] = gdf['Date'].apply(lambda x : str(x.year))+ '-' + gdf[col].apply(lambda x : str(x))\n",
    "    else :\n",
    "        print(\"'Date' is not in columns' name, using default date\")\n",
    "        gdf[col] = datedef + '-' + gdf[col].apply(lambda x : str(x))\n",
    "    \n",
    "    return gdf[col]"
   ]
  },
  {
   "cell_type": "markdown",
   "id": "vocational-question",
   "metadata": {},
   "source": [
    "## Extraction des dates de forages du type de forage et du foreur de l'étude de caractérisation"
   ]
  },
  {
   "cell_type": "markdown",
   "id": "wooden-advisory",
   "metadata": {},
   "source": [
    "### Lecture des fichiers de position des forages du pilote (version 8)"
   ]
  },
  {
   "cell_type": "code",
   "execution_count": 4,
   "id": "regulation-pocket",
   "metadata": {
    "scrolled": true
   },
   "outputs": [
    {
     "data": {
      "text/html": [
       "<div>\n",
       "<style scoped>\n",
       "    .dataframe tbody tr th:only-of-type {\n",
       "        vertical-align: middle;\n",
       "    }\n",
       "\n",
       "    .dataframe tbody tr th {\n",
       "        vertical-align: top;\n",
       "    }\n",
       "\n",
       "    .dataframe thead th {\n",
       "        text-align: right;\n",
       "    }\n",
       "</style>\n",
       "<table border=\"1\" class=\"dataframe\">\n",
       "  <thead>\n",
       "    <tr style=\"text-align: right;\">\n",
       "      <th></th>\n",
       "      <th>Id</th>\n",
       "      <th>Type</th>\n",
       "      <th>Pilote</th>\n",
       "      <th>Ref</th>\n",
       "      <th>diam</th>\n",
       "      <th>Valid</th>\n",
       "      <th>Syscal</th>\n",
       "      <th>Impo</th>\n",
       "      <th>Inox</th>\n",
       "      <th>Impo_perm</th>\n",
       "      <th>GPS2021</th>\n",
       "      <th>geometry</th>\n",
       "    </tr>\n",
       "  </thead>\n",
       "  <tbody>\n",
       "    <tr>\n",
       "      <th>18</th>\n",
       "      <td>0</td>\n",
       "      <td>4</td>\n",
       "      <td>1</td>\n",
       "      <td>400</td>\n",
       "      <td>0</td>\n",
       "      <td>0</td>\n",
       "      <td>0</td>\n",
       "      <td>0</td>\n",
       "      <td>0</td>\n",
       "      <td>0</td>\n",
       "      <td>NON</td>\n",
       "      <td>POINT (152885.032 122585.367)</td>\n",
       "    </tr>\n",
       "    <tr>\n",
       "      <th>32</th>\n",
       "      <td>0</td>\n",
       "      <td>5</td>\n",
       "      <td>1</td>\n",
       "      <td>500</td>\n",
       "      <td>0</td>\n",
       "      <td>0</td>\n",
       "      <td>0</td>\n",
       "      <td>0</td>\n",
       "      <td>0</td>\n",
       "      <td>0</td>\n",
       "      <td>NON</td>\n",
       "      <td>POINT (152890.824 122583.580)</td>\n",
       "    </tr>\n",
       "    <tr>\n",
       "      <th>63</th>\n",
       "      <td>0</td>\n",
       "      <td>3</td>\n",
       "      <td>1</td>\n",
       "      <td>306</td>\n",
       "      <td>0</td>\n",
       "      <td>0</td>\n",
       "      <td>0</td>\n",
       "      <td>0</td>\n",
       "      <td>0</td>\n",
       "      <td>0</td>\n",
       "      <td>NON</td>\n",
       "      <td>POINT (152867.452 122588.877)</td>\n",
       "    </tr>\n",
       "  </tbody>\n",
       "</table>\n",
       "</div>"
      ],
      "text/plain": [
       "    Id  Type  Pilote  Ref  diam  Valid  Syscal  Impo  Inox  Impo_perm GPS2021  \\\n",
       "18   0     4       1  400     0      0       0     0     0          0     NON   \n",
       "32   0     5       1  500     0      0       0     0     0          0     NON   \n",
       "63   0     3       1  306     0      0       0     0     0          0     NON   \n",
       "\n",
       "                         geometry  \n",
       "18  POINT (152885.032 122585.367)  \n",
       "32  POINT (152890.824 122583.580)  \n",
       "63  POINT (152867.452 122588.877)  "
      ]
     },
     "execution_count": 4,
     "metadata": {},
     "output_type": "execute_result"
    }
   ],
   "source": [
    "v8 = gpd.read_file('../../CF_data/Data_UMONS/SIG/Pilote_v8.0.shp')\n",
    "v8.query('GPS2021==\"NON\"')"
   ]
  },
  {
   "cell_type": "markdown",
   "id": "executed-monte",
   "metadata": {},
   "source": [
    "### Informations sur les forages de l'étude de caractérisation de 2010"
   ]
  },
  {
   "cell_type": "code",
   "execution_count": 1093,
   "id": "identified-guyana",
   "metadata": {},
   "outputs": [],
   "source": [
    "Logs_forages = pd.read_excel('../../CF_data/Data_SITEREM/Logs forages.xls',sheet_name='Forages, tranchées')"
   ]
  },
  {
   "cell_type": "code",
   "execution_count": 6,
   "id": "worst-trauma",
   "metadata": {},
   "outputs": [],
   "source": [
    "Logs_forages = Logs_forages[['Date', 'N°', 'Id', 'Profondeur', 'Description', 'Piézo', 'Unnamed: 6',\n",
    "                             'Gouge Ø75', 'MFT Ø145', 'carottier', 'tarrière', 'Liner Ø60']] "
   ]
  },
  {
   "cell_type": "code",
   "execution_count": 7,
   "id": "opening-sunrise",
   "metadata": {},
   "outputs": [],
   "source": [
    "Logs_forages.rename({'Gouge Ø75':'Gouge_75', 'Liner Ø60': 'Liner_60'}, axis=1, inplace=True)"
   ]
  },
  {
   "cell_type": "code",
   "execution_count": 8,
   "id": "scenic-grenada",
   "metadata": {},
   "outputs": [],
   "source": [
    "Logs_forages.loc[Logs_forages.query('Profondeur!=Profondeur' ).index,'Profondeur']=''"
   ]
  },
  {
   "cell_type": "code",
   "execution_count": 9,
   "id": "blond-psychiatry",
   "metadata": {},
   "outputs": [],
   "source": [
    "forages = Logs_forages.query('Profondeur.str.contains(\"Forage\") and Profondeur!=\"Forage bloqué\"', engine='python')"
   ]
  },
  {
   "cell_type": "code",
   "execution_count": 10,
   "id": "helpful-composer",
   "metadata": {},
   "outputs": [
    {
     "name": "stderr",
     "output_type": "stream",
     "text": [
      "<ipython-input-10-07818ba03c75>:1: SettingWithCopyWarning: \n",
      "A value is trying to be set on a copy of a slice from a DataFrame.\n",
      "Try using .loc[row_indexer,col_indexer] = value instead\n",
      "\n",
      "See the caveats in the documentation: https://pandas.pydata.org/pandas-docs/stable/user_guide/indexing.html#returning-a-view-versus-a-copy\n",
      "  forages['Ref'] = forages['Profondeur'].apply(lambda x: x.split('Forage ')[1].replace(' ', ''))\n"
     ]
    }
   ],
   "source": [
    "forages['Ref'] = forages['Profondeur'].apply(lambda x: x.split('Forage ')[1].replace(' ', ''))"
   ]
  },
  {
   "cell_type": "code",
   "execution_count": 11,
   "id": "lucky-cleaning",
   "metadata": {},
   "outputs": [
    {
     "name": "stderr",
     "output_type": "stream",
     "text": [
      "<ipython-input-11-0d7b933e2cc3>:1: SettingWithCopyWarning: \n",
      "A value is trying to be set on a copy of a slice from a DataFrame.\n",
      "Try using .loc[row_indexer,col_indexer] = value instead\n",
      "\n",
      "See the caveats in the documentation: https://pandas.pydata.org/pandas-docs/stable/user_guide/indexing.html#returning-a-view-versus-a-copy\n",
      "  forages['tmp'] = forages['Piézo'].replace(np.nan, '', regex=True) + '-' + forages['Unnamed: 6'].replace(np.nan, '', regex=True) + '-' + forages['Gouge_75'].replace(np.nan, '', regex=True)\n"
     ]
    }
   ],
   "source": [
    "forages['tmp'] = forages['Piézo'].replace(np.nan, '', regex=True) + '-' + forages['Unnamed: 6'].replace(np.nan, '', regex=True) + '-' + forages['Gouge_75'].replace(np.nan, '', regex=True)"
   ]
  },
  {
   "cell_type": "code",
   "execution_count": 12,
   "id": "stupid-homework",
   "metadata": {},
   "outputs": [
    {
     "name": "stderr",
     "output_type": "stream",
     "text": [
      "<ipython-input-12-fc78262c80a3>:1: SettingWithCopyWarning: \n",
      "A value is trying to be set on a copy of a slice from a DataFrame.\n",
      "Try using .loc[row_indexer,col_indexer] = value instead\n",
      "\n",
      "See the caveats in the documentation: https://pandas.pydata.org/pandas-docs/stable/user_guide/indexing.html#returning-a-view-versus-a-copy\n",
      "  forages['Piezo'] = forages['tmp'].apply(lambda x: x.lstrip(' ').split('-')[0].lower()=='x')\n"
     ]
    }
   ],
   "source": [
    "forages['Piezo'] = forages['tmp'].apply(lambda x: x.lstrip(' ').split('-')[0].lower()=='x') "
   ]
  },
  {
   "cell_type": "code",
   "execution_count": 13,
   "id": "spiritual-terry",
   "metadata": {},
   "outputs": [
    {
     "name": "stderr",
     "output_type": "stream",
     "text": [
      "<ipython-input-13-4da94ebfe204>:1: SettingWithCopyWarning: \n",
      "A value is trying to be set on a copy of a slice from a DataFrame.\n",
      "Try using .loc[row_indexer,col_indexer] = value instead\n",
      "\n",
      "See the caveats in the documentation: https://pandas.pydata.org/pandas-docs/stable/user_guide/indexing.html#returning-a-view-versus-a-copy\n",
      "  forages['Company'] = forages['tmp'].apply(lambda x: x.rstrip('-').split('-')[-1].upper())\n"
     ]
    }
   ],
   "source": [
    "forages['Company'] = forages['tmp'].apply(lambda x: x.rstrip('-').split('-')[-1].upper()) "
   ]
  },
  {
   "cell_type": "code",
   "execution_count": 14,
   "id": "selected-float",
   "metadata": {},
   "outputs": [
    {
     "name": "stderr",
     "output_type": "stream",
     "text": [
      "/home/yanathan/.local/share/virtualenvs/GSDMA-DRfwm83x/lib/python3.8/site-packages/pandas/core/indexing.py:1720: SettingWithCopyWarning: \n",
      "A value is trying to be set on a copy of a slice from a DataFrame.\n",
      "Try using .loc[row_indexer,col_indexer] = value instead\n",
      "\n",
      "See the caveats in the documentation: https://pandas.pydata.org/pandas-docs/stable/user_guide/indexing.html#returning-a-view-versus-a-copy\n",
      "  self._setitem_single_column(loc, value, pi)\n"
     ]
    }
   ],
   "source": [
    "forages.loc[123, 'Company']='SITEREM'"
   ]
  },
  {
   "cell_type": "code",
   "execution_count": 415,
   "id": "clean-least",
   "metadata": {},
   "outputs": [
    {
     "data": {
      "text/html": [
       "<div>\n",
       "<style scoped>\n",
       "    .dataframe tbody tr th:only-of-type {\n",
       "        vertical-align: middle;\n",
       "    }\n",
       "\n",
       "    .dataframe tbody tr th {\n",
       "        vertical-align: top;\n",
       "    }\n",
       "\n",
       "    .dataframe thead th {\n",
       "        text-align: right;\n",
       "    }\n",
       "</style>\n",
       "<table border=\"1\" class=\"dataframe\">\n",
       "  <thead>\n",
       "    <tr style=\"text-align: right;\">\n",
       "      <th></th>\n",
       "      <th>Date</th>\n",
       "      <th>Ref</th>\n",
       "      <th>Company</th>\n",
       "      <th>Piezo</th>\n",
       "    </tr>\n",
       "  </thead>\n",
       "  <tbody>\n",
       "    <tr>\n",
       "      <th>0</th>\n",
       "      <td>2010-03-11</td>\n",
       "      <td>2010-1</td>\n",
       "      <td>SBS ENVIRONNEMENT</td>\n",
       "      <td>True</td>\n",
       "    </tr>\n",
       "    <tr>\n",
       "      <th>9</th>\n",
       "      <td>2010-03-11</td>\n",
       "      <td>2010-2</td>\n",
       "      <td>SBS ENVIRONNEMENT</td>\n",
       "      <td>False</td>\n",
       "    </tr>\n",
       "    <tr>\n",
       "      <th>19</th>\n",
       "      <td>2010-03-11</td>\n",
       "      <td>2010-3</td>\n",
       "      <td>SBS ENVIRONNEMENT</td>\n",
       "      <td>False</td>\n",
       "    </tr>\n",
       "    <tr>\n",
       "      <th>27</th>\n",
       "      <td>2010-03-10</td>\n",
       "      <td>2010-4</td>\n",
       "      <td>SBS ENVIRONNEMENT</td>\n",
       "      <td>False</td>\n",
       "    </tr>\n",
       "    <tr>\n",
       "      <th>33</th>\n",
       "      <td>2010-03-12</td>\n",
       "      <td>2010-5</td>\n",
       "      <td>SBS ENVIRONNEMENT</td>\n",
       "      <td>False</td>\n",
       "    </tr>\n",
       "    <tr>\n",
       "      <th>...</th>\n",
       "      <td>...</td>\n",
       "      <td>...</td>\n",
       "      <td>...</td>\n",
       "      <td>...</td>\n",
       "    </tr>\n",
       "    <tr>\n",
       "      <th>1973</th>\n",
       "      <td>2010-08-03</td>\n",
       "      <td>2010-612c</td>\n",
       "      <td>SBS ENVIRONNEMENT</td>\n",
       "      <td>False</td>\n",
       "    </tr>\n",
       "    <tr>\n",
       "      <th>1977</th>\n",
       "      <td>2010-08-03</td>\n",
       "      <td>2010-734</td>\n",
       "      <td>SITEREM</td>\n",
       "      <td>True</td>\n",
       "    </tr>\n",
       "    <tr>\n",
       "      <th>1984</th>\n",
       "      <td>2010-09-01</td>\n",
       "      <td>2010-FP595</td>\n",
       "      <td>SITEREM</td>\n",
       "      <td>True</td>\n",
       "    </tr>\n",
       "    <tr>\n",
       "      <th>1994</th>\n",
       "      <td>2010-09-02</td>\n",
       "      <td>2010-540</td>\n",
       "      <td>SITEREM</td>\n",
       "      <td>True</td>\n",
       "    </tr>\n",
       "    <tr>\n",
       "      <th>2004</th>\n",
       "      <td>2010-09-20</td>\n",
       "      <td>2010-600</td>\n",
       "      <td>SITEREM</td>\n",
       "      <td>True</td>\n",
       "    </tr>\n",
       "  </tbody>\n",
       "</table>\n",
       "<p>281 rows × 4 columns</p>\n",
       "</div>"
      ],
      "text/plain": [
       "           Date         Ref            Company  Piezo\n",
       "0    2010-03-11      2010-1  SBS ENVIRONNEMENT   True\n",
       "9    2010-03-11      2010-2  SBS ENVIRONNEMENT  False\n",
       "19   2010-03-11      2010-3  SBS ENVIRONNEMENT  False\n",
       "27   2010-03-10      2010-4  SBS ENVIRONNEMENT  False\n",
       "33   2010-03-12      2010-5  SBS ENVIRONNEMENT  False\n",
       "...         ...         ...                ...    ...\n",
       "1973 2010-08-03   2010-612c  SBS ENVIRONNEMENT  False\n",
       "1977 2010-08-03    2010-734            SITEREM   True\n",
       "1984 2010-09-01  2010-FP595            SITEREM   True\n",
       "1994 2010-09-02    2010-540            SITEREM   True\n",
       "2004 2010-09-20    2010-600            SITEREM   True\n",
       "\n",
       "[281 rows x 4 columns]"
      ]
     },
     "execution_count": 415,
     "metadata": {},
     "output_type": "execute_result"
    }
   ],
   "source": [
    "forages = forages[['Date', 'Ref', 'Company', 'Piezo']]\n",
    "forages"
   ]
  },
  {
   "cell_type": "code",
   "execution_count": 546,
   "id": "suburban-handy",
   "metadata": {},
   "outputs": [
    {
     "data": {
      "text/plain": [
       "'2010'"
      ]
     },
     "execution_count": 546,
     "metadata": {},
     "output_type": "execute_result"
    }
   ],
   "source": [
    "str(forages['Date'][0].year)"
   ]
  },
  {
   "cell_type": "code",
   "execution_count": 16,
   "id": "gross-bubble",
   "metadata": {},
   "outputs": [],
   "source": [
    "forages['Ref'] = forages['Date'].apply(lambda x : str(x.year) + '-') + forages['Ref']"
   ]
  },
  {
   "cell_type": "code",
   "execution_count": 574,
   "id": "armed-theater",
   "metadata": {},
   "outputs": [
    {
     "data": {
      "text/plain": [
       "2010"
      ]
     },
     "execution_count": 574,
     "metadata": {},
     "output_type": "execute_result"
    }
   ],
   "source": [
    "forages"
   ]
  },
  {
   "cell_type": "markdown",
   "id": "detected-adult",
   "metadata": {},
   "source": [
    "### forages phase 1"
   ]
  },
  {
   "cell_type": "code",
   "execution_count": 18,
   "id": "aware-toner",
   "metadata": {},
   "outputs": [
    {
     "name": "stdout",
     "output_type": "stream",
     "text": [
      "Rows : 71, columns : 19\n"
     ]
    },
    {
     "data": {
      "application/vnd.jupyter.widget-view+json": {
       "model_id": "d71bb81a5f5b46d08df9bd3ac069d595",
       "version_major": 2,
       "version_minor": 0
      },
      "text/plain": [
       "interactive(children=(IntSlider(value=10, description='rows', max=71, min=10, readout=False), IntSlider(value=…"
      ]
     },
     "metadata": {},
     "output_type": "display_data"
    }
   ],
   "source": [
    "v2017 = gpd.read_file('../../CF_data/Data_UMONS/SIG/sondages_v2017-05-18.shp')\n",
    "gdf_viewer(v2017, 10, 15)"
   ]
  },
  {
   "cell_type": "code",
   "execution_count": 19,
   "id": "atomic-creativity",
   "metadata": {
    "scrolled": true
   },
   "outputs": [],
   "source": [
    "v2017['Ref'] = v2017['Date'].apply(lambda x : str(datetime.datetime.strptime(x, '%Y-%m-%d').year) + '-') + v2017['Ref_sond']"
   ]
  },
  {
   "cell_type": "code",
   "execution_count": 20,
   "id": "material-teacher",
   "metadata": {},
   "outputs": [],
   "source": [
    "sond_ant = pd.read_excel('../../CF_data/Data_UMONS/Logs_forages_vUmons_2018-03-20.xlsx', sheet_name='Sond_ant')"
   ]
  },
  {
   "cell_type": "code",
   "execution_count": 21,
   "id": "thorough-ensemble",
   "metadata": {},
   "outputs": [],
   "source": [
    "sond_ant['Ref'] = sond_ant['Ref_siterem'].apply(lambda x: '2010-' + str(x)) # Identifiant sur base de l'année"
   ]
  },
  {
   "cell_type": "code",
   "execution_count": 22,
   "id": "wrapped-bryan",
   "metadata": {},
   "outputs": [
    {
     "data": {
      "text/html": [
       "<div>\n",
       "<style scoped>\n",
       "    .dataframe tbody tr th:only-of-type {\n",
       "        vertical-align: middle;\n",
       "    }\n",
       "\n",
       "    .dataframe tbody tr th {\n",
       "        vertical-align: top;\n",
       "    }\n",
       "\n",
       "    .dataframe thead th {\n",
       "        text-align: right;\n",
       "    }\n",
       "</style>\n",
       "<table border=\"1\" class=\"dataframe\">\n",
       "  <thead>\n",
       "    <tr style=\"text-align: right;\">\n",
       "      <th></th>\n",
       "      <th>Ref_GIS</th>\n",
       "      <th>Ref_siterem</th>\n",
       "      <th>X</th>\n",
       "      <th>Y</th>\n",
       "      <th>Type</th>\n",
       "      <th>Ref</th>\n",
       "    </tr>\n",
       "  </thead>\n",
       "  <tbody>\n",
       "    <tr>\n",
       "      <th>0</th>\n",
       "      <td>1</td>\n",
       "      <td>500</td>\n",
       "      <td>152324.0</td>\n",
       "      <td>122975.0</td>\n",
       "      <td>Eau_RB</td>\n",
       "      <td>2010-500</td>\n",
       "    </tr>\n",
       "    <tr>\n",
       "      <th>1</th>\n",
       "      <td>2</td>\n",
       "      <td>501</td>\n",
       "      <td>152368.0</td>\n",
       "      <td>122909.0</td>\n",
       "      <td>Eau_RB</td>\n",
       "      <td>2010-501</td>\n",
       "    </tr>\n",
       "    <tr>\n",
       "      <th>2</th>\n",
       "      <td>3</td>\n",
       "      <td>511</td>\n",
       "      <td>152371.0</td>\n",
       "      <td>122771.0</td>\n",
       "      <td>Eau_RB</td>\n",
       "      <td>2010-511</td>\n",
       "    </tr>\n",
       "    <tr>\n",
       "      <th>3</th>\n",
       "      <td>4</td>\n",
       "      <td>513</td>\n",
       "      <td>152424.0</td>\n",
       "      <td>122752.0</td>\n",
       "      <td>Eau_RB</td>\n",
       "      <td>2010-513</td>\n",
       "    </tr>\n",
       "    <tr>\n",
       "      <th>4</th>\n",
       "      <td>5</td>\n",
       "      <td>514</td>\n",
       "      <td>152476.0</td>\n",
       "      <td>122786.0</td>\n",
       "      <td>Eau_RB</td>\n",
       "      <td>2010-514</td>\n",
       "    </tr>\n",
       "    <tr>\n",
       "      <th>...</th>\n",
       "      <td>...</td>\n",
       "      <td>...</td>\n",
       "      <td>...</td>\n",
       "      <td>...</td>\n",
       "      <td>...</td>\n",
       "      <td>...</td>\n",
       "    </tr>\n",
       "    <tr>\n",
       "      <th>252</th>\n",
       "      <td>253</td>\n",
       "      <td>520</td>\n",
       "      <td>152644.0</td>\n",
       "      <td>122791.0</td>\n",
       "      <td>SOL</td>\n",
       "      <td>2010-520</td>\n",
       "    </tr>\n",
       "    <tr>\n",
       "      <th>253</th>\n",
       "      <td>254</td>\n",
       "      <td>524</td>\n",
       "      <td>152570.0</td>\n",
       "      <td>122789.0</td>\n",
       "      <td>SOL</td>\n",
       "      <td>2010-524</td>\n",
       "    </tr>\n",
       "    <tr>\n",
       "      <th>254</th>\n",
       "      <td>255</td>\n",
       "      <td>525</td>\n",
       "      <td>152548.0</td>\n",
       "      <td>122783.0</td>\n",
       "      <td>SOL</td>\n",
       "      <td>2010-525</td>\n",
       "    </tr>\n",
       "    <tr>\n",
       "      <th>255</th>\n",
       "      <td>256</td>\n",
       "      <td>526</td>\n",
       "      <td>152553.0</td>\n",
       "      <td>122757.0</td>\n",
       "      <td>SOL</td>\n",
       "      <td>2010-526</td>\n",
       "    </tr>\n",
       "    <tr>\n",
       "      <th>256</th>\n",
       "      <td>257</td>\n",
       "      <td>FP117sup</td>\n",
       "      <td>152750.0</td>\n",
       "      <td>122781.0</td>\n",
       "      <td>SOL</td>\n",
       "      <td>2010-FP117sup</td>\n",
       "    </tr>\n",
       "  </tbody>\n",
       "</table>\n",
       "<p>257 rows × 6 columns</p>\n",
       "</div>"
      ],
      "text/plain": [
       "     Ref_GIS Ref_siterem         X         Y    Type            Ref\n",
       "0          1         500  152324.0  122975.0  Eau_RB       2010-500\n",
       "1          2         501  152368.0  122909.0  Eau_RB       2010-501\n",
       "2          3         511  152371.0  122771.0  Eau_RB       2010-511\n",
       "3          4         513  152424.0  122752.0  Eau_RB       2010-513\n",
       "4          5         514  152476.0  122786.0  Eau_RB       2010-514\n",
       "..       ...         ...       ...       ...     ...            ...\n",
       "252      253         520  152644.0  122791.0     SOL       2010-520\n",
       "253      254         524  152570.0  122789.0     SOL       2010-524\n",
       "254      255         525  152548.0  122783.0     SOL       2010-525\n",
       "255      256         526  152553.0  122757.0     SOL       2010-526\n",
       "256      257    FP117sup  152750.0  122781.0     SOL  2010-FP117sup\n",
       "\n",
       "[257 rows x 6 columns]"
      ]
     },
     "execution_count": 22,
     "metadata": {},
     "output_type": "execute_result"
    }
   ],
   "source": [
    "sond_ant"
   ]
  },
  {
   "cell_type": "code",
   "execution_count": 23,
   "id": "proper-ethics",
   "metadata": {},
   "outputs": [],
   "source": [
    "sond_ant_gdf = gpd.GeoDataFrame(sond_ant, geometry=gpd.points_from_xy(sond_ant.X, sond_ant.Y, crs=str('EPSG:31370')))"
   ]
  },
  {
   "cell_type": "markdown",
   "id": "expired-garage",
   "metadata": {},
   "source": [
    "### Lecture de l'extension du projet MEMORIS"
   ]
  },
  {
   "cell_type": "code",
   "execution_count": 24,
   "id": "hydraulic-verse",
   "metadata": {},
   "outputs": [],
   "source": [
    "ext = gpd.read_file('../../CF_data/Data_UMONS/SIG/Site_Memoris.shp')"
   ]
  },
  {
   "cell_type": "markdown",
   "id": "tender-completion",
   "metadata": {},
   "source": [
    "### Affichage carte"
   ]
  },
  {
   "cell_type": "code",
   "execution_count": 25,
   "id": "racial-giant",
   "metadata": {},
   "outputs": [],
   "source": [
    "def label(gdf, field, ax, size='xx-small'):\n",
    "    for x, y, label in zip(gdf.geometry.x, gdf.geometry.y, gdf[field]):\n",
    "        ax.annotate(label, xy=(x, y), xytext=(3, 3), textcoords='offset points', size=size)"
   ]
  },
  {
   "cell_type": "code",
   "execution_count": 26,
   "id": "collectible-trance",
   "metadata": {},
   "outputs": [
    {
     "data": {
      "application/vnd.jupyter.widget-view+json": {
       "model_id": "c68791b29141433a89d154379ca3b52e",
       "version_major": 2,
       "version_minor": 0
      },
      "text/plain": [
       "Canvas(toolbar=Toolbar(toolitems=[('Home', 'Reset original view', 'home', 'home'), ('Back', 'Back to previous …"
      ]
     },
     "metadata": {},
     "output_type": "display_data"
    }
   ],
   "source": [
    "fig, ax = plt.subplots(figsize=(6,6))\n",
    "ext.plot(ax=ax, color='grey')\n",
    "v2017.plot(ax=ax, color='r')\n",
    "\n",
    "#for x, y, label in zip(v2017.geometry.x, v2017.geometry.y, v2017.Ref_sond):\n",
    "#    ax.annotate(label, xy=(x, y), xytext=(3, 3), textcoords=\"offset points\")\n",
    "label(v2017, 'Ref', ax)\n",
    "v8.plot(ax=ax, color='g')\n",
    "label(v8, 'Ref', ax)  \n",
    "sond_ant_gdf.plot(ax=ax, color='b', markersize=1)\n",
    "label(sond_ant_gdf, 'Ref', ax)"
   ]
  },
  {
   "cell_type": "markdown",
   "id": "sized-poster",
   "metadata": {},
   "source": [
    "En ignorant Sond_ant_gdf"
   ]
  },
  {
   "cell_type": "code",
   "execution_count": 27,
   "id": "aboriginal-chambers",
   "metadata": {},
   "outputs": [],
   "source": [
    "v8['new_Ref'] = 'F'+v8['Ref']"
   ]
  },
  {
   "cell_type": "code",
   "execution_count": 28,
   "id": "standing-decrease",
   "metadata": {},
   "outputs": [],
   "source": [
    "BH = []\n",
    "BH.extend(v2017['Ref_sond'].to_list())\n",
    "BH.extend(v8['new_Ref'].to_list())"
   ]
  },
  {
   "cell_type": "code",
   "execution_count": 29,
   "id": "interim-appendix",
   "metadata": {},
   "outputs": [],
   "source": [
    "v8['ID'] = v8.new_Ref\n",
    "v2017['ID'] = v2017.Ref_sond"
   ]
  },
  {
   "cell_type": "code",
   "execution_count": 30,
   "id": "optical-strap",
   "metadata": {},
   "outputs": [],
   "source": [
    "v8['Z']=101."
   ]
  },
  {
   "cell_type": "code",
   "execution_count": 31,
   "id": "hundred-representation",
   "metadata": {},
   "outputs": [],
   "source": [
    "gdf = gpd.GeoDataFrame(pd.concat([v8[['geometry','ID', 'Z']], v2017[['geometry','ID', 'Z']]], ignore_index=True))"
   ]
  },
  {
   "cell_type": "code",
   "execution_count": 32,
   "id": "ranging-albuquerque",
   "metadata": {},
   "outputs": [
    {
     "data": {
      "application/vnd.jupyter.widget-view+json": {
       "model_id": "2a114a6929fe43e0ae3a720787e1c43a",
       "version_major": 2,
       "version_minor": 0
      },
      "text/plain": [
       "Canvas(toolbar=Toolbar(toolitems=[('Home', 'Reset original view', 'home', 'home'), ('Back', 'Back to previous …"
      ]
     },
     "metadata": {},
     "output_type": "display_data"
    }
   ],
   "source": [
    "fig, ax = plt.subplots(figsize=(6,6))\n",
    "ext.plot(ax=ax, color='lightgrey')\n",
    "gdf.plot(ax=ax, markersize=1)\n",
    "label(gdf, 'ID', ax)"
   ]
  },
  {
   "cell_type": "code",
   "execution_count": 33,
   "id": "respected-stroke",
   "metadata": {},
   "outputs": [],
   "source": [
    "gdf['X']=gdf.geometry.x\n",
    "gdf['Y']=gdf.geometry.y"
   ]
  },
  {
   "cell_type": "code",
   "execution_count": 34,
   "id": "permanent-guidance",
   "metadata": {},
   "outputs": [],
   "source": [
    "pd.DataFrame(gdf)[['ID', 'X', 'Y', 'Z']].to_csv('../../CF_data/synthese/boreholes.csv', index=False)"
   ]
  },
  {
   "cell_type": "markdown",
   "id": "modern-tactics",
   "metadata": {},
   "source": [
    "### Liste de tous les ouvrages références y compris les doublons entre jeux de données (et dans chaque jeu de donnée) "
   ]
  },
  {
   "cell_type": "code",
   "execution_count": 35,
   "id": "cooperative-recovery",
   "metadata": {},
   "outputs": [],
   "source": [
    "BH = []\n",
    "BH.extend(v2017['Ref_sond'].to_list())\n",
    "BH.extend(v8['Ref'].to_list())\n",
    "BH.extend(sond_ant_gdf['Ref_siterem'].to_list())"
   ]
  },
  {
   "cell_type": "code",
   "execution_count": 36,
   "id": "smooth-attention",
   "metadata": {},
   "outputs": [
    {
     "data": {
      "text/html": [
       "<div>\n",
       "<style scoped>\n",
       "    .dataframe tbody tr th:only-of-type {\n",
       "        vertical-align: middle;\n",
       "    }\n",
       "\n",
       "    .dataframe tbody tr th {\n",
       "        vertical-align: top;\n",
       "    }\n",
       "\n",
       "    .dataframe thead th {\n",
       "        text-align: right;\n",
       "    }\n",
       "</style>\n",
       "<table border=\"1\" class=\"dataframe\">\n",
       "  <thead>\n",
       "    <tr style=\"text-align: right;\">\n",
       "      <th></th>\n",
       "      <th>Ref_sond</th>\n",
       "      <th>Ref_siterem</th>\n",
       "    </tr>\n",
       "  </thead>\n",
       "  <tbody>\n",
       "    <tr>\n",
       "      <th>0</th>\n",
       "      <td>75</td>\n",
       "      <td>NaN</td>\n",
       "    </tr>\n",
       "    <tr>\n",
       "      <th>1</th>\n",
       "      <td>76</td>\n",
       "      <td>NaN</td>\n",
       "    </tr>\n",
       "    <tr>\n",
       "      <th>2</th>\n",
       "      <td>76b</td>\n",
       "      <td>76b</td>\n",
       "    </tr>\n",
       "    <tr>\n",
       "      <th>3</th>\n",
       "      <td>76c</td>\n",
       "      <td>76c</td>\n",
       "    </tr>\n",
       "    <tr>\n",
       "      <th>4</th>\n",
       "      <td>FP76</td>\n",
       "      <td>NaN</td>\n",
       "    </tr>\n",
       "    <tr>\n",
       "      <th>...</th>\n",
       "      <td>...</td>\n",
       "      <td>...</td>\n",
       "    </tr>\n",
       "    <tr>\n",
       "      <th>95</th>\n",
       "      <td>NaN</td>\n",
       "      <td>P1</td>\n",
       "    </tr>\n",
       "    <tr>\n",
       "      <th>96</th>\n",
       "      <td>NaN</td>\n",
       "      <td>P7</td>\n",
       "    </tr>\n",
       "    <tr>\n",
       "      <th>97</th>\n",
       "      <td>NaN</td>\n",
       "      <td>P8</td>\n",
       "    </tr>\n",
       "    <tr>\n",
       "      <th>98</th>\n",
       "      <td>NaN</td>\n",
       "      <td>P12</td>\n",
       "    </tr>\n",
       "    <tr>\n",
       "      <th>99</th>\n",
       "      <td>NaN</td>\n",
       "      <td>P15a</td>\n",
       "    </tr>\n",
       "  </tbody>\n",
       "</table>\n",
       "<p>100 rows × 2 columns</p>\n",
       "</div>"
      ],
      "text/plain": [
       "   Ref_sond Ref_siterem\n",
       "0        75         NaN\n",
       "1        76         NaN\n",
       "2       76b         76b\n",
       "3       76c         76c\n",
       "4      FP76         NaN\n",
       "..      ...         ...\n",
       "95      NaN          P1\n",
       "96      NaN          P7\n",
       "97      NaN          P8\n",
       "98      NaN         P12\n",
       "99      NaN        P15a\n",
       "\n",
       "[100 rows x 2 columns]"
      ]
     },
     "execution_count": 36,
     "metadata": {},
     "output_type": "execute_result"
    }
   ],
   "source": [
    "gdf = v2017.merge(sond_ant_gdf, how='outer', left_on='Ref_sond', right_on='Ref_siterem')\n",
    "gdf[['Ref_sond', 'Ref_siterem']][0:100]"
   ]
  },
  {
   "cell_type": "code",
   "execution_count": 37,
   "id": "waiting-concept",
   "metadata": {
    "scrolled": true
   },
   "outputs": [
    {
     "data": {
      "text/plain": [
       "2      76b\n",
       "3      76c\n",
       "7      78b\n",
       "9      P80\n",
       "10     P81\n",
       "16     97b\n",
       "18     P99\n",
       "24    P106\n",
       "25    P107\n",
       "29    538a\n",
       "61     P22\n",
       "65     P25\n",
       "Name: Ref_sond, dtype: object"
      ]
     },
     "execution_count": 37,
     "metadata": {},
     "output_type": "execute_result"
    }
   ],
   "source": [
    "gdf.query('Ref_sond==Ref_siterem')['Ref_sond']"
   ]
  },
  {
   "cell_type": "code",
   "execution_count": 38,
   "id": "coordinate-slovenia",
   "metadata": {},
   "outputs": [
    {
     "data": {
      "text/plain": [
       "[500,\n",
       " 501,\n",
       " 511,\n",
       " 513,\n",
       " 514,\n",
       " 517,\n",
       " 521,\n",
       " 522,\n",
       " 523,\n",
       " 528,\n",
       " 529,\n",
       " 530,\n",
       " 531,\n",
       " 531,\n",
       " 532,\n",
       " '540sup',\n",
       " 541,\n",
       " 541,\n",
       " 542,\n",
       " 544,\n",
       " 545,\n",
       " 'FP115',\n",
       " 'MW1',\n",
       " 'MW2',\n",
       " 'P1',\n",
       " 'P7',\n",
       " 'P8',\n",
       " 'P12',\n",
       " 'P15a',\n",
       " 'P32',\n",
       " 'P34',\n",
       " 'P44',\n",
       " 'P48b',\n",
       " 'P51',\n",
       " 'P58',\n",
       " 'P59',\n",
       " 'P64',\n",
       " 'P65',\n",
       " 'P67',\n",
       " 'P74',\n",
       " 'P86',\n",
       " 'P91',\n",
       " 'P109',\n",
       " 'P110',\n",
       " 'P112',\n",
       " 'P125',\n",
       " 'P143',\n",
       " 'P152',\n",
       " 'P162',\n",
       " 'P164',\n",
       " 'P165',\n",
       " 'P168',\n",
       " 'P170',\n",
       " 'P175',\n",
       " 'P181b',\n",
       " 'P186',\n",
       " 'P188',\n",
       " 'P197',\n",
       " 'P200',\n",
       " 'P205',\n",
       " 'P209',\n",
       " 'P214',\n",
       " 'P219b',\n",
       " 'P400',\n",
       " 'P405',\n",
       " 'P406',\n",
       " 'P410',\n",
       " 'P411',\n",
       " 'P595',\n",
       " '76sup',\n",
       " '63sup',\n",
       " '49sup',\n",
       " '14sup',\n",
       " 'P512',\n",
       " 504,\n",
       " 509,\n",
       " 510,\n",
       " 533,\n",
       " 534,\n",
       " 536,\n",
       " 537,\n",
       " 539,\n",
       " 540,\n",
       " '540a',\n",
       " 543,\n",
       " 595,\n",
       " 734,\n",
       " '26275b',\n",
       " 'FP14prof',\n",
       " 'FP14sup',\n",
       " 'P28',\n",
       " 'P129',\n",
       " 'P142',\n",
       " 'P166',\n",
       " 'P167',\n",
       " 'P172',\n",
       " 'P180',\n",
       " 'P403',\n",
       " 'P412',\n",
       " 502,\n",
       " 502,\n",
       " '160prof',\n",
       " '160sup',\n",
       " 508,\n",
       " 512,\n",
       " 'FP15',\n",
       " 'FP49prof',\n",
       " 'FP49sup',\n",
       " 'FP63prof',\n",
       " 'FP63sup',\n",
       " 'FP76prof',\n",
       " 'FP76sup',\n",
       " 'FP117prof',\n",
       " 'FP600',\n",
       " 'FP595',\n",
       " 2,\n",
       " 3,\n",
       " 4,\n",
       " 5,\n",
       " 6,\n",
       " 9,\n",
       " 10,\n",
       " 11,\n",
       " 13,\n",
       " 19,\n",
       " 23,\n",
       " 24,\n",
       " 26,\n",
       " 27,\n",
       " 29,\n",
       " 30,\n",
       " 31,\n",
       " 33,\n",
       " 35,\n",
       " 36,\n",
       " 37,\n",
       " '37b',\n",
       " 38,\n",
       " 39,\n",
       " 40,\n",
       " 41,\n",
       " 42,\n",
       " 43,\n",
       " 47,\n",
       " 49,\n",
       " '50b',\n",
       " 52,\n",
       " 53,\n",
       " 60,\n",
       " 61,\n",
       " 62,\n",
       " 68,\n",
       " 73,\n",
       " 75,\n",
       " 76,\n",
       " 77,\n",
       " 78,\n",
       " 79,\n",
       " 82,\n",
       " 83,\n",
       " 84,\n",
       " 85,\n",
       " 87,\n",
       " 88,\n",
       " '88b',\n",
       " 89,\n",
       " 90,\n",
       " 92,\n",
       " 94,\n",
       " '94b',\n",
       " '94c',\n",
       " 95,\n",
       " 96,\n",
       " 97,\n",
       " 98,\n",
       " 100,\n",
       " 102,\n",
       " 103,\n",
       " 104,\n",
       " 105,\n",
       " 108,\n",
       " 111,\n",
       " 113,\n",
       " 114,\n",
       " 116,\n",
       " 118,\n",
       " 119,\n",
       " '119a',\n",
       " 120,\n",
       " 121,\n",
       " 122,\n",
       " 123,\n",
       " 124,\n",
       " 126,\n",
       " 127,\n",
       " 128,\n",
       " 130,\n",
       " 131,\n",
       " 133,\n",
       " 134,\n",
       " 135,\n",
       " 137,\n",
       " 138,\n",
       " 139,\n",
       " 140,\n",
       " 141,\n",
       " 144,\n",
       " 154,\n",
       " 157,\n",
       " 159,\n",
       " 161,\n",
       " 163,\n",
       " 169,\n",
       " 171,\n",
       " 176,\n",
       " 178,\n",
       " 179,\n",
       " 183,\n",
       " 184,\n",
       " 189,\n",
       " 194,\n",
       " 195,\n",
       " '195a',\n",
       " 211,\n",
       " 212,\n",
       " 213,\n",
       " 215,\n",
       " 216,\n",
       " 217,\n",
       " 218,\n",
       " 219,\n",
       " 402,\n",
       " 404,\n",
       " 503,\n",
       " 506,\n",
       " '506a',\n",
       " 507,\n",
       " 516,\n",
       " 518,\n",
       " 519,\n",
       " 520,\n",
       " 524,\n",
       " 525,\n",
       " 526,\n",
       " 'FP117sup']"
      ]
     },
     "execution_count": 38,
     "metadata": {},
     "output_type": "execute_result"
    }
   ],
   "source": [
    "gdf.query('Ref_sond!=Ref_sond')['Ref_siterem'].to_list()"
   ]
  },
  {
   "cell_type": "code",
   "execution_count": 39,
   "id": "flush-youth",
   "metadata": {},
   "outputs": [
    {
     "data": {
      "text/plain": [
       "416"
      ]
     },
     "execution_count": 39,
     "metadata": {},
     "output_type": "execute_result"
    }
   ],
   "source": [
    "len(BH)"
   ]
  },
  {
   "cell_type": "code",
   "execution_count": 40,
   "id": "chronic-short",
   "metadata": {},
   "outputs": [
    {
     "data": {
      "text/plain": [
       "395"
      ]
     },
     "execution_count": 40,
     "metadata": {},
     "output_type": "execute_result"
    }
   ],
   "source": [
    "len(set(BH)) # uniques values"
   ]
  },
  {
   "cell_type": "code",
   "execution_count": 41,
   "id": "median-greenhouse",
   "metadata": {
    "scrolled": true
   },
   "outputs": [
    {
     "data": {
      "text/plain": [
       "['75',\n",
       " '76',\n",
       " 'FP76',\n",
       " '77',\n",
       " '78',\n",
       " '79',\n",
       " '82',\n",
       " '83',\n",
       " '95',\n",
       " '96',\n",
       " '97',\n",
       " '98',\n",
       " '100',\n",
       " '102',\n",
       " '103',\n",
       " '104',\n",
       " '105',\n",
       " '108',\n",
       " '536',\n",
       " '537',\n",
       " 'P1aM',\n",
       " 'P1bM',\n",
       " 'P2M',\n",
       " 'P3M',\n",
       " 'P4M',\n",
       " 'P5M',\n",
       " 'P6M',\n",
       " 'P7aM',\n",
       " 'P7bM',\n",
       " 'P8M',\n",
       " 'P9aM',\n",
       " 'P9bM',\n",
       " 'P10M',\n",
       " 'P11M',\n",
       " 'P12M',\n",
       " 'P13M',\n",
       " 'P14M',\n",
       " 'P15bM',\n",
       " 'P15aM',\n",
       " \"P15a'M\",\n",
       " 'P16M',\n",
       " 'P17aM',\n",
       " 'P17bM',\n",
       " 'P17cM',\n",
       " 'P17dM',\n",
       " 'F18a',\n",
       " 'F18b',\n",
       " 'P18c',\n",
       " 'P19',\n",
       " 'P20',\n",
       " 'P21',\n",
       " 'P23',\n",
       " 'F24a',\n",
       " 'P24b',\n",
       " 'P26',\n",
       " 'F27a',\n",
       " 'F27b',\n",
       " 'F27c',\n",
       " 'P27d']"
      ]
     },
     "execution_count": 41,
     "metadata": {},
     "output_type": "execute_result"
    }
   ],
   "source": [
    "gdf.query('Ref_siterem!=Ref_siterem')['Ref_sond'].to_list()"
   ]
  },
  {
   "cell_type": "code",
   "execution_count": 42,
   "id": "editorial-relief",
   "metadata": {},
   "outputs": [
    {
     "data": {
      "text/plain": [
       "Index(['Ref_GIS_x', 'Ref_sond', 'XL72', 'YL72', 'Z', 'Refus', 'Date',\n",
       "       'Prof_sond', 'Cote_fond', 'RB', 'ALL', 'S_A', 'S_S', 'Base_RB',\n",
       "       'Cote_B_RB', 'Top_All', 'Top_SA', 'Top_SS', 'geometry_x', 'Ref_x', 'ID',\n",
       "       'Ref_GIS_y', 'Ref_siterem', 'X', 'Y', 'Type', 'Ref_y', 'geometry_y'],\n",
       "      dtype='object')"
      ]
     },
     "execution_count": 42,
     "metadata": {},
     "output_type": "execute_result"
    }
   ],
   "source": [
    "gdf.columns"
   ]
  },
  {
   "cell_type": "code",
   "execution_count": 43,
   "id": "loaded-showcase",
   "metadata": {},
   "outputs": [],
   "source": [
    "for idx, row in gdf.iterrows():\n",
    "    if row['geometry_x'] is None:\n",
    "        if row['geometry_y'] is not None:\n",
    "            gdf.loc[idx, 'distance'] = 0.\n",
    "        else:\n",
    "            gdf.loc[idx, 'distance'] = None\n",
    "    else:\n",
    "        if row['geometry_y'] is None:\n",
    "            gdf.loc[idx, 'distance'] = 0.\n",
    "        else:\n",
    "            gdf.loc[idx, 'distance'] = row['geometry_x'].distance(row['geometry_y'])"
   ]
  },
  {
   "cell_type": "code",
   "execution_count": 44,
   "id": "organizational-metropolitan",
   "metadata": {},
   "outputs": [
    {
     "data": {
      "text/html": [
       "<div>\n",
       "<style scoped>\n",
       "    .dataframe tbody tr th:only-of-type {\n",
       "        vertical-align: middle;\n",
       "    }\n",
       "\n",
       "    .dataframe tbody tr th {\n",
       "        vertical-align: top;\n",
       "    }\n",
       "\n",
       "    .dataframe thead th {\n",
       "        text-align: right;\n",
       "    }\n",
       "</style>\n",
       "<table border=\"1\" class=\"dataframe\">\n",
       "  <thead>\n",
       "    <tr style=\"text-align: right;\">\n",
       "      <th></th>\n",
       "      <th>Ref_GIS_x</th>\n",
       "      <th>Ref_sond</th>\n",
       "      <th>XL72</th>\n",
       "      <th>YL72</th>\n",
       "      <th>Z</th>\n",
       "      <th>Refus</th>\n",
       "      <th>Date</th>\n",
       "      <th>Prof_sond</th>\n",
       "      <th>Cote_fond</th>\n",
       "      <th>RB</th>\n",
       "      <th>...</th>\n",
       "      <th>Ref_x</th>\n",
       "      <th>ID</th>\n",
       "      <th>Ref_GIS_y</th>\n",
       "      <th>Ref_siterem</th>\n",
       "      <th>X</th>\n",
       "      <th>Y</th>\n",
       "      <th>Type</th>\n",
       "      <th>Ref_y</th>\n",
       "      <th>geometry_y</th>\n",
       "      <th>distance</th>\n",
       "    </tr>\n",
       "  </thead>\n",
       "  <tbody>\n",
       "  </tbody>\n",
       "</table>\n",
       "<p>0 rows × 29 columns</p>\n",
       "</div>"
      ],
      "text/plain": [
       "Empty DataFrame\n",
       "Columns: [Ref_GIS_x, Ref_sond, XL72, YL72, Z, Refus, Date, Prof_sond, Cote_fond, RB, ALL, S_A, S_S, Base_RB, Cote_B_RB, Top_All, Top_SA, Top_SS, geometry_x, Ref_x, ID, Ref_GIS_y, Ref_siterem, X, Y, Type, Ref_y, geometry_y, distance]\n",
       "Index: []\n",
       "\n",
       "[0 rows x 29 columns]"
      ]
     },
     "execution_count": 44,
     "metadata": {},
     "output_type": "execute_result"
    }
   ],
   "source": [
    "gdf.query('distance != distance') # recherche de forages n'ayant aucune coordonnées"
   ]
  },
  {
   "cell_type": "code",
   "execution_count": 725,
   "id": "pressing-biodiversity",
   "metadata": {},
   "outputs": [
    {
     "name": "stdout",
     "output_type": "stream",
     "text": [
      "Rows : 8, columns : 29\n"
     ]
    },
    {
     "data": {
      "application/vnd.jupyter.widget-view+json": {
       "model_id": "5a8976108c6e4da6a62fd3df0f9f5d6e",
       "version_major": 2,
       "version_minor": 0
      },
      "text/plain": [
       "interactive(children=(IntSlider(value=8, description='rows', max=8, min=8, readout=False), IntSlider(value=15,…"
      ]
     },
     "metadata": {},
     "output_type": "display_data"
    }
   ],
   "source": [
    "gdf_viewer(gdf.query('distance>0.'))"
   ]
  },
  {
   "cell_type": "markdown",
   "id": "alien-nylon",
   "metadata": {},
   "source": [
    "## Lecture d'autres fichiers (1 ou plusieurs feuilles)"
   ]
  },
  {
   "cell_type": "markdown",
   "id": "ignored-precipitation",
   "metadata": {},
   "source": [
    "1- Regrouper les infos sur les 'ID, X, Y, Z, Long' pour définir la géométrie des BH\n",
    "\n",
    "2- Regrouper les infos sur les 'ID, X, Y, Z, Type' pour définir la géométrie des BH\n",
    "\n",
    "3- Regrouper les infos sur la lithologie (intervales) et les lier aux ID\n",
    "\n",
    "4- ..."
   ]
  },
  {
   "cell_type": "markdown",
   "id": "competitive-phase",
   "metadata": {},
   "source": [
    "### 1- Collecte des informations sur la géométrie des forages"
   ]
  },
  {
   "cell_type": "markdown",
   "id": "decimal-tower",
   "metadata": {},
   "source": [
    "#### ../../CF_data//Data_UMONS/Logs_forages_vUmons_2018-03-20.xlsx\n",
    "* Feuilles : 'Sond2017v3' ++ 'DatabaseSOL20101005'"
   ]
  },
  {
   "cell_type": "code",
   "execution_count": 1171,
   "id": "rolled-sender",
   "metadata": {},
   "outputs": [],
   "source": [
    "For_synth=gpd.GeoDataFrame({})"
   ]
  },
  {
   "cell_type": "code",
   "execution_count": 1172,
   "id": "controversial-budapest",
   "metadata": {},
   "outputs": [
    {
     "name": "stdout",
     "output_type": "stream",
     "text": [
      "Rows : 89, columns : 32\n"
     ]
    },
    {
     "data": {
      "application/vnd.jupyter.widget-view+json": {
       "model_id": "a6e3cf87e61442e98a9c4d400b5efaa6",
       "version_major": 2,
       "version_minor": 0
      },
      "text/plain": [
       "interactive(children=(IntSlider(value=10, description='rows', max=89, min=10, readout=False), IntSlider(value=…"
      ]
     },
     "metadata": {},
     "output_type": "display_data"
    }
   ],
   "source": [
    "tmp_for = pd.read_excel('../../CF_data//Data_UMONS/Logs_forages_vUmons_2018-03-20.xlsx', sheet_name='Sond2017v3')#, skiprows=1)\n",
    "gdf_viewer(tmp_for)"
   ]
  },
  {
   "cell_type": "code",
   "execution_count": 1173,
   "id": "stock-bleeding",
   "metadata": {},
   "outputs": [
    {
     "data": {
      "text/plain": [
       "Index(['Ref_GIS', 'Ref_sond', 'XL72', 'YL72', 'Z', 'Refus', 'Date',\n",
       "       'Prof_sond', 'Cote_fond', 'RB', 'ALL', 'S_A', 'S_S', 'Base_RB',\n",
       "       'Cote_B_RB', 'Top_All', 'Top_SA', 'Top_SS', 'Unnamed: 18',\n",
       "       'Unnamed: 19', 'Unnamed: 20', 'Unnamed: 21', 'Unnamed: 22',\n",
       "       'Unnamed: 23', 'Unnamed: 24', 'Unnamed: 25', 'Unnamed: 26',\n",
       "       'Unnamed: 27', 'Unnamed: 28', 'Unnamed: 29', 'Unnamed: 30',\n",
       "       'Unnamed: 31'],\n",
       "      dtype='object')"
      ]
     },
     "execution_count": 1173,
     "metadata": {},
     "output_type": "execute_result"
    }
   ],
   "source": [
    "tmp_for.columns"
   ]
  },
  {
   "cell_type": "code",
   "execution_count": 1174,
   "id": "bright-advertising",
   "metadata": {},
   "outputs": [
    {
     "data": {
      "text/plain": [
       "Index(['Ref_x', 'X', 'Y', 'Z', 'Refus', 'Date', 'Long', 'Cote_fond', 'RB',\n",
       "       'ALL', 'S_A', 'S_S', 'Base_RB', 'Cote_B_RB', 'Top_All', 'Top_SA',\n",
       "       'Top_SS'],\n",
       "      dtype='object')"
      ]
     },
     "execution_count": 1174,
     "metadata": {},
     "output_type": "execute_result"
    }
   ],
   "source": [
    "tmp_for.rename(columns={'Ref_sond':'Ref_x','XL72':'X', 'YL72':'Y', 'Z (m)':'Z',\n",
    "        'Prof_sond':'Long', 'Base des Remblais (m)':'Base_RB',\n",
    "        'Sommet des Alluvions (m)':'Top_All', 'Sommet du Socle altéré (m)':'Top_SA',\n",
    "        'Sommet du Socle sain (m)':'Top_SS'}, inplace=True)\n",
    "\n",
    "tmp_for.drop(columns=[tmp_for.columns.to_list()[x] for x in range(len(tmp_for.columns)) \n",
    "       if re.compile(r\"Unnamed|Ref_GIS\").match(tmp_for.columns.to_list()[x])], axis=1, inplace=True) \n",
    "\n",
    "tmp_for.columns"
   ]
  },
  {
   "cell_type": "code",
   "execution_count": 1175,
   "id": "grave-demographic",
   "metadata": {},
   "outputs": [],
   "source": [
    "tmp_for=tmp_for[['Date', 'Ref_x', 'X', 'Y', 'Z', 'Long', 'Refus', 'Base_RB','Top_All', 'Top_SA','Top_SS',]]"
   ]
  },
  {
   "cell_type": "code",
   "execution_count": 1176,
   "id": "treated-underground",
   "metadata": {},
   "outputs": [
    {
     "data": {
      "text/html": [
       "<div>\n",
       "<style scoped>\n",
       "    .dataframe tbody tr th:only-of-type {\n",
       "        vertical-align: middle;\n",
       "    }\n",
       "\n",
       "    .dataframe tbody tr th {\n",
       "        vertical-align: top;\n",
       "    }\n",
       "\n",
       "    .dataframe thead th {\n",
       "        text-align: right;\n",
       "    }\n",
       "</style>\n",
       "<table border=\"1\" class=\"dataframe\">\n",
       "  <thead>\n",
       "    <tr style=\"text-align: right;\">\n",
       "      <th></th>\n",
       "      <th>Date</th>\n",
       "      <th>Ref_x</th>\n",
       "      <th>X</th>\n",
       "      <th>Y</th>\n",
       "      <th>Z</th>\n",
       "      <th>Long</th>\n",
       "      <th>Refus</th>\n",
       "      <th>Base_RB</th>\n",
       "      <th>Top_All</th>\n",
       "      <th>Top_SA</th>\n",
       "      <th>Top_SS</th>\n",
       "    </tr>\n",
       "  </thead>\n",
       "  <tbody>\n",
       "    <tr>\n",
       "      <th>0</th>\n",
       "      <td>2016-12-31</td>\n",
       "      <td>75</td>\n",
       "      <td>152836.000000</td>\n",
       "      <td>122609.000000</td>\n",
       "      <td>102.652</td>\n",
       "      <td>5.7</td>\n",
       "      <td>0</td>\n",
       "      <td>4.3</td>\n",
       "      <td>4.3</td>\n",
       "      <td>NaN</td>\n",
       "      <td>NaN</td>\n",
       "    </tr>\n",
       "    <tr>\n",
       "      <th>1</th>\n",
       "      <td>2016-12-31</td>\n",
       "      <td>76</td>\n",
       "      <td>152867.000000</td>\n",
       "      <td>122611.000000</td>\n",
       "      <td>102.751</td>\n",
       "      <td>1.2</td>\n",
       "      <td>1</td>\n",
       "      <td>NaN</td>\n",
       "      <td>NaN</td>\n",
       "      <td>NaN</td>\n",
       "      <td>NaN</td>\n",
       "    </tr>\n",
       "    <tr>\n",
       "      <th>2</th>\n",
       "      <td>2016-12-31</td>\n",
       "      <td>76b</td>\n",
       "      <td>152867.000000</td>\n",
       "      <td>122610.000000</td>\n",
       "      <td>102.751</td>\n",
       "      <td>3.0</td>\n",
       "      <td>1</td>\n",
       "      <td>NaN</td>\n",
       "      <td>NaN</td>\n",
       "      <td>NaN</td>\n",
       "      <td>NaN</td>\n",
       "    </tr>\n",
       "    <tr>\n",
       "      <th>3</th>\n",
       "      <td>2016-12-31</td>\n",
       "      <td>76c</td>\n",
       "      <td>152867.000000</td>\n",
       "      <td>122608.000000</td>\n",
       "      <td>102.751</td>\n",
       "      <td>2.5</td>\n",
       "      <td>1</td>\n",
       "      <td>NaN</td>\n",
       "      <td>NaN</td>\n",
       "      <td>NaN</td>\n",
       "      <td>NaN</td>\n",
       "    </tr>\n",
       "    <tr>\n",
       "      <th>4</th>\n",
       "      <td>2016-12-31</td>\n",
       "      <td>FP76</td>\n",
       "      <td>152860.000000</td>\n",
       "      <td>122608.000000</td>\n",
       "      <td>102.727</td>\n",
       "      <td>18.5</td>\n",
       "      <td>0</td>\n",
       "      <td>8.0</td>\n",
       "      <td>NaN</td>\n",
       "      <td>8.0</td>\n",
       "      <td>12.5</td>\n",
       "    </tr>\n",
       "    <tr>\n",
       "      <th>...</th>\n",
       "      <td>...</td>\n",
       "      <td>...</td>\n",
       "      <td>...</td>\n",
       "      <td>...</td>\n",
       "      <td>...</td>\n",
       "      <td>...</td>\n",
       "      <td>...</td>\n",
       "      <td>...</td>\n",
       "      <td>...</td>\n",
       "      <td>...</td>\n",
       "      <td>...</td>\n",
       "    </tr>\n",
       "    <tr>\n",
       "      <th>84</th>\n",
       "      <td>NaT</td>\n",
       "      <td>F30</td>\n",
       "      <td>152887.892567</td>\n",
       "      <td>122581.184654</td>\n",
       "      <td>9999.000</td>\n",
       "      <td>9999.0</td>\n",
       "      <td>9</td>\n",
       "      <td>NaN</td>\n",
       "      <td>NaN</td>\n",
       "      <td>NaN</td>\n",
       "      <td>NaN</td>\n",
       "    </tr>\n",
       "    <tr>\n",
       "      <th>85</th>\n",
       "      <td>NaT</td>\n",
       "      <td>F31</td>\n",
       "      <td>152885.916612</td>\n",
       "      <td>122578.766886</td>\n",
       "      <td>9999.000</td>\n",
       "      <td>9999.0</td>\n",
       "      <td>9</td>\n",
       "      <td>NaN</td>\n",
       "      <td>NaN</td>\n",
       "      <td>NaN</td>\n",
       "      <td>NaN</td>\n",
       "    </tr>\n",
       "    <tr>\n",
       "      <th>86</th>\n",
       "      <td>NaT</td>\n",
       "      <td>F32</td>\n",
       "      <td>152885.673928</td>\n",
       "      <td>122581.757054</td>\n",
       "      <td>9999.000</td>\n",
       "      <td>9999.0</td>\n",
       "      <td>9</td>\n",
       "      <td>NaN</td>\n",
       "      <td>NaN</td>\n",
       "      <td>NaN</td>\n",
       "      <td>NaN</td>\n",
       "    </tr>\n",
       "    <tr>\n",
       "      <th>87</th>\n",
       "      <td>NaT</td>\n",
       "      <td>F40</td>\n",
       "      <td>152883.685780</td>\n",
       "      <td>122577.833364</td>\n",
       "      <td>9999.000</td>\n",
       "      <td>9999.0</td>\n",
       "      <td>9</td>\n",
       "      <td>NaN</td>\n",
       "      <td>NaN</td>\n",
       "      <td>NaN</td>\n",
       "      <td>NaN</td>\n",
       "    </tr>\n",
       "    <tr>\n",
       "      <th>88</th>\n",
       "      <td>NaT</td>\n",
       "      <td>F41</td>\n",
       "      <td>152884.254198</td>\n",
       "      <td>122577.010624</td>\n",
       "      <td>9999.000</td>\n",
       "      <td>9999.0</td>\n",
       "      <td>9</td>\n",
       "      <td>NaN</td>\n",
       "      <td>NaN</td>\n",
       "      <td>NaN</td>\n",
       "      <td>NaN</td>\n",
       "    </tr>\n",
       "  </tbody>\n",
       "</table>\n",
       "<p>89 rows × 11 columns</p>\n",
       "</div>"
      ],
      "text/plain": [
       "         Date Ref_x              X              Y         Z    Long  Refus  \\\n",
       "0  2016-12-31    75  152836.000000  122609.000000   102.652     5.7      0   \n",
       "1  2016-12-31    76  152867.000000  122611.000000   102.751     1.2      1   \n",
       "2  2016-12-31   76b  152867.000000  122610.000000   102.751     3.0      1   \n",
       "3  2016-12-31   76c  152867.000000  122608.000000   102.751     2.5      1   \n",
       "4  2016-12-31  FP76  152860.000000  122608.000000   102.727    18.5      0   \n",
       "..        ...   ...            ...            ...       ...     ...    ...   \n",
       "84        NaT   F30  152887.892567  122581.184654  9999.000  9999.0      9   \n",
       "85        NaT   F31  152885.916612  122578.766886  9999.000  9999.0      9   \n",
       "86        NaT   F32  152885.673928  122581.757054  9999.000  9999.0      9   \n",
       "87        NaT   F40  152883.685780  122577.833364  9999.000  9999.0      9   \n",
       "88        NaT   F41  152884.254198  122577.010624  9999.000  9999.0      9   \n",
       "\n",
       "    Base_RB  Top_All  Top_SA  Top_SS  \n",
       "0       4.3      4.3     NaN     NaN  \n",
       "1       NaN      NaN     NaN     NaN  \n",
       "2       NaN      NaN     NaN     NaN  \n",
       "3       NaN      NaN     NaN     NaN  \n",
       "4       8.0      NaN     8.0    12.5  \n",
       "..      ...      ...     ...     ...  \n",
       "84      NaN      NaN     NaN     NaN  \n",
       "85      NaN      NaN     NaN     NaN  \n",
       "86      NaN      NaN     NaN     NaN  \n",
       "87      NaN      NaN     NaN     NaN  \n",
       "88      NaN      NaN     NaN     NaN  \n",
       "\n",
       "[89 rows x 11 columns]"
      ]
     },
     "execution_count": 1176,
     "metadata": {},
     "output_type": "execute_result"
    }
   ],
   "source": [
    "tmp_for"
   ]
  },
  {
   "cell_type": "code",
   "execution_count": 1177,
   "id": "outstanding-satellite",
   "metadata": {
    "scrolled": true
   },
   "outputs": [
    {
     "name": "stderr",
     "output_type": "stream",
     "text": [
      "/home/yanathan/.local/share/virtualenvs/GSDMA-DRfwm83x/lib/python3.8/site-packages/pandas/core/indexing.py:1720: SettingWithCopyWarning: \n",
      "A value is trying to be set on a copy of a slice from a DataFrame.\n",
      "Try using .loc[row_indexer,col_indexer] = value instead\n",
      "\n",
      "See the caveats in the documentation: https://pandas.pydata.org/pandas-docs/stable/user_guide/indexing.html#returning-a-view-versus-a-copy\n",
      "  self._setitem_single_column(loc, value, pi)\n"
     ]
    }
   ],
   "source": [
    "for i,j in tmp_for.iterrows():\n",
    "    if tmp_for.loc[i, 'Refus']==1:\n",
    "        tmp_for.loc[i, 'Refus']='R'\n",
    "    else :\n",
    "        tmp_for.loc[i, 'Refus']='-'"
   ]
  },
  {
   "cell_type": "code",
   "execution_count": 1178,
   "id": "extreme-austria",
   "metadata": {},
   "outputs": [],
   "source": [
    "For_synth=copy.deepcopy(tmp_for) #save tmp_for"
   ]
  },
  {
   "cell_type": "code",
   "execution_count": 1179,
   "id": "corporate-virgin",
   "metadata": {},
   "outputs": [],
   "source": [
    "#tmp_for = tmp_for.replace(np.nan, '', regex=True) #remove all 'NAN'\n",
    "#pd.concat([v8[['geometry','ID', 'Z']], v2017[['geometry','ID', 'Z']]], ignore_index=True)"
   ]
  },
  {
   "cell_type": "code",
   "execution_count": 1180,
   "id": "linear-welcome",
   "metadata": {},
   "outputs": [
    {
     "name": "stdout",
     "output_type": "stream",
     "text": [
      "Rows : 758, columns : 26\n"
     ]
    },
    {
     "data": {
      "application/vnd.jupyter.widget-view+json": {
       "model_id": "f2d727cc6b7747b79220a7b6a73ed351",
       "version_major": 2,
       "version_minor": 0
      },
      "text/plain": [
       "interactive(children=(IntSlider(value=10, description='rows', max=758, min=10, readout=False), IntSlider(value…"
      ]
     },
     "metadata": {},
     "output_type": "display_data"
    }
   ],
   "source": [
    "tmp_for = pd.read_excel('../../CF_data//Data_UMONS/Logs_forages_vUmons_2018-03-20.xlsx', sheet_name='DatabaseSOL20101005')#, skiprows=1)\n",
    "gdf_viewer(tmp_for)"
   ]
  },
  {
   "cell_type": "code",
   "execution_count": 1181,
   "id": "wrong-circus",
   "metadata": {
    "scrolled": false
   },
   "outputs": [
    {
     "data": {
      "text/plain": [
       "Index(['ID', 'CAMPAGNE', 'ZONE', 'N', 'AFFECTATIO', 'X', 'Y', 'Z',\n",
       "       'PROF_FORAG', 'N_ECH', 'MIN_ECH', 'MAX_ECH', 'COUCHE', 'SOUMIS',\n",
       "       'TERRAIN', 'DESCRIPTIO', 'INTENSITÉ', 'MIN_ORGANO', 'MAX_ORGANO', 'ML',\n",
       "       'CN', 'BTEXS', 'HAP', 'EOX', 'HT', 'IPH'],\n",
       "      dtype='object')"
      ]
     },
     "execution_count": 1181,
     "metadata": {},
     "output_type": "execute_result"
    }
   ],
   "source": [
    "tmp_for.columns"
   ]
  },
  {
   "cell_type": "code",
   "execution_count": 1182,
   "id": "included-racing",
   "metadata": {
    "scrolled": true
   },
   "outputs": [
    {
     "name": "stderr",
     "output_type": "stream",
     "text": [
      "/home/yanathan/.local/share/virtualenvs/GSDMA-DRfwm83x/lib/python3.8/site-packages/pandas/core/frame.py:4438: SettingWithCopyWarning: \n",
      "A value is trying to be set on a copy of a slice from a DataFrame\n",
      "\n",
      "See the caveats in the documentation: https://pandas.pydata.org/pandas-docs/stable/user_guide/indexing.html#returning-a-view-versus-a-copy\n",
      "  return super().rename(\n"
     ]
    }
   ],
   "source": [
    "tmp_for=tmp_for[['N', 'X', 'Y', 'Z', 'PROF_FORAG', 'CAMPAGNE']]\n",
    "tmp_for.rename(columns={'N':'Ref_y','PROF_FORAG':'Long', 'CAMPAGNE':'Societe'}, inplace=True)"
   ]
  },
  {
   "cell_type": "raw",
   "id": "rapid-commissioner",
   "metadata": {},
   "source": [
    "tmp_for=tmp_for[:30] # infos utiles\n",
    "tmp_for.insert(0, 'Date', pd.NaT) \n",
    "tmp_for.head(5)"
   ]
  },
  {
   "cell_type": "code",
   "execution_count": 1183,
   "id": "matched-victim",
   "metadata": {
    "scrolled": true
   },
   "outputs": [
    {
     "data": {
      "text/plain": [
       "{'SBS', 'SITERE'}"
      ]
     },
     "execution_count": 1183,
     "metadata": {},
     "output_type": "execute_result"
    }
   ],
   "source": [
    "set(tmp_for['Societe'])"
   ]
  },
  {
   "cell_type": "code",
   "execution_count": 1184,
   "id": "thousand-denver",
   "metadata": {
    "scrolled": true
   },
   "outputs": [
    {
     "name": "stderr",
     "output_type": "stream",
     "text": [
      "/home/yanathan/.local/share/virtualenvs/GSDMA-DRfwm83x/lib/python3.8/site-packages/pandas/core/indexing.py:1720: SettingWithCopyWarning: \n",
      "A value is trying to be set on a copy of a slice from a DataFrame.\n",
      "Try using .loc[row_indexer,col_indexer] = value instead\n",
      "\n",
      "See the caveats in the documentation: https://pandas.pydata.org/pandas-docs/stable/user_guide/indexing.html#returning-a-view-versus-a-copy\n",
      "  self._setitem_single_column(loc, value, pi)\n"
     ]
    }
   ],
   "source": [
    "for i,j in tmp_for.iterrows():\n",
    "    if tmp_for.loc[i, 'Societe']=='SITERE':\n",
    "        tmp_for.loc[i, 'Societe']='SITEREM'\n",
    "    #else :\n",
    "    #    tmp_for.loc[i, 'Refus']='-'"
   ]
  },
  {
   "cell_type": "code",
   "execution_count": 1185,
   "id": "impaired-planner",
   "metadata": {},
   "outputs": [
    {
     "name": "stdout",
     "output_type": "stream",
     "text": [
      "Rows : 846, columns : 17\n"
     ]
    },
    {
     "data": {
      "application/vnd.jupyter.widget-view+json": {
       "model_id": "864b3cc6991748d898d99891c5b48cd7",
       "version_major": 2,
       "version_minor": 0
      },
      "text/plain": [
       "interactive(children=(IntSlider(value=10, description='rows', max=846, min=10, readout=False), IntSlider(value…"
      ]
     },
     "metadata": {},
     "output_type": "display_data"
    }
   ],
   "source": [
    "merge_tmp=For_synth.merge(tmp_for, how='outer', left_on='Ref_x', right_on='Ref_y')\n",
    "gdf_viewer(merge_tmp)"
   ]
  },
  {
   "cell_type": "code",
   "execution_count": 1186,
   "id": "favorite-moment",
   "metadata": {},
   "outputs": [
    {
     "data": {
      "text/plain": [
       "(1, 846)"
      ]
     },
     "execution_count": 1186,
     "metadata": {},
     "output_type": "execute_result"
    }
   ],
   "source": [
    "len(set(merge_tmp.query(\"Ref_x==Ref_y\")['Ref_y'])), len(merge_tmp)"
   ]
  },
  {
   "cell_type": "code",
   "execution_count": 1187,
   "id": "distinct-portland",
   "metadata": {},
   "outputs": [
    {
     "name": "stderr",
     "output_type": "stream",
     "text": [
      "/home/yanathan/.local/share/virtualenvs/GSDMA-DRfwm83x/lib/python3.8/site-packages/pyproj/crs/crs.py:53: FutureWarning: '+init=<authority>:<code>' syntax is deprecated. '<authority>:<code>' is the preferred initialization method. When making the change, be mindful of axis order changes: https://pyproj4.github.io/pyproj/stable/gotchas.html#axis-order-changes-in-proj-6\n",
      "  return _prepare_from_string(\" \".join(pjargs))\n"
     ]
    }
   ],
   "source": [
    "geom = gpd.GeoSeries(merge_tmp.apply(lambda x: Point(x['X_x'], x['Y_x']),1),crs={'init': 'epsg:31370'})\n",
    "gtmp = gpd.GeoDataFrame(merge_tmp, geometry=geom, crs=\"EPSG:31370\")"
   ]
  },
  {
   "cell_type": "code",
   "execution_count": 1188,
   "id": "disciplinary-syria",
   "metadata": {},
   "outputs": [],
   "source": [
    "gtmp['geometry_y'] = gpd.GeoSeries(merge_tmp.apply(lambda x: Point(x['X_y'], x['Y_y']),1),crs={'init': 'epsg:31370'})\n",
    "gtmp.rename_geometry('geometry_x', inplace=True)"
   ]
  },
  {
   "cell_type": "code",
   "execution_count": 1189,
   "id": "combined-thanksgiving",
   "metadata": {},
   "outputs": [],
   "source": [
    "for idx, row in gtmp.iterrows():\n",
    "    if row['geometry_x'] is None:\n",
    "        if row['geometry_y'] is not None:\n",
    "            gtmp.loc[idx, 'distance'] = 0.\n",
    "        else:\n",
    "            gtmp.loc[idx, 'distance'] = None\n",
    "    else:\n",
    "        if row['geometry_y'] is None:\n",
    "            gtmp.loc[idx, 'distance'] = 0.\n",
    "        else:\n",
    "            gtmp.loc[idx, 'distance'] = row['geometry_x'].distance(row['geometry_y'])"
   ]
  },
  {
   "cell_type": "code",
   "execution_count": 1190,
   "id": "solved-outdoors",
   "metadata": {},
   "outputs": [
    {
     "data": {
      "text/html": [
       "<div>\n",
       "<style scoped>\n",
       "    .dataframe tbody tr th:only-of-type {\n",
       "        vertical-align: middle;\n",
       "    }\n",
       "\n",
       "    .dataframe tbody tr th {\n",
       "        vertical-align: top;\n",
       "    }\n",
       "\n",
       "    .dataframe thead th {\n",
       "        text-align: right;\n",
       "    }\n",
       "</style>\n",
       "<table border=\"1\" class=\"dataframe\">\n",
       "  <thead>\n",
       "    <tr style=\"text-align: right;\">\n",
       "      <th></th>\n",
       "      <th>Date</th>\n",
       "      <th>Ref_x</th>\n",
       "      <th>X_x</th>\n",
       "      <th>Y_x</th>\n",
       "      <th>Z_x</th>\n",
       "      <th>Long_x</th>\n",
       "      <th>Refus</th>\n",
       "      <th>Base_RB</th>\n",
       "      <th>Top_All</th>\n",
       "      <th>Top_SA</th>\n",
       "      <th>Top_SS</th>\n",
       "      <th>Ref_y</th>\n",
       "      <th>X_y</th>\n",
       "      <th>Y_y</th>\n",
       "      <th>Z_y</th>\n",
       "      <th>Long_y</th>\n",
       "      <th>Societe</th>\n",
       "      <th>geometry_x</th>\n",
       "      <th>geometry_y</th>\n",
       "      <th>distance</th>\n",
       "    </tr>\n",
       "  </thead>\n",
       "  <tbody>\n",
       "    <tr>\n",
       "      <th>4</th>\n",
       "      <td>2016-12-31</td>\n",
       "      <td>FP76</td>\n",
       "      <td>152860.0</td>\n",
       "      <td>122608.0</td>\n",
       "      <td>102.727</td>\n",
       "      <td>18.5</td>\n",
       "      <td>-</td>\n",
       "      <td>8.0</td>\n",
       "      <td>NaN</td>\n",
       "      <td>8.0</td>\n",
       "      <td>12.5</td>\n",
       "      <td>FP76</td>\n",
       "      <td>152861.0</td>\n",
       "      <td>122608.0</td>\n",
       "      <td>102,73</td>\n",
       "      <td>19.0</td>\n",
       "      <td>SITEREM</td>\n",
       "      <td>POINT (152860.000 122608.000)</td>\n",
       "      <td>POINT (152861.000 122608.000)</td>\n",
       "      <td>1.0</td>\n",
       "    </tr>\n",
       "    <tr>\n",
       "      <th>5</th>\n",
       "      <td>2016-12-31</td>\n",
       "      <td>FP76</td>\n",
       "      <td>152860.0</td>\n",
       "      <td>122608.0</td>\n",
       "      <td>102.727</td>\n",
       "      <td>18.5</td>\n",
       "      <td>-</td>\n",
       "      <td>8.0</td>\n",
       "      <td>NaN</td>\n",
       "      <td>8.0</td>\n",
       "      <td>12.5</td>\n",
       "      <td>FP76</td>\n",
       "      <td>152861.0</td>\n",
       "      <td>122608.0</td>\n",
       "      <td>102,73</td>\n",
       "      <td>19.0</td>\n",
       "      <td>SITEREM</td>\n",
       "      <td>POINT (152860.000 122608.000)</td>\n",
       "      <td>POINT (152861.000 122608.000)</td>\n",
       "      <td>1.0</td>\n",
       "    </tr>\n",
       "    <tr>\n",
       "      <th>6</th>\n",
       "      <td>2016-12-31</td>\n",
       "      <td>FP76</td>\n",
       "      <td>152860.0</td>\n",
       "      <td>122608.0</td>\n",
       "      <td>102.727</td>\n",
       "      <td>18.5</td>\n",
       "      <td>-</td>\n",
       "      <td>8.0</td>\n",
       "      <td>NaN</td>\n",
       "      <td>8.0</td>\n",
       "      <td>12.5</td>\n",
       "      <td>FP76</td>\n",
       "      <td>152861.0</td>\n",
       "      <td>122608.0</td>\n",
       "      <td>102,73</td>\n",
       "      <td>19.0</td>\n",
       "      <td>SITEREM</td>\n",
       "      <td>POINT (152860.000 122608.000)</td>\n",
       "      <td>POINT (152861.000 122608.000)</td>\n",
       "      <td>1.0</td>\n",
       "    </tr>\n",
       "    <tr>\n",
       "      <th>7</th>\n",
       "      <td>2016-12-31</td>\n",
       "      <td>FP76</td>\n",
       "      <td>152860.0</td>\n",
       "      <td>122608.0</td>\n",
       "      <td>102.727</td>\n",
       "      <td>18.5</td>\n",
       "      <td>-</td>\n",
       "      <td>8.0</td>\n",
       "      <td>NaN</td>\n",
       "      <td>8.0</td>\n",
       "      <td>12.5</td>\n",
       "      <td>FP76</td>\n",
       "      <td>152861.0</td>\n",
       "      <td>122608.0</td>\n",
       "      <td>102,73</td>\n",
       "      <td>19.0</td>\n",
       "      <td>SITEREM</td>\n",
       "      <td>POINT (152860.000 122608.000)</td>\n",
       "      <td>POINT (152861.000 122608.000)</td>\n",
       "      <td>1.0</td>\n",
       "    </tr>\n",
       "    <tr>\n",
       "      <th>8</th>\n",
       "      <td>2016-12-31</td>\n",
       "      <td>FP76</td>\n",
       "      <td>152860.0</td>\n",
       "      <td>122608.0</td>\n",
       "      <td>102.727</td>\n",
       "      <td>18.5</td>\n",
       "      <td>-</td>\n",
       "      <td>8.0</td>\n",
       "      <td>NaN</td>\n",
       "      <td>8.0</td>\n",
       "      <td>12.5</td>\n",
       "      <td>FP76</td>\n",
       "      <td>152861.0</td>\n",
       "      <td>122608.0</td>\n",
       "      <td>102,73</td>\n",
       "      <td>19.0</td>\n",
       "      <td>SITEREM</td>\n",
       "      <td>POINT (152860.000 122608.000)</td>\n",
       "      <td>POINT (152861.000 122608.000)</td>\n",
       "      <td>1.0</td>\n",
       "    </tr>\n",
       "    <tr>\n",
       "      <th>9</th>\n",
       "      <td>2016-12-31</td>\n",
       "      <td>FP76</td>\n",
       "      <td>152860.0</td>\n",
       "      <td>122608.0</td>\n",
       "      <td>102.727</td>\n",
       "      <td>18.5</td>\n",
       "      <td>-</td>\n",
       "      <td>8.0</td>\n",
       "      <td>NaN</td>\n",
       "      <td>8.0</td>\n",
       "      <td>12.5</td>\n",
       "      <td>FP76</td>\n",
       "      <td>152861.0</td>\n",
       "      <td>122608.0</td>\n",
       "      <td>102,73</td>\n",
       "      <td>3.0</td>\n",
       "      <td>SBS</td>\n",
       "      <td>POINT (152860.000 122608.000)</td>\n",
       "      <td>POINT (152861.000 122608.000)</td>\n",
       "      <td>1.0</td>\n",
       "    </tr>\n",
       "    <tr>\n",
       "      <th>10</th>\n",
       "      <td>2016-12-31</td>\n",
       "      <td>FP76</td>\n",
       "      <td>152860.0</td>\n",
       "      <td>122608.0</td>\n",
       "      <td>102.727</td>\n",
       "      <td>18.5</td>\n",
       "      <td>-</td>\n",
       "      <td>8.0</td>\n",
       "      <td>NaN</td>\n",
       "      <td>8.0</td>\n",
       "      <td>12.5</td>\n",
       "      <td>FP76</td>\n",
       "      <td>152861.0</td>\n",
       "      <td>122608.0</td>\n",
       "      <td>102,73</td>\n",
       "      <td>3.0</td>\n",
       "      <td>SBS</td>\n",
       "      <td>POINT (152860.000 122608.000)</td>\n",
       "      <td>POINT (152861.000 122608.000)</td>\n",
       "      <td>1.0</td>\n",
       "    </tr>\n",
       "    <tr>\n",
       "      <th>11</th>\n",
       "      <td>2016-12-31</td>\n",
       "      <td>FP76</td>\n",
       "      <td>152860.0</td>\n",
       "      <td>122608.0</td>\n",
       "      <td>102.727</td>\n",
       "      <td>18.5</td>\n",
       "      <td>-</td>\n",
       "      <td>8.0</td>\n",
       "      <td>NaN</td>\n",
       "      <td>8.0</td>\n",
       "      <td>12.5</td>\n",
       "      <td>FP76</td>\n",
       "      <td>152861.0</td>\n",
       "      <td>122608.0</td>\n",
       "      <td>102,73</td>\n",
       "      <td>3.0</td>\n",
       "      <td>SBS</td>\n",
       "      <td>POINT (152860.000 122608.000)</td>\n",
       "      <td>POINT (152861.000 122608.000)</td>\n",
       "      <td>1.0</td>\n",
       "    </tr>\n",
       "  </tbody>\n",
       "</table>\n",
       "</div>"
      ],
      "text/plain": [
       "         Date Ref_x       X_x       Y_x      Z_x  Long_x Refus  Base_RB  \\\n",
       "4  2016-12-31  FP76  152860.0  122608.0  102.727    18.5     -      8.0   \n",
       "5  2016-12-31  FP76  152860.0  122608.0  102.727    18.5     -      8.0   \n",
       "6  2016-12-31  FP76  152860.0  122608.0  102.727    18.5     -      8.0   \n",
       "7  2016-12-31  FP76  152860.0  122608.0  102.727    18.5     -      8.0   \n",
       "8  2016-12-31  FP76  152860.0  122608.0  102.727    18.5     -      8.0   \n",
       "9  2016-12-31  FP76  152860.0  122608.0  102.727    18.5     -      8.0   \n",
       "10 2016-12-31  FP76  152860.0  122608.0  102.727    18.5     -      8.0   \n",
       "11 2016-12-31  FP76  152860.0  122608.0  102.727    18.5     -      8.0   \n",
       "\n",
       "    Top_All  Top_SA  Top_SS Ref_y       X_y       Y_y     Z_y  Long_y  \\\n",
       "4       NaN     8.0    12.5  FP76  152861.0  122608.0  102,73    19.0   \n",
       "5       NaN     8.0    12.5  FP76  152861.0  122608.0  102,73    19.0   \n",
       "6       NaN     8.0    12.5  FP76  152861.0  122608.0  102,73    19.0   \n",
       "7       NaN     8.0    12.5  FP76  152861.0  122608.0  102,73    19.0   \n",
       "8       NaN     8.0    12.5  FP76  152861.0  122608.0  102,73    19.0   \n",
       "9       NaN     8.0    12.5  FP76  152861.0  122608.0  102,73     3.0   \n",
       "10      NaN     8.0    12.5  FP76  152861.0  122608.0  102,73     3.0   \n",
       "11      NaN     8.0    12.5  FP76  152861.0  122608.0  102,73     3.0   \n",
       "\n",
       "    Societe                     geometry_x                     geometry_y  \\\n",
       "4   SITEREM  POINT (152860.000 122608.000)  POINT (152861.000 122608.000)   \n",
       "5   SITEREM  POINT (152860.000 122608.000)  POINT (152861.000 122608.000)   \n",
       "6   SITEREM  POINT (152860.000 122608.000)  POINT (152861.000 122608.000)   \n",
       "7   SITEREM  POINT (152860.000 122608.000)  POINT (152861.000 122608.000)   \n",
       "8   SITEREM  POINT (152860.000 122608.000)  POINT (152861.000 122608.000)   \n",
       "9       SBS  POINT (152860.000 122608.000)  POINT (152861.000 122608.000)   \n",
       "10      SBS  POINT (152860.000 122608.000)  POINT (152861.000 122608.000)   \n",
       "11      SBS  POINT (152860.000 122608.000)  POINT (152861.000 122608.000)   \n",
       "\n",
       "    distance  \n",
       "4        1.0  \n",
       "5        1.0  \n",
       "6        1.0  \n",
       "7        1.0  \n",
       "8        1.0  \n",
       "9        1.0  \n",
       "10       1.0  \n",
       "11       1.0  "
      ]
     },
     "execution_count": 1190,
     "metadata": {},
     "output_type": "execute_result"
    }
   ],
   "source": [
    "gtmp.query('distance<5')"
   ]
  },
  {
   "cell_type": "code",
   "execution_count": 1191,
   "id": "approved-technical",
   "metadata": {},
   "outputs": [],
   "source": [
    "gtmp.to_csv('../../CF_data/synthese/Boreholes_2.csv', index=False)"
   ]
  },
  {
   "cell_type": "markdown",
   "id": "authorized-response",
   "metadata": {},
   "source": [
    "* Feuilles : 'Sond_all_loc' ++ 'Feuil1'"
   ]
  },
  {
   "cell_type": "code",
   "execution_count": 1192,
   "id": "facial-simulation",
   "metadata": {},
   "outputs": [
    {
     "name": "stdout",
     "output_type": "stream",
     "text": [
      "Rows : 89, columns : 6\n"
     ]
    },
    {
     "data": {
      "application/vnd.jupyter.widget-view+json": {
       "model_id": "661adc31026748b9b8e5cb53deea91b5",
       "version_major": 2,
       "version_minor": 0
      },
      "text/plain": [
       "interactive(children=(IntSlider(value=10, description='rows', max=89, min=10, readout=False), IntSlider(value=…"
      ]
     },
     "metadata": {},
     "output_type": "display_data"
    }
   ],
   "source": [
    "tmp_for = pd.read_excel('../../CF_data//Data_UMONS/Logs_forages_vUmons_2018-03-20.xlsx', sheet_name='Sond_all_loc')#, skiprows=1)\n",
    "gdf_viewer(tmp_for)"
   ]
  },
  {
   "cell_type": "code",
   "execution_count": 1193,
   "id": "eleven-ceremony",
   "metadata": {},
   "outputs": [
    {
     "data": {
      "text/plain": [
       "89"
      ]
     },
     "execution_count": 1193,
     "metadata": {},
     "output_type": "execute_result"
    }
   ],
   "source": [
    "tmp_for.rename(columns={'Ref_sond':'Ref_x','XL72':'X', 'YL72':'Y'}, inplace=True)\n",
    "tmp_for=tmp_for[['Ref_x', 'X', 'Y', 'Z']]\n",
    "len(tmp_for)"
   ]
  },
  {
   "cell_type": "code",
   "execution_count": 1194,
   "id": "political-retreat",
   "metadata": {},
   "outputs": [],
   "source": [
    "For_synth=copy.deepcopy(tmp_for) #save tmp_for"
   ]
  },
  {
   "cell_type": "code",
   "execution_count": 1195,
   "id": "addressed-floor",
   "metadata": {},
   "outputs": [
    {
     "name": "stdout",
     "output_type": "stream",
     "text": [
      "Rows : 10, columns : 5\n"
     ]
    },
    {
     "data": {
      "application/vnd.jupyter.widget-view+json": {
       "model_id": "f5b6ca474a7249f8bc84ced2ab9612cb",
       "version_major": 2,
       "version_minor": 0
      },
      "text/plain": [
       "interactive(children=(IntSlider(value=10, description='rows', max=10, min=10, readout=False), IntSlider(value=…"
      ]
     },
     "metadata": {},
     "output_type": "display_data"
    }
   ],
   "source": [
    "tmp_for = pd.read_excel('../../CF_data//Data_UMONS/ouvrages/profondeur de contact campagne de forages octobre 2019.xlsx', sheet_name='Feuil1', skiprows=2)\n",
    "gdf_viewer(tmp_for)"
   ]
  },
  {
   "cell_type": "code",
   "execution_count": 1196,
   "id": "adolescent-assets",
   "metadata": {},
   "outputs": [],
   "source": [
    "tmp_for.rename(columns={'n°forage ':'Ref_x','x':'X', 'y':'Y', 'z':'Z', 'profondeur(m)':'Long'}, inplace=True)\n",
    "tmp_for=tmp_for[['Ref_x', 'X', 'Y', 'Z', 'Long']] "
   ]
  },
  {
   "cell_type": "code",
   "execution_count": 1197,
   "id": "charitable-costa",
   "metadata": {},
   "outputs": [
    {
     "name": "stdout",
     "output_type": "stream",
     "text": [
      "'Date' is not in columns' name, using default date\n"
     ]
    },
    {
     "data": {
      "text/plain": [
       "0    2019-205.0\n",
       "1    2019-208.0\n",
       "2    2019-212.0\n",
       "3    2019-207.0\n",
       "4    2019-214.0\n",
       "5    2019-217.0\n",
       "6    2019-225.0\n",
       "7    2019-304.0\n",
       "8      2019-nan\n",
       "9      2019-nan\n",
       "Name: Ref_x, dtype: object"
      ]
     },
     "execution_count": 1197,
     "metadata": {},
     "output_type": "execute_result"
    }
   ],
   "source": [
    "genID_dated(tmp_for, 'Ref_x', '2019')"
   ]
  },
  {
   "cell_type": "code",
   "execution_count": 1198,
   "id": "possible-artwork",
   "metadata": {
    "scrolled": false
   },
   "outputs": [
    {
     "data": {
      "text/plain": [
       "0            75\n",
       "1            76\n",
       "2            77\n",
       "3            78\n",
       "4            79\n",
       "        ...    \n",
       "5    2019-217.0\n",
       "6    2019-225.0\n",
       "7    2019-304.0\n",
       "8      2019-nan\n",
       "9      2019-nan\n",
       "Name: Ref_x, Length: 99, dtype: object"
      ]
     },
     "execution_count": 1198,
     "metadata": {},
     "output_type": "execute_result"
    }
   ],
   "source": [
    "For_synth=For_synth.append(tmp_for)\n",
    "For_synth['Ref_x']"
   ]
  },
  {
   "cell_type": "code",
   "execution_count": 1199,
   "id": "recognized-brake",
   "metadata": {},
   "outputs": [
    {
     "data": {
      "text/plain": [
       "(None, 99)"
      ]
     },
     "execution_count": 1199,
     "metadata": {},
     "output_type": "execute_result"
    }
   ],
   "source": [
    "For_synth.to_csv('../../CF_data/synthese/Boreholes3.csv'), len(For_synth)"
   ]
  },
  {
   "cell_type": "markdown",
   "id": "flush-control",
   "metadata": {},
   "source": [
    "* Feuille : 'Obs_siterem_phase2'"
   ]
  },
  {
   "cell_type": "code",
   "execution_count": 1303,
   "id": "closing-gathering",
   "metadata": {},
   "outputs": [
    {
     "name": "stdout",
     "output_type": "stream",
     "text": [
      "Rows : 22, columns : 13\n"
     ]
    },
    {
     "data": {
      "application/vnd.jupyter.widget-view+json": {
       "model_id": "27164874bca24b408498beb976cac2a9",
       "version_major": 2,
       "version_minor": 0
      },
      "text/plain": [
       "interactive(children=(IntSlider(value=10, description='rows', max=22, min=10, readout=False), IntSlider(value=…"
      ]
     },
     "metadata": {},
     "output_type": "display_data"
    }
   ],
   "source": [
    "tmp_for = pd.read_excel('../../CF_data//Data_UMONS/Logs_forages_vUmons_2018-03-20.xlsx', sheet_name='Obs_siterem_phase2')#, skiprows=2)\n",
    "gdf_viewer(tmp_for)"
   ]
  },
  {
   "cell_type": "code",
   "execution_count": 1304,
   "id": "contained-chick",
   "metadata": {},
   "outputs": [
    {
     "name": "stderr",
     "output_type": "stream",
     "text": [
      "<ipython-input-1304-a21bbe8fe671>:3: SettingWithCopyWarning: \n",
      "A value is trying to be set on a copy of a slice from a DataFrame.\n",
      "Try using .loc[row_indexer,col_indexer] = value instead\n",
      "\n",
      "See the caveats in the documentation: https://pandas.pydata.org/pandas-docs/stable/user_guide/indexing.html#returning-a-view-versus-a-copy\n",
      "  tmp_for['Piezo']=True\n"
     ]
    }
   ],
   "source": [
    "tmp_for.rename(columns={'ref_piezo':'Ref_Pz', 'Prof_piézo':'Long_Pz', 'Nappe':'Aquifer'}, inplace=True)\n",
    "tmp_for=tmp_for[['Date','Ref_Pz', 'X', 'Y', 'Z', 'Long_Pz', 'Niv_nappe', 'Aquifer']]\n",
    "tmp_for['Piezo']=True"
   ]
  },
  {
   "cell_type": "code",
   "execution_count": 1305,
   "id": "dominican-nursing",
   "metadata": {},
   "outputs": [
    {
     "data": {
      "text/plain": [
       "Index(['Date', 'Ref_Pz', 'X', 'Y', 'Z', 'Long_Pz', 'Niv_nappe', 'Aquifer',\n",
       "       'Piezo'],\n",
       "      dtype='object')"
      ]
     },
     "execution_count": 1305,
     "metadata": {},
     "output_type": "execute_result"
    }
   ],
   "source": [
    "tmp_for.columns"
   ]
  },
  {
   "cell_type": "code",
   "execution_count": 1306,
   "id": "israeli-sessions",
   "metadata": {},
   "outputs": [],
   "source": [
    "For_synth=copy.deepcopy(tmp_for) #save tmp_for"
   ]
  },
  {
   "cell_type": "code",
   "execution_count": 1307,
   "id": "bibliographic-calibration",
   "metadata": {},
   "outputs": [
    {
     "name": "stdout",
     "output_type": "stream",
     "text": [
      "Rows : 22, columns : 9\n"
     ]
    },
    {
     "data": {
      "application/vnd.jupyter.widget-view+json": {
       "model_id": "ba5500217ed94494b27de1f7940bd8f1",
       "version_major": 2,
       "version_minor": 0
      },
      "text/plain": [
       "interactive(children=(IntSlider(value=10, description='rows', max=22, min=10, readout=False), IntSlider(value=…"
      ]
     },
     "metadata": {},
     "output_type": "display_data"
    }
   ],
   "source": [
    "gdf_viewer(For_synth)"
   ]
  },
  {
   "cell_type": "markdown",
   "id": "fleet-halloween",
   "metadata": {},
   "source": [
    "* Feuille : 'Analyse_eau_Phases1&2'"
   ]
  },
  {
   "cell_type": "code",
   "execution_count": 1308,
   "id": "settled-indonesia",
   "metadata": {
    "scrolled": false
   },
   "outputs": [
    {
     "name": "stdout",
     "output_type": "stream",
     "text": [
      "Rows : 52, columns : 85\n"
     ]
    },
    {
     "data": {
      "application/vnd.jupyter.widget-view+json": {
       "model_id": "ddb63a4387aa44b592ba58d8c2608eec",
       "version_major": 2,
       "version_minor": 0
      },
      "text/plain": [
       "interactive(children=(IntSlider(value=10, description='rows', max=52, min=10, readout=False), IntSlider(value=…"
      ]
     },
     "metadata": {},
     "output_type": "display_data"
    }
   ],
   "source": [
    "tmp_for = pd.read_excel('../../CF_data//Data_UMONS/Logs_forages_vUmons_2018-03-20.xlsx', sheet_name='Analyse_eau_Phases1&2')#, skiprows=2)\n",
    "gdf_viewer(tmp_for)"
   ]
  },
  {
   "cell_type": "code",
   "execution_count": 1309,
   "id": "foster-luxembourg",
   "metadata": {},
   "outputs": [
    {
     "data": {
      "text/html": [
       "<div>\n",
       "<style scoped>\n",
       "    .dataframe tbody tr th:only-of-type {\n",
       "        vertical-align: middle;\n",
       "    }\n",
       "\n",
       "    .dataframe tbody tr th {\n",
       "        vertical-align: top;\n",
       "    }\n",
       "\n",
       "    .dataframe thead th {\n",
       "        text-align: right;\n",
       "    }\n",
       "</style>\n",
       "<table border=\"1\" class=\"dataframe\">\n",
       "  <thead>\n",
       "    <tr style=\"text-align: right;\">\n",
       "      <th></th>\n",
       "      <th>Date</th>\n",
       "      <th>Ref_Pz</th>\n",
       "      <th>X</th>\n",
       "      <th>Y</th>\n",
       "      <th>Z</th>\n",
       "      <th>Long_For</th>\n",
       "      <th>Long_Pz</th>\n",
       "      <th>Niv_nappe</th>\n",
       "      <th>Piezo</th>\n",
       "    </tr>\n",
       "  </thead>\n",
       "  <tbody>\n",
       "    <tr>\n",
       "      <th>0</th>\n",
       "      <td>2018-01-25</td>\n",
       "      <td>F25</td>\n",
       "      <td>152885.424348</td>\n",
       "      <td>122579.479399</td>\n",
       "      <td>NaN</td>\n",
       "      <td>6</td>\n",
       "      <td>4.31</td>\n",
       "      <td>1.49</td>\n",
       "      <td>True</td>\n",
       "    </tr>\n",
       "    <tr>\n",
       "      <th>1</th>\n",
       "      <td>2018-01-25</td>\n",
       "      <td>F20</td>\n",
       "      <td>152886.408877</td>\n",
       "      <td>122578.054372</td>\n",
       "      <td>NaN</td>\n",
       "      <td>6</td>\n",
       "      <td>3.82</td>\n",
       "      <td>1.52</td>\n",
       "      <td>True</td>\n",
       "    </tr>\n",
       "    <tr>\n",
       "      <th>2</th>\n",
       "      <td>2018-01-25</td>\n",
       "      <td>F22</td>\n",
       "      <td>152888.384832</td>\n",
       "      <td>122580.472141</td>\n",
       "      <td>NaN</td>\n",
       "      <td>6</td>\n",
       "      <td>4.15</td>\n",
       "      <td>1.64</td>\n",
       "      <td>True</td>\n",
       "    </tr>\n",
       "    <tr>\n",
       "      <th>3</th>\n",
       "      <td>2018-01-25</td>\n",
       "      <td>F24</td>\n",
       "      <td>152886.166193</td>\n",
       "      <td>122581.044540</td>\n",
       "      <td>NaN</td>\n",
       "      <td>6</td>\n",
       "      <td>4.18</td>\n",
       "      <td>1.63</td>\n",
       "      <td>True</td>\n",
       "    </tr>\n",
       "    <tr>\n",
       "      <th>4</th>\n",
       "      <td>2018-01-25</td>\n",
       "      <td>F21</td>\n",
       "      <td>152888.135251</td>\n",
       "      <td>122578.194486</td>\n",
       "      <td>NaN</td>\n",
       "      <td>6</td>\n",
       "      <td>4.59</td>\n",
       "      <td>1.43</td>\n",
       "      <td>True</td>\n",
       "    </tr>\n",
       "    <tr>\n",
       "      <th>5</th>\n",
       "      <td>2018-01-25</td>\n",
       "      <td>F23</td>\n",
       "      <td>152888.263489</td>\n",
       "      <td>122581.967225</td>\n",
       "      <td>NaN</td>\n",
       "      <td>6</td>\n",
       "      <td>3.01</td>\n",
       "      <td>1.66</td>\n",
       "      <td>True</td>\n",
       "    </tr>\n",
       "  </tbody>\n",
       "</table>\n",
       "</div>"
      ],
      "text/plain": [
       "         Date Ref_Pz              X              Y    Z Long_For Long_Pz  \\\n",
       "0  2018-01-25    F25  152885.424348  122579.479399  NaN        6    4.31   \n",
       "1  2018-01-25    F20  152886.408877  122578.054372  NaN        6    3.82   \n",
       "2  2018-01-25    F22  152888.384832  122580.472141  NaN        6    4.15   \n",
       "3  2018-01-25    F24  152886.166193  122581.044540  NaN        6    4.18   \n",
       "4  2018-01-25    F21  152888.135251  122578.194486  NaN        6    4.59   \n",
       "5  2018-01-25    F23  152888.263489  122581.967225  NaN        6    3.01   \n",
       "\n",
       "  Niv_nappe  Piezo  \n",
       "0      1.49   True  \n",
       "1      1.52   True  \n",
       "2      1.64   True  \n",
       "3      1.63   True  \n",
       "4      1.43   True  \n",
       "5      1.66   True  "
      ]
     },
     "execution_count": 1309,
     "metadata": {},
     "output_type": "execute_result"
    }
   ],
   "source": [
    "tmp_for.rename(columns={'Ref_forage':'Ref_Pz','XL72':'X', 'YL72':'Y','Prof_forage':'Long_For','Prof_ piézo':'Long_Pz', 'Niveau_nappe':'Niv_nappe'}, inplace=True)\n",
    "merge_tmp=tmp_for[46:][['Date', 'Ref_Pz', 'X','Y','Z','Long_For','Long_Pz', 'Niv_nappe']]\n",
    "merge_tmp.reset_index(inplace=True, drop=True)\n",
    "merge_tmp['Piezo']=True\n",
    "merge_tmp['Date'] = merge_tmp['Date'].apply(lambda x : datetime.date(1900, 1, 1) + datetime.timedelta(days=x-2))\n",
    "\n",
    "# ici c'est la date de prélèvement del'échantillon d'eau !!!\n",
    "merge_tmp"
   ]
  },
  {
   "cell_type": "code",
   "execution_count": 1310,
   "id": "asian-barrel",
   "metadata": {},
   "outputs": [
    {
     "name": "stdout",
     "output_type": "stream",
     "text": [
      "Rows : 39, columns : 9\n"
     ]
    },
    {
     "data": {
      "application/vnd.jupyter.widget-view+json": {
       "model_id": "ea982cbf0efa490999026d6e4ba1c049",
       "version_major": 2,
       "version_minor": 0
      },
      "text/plain": [
       "interactive(children=(IntSlider(value=10, description='rows', max=39, min=10, readout=False), IntSlider(value=…"
      ]
     },
     "metadata": {},
     "output_type": "display_data"
    }
   ],
   "source": [
    "tmp_for=tmp_for[4:43][['Date', 'Ref_Pz', 'X','Y','Z','Long_For','Long_Pz', 'Niv_nappe']]\n",
    "tmp_for.reset_index(inplace=True, drop=True)\n",
    "tmp_for['Piezo']=True\n",
    "gdf_viewer(tmp_for)"
   ]
  },
  {
   "cell_type": "code",
   "execution_count": 1311,
   "id": "french-bibliography",
   "metadata": {
    "scrolled": false
   },
   "outputs": [],
   "source": [
    "tmp_for=tmp_for.append(merge_tmp)"
   ]
  },
  {
   "cell_type": "code",
   "execution_count": 1313,
   "id": "alien-establishment",
   "metadata": {},
   "outputs": [],
   "source": [
    "For_synth=For_synth.append(tmp_for)"
   ]
  },
  {
   "cell_type": "code",
   "execution_count": 1314,
   "id": "warming-credits",
   "metadata": {
    "scrolled": false
   },
   "outputs": [
    {
     "name": "stdout",
     "output_type": "stream",
     "text": [
      "Rows : 67, columns : 10\n"
     ]
    },
    {
     "data": {
      "application/vnd.jupyter.widget-view+json": {
       "model_id": "b6bf81bc5b944540ba01106fb538c1b4",
       "version_major": 2,
       "version_minor": 0
      },
      "text/plain": [
       "interactive(children=(IntSlider(value=10, description='rows', max=67, min=10, readout=False), IntSlider(value=…"
      ]
     },
     "metadata": {},
     "output_type": "display_data"
    }
   ],
   "source": [
    "gdf_viewer(For_synth)"
   ]
  },
  {
   "cell_type": "code",
   "execution_count": 1315,
   "id": "opening-great",
   "metadata": {},
   "outputs": [],
   "source": [
    "merge_tmp=copy.deepcopy(For_synth)"
   ]
  },
  {
   "cell_type": "code",
   "execution_count": 1316,
   "id": "characteristic-deviation",
   "metadata": {},
   "outputs": [
    {
     "data": {
      "text/plain": [
       "(None, 67)"
      ]
     },
     "execution_count": 1316,
     "metadata": {},
     "output_type": "execute_result"
    }
   ],
   "source": [
    "For_synth.to_csv('../../CF_data/synthese/Boreholes4_Pz.csv'), len(For_synth)"
   ]
  },
  {
   "cell_type": "raw",
   "id": "solar-celebration",
   "metadata": {},
   "source": [
    "genID_dated(tmp_for, 'Ref_x', '2019')"
   ]
  },
  {
   "cell_type": "raw",
   "id": "bigger-marathon",
   "metadata": {},
   "source": [
    "fig, ax = plt.subplots(figsize=(6,6))\n",
    "merge_tmp.plot(ax=ax, color='r', markersize=1)\n",
    "#tmp_for.plot(ax=ax, markersize=1)\n",
    "label(merge_tmp, 'Ref', ax)"
   ]
  },
  {
   "cell_type": "raw",
   "id": "standing-franklin",
   "metadata": {},
   "source": [
    "v8['X'], v8['Y'] = v8.geometry.x, v8.geometry.y\n",
    "v8, tmp_gdf2  = v8.astype({'Ref':str}), tmp_gdf2.astype({'Ref_puits':str})"
   ]
  },
  {
   "cell_type": "code",
   "execution_count": null,
   "id": "satisfied-conservation",
   "metadata": {},
   "outputs": [],
   "source": []
  }
 ],
 "metadata": {
  "kernelspec": {
   "display_name": "Python 3",
   "language": "python",
   "name": "python3"
  },
  "language_info": {
   "codemirror_mode": {
    "name": "ipython",
    "version": 3
   },
   "file_extension": ".py",
   "mimetype": "text/x-python",
   "name": "python",
   "nbconvert_exporter": "python",
   "pygments_lexer": "ipython3",
   "version": "3.8.5"
  }
 },
 "nbformat": 4,
 "nbformat_minor": 5
}

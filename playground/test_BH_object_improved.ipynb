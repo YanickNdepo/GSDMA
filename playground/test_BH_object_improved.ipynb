{
 "cells": [
  {
   "cell_type": "markdown",
   "metadata": {},
   "source": [
    "## Creation of Borehole object"
   ]
  },
  {
   "cell_type": "code",
   "execution_count": 1,
   "metadata": {},
   "outputs": [],
   "source": [
    "%matplotlib inline\n",
    "import striplog\n",
    "from striplog import Striplog, Legend, Lexicon, Interval, Component, Position\n",
    "import pyvista as pv\n",
    "import geopandas as gpd\n",
    "import pandas as pd\n",
    "import scipy\n",
    "\n",
    "from utils import read_flat_files\n",
    "from utils.db_tools import boreholes_dict_to_sqlite3_db, create_connection\n",
    "import sqlite3\n",
    "from sqlite3 import Error\n",
    "\n",
    "import matplotlib.pyplot as plt\n",
    "import numpy as np"
   ]
  },
  {
   "cell_type": "code",
   "execution_count": null,
   "metadata": {},
   "outputs": [],
   "source": [
    "# "
   ]
  },
  {
   "cell_type": "code",
   "execution_count": 3,
   "metadata": {},
   "outputs": [],
   "source": [
    "class Borehole(): \n",
    "    def __init__ (self, name='', database = 'default.db'): \n",
    "        self.name = name\n",
    "        self.__db = None # __ means this attribute is private (can't access from outside)\n",
    "        self.dfs = None\n",
    "        self.database = database # setter .... when we use the setter or the getter we don't need brackets when we call them !\n",
    "        try:\n",
    "            self.read_db_bh()\n",
    "        except:\n",
    "            msg = f'Error: Unable to open database {self.database:s}, \\nthe object will be created anyway'\n",
    "            print(msg)\n",
    "        print(f'Borehole {name:s} created')\n",
    "        \n",
    "    @property # the function is used as an attribute\n",
    "    def database(self): # the getter to retrieve data stored in the private attribute 'db'\n",
    "        return self.__db\n",
    "    \n",
    "    @database.setter \n",
    "    def database(self, database):\n",
    "        assert(isinstance(database, str)) # constraint the parameter to be an string\n",
    "        self.__db = database\n",
    "    \n",
    "    def read_db_bh(self):\n",
    "        conn = create_connection(self.database)\n",
    "        tables = ['Boreholes', 'Components', 'Intervals', 'Lexicon'] # table names in the database\n",
    "        dfs = {}\n",
    "        with conn:\n",
    "            for i in tables:\n",
    "                print(f\"---{i:s} data--- \")\n",
    "                sql_cmd = f\"SELECT * FROM {i:s}\" # to select the data of the table Boreholes\n",
    "                print(sql_cmd)\n",
    "                dfs.update({i:  pd.read_sql(sql_cmd, conn)})\n",
    "        self.dfs = dfs"
   ]
  },
  {
   "cell_type": "code",
   "execution_count": 4,
   "metadata": {},
   "outputs": [
    {
     "name": "stdout",
     "output_type": "stream",
     "text": [
      "---Boreholes data--- \n",
      "SELECT * FROM Boreholes\n",
      "---Components data--- \n",
      "SELECT * FROM Components\n",
      "---Intervals data--- \n",
      "SELECT * FROM Intervals\n",
      "---Lexicon data--- \n",
      "SELECT * FROM Lexicon\n",
      "Borehole F10 created\n"
     ]
    }
   ],
   "source": [
    "bh = Borehole(name='F10', database = '../project_database.db')"
   ]
  },
  {
   "cell_type": "code",
   "execution_count": 11,
   "metadata": {},
   "outputs": [
    {
     "data": {
      "text/plain": [
       "'../project_database.db'"
      ]
     },
     "execution_count": 11,
     "metadata": {},
     "output_type": "execute_result"
    }
   ],
   "source": [
    "bh.database"
   ]
  },
  {
   "cell_type": "code",
   "execution_count": 16,
   "metadata": {},
   "outputs": [
    {
     "ename": "AttributeError",
     "evalue": "'Borehole' object has no attribute '__db'",
     "output_type": "error",
     "traceback": [
      "\u001b[0;31m---------------------------------------------------------------------------\u001b[0m",
      "\u001b[0;31mAttributeError\u001b[0m                            Traceback (most recent call last)",
      "\u001b[0;32m<ipython-input-16-c336f711ad9d>\u001b[0m in \u001b[0;36m<module>\u001b[0;34m\u001b[0m\n\u001b[0;32m----> 1\u001b[0;31m \u001b[0mbh1\u001b[0m\u001b[0;34m.\u001b[0m\u001b[0m__db\u001b[0m\u001b[0;34m\u001b[0m\u001b[0;34m\u001b[0m\u001b[0m\n\u001b[0m",
      "\u001b[0;31mAttributeError\u001b[0m: 'Borehole' object has no attribute '__db'"
     ]
    }
   ],
   "source": [
    "bh1.__db"
   ]
  },
  {
   "cell_type": "code",
   "execution_count": 19,
   "metadata": {},
   "outputs": [
    {
     "name": "stdout",
     "output_type": "stream",
     "text": [
      "---Boreholes data--- \n",
      "SELECT * FROM Boreholes\n",
      "Error: Unable to open database default.db\n",
      "Borehole F10 created\n"
     ]
    },
    {
     "data": {
      "text/plain": [
       "'../project_database.db'"
      ]
     },
     "execution_count": 19,
     "metadata": {},
     "output_type": "execute_result"
    }
   ],
   "source": [
    "bh1=Borehole(name='F10')\n",
    "bh1.database= '../project_database.db'\n",
    "#bh1.__db\n",
    "bh1.database"
   ]
  },
  {
   "cell_type": "code",
   "execution_count": 20,
   "metadata": {},
   "outputs": [
    {
     "name": "stdout",
     "output_type": "stream",
     "text": [
      "---Boreholes data--- \n",
      "SELECT * FROM Boreholes\n",
      "---Components data--- \n",
      "SELECT * FROM Components\n",
      "---Intervals data--- \n",
      "SELECT * FROM Intervals\n",
      "---Lexicon data--- \n",
      "SELECT * FROM Lexicon\n"
     ]
    }
   ],
   "source": [
    "bh1.read_db_bh()"
   ]
  },
  {
   "cell_type": "code",
   "execution_count": null,
   "metadata": {},
   "outputs": [],
   "source": []
  }
 ],
 "metadata": {
  "kernelspec": {
   "display_name": "Python 3",
   "language": "python",
   "name": "python3"
  },
  "language_info": {
   "codemirror_mode": {
    "name": "ipython",
    "version": 3
   },
   "file_extension": ".py",
   "mimetype": "text/x-python",
   "name": "python",
   "nbconvert_exporter": "python",
   "pygments_lexer": "ipython3",
   "version": "3.6.9"
  }
 },
 "nbformat": 4,
 "nbformat_minor": 4
}

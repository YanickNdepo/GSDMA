{
 "cells": [
  {
   "cell_type": "markdown",
   "metadata": {},
   "source": [
    "## Creation of Borehole object"
   ]
  },
  {
   "cell_type": "code",
   "execution_count": 1,
   "metadata": {},
   "outputs": [],
   "source": [
    "%matplotlib inline\n",
    "import striplog\n",
    "from striplog import Striplog, Legend, Lexicon, Interval, Component, Position\n",
    "import pyvista as pv\n",
    "import geopandas as gpd\n",
    "import pandas as pd\n",
    "import scipy\n",
    "\n",
    "from utils import read_flat_files\n",
    "from utils.db_tools import boreholes_dict_to_sqlite3_db, create_connection\n",
    "import sqlite3\n",
    "from sqlite3 import Error\n",
    "\n",
    "import matplotlib.pyplot as plt\n",
    "import numpy as np"
   ]
  },
  {
   "cell_type": "code",
   "execution_count": 19,
   "metadata": {},
   "outputs": [],
   "source": [
    "class Borehole(): \n",
    "    def __init__ (self, name='', database = 'default.db'): \n",
    "        self.name = name\n",
    "        self.__db = None\n",
    "        self.dfs = None\n",
    "        self.database = database\n",
    "        try:\n",
    "            self.read_db_bh()\n",
    "        except:\n",
    "            msg = f'Error: Unable to open database {self.database:s}'\n",
    "            print(msg)\n",
    "        print(f'Borehole {name:s} created')\n",
    "        \n",
    "    @property\n",
    "    def database(self):\n",
    "        return self.__db\n",
    "    \n",
    "    @database.setter\n",
    "    def database(self, database):\n",
    "        assert(isinstance(database, str))\n",
    "        self.__db = database\n",
    "    \n",
    "    def read_db_bh(self):\n",
    "        conn = create_connection(self.database)\n",
    "        tables = ['Boreholes', 'Components', 'Intervals', 'Lexicon'] # table names in the database\n",
    "        dfs = {}\n",
    "        with conn:\n",
    "            for i in tables:\n",
    "                print(f\"---{i:s} data--- \")\n",
    "                sql_cmd = f\"SELECT * FROM {i:s}\" # to select the data of the table Boreholes\n",
    "                print(sql_cmd)\n",
    "                dfs.update({i:  pd.read_sql(sql_cmd, conn)})\n",
    "        self.dfs = dfs"
   ]
  },
  {
   "cell_type": "code",
   "execution_count": 20,
   "metadata": {},
   "outputs": [
    {
     "name": "stdout",
     "output_type": "stream",
     "text": [
      "---Boreholes data--- \n",
      "SELECT * FROM Boreholes\n",
      "---Components data--- \n",
      "SELECT * FROM Components\n",
      "---Intervals data--- \n",
      "SELECT * FROM Intervals\n",
      "---Lexicon data--- \n",
      "SELECT * FROM Lexicon\n",
      "Borehole F10 created\n"
     ]
    }
   ],
   "source": [
    "bh = Borehole(name='F10', database = '../project_database.db')"
   ]
  },
  {
   "cell_type": "code",
   "execution_count": 24,
   "metadata": {},
   "outputs": [
    {
     "data": {
      "text/plain": [
       "{'Boreholes':      id\n",
       " 0   F10\n",
       " 1   F11\n",
       " 2   F12\n",
       " 3   F13\n",
       " 4   F14\n",
       " 5   F15\n",
       " 6   F16\n",
       " 7   F20\n",
       " 8   F21\n",
       " 9   F22\n",
       " 10  F23\n",
       " 11  F24\n",
       " 12  F25\n",
       " 13  F10\n",
       " 14  F11\n",
       " 15  F12\n",
       " 16  F13\n",
       " 17  F14\n",
       " 18  F15\n",
       " 19  F16\n",
       " 20  F20\n",
       " 21  F21\n",
       " 22  F22\n",
       " 23  F23\n",
       " 24  F24\n",
       " 25  F25,\n",
       " 'Components':     borehole  top  base        key     value\n",
       " 0        F10  0.0   1.5  lithology  remblais\n",
       " 1        F10  0.0   1.5     colour    ocre\\n\n",
       " 2        F10  1.5   4.0  lithology  remblais\n",
       " 3        F10  1.5   4.0     colour      ocre\n",
       " 4        F10  4.0   6.0  lithology      silt\n",
       " ..       ...  ...   ...        ...       ...\n",
       " 151      F25  0.0   1.5     colour      brun\n",
       " 152      F25  1.5   4.0  lithology  remblais\n",
       " 153      F25  1.5   4.0     colour      ocre\n",
       " 154      F25  4.0   6.0  lithology      silt\n",
       " 155      F25  4.0   6.0     colour      gris\n",
       " \n",
       " [156 rows x 5 columns],\n",
       " 'Intervals':    borehole  top  base           description\n",
       " 0       F10  0.0   1.5  remblais non-saturés\n",
       " 1       F10  1.5   4.0      remblais saturés\n",
       " 2       F10  4.0   6.0             alluvions\n",
       " 3       F11  0.0   1.5  remblais non-saturés\n",
       " 4       F11  1.5   4.0      remblais saturés\n",
       " ..      ...  ...   ...                   ...\n",
       " 73      F24  1.5   4.0      remblais saturés\n",
       " 74      F24  4.0   6.0             alluvions\n",
       " 75      F25  0.0   1.5  remblais non-saturés\n",
       " 76      F25  1.5   4.0      remblais saturés\n",
       " 77      F25  4.0   6.0             alluvions\n",
       " \n",
       " [78 rows x 4 columns],\n",
       " 'Lexicon':          key     value\n",
       " 0     colour      brun\n",
       " 1     colour      ocre\n",
       " 2     colour      gris\n",
       " 3  lithology      silt\n",
       " 4  lithology  remblais\n",
       " 5     colour      brun\n",
       " 6     colour      gris\n",
       " 7     colour      ocre\n",
       " 8  lithology  remblais\n",
       " 9  lithology      silt}"
      ]
     },
     "execution_count": 24,
     "metadata": {},
     "output_type": "execute_result"
    }
   ],
   "source": [
    "bh.dfs"
   ]
  }
 ],
 "metadata": {
  "kernelspec": {
   "display_name": "Python 3",
   "language": "python",
   "name": "python3"
  },
  "language_info": {
   "codemirror_mode": {
    "name": "ipython",
    "version": 3
   },
   "file_extension": ".py",
   "mimetype": "text/x-python",
   "name": "python",
   "nbconvert_exporter": "python",
   "pygments_lexer": "ipython3",
   "version": "3.6.9"
  }
 },
 "nbformat": 4,
 "nbformat_minor": 4
}

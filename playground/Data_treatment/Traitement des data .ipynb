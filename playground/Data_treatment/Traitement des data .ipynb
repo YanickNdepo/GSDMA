{
 "cells": [
  {
   "cell_type": "code",
   "execution_count": 21,
   "metadata": {},
   "outputs": [],
   "source": [
    "import pandas as pd\n",
    "import numpy as np"
   ]
  },
  {
   "cell_type": "code",
   "execution_count": 22,
   "metadata": {},
   "outputs": [],
   "source": [
    "def read_electrode_string_geometry(filename, file_path='../electrode_strings/'):\n",
    "    \"\"\"\n",
    "    Reads an electrode string file\n",
    "\n",
    "    :param filename: electrode string's filename\n",
    "    :param file_path: path to electrode string file\n",
    "    :return:\n",
    "    \"\"\"\n",
    "    electrode_string = {}\n",
    "    eof = False\n",
    "    with open(file_path + filename, 'rb') as csv_file:\n",
    "        line = csv_file.readline()\n",
    "        while not eof:\n",
    "            if not (line == b'# electrode string name\\n'):\n",
    "                print('invalid file format: ' + line.decode('utf-8'))\n",
    "                return\n",
    "            es_name = csv_file.readline().decode('utf-8')[:-1]\n",
    "            line = csv_file.readline()\n",
    "            if not (line == b'# electrode string origin coordinates\\n'):\n",
    "                print('invalid file format: ' + line.decode('utf-8'))\n",
    "                return\n",
    "            line = csv_file.readline()\n",
    "            origin_coords = [float(i) for i in line.decode('utf-8').split()]\n",
    "            line = csv_file.readline()\n",
    "            if not (line == b'# electrodes relative coordinates\\n'):\n",
    "                print('invalid file format: ' + line.decode('utf-8'))\n",
    "                return\n",
    "            end_of_electrode_string = False\n",
    "            electrodes_coordinates = []\n",
    "            while not end_of_electrode_string:\n",
    "                line = csv_file.readline()\n",
    "                if line == b'' or line == b'\\n':\n",
    "                    end_of_electrode_string = True\n",
    "                    eof = True\n",
    "                elif line == b'# electrode string name\\n':\n",
    "                    end_of_electrode_string = True\n",
    "                    print('Warning : only one electrode string per file ! Reading only the first one...')\n",
    "                    eof = True\n",
    "                else:\n",
    "                    electrodes_coordinates.append([float(i) for i in line.decode('utf-8').split()])\n",
    "            electrode_string[es_name] = [origin_coords, {int(i[0]): (i[1], i[2], i[3]) for i in electrodes_coordinates}]\n",
    "    return es_name, electrode_string\n"
   ]
  },
  {
   "cell_type": "code",
   "execution_count": 23,
   "metadata": {},
   "outputs": [],
   "source": [
    "def read_boreholes_description(filename):\n",
    "    boreholes = {}\n",
    "    eof = False\n",
    "    with open(filename, 'rb') as csv_file:\n",
    "        line = csv_file.readline()\n",
    "        while not eof:\n",
    "            if (line == b'# borehole name\\n') or (line == b'# borehole name\\t\\t\\t\\t\\n') \\\n",
    "                    or (line == b'\\xEF\\xBB\\xBF# borehole name\\n') \\\n",
    "                    or (line == b'\\xEF\\xBB\\xBF# borehole name\\t\\t\\t\\t\\n'):\n",
    "                tl = -1 # linux line terminator format \\n\n",
    "            else:\n",
    "                if (line == b'# borehole name\\r\\n') or (line == b'# borehole name\\t\\t\\t\\t\\r\\n') \\\n",
    "                        or (line == b'\\xEF\\xBB\\xBF# borehole name\\r\\n') \\\n",
    "                        or (line == b'\\xEF\\xBB\\xBF# borehole name\\t\\t\\t\\t\\r\\n'):\n",
    "                    tl = -2  # windows line terminator format \\r\\n\n",
    "                    print(filename + ': Warning windows format: please copy/paste file content in gedit!')\n",
    "                else:\n",
    "                    print('invalid file format: ' + line.decode('utf-8') + ' | ' + line.decode('hex'))\n",
    "                    return\n",
    "            bh_name = csv_file.readline().decode('utf-8')[:tl].split('\\t')[0]\n",
    "            boreholes[bh_name] = {}\n",
    "            line = csv_file.readline()\n",
    "            if not ((line == b'# borehole description\\n') or (line == b'# borehole description\\t\\t\\t\\t\\n') or\n",
    "                        (line == b'# borehole description\\r\\n') or (line == b'# borehole description\\t\\t\\t\\t\\r\\n')):\n",
    "                print('invalid file format: ' + line.decode('utf-8'))\n",
    "                return\n",
    "            else:\n",
    "                line = csv_file.readline()\n",
    "            end_of_borehole = False\n",
    "            former_line_descr = [None, None, None, None, None]\n",
    "            while not end_of_borehole:\n",
    "                line = csv_file.readline()\n",
    "                if line == b'' or line == b'\\n':\n",
    "                    end_of_borehole = True\n",
    "                    eof = True\n",
    "                elif (line == b'# markers\\n') or (line == b'# markers\\t\\t\\t\\t\\n') \\\n",
    "                        or (line == b'# markers\\r\\n') or (line == b'# markers\\t\\t\\t\\t\\r\\n'):\n",
    "                    end_of_borehole = True\n",
    "                else:\n",
    "                    line_descr = [i for i in line.decode('utf-8')[:tl].split('\\t')]\n",
    "                    if line_descr[2] == former_line_descr[2]:\n",
    "                        del(boreholes[bh_name][(float(former_line_descr[0]), float(former_line_descr[1]))])\n",
    "                        boreholes[bh_name][(float(former_line_descr[0]), float(line_descr[1]))] = {\n",
    "                            'description': line_descr[2],\n",
    "                            'lithology': line_descr[3],\n",
    "                            'color': line_descr[4]}\n",
    "                        former_line_descr = [former_line_descr[0], line_descr[1], line_descr[2], line_descr[3], line_descr[4]]\n",
    "                    else:\n",
    "                        boreholes[bh_name][(float(line_descr[0]), float(line_descr[1]))] = {\n",
    "                            'description': line_descr[2],\n",
    "                            'lithology': line_descr[3],\n",
    "                            'color': line_descr[4]}\n",
    "                        former_line_descr = line_descr\n",
    "            if (line == b'# markers\\n') or (line == b'# markers\\t\\t\\t\\t\\n') \\\n",
    "                    or (line == b'# markers\\r\\n') or (line == b'# markers\\t\\t\\t\\t\\r\\n'):\n",
    "                line = csv_file.readline()\n",
    "                boreholes[bh_name]['markers'] = {}\n",
    "                while line != b'' and line != b'\\n' and line != b'\\r\\n':\n",
    "                    line_descr = [i for i in line.decode('utf-8')[:tl].split('\\t')]\n",
    "                    boreholes[bh_name]['markers'][line_descr[0]] = float(line_descr[1])\n",
    "                    line = csv_file.readline()\n",
    "                eof = True\n",
    "        return boreholes\n"
   ]
  },
  {
   "cell_type": "code",
   "execution_count": 24,
   "metadata": {},
   "outputs": [],
   "source": [
    "filename = \"F10-Copy1.txt\""
   ]
  },
  {
   "cell_type": "code",
   "execution_count": 25,
   "metadata": {},
   "outputs": [
    {
     "ename": "FileNotFoundError",
     "evalue": "[Errno 2] No such file or directory: '/playground/Data_treatment/F10-Copy1.txt'",
     "output_type": "error",
     "traceback": [
      "\u001b[0;31m---------------------------------------------------------------------------\u001b[0m",
      "\u001b[0;31mFileNotFoundError\u001b[0m                         Traceback (most recent call last)",
      "\u001b[0;32m<ipython-input-25-db8e666d4201>\u001b[0m in \u001b[0;36m<module>\u001b[0;34m\u001b[0m\n\u001b[0;32m----> 1\u001b[0;31m \u001b[0mread_electrode_string_geometry\u001b[0m\u001b[0;34m(\u001b[0m\u001b[0mfilename\u001b[0m\u001b[0;34m,\u001b[0m \u001b[0mfile_path\u001b[0m\u001b[0;34m=\u001b[0m\u001b[0;34m'/playground/Data_treatment/'\u001b[0m\u001b[0;34m)\u001b[0m\u001b[0;34m\u001b[0m\u001b[0;34m\u001b[0m\u001b[0m\n\u001b[0m",
      "\u001b[0;32m<ipython-input-22-fdc8795181b8>\u001b[0m in \u001b[0;36mread_electrode_string_geometry\u001b[0;34m(filename, file_path)\u001b[0m\n\u001b[1;32m      9\u001b[0m     \u001b[0melectrode_string\u001b[0m \u001b[0;34m=\u001b[0m \u001b[0;34m{\u001b[0m\u001b[0;34m}\u001b[0m\u001b[0;34m\u001b[0m\u001b[0;34m\u001b[0m\u001b[0m\n\u001b[1;32m     10\u001b[0m     \u001b[0meof\u001b[0m \u001b[0;34m=\u001b[0m \u001b[0;32mFalse\u001b[0m\u001b[0;34m\u001b[0m\u001b[0;34m\u001b[0m\u001b[0m\n\u001b[0;32m---> 11\u001b[0;31m     \u001b[0;32mwith\u001b[0m \u001b[0mopen\u001b[0m\u001b[0;34m(\u001b[0m\u001b[0mfile_path\u001b[0m \u001b[0;34m+\u001b[0m \u001b[0mfilename\u001b[0m\u001b[0;34m,\u001b[0m \u001b[0;34m'rb'\u001b[0m\u001b[0;34m)\u001b[0m \u001b[0;32mas\u001b[0m \u001b[0mcsv_file\u001b[0m\u001b[0;34m:\u001b[0m\u001b[0;34m\u001b[0m\u001b[0;34m\u001b[0m\u001b[0m\n\u001b[0m\u001b[1;32m     12\u001b[0m         \u001b[0mline\u001b[0m \u001b[0;34m=\u001b[0m \u001b[0mcsv_file\u001b[0m\u001b[0;34m.\u001b[0m\u001b[0mreadline\u001b[0m\u001b[0;34m(\u001b[0m\u001b[0;34m)\u001b[0m\u001b[0;34m\u001b[0m\u001b[0;34m\u001b[0m\u001b[0m\n\u001b[1;32m     13\u001b[0m         \u001b[0;32mwhile\u001b[0m \u001b[0;32mnot\u001b[0m \u001b[0meof\u001b[0m\u001b[0;34m:\u001b[0m\u001b[0;34m\u001b[0m\u001b[0;34m\u001b[0m\u001b[0m\n",
      "\u001b[0;31mFileNotFoundError\u001b[0m: [Errno 2] No such file or directory: '/playground/Data_treatment/F10-Copy1.txt'"
     ]
    }
   ],
   "source": [
    "read_electrode_string_geometry(filename, file_path='/playground/Data_treatment/')"
   ]
  },
  {
   "cell_type": "code",
   "execution_count": 27,
   "metadata": {},
   "outputs": [
    {
     "ename": "NameError",
     "evalue": "name 'F10' is not defined",
     "output_type": "error",
     "traceback": [
      "\u001b[0;31m---------------------------------------------------------------------------\u001b[0m",
      "\u001b[0;31mNameError\u001b[0m                                 Traceback (most recent call last)",
      "\u001b[0;32m<ipython-input-27-a1ebc23f1e9c>\u001b[0m in \u001b[0;36m<module>\u001b[0;34m\u001b[0m\n\u001b[0;32m----> 1\u001b[0;31m \u001b[0mread_boreholes_description\u001b[0m\u001b[0;34m(\u001b[0m\u001b[0mF10\u001b[0m\u001b[0;34m-\u001b[0m\u001b[0mCopy1\u001b[0m\u001b[0;34m.\u001b[0m\u001b[0mtxt\u001b[0m\u001b[0;34m)\u001b[0m\u001b[0;34m\u001b[0m\u001b[0;34m\u001b[0m\u001b[0m\n\u001b[0m",
      "\u001b[0;31mNameError\u001b[0m: name 'F10' is not defined"
     ]
    }
   ],
   "source": [
    "read_boreholes_description(F10-Copy1.txt)"
   ]
  },
  {
   "cell_type": "code",
   "execution_count": null,
   "metadata": {},
   "outputs": [],
   "source": []
  },
  {
   "cell_type": "code",
   "execution_count": null,
   "metadata": {},
   "outputs": [],
   "source": []
  }
 ],
 "metadata": {
  "kernelspec": {
   "display_name": "Python 3",
   "language": "python",
   "name": "python3"
  },
  "language_info": {
   "codemirror_mode": {
    "name": "ipython",
    "version": 3
   },
   "file_extension": ".py",
   "mimetype": "text/x-python",
   "name": "python",
   "nbconvert_exporter": "python",
   "pygments_lexer": "ipython3",
   "version": "3.6.8"
  }
 },
 "nbformat": 4,
 "nbformat_minor": 2
}

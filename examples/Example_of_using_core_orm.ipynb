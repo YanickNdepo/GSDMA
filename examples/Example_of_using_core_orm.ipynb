{
 "cells": [
  {
   "cell_type": "markdown",
   "metadata": {},
   "source": [
    "# Example of using the orm classes"
   ]
  },
  {
   "cell_type": "markdown",
   "metadata": {},
   "source": [
    "Imports"
   ]
  },
  {
   "cell_type": "code",
   "execution_count": 1,
   "metadata": {},
   "outputs": [],
   "source": [
    "from core.core import Project\n",
    "from core.orm import BoreholeOrm, PositionOrm, Base\n",
    "from striplog import Lexicon, Striplog\n",
    "from sqlalchemy import create_engine\n",
    "from sqlalchemy.orm import sessionmaker"
   ]
  },
  {
   "cell_type": "code",
   "execution_count": 2,
   "metadata": {},
   "outputs": [],
   "source": [
    "! rm ./tmp/test_orm_db.db"
   ]
  },
  {
   "cell_type": "markdown",
   "metadata": {},
   "source": [
    "Create the db engine and the database structure"
   ]
  },
  {
   "cell_type": "code",
   "execution_count": 3,
   "metadata": {},
   "outputs": [],
   "source": [
    "engine = create_engine('sqlite:///tmp/test_orm_db.db', echo=True)"
   ]
  },
  {
   "cell_type": "code",
   "execution_count": 4,
   "metadata": {},
   "outputs": [
    {
     "name": "stdout",
     "output_type": "stream",
     "text": [
      "2020-12-18 16:29:46,357 INFO sqlalchemy.engine.base.Engine SELECT CAST('test plain returns' AS VARCHAR(60)) AS anon_1\n",
      "2020-12-18 16:29:46,364 INFO sqlalchemy.engine.base.Engine ()\n",
      "2020-12-18 16:29:46,375 INFO sqlalchemy.engine.base.Engine SELECT CAST('test unicode returns' AS VARCHAR(60)) AS anon_1\n",
      "2020-12-18 16:29:46,377 INFO sqlalchemy.engine.base.Engine ()\n",
      "2020-12-18 16:29:46,381 INFO sqlalchemy.engine.base.Engine PRAGMA main.table_info(\"Boreholes\")\n",
      "2020-12-18 16:29:46,384 INFO sqlalchemy.engine.base.Engine ()\n",
      "2020-12-18 16:29:46,386 INFO sqlalchemy.engine.base.Engine PRAGMA temp.table_info(\"Boreholes\")\n",
      "2020-12-18 16:29:46,387 INFO sqlalchemy.engine.base.Engine ()\n",
      "2020-12-18 16:29:46,388 INFO sqlalchemy.engine.base.Engine PRAGMA main.table_info(\"Positions\")\n",
      "2020-12-18 16:29:46,393 INFO sqlalchemy.engine.base.Engine ()\n",
      "2020-12-18 16:29:46,396 INFO sqlalchemy.engine.base.Engine PRAGMA temp.table_info(\"Positions\")\n",
      "2020-12-18 16:29:46,401 INFO sqlalchemy.engine.base.Engine ()\n",
      "2020-12-18 16:29:46,403 INFO sqlalchemy.engine.base.Engine PRAGMA main.table_info(\"Intervals\")\n",
      "2020-12-18 16:29:46,404 INFO sqlalchemy.engine.base.Engine ()\n",
      "2020-12-18 16:29:46,406 INFO sqlalchemy.engine.base.Engine PRAGMA temp.table_info(\"Intervals\")\n",
      "2020-12-18 16:29:46,412 INFO sqlalchemy.engine.base.Engine ()\n",
      "2020-12-18 16:29:46,414 INFO sqlalchemy.engine.base.Engine PRAGMA main.table_info(\"Components\")\n",
      "2020-12-18 16:29:46,415 INFO sqlalchemy.engine.base.Engine ()\n",
      "2020-12-18 16:29:46,418 INFO sqlalchemy.engine.base.Engine PRAGMA temp.table_info(\"Components\")\n",
      "2020-12-18 16:29:46,423 INFO sqlalchemy.engine.base.Engine ()\n",
      "2020-12-18 16:29:46,428 INFO sqlalchemy.engine.base.Engine PRAGMA main.table_info(\"Linkintervalcomponent\")\n",
      "2020-12-18 16:29:46,429 INFO sqlalchemy.engine.base.Engine ()\n",
      "2020-12-18 16:29:46,438 INFO sqlalchemy.engine.base.Engine PRAGMA temp.table_info(\"Linkintervalcomponent\")\n",
      "2020-12-18 16:29:46,442 INFO sqlalchemy.engine.base.Engine ()\n",
      "2020-12-18 16:29:46,449 INFO sqlalchemy.engine.base.Engine \n",
      "CREATE TABLE \"Boreholes\" (\n",
      "\tid VARCHAR(32) NOT NULL, \n",
      "\tPRIMARY KEY (id)\n",
      ")\n",
      "\n",
      "\n",
      "2020-12-18 16:29:46,453 INFO sqlalchemy.engine.base.Engine ()\n",
      "2020-12-18 16:29:46,459 INFO sqlalchemy.engine.base.Engine COMMIT\n",
      "2020-12-18 16:29:46,462 INFO sqlalchemy.engine.base.Engine \n",
      "CREATE TABLE \"Positions\" (\n",
      "\tid INTEGER NOT NULL, \n",
      "\tupper FLOAT, \n",
      "\tmiddle FLOAT, \n",
      "\tlower FLOAT, \n",
      "\tx FLOAT, \n",
      "\ty FLOAT, \n",
      "\tPRIMARY KEY (id)\n",
      ")\n",
      "\n",
      "\n",
      "2020-12-18 16:29:46,463 INFO sqlalchemy.engine.base.Engine ()\n",
      "2020-12-18 16:29:46,470 INFO sqlalchemy.engine.base.Engine COMMIT\n",
      "2020-12-18 16:29:46,473 INFO sqlalchemy.engine.base.Engine \n",
      "CREATE TABLE \"Components\" (\n",
      "\tid VARCHAR(32) NOT NULL, \n",
      "\tdescription VARCHAR(32), \n",
      "\tPRIMARY KEY (id)\n",
      ")\n",
      "\n",
      "\n",
      "2020-12-18 16:29:46,478 INFO sqlalchemy.engine.base.Engine ()\n",
      "2020-12-18 16:29:46,494 INFO sqlalchemy.engine.base.Engine COMMIT\n",
      "2020-12-18 16:29:46,497 INFO sqlalchemy.engine.base.Engine \n",
      "CREATE TABLE \"Intervals\" (\n",
      "\tid INTEGER NOT NULL, \n",
      "\tborehole VARCHAR(32), \n",
      "\tinterval_number INTEGER, \n",
      "\tdescription VARCHAR(32), \n",
      "\ttop_id INTEGER, \n",
      "\tbase_id INTEGER, \n",
      "\tPRIMARY KEY (id), \n",
      "\tFOREIGN KEY(borehole) REFERENCES \"Boreholes\" (id), \n",
      "\tFOREIGN KEY(top_id) REFERENCES \"Positions\" (id), \n",
      "\tFOREIGN KEY(base_id) REFERENCES \"Positions\" (id)\n",
      ")\n",
      "\n",
      "\n",
      "2020-12-18 16:29:46,505 INFO sqlalchemy.engine.base.Engine ()\n",
      "2020-12-18 16:29:46,521 INFO sqlalchemy.engine.base.Engine COMMIT\n",
      "2020-12-18 16:29:46,533 INFO sqlalchemy.engine.base.Engine \n",
      "CREATE TABLE \"Linkintervalcomponent\" (\n",
      "\tint_id INTEGER NOT NULL, \n",
      "\tcomp_id INTEGER NOT NULL, \n",
      "\tPRIMARY KEY (int_id, comp_id), \n",
      "\tFOREIGN KEY(int_id) REFERENCES \"Intervals\" (id), \n",
      "\tFOREIGN KEY(comp_id) REFERENCES \"Components\" (id)\n",
      ")\n",
      "\n",
      "\n",
      "2020-12-18 16:29:46,545 INFO sqlalchemy.engine.base.Engine ()\n",
      "2020-12-18 16:29:46,554 INFO sqlalchemy.engine.base.Engine COMMIT\n"
     ]
    }
   ],
   "source": [
    "Base.metadata.create_all(engine)"
   ]
  },
  {
   "cell_type": "markdown",
   "metadata": {},
   "source": [
    "Create the objects from las files"
   ]
  },
  {
   "cell_type": "code",
   "execution_count": 5,
   "metadata": {},
   "outputs": [],
   "source": [
    "lexicon = Lexicon.default()"
   ]
  },
  {
   "cell_type": "code",
   "execution_count": 6,
   "metadata": {},
   "outputs": [],
   "source": [
    "borehole_dict = {'F01':'../data/test.las', 'F02':'../data/test.las'} # boreholes to insert into the db"
   ]
  },
  {
   "cell_type": "code",
   "execution_count": 7,
   "metadata": {},
   "outputs": [
    {
     "name": "stdout",
     "output_type": "stream",
     "text": [
      "{0: {'description': 'Anhydrite', 'interval_number': 0, 'top': <core.orm.PositionOrm object at 0x7fc0b3f5e160>, 'base': <core.orm.PositionOrm object at 0x7fc0b3f5e278>}, 1: {'description': 'Sandstone, grey, vf-f', 'interval_number': 1, 'top': <core.orm.PositionOrm object at 0x7fc0b3f5e198>, 'base': <core.orm.PositionOrm object at 0x7fc0b3f5e320>}, 2: {'description': 'Anhydrite', 'interval_number': 2, 'top': <core.orm.PositionOrm object at 0x7fc0b3f5e358>, 'base': <core.orm.PositionOrm object at 0x7fc0b3f5e518>}, 3: {'description': 'Dolomite', 'interval_number': 3, 'top': <core.orm.PositionOrm object at 0x7fc0b3f5e438>, 'base': <core.orm.PositionOrm object at 0x7fc0b3f5e400>}, 4: {'description': 'Anhydrite', 'interval_number': 4, 'top': <core.orm.PositionOrm object at 0x7fc0b3f5e550>, 'base': <core.orm.PositionOrm object at 0x7fc0b3f5e2e8>}, 5: {'description': 'Sandstone, grey, vf-f', 'interval_number': 5, 'top': <core.orm.PositionOrm object at 0x7fc0b3f5e4a8>, 'base': <core.orm.PositionOrm object at 0x7fc0b3f5e748>}, 6: {'description': 'Siltstone, red', 'interval_number': 6, 'top': <core.orm.PositionOrm object at 0x7fc0b3f5e780>, 'base': <core.orm.PositionOrm object at 0x7fc0b3f5e5f8>}, 7: {'description': 'Dolomite', 'interval_number': 7, 'top': <core.orm.PositionOrm object at 0x7fc0b3f5e710>, 'base': <core.orm.PositionOrm object at 0x7fc0b3f5ea58>}, 8: {'description': 'Siltstone, grey', 'interval_number': 8, 'top': <core.orm.PositionOrm object at 0x7fc0b3f5e978>, 'base': <core.orm.PositionOrm object at 0x7fc0b3f5e940>}, 9: {'description': 'Dolomite', 'interval_number': 9, 'top': <core.orm.PositionOrm object at 0x7fc0b3f5ea90>, 'base': <core.orm.PositionOrm object at 0x7fc0b3f5ec88>}, 10: {'description': 'Sandstone, grey, vf-f', 'interval_number': 10, 'top': <core.orm.PositionOrm object at 0x7fc0b3f5eba8>, 'base': <core.orm.PositionOrm object at 0x7fc0b3f5eb70>}, 11: {'description': 'Dolomite', 'interval_number': 11, 'top': <core.orm.PositionOrm object at 0x7fc0b3f5ecc0>, 'base': <core.orm.PositionOrm object at 0x7fc0b3f5e9e8>}, 12: {'description': 'Sandstone, grey, vf-f', 'interval_number': 12, 'top': <core.orm.PositionOrm object at 0x7fc0b3f5ec18>, 'base': <core.orm.PositionOrm object at 0x7fc0b3f5eeb8>}, 13: {'description': 'Siltstone, grey', 'interval_number': 13, 'top': <core.orm.PositionOrm object at 0x7fc0b3f5eef0>, 'base': <core.orm.PositionOrm object at 0x7fc0b3f5ef98>}, 14: {'description': 'Dolomite', 'interval_number': 14, 'top': <core.orm.PositionOrm object at 0x7fc0b3f5ed68>, 'base': <core.orm.PositionOrm object at 0x7fc0b3f5eb38>}, 15: {'description': 'Siltstone, grey', 'interval_number': 15, 'top': <core.orm.PositionOrm object at 0x7fc0b3f4df60>, 'base': <core.orm.PositionOrm object at 0x7fc0b3f4ddd8>}, 16: {'description': 'Dolomite', 'interval_number': 16, 'top': <core.orm.PositionOrm object at 0x7fc0b3f4dbe0>, 'base': <core.orm.PositionOrm object at 0x7fc0b3f4df98>}, 17: {'description': 'Siltstone, grey', 'interval_number': 17, 'top': <core.orm.PositionOrm object at 0x7fc0b3f4dd68>, 'base': <core.orm.PositionOrm object at 0x7fc0b3f4dcf8>}, 18: {'description': 'Dolomite', 'interval_number': 18, 'top': <core.orm.PositionOrm object at 0x7fc0b3f4dd30>, 'base': <core.orm.PositionOrm object at 0x7fc0b3f4dcc0>}, 19: {'description': 'Siltstone, grey', 'interval_number': 19, 'top': <core.orm.PositionOrm object at 0x7fc0b3f607b8>, 'base': <core.orm.PositionOrm object at 0x7fc0b3f607f0>}, 20: {'description': 'Dolomite', 'interval_number': 20, 'top': <core.orm.PositionOrm object at 0x7fc0b3f60128>, 'base': <core.orm.PositionOrm object at 0x7fc0b3f60080>}, 21: {'description': 'Siltstone, grey', 'interval_number': 21, 'top': <core.orm.PositionOrm object at 0x7fc0b3f60160>, 'base': <core.orm.PositionOrm object at 0x7fc0b3f602e8>}, 22: {'description': 'Dolomite', 'interval_number': 22, 'top': <core.orm.PositionOrm object at 0x7fc0b3f60320>, 'base': <core.orm.PositionOrm object at 0x7fc0b3f60198>}, 23: {'description': 'Limestone', 'interval_number': 23, 'top': <core.orm.PositionOrm object at 0x7fc0b3f602b0>, 'base': <core.orm.PositionOrm object at 0x7fc0b3f604e0>}, 24: {'description': 'Volcanic', 'interval_number': 24, 'top': <core.orm.PositionOrm object at 0x7fc0b3f60518>, 'base': <core.orm.PositionOrm object at 0x7fc0b3f60390>}}\n",
      "{25: {'description': 'Anhydrite', 'interval_number': 0, 'top': <core.orm.PositionOrm object at 0x7fc0b3f66470>, 'base': <core.orm.PositionOrm object at 0x7fc0b3f66278>}, 26: {'description': 'Sandstone, grey, vf-f', 'interval_number': 1, 'top': <core.orm.PositionOrm object at 0x7fc0b3f66160>, 'base': <core.orm.PositionOrm object at 0x7fc0b3f665f8>}, 27: {'description': 'Anhydrite', 'interval_number': 2, 'top': <core.orm.PositionOrm object at 0x7fc0b3f664e0>, 'base': <core.orm.PositionOrm object at 0x7fc0b3f66710>}, 28: {'description': 'Dolomite', 'interval_number': 3, 'top': <core.orm.PositionOrm object at 0x7fc0b3f667f0>, 'base': <core.orm.PositionOrm object at 0x7fc0b3f668d0>}, 29: {'description': 'Anhydrite', 'interval_number': 4, 'top': <core.orm.PositionOrm object at 0x7fc0b3f669b0>, 'base': <core.orm.PositionOrm object at 0x7fc0b3f66a90>}, 30: {'description': 'Sandstone, grey, vf-f', 'interval_number': 5, 'top': <core.orm.PositionOrm object at 0x7fc0b3f66b70>, 'base': <core.orm.PositionOrm object at 0x7fc0b3f66c50>}, 31: {'description': 'Siltstone, red', 'interval_number': 6, 'top': <core.orm.PositionOrm object at 0x7fc0b3f66d30>, 'base': <core.orm.PositionOrm object at 0x7fc0b3f66e10>}, 32: {'description': 'Dolomite', 'interval_number': 7, 'top': <core.orm.PositionOrm object at 0x7fc0b3f66ef0>, 'base': <core.orm.PositionOrm object at 0x7fc0b3f66f60>}, 33: {'description': 'Siltstone, grey', 'interval_number': 8, 'top': <core.orm.PositionOrm object at 0x7fc0b3f5e4e0>, 'base': <core.orm.PositionOrm object at 0x7fc0b3f5ea20>}, 34: {'description': 'Dolomite', 'interval_number': 9, 'top': <core.orm.PositionOrm object at 0x7fc0b3f5ec50>, 'base': <core.orm.PositionOrm object at 0x7fc0b3f5ef60>}, 35: {'description': 'Sandstone, grey, vf-f', 'interval_number': 10, 'top': <core.orm.PositionOrm object at 0x7fc0b3f608d0>, 'base': <core.orm.PositionOrm object at 0x7fc0b3f609b0>}, 36: {'description': 'Dolomite', 'interval_number': 11, 'top': <core.orm.PositionOrm object at 0x7fc0b3f60a20>, 'base': <core.orm.PositionOrm object at 0x7fc0b3f60cf8>}, 37: {'description': 'Sandstone, grey, vf-f', 'interval_number': 12, 'top': <core.orm.PositionOrm object at 0x7fc0b3f60be0>, 'base': <core.orm.PositionOrm object at 0x7fc0b3f60e10>}, 38: {'description': 'Siltstone, grey', 'interval_number': 13, 'top': <core.orm.PositionOrm object at 0x7fc0b3f60ef0>, 'base': <core.orm.PositionOrm object at 0x7fc0b3f60f60>}, 39: {'description': 'Dolomite', 'interval_number': 14, 'top': <core.orm.PositionOrm object at 0x7fc0b3f60438>, 'base': <core.orm.PositionOrm object at 0x7fc0b3f6c0b8>}, 40: {'description': 'Siltstone, grey', 'interval_number': 15, 'top': <core.orm.PositionOrm object at 0x7fc0b3f6c278>, 'base': <core.orm.PositionOrm object at 0x7fc0b3f6c160>}, 41: {'description': 'Dolomite', 'interval_number': 16, 'top': <core.orm.PositionOrm object at 0x7fc0b3f6c438>, 'base': <core.orm.PositionOrm object at 0x7fc0b3f6c320>}, 42: {'description': 'Siltstone, grey', 'interval_number': 17, 'top': <core.orm.PositionOrm object at 0x7fc0b3f6c5f8>, 'base': <core.orm.PositionOrm object at 0x7fc0b3f6c4e0>}, 43: {'description': 'Dolomite', 'interval_number': 18, 'top': <core.orm.PositionOrm object at 0x7fc0b3f6c7b8>, 'base': <core.orm.PositionOrm object at 0x7fc0b3f6c6a0>}, 44: {'description': 'Siltstone, grey', 'interval_number': 19, 'top': <core.orm.PositionOrm object at 0x7fc0b3f6c978>, 'base': <core.orm.PositionOrm object at 0x7fc0b3f6c860>}, 45: {'description': 'Dolomite', 'interval_number': 20, 'top': <core.orm.PositionOrm object at 0x7fc0b3f6cb38>, 'base': <core.orm.PositionOrm object at 0x7fc0b3f6ca20>}, 46: {'description': 'Siltstone, grey', 'interval_number': 21, 'top': <core.orm.PositionOrm object at 0x7fc0b3f6ccf8>, 'base': <core.orm.PositionOrm object at 0x7fc0b3f6cbe0>}, 47: {'description': 'Dolomite', 'interval_number': 22, 'top': <core.orm.PositionOrm object at 0x7fc0b3f6ceb8>, 'base': <core.orm.PositionOrm object at 0x7fc0b3f6cda0>}, 48: {'description': 'Limestone', 'interval_number': 23, 'top': <core.orm.PositionOrm object at 0x7fc0b3f6cfd0>, 'base': <core.orm.PositionOrm object at 0x7fc0b3f0d0b8>}, 49: {'description': 'Volcanic', 'interval_number': 24, 'top': <core.orm.PositionOrm object at 0x7fc0b3f0d128>, 'base': <core.orm.PositionOrm object at 0x7fc0b3f0d1d0>}}\n"
     ]
    }
   ],
   "source": [
    "int_id = 0\n",
    "bh_id = 0\n",
    "pos_id = 0\n",
    "boreholes = []\n",
    "components = []\n",
    "comp_id = 0\n",
    "component_dict={}\n",
    "pos_dict = {}\n",
    "for bh, filename in borehole_dict.items():\n",
    "    interval_number = 0\n",
    "    boreholes.append(BoreholeOrm(id=bh))\n",
    "    with open(filename, 'r') as las3:\n",
    "        strip = Striplog.from_las3(las3.read(), lexicon)\n",
    "    for c in strip.components:\n",
    "        if c not in component_dict.keys():\n",
    "            component_dict.update({c:comp_id})\n",
    "            comp_id += 1\n",
    "    d ={}\n",
    "    for interval in strip:\n",
    "        top = PositionOrm(id=pos_id, upper=interval.top.upper, middle=interval.top.middle,  lower=interval.top.lower)\n",
    "        base = PositionOrm(id=pos_id+1, upper=interval.base.upper, middle=interval.base.middle,  lower=interval.base.lower)\n",
    "        d.update({int_id:{'description':interval.description, 'interval_number' : interval_number, \n",
    "                          'top': top, 'base': base\n",
    "                         }})\n",
    "        interval_number+=1\n",
    "        int_id += 1\n",
    "        pos_id += 2\n",
    "\n",
    "    print(d)\n",
    "    boreholes[bh_id].intervals_values = d\n",
    "    #boreholes[bh_id].components_values = c\n",
    "    bh_id += 1 \n",
    "components = {v:k for k,v in component_dict.items()}"
   ]
  },
  {
   "cell_type": "markdown",
   "metadata": {},
   "source": [
    "Create the session"
   ]
  },
  {
   "cell_type": "code",
   "execution_count": 8,
   "metadata": {},
   "outputs": [],
   "source": [
    "Session = sessionmaker(bind=engine)\n",
    "session = Session()"
   ]
  },
  {
   "cell_type": "markdown",
   "metadata": {},
   "source": [
    "Create the project"
   ]
  },
  {
   "cell_type": "code",
   "execution_count": 9,
   "metadata": {},
   "outputs": [
    {
     "name": "stdout",
     "output_type": "stream",
     "text": [
      "2020-12-18 16:29:46,731 INFO sqlalchemy.engine.base.Engine BEGIN (implicit)\n",
      "2020-12-18 16:29:46,732 INFO sqlalchemy.engine.base.Engine SELECT \"Boreholes\".id AS \"Boreholes_id\" \n",
      "FROM \"Boreholes\"\n",
      "2020-12-18 16:29:46,733 INFO sqlalchemy.engine.base.Engine ()\n",
      "2020-12-18 16:29:46,736 INFO sqlalchemy.engine.base.Engine INSERT INTO \"Components\" (id, description) VALUES (?, ?)\n",
      "2020-12-18 16:29:46,737 INFO sqlalchemy.engine.base.Engine ((0, 'Siltstone, grey'), (1, 'Anhydrite'), (2, 'Sandstone, vf-f, grey'), (3, 'Dolomite'), (4, 'Siltstone, red'), (5, 'Limestone'))\n",
      "2020-12-18 16:29:46,738 INFO sqlalchemy.engine.base.Engine COMMIT\n",
      "2020-12-18 16:29:46,746 INFO sqlalchemy.engine.base.Engine BEGIN (implicit)\n",
      "2020-12-18 16:29:46,747 INFO sqlalchemy.engine.base.Engine SELECT \"Boreholes\".id AS \"Boreholes_id\" \n",
      "FROM \"Boreholes\"\n",
      "2020-12-18 16:29:46,748 INFO sqlalchemy.engine.base.Engine ()\n"
     ]
    }
   ],
   "source": [
    "p = Project(session)\n",
    "p.add_components(components)"
   ]
  },
  {
   "cell_type": "markdown",
   "metadata": {},
   "source": [
    "Add boreholes into the database"
   ]
  },
  {
   "cell_type": "code",
   "execution_count": 10,
   "metadata": {},
   "outputs": [
    {
     "name": "stdout",
     "output_type": "stream",
     "text": [
      "2020-12-18 16:29:46,763 INFO sqlalchemy.engine.base.Engine INSERT INTO \"Boreholes\" (id) VALUES (?)\n",
      "2020-12-18 16:29:46,766 INFO sqlalchemy.engine.base.Engine ('F01',)\n",
      "2020-12-18 16:29:46,769 INFO sqlalchemy.engine.base.Engine INSERT INTO \"Positions\" (id, upper, middle, lower, x, y) VALUES (?, ?, ?, ?, ?, ?)\n",
      "2020-12-18 16:29:46,770 INFO sqlalchemy.engine.base.Engine ((0, 14.3, 14.3, 14.3, 0.0, 0.0), (1, 51.24117647058824, 51.24117647058824, 51.24117647058824, 0.0, 0.0), (2, 51.24117647058824, 51.24117647058824, 51.24117647058824, 0.0, 0.0), (3, 54.81764705882354, 54.81764705882354, 54.81764705882354, 0.0, 0.0), (4, 54.81764705882354, 54.81764705882354, 54.81764705882354, 0.0, 0.0), (5, 56.55882352941177, 56.55882352941177, 56.55882352941177, 0.0, 0.0), (6, 56.55882352941177, 56.55882352941177, 56.55882352941177, 0.0, 0.0), (7, 58.86470588235295, 58.86470588235295, 58.86470588235295, 0.0, 0.0)  ... displaying 10 of 50 total bound parameter sets ...  (48, 131.47647058823532, 131.47647058823532, 131.47647058823532, 0.0, 0.0), (49, 135.9, 135.9, 135.9, 0.0, 0.0))\n",
      "2020-12-18 16:29:46,776 INFO sqlalchemy.engine.base.Engine INSERT INTO \"Intervals\" (id, borehole, interval_number, description, top_id, base_id) VALUES (?, ?, ?, ?, ?, ?)\n",
      "2020-12-18 16:29:46,778 INFO sqlalchemy.engine.base.Engine ((0, 'F01', 0, 'Anhydrite', 0, 1), (1, 'F01', 1, 'Sandstone, grey, vf-f', 2, 3), (2, 'F01', 2, 'Anhydrite', 4, 5), (3, 'F01', 3, 'Dolomite', 6, 7), (4, 'F01', 4, 'Anhydrite', 8, 9), (5, 'F01', 5, 'Sandstone, grey, vf-f', 10, 11), (6, 'F01', 6, 'Siltstone, red', 12, 13), (7, 'F01', 7, 'Dolomite', 14, 15)  ... displaying 10 of 25 total bound parameter sets ...  (23, 'F01', 23, 'Limestone', 46, 47), (24, 'F01', 24, 'Volcanic', 48, 49))\n",
      "2020-12-18 16:29:46,781 INFO sqlalchemy.engine.base.Engine COMMIT\n",
      "2020-12-18 16:29:46,785 INFO sqlalchemy.engine.base.Engine BEGIN (implicit)\n",
      "2020-12-18 16:29:46,786 INFO sqlalchemy.engine.base.Engine SELECT \"Boreholes\".id AS \"Boreholes_id\" \n",
      "FROM \"Boreholes\"\n",
      "2020-12-18 16:29:46,786 INFO sqlalchemy.engine.base.Engine ()\n",
      "2020-12-18 16:29:46,796 INFO sqlalchemy.engine.base.Engine INSERT INTO \"Positions\" (id, upper, middle, lower, x, y) VALUES (?, ?, ?, ?, ?, ?)\n",
      "2020-12-18 16:29:46,797 INFO sqlalchemy.engine.base.Engine ((50, 14.3, 14.3, 14.3, 0.0, 0.0), (51, 51.24117647058824, 51.24117647058824, 51.24117647058824, 0.0, 0.0), (52, 51.24117647058824, 51.24117647058824, 51.24117647058824, 0.0, 0.0), (53, 54.81764705882354, 54.81764705882354, 54.81764705882354, 0.0, 0.0), (54, 54.81764705882354, 54.81764705882354, 54.81764705882354, 0.0, 0.0), (55, 56.55882352941177, 56.55882352941177, 56.55882352941177, 0.0, 0.0), (56, 56.55882352941177, 56.55882352941177, 56.55882352941177, 0.0, 0.0), (57, 58.86470588235295, 58.86470588235295, 58.86470588235295, 0.0, 0.0)  ... displaying 10 of 50 total bound parameter sets ...  (98, 131.47647058823532, 131.47647058823532, 131.47647058823532, 0.0, 0.0), (99, 135.9, 135.9, 135.9, 0.0, 0.0))\n",
      "2020-12-18 16:29:46,803 INFO sqlalchemy.engine.base.Engine INSERT INTO \"Boreholes\" (id) VALUES (?)\n",
      "2020-12-18 16:29:46,803 INFO sqlalchemy.engine.base.Engine ('F02',)\n",
      "2020-12-18 16:29:46,809 INFO sqlalchemy.engine.base.Engine INSERT INTO \"Intervals\" (id, borehole, interval_number, description, top_id, base_id) VALUES (?, ?, ?, ?, ?, ?)\n",
      "2020-12-18 16:29:46,810 INFO sqlalchemy.engine.base.Engine ((25, 'F02', 0, 'Anhydrite', 50, 51), (26, 'F02', 1, 'Sandstone, grey, vf-f', 52, 53), (27, 'F02', 2, 'Anhydrite', 54, 55), (28, 'F02', 3, 'Dolomite', 56, 57), (29, 'F02', 4, 'Anhydrite', 58, 59), (30, 'F02', 5, 'Sandstone, grey, vf-f', 60, 61), (31, 'F02', 6, 'Siltstone, red', 62, 63), (32, 'F02', 7, 'Dolomite', 64, 65)  ... displaying 10 of 25 total bound parameter sets ...  (48, 'F02', 23, 'Limestone', 96, 97), (49, 'F02', 24, 'Volcanic', 98, 99))\n",
      "2020-12-18 16:29:46,814 INFO sqlalchemy.engine.base.Engine COMMIT\n",
      "2020-12-18 16:29:46,820 INFO sqlalchemy.engine.base.Engine BEGIN (implicit)\n",
      "2020-12-18 16:29:46,822 INFO sqlalchemy.engine.base.Engine SELECT \"Boreholes\".id AS \"Boreholes_id\" \n",
      "FROM \"Boreholes\"\n",
      "2020-12-18 16:29:46,823 INFO sqlalchemy.engine.base.Engine ()\n"
     ]
    }
   ],
   "source": [
    "for bh in boreholes:\n",
    "    p.add_borehole(bh)"
   ]
  },
  {
   "cell_type": "code",
   "execution_count": 11,
   "metadata": {},
   "outputs": [
    {
     "data": {
      "text/plain": [
       "'F01'"
      ]
     },
     "execution_count": 11,
     "metadata": {},
     "output_type": "execute_result"
    }
   ],
   "source": [
    "p.boreholes[0].id"
   ]
  },
  {
   "cell_type": "code",
   "execution_count": 12,
   "metadata": {},
   "outputs": [],
   "source": [
    "p.boreholes[1].id='F33'"
   ]
  },
  {
   "cell_type": "code",
   "execution_count": 13,
   "metadata": {},
   "outputs": [
    {
     "data": {
      "text/plain": [
       "'F33'"
      ]
     },
     "execution_count": 13,
     "metadata": {},
     "output_type": "execute_result"
    }
   ],
   "source": [
    "p.boreholes[1].id"
   ]
  },
  {
   "cell_type": "code",
   "execution_count": 14,
   "metadata": {},
   "outputs": [
    {
     "name": "stdout",
     "output_type": "stream",
     "text": [
      "2020-12-18 16:29:46,884 INFO sqlalchemy.engine.base.Engine UPDATE \"Boreholes\" SET id=? WHERE \"Boreholes\".id = ?\n",
      "2020-12-18 16:29:46,886 INFO sqlalchemy.engine.base.Engine ('F33', 'F02')\n",
      "2020-12-18 16:29:46,889 INFO sqlalchemy.engine.base.Engine COMMIT\n"
     ]
    }
   ],
   "source": [
    "p.commit()"
   ]
  },
  {
   "cell_type": "code",
   "execution_count": 15,
   "metadata": {},
   "outputs": [
    {
     "name": "stdout",
     "output_type": "stream",
     "text": [
      "2020-12-18 16:29:46,909 INFO sqlalchemy.engine.base.Engine BEGIN (implicit)\n",
      "2020-12-18 16:29:46,910 INFO sqlalchemy.engine.base.Engine SELECT \"Boreholes\".id AS \"Boreholes_id\" \n",
      "FROM \"Boreholes\" \n",
      "WHERE \"Boreholes\".id = ?\n",
      "2020-12-18 16:29:46,915 INFO sqlalchemy.engine.base.Engine ('F01',)\n",
      "2020-12-18 16:29:46,923 INFO sqlalchemy.engine.base.Engine SELECT \"Intervals\".id AS \"Intervals_id\", \"Intervals\".borehole AS \"Intervals_borehole\", \"Intervals\".interval_number AS \"Intervals_interval_number\", \"Intervals\".description AS \"Intervals_description\", \"Intervals\".top_id AS \"Intervals_top_id\", \"Intervals\".base_id AS \"Intervals_base_id\" \n",
      "FROM \"Intervals\" \n",
      "WHERE ? = \"Intervals\".borehole\n",
      "2020-12-18 16:29:46,930 INFO sqlalchemy.engine.base.Engine ('F01',)\n"
     ]
    },
    {
     "data": {
      "text/plain": [
       "'Anhydrite'"
      ]
     },
     "execution_count": 15,
     "metadata": {},
     "output_type": "execute_result"
    }
   ],
   "source": [
    "p.boreholes[0].intervals[0].description"
   ]
  },
  {
   "cell_type": "code",
   "execution_count": 16,
   "metadata": {},
   "outputs": [
    {
     "name": "stdout",
     "output_type": "stream",
     "text": [
      "2020-12-18 16:29:46,940 INFO sqlalchemy.engine.base.Engine ROLLBACK\n"
     ]
    }
   ],
   "source": [
    "session.close()"
   ]
  }
 ],
 "metadata": {
  "kernelspec": {
   "display_name": "Python 3",
   "language": "python",
   "name": "python3"
  },
  "language_info": {
   "codemirror_mode": {
    "name": "ipython",
    "version": 3
   },
   "file_extension": ".py",
   "mimetype": "text/x-python",
   "name": "python",
   "nbconvert_exporter": "python",
   "pygments_lexer": "ipython3",
   "version": "3.6.9"
  }
 },
 "nbformat": 4,
 "nbformat_minor": 4
}

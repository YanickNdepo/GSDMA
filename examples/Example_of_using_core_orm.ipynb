{
 "cells": [
  {
   "cell_type": "markdown",
   "metadata": {},
   "source": [
    "# Example of using the orm classes"
   ]
  },
  {
   "cell_type": "markdown",
   "metadata": {},
   "source": [
    "Imports"
   ]
  },
  {
   "cell_type": "code",
   "execution_count": 1,
   "metadata": {},
   "outputs": [],
   "source": [
    "from core.orm import Borehole, Interval, Component, Base\n",
    "from striplog import Lexicon, Striplog\n",
    "from sqlalchemy import create_engine\n",
    "from sqlalchemy.orm import sessionmaker"
   ]
  },
  {
   "cell_type": "code",
   "execution_count": 2,
   "metadata": {},
   "outputs": [],
   "source": [
    "! rm ./tmp/test_orm_db.db"
   ]
  },
  {
   "cell_type": "markdown",
   "metadata": {},
   "source": [
    "Create the db engine and the database structure"
   ]
  },
  {
   "cell_type": "code",
   "execution_count": 3,
   "metadata": {},
   "outputs": [],
   "source": [
    "engine = create_engine('sqlite:///tmp/test_orm_db.db', echo=True)"
   ]
  },
  {
   "cell_type": "code",
   "execution_count": 4,
   "metadata": {},
   "outputs": [
    {
     "name": "stdout",
     "output_type": "stream",
     "text": [
      "2020-12-11 15:57:05,143 INFO sqlalchemy.engine.base.Engine SELECT CAST('test plain returns' AS VARCHAR(60)) AS anon_1\n",
      "2020-12-11 15:57:05,144 INFO sqlalchemy.engine.base.Engine ()\n",
      "2020-12-11 15:57:05,148 INFO sqlalchemy.engine.base.Engine SELECT CAST('test unicode returns' AS VARCHAR(60)) AS anon_1\n",
      "2020-12-11 15:57:05,149 INFO sqlalchemy.engine.base.Engine ()\n",
      "2020-12-11 15:57:05,152 INFO sqlalchemy.engine.base.Engine PRAGMA main.table_info(\"Boreholes\")\n",
      "2020-12-11 15:57:05,153 INFO sqlalchemy.engine.base.Engine ()\n",
      "2020-12-11 15:57:05,155 INFO sqlalchemy.engine.base.Engine PRAGMA temp.table_info(\"Boreholes\")\n",
      "2020-12-11 15:57:05,156 INFO sqlalchemy.engine.base.Engine ()\n",
      "2020-12-11 15:57:05,157 INFO sqlalchemy.engine.base.Engine PRAGMA main.table_info(\"Intervals\")\n",
      "2020-12-11 15:57:05,157 INFO sqlalchemy.engine.base.Engine ()\n",
      "2020-12-11 15:57:05,158 INFO sqlalchemy.engine.base.Engine PRAGMA temp.table_info(\"Intervals\")\n",
      "2020-12-11 15:57:05,159 INFO sqlalchemy.engine.base.Engine ()\n",
      "2020-12-11 15:57:05,159 INFO sqlalchemy.engine.base.Engine PRAGMA main.table_info(\"Components\")\n",
      "2020-12-11 15:57:05,160 INFO sqlalchemy.engine.base.Engine ()\n",
      "2020-12-11 15:57:05,161 INFO sqlalchemy.engine.base.Engine PRAGMA temp.table_info(\"Components\")\n",
      "2020-12-11 15:57:05,161 INFO sqlalchemy.engine.base.Engine ()\n",
      "2020-12-11 15:57:05,162 INFO sqlalchemy.engine.base.Engine PRAGMA main.table_info(\"Linkintervalcomponent\")\n",
      "2020-12-11 15:57:05,162 INFO sqlalchemy.engine.base.Engine ()\n",
      "2020-12-11 15:57:05,163 INFO sqlalchemy.engine.base.Engine PRAGMA temp.table_info(\"Linkintervalcomponent\")\n",
      "2020-12-11 15:57:05,164 INFO sqlalchemy.engine.base.Engine ()\n",
      "2020-12-11 15:57:05,165 INFO sqlalchemy.engine.base.Engine \n",
      "CREATE TABLE \"Boreholes\" (\n",
      "\tid VARCHAR(32) NOT NULL, \n",
      "\tPRIMARY KEY (id)\n",
      ")\n",
      "\n",
      "\n",
      "2020-12-11 15:57:05,166 INFO sqlalchemy.engine.base.Engine ()\n",
      "2020-12-11 15:57:05,172 INFO sqlalchemy.engine.base.Engine COMMIT\n",
      "2020-12-11 15:57:05,174 INFO sqlalchemy.engine.base.Engine \n",
      "CREATE TABLE \"Components\" (\n",
      "\tid VARCHAR(32) NOT NULL, \n",
      "\tdescription VARCHAR(32), \n",
      "\tPRIMARY KEY (id)\n",
      ")\n",
      "\n",
      "\n",
      "2020-12-11 15:57:05,174 INFO sqlalchemy.engine.base.Engine ()\n",
      "2020-12-11 15:57:05,178 INFO sqlalchemy.engine.base.Engine COMMIT\n",
      "2020-12-11 15:57:05,180 INFO sqlalchemy.engine.base.Engine \n",
      "CREATE TABLE \"Intervals\" (\n",
      "\tid INTEGER NOT NULL, \n",
      "\tborehole VARCHAR(32), \n",
      "\tinterval_number INTEGER, \n",
      "\tdescription VARCHAR(32), \n",
      "\tPRIMARY KEY (id), \n",
      "\tFOREIGN KEY(borehole) REFERENCES \"Boreholes\" (id) ON DELETE CASCADE ON UPDATE CASCADE\n",
      ")\n",
      "\n",
      "\n",
      "2020-12-11 15:57:05,180 INFO sqlalchemy.engine.base.Engine ()\n",
      "2020-12-11 15:57:05,184 INFO sqlalchemy.engine.base.Engine COMMIT\n",
      "2020-12-11 15:57:05,188 INFO sqlalchemy.engine.base.Engine \n",
      "CREATE TABLE \"Linkintervalcomponent\" (\n",
      "\tint_id INTEGER NOT NULL, \n",
      "\tcomp_id INTEGER NOT NULL, \n",
      "\tPRIMARY KEY (int_id, comp_id), \n",
      "\tFOREIGN KEY(int_id) REFERENCES \"Intervals\" (id), \n",
      "\tFOREIGN KEY(comp_id) REFERENCES \"Components\" (id)\n",
      ")\n",
      "\n",
      "\n",
      "2020-12-11 15:57:05,190 INFO sqlalchemy.engine.base.Engine ()\n",
      "2020-12-11 15:57:05,194 INFO sqlalchemy.engine.base.Engine COMMIT\n"
     ]
    }
   ],
   "source": [
    "Base.metadata.create_all(engine)"
   ]
  },
  {
   "cell_type": "markdown",
   "metadata": {},
   "source": [
    "Create the objects"
   ]
  },
  {
   "cell_type": "code",
   "execution_count": 5,
   "metadata": {},
   "outputs": [],
   "source": [
    "lexicon = Lexicon.default()"
   ]
  },
  {
   "cell_type": "code",
   "execution_count": 6,
   "metadata": {},
   "outputs": [],
   "source": [
    "borehole_dict = {'F01':'../data/test.las', 'F02':'../data/test.las'} # boreholes to insert into the db"
   ]
  },
  {
   "cell_type": "code",
   "execution_count": 7,
   "metadata": {},
   "outputs": [],
   "source": [
    "int_id = 0\n",
    "bh_id = 0\n",
    "boreholes = []\n",
    "comp_id = 0\n",
    "component_dict={}\n",
    "for bh, filename in borehole_dict.items():\n",
    "    interval_number = 0\n",
    "    boreholes.append(Borehole(id=bh))\n",
    "    with open(filename, 'r') as las3:\n",
    "        strip = Striplog.from_las3(las3.read(), lexicon)\n",
    "    for c in strip.components:\n",
    "        if c not in component_dict.keys():\n",
    "            component_dict.update({c:comp_id})\n",
    "            comp_id += 1\n",
    "    d ={}\n",
    "    for interval in strip:\n",
    "        d.update({int_id:{'description':interval.description, 'interval_number' : interval_number}})\n",
    "        interval_number+=1\n",
    "        int_id += 1\n",
    "    # print(d)\n",
    "    boreholes[bh_id].intervals_values = d\n",
    "    bh_id += 1         "
   ]
  },
  {
   "cell_type": "code",
   "execution_count": 8,
   "metadata": {},
   "outputs": [],
   "source": [
    "class Project:\n",
    "    def __init__(self, session):\n",
    "        self.session = session\n",
    "        self.refresh()\n",
    "        #self.boreholes = None\n",
    "\n",
    "    def refresh(self):\n",
    "        self.boreholes = self.session.query(Borehole).all()\n",
    "\n",
    "        \n",
    "    def commit(self):\n",
    "        self.session.commit()\n",
    "        \n",
    "    def add_borehole(self, bh):\n",
    "        self.session.add(bh)\n",
    "        self.commit()\n",
    "        self.refresh()\n",
    "\n",
    "    def row_count(self):\n",
    "        return len(self.boreholes)\n",
    "\n",
    "    def write_db(self):\n",
    "        pass"
   ]
  },
  {
   "cell_type": "markdown",
   "metadata": {},
   "source": [
    "Create the session"
   ]
  },
  {
   "cell_type": "code",
   "execution_count": 9,
   "metadata": {},
   "outputs": [],
   "source": [
    "Session = sessionmaker(bind=engine)\n",
    "session = Session()"
   ]
  },
  {
   "cell_type": "markdown",
   "metadata": {},
   "source": [
    "Create the project"
   ]
  },
  {
   "cell_type": "code",
   "execution_count": 10,
   "metadata": {},
   "outputs": [
    {
     "name": "stdout",
     "output_type": "stream",
     "text": [
      "2020-12-11 15:57:05,323 INFO sqlalchemy.engine.base.Engine BEGIN (implicit)\n",
      "2020-12-11 15:57:05,325 INFO sqlalchemy.engine.base.Engine SELECT \"Boreholes\".id AS \"Boreholes_id\" \n",
      "FROM \"Boreholes\"\n",
      "2020-12-11 15:57:05,327 INFO sqlalchemy.engine.base.Engine ()\n"
     ]
    }
   ],
   "source": [
    "p = Project(session)"
   ]
  },
  {
   "cell_type": "markdown",
   "metadata": {},
   "source": [
    "Add boreholes into the database"
   ]
  },
  {
   "cell_type": "code",
   "execution_count": 11,
   "metadata": {},
   "outputs": [
    {
     "name": "stdout",
     "output_type": "stream",
     "text": [
      "2020-12-11 15:57:05,347 INFO sqlalchemy.engine.base.Engine INSERT INTO \"Boreholes\" (id) VALUES (?)\n",
      "2020-12-11 15:57:05,350 INFO sqlalchemy.engine.base.Engine ('F01',)\n",
      "2020-12-11 15:57:05,358 INFO sqlalchemy.engine.base.Engine INSERT INTO \"Intervals\" (id, borehole, interval_number, description) VALUES (?, ?, ?, ?)\n",
      "2020-12-11 15:57:05,358 INFO sqlalchemy.engine.base.Engine ((0, 'F01', 0, 'Anhydrite'), (1, 'F01', 1, 'Sandstone, grey, vf-f'), (2, 'F01', 2, 'Anhydrite'), (3, 'F01', 3, 'Dolomite'), (4, 'F01', 4, 'Anhydrite'), (5, 'F01', 5, 'Sandstone, grey, vf-f'), (6, 'F01', 6, 'Siltstone, red'), (7, 'F01', 7, 'Dolomite')  ... displaying 10 of 25 total bound parameter sets ...  (23, 'F01', 23, 'Limestone'), (24, 'F01', 24, 'Volcanic'))\n",
      "2020-12-11 15:57:05,361 INFO sqlalchemy.engine.base.Engine COMMIT\n",
      "2020-12-11 15:57:05,366 INFO sqlalchemy.engine.base.Engine BEGIN (implicit)\n",
      "2020-12-11 15:57:05,367 INFO sqlalchemy.engine.base.Engine SELECT \"Boreholes\".id AS \"Boreholes_id\" \n",
      "FROM \"Boreholes\"\n",
      "2020-12-11 15:57:05,368 INFO sqlalchemy.engine.base.Engine ()\n",
      "2020-12-11 15:57:05,370 INFO sqlalchemy.engine.base.Engine INSERT INTO \"Boreholes\" (id) VALUES (?)\n",
      "2020-12-11 15:57:05,372 INFO sqlalchemy.engine.base.Engine ('F02',)\n",
      "2020-12-11 15:57:05,374 INFO sqlalchemy.engine.base.Engine INSERT INTO \"Intervals\" (id, borehole, interval_number, description) VALUES (?, ?, ?, ?)\n",
      "2020-12-11 15:57:05,377 INFO sqlalchemy.engine.base.Engine ((25, 'F02', 0, 'Anhydrite'), (26, 'F02', 1, 'Sandstone, grey, vf-f'), (27, 'F02', 2, 'Anhydrite'), (28, 'F02', 3, 'Dolomite'), (29, 'F02', 4, 'Anhydrite'), (30, 'F02', 5, 'Sandstone, grey, vf-f'), (31, 'F02', 6, 'Siltstone, red'), (32, 'F02', 7, 'Dolomite')  ... displaying 10 of 25 total bound parameter sets ...  (48, 'F02', 23, 'Limestone'), (49, 'F02', 24, 'Volcanic'))\n",
      "2020-12-11 15:57:05,379 INFO sqlalchemy.engine.base.Engine COMMIT\n",
      "2020-12-11 15:57:05,382 INFO sqlalchemy.engine.base.Engine BEGIN (implicit)\n",
      "2020-12-11 15:57:05,384 INFO sqlalchemy.engine.base.Engine SELECT \"Boreholes\".id AS \"Boreholes_id\" \n",
      "FROM \"Boreholes\"\n",
      "2020-12-11 15:57:05,388 INFO sqlalchemy.engine.base.Engine ()\n"
     ]
    }
   ],
   "source": [
    "for bh in boreholes:\n",
    "    p.add_borehole(bh)"
   ]
  },
  {
   "cell_type": "code",
   "execution_count": 12,
   "metadata": {},
   "outputs": [
    {
     "data": {
      "text/plain": [
       "'F01'"
      ]
     },
     "execution_count": 12,
     "metadata": {},
     "output_type": "execute_result"
    }
   ],
   "source": [
    "p.boreholes[0].id"
   ]
  },
  {
   "cell_type": "code",
   "execution_count": 13,
   "metadata": {},
   "outputs": [],
   "source": [
    "p.boreholes[1].id='F33'"
   ]
  },
  {
   "cell_type": "code",
   "execution_count": 14,
   "metadata": {},
   "outputs": [
    {
     "data": {
      "text/plain": [
       "'F33'"
      ]
     },
     "execution_count": 14,
     "metadata": {},
     "output_type": "execute_result"
    }
   ],
   "source": [
    "p.boreholes[1].id"
   ]
  },
  {
   "cell_type": "code",
   "execution_count": 15,
   "metadata": {},
   "outputs": [
    {
     "name": "stdout",
     "output_type": "stream",
     "text": [
      "2020-12-11 15:57:05,435 INFO sqlalchemy.engine.base.Engine UPDATE \"Boreholes\" SET id=? WHERE \"Boreholes\".id = ?\n",
      "2020-12-11 15:57:05,437 INFO sqlalchemy.engine.base.Engine ('F33', 'F02')\n",
      "2020-12-11 15:57:05,443 INFO sqlalchemy.engine.base.Engine COMMIT\n"
     ]
    }
   ],
   "source": [
    "p.commit()"
   ]
  },
  {
   "cell_type": "code",
   "execution_count": 16,
   "metadata": {},
   "outputs": [
    {
     "name": "stdout",
     "output_type": "stream",
     "text": [
      "2020-12-11 15:57:05,471 INFO sqlalchemy.engine.base.Engine BEGIN (implicit)\n",
      "2020-12-11 15:57:05,474 INFO sqlalchemy.engine.base.Engine SELECT \"Boreholes\".id AS \"Boreholes_id\" \n",
      "FROM \"Boreholes\" \n",
      "WHERE \"Boreholes\".id = ?\n",
      "2020-12-11 15:57:05,475 INFO sqlalchemy.engine.base.Engine ('F01',)\n",
      "2020-12-11 15:57:05,489 INFO sqlalchemy.engine.base.Engine SELECT \"Intervals\".id AS \"Intervals_id\", \"Intervals\".borehole AS \"Intervals_borehole\", \"Intervals\".interval_number AS \"Intervals_interval_number\", \"Intervals\".description AS \"Intervals_description\" \n",
      "FROM \"Intervals\" \n",
      "WHERE ? = \"Intervals\".borehole\n",
      "2020-12-11 15:57:05,491 INFO sqlalchemy.engine.base.Engine ('F01',)\n"
     ]
    },
    {
     "data": {
      "text/plain": [
       "'Anhydrite'"
      ]
     },
     "execution_count": 16,
     "metadata": {},
     "output_type": "execute_result"
    }
   ],
   "source": [
    "p.boreholes[0].intervals[0].description"
   ]
  },
  {
   "cell_type": "code",
   "execution_count": 17,
   "metadata": {},
   "outputs": [
    {
     "name": "stdout",
     "output_type": "stream",
     "text": [
      "2020-12-11 15:57:05,502 INFO sqlalchemy.engine.base.Engine ROLLBACK\n"
     ]
    }
   ],
   "source": [
    "session.close()"
   ]
  }
 ],
 "metadata": {
  "kernelspec": {
   "display_name": "Python 3",
   "language": "python",
   "name": "python3"
  },
  "language_info": {
   "codemirror_mode": {
    "name": "ipython",
    "version": 3
   },
   "file_extension": ".py",
   "mimetype": "text/x-python",
   "name": "python",
   "nbconvert_exporter": "python",
   "pygments_lexer": "ipython3",
   "version": "3.6.9"
  }
 },
 "nbformat": 4,
 "nbformat_minor": 4
}

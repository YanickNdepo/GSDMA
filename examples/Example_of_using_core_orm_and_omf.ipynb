{
 "cells": [
  {
   "cell_type": "markdown",
   "metadata": {},
   "source": [
    "# Example of using the orm classes"
   ]
  },
  {
   "cell_type": "markdown",
   "metadata": {},
   "source": [
    "Imports"
   ]
  },
  {
   "cell_type": "code",
   "execution_count": 1,
   "metadata": {},
   "outputs": [],
   "source": [
    "from core.core import Project\n",
    "from core.orm import BoreholeOrm, Base\n",
    "from striplog import Lexicon, Striplog, Interval, Component, Position, Decor, Legend\n",
    "from striplog.utils import hex_to_rgb\n",
    "from matplotlib.colors import ListedColormap\n",
    "from sqlalchemy import create_engine\n",
    "from sqlalchemy.orm import sessionmaker"
   ]
  },
  {
   "cell_type": "code",
   "execution_count": 2,
   "metadata": {},
   "outputs": [],
   "source": [
    "import numpy as np\n",
    "import matplotlib.pyplot as plt\n",
    "import omfvista as ov\n",
    "import pyvista as pv\n",
    "import omf"
   ]
  },
  {
   "cell_type": "code",
   "execution_count": 3,
   "metadata": {},
   "outputs": [],
   "source": [
    "! rm ./tmp/test_orm_db.db"
   ]
  },
  {
   "cell_type": "code",
   "execution_count": 4,
   "metadata": {},
   "outputs": [],
   "source": [
    "def striplog_legend_to_omf_legend(legend):\n",
    "    omf_legend=[]\n",
    "    newcolors = [np.array([0.9, 0.9, 0.9, 1.])]\n",
    "    for i in legend:\n",
    "        omf_legend.append(i.colour)\n",
    "        newcolors.append(np.hstack([np.array(hex_to_rgb(i.colour))/255, np.array([1.])]))\n",
    "    return omf.data.Legend(description='', name='', values=omf.data.ColorArray(omf_legend)), ListedColormap(newcolors)"
   ]
  },
  {
   "cell_type": "code",
   "execution_count": 5,
   "metadata": {},
   "outputs": [],
   "source": [
    "components = [Component({'lithology': 'siltstone', 'colour': 'grey'}),\n",
    "              Component({'lithology': 'anhydrite'}),\n",
    "              Component({'lithology': 'sandstone', 'grainsize': 'vf-f', 'colour': 'grey'}),\n",
    "              Component({'lithology': 'dolomite'}),\n",
    "              Component({'lithology': 'siltstone', 'colour': 'red'}),\n",
    "              Component({'lithology': 'limestone'})]\n",
    "list_of_decors=[]\n",
    "hatches = ['=', 'x', '.', 's', '=', 'b']\n",
    "colours = ['#888888', '#882222', '#AAAAAA', '#CC22CC', '#CC2222', '#2222CC']\n",
    "for i in range(len(components)):\n",
    "    d = {'color': colours[i],\n",
    "         'hatch': hatches[i],\n",
    "         'component': components[i],\n",
    "         'width': 3}\n",
    "    decor = Decor(d)\n",
    "    list_of_decors.append(decor)\n",
    "legend = Legend(list_of_decors)"
   ]
  },
  {
   "cell_type": "code",
   "execution_count": 6,
   "metadata": {},
   "outputs": [],
   "source": [
    "omf_legend, omf_cmap = striplog_legend_to_omf_legend(legend)"
   ]
  },
  {
   "cell_type": "markdown",
   "metadata": {},
   "source": [
    "Define the project class"
   ]
  },
  {
   "cell_type": "code",
   "execution_count": 7,
   "metadata": {},
   "outputs": [],
   "source": [
    "class Borehole3D(Striplog):\n",
    "    #-------------------------------Docstring--------------------------------------------\n",
    "    \"\"\"\n",
    "        \n",
    "    \"\"\"\n",
    "    \n",
    "    #------------------------------ Properties -------------------------------------------\n",
    "    def __init__ (self, intervals=None, name='', legend=None, x_collar=0., y_collar=0.):\n",
    "        self.name = name\n",
    "\n",
    "        if legend is None or not isinstance(legend, Legend):\n",
    "            self.legend = Legend.default()\n",
    "        else:\n",
    "            self.legend = legend\n",
    "            \n",
    "        self.x_collar = x_collar\n",
    "        self.y_collar = y_collar\n",
    "        self.omf_legend, self.omf_cmap = striplog_legend_to_omf_legend(self.legend)\n",
    "            \n",
    "        if intervals is None:\n",
    "            lexicon=Lexicon.default()\n",
    "            with open('../data/test.las', 'r') as las3:\n",
    "                default_intv=Striplog.from_las3(las3.read(), lexicon)\n",
    "                intervals = list(default_intv)\n",
    "            print(\"Pay attention that default intervals are actually used !\\n\")\n",
    "        self.intervals = intervals\n",
    "        self.geometry = []\n",
    "        \n",
    "        # instanciation with supers properties\n",
    "        Striplog.__init__(self, list_of_Intervals=self.intervals)\n",
    "        \n",
    "        #self.uid=uuid #get a unique for identification of borehole in the project\n",
    "\n",
    "        self.build_geometry()\n",
    "        \n",
    "    def get_components_indices(self):\n",
    "        indices = []\n",
    "        for i in self.intervals:\n",
    "            if i.components[0] in self.components:\n",
    "                indices.append(self.components.index(i.components[0]))\n",
    "            else:\n",
    "                indices.append(-1)\n",
    "        return np.array(indices)\n",
    "    \n",
    "    def build_geometry(self):\n",
    "    \n",
    "        vertices, segments = [], []\n",
    "        \n",
    "        for i in self.intervals:\n",
    "            if i.top not in vertices:\n",
    "                if hasattr(i.top, 'x') and hasattr(i.top, 'y'):\n",
    "                    x = i.top.x\n",
    "                    y = i.top.y\n",
    "                else:\n",
    "                    x = self.x_collar\n",
    "                    y = self.y_collar\n",
    "                vertices.append([x, y, -i.top.z])\n",
    "                top = len(vertices)-1\n",
    "            else:\n",
    "                top = vertices.index(i.top)\n",
    "            if i.base not in vertices:\n",
    "                if hasattr(i.base, 'x') and hasattr(i.base, 'y'):\n",
    "                    x = i.base.x\n",
    "                    y = i.base.y\n",
    "                else:\n",
    "                    x = self.x_collar\n",
    "                    y = self.y_collar\n",
    "                vertices.append([x, y, -i.base.z])\n",
    "                base = len(vertices)-1\n",
    "            else:\n",
    "                base = vertices.index(i.base)\n",
    "                \n",
    "            segments.append([top, base])\n",
    "            \n",
    "        vertices=np.array(vertices)\n",
    "\n",
    "        self.geometry = omf.LineSetElement(name=self.name,\n",
    "                                 geometry=omf.LineSetGeometry(\n",
    "                                     vertices=vertices,\n",
    "                                     segments=segments),\n",
    "                                 data=[omf.MappedData(name='component',\n",
    "                                                      description='test',\n",
    "                                                      array=omf.ScalarArray(self.get_components_indices()),\n",
    "                                                      legends=[self.omf_legend],\n",
    "                                                      location='segments')]\n",
    "                                          )\n",
    "            \n",
    "        print(\"Borehole geometry created successfully !\")\n",
    "        \n",
    "        return self.geometry\n",
    "        \n",
    "    def plot3d(self):\n",
    "        omf_legend, omf_ = striplog_legend_to_omf_legend(self.legend)\n",
    "        pl = pv.Plotter()\n",
    "        seg = ov.line_set_to_vtk(self.geometry)\n",
    "        seg.set_active_scalars('component')\n",
    "        ov.lineset.add_data(seg, self.geometry.data)\n",
    "        pl.add_mesh(seg.tube(radius=3), cmap=self.omf_cmap)\n",
    "        pl.show()"
   ]
  },
  {
   "cell_type": "code",
   "execution_count": 8,
   "metadata": {},
   "outputs": [
    {
     "name": "stdout",
     "output_type": "stream",
     "text": [
      "Pay attention that default intervals are actually used !\n",
      "\n",
      "Borehole geometry created successfully !\n"
     ]
    }
   ],
   "source": [
    "bh3d = Borehole3D(legend=legend)"
   ]
  },
  {
   "cell_type": "code",
   "execution_count": 9,
   "metadata": {},
   "outputs": [
    {
     "data": {
      "text/plain": [
       "<AxesSubplot:>"
      ]
     },
     "execution_count": 9,
     "metadata": {},
     "output_type": "execute_result"
    },
    {
     "data": {
      "image/png": "[encoded data removed]",
      "text/plain": [
       "<Figure size 432x432 with 8 Axes>"
      ]
     },
     "metadata": {
      "needs_background": "light"
     },
     "output_type": "display_data"
    }
   ],
   "source": [
    "fix, ax = plt.subplots(ncols=2, figsize=(6,6))\n",
    "bh3d.plot(legend=legend, ax=ax[0])\n",
    "bh3d.legend.plot(ax=ax[1])"
   ]
  },
  {
   "cell_type": "code",
   "execution_count": 10,
   "metadata": {},
   "outputs": [],
   "source": [
    "b = bh3d.intervals[0].base"
   ]
  },
  {
   "cell_type": "code",
   "execution_count": 11,
   "metadata": {},
   "outputs": [
    {
     "data": {
      "image/png": "[encoded data removed]",
      "text/plain": [
       "<PIL.Image.Image image mode=RGB size=1024x768 at 0x7FF8FB2994E0>"
      ]
     },
     "metadata": {},
     "output_type": "display_data"
    }
   ],
   "source": [
    "bh3d.plot3d()"
   ]
  },
  {
   "cell_type": "code",
   "execution_count": 12,
   "metadata": {},
   "outputs": [],
   "source": [
    "project = ov.load_project('omfproj.omf')"
   ]
  },
  {
   "cell_type": "markdown",
   "metadata": {},
   "source": [
    "Create the db engine and the database structure"
   ]
  },
  {
   "cell_type": "code",
   "execution_count": 14,
   "metadata": {},
   "outputs": [],
   "source": [
    "engine = create_engine('sqlite:///tmp/test_orm_db.db', echo=True)"
   ]
  },
  {
   "cell_type": "code",
   "execution_count": 15,
   "metadata": {},
   "outputs": [
    {
     "name": "stdout",
     "output_type": "stream",
     "text": [
      "2020-12-12 19:44:57,576 INFO sqlalchemy.engine.base.Engine SELECT CAST('test plain returns' AS VARCHAR(60)) AS anon_1\n",
      "2020-12-12 19:44:57,577 INFO sqlalchemy.engine.base.Engine ()\n",
      "2020-12-12 19:44:57,579 INFO sqlalchemy.engine.base.Engine SELECT CAST('test unicode returns' AS VARCHAR(60)) AS anon_1\n",
      "2020-12-12 19:44:57,580 INFO sqlalchemy.engine.base.Engine ()\n",
      "2020-12-12 19:44:57,581 INFO sqlalchemy.engine.base.Engine PRAGMA main.table_info(\"Boreholes\")\n",
      "2020-12-12 19:44:57,583 INFO sqlalchemy.engine.base.Engine ()\n",
      "2020-12-12 19:44:57,587 INFO sqlalchemy.engine.base.Engine PRAGMA temp.table_info(\"Boreholes\")\n",
      "2020-12-12 19:44:57,588 INFO sqlalchemy.engine.base.Engine ()\n",
      "2020-12-12 19:44:57,589 INFO sqlalchemy.engine.base.Engine PRAGMA main.table_info(\"Intervals\")\n",
      "2020-12-12 19:44:57,590 INFO sqlalchemy.engine.base.Engine ()\n",
      "2020-12-12 19:44:57,591 INFO sqlalchemy.engine.base.Engine PRAGMA temp.table_info(\"Intervals\")\n",
      "2020-12-12 19:44:57,591 INFO sqlalchemy.engine.base.Engine ()\n",
      "2020-12-12 19:44:57,592 INFO sqlalchemy.engine.base.Engine PRAGMA main.table_info(\"Components\")\n",
      "2020-12-12 19:44:57,593 INFO sqlalchemy.engine.base.Engine ()\n",
      "2020-12-12 19:44:57,594 INFO sqlalchemy.engine.base.Engine PRAGMA temp.table_info(\"Components\")\n",
      "2020-12-12 19:44:57,594 INFO sqlalchemy.engine.base.Engine ()\n",
      "2020-12-12 19:44:57,595 INFO sqlalchemy.engine.base.Engine PRAGMA main.table_info(\"Linkintervalcomponent\")\n",
      "2020-12-12 19:44:57,596 INFO sqlalchemy.engine.base.Engine ()\n",
      "2020-12-12 19:44:57,597 INFO sqlalchemy.engine.base.Engine PRAGMA temp.table_info(\"Linkintervalcomponent\")\n",
      "2020-12-12 19:44:57,598 INFO sqlalchemy.engine.base.Engine ()\n",
      "2020-12-12 19:44:57,599 INFO sqlalchemy.engine.base.Engine \n",
      "CREATE TABLE \"Boreholes\" (\n",
      "\tid VARCHAR(32) NOT NULL, \n",
      "\tPRIMARY KEY (id)\n",
      ")\n",
      "\n",
      "\n",
      "2020-12-12 19:44:57,600 INFO sqlalchemy.engine.base.Engine ()\n",
      "2020-12-12 19:44:57,603 INFO sqlalchemy.engine.base.Engine COMMIT\n",
      "2020-12-12 19:44:57,604 INFO sqlalchemy.engine.base.Engine \n",
      "CREATE TABLE \"Components\" (\n",
      "\tid VARCHAR(32) NOT NULL, \n",
      "\tdescription VARCHAR(32), \n",
      "\tPRIMARY KEY (id)\n",
      ")\n",
      "\n",
      "\n",
      "2020-12-12 19:44:57,604 INFO sqlalchemy.engine.base.Engine ()\n",
      "2020-12-12 19:44:57,608 INFO sqlalchemy.engine.base.Engine COMMIT\n",
      "2020-12-12 19:44:57,609 INFO sqlalchemy.engine.base.Engine \n",
      "CREATE TABLE \"Intervals\" (\n",
      "\tid INTEGER NOT NULL, \n",
      "\tborehole VARCHAR(32), \n",
      "\tinterval_number INTEGER, \n",
      "\tdescription VARCHAR(32), \n",
      "\tPRIMARY KEY (id), \n",
      "\tFOREIGN KEY(borehole) REFERENCES \"Boreholes\" (id) ON DELETE CASCADE ON UPDATE CASCADE\n",
      ")\n",
      "\n",
      "\n",
      "2020-12-12 19:44:57,610 INFO sqlalchemy.engine.base.Engine ()\n",
      "2020-12-12 19:44:57,613 INFO sqlalchemy.engine.base.Engine COMMIT\n",
      "2020-12-12 19:44:57,618 INFO sqlalchemy.engine.base.Engine \n",
      "CREATE TABLE \"Linkintervalcomponent\" (\n",
      "\tint_id INTEGER NOT NULL, \n",
      "\tcomp_id INTEGER NOT NULL, \n",
      "\tPRIMARY KEY (int_id, comp_id), \n",
      "\tFOREIGN KEY(int_id) REFERENCES \"Intervals\" (id), \n",
      "\tFOREIGN KEY(comp_id) REFERENCES \"Components\" (id)\n",
      ")\n",
      "\n",
      "\n",
      "2020-12-12 19:44:57,620 INFO sqlalchemy.engine.base.Engine ()\n",
      "2020-12-12 19:44:57,624 INFO sqlalchemy.engine.base.Engine COMMIT\n"
     ]
    }
   ],
   "source": [
    "Base.metadata.create_all(engine)"
   ]
  },
  {
   "cell_type": "markdown",
   "metadata": {},
   "source": [
    "Create the objects from las files"
   ]
  },
  {
   "cell_type": "code",
   "execution_count": 16,
   "metadata": {},
   "outputs": [],
   "source": [
    "lexicon = Lexicon.default()"
   ]
  },
  {
   "cell_type": "code",
   "execution_count": 17,
   "metadata": {},
   "outputs": [],
   "source": [
    "borehole_dict = {'F01':'../data/test.las', 'F02':'../data/test.las'} # boreholes to insert into the db"
   ]
  },
  {
   "cell_type": "code",
   "execution_count": 18,
   "metadata": {},
   "outputs": [],
   "source": [
    "int_id = 0\n",
    "bh_id = 0\n",
    "boreholes = []\n",
    "components = []\n",
    "comp_id = 0\n",
    "component_dict={}\n",
    "for bh, filename in borehole_dict.items():\n",
    "    interval_number = 0\n",
    "    boreholes.append(BoreholeOrm(id=bh))\n",
    "    with open(filename, 'r') as las3:\n",
    "        strip = Striplog.from_las3(las3.read(), lexicon)\n",
    "    for c in strip.components:\n",
    "        if c not in component_dict.keys():\n",
    "            component_dict.update({c:comp_id})\n",
    "            comp_id += 1\n",
    "    d ={}\n",
    "    for interval in strip:\n",
    "        d.update({int_id:{'description':interval.description, 'interval_number' : interval_number}})\n",
    "        interval_number+=1\n",
    "        int_id += 1\n",
    "    boreholes[bh_id].intervals_values = d\n",
    "    bh_id += 1 \n",
    "components = {v:k for k,v in component_dict.items()}     "
   ]
  },
  {
   "cell_type": "markdown",
   "metadata": {},
   "source": [
    "Create the session"
   ]
  },
  {
   "cell_type": "code",
   "execution_count": 19,
   "metadata": {},
   "outputs": [],
   "source": [
    "Session = sessionmaker(bind=engine)\n",
    "session = Session()"
   ]
  },
  {
   "cell_type": "markdown",
   "metadata": {},
   "source": [
    "Create the project"
   ]
  },
  {
   "cell_type": "code",
   "execution_count": 20,
   "metadata": {},
   "outputs": [
    {
     "name": "stdout",
     "output_type": "stream",
     "text": [
      "2020-12-12 19:45:11,423 INFO sqlalchemy.engine.base.Engine BEGIN (implicit)\n",
      "2020-12-12 19:45:11,426 INFO sqlalchemy.engine.base.Engine SELECT \"Boreholes\".id AS \"Boreholes_id\" \n",
      "FROM \"Boreholes\"\n",
      "2020-12-12 19:45:11,427 INFO sqlalchemy.engine.base.Engine ()\n"
     ]
    }
   ],
   "source": [
    "p = Project(session)"
   ]
  },
  {
   "cell_type": "markdown",
   "metadata": {},
   "source": [
    "Add boreholes into the database"
   ]
  },
  {
   "cell_type": "code",
   "execution_count": 22,
   "metadata": {},
   "outputs": [
    {
     "name": "stdout",
     "output_type": "stream",
     "text": [
      "2020-12-12 19:45:33,011 INFO sqlalchemy.engine.base.Engine COMMIT\n",
      "2020-12-12 19:45:33,014 INFO sqlalchemy.engine.base.Engine BEGIN (implicit)\n",
      "2020-12-12 19:45:33,015 INFO sqlalchemy.engine.base.Engine SELECT \"Boreholes\".id AS \"Boreholes_id\" \n",
      "FROM \"Boreholes\"\n",
      "2020-12-12 19:45:33,018 INFO sqlalchemy.engine.base.Engine ()\n",
      "2020-12-12 19:45:33,020 INFO sqlalchemy.engine.base.Engine COMMIT\n",
      "2020-12-12 19:45:33,021 INFO sqlalchemy.engine.base.Engine BEGIN (implicit)\n",
      "2020-12-12 19:45:33,023 INFO sqlalchemy.engine.base.Engine SELECT \"Boreholes\".id AS \"Boreholes_id\" \n",
      "FROM \"Boreholes\"\n",
      "2020-12-12 19:45:33,023 INFO sqlalchemy.engine.base.Engine ()\n"
     ]
    }
   ],
   "source": [
    "for bh in boreholes:\n",
    "    p.add_borehole(bh)"
   ]
  },
  {
   "cell_type": "code",
   "execution_count": 23,
   "metadata": {},
   "outputs": [
    {
     "data": {
      "text/plain": [
       "'F01'"
      ]
     },
     "execution_count": 23,
     "metadata": {},
     "output_type": "execute_result"
    }
   ],
   "source": [
    "p.boreholes[0].id"
   ]
  },
  {
   "cell_type": "code",
   "execution_count": 24,
   "metadata": {},
   "outputs": [],
   "source": [
    "p.boreholes[1].id='F33'"
   ]
  },
  {
   "cell_type": "code",
   "execution_count": 25,
   "metadata": {},
   "outputs": [
    {
     "data": {
      "text/plain": [
       "'F33'"
      ]
     },
     "execution_count": 25,
     "metadata": {},
     "output_type": "execute_result"
    }
   ],
   "source": [
    "p.boreholes[1].id"
   ]
  },
  {
   "cell_type": "code",
   "execution_count": 26,
   "metadata": {},
   "outputs": [
    {
     "name": "stdout",
     "output_type": "stream",
     "text": [
      "2020-12-12 19:45:34,674 INFO sqlalchemy.engine.base.Engine UPDATE \"Boreholes\" SET id=? WHERE \"Boreholes\".id = ?\n",
      "2020-12-12 19:45:34,676 INFO sqlalchemy.engine.base.Engine ('F33', 'F02')\n",
      "2020-12-12 19:45:34,677 INFO sqlalchemy.engine.base.Engine COMMIT\n"
     ]
    }
   ],
   "source": [
    "p.commit()"
   ]
  },
  {
   "cell_type": "code",
   "execution_count": 27,
   "metadata": {},
   "outputs": [
    {
     "name": "stdout",
     "output_type": "stream",
     "text": [
      "2020-12-12 19:45:35,236 INFO sqlalchemy.engine.base.Engine BEGIN (implicit)\n",
      "2020-12-12 19:45:35,237 INFO sqlalchemy.engine.base.Engine SELECT \"Boreholes\".id AS \"Boreholes_id\" \n",
      "FROM \"Boreholes\" \n",
      "WHERE \"Boreholes\".id = ?\n",
      "2020-12-12 19:45:35,238 INFO sqlalchemy.engine.base.Engine ('F01',)\n",
      "2020-12-12 19:45:35,241 INFO sqlalchemy.engine.base.Engine SELECT \"Intervals\".id AS \"Intervals_id\", \"Intervals\".borehole AS \"Intervals_borehole\", \"Intervals\".interval_number AS \"Intervals_interval_number\", \"Intervals\".description AS \"Intervals_description\" \n",
      "FROM \"Intervals\" \n",
      "WHERE ? = \"Intervals\".borehole\n",
      "2020-12-12 19:45:35,242 INFO sqlalchemy.engine.base.Engine ('F01',)\n"
     ]
    },
    {
     "data": {
      "text/plain": [
       "'Anhydrite'"
      ]
     },
     "execution_count": 27,
     "metadata": {},
     "output_type": "execute_result"
    }
   ],
   "source": [
    "p.boreholes[0].intervals[0].description"
   ]
  },
  {
   "cell_type": "code",
   "execution_count": null,
   "metadata": {},
   "outputs": [],
   "source": [
    "session.close()"
   ]
  },
  {
   "cell_type": "markdown",
   "metadata": {},
   "source": [
    "### Test linking orm and omf : \n",
    "For now IntervalOrm do not have a base and a top -> adding them to the intervals retrieved from the boreholes in the sqlite database"
   ]
  },
  {
   "cell_type": "code",
   "execution_count": 29,
   "metadata": {},
   "outputs": [
    {
     "data": {
      "text/plain": [
       "51.24117647058824"
      ]
     },
     "execution_count": 29,
     "metadata": {},
     "output_type": "execute_result"
    }
   ],
   "source": [
    "bh3d.intervals[0].base.z"
   ]
  },
  {
   "cell_type": "code",
   "execution_count": 30,
   "metadata": {},
   "outputs": [],
   "source": [
    "itvls = list(p.boreholes[0].intervals.values())"
   ]
  },
  {
   "cell_type": "code",
   "execution_count": 31,
   "metadata": {},
   "outputs": [],
   "source": [
    "z=0.\n",
    "dz=10.\n",
    "itvls_list = []\n",
    "for itvl in itvls:\n",
    "    comp = Component(lexicon.get_component(itvl.description))\n",
    "    top = Position(x=0., y=10., middle=z)\n",
    "    z += dz\n",
    "    base = Position(x=0., y=10., middle=z)\n",
    "    itvls_list.append(Interval(top=top, base=base, components=[comp], description=itvl.description, lexicon=lexicon))"
   ]
  },
  {
   "cell_type": "code",
   "execution_count": 32,
   "metadata": {},
   "outputs": [
    {
     "data": {
      "text/html": [
       "<table><tr><td style=\"width:2em; background-color:#DDDDDD\" rowspan=\"6\"></td><td><strong>top</strong></td><td>14.3</td></tr><tr><td><strong>primary</strong></td><td><table><tr><td><strong>lithology</strong></td><td>anhydrite</td></tr></table></td></tr><tr><td><strong>summary</strong></td><td>36.94 m of anhydrite</td></tr><tr><td><strong>description</strong></td><td>Anhydrite</td></tr><tr><td><strong>data</strong></td><td><table></table></td></tr><tr><td><strong>base</strong></td><td>51.24117647058824</td></tr></table>"
      ],
      "text/plain": [
       "Interval({'top': Position({'middle': 14.3, 'units': 'm'}), 'base': Position({'middle': 51.24117647058824, 'units': 'm'}), 'description': 'Anhydrite', 'data': {}, 'components': [Component({'lithology': 'anhydrite'})]})"
      ]
     },
     "execution_count": 32,
     "metadata": {},
     "output_type": "execute_result"
    }
   ],
   "source": [
    "bh3d.intervals[0]"
   ]
  },
  {
   "cell_type": "code",
   "execution_count": 33,
   "metadata": {},
   "outputs": [],
   "source": [
    "itv = Interval(top=top, base=base, components=[comp], description=itvl.description, lexicon=lexicon)"
   ]
  },
  {
   "cell_type": "code",
   "execution_count": 34,
   "metadata": {},
   "outputs": [
    {
     "data": {
      "text/html": [
       "<table><tr><td style=\"width:2em; background-color:#DDDDDD\" rowspan=\"6\"></td><td><strong>top</strong></td><td>240.0</td></tr><tr><td><strong>primary</strong></td><td>{}</td></tr><tr><td><strong>summary</strong></td><td>10.00 m of _</td></tr><tr><td><strong>description</strong></td><td>Volcanic</td></tr><tr><td><strong>data</strong></td><td><table></table></td></tr><tr><td><strong>base</strong></td><td>250.0</td></tr></table>"
      ],
      "text/plain": [
       "Interval({'top': Position({'middle': 240.0, 'x': 0.0, 'y': 10.0, 'units': 'm'}), 'base': Position({'middle': 250.0, 'x': 0.0, 'y': 10.0, 'units': 'm'}), 'description': 'Volcanic', 'data': {}, 'components': [Component({})]})"
      ]
     },
     "execution_count": 34,
     "metadata": {},
     "output_type": "execute_result"
    }
   ],
   "source": [
    "itv"
   ]
  },
  {
   "cell_type": "code",
   "execution_count": 35,
   "metadata": {},
   "outputs": [
    {
     "name": "stdout",
     "output_type": "stream",
     "text": [
      "Borehole geometry created successfully !\n"
     ]
    }
   ],
   "source": [
    "bh3d_2 = Borehole3D(itvls_list)"
   ]
  },
  {
   "cell_type": "code",
   "execution_count": 36,
   "metadata": {},
   "outputs": [
    {
     "data": {
      "image/png": "[encoded data removed]",
      "text/plain": [
       "<PIL.Image.Image image mode=RGB size=1024x768 at 0x7FC6747C1908>"
      ]
     },
     "metadata": {},
     "output_type": "display_data"
    }
   ],
   "source": [
    "bh3d_2.plot3d()"
   ]
  },
  {
   "cell_type": "code",
   "execution_count": null,
   "metadata": {},
   "outputs": [],
   "source": []
  }
 ],
 "metadata": {
  "kernelspec": {
   "display_name": "Python 3",
   "language": "python",
   "name": "python3"
  },
  "language_info": {
   "codemirror_mode": {
    "name": "ipython",
    "version": 3
   },
   "file_extension": ".py",
   "mimetype": "text/x-python",
   "name": "python",
   "nbconvert_exporter": "python",
   "pygments_lexer": "ipython3",
   "version": "3.6.9"
  }
 },
 "nbformat": 4,
 "nbformat_minor": 4
}

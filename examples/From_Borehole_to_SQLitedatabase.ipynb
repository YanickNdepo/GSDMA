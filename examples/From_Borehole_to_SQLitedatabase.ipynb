{
 "cells": [
  {
   "cell_type": "markdown",
   "metadata": {},
   "source": [
    "# Read borehole data from an txt borehole log file and insert it into a SQLITE3 database\n",
    "\n",
    "Supervisé par O.KAUFMANN\n",
    "\n",
    " Antoine,Arthur, Ivan. December 2019."
   ]
  },
  {
   "cell_type": "code",
   "execution_count": 1,
   "metadata": {},
   "outputs": [],
   "source": [
    "from utils import read_flat_files\n",
    "from utils.db_tools import boreholes_dict_to_sqlite3_db\n",
    "import sqlite3"
   ]
  },
  {
   "cell_type": "markdown",
   "metadata": {},
   "source": [
    "### Setting parameters"
   ]
  },
  {
   "cell_type": "code",
   "execution_count": 2,
   "metadata": {},
   "outputs": [],
   "source": [
    "work_dir = '../data/boreholes/'"
   ]
  },
  {
   "cell_type": "code",
   "execution_count": 3,
   "metadata": {},
   "outputs": [],
   "source": [
    "boreholes_list =['F10', 'F11', 'F12', 'F13', 'F14', 'F15', 'F16', 'F20', 'F21', 'F22', 'F23', 'F24', 'F25']"
   ]
  },
  {
   "cell_type": "code",
   "execution_count": 4,
   "metadata": {},
   "outputs": [],
   "source": [
    "database = '../project_database.db'"
   ]
  },
  {
   "cell_type": "markdown",
   "metadata": {},
   "source": [
    "### Reading electrode log files and storing data into the *boreholes* dictionary"
   ]
  },
  {
   "cell_type": "code",
   "execution_count": 5,
   "metadata": {},
   "outputs": [],
   "source": [
    "boreholes = {}"
   ]
  },
  {
   "cell_type": "code",
   "execution_count": 6,
   "metadata": {},
   "outputs": [],
   "source": [
    "for i in boreholes_list:\n",
    "    d = read_flat_files.read_boreholes_description(filename='{dir}Log_{borehole_name:s}.txt'.format(\n",
    "        dir= work_dir, borehole_name=i))\n",
    "    boreholes.update(d)       "
   ]
  },
  {
   "cell_type": "code",
   "execution_count": 7,
   "metadata": {},
   "outputs": [
    {
     "data": {
      "text/plain": [
       "{'F10': {(0.0, 1.5): {'description': 'remblais non-saturés',\n",
       "   'lithology': 'remblais',\n",
       "   'colour': 'brun'},\n",
       "  (1.5, 4.0): {'description': 'remblais saturés',\n",
       "   'lithology': 'remblais',\n",
       "   'colour': 'ocre'},\n",
       "  (4.0, 6.0): {'description': 'alluvions',\n",
       "   'lithology': 'silt',\n",
       "   'colour': 'gris'},\n",
       "  'markers': {'toit nappe': 1.5, 'mur remblais': 4.0}},\n",
       " 'F11': {(0.0, 1.5): {'description': 'remblais non-saturés',\n",
       "   'lithology': 'remblais',\n",
       "   'colour': 'brun'},\n",
       "  (1.5, 4.0): {'description': 'remblais saturés',\n",
       "   'lithology': 'remblais',\n",
       "   'colour': 'ocre'},\n",
       "  (4.0, 6.0): {'description': 'alluvions',\n",
       "   'lithology': 'silt',\n",
       "   'colour': 'gris'},\n",
       "  'markers': {'toit nappe': 1.5, 'mur remblais': 4.0}},\n",
       " 'F12': {(0.0, 1.5): {'description': 'remblais non-saturés',\n",
       "   'lithology': 'remblais',\n",
       "   'colour': 'brun'},\n",
       "  (1.5, 4.0): {'description': 'remblais saturés',\n",
       "   'lithology': 'remblais',\n",
       "   'colour': 'ocre'},\n",
       "  (4.0, 6.0): {'description': 'alluvions',\n",
       "   'lithology': 'silt',\n",
       "   'colour': 'gris'},\n",
       "  'markers': {'toit nappe': 1.5, 'mur remblais': 4.0}},\n",
       " 'F13': {(0.0, 1.5): {'description': 'remblais non-saturés',\n",
       "   'lithology': 'remblais',\n",
       "   'colour': 'brun'},\n",
       "  (1.5, 4.0): {'description': 'remblais saturés',\n",
       "   'lithology': 'remblais',\n",
       "   'colour': 'ocre'},\n",
       "  (4.0, 6.0): {'description': 'alluvions',\n",
       "   'lithology': 'silt',\n",
       "   'colour': 'gris'},\n",
       "  'markers': {'toit nappe': 1.5, 'mur remblais': 4.0}},\n",
       " 'F14': {(0.0, 1.5): {'description': 'remblais non-saturés',\n",
       "   'lithology': 'remblais',\n",
       "   'colour': 'brun'},\n",
       "  (1.5, 4.0): {'description': 'remblais saturés',\n",
       "   'lithology': 'remblais',\n",
       "   'colour': 'ocre'},\n",
       "  (4.0, 6.0): {'description': 'alluvions',\n",
       "   'lithology': 'silt',\n",
       "   'colour': 'gris'},\n",
       "  'markers': {'toit nappe': 1.5, 'mur remblais': 4.0}},\n",
       " 'F15': {(0.0, 1.5): {'description': 'remblais non-saturés',\n",
       "   'lithology': 'remblais',\n",
       "   'colour': 'brun'},\n",
       "  (1.5, 4.0): {'description': 'remblais saturés',\n",
       "   'lithology': 'remblais',\n",
       "   'colour': 'ocre'},\n",
       "  (4.0, 6.0): {'description': 'alluvions',\n",
       "   'lithology': 'silt',\n",
       "   'colour': 'gris'},\n",
       "  'markers': {'toit nappe': 1.5, 'mur remblais': 4.0}},\n",
       " 'F16': {(0.0, 1.5): {'description': 'remblais non-saturés',\n",
       "   'lithology': 'remblais',\n",
       "   'colour': 'brun'},\n",
       "  (1.5, 4.0): {'description': 'remblais saturés',\n",
       "   'lithology': 'remblais',\n",
       "   'colour': 'ocre'},\n",
       "  (4.0, 6.0): {'description': 'alluvions',\n",
       "   'lithology': 'silt',\n",
       "   'colour': 'gris'},\n",
       "  'markers': {'toit nappe': 1.5, 'mur remblais': 4.0}},\n",
       " 'F20': {(0.0, 1.5): {'description': 'remblais non-saturés',\n",
       "   'lithology': 'remblais',\n",
       "   'colour': 'brun'},\n",
       "  (1.5, 4.0): {'description': 'remblais saturés',\n",
       "   'lithology': 'remblais',\n",
       "   'colour': 'ocre'},\n",
       "  (4.0, 6.0): {'description': 'alluvions',\n",
       "   'lithology': 'silt',\n",
       "   'colour': 'gris'},\n",
       "  'markers': {'toit nappe': 1.5, 'mur remblais': 4.0}},\n",
       " 'F21': {(0.0, 1.5): {'description': 'remblais non-saturés',\n",
       "   'lithology': 'remblais',\n",
       "   'colour': 'brun'},\n",
       "  (1.5, 4.0): {'description': 'remblais saturés',\n",
       "   'lithology': 'remblais',\n",
       "   'colour': 'ocre'},\n",
       "  (4.0, 6.0): {'description': 'alluvions',\n",
       "   'lithology': 'silt',\n",
       "   'colour': 'gris'},\n",
       "  'markers': {'toit nappe': 1.5, 'mur remblais': 4.0}},\n",
       " 'F22': {(0.0, 1.5): {'description': 'remblais non-saturés',\n",
       "   'lithology': 'remblais',\n",
       "   'colour': 'brun'},\n",
       "  (1.5, 4.0): {'description': 'remblais saturés',\n",
       "   'lithology': 'remblais',\n",
       "   'colour': 'ocre'},\n",
       "  (4.0, 6.0): {'description': 'alluvions',\n",
       "   'lithology': 'silt',\n",
       "   'colour': 'gris'},\n",
       "  'markers': {'toit nappe': 1.5, 'mur remblais': 4.0}},\n",
       " 'F23': {(0.0, 1.5): {'description': 'remblais non-saturés',\n",
       "   'lithology': 'remblais',\n",
       "   'colour': 'brun'},\n",
       "  (1.5, 4.0): {'description': 'remblais saturés',\n",
       "   'lithology': 'remblais',\n",
       "   'colour': 'ocre'},\n",
       "  (4.0, 6.0): {'description': 'alluvions',\n",
       "   'lithology': 'silt',\n",
       "   'colour': 'gris'},\n",
       "  'markers': {'toit nappe': 1.5, 'mur remblais': 4.0}},\n",
       " 'F24': {(0.0, 1.5): {'description': 'remblais non-saturés',\n",
       "   'lithology': 'remblais',\n",
       "   'colour': 'brun'},\n",
       "  (1.5, 4.0): {'description': 'remblais saturés',\n",
       "   'lithology': 'remblais',\n",
       "   'colour': 'ocre'},\n",
       "  (4.0, 6.0): {'description': 'alluvions',\n",
       "   'lithology': 'silt',\n",
       "   'colour': 'gris'},\n",
       "  'markers': {'toit nappe': 1.5, 'mur remblais': 4.0}},\n",
       " 'F25': {(0.0, 1.5): {'description': 'remblais non-saturés',\n",
       "   'lithology': 'remblais',\n",
       "   'colour': 'brun'},\n",
       "  (1.5, 4.0): {'description': 'remblais saturés',\n",
       "   'lithology': 'remblais',\n",
       "   'colour': 'ocre'},\n",
       "  (4.0, 6.0): {'description': 'alluvions',\n",
       "   'lithology': 'silt',\n",
       "   'colour': 'gris'},\n",
       "  'markers': {'toit nappe': 1.5, 'mur remblais': 4.0}}}"
      ]
     },
     "execution_count": 7,
     "metadata": {},
     "output_type": "execute_result"
    }
   ],
   "source": [
    "boreholes"
   ]
  },
  {
   "cell_type": "markdown",
   "metadata": {},
   "source": [
    "### Connecting to an existing database or to creating a new one if the database doesn't exist"
   ]
  },
  {
   "cell_type": "code",
   "execution_count": 8,
   "metadata": {},
   "outputs": [],
   "source": [
    "conn = sqlite3.connect(database)"
   ]
  },
  {
   "cell_type": "raw",
   "metadata": {},
   "source": [
    "?boreholes_dict_to_sqlite3_db"
   ]
  },
  {
   "cell_type": "markdown",
   "metadata": {},
   "source": [
    "### Creating empty tables with differents fields needed in \"striplog objects\" and inserting data inside those striplog objects\n",
    "### Building a Lexicon for borehole data"
   ]
  },
  {
   "cell_type": "code",
   "execution_count": 9,
   "metadata": {},
   "outputs": [
    {
     "data": {
      "text/plain": [
       "0"
      ]
     },
     "execution_count": 9,
     "metadata": {},
     "output_type": "execute_result"
    }
   ],
   "source": [
    "boreholes_dict_to_sqlite3_db(boreholes, conn, commit=True, verbose=False)"
   ]
  },
  {
   "cell_type": "code",
   "execution_count": 10,
   "metadata": {},
   "outputs": [],
   "source": [
    "conn.close()"
   ]
  },
  {
   "cell_type": "code",
   "execution_count": null,
   "metadata": {},
   "outputs": [],
   "source": []
  }
 ],
 "metadata": {
  "kernelspec": {
   "display_name": "Python 3",
   "language": "python",
   "name": "python3"
  },
  "language_info": {
   "codemirror_mode": {
    "name": "ipython",
    "version": 3
   },
   "file_extension": ".py",
   "mimetype": "text/x-python",
   "name": "python",
   "nbconvert_exporter": "python",
   "pygments_lexer": "ipython3",
   "version": "3.6.9"
  }
 },
 "nbformat": 4,
 "nbformat_minor": 2
}

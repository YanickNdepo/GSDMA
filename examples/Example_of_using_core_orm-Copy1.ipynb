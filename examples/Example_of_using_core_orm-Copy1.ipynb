{
 "cells": [
  {
   "cell_type": "markdown",
   "metadata": {},
   "source": [
    "# Example of using the orm classes"
   ]
  },
  {
   "cell_type": "markdown",
   "metadata": {},
   "source": [
    "Imports"
   ]
  },
  {
   "cell_type": "code",
   "execution_count": 1,
   "metadata": {},
   "outputs": [],
   "source": [
    "from core.core import Project\n",
    "from core.orm import BoreholeOrm, Base\n",
    "from striplog import Lexicon, Striplog, Interval, Component, Position\n",
    "from sqlalchemy import create_engine\n",
    "from sqlalchemy.orm import sessionmaker"
   ]
  },
  {
   "cell_type": "code",
   "execution_count": 2,
   "metadata": {},
   "outputs": [],
   "source": [
    "import numpy as np\n",
    "import matplotlib.pyplot as plt\n",
    "import omfvista as ov\n",
    "import pyvista as pv\n",
    "import omf"
   ]
  },
  {
   "cell_type": "code",
   "execution_count": 3,
   "metadata": {},
   "outputs": [],
   "source": [
    "! rm ./tmp/test_orm_db.db"
   ]
  },
  {
   "cell_type": "markdown",
   "metadata": {},
   "source": [
    "Define the project class"
   ]
  },
  {
   "cell_type": "code",
   "execution_count": 110,
   "metadata": {},
   "outputs": [],
   "source": [
    "class Borehole3D(Striplog):\n",
    "    #-------------------------------Docstring--------------------------------------------\n",
    "    \"\"\"\n",
    "        \n",
    "    \"\"\"\n",
    "    \n",
    "    #------------------------------ Properties -------------------------------------------\n",
    "    def __init__ (self, intervals=None, name=''):\n",
    "        self.name = name\n",
    "\n",
    "                  \n",
    "        if intervals is None:\n",
    "            lexicon=Lexicon.default()\n",
    "            with open('../data/test.las', 'r') as las3:\n",
    "                default_intv=Striplog.from_las3(las3.read(), lexicon)\n",
    "                intervals = list(default_intv)\n",
    "            print(\"Pay attention that default intervals are actually used !\\n\")\n",
    "        self.intervals = intervals\n",
    "        self.geometry = []\n",
    "        \n",
    "        # instanciation with supers properties\n",
    "        Striplog.__init__(self, list_of_Intervals=self.intervals)\n",
    "        \n",
    "        #self.uid=uuid #get a unique for identification of borehole in the project\n",
    "\n",
    "        self.build_geometry()\n",
    "        \n",
    "        \n",
    "    def build_geometry(self, bh_itv=None):\n",
    "        colors = ['#FF0000', '#00FF00', '#0000FF'] #FIXME: colors should be generated from a legend\n",
    "        if bh_itv is None:\n",
    "            bh_itv=self.intervals\n",
    "            \n",
    "        x, y = 0.5, 0.5 # we must use Borehole x,y coordinates here !!!\n",
    "        vertices, segments = [], []\n",
    "\n",
    "        for i in bh_itv:\n",
    "            if i.top not in vertices:\n",
    "                vertices.append([x, y, i.top.z])\n",
    "            if i.base not in vertices:\n",
    "                vertices.append([x, y, i.base.z])\n",
    "\n",
    "        vertices=np.array(vertices)\n",
    "\n",
    "        for l in np.arange(1,len(vertices)):\n",
    "            #segments.append([l-1,l]) # here it is only one segment for an interval for now\n",
    "            lin = omf.LineSetElement(name=f'Interval_{l}',\n",
    "                                     geometry=omf.LineSetGeometry(\n",
    "                                         vertices=np.array([vertices[l-1], vertices[l]]),\n",
    "                                         segments=[[0,1]]),\n",
    "                                     data=[omf.ScalarData(name='value',array=np.array([l]),location='segments')],\n",
    "                                     color='#0000FF'\n",
    "                                    )\n",
    "            self.geometry.append(lin)\n",
    "            \n",
    "        print(\"Borehole geometry created successfully !\")\n",
    "        \n",
    "        return self.geometry\n",
    "        \n",
    "    def plot3d(self):\n",
    "        pl = pv.Plotter()\n",
    "        for i in self.geometry:\n",
    "            seg = ov.line_set_to_vtk(i)\n",
    "            seg.set_active_scalars('value')\n",
    "            ov.lineset.add_data(seg, i.data)\n",
    "            pl.add_mesh(seg)\n",
    "        pl.show()"
   ]
  },
  {
   "cell_type": "code",
   "execution_count": 111,
   "metadata": {},
   "outputs": [
    {
     "name": "stdout",
     "output_type": "stream",
     "text": [
      "Pay attention that default intervals are actually used !\n",
      "\n",
      "Borehole geometry created successfully !\n"
     ]
    }
   ],
   "source": [
    "bh3d = Borehole3D()"
   ]
  },
  {
   "cell_type": "code",
   "execution_count": 112,
   "metadata": {},
   "outputs": [],
   "source": [
    "project = ov.load_project('omfproj.omf')"
   ]
  },
  {
   "cell_type": "code",
   "execution_count": 113,
   "metadata": {},
   "outputs": [
    {
     "data": {
      "text/plain": [
       "pyvista.core.pointset.PolyData"
      ]
     },
     "execution_count": 113,
     "metadata": {},
     "output_type": "execute_result"
    }
   ],
   "source": [
    "type(project['Random Line'])"
   ]
  },
  {
   "cell_type": "code",
   "execution_count": 117,
   "metadata": {},
   "outputs": [
    {
     "data": {
      "image/png": "[encoded data removed]",
      "text/plain": [
       "<PIL.Image.Image image mode=RGB size=1024x768 at 0x7FD21ED18048>"
      ]
     },
     "metadata": {},
     "output_type": "display_data"
    }
   ],
   "source": [
    "bh3d.plot3d()"
   ]
  },
  {
   "cell_type": "markdown",
   "metadata": {},
   "source": [
    "Create the db engine and the database structure"
   ]
  },
  {
   "cell_type": "code",
   "execution_count": 7,
   "metadata": {},
   "outputs": [],
   "source": [
    "engine = create_engine('sqlite:///tmp/test_orm_db.db', echo=True)"
   ]
  },
  {
   "cell_type": "code",
   "execution_count": 8,
   "metadata": {},
   "outputs": [
    {
     "name": "stdout",
     "output_type": "stream",
     "text": [
      "2020-12-11 18:53:35,948 INFO sqlalchemy.engine.base.Engine SELECT CAST('test plain returns' AS VARCHAR(60)) AS anon_1\n",
      "2020-12-11 18:53:35,949 INFO sqlalchemy.engine.base.Engine ()\n",
      "2020-12-11 18:53:35,951 INFO sqlalchemy.engine.base.Engine SELECT CAST('test unicode returns' AS VARCHAR(60)) AS anon_1\n",
      "2020-12-11 18:53:35,952 INFO sqlalchemy.engine.base.Engine ()\n",
      "2020-12-11 18:53:35,953 INFO sqlalchemy.engine.base.Engine PRAGMA main.table_info(\"Boreholes\")\n",
      "2020-12-11 18:53:35,954 INFO sqlalchemy.engine.base.Engine ()\n",
      "2020-12-11 18:53:35,956 INFO sqlalchemy.engine.base.Engine PRAGMA temp.table_info(\"Boreholes\")\n",
      "2020-12-11 18:53:35,957 INFO sqlalchemy.engine.base.Engine ()\n",
      "2020-12-11 18:53:35,958 INFO sqlalchemy.engine.base.Engine PRAGMA main.table_info(\"Intervals\")\n",
      "2020-12-11 18:53:35,958 INFO sqlalchemy.engine.base.Engine ()\n",
      "2020-12-11 18:53:35,959 INFO sqlalchemy.engine.base.Engine PRAGMA temp.table_info(\"Intervals\")\n",
      "2020-12-11 18:53:35,960 INFO sqlalchemy.engine.base.Engine ()\n",
      "2020-12-11 18:53:35,961 INFO sqlalchemy.engine.base.Engine PRAGMA main.table_info(\"Components\")\n",
      "2020-12-11 18:53:35,961 INFO sqlalchemy.engine.base.Engine ()\n",
      "2020-12-11 18:53:35,962 INFO sqlalchemy.engine.base.Engine PRAGMA temp.table_info(\"Components\")\n",
      "2020-12-11 18:53:35,962 INFO sqlalchemy.engine.base.Engine ()\n",
      "2020-12-11 18:53:35,963 INFO sqlalchemy.engine.base.Engine PRAGMA main.table_info(\"Linkintervalcomponent\")\n",
      "2020-12-11 18:53:35,964 INFO sqlalchemy.engine.base.Engine ()\n",
      "2020-12-11 18:53:35,965 INFO sqlalchemy.engine.base.Engine PRAGMA temp.table_info(\"Linkintervalcomponent\")\n",
      "2020-12-11 18:53:35,966 INFO sqlalchemy.engine.base.Engine ()\n",
      "2020-12-11 18:53:35,968 INFO sqlalchemy.engine.base.Engine \n",
      "CREATE TABLE \"Boreholes\" (\n",
      "\tid VARCHAR(32) NOT NULL, \n",
      "\tPRIMARY KEY (id)\n",
      ")\n",
      "\n",
      "\n",
      "2020-12-11 18:53:35,969 INFO sqlalchemy.engine.base.Engine ()\n",
      "2020-12-11 18:53:35,975 INFO sqlalchemy.engine.base.Engine COMMIT\n",
      "2020-12-11 18:53:35,977 INFO sqlalchemy.engine.base.Engine \n",
      "CREATE TABLE \"Components\" (\n",
      "\tid VARCHAR(32) NOT NULL, \n",
      "\tdescription VARCHAR(32), \n",
      "\tPRIMARY KEY (id)\n",
      ")\n",
      "\n",
      "\n",
      "2020-12-11 18:53:35,978 INFO sqlalchemy.engine.base.Engine ()\n",
      "2020-12-11 18:53:35,985 INFO sqlalchemy.engine.base.Engine COMMIT\n",
      "2020-12-11 18:53:35,987 INFO sqlalchemy.engine.base.Engine \n",
      "CREATE TABLE \"Intervals\" (\n",
      "\tid INTEGER NOT NULL, \n",
      "\tborehole VARCHAR(32), \n",
      "\tinterval_number INTEGER, \n",
      "\tdescription VARCHAR(32), \n",
      "\tPRIMARY KEY (id), \n",
      "\tFOREIGN KEY(borehole) REFERENCES \"Boreholes\" (id) ON DELETE CASCADE ON UPDATE CASCADE\n",
      ")\n",
      "\n",
      "\n",
      "2020-12-11 18:53:35,988 INFO sqlalchemy.engine.base.Engine ()\n",
      "2020-12-11 18:53:35,992 INFO sqlalchemy.engine.base.Engine COMMIT\n",
      "2020-12-11 18:53:35,993 INFO sqlalchemy.engine.base.Engine \n",
      "CREATE TABLE \"Linkintervalcomponent\" (\n",
      "\tint_id INTEGER NOT NULL, \n",
      "\tcomp_id INTEGER NOT NULL, \n",
      "\tPRIMARY KEY (int_id, comp_id), \n",
      "\tFOREIGN KEY(int_id) REFERENCES \"Intervals\" (id), \n",
      "\tFOREIGN KEY(comp_id) REFERENCES \"Components\" (id)\n",
      ")\n",
      "\n",
      "\n",
      "2020-12-11 18:53:35,994 INFO sqlalchemy.engine.base.Engine ()\n",
      "2020-12-11 18:53:35,998 INFO sqlalchemy.engine.base.Engine COMMIT\n"
     ]
    }
   ],
   "source": [
    "Base.metadata.create_all(engine)"
   ]
  },
  {
   "cell_type": "markdown",
   "metadata": {},
   "source": [
    "Create the objects from las files"
   ]
  },
  {
   "cell_type": "code",
   "execution_count": 9,
   "metadata": {},
   "outputs": [],
   "source": [
    "lexicon = Lexicon.default()"
   ]
  },
  {
   "cell_type": "code",
   "execution_count": 10,
   "metadata": {},
   "outputs": [],
   "source": [
    "borehole_dict = {'F01':'../data/test.las', 'F02':'../data/test.las'} # boreholes to insert into the db"
   ]
  },
  {
   "cell_type": "code",
   "execution_count": 11,
   "metadata": {},
   "outputs": [],
   "source": [
    "int_id = 0\n",
    "bh_id = 0\n",
    "boreholes = []\n",
    "components = []\n",
    "comp_id = 0\n",
    "component_dict={}\n",
    "for bh, filename in borehole_dict.items():\n",
    "    interval_number = 0\n",
    "    boreholes.append(BoreholeOrm(id=bh))\n",
    "    with open(filename, 'r') as las3:\n",
    "        strip = Striplog.from_las3(las3.read(), lexicon)\n",
    "    for c in strip.components:\n",
    "        if c not in component_dict.keys():\n",
    "            component_dict.update({c:comp_id})\n",
    "            comp_id += 1\n",
    "    d ={}\n",
    "    for interval in strip:\n",
    "        d.update({int_id:{'description':interval.description, 'interval_number' : interval_number}})\n",
    "        interval_number+=1\n",
    "        int_id += 1\n",
    "    boreholes[bh_id].intervals_values = d\n",
    "    bh_id += 1 \n",
    "components = {v:k for k,v in component_dict.items()}     "
   ]
  },
  {
   "cell_type": "markdown",
   "metadata": {},
   "source": [
    "Create the session"
   ]
  },
  {
   "cell_type": "code",
   "execution_count": 12,
   "metadata": {},
   "outputs": [],
   "source": [
    "Session = sessionmaker(bind=engine)\n",
    "session = Session()"
   ]
  },
  {
   "cell_type": "markdown",
   "metadata": {},
   "source": [
    "Create the project"
   ]
  },
  {
   "cell_type": "code",
   "execution_count": 13,
   "metadata": {},
   "outputs": [
    {
     "name": "stdout",
     "output_type": "stream",
     "text": [
      "2020-12-11 18:53:36,054 INFO sqlalchemy.engine.base.Engine BEGIN (implicit)\n",
      "2020-12-11 18:53:36,062 INFO sqlalchemy.engine.base.Engine SELECT \"Boreholes\".id AS \"Boreholes_id\" \n",
      "FROM \"Boreholes\"\n",
      "2020-12-11 18:53:36,064 INFO sqlalchemy.engine.base.Engine ()\n"
     ]
    }
   ],
   "source": [
    "p = Project(session)"
   ]
  },
  {
   "cell_type": "markdown",
   "metadata": {},
   "source": [
    "Add boreholes into the database"
   ]
  },
  {
   "cell_type": "code",
   "execution_count": 14,
   "metadata": {},
   "outputs": [
    {
     "name": "stdout",
     "output_type": "stream",
     "text": [
      "2020-12-11 18:53:36,074 INFO sqlalchemy.engine.base.Engine INSERT INTO \"Boreholes\" (id) VALUES (?)\n",
      "2020-12-11 18:53:36,075 INFO sqlalchemy.engine.base.Engine ('F01',)\n",
      "2020-12-11 18:53:36,078 INFO sqlalchemy.engine.base.Engine INSERT INTO \"Intervals\" (id, borehole, interval_number, description) VALUES (?, ?, ?, ?)\n",
      "2020-12-11 18:53:36,079 INFO sqlalchemy.engine.base.Engine ((0, 'F01', 0, 'Anhydrite'), (1, 'F01', 1, 'Sandstone, grey, vf-f'), (2, 'F01', 2, 'Anhydrite'), (3, 'F01', 3, 'Dolomite'), (4, 'F01', 4, 'Anhydrite'), (5, 'F01', 5, 'Sandstone, grey, vf-f'), (6, 'F01', 6, 'Siltstone, red'), (7, 'F01', 7, 'Dolomite')  ... displaying 10 of 25 total bound parameter sets ...  (23, 'F01', 23, 'Limestone'), (24, 'F01', 24, 'Volcanic'))\n",
      "2020-12-11 18:53:36,081 INFO sqlalchemy.engine.base.Engine COMMIT\n",
      "2020-12-11 18:53:36,085 INFO sqlalchemy.engine.base.Engine BEGIN (implicit)\n",
      "2020-12-11 18:53:36,093 INFO sqlalchemy.engine.base.Engine SELECT \"Boreholes\".id AS \"Boreholes_id\" \n",
      "FROM \"Boreholes\"\n",
      "2020-12-11 18:53:36,094 INFO sqlalchemy.engine.base.Engine ()\n",
      "2020-12-11 18:53:36,098 INFO sqlalchemy.engine.base.Engine INSERT INTO \"Boreholes\" (id) VALUES (?)\n",
      "2020-12-11 18:53:36,099 INFO sqlalchemy.engine.base.Engine ('F02',)\n",
      "2020-12-11 18:53:36,105 INFO sqlalchemy.engine.base.Engine INSERT INTO \"Intervals\" (id, borehole, interval_number, description) VALUES (?, ?, ?, ?)\n",
      "2020-12-11 18:53:36,107 INFO sqlalchemy.engine.base.Engine ((25, 'F02', 0, 'Anhydrite'), (26, 'F02', 1, 'Sandstone, grey, vf-f'), (27, 'F02', 2, 'Anhydrite'), (28, 'F02', 3, 'Dolomite'), (29, 'F02', 4, 'Anhydrite'), (30, 'F02', 5, 'Sandstone, grey, vf-f'), (31, 'F02', 6, 'Siltstone, red'), (32, 'F02', 7, 'Dolomite')  ... displaying 10 of 25 total bound parameter sets ...  (48, 'F02', 23, 'Limestone'), (49, 'F02', 24, 'Volcanic'))\n",
      "2020-12-11 18:53:36,110 INFO sqlalchemy.engine.base.Engine COMMIT\n",
      "2020-12-11 18:53:36,113 INFO sqlalchemy.engine.base.Engine BEGIN (implicit)\n",
      "2020-12-11 18:53:36,114 INFO sqlalchemy.engine.base.Engine SELECT \"Boreholes\".id AS \"Boreholes_id\" \n",
      "FROM \"Boreholes\"\n",
      "2020-12-11 18:53:36,114 INFO sqlalchemy.engine.base.Engine ()\n"
     ]
    }
   ],
   "source": [
    "for bh in boreholes:\n",
    "    p.add_borehole(bh)"
   ]
  },
  {
   "cell_type": "code",
   "execution_count": 15,
   "metadata": {},
   "outputs": [
    {
     "data": {
      "text/plain": [
       "'F01'"
      ]
     },
     "execution_count": 15,
     "metadata": {},
     "output_type": "execute_result"
    }
   ],
   "source": [
    "p.boreholes[0].id"
   ]
  },
  {
   "cell_type": "code",
   "execution_count": 16,
   "metadata": {},
   "outputs": [],
   "source": [
    "p.boreholes[1].id='F33'"
   ]
  },
  {
   "cell_type": "code",
   "execution_count": 17,
   "metadata": {},
   "outputs": [
    {
     "data": {
      "text/plain": [
       "'F33'"
      ]
     },
     "execution_count": 17,
     "metadata": {},
     "output_type": "execute_result"
    }
   ],
   "source": [
    "p.boreholes[1].id"
   ]
  },
  {
   "cell_type": "code",
   "execution_count": 18,
   "metadata": {},
   "outputs": [
    {
     "name": "stdout",
     "output_type": "stream",
     "text": [
      "2020-12-11 18:53:36,147 INFO sqlalchemy.engine.base.Engine UPDATE \"Boreholes\" SET id=? WHERE \"Boreholes\".id = ?\n",
      "2020-12-11 18:53:36,148 INFO sqlalchemy.engine.base.Engine ('F33', 'F02')\n",
      "2020-12-11 18:53:36,150 INFO sqlalchemy.engine.base.Engine COMMIT\n"
     ]
    }
   ],
   "source": [
    "p.commit()"
   ]
  },
  {
   "cell_type": "code",
   "execution_count": 19,
   "metadata": {},
   "outputs": [
    {
     "name": "stdout",
     "output_type": "stream",
     "text": [
      "2020-12-11 18:53:36,164 INFO sqlalchemy.engine.base.Engine BEGIN (implicit)\n",
      "2020-12-11 18:53:36,166 INFO sqlalchemy.engine.base.Engine SELECT \"Boreholes\".id AS \"Boreholes_id\" \n",
      "FROM \"Boreholes\" \n",
      "WHERE \"Boreholes\".id = ?\n",
      "2020-12-11 18:53:36,167 INFO sqlalchemy.engine.base.Engine ('F01',)\n",
      "2020-12-11 18:53:36,175 INFO sqlalchemy.engine.base.Engine SELECT \"Intervals\".id AS \"Intervals_id\", \"Intervals\".borehole AS \"Intervals_borehole\", \"Intervals\".interval_number AS \"Intervals_interval_number\", \"Intervals\".description AS \"Intervals_description\" \n",
      "FROM \"Intervals\" \n",
      "WHERE ? = \"Intervals\".borehole\n",
      "2020-12-11 18:53:36,182 INFO sqlalchemy.engine.base.Engine ('F01',)\n"
     ]
    },
    {
     "data": {
      "text/plain": [
       "'Anhydrite'"
      ]
     },
     "execution_count": 19,
     "metadata": {},
     "output_type": "execute_result"
    }
   ],
   "source": [
    "p.boreholes[0].intervals[0].description"
   ]
  },
  {
   "cell_type": "raw",
   "metadata": {},
   "source": [
    "bh3d = Borehole3D(list(p.boreholes[0].intervals.values()))"
   ]
  },
  {
   "cell_type": "code",
   "execution_count": null,
   "metadata": {},
   "outputs": [],
   "source": [
    "session.close()"
   ]
  },
  {
   "cell_type": "code",
   "execution_count": null,
   "metadata": {},
   "outputs": [],
   "source": [
    "bh3d.intervals[0].base.z"
   ]
  },
  {
   "cell_type": "code",
   "execution_count": null,
   "metadata": {},
   "outputs": [],
   "source": [
    "itvls = list(p.boreholes[0].intervals.values())"
   ]
  },
  {
   "cell_type": "code",
   "execution_count": null,
   "metadata": {},
   "outputs": [],
   "source": [
    "z=0.\n",
    "dz=10.\n",
    "itvls_list = []\n",
    "for itvl in itvls:\n",
    "    comp = Component(lexicon.get_component(itvl.description))\n",
    "    top = Position(x=0., y=10., middle=z)\n",
    "    z += dz\n",
    "    base = Position(x=0., y=10., middle=z)\n",
    "    itvls_list.append(Interval(top=top, base=base, components=[comp], description=itvl.description, lexicon=lexicon))"
   ]
  },
  {
   "cell_type": "code",
   "execution_count": null,
   "metadata": {},
   "outputs": [],
   "source": [
    "bh3d.intervals[0]"
   ]
  },
  {
   "cell_type": "code",
   "execution_count": null,
   "metadata": {},
   "outputs": [],
   "source": [
    "itv = Interval(top=top, base=base, components=[comp], description=itvl.description, lexicon=lexicon)"
   ]
  },
  {
   "cell_type": "code",
   "execution_count": null,
   "metadata": {},
   "outputs": [],
   "source": [
    "itv"
   ]
  },
  {
   "cell_type": "code",
   "execution_count": null,
   "metadata": {},
   "outputs": [],
   "source": [
    "bh3d_2 = Borehole3D(itvls_list)"
   ]
  },
  {
   "cell_type": "code",
   "execution_count": null,
   "metadata": {},
   "outputs": [],
   "source": [
    "bh3d_2.plot3d()"
   ]
  },
  {
   "cell_type": "code",
   "execution_count": null,
   "metadata": {},
   "outputs": [],
   "source": []
  }
 ],
 "metadata": {
  "kernelspec": {
   "display_name": "Python 3",
   "language": "python",
   "name": "python3"
  },
  "language_info": {
   "codemirror_mode": {
    "name": "ipython",
    "version": 3
   },
   "file_extension": ".py",
   "mimetype": "text/x-python",
   "name": "python",
   "nbconvert_exporter": "python",
   "pygments_lexer": "ipython3",
   "version": "3.6.9"
  }
 },
 "nbformat": 4,
 "nbformat_minor": 4
}

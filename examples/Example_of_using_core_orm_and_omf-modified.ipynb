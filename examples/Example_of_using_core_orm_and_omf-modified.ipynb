{
 "cells": [
  {
   "cell_type": "markdown",
   "metadata": {},
   "source": [
    "# Example of using the orm classes"
   ]
  },
  {
   "cell_type": "markdown",
   "metadata": {},
   "source": [
    "### Imports"
   ]
  },
  {
   "cell_type": "code",
   "execution_count": 44,
   "metadata": {},
   "outputs": [],
   "source": [
    "from core.core import Project\n",
    "from core.orm import BoreholeOrm, Base\n",
    "from striplog import Lexicon, Striplog, Interval, Component, Position, Decor, Legend\n",
    "from striplog.utils import hex_to_rgb\n",
    "from matplotlib.colors import ListedColormap\n",
    "from sqlalchemy import create_engine\n",
    "from sqlalchemy.orm import sessionmaker"
   ]
  },
  {
   "cell_type": "code",
   "execution_count": 45,
   "metadata": {},
   "outputs": [],
   "source": [
    "import re\n",
    "import numpy as np\n",
    "import matplotlib.pyplot as plt\n",
    "import omfvista as ov\n",
    "import pyvista as pv\n",
    "import omf\n",
    "from vtk import vtkX3DExporter\n",
    "from IPython.display import HTML"
   ]
  },
  {
   "cell_type": "code",
   "execution_count": 46,
   "metadata": {},
   "outputs": [],
   "source": [
    "! rm ./tmp/test_orm_db.db"
   ]
  },
  {
   "cell_type": "code",
   "execution_count": 47,
   "metadata": {},
   "outputs": [],
   "source": [
    "def striplog_legend_to_omf_legend(legend):\n",
    "    omf_legend=[]\n",
    "    newcolors = [np.array([0.9, 0.9, 0.9, 1.])]\n",
    "    for i in legend:\n",
    "        omf_legend.append(i.colour)\n",
    "        newcolors.append(np.hstack([np.array(hex_to_rgb(i.colour))/255, np.array([1.])]))\n",
    "    return omf.data.Legend(description='', name='', values=omf.data.ColorArray(omf_legend)), ListedColormap(newcolors)"
   ]
  },
  {
   "cell_type": "code",
   "execution_count": 48,
   "metadata": {},
   "outputs": [],
   "source": [
    "components = [Component({'lithology': 'siltstone', 'colour': 'grey'}),\n",
    "              Component({'lithology': 'anhydrite'}),\n",
    "              Component({'lithology': 'sandstone', 'grainsize': 'vf-f', 'colour': 'grey'}),\n",
    "              Component({'lithology': 'dolomite'}),\n",
    "              Component({'lithology': 'siltstone', 'colour': 'red'}),\n",
    "              Component({'lithology': 'limestone'})]\n",
    "list_of_decors=[]\n",
    "hatches = ['=', 'x', '.', 's', '=', 'b']\n",
    "colours = ['#888888', '#882222', '#AAAAAA', '#CC22CC', '#CC2222', '#2222CC']\n",
    "for i in range(len(components)):\n",
    "    d = {'color': colours[i],\n",
    "         'hatch': hatches[i],\n",
    "         'component': components[i],\n",
    "         'width': 3}\n",
    "    decor = Decor(d)\n",
    "    list_of_decors.append(decor)\n",
    "legend = Legend(list_of_decors)"
   ]
  },
  {
   "cell_type": "code",
   "execution_count": 49,
   "metadata": {},
   "outputs": [],
   "source": [
    "omf_legend, omf_cmap = striplog_legend_to_omf_legend(legend)"
   ]
  },
  {
   "cell_type": "markdown",
   "metadata": {},
   "source": [
    "### Define the Borehole class"
   ]
  },
  {
   "cell_type": "code",
   "execution_count": 50,
   "metadata": {},
   "outputs": [],
   "source": [
    "class Borehole3D(Striplog):\n",
    "    #-------------------------------Docstring--------------------------------------------\n",
    "    \"\"\"\n",
    "        \n",
    "    \"\"\"\n",
    "    \n",
    "    #------------------------------ Properties -------------------------------------------\n",
    "    def __init__ (self, intervals=None, name='', legend=None, x_collar=0., y_collar=0.):\n",
    "        self.name = name\n",
    "\n",
    "        if legend is None or not isinstance(legend, Legend):\n",
    "            self.legend = Legend.default()\n",
    "        else:\n",
    "            self.legend = legend\n",
    "            \n",
    "        self.x_collar = x_collar\n",
    "        self.y_collar = y_collar\n",
    "        self.omf_legend, self.omf_cmap = striplog_legend_to_omf_legend(self.legend)\n",
    "            \n",
    "        if intervals is None:\n",
    "            lexicon=Lexicon.default()\n",
    "            with open('../data/test.las', 'r') as las3:\n",
    "                default_intv=Striplog.from_las3(las3.read(), lexicon)\n",
    "                intervals = list(default_intv)\n",
    "            print(\"Pay attention that default intervals are actually used !\\n\")\n",
    "        self.intervals = intervals\n",
    "        self.geometry = []\n",
    "        \n",
    "        # instanciation with supers properties\n",
    "        Striplog.__init__(self, list_of_Intervals=self.intervals)\n",
    "        \n",
    "        #self.uid=uuid #get a unique for identification of borehole in the project\n",
    "\n",
    "        self.build_geometry()\n",
    "        \n",
    "    def get_components_indices(self):\n",
    "        indices = []\n",
    "        for i in self.intervals:\n",
    "            if i.components[0] in self.components:\n",
    "                indices.append(self.components.index(i.components[0]))\n",
    "            else:\n",
    "                indices.append(-1)\n",
    "        return np.array(indices)\n",
    "    \n",
    "    def build_geometry(self):\n",
    "    \n",
    "        vertices, segments = [], []\n",
    "        \n",
    "        for i in self.intervals:\n",
    "            if i.top not in vertices:\n",
    "                if hasattr(i.top, 'x') and hasattr(i.top, 'y'):\n",
    "                    x = i.top.x\n",
    "                    y = i.top.y\n",
    "                else:\n",
    "                    x = self.x_collar\n",
    "                    y = self.y_collar\n",
    "                vertices.append([x, y, -i.top.z])\n",
    "                top = len(vertices)-1\n",
    "            else:\n",
    "                top = vertices.index(i.top)\n",
    "            if i.base not in vertices:\n",
    "                if hasattr(i.base, 'x') and hasattr(i.base, 'y'):\n",
    "                    x = i.base.x\n",
    "                    y = i.base.y\n",
    "                else:\n",
    "                    x = self.x_collar\n",
    "                    y = self.y_collar\n",
    "                vertices.append([x, y, -i.base.z])\n",
    "                base = len(vertices)-1\n",
    "            else:\n",
    "                base = vertices.index(i.base)\n",
    "                \n",
    "            segments.append([top, base])\n",
    "            \n",
    "        vertices=np.array(vertices)\n",
    "\n",
    "        self.geometry = omf.LineSetElement(name=self.name,\n",
    "                                 geometry=omf.LineSetGeometry(\n",
    "                                     vertices=vertices,\n",
    "                                     segments=segments),\n",
    "                                 data=[omf.MappedData(name='component',\n",
    "                                                      description='test',\n",
    "                                                      array=omf.ScalarArray(self.get_components_indices()),\n",
    "                                                      legends=[self.omf_legend],\n",
    "                                                      location='segments')]\n",
    "                                          )\n",
    "            \n",
    "        print(\"Borehole geometry created successfully !\")\n",
    "        \n",
    "        return self.geometry\n",
    "        \n",
    "    def plot3d(self, x3d=False):\n",
    "        omf_legend, omf_ = striplog_legend_to_omf_legend(self.legend)\n",
    "        pl = pv.Plotter()\n",
    "        seg = ov.line_set_to_vtk(self.geometry)\n",
    "        seg.set_active_scalars('component')\n",
    "        ov.lineset.add_data(seg, self.geometry.data)\n",
    "        pl.add_mesh(seg.tube(radius=3), cmap=self.omf_cmap)\n",
    "        if not x3d:\n",
    "            pl.show()\n",
    "        else:\n",
    "            writer = vtkX3DExporter()\n",
    "            writer.SetInput(pl.renderer.GetRenderWindow())\n",
    "            filename = f'BH_{self.name:s}.x3d'\n",
    "            writer.SetFileName(filename)\n",
    "            writer.Update()\n",
    "            writer.Write()\n",
    "            x3d_html = f'<html>\\n<head>\\n    <meta http-equiv=\"X-UA-Compatible\" content=\"IE=edge\"/>\\n' \\\n",
    "                        '<title>X3D scene</title>\\n <p>' \\\n",
    "                        '<script type=\\'text/javascript\\' src=\\'http://www.x3dom.org/download/x3dom.js\\'> </script>\\n' \\\n",
    "                        '<link rel=\\'stylesheet\\' type=\\'text/css\\' href=\\'http://www.x3dom.org/download/x3dom.css\\'/>\\n' \\\n",
    "                        '</head>\\n<body>\\n<p>\\n For interaction, click in the view and press \"a\" to see the whole scene. For more info on interaction,' \\\n",
    "                        ' please read  <a href=\"https://doc.x3dom.org/tutorials/animationInteraction/navigation/index.html\">the docs</a>  \\n</p>\\n' \\\n",
    "                        '<x3d width=\\'968px\\' height=\\'600px\\'>\\n <scene>\\n' \\\n",
    "                        '<viewpoint position=\"-1.94639 1.79771 -2.89271\" orientation=\"0.03886 0.99185 0.12133 3.75685\">' \\\n",
    "                        '</viewpoint>\\n <Inline nameSpaceName=\"Borehole\" mapDEFToID=\"true\" url=\"'+filename+'\" />\\n' \\\n",
    "                        '</scene>\\n</x3d>\\n</body>\\n</html>\\n'\n",
    "            return HTML(x3d_html)"
   ]
  },
  {
   "cell_type": "code",
   "execution_count": 51,
   "metadata": {},
   "outputs": [
    {
     "name": "stdout",
     "output_type": "stream",
     "text": [
      "Pay attention that default intervals are actually used !\n",
      "\n",
      "Borehole geometry created successfully !\n"
     ]
    }
   ],
   "source": [
    "bh3d = Borehole3D(legend=legend)"
   ]
  },
  {
   "cell_type": "code",
   "execution_count": 52,
   "metadata": {},
   "outputs": [
    {
     "data": {
      "text/plain": [
       "<AxesSubplot:>"
      ]
     },
     "execution_count": 52,
     "metadata": {},
     "output_type": "execute_result"
    },
    {
     "data": {
      "image/png": "[encoded data removed]",
      "text/plain": [
       "<Figure size 432x432 with 8 Axes>"
      ]
     },
     "metadata": {
      "needs_background": "light"
     },
     "output_type": "display_data"
    }
   ],
   "source": [
    "fix, ax = plt.subplots(ncols=2, figsize=(6,6))\n",
    "bh3d.plot(legend=legend, ax=ax[0])\n",
    "bh3d.legend.plot(ax=ax[1])"
   ]
  },
  {
   "cell_type": "code",
   "execution_count": 53,
   "metadata": {},
   "outputs": [],
   "source": [
    "b = bh3d.intervals[0].base"
   ]
  },
  {
   "cell_type": "code",
   "execution_count": 54,
   "metadata": {},
   "outputs": [
    {
     "data": {
      "image/png": "[encoded data removed]",
      "text/plain": [
       "<PIL.Image.Image image mode=RGB size=1024x768 at 0x7F6AFF0C3160>"
      ]
     },
     "metadata": {},
     "output_type": "display_data"
    }
   ],
   "source": [
    "bh3d.plot3d()"
   ]
  },
  {
   "cell_type": "code",
   "execution_count": 55,
   "metadata": {},
   "outputs": [],
   "source": [
    "def plot3d(x3d=False):\n",
    "    omf_legend, omf_ = striplog_legend_to_omf_legend(bh.legend)\n",
    "    pl = pv.Plotter()\n",
    "    seg = ov.line_set_to_vtk(bh.geometry)\n",
    "    seg.set_active_scalars('component')\n",
    "    ov.lineset.add_data(seg, bh.geometry.data)\n",
    "    pl.add_mesh(seg.tube(radius=3), cmap=bh.omf_cmap)\n",
    "    if not x3d:\n",
    "        pl.show()\n",
    "    else:\n",
    "        writer = vtkX3DExporter()\n",
    "        writer.SetInput(pl.renderer.GetRenderWindow())\n",
    "        filename = f'bh_{bh.name:s}.x3d'\n",
    "        writer.SetFileName(filename)\n",
    "        writer.Update()\n",
    "        writer.Write()\n",
    "        x3d_html = f'<html>\\n<head>\\n    <meta http-equiv=\"X-UA-Compatible\" content=\"IE=edge\"/>\\n' \\\n",
    "                    '<title>X3D scene</title>\\n <p>' \\\n",
    "                    '<script type=\\'text/javascript\\' src=\\'http://www.x3dom.org/download/x3dom.js\\'> </script>\\n' \\\n",
    "                    '<link rel=\\'stylesheet\\' type=\\'text/css\\' href=\\'http://www.x3dom.org/download/x3dom.css\\'/>\\n' \\\n",
    "                    '</head>\\n<body>\\n<p>\\n For interaction, click in the view and press \"a\" to see the whole scene. For more info on interaction,' \\\n",
    "                    ' please read  <a href=\"https://doc.x3dom.org/tutorials/animationInteraction/navigation/index.html\">the docs</a>  \\n</p>\\n' \\\n",
    "                    '<x3d width=\\'968px\\' height=\\'600px\\'>\\n <scene>\\n' \\\n",
    "                    '<viewpoint position=\"-1.94639 1.79771 -2.89271\" orientation=\"0.03886 0.99185 0.12133 3.75685\">' \\\n",
    "                    '</viewpoint>\\n <Inline nameSpaceName=\"Borehole\" mapDEFToID=\"true\" url=\"'+filename+'\" />\\n' \\\n",
    "                    '</scene>\\n</x3d>\\n</body>\\n</html>\\n'\n",
    "        return HTML(x3d_html)"
   ]
  },
  {
   "cell_type": "code",
   "execution_count": 56,
   "metadata": {},
   "outputs": [
    {
     "data": {
      "text/html": [
       "<html>\n",
       "<head>\n",
       "    <meta http-equiv=\"X-UA-Compatible\" content=\"IE=edge\"/>\n",
       "<title>X3D scene</title>\n",
       " <p><script type='text/javascript' src='http://www.x3dom.org/download/x3dom.js'> </script>\n",
       "<link rel='stylesheet' type='text/css' href='http://www.x3dom.org/download/x3dom.css'/>\n",
       "</head>\n",
       "<body>\n",
       "<p>\n",
       " For interaction, click in the view and press \"a\" to see the whole scene. For more info on interaction, please read  <a href=\"https://doc.x3dom.org/tutorials/animationInteraction/navigation/index.html\">the docs</a>  \n",
       "</p>\n",
       "<x3d width='968px' height='600px'>\n",
       " <scene>\n",
       "<viewpoint position=\"-1.94639 1.79771 -2.89271\" orientation=\"0.03886 0.99185 0.12133 3.75685\"></viewpoint>\n",
       " <Inline nameSpaceName=\"Borehole\" mapDEFToID=\"true\" url=\"self_.x3d\" />\n",
       "</scene>\n",
       "</x3d>\n",
       "</body>\n",
       "</html>\n"
      ],
      "text/plain": [
       "<IPython.core.display.HTML object>"
      ]
     },
     "execution_count": 56,
     "metadata": {},
     "output_type": "execute_result"
    }
   ],
   "source": [
    "bh3d.plot3d(x3d=True)"
   ]
  },
  {
   "cell_type": "code",
   "execution_count": 57,
   "metadata": {},
   "outputs": [],
   "source": [
    "project = ov.load_project('omfproj.omf')"
   ]
  },
  {
   "cell_type": "markdown",
   "metadata": {},
   "source": [
    "### Create the db engine and the database structure"
   ]
  },
  {
   "cell_type": "code",
   "execution_count": 58,
   "metadata": {},
   "outputs": [],
   "source": [
    "engine = create_engine('sqlite:///tmp/test_orm_db.db', echo=True)"
   ]
  },
  {
   "cell_type": "code",
   "execution_count": 59,
   "metadata": {},
   "outputs": [
    {
     "name": "stdout",
     "output_type": "stream",
     "text": [
      "2020-12-18 06:35:37,447 INFO sqlalchemy.engine.base.Engine SELECT CAST('test plain returns' AS VARCHAR(60)) AS anon_1\n",
      "2020-12-18 06:35:37,448 INFO sqlalchemy.engine.base.Engine ()\n",
      "2020-12-18 06:35:37,450 INFO sqlalchemy.engine.base.Engine SELECT CAST('test unicode returns' AS VARCHAR(60)) AS anon_1\n",
      "2020-12-18 06:35:37,450 INFO sqlalchemy.engine.base.Engine ()\n",
      "2020-12-18 06:35:37,451 INFO sqlalchemy.engine.base.Engine PRAGMA main.table_info(\"Boreholes\")\n",
      "2020-12-18 06:35:37,452 INFO sqlalchemy.engine.base.Engine ()\n",
      "2020-12-18 06:35:37,454 INFO sqlalchemy.engine.base.Engine PRAGMA temp.table_info(\"Boreholes\")\n",
      "2020-12-18 06:35:37,455 INFO sqlalchemy.engine.base.Engine ()\n",
      "2020-12-18 06:35:37,455 INFO sqlalchemy.engine.base.Engine PRAGMA main.table_info(\"Intervals\")\n",
      "2020-12-18 06:35:37,456 INFO sqlalchemy.engine.base.Engine ()\n",
      "2020-12-18 06:35:37,457 INFO sqlalchemy.engine.base.Engine PRAGMA temp.table_info(\"Intervals\")\n",
      "2020-12-18 06:35:37,458 INFO sqlalchemy.engine.base.Engine ()\n",
      "2020-12-18 06:35:37,460 INFO sqlalchemy.engine.base.Engine PRAGMA main.table_info(\"Components\")\n",
      "2020-12-18 06:35:37,461 INFO sqlalchemy.engine.base.Engine ()\n",
      "2020-12-18 06:35:37,462 INFO sqlalchemy.engine.base.Engine PRAGMA temp.table_info(\"Components\")\n",
      "2020-12-18 06:35:37,463 INFO sqlalchemy.engine.base.Engine ()\n",
      "2020-12-18 06:35:37,464 INFO sqlalchemy.engine.base.Engine PRAGMA main.table_info(\"Linkintervalcomponent\")\n",
      "2020-12-18 06:35:37,465 INFO sqlalchemy.engine.base.Engine ()\n",
      "2020-12-18 06:35:37,466 INFO sqlalchemy.engine.base.Engine PRAGMA temp.table_info(\"Linkintervalcomponent\")\n",
      "2020-12-18 06:35:37,467 INFO sqlalchemy.engine.base.Engine ()\n",
      "2020-12-18 06:35:37,468 INFO sqlalchemy.engine.base.Engine \n",
      "CREATE TABLE \"Boreholes\" (\n",
      "\tid VARCHAR(32) NOT NULL, \n",
      "\tPRIMARY KEY (id)\n",
      ")\n",
      "\n",
      "\n",
      "2020-12-18 06:35:37,469 INFO sqlalchemy.engine.base.Engine ()\n",
      "2020-12-18 06:35:37,609 INFO sqlalchemy.engine.base.Engine COMMIT\n",
      "2020-12-18 06:35:37,610 INFO sqlalchemy.engine.base.Engine \n",
      "CREATE TABLE \"Components\" (\n",
      "\tid VARCHAR(32) NOT NULL, \n",
      "\tdescription VARCHAR(32), \n",
      "\tPRIMARY KEY (id)\n",
      ")\n",
      "\n",
      "\n",
      "2020-12-18 06:35:37,611 INFO sqlalchemy.engine.base.Engine ()\n",
      "2020-12-18 06:35:37,685 INFO sqlalchemy.engine.base.Engine COMMIT\n",
      "2020-12-18 06:35:37,687 INFO sqlalchemy.engine.base.Engine \n",
      "CREATE TABLE \"Intervals\" (\n",
      "\tid INTEGER NOT NULL, \n",
      "\tborehole VARCHAR(32), \n",
      "\tinterval_number INTEGER, \n",
      "\tdescription VARCHAR(32), \n",
      "\tPRIMARY KEY (id), \n",
      "\tFOREIGN KEY(borehole) REFERENCES \"Boreholes\" (id) ON DELETE CASCADE ON UPDATE CASCADE\n",
      ")\n",
      "\n",
      "\n",
      "2020-12-18 06:35:37,688 INFO sqlalchemy.engine.base.Engine ()\n",
      "2020-12-18 06:35:37,761 INFO sqlalchemy.engine.base.Engine COMMIT\n",
      "2020-12-18 06:35:37,762 INFO sqlalchemy.engine.base.Engine \n",
      "CREATE TABLE \"Linkintervalcomponent\" (\n",
      "\tint_id INTEGER NOT NULL, \n",
      "\tcomp_id INTEGER NOT NULL, \n",
      "\tPRIMARY KEY (int_id, comp_id), \n",
      "\tFOREIGN KEY(int_id) REFERENCES \"Intervals\" (id), \n",
      "\tFOREIGN KEY(comp_id) REFERENCES \"Components\" (id)\n",
      ")\n",
      "\n",
      "\n",
      "2020-12-18 06:35:37,763 INFO sqlalchemy.engine.base.Engine ()\n",
      "2020-12-18 06:35:37,845 INFO sqlalchemy.engine.base.Engine COMMIT\n"
     ]
    }
   ],
   "source": [
    "Base.metadata.create_all(engine)"
   ]
  },
  {
   "cell_type": "markdown",
   "metadata": {},
   "source": [
    "### Create the objects from text files (las, csv, txt)"
   ]
  },
  {
   "cell_type": "code",
   "execution_count": 60,
   "metadata": {},
   "outputs": [],
   "source": [
    "lexicon = Lexicon.default()"
   ]
  },
  {
   "cell_type": "code",
   "execution_count": 61,
   "metadata": {},
   "outputs": [],
   "source": [
    "borehole_dict = {'F01':'../data/test.las', 'F02':'../data/test.csv'} # boreholes to insert into the db"
   ]
  },
  {
   "cell_type": "code",
   "execution_count": 68,
   "metadata": {},
   "outputs": [],
   "source": [
    "def strip_from_text(files=borehole_dict): \n",
    "    #I have to finish this part by combining the to functions strip from csv and las\n",
    "    #the function will choose the good script for csv or las file\n",
    "    #TODO : build our own lexicon !\n",
    "    strip= Striplog.from_image('../data/strip_img_test.png', 14.3, 135.9, legend=legend)\n",
    "    # used this trick to avoid error with strip variable definition\n",
    "    global boreholes\n",
    "    \n",
    "    int_id = 0\n",
    "    bh_id = 0\n",
    "    boreholes = []\n",
    "    components = []\n",
    "    comp_id = 0\n",
    "    component_dict={}\n",
    "    \n",
    "    #---------------------------------subfunction---------------------------------------\n",
    "    def file_process(filename):\n",
    "        if re.compile(r\".+\\.las\").match(filename):\n",
    "            print(f\"File {filename:s} OK! Creation of the striplog ...\")\n",
    "            with open(filename, 'r') as las3:\n",
    "                strip = Striplog.from_las3(las3.read(), lexicon)\n",
    "                \n",
    "        elif re.compile(r\".+\\.(csv|txt)\").match(filename):\n",
    "            print(f\"File {filename:s} OK! Creation of the striplog ...\")\n",
    "            f = re.DOTALL | re.IGNORECASE\n",
    "            regex_data = r'start.+?\\n(.+?)(?:\\n\\n+|\\n*\\#|\\n*$)' #retrieve data of BH\n",
    "            #regex_bh= r'\\#.+?name\\n(.+?)(?:\\n\\n+|\\n*\\#|\\n*$)' #retrieve BH_name\n",
    "            pattern=re.compile(regex_data, flags=f)\n",
    "            with open(filename, 'r') as csv:\n",
    "                text = pattern.search(csv.read()).group(1)\n",
    "                text=re.sub(r'[\\t]+',';', re.sub(r'(\\n+|\\r\\n|\\r)', '\\n', text.strip()))\n",
    "                strip=Striplog.from_descriptions(text, dlm=';',lexicon=lexicon)\n",
    "\n",
    "        else:\n",
    "            print(\"Error! Please check the file extension !\")\n",
    "            #break\n",
    "        \n",
    "        return strip\n",
    "    #---------------------------------------------------------------\n",
    "\n",
    "    for bh, filename in files.items():        \n",
    "        file_process(filename)\n",
    "            \n",
    "        interval_number = 0\n",
    "        boreholes.append(BoreholeOrm(id=bh))\n",
    "        for c in strip.components:\n",
    "            if c not in component_dict.keys():\n",
    "                component_dict.update({c:comp_id})\n",
    "                comp_id += 1\n",
    "       \n",
    "        \n",
    "        d ={}\n",
    "        for interval in strip:\n",
    "            d.update({int_id:{'description':interval.description, 'interval_number' : interval_number}})\n",
    "            interval_number+=1\n",
    "            int_id += 1\n",
    "        boreholes[bh_id].intervals_values = d\n",
    "        bh_id += 1 \n",
    "    components = {v:k for k,v in component_dict.items()} \n",
    "    \n",
    "    return boreholes"
   ]
  },
  {
   "cell_type": "code",
   "execution_count": 69,
   "metadata": {},
   "outputs": [
    {
     "name": "stdout",
     "output_type": "stream",
     "text": [
      "File ../data/test.las OK! Creation of the striplog ...\n",
      "File ../data/test.csv OK! Creation of the striplog ...\n"
     ]
    },
    {
     "name": "stderr",
     "output_type": "stream",
     "text": [
      "No match found for #ff4c4a with tolerance of 0. Best match is Siltstone, red, #cc2222, d=77.23341245859851\n",
      "No match found for #ff99cc with tolerance of 0. Best match is Sandstone, vf-f, grey, #aaaaaa, d=93.11283477587824\n",
      "No match found for #a6d1ff with tolerance of 0. Best match is Sandstone, vf-f, grey, #aaaaaa, d=93.60555539069249\n",
      "No match found for #a1655a with tolerance of 0. Best match is Siltstone, grey, #888888, d=62.976185975335156\n",
      "No match found for #a68374 with tolerance of 0. Best match is Siltstone, grey, #888888, d=36.40054944640259\n",
      "No match found for #f7e9a6 with tolerance of 0. Best match is Sandstone, vf-f, grey, #aaaaaa, d=99.56907150315303\n",
      "No match found for #a657fa with tolerance of 0. Best match is Dolomite, #cc22cc, d=79.8060148109151\n"
     ]
    },
    {
     "data": {
      "text/plain": [
       "[<core.orm.BoreholeOrm at 0x7f6aff05d048>,\n",
       " <core.orm.BoreholeOrm at 0x7f6b0d038e10>]"
      ]
     },
     "execution_count": 69,
     "metadata": {},
     "output_type": "execute_result"
    }
   ],
   "source": [
    "strip_from_text()"
   ]
  },
  {
   "cell_type": "markdown",
   "metadata": {},
   "source": [
    "### Create the ORM session"
   ]
  },
  {
   "cell_type": "code",
   "execution_count": 70,
   "metadata": {},
   "outputs": [],
   "source": [
    "Session = sessionmaker(bind=engine)\n",
    "session = Session()"
   ]
  },
  {
   "cell_type": "markdown",
   "metadata": {},
   "source": [
    "### Create the ORM project"
   ]
  },
  {
   "cell_type": "code",
   "execution_count": 71,
   "metadata": {},
   "outputs": [
    {
     "name": "stdout",
     "output_type": "stream",
     "text": [
      "2020-12-18 06:36:31,089 INFO sqlalchemy.engine.base.Engine BEGIN (implicit)\n",
      "2020-12-18 06:36:31,091 INFO sqlalchemy.engine.base.Engine SELECT \"Boreholes\".id AS \"Boreholes_id\" \n",
      "FROM \"Boreholes\"\n",
      "2020-12-18 06:36:31,092 INFO sqlalchemy.engine.base.Engine ()\n"
     ]
    }
   ],
   "source": [
    "p = Project(session)"
   ]
  },
  {
   "cell_type": "markdown",
   "metadata": {},
   "source": [
    "### Add boreholes into the database"
   ]
  },
  {
   "cell_type": "code",
   "execution_count": 72,
   "metadata": {},
   "outputs": [
    {
     "name": "stdout",
     "output_type": "stream",
     "text": [
      "2020-12-18 06:36:31,690 INFO sqlalchemy.engine.base.Engine INSERT INTO \"Boreholes\" (id) VALUES (?)\n",
      "2020-12-18 06:36:31,692 INFO sqlalchemy.engine.base.Engine ('F01',)\n",
      "2020-12-18 06:36:31,695 INFO sqlalchemy.engine.base.Engine INSERT INTO \"Intervals\" (id, borehole, interval_number, description) VALUES (?, ?, ?, ?)\n",
      "2020-12-18 06:36:31,695 INFO sqlalchemy.engine.base.Engine ((0, 'F01', 0, ''), (1, 'F01', 1, ''), (2, 'F01', 2, ''), (3, 'F01', 3, ''), (4, 'F01', 4, ''), (5, 'F01', 5, ''), (6, 'F01', 6, ''), (7, 'F01', 7, '')  ... displaying 10 of 26 total bound parameter sets ...  (24, 'F01', 24, ''), (25, 'F01', 25, ''))\n",
      "2020-12-18 06:36:31,697 INFO sqlalchemy.engine.base.Engine COMMIT\n",
      "2020-12-18 06:36:31,891 INFO sqlalchemy.engine.base.Engine BEGIN (implicit)\n",
      "2020-12-18 06:36:31,893 INFO sqlalchemy.engine.base.Engine SELECT \"Boreholes\".id AS \"Boreholes_id\" \n",
      "FROM \"Boreholes\"\n",
      "2020-12-18 06:36:31,894 INFO sqlalchemy.engine.base.Engine ()\n",
      "2020-12-18 06:36:31,898 INFO sqlalchemy.engine.base.Engine INSERT INTO \"Boreholes\" (id) VALUES (?)\n",
      "2020-12-18 06:36:31,900 INFO sqlalchemy.engine.base.Engine ('F02',)\n",
      "2020-12-18 06:36:31,903 INFO sqlalchemy.engine.base.Engine INSERT INTO \"Intervals\" (id, borehole, interval_number, description) VALUES (?, ?, ?, ?)\n",
      "2020-12-18 06:36:31,904 INFO sqlalchemy.engine.base.Engine ((26, 'F02', 0, ''), (27, 'F02', 1, ''), (28, 'F02', 2, ''), (29, 'F02', 3, ''), (30, 'F02', 4, ''), (31, 'F02', 5, ''), (32, 'F02', 6, ''), (33, 'F02', 7, '')  ... displaying 10 of 26 total bound parameter sets ...  (50, 'F02', 24, ''), (51, 'F02', 25, ''))\n",
      "2020-12-18 06:36:31,905 INFO sqlalchemy.engine.base.Engine COMMIT\n",
      "2020-12-18 06:36:31,974 INFO sqlalchemy.engine.base.Engine BEGIN (implicit)\n",
      "2020-12-18 06:36:31,976 INFO sqlalchemy.engine.base.Engine SELECT \"Boreholes\".id AS \"Boreholes_id\" \n",
      "FROM \"Boreholes\"\n",
      "2020-12-18 06:36:31,977 INFO sqlalchemy.engine.base.Engine ()\n"
     ]
    }
   ],
   "source": [
    "for bh in boreholes:\n",
    "    p.add_borehole(bh)"
   ]
  },
  {
   "cell_type": "code",
   "execution_count": 73,
   "metadata": {},
   "outputs": [
    {
     "data": {
      "text/plain": [
       "'F01'"
      ]
     },
     "execution_count": 73,
     "metadata": {},
     "output_type": "execute_result"
    }
   ],
   "source": [
    "p.boreholes[0].id"
   ]
  },
  {
   "cell_type": "code",
   "execution_count": 74,
   "metadata": {},
   "outputs": [],
   "source": [
    "p.boreholes[1].id='F33'"
   ]
  },
  {
   "cell_type": "code",
   "execution_count": 75,
   "metadata": {},
   "outputs": [
    {
     "data": {
      "text/plain": [
       "'F33'"
      ]
     },
     "execution_count": 75,
     "metadata": {},
     "output_type": "execute_result"
    }
   ],
   "source": [
    "p.boreholes[1].id"
   ]
  },
  {
   "cell_type": "code",
   "execution_count": 76,
   "metadata": {},
   "outputs": [
    {
     "name": "stdout",
     "output_type": "stream",
     "text": [
      "2020-12-18 06:36:33,772 INFO sqlalchemy.engine.base.Engine UPDATE \"Boreholes\" SET id=? WHERE \"Boreholes\".id = ?\n",
      "2020-12-18 06:36:33,773 INFO sqlalchemy.engine.base.Engine ('F33', 'F02')\n",
      "2020-12-18 06:36:33,775 INFO sqlalchemy.engine.base.Engine COMMIT\n"
     ]
    }
   ],
   "source": [
    "p.commit()"
   ]
  },
  {
   "cell_type": "code",
   "execution_count": 77,
   "metadata": {},
   "outputs": [
    {
     "name": "stdout",
     "output_type": "stream",
     "text": [
      "2020-12-18 06:36:34,175 INFO sqlalchemy.engine.base.Engine BEGIN (implicit)\n",
      "2020-12-18 06:36:34,176 INFO sqlalchemy.engine.base.Engine SELECT \"Boreholes\".id AS \"Boreholes_id\" \n",
      "FROM \"Boreholes\" \n",
      "WHERE \"Boreholes\".id = ?\n",
      "2020-12-18 06:36:34,177 INFO sqlalchemy.engine.base.Engine ('F01',)\n",
      "2020-12-18 06:36:34,180 INFO sqlalchemy.engine.base.Engine SELECT \"Intervals\".id AS \"Intervals_id\", \"Intervals\".borehole AS \"Intervals_borehole\", \"Intervals\".interval_number AS \"Intervals_interval_number\", \"Intervals\".description AS \"Intervals_description\" \n",
      "FROM \"Intervals\" \n",
      "WHERE ? = \"Intervals\".borehole\n",
      "2020-12-18 06:36:34,181 INFO sqlalchemy.engine.base.Engine ('F01',)\n"
     ]
    },
    {
     "data": {
      "text/plain": [
       "''"
      ]
     },
     "execution_count": 77,
     "metadata": {},
     "output_type": "execute_result"
    }
   ],
   "source": [
    "p.boreholes[0].intervals[0].description"
   ]
  },
  {
   "cell_type": "code",
   "execution_count": 78,
   "metadata": {},
   "outputs": [
    {
     "name": "stdout",
     "output_type": "stream",
     "text": [
      "2020-12-18 06:36:34,587 INFO sqlalchemy.engine.base.Engine ROLLBACK\n"
     ]
    }
   ],
   "source": [
    "session.close()"
   ]
  },
  {
   "cell_type": "markdown",
   "metadata": {},
   "source": [
    "### Test linking orm and omf : \n",
    "For now IntervalOrm do not have a base and a top -> adding them to the intervals retrieved from the boreholes in the sqlite database"
   ]
  },
  {
   "cell_type": "code",
   "execution_count": 79,
   "metadata": {},
   "outputs": [
    {
     "data": {
      "text/plain": [
       "51.24117647058824"
      ]
     },
     "execution_count": 79,
     "metadata": {},
     "output_type": "execute_result"
    }
   ],
   "source": [
    "bh3d.intervals[0].base.z\n"
   ]
  },
  {
   "cell_type": "code",
   "execution_count": 80,
   "metadata": {},
   "outputs": [],
   "source": [
    "itvls = list(p.boreholes[0].intervals.values())"
   ]
  },
  {
   "cell_type": "code",
   "execution_count": 81,
   "metadata": {},
   "outputs": [],
   "source": [
    "z=0.\n",
    "dz=10.\n",
    "itvls_list = []\n",
    "for itvl in itvls:\n",
    "    comp = Component(lexicon.get_component(itvl.description))\n",
    "    top = Position(x=0., y=10., middle=z)\n",
    "    z += dz\n",
    "    base = Position(x=0., y=10., middle=z)\n",
    "    itvls_list.append(Interval(top=top, base=base, components=[comp], description=itvl.description, lexicon=lexicon))"
   ]
  },
  {
   "cell_type": "code",
   "execution_count": 82,
   "metadata": {},
   "outputs": [
    {
     "data": {
      "text/html": [
       "<table><tr><td style=\"width:2em; background-color:#DDDDDD\" rowspan=\"6\"></td><td><strong>top</strong></td><td>14.3</td></tr><tr><td><strong>primary</strong></td><td><table><tr><td><strong>lithology</strong></td><td>anhydrite</td></tr></table></td></tr><tr><td><strong>summary</strong></td><td>36.94 m of anhydrite</td></tr><tr><td><strong>description</strong></td><td>Anhydrite</td></tr><tr><td><strong>data</strong></td><td><table></table></td></tr><tr><td><strong>base</strong></td><td>51.24117647058824</td></tr></table>"
      ],
      "text/plain": [
       "Interval({'top': Position({'middle': 14.3, 'units': 'm'}), 'base': Position({'middle': 51.24117647058824, 'units': 'm'}), 'description': 'Anhydrite', 'data': {}, 'components': [Component({'lithology': 'anhydrite'})]})"
      ]
     },
     "execution_count": 82,
     "metadata": {},
     "output_type": "execute_result"
    }
   ],
   "source": [
    "bh3d.intervals[0]"
   ]
  },
  {
   "cell_type": "code",
   "execution_count": 83,
   "metadata": {},
   "outputs": [],
   "source": [
    "itv = Interval(top=top, base=base, components=[comp], description=itvl.description, lexicon=lexicon)"
   ]
  },
  {
   "cell_type": "code",
   "execution_count": 84,
   "metadata": {},
   "outputs": [
    {
     "data": {
      "text/html": [
       "<table><tr><td style=\"width:2em; background-color:#DDDDDD\" rowspan=\"6\"></td><td><strong>top</strong></td><td>250.0</td></tr><tr><td><strong>primary</strong></td><td>{}</td></tr><tr><td><strong>summary</strong></td><td>10.00 m of _</td></tr><tr><td><strong>description</strong></td><td></td></tr><tr><td><strong>data</strong></td><td><table></table></td></tr><tr><td><strong>base</strong></td><td>260.0</td></tr></table>"
      ],
      "text/plain": [
       "Interval({'top': Position({'middle': 250.0, 'x': 0.0, 'y': 10.0, 'units': 'm'}), 'base': Position({'middle': 260.0, 'x': 0.0, 'y': 10.0, 'units': 'm'}), 'description': '', 'data': {}, 'components': [Component({})]})"
      ]
     },
     "execution_count": 84,
     "metadata": {},
     "output_type": "execute_result"
    }
   ],
   "source": [
    "itv"
   ]
  },
  {
   "cell_type": "code",
   "execution_count": 85,
   "metadata": {},
   "outputs": [
    {
     "data": {
      "text/plain": [
       "striplog.interval.Interval"
      ]
     },
     "execution_count": 85,
     "metadata": {},
     "output_type": "execute_result"
    }
   ],
   "source": [
    "type(bh3d.intervals[0])"
   ]
  },
  {
   "cell_type": "code",
   "execution_count": 86,
   "metadata": {},
   "outputs": [
    {
     "name": "stdout",
     "output_type": "stream",
     "text": [
      "Borehole geometry created successfully !\n"
     ]
    }
   ],
   "source": [
    "bh3d_2 = Borehole3D(itvls_list)"
   ]
  },
  {
   "cell_type": "code",
   "execution_count": 87,
   "metadata": {
    "scrolled": true
   },
   "outputs": [
    {
     "data": {
      "image/png": "[encoded data removed]",
      "text/plain": [
       "<PIL.Image.Image image mode=RGB size=1024x768 at 0x7F6B0D238E10>"
      ]
     },
     "metadata": {},
     "output_type": "display_data"
    }
   ],
   "source": [
    "bh3d_2.plot3d()"
   ]
  },
  {
   "cell_type": "code",
   "execution_count": null,
   "metadata": {},
   "outputs": [],
   "source": []
  },
  {
   "cell_type": "code",
   "execution_count": null,
   "metadata": {},
   "outputs": [],
   "source": []
  }
 ],
 "metadata": {
  "kernelspec": {
   "display_name": "Python 3",
   "language": "python",
   "name": "python3"
  },
  "language_info": {
   "codemirror_mode": {
    "name": "ipython",
    "version": 3
   },
   "file_extension": ".py",
   "mimetype": "text/x-python",
   "name": "python",
   "nbconvert_exporter": "python",
   "pygments_lexer": "ipython3",
   "version": "3.6.9"
  }
 },
 "nbformat": 4,
 "nbformat_minor": 4
}

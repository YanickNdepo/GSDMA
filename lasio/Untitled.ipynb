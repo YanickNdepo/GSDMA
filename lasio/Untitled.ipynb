{
 "cells": [
  {
   "cell_type": "code",
   "execution_count": 1,
   "metadata": {},
   "outputs": [],
   "source": [
    "import lasio"
   ]
  },
  {
   "cell_type": "code",
   "execution_count": 2,
   "metadata": {},
   "outputs": [],
   "source": [
    "las = lasio.read('/home/dell/GSDMA2019/lasio/standards/examples/2.0/sample_2.0.las')"
   ]
  },
  {
   "cell_type": "code",
   "execution_count": 3,
   "metadata": {},
   "outputs": [
    {
     "data": {
      "text/plain": [
       "{'Curves': [CurveItem(mnemonic=DEPT, unit=M, value=, descr=1  DEPTH, original_mnemonic=DEPT, data.shape=(3,)),\n",
       "  CurveItem(mnemonic=DT, unit=US/M, value=60 520 32 00, descr=2  SONIC TRANSIT TIME, original_mnemonic=DT, data.shape=(3,)),\n",
       "  CurveItem(mnemonic=RHOB, unit=K/M3, value=45 350 01 00, descr=3  BULK DENSITY, original_mnemonic=RHOB, data.shape=(3,)),\n",
       "  CurveItem(mnemonic=NPHI, unit=V/V, value=42 890 00 00, descr=4  NEUTRON POROSITY, original_mnemonic=NPHI, data.shape=(3,)),\n",
       "  CurveItem(mnemonic=SFLU, unit=OHMM, value=07 220 04 00, descr=5  SHALLOW RESISTIVITY, original_mnemonic=SFLU, data.shape=(3,)),\n",
       "  CurveItem(mnemonic=SFLA, unit=OHMM, value=07 222 01 00, descr=6  SHALLOW RESISTIVITY, original_mnemonic=SFLA, data.shape=(3,)),\n",
       "  CurveItem(mnemonic=ILM, unit=OHMM, value=07 120 44 00, descr=7  MEDIUM RESISTIVITY, original_mnemonic=ILM, data.shape=(3,)),\n",
       "  CurveItem(mnemonic=ILD, unit=OHMM, value=07 120 46 00, descr=8  DEEP RESISTIVITY, original_mnemonic=ILD, data.shape=(3,))],\n",
       " 'Other': 'Note: The logging tools became stuck at 625 metres causing the data\\nbetween 625 metres and 615 metres to be invalid.',\n",
       " 'Parameter': [HeaderItem(mnemonic=MUD, unit=, value=GEL CHEM, descr=MUD TYPE),\n",
       "  HeaderItem(mnemonic=BHT, unit=DEGC, value=35.5, descr=BOTTOM HOLE TEMPERATURE),\n",
       "  HeaderItem(mnemonic=BS, unit=MM, value=200.0, descr=BIT SIZE),\n",
       "  HeaderItem(mnemonic=FD, unit=K/M3, value=1000.0, descr=FLUID DENSITY),\n",
       "  HeaderItem(mnemonic=MATR, unit=, value=SAND, descr=NEUTRON MATRIX),\n",
       "  HeaderItem(mnemonic=MDEN, unit=, value=2710.0, descr=LOGGING MATRIX DENSITY),\n",
       "  HeaderItem(mnemonic=RMF, unit=OHMM, value=0.216, descr=MUD FILTRATE RESISTIVITY),\n",
       "  HeaderItem(mnemonic=DFD, unit=K/M3, value=1525.0, descr=DRILL FLUID DENSITY)],\n",
       " 'Version': [HeaderItem(mnemonic=VERS, unit=, value=2.0, descr=CWLS LOG ASCII STANDARD -V...),\n",
       "  HeaderItem(mnemonic=WRAP, unit=, value=NO, descr=ONE LINE PER DEPTH STEP)],\n",
       " 'Well': [HeaderItem(mnemonic=STRT, unit=M, value=1670.0, descr=START DEPTH),\n",
       "  HeaderItem(mnemonic=STOP, unit=M, value=1660.0, descr=STOP DEPTH),\n",
       "  HeaderItem(mnemonic=STEP, unit=M, value=-0.125, descr=STEP),\n",
       "  HeaderItem(mnemonic=NULL, unit=, value=-999.25, descr=NULL VALUE),\n",
       "  HeaderItem(mnemonic=COMP, unit=, value=ANY OIL COMPANY INC., descr=COMPANY),\n",
       "  HeaderItem(mnemonic=WELL, unit=, value=AAAAA_2, descr=WELL),\n",
       "  HeaderItem(mnemonic=FLD, unit=, value=WILDCAT, descr=FIELD),\n",
       "  HeaderItem(mnemonic=LOC, unit=, value=12-34-12-34W5M, descr=LOCATION),\n",
       "  HeaderItem(mnemonic=PROV, unit=, value=ALBERTA, descr=PROVINCE),\n",
       "  HeaderItem(mnemonic=SRVC, unit=, value=ANY LOGGING COMPANY INC., descr=SERVI...),\n",
       "  HeaderItem(mnemonic=DATE, unit=, value=13-DEC-86, descr=LOG DATE),\n",
       "  HeaderItem(mnemonic=UWI, unit=, value=100123401234W500, descr=UNIQUE WELL ID)]}"
      ]
     },
     "execution_count": 3,
     "metadata": {},
     "output_type": "execute_result"
    }
   ],
   "source": [
    "las.header"
   ]
  },
  {
   "cell_type": "code",
   "execution_count": 4,
   "metadata": {},
   "outputs": [
    {
     "data": {
      "text/plain": [
       "numpy.ndarray"
      ]
     },
     "execution_count": 4,
     "metadata": {},
     "output_type": "execute_result"
    }
   ],
   "source": [
    "type (las.data)"
   ]
  },
  {
   "cell_type": "code",
   "execution_count": 5,
   "metadata": {},
   "outputs": [
    {
     "data": {
      "text/plain": [
       "(3, 8)"
      ]
     },
     "execution_count": 5,
     "metadata": {},
     "output_type": "execute_result"
    }
   ],
   "source": [
    "las.data.shape"
   ]
  },
  {
   "cell_type": "code",
   "execution_count": 7,
   "metadata": {},
   "outputs": [
    {
     "name": "stdout",
     "output_type": "stream",
     "text": [
      "DEPT\n",
      "M\n",
      "[1670.    1669.875 1669.75 ]\n",
      "\n",
      "\n",
      "DT\n",
      "US/M\n",
      "[123.45 123.45 123.45]\n",
      "\n",
      "\n",
      "RHOB\n",
      "K/M3\n",
      "[2550. 2550. 2550.]\n",
      "\n",
      "\n",
      "NPHI\n",
      "V/V\n",
      "[0.45 0.45 0.45]\n",
      "\n",
      "\n",
      "SFLU\n",
      "OHMM\n",
      "[123.45 123.45 123.45]\n",
      "\n",
      "\n",
      "SFLA\n",
      "OHMM\n",
      "[123.45 123.45 123.45]\n",
      "\n",
      "\n",
      "ILM\n",
      "OHMM\n",
      "[110.2 110.2 110.2]\n",
      "\n",
      "\n",
      "ILD\n",
      "OHMM\n",
      "[105.6 105.6 105.6]\n",
      "\n",
      "\n"
     ]
    }
   ],
   "source": [
    "for curve in las.curves:\n",
    "    print(curve.mnemonic)\n",
    "    print(curve.unit)\n",
    "    print(curve.data)\n",
    "    print(\"\\n\")"
   ]
  },
  {
   "cell_type": "code",
   "execution_count": null,
   "metadata": {},
   "outputs": [],
   "source": []
  }
 ],
 "metadata": {
  "kernelspec": {
   "display_name": "Python 3",
   "language": "python",
   "name": "python3"
  },
  "language_info": {
   "codemirror_mode": {
    "name": "ipython",
    "version": 3
   },
   "file_extension": ".py",
   "mimetype": "text/x-python",
   "name": "python",
   "nbconvert_exporter": "python",
   "pygments_lexer": "ipython3",
   "version": "3.6.8"
  }
 },
 "nbformat": 4,
 "nbformat_minor": 2
}
